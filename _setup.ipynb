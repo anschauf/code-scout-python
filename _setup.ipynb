{
 "cells": [
  {
   "cell_type": "code",
   "execution_count": 3,
   "id": "db7f2370-bee9-451c-a1ac-8c00615e8fb5",
   "metadata": {},
   "outputs": [
    {
     "name": "stdout",
     "output_type": "stream",
     "text": [
      "Requirement already satisfied: beartype in /opt/conda/lib/python3.10/site-packages (from -r requirements.txt (line 2)) (0.11.0)\n",
      "Requirement already satisfied: loguru in /opt/conda/lib/python3.10/site-packages (from -r requirements.txt (line 3)) (0.6.0)\n",
      "Requirement already satisfied: awswrangler in /opt/conda/lib/python3.10/site-packages (from -r requirements.txt (line 4)) (2.17.0)\n",
      "Requirement already satisfied: boto3 in /opt/conda/lib/python3.10/site-packages (from -r requirements.txt (line 5)) (1.24.89)\n",
      "Requirement already satisfied: numpy in /opt/conda/lib/python3.10/site-packages (from -r requirements.txt (line 6)) (1.23.3)\n",
      "Requirement already satisfied: pandas in /opt/conda/lib/python3.10/site-packages (from -r requirements.txt (line 7)) (1.5.0)\n",
      "Requirement already satisfied: matplotlib in /opt/conda/lib/python3.10/site-packages (from -r requirements.txt (line 10)) (3.6.0)\n",
      "Collecting psycopg2-binary\n",
      "  Downloading psycopg2_binary-2.9.4-cp310-cp310-manylinux_2_24_aarch64.whl (3.4 MB)\n",
      "     ━━━━━━━━━━━━━━━━━━━━━━━━━━━━━━━━━━━━━━━━ 3.4/3.4 MB 17.4 MB/s eta 0:00:00\n",
      "Requirement already satisfied: sqlalchemy in /opt/conda/lib/python3.10/site-packages (from -r requirements.txt (line 15)) (1.4.41)\n",
      "Requirement already satisfied: python-decouple in /opt/conda/lib/python3.10/site-packages (from -r requirements.txt (line 18)) (3.6)\n",
      "Requirement already satisfied: opensearch-py<3,>=1 in /opt/conda/lib/python3.10/site-packages (from awswrangler->-r requirements.txt (line 4)) (2.0.0)\n",
      "Requirement already satisfied: requests-aws4auth<2.0.0,>=1.1.1 in /opt/conda/lib/python3.10/site-packages (from awswrangler->-r requirements.txt (line 4)) (1.1.2)\n",
      "Requirement already satisfied: redshift-connector<2.1.0,>=2.0.889 in /opt/conda/lib/python3.10/site-packages (from awswrangler->-r requirements.txt (line 4)) (2.0.909)\n",
      "Requirement already satisfied: progressbar2<5.0.0,>=4.0.0 in /opt/conda/lib/python3.10/site-packages (from awswrangler->-r requirements.txt (line 4)) (4.0.0)\n",
      "Requirement already satisfied: pg8000<2.0.0,>=1.20.0 in /opt/conda/lib/python3.10/site-packages (from awswrangler->-r requirements.txt (line 4)) (1.29.2)\n",
      "Requirement already satisfied: pyarrow<8.1.0,>=2.0.0 in /opt/conda/lib/python3.10/site-packages (from awswrangler->-r requirements.txt (line 4)) (8.0.0)\n",
      "Requirement already satisfied: botocore<2.0.0,>=1.27.11 in /opt/conda/lib/python3.10/site-packages (from awswrangler->-r requirements.txt (line 4)) (1.27.89)\n",
      "Requirement already satisfied: openpyxl<3.1.0,>=3.0.0 in /opt/conda/lib/python3.10/site-packages (from awswrangler->-r requirements.txt (line 4)) (3.0.10)\n",
      "Requirement already satisfied: jsonpath-ng<2.0.0,>=1.5.3 in /opt/conda/lib/python3.10/site-packages (from awswrangler->-r requirements.txt (line 4)) (1.5.3)\n",
      "Requirement already satisfied: backoff<3.0.0,>=1.11.1 in /opt/conda/lib/python3.10/site-packages (from awswrangler->-r requirements.txt (line 4)) (2.2.1)\n",
      "Requirement already satisfied: gremlinpython<4.0.0,>=3.5.2 in /opt/conda/lib/python3.10/site-packages (from awswrangler->-r requirements.txt (line 4)) (3.6.1)\n",
      "Requirement already satisfied: pymysql<2.0.0,>=1.0.0 in /opt/conda/lib/python3.10/site-packages (from awswrangler->-r requirements.txt (line 4)) (1.0.2)\n",
      "Requirement already satisfied: s3transfer<0.7.0,>=0.6.0 in /opt/conda/lib/python3.10/site-packages (from boto3->-r requirements.txt (line 5)) (0.6.0)\n",
      "Requirement already satisfied: jmespath<2.0.0,>=0.7.1 in /opt/conda/lib/python3.10/site-packages (from boto3->-r requirements.txt (line 5)) (1.0.1)\n",
      "Requirement already satisfied: python-dateutil>=2.8.1 in /opt/conda/lib/python3.10/site-packages (from pandas->-r requirements.txt (line 7)) (2.8.2)\n",
      "Requirement already satisfied: pytz>=2020.1 in /opt/conda/lib/python3.10/site-packages (from pandas->-r requirements.txt (line 7)) (2022.2.1)\n",
      "Requirement already satisfied: pillow>=6.2.0 in /opt/conda/lib/python3.10/site-packages (from matplotlib->-r requirements.txt (line 10)) (9.2.0)\n",
      "Requirement already satisfied: kiwisolver>=1.0.1 in /opt/conda/lib/python3.10/site-packages (from matplotlib->-r requirements.txt (line 10)) (1.4.4)\n",
      "Requirement already satisfied: packaging>=20.0 in /opt/conda/lib/python3.10/site-packages (from matplotlib->-r requirements.txt (line 10)) (21.3)\n",
      "Requirement already satisfied: cycler>=0.10 in /opt/conda/lib/python3.10/site-packages (from matplotlib->-r requirements.txt (line 10)) (0.11.0)\n",
      "Requirement already satisfied: pyparsing>=2.2.1 in /opt/conda/lib/python3.10/site-packages (from matplotlib->-r requirements.txt (line 10)) (3.0.9)\n",
      "Requirement already satisfied: contourpy>=1.0.1 in /opt/conda/lib/python3.10/site-packages (from matplotlib->-r requirements.txt (line 10)) (1.0.5)\n",
      "Requirement already satisfied: fonttools>=4.22.0 in /opt/conda/lib/python3.10/site-packages (from matplotlib->-r requirements.txt (line 10)) (4.37.4)\n",
      "Requirement already satisfied: greenlet!=0.4.17 in /opt/conda/lib/python3.10/site-packages (from sqlalchemy->-r requirements.txt (line 15)) (1.1.3)\n",
      "Requirement already satisfied: urllib3<1.27,>=1.25.4 in /opt/conda/lib/python3.10/site-packages (from botocore<2.0.0,>=1.27.11->awswrangler->-r requirements.txt (line 4)) (1.26.11)\n",
      "Requirement already satisfied: isodate<1.0.0,>=0.6.0 in /opt/conda/lib/python3.10/site-packages (from gremlinpython<4.0.0,>=3.5.2->awswrangler->-r requirements.txt (line 4)) (0.6.1)\n",
      "Requirement already satisfied: nest-asyncio in /opt/conda/lib/python3.10/site-packages (from gremlinpython<4.0.0,>=3.5.2->awswrangler->-r requirements.txt (line 4)) (1.5.6)\n",
      "Requirement already satisfied: aenum<4.0.0,>=1.4.5 in /opt/conda/lib/python3.10/site-packages (from gremlinpython<4.0.0,>=3.5.2->awswrangler->-r requirements.txt (line 4)) (3.1.11)\n",
      "Requirement already satisfied: aiohttp<=3.8.1,>=3.8.0 in /opt/conda/lib/python3.10/site-packages (from gremlinpython<4.0.0,>=3.5.2->awswrangler->-r requirements.txt (line 4)) (3.8.1)\n",
      "Requirement already satisfied: six in /opt/conda/lib/python3.10/site-packages (from jsonpath-ng<2.0.0,>=1.5.3->awswrangler->-r requirements.txt (line 4)) (1.16.0)\n",
      "Requirement already satisfied: decorator in /opt/conda/lib/python3.10/site-packages (from jsonpath-ng<2.0.0,>=1.5.3->awswrangler->-r requirements.txt (line 4)) (5.1.1)\n",
      "Requirement already satisfied: ply in /opt/conda/lib/python3.10/site-packages (from jsonpath-ng<2.0.0,>=1.5.3->awswrangler->-r requirements.txt (line 4)) (3.11)\n",
      "Requirement already satisfied: et-xmlfile in /opt/conda/lib/python3.10/site-packages (from openpyxl<3.1.0,>=3.0.0->awswrangler->-r requirements.txt (line 4)) (1.1.0)\n",
      "Requirement already satisfied: requests<3.0.0,>=2.4.0 in /opt/conda/lib/python3.10/site-packages (from opensearch-py<3,>=1->awswrangler->-r requirements.txt (line 4)) (2.28.1)\n",
      "Requirement already satisfied: certifi in /opt/conda/lib/python3.10/site-packages (from opensearch-py<3,>=1->awswrangler->-r requirements.txt (line 4)) (2022.9.24)\n",
      "Requirement already satisfied: scramp>=1.4.1 in /opt/conda/lib/python3.10/site-packages (from pg8000<2.0.0,>=1.20.0->awswrangler->-r requirements.txt (line 4)) (1.4.1)\n",
      "Requirement already satisfied: python-utils>=3.0.0 in /opt/conda/lib/python3.10/site-packages (from progressbar2<5.0.0,>=4.0.0->awswrangler->-r requirements.txt (line 4)) (3.3.3)\n",
      "Requirement already satisfied: beautifulsoup4<5.0.0,>=4.7.0 in /opt/conda/lib/python3.10/site-packages (from redshift-connector<2.1.0,>=2.0.889->awswrangler->-r requirements.txt (line 4)) (4.11.1)\n",
      "Requirement already satisfied: lxml>=4.6.5 in /opt/conda/lib/python3.10/site-packages (from redshift-connector<2.1.0,>=2.0.889->awswrangler->-r requirements.txt (line 4)) (4.8.0)\n",
      "Requirement already satisfied: setuptools in /opt/conda/lib/python3.10/site-packages (from redshift-connector<2.1.0,>=2.0.889->awswrangler->-r requirements.txt (line 4)) (65.4.0)\n",
      "Requirement already satisfied: async-timeout<5.0,>=4.0.0a3 in /opt/conda/lib/python3.10/site-packages (from aiohttp<=3.8.1,>=3.8.0->gremlinpython<4.0.0,>=3.5.2->awswrangler->-r requirements.txt (line 4)) (4.0.2)\n",
      "Requirement already satisfied: multidict<7.0,>=4.5 in /opt/conda/lib/python3.10/site-packages (from aiohttp<=3.8.1,>=3.8.0->gremlinpython<4.0.0,>=3.5.2->awswrangler->-r requirements.txt (line 4)) (6.0.2)\n",
      "Requirement already satisfied: frozenlist>=1.1.1 in /opt/conda/lib/python3.10/site-packages (from aiohttp<=3.8.1,>=3.8.0->gremlinpython<4.0.0,>=3.5.2->awswrangler->-r requirements.txt (line 4)) (1.3.1)\n",
      "Requirement already satisfied: yarl<2.0,>=1.0 in /opt/conda/lib/python3.10/site-packages (from aiohttp<=3.8.1,>=3.8.0->gremlinpython<4.0.0,>=3.5.2->awswrangler->-r requirements.txt (line 4)) (1.8.1)\n",
      "Requirement already satisfied: aiosignal>=1.1.2 in /opt/conda/lib/python3.10/site-packages (from aiohttp<=3.8.1,>=3.8.0->gremlinpython<4.0.0,>=3.5.2->awswrangler->-r requirements.txt (line 4)) (1.2.0)\n",
      "Requirement already satisfied: charset-normalizer<3.0,>=2.0 in /opt/conda/lib/python3.10/site-packages (from aiohttp<=3.8.1,>=3.8.0->gremlinpython<4.0.0,>=3.5.2->awswrangler->-r requirements.txt (line 4)) (2.1.1)\n",
      "Requirement already satisfied: attrs>=17.3.0 in /opt/conda/lib/python3.10/site-packages (from aiohttp<=3.8.1,>=3.8.0->gremlinpython<4.0.0,>=3.5.2->awswrangler->-r requirements.txt (line 4)) (22.1.0)\n",
      "Requirement already satisfied: soupsieve>1.2 in /opt/conda/lib/python3.10/site-packages (from beautifulsoup4<5.0.0,>=4.7.0->redshift-connector<2.1.0,>=2.0.889->awswrangler->-r requirements.txt (line 4)) (2.3.2.post1)\n",
      "Requirement already satisfied: idna<4,>=2.5 in /opt/conda/lib/python3.10/site-packages (from requests<3.0.0,>=2.4.0->opensearch-py<3,>=1->awswrangler->-r requirements.txt (line 4)) (3.4)\n",
      "Requirement already satisfied: asn1crypto>=1.4.0 in /opt/conda/lib/python3.10/site-packages (from scramp>=1.4.1->pg8000<2.0.0,>=1.20.0->awswrangler->-r requirements.txt (line 4)) (1.5.1)\n",
      "Installing collected packages: psycopg2-binary\n",
      "Successfully installed psycopg2-binary-2.9.4\n"
     ]
    },
    {
     "data": {
      "text/plain": [
       "0"
      ]
     },
     "execution_count": 3,
     "metadata": {},
     "output_type": "execute_result"
    }
   ],
   "source": [
    "import os\n",
    "os.system('PIP_CONSTRAINT=constraints.txt; pip3 install -r requirements.txt')"
   ]
  },
  {
   "cell_type": "code",
   "execution_count": 5,
   "id": "d1f6a798",
   "metadata": {
    "collapsed": false,
    "jupyter": {
     "outputs_hidden": false
    }
   },
   "outputs": [
    {
     "name": "stdout",
     "output_type": "stream",
     "text": [
      "1.24.89\n"
     ]
    }
   ],
   "source": [
    "import boto3\n",
    "print(boto3.__version__)"
   ]
  }
 ],
 "metadata": {
  "kernelspec": {
   "display_name": "Python 3 (ipykernel)",
   "language": "python",
   "name": "python3"
  },
  "language_info": {
   "codemirror_mode": {
    "name": "ipython",
    "version": 3
   },
   "file_extension": ".py",
   "mimetype": "text/x-python",
   "name": "python",
   "nbconvert_exporter": "python",
   "pygments_lexer": "ipython3",
   "version": "3.10.6"
  }
 },
 "nbformat": 4,
 "nbformat_minor": 5
}
