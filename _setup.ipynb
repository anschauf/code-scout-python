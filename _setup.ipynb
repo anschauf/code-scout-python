{
 "cells": [
  {
   "cell_type": "code",
   "execution_count": 1,
   "id": "db7f2370-bee9-451c-a1ac-8c00615e8fb5",
   "metadata": {},
   "outputs": [
    {
     "name": "stdout",
     "output_type": "stream",
     "text": [
      "Collecting beartype\n",
      "  Downloading beartype-0.11.0-py3-none-any.whl (702 kB)\n",
      "     ━━━━━━━━━━━━━━━━━━━━━━━━━━━━━━━━━━━━━━━ 702.5/702.5 kB 9.0 MB/s eta 0:00:00\n",
      "Collecting loguru\n",
      "  Downloading loguru-0.6.0-py3-none-any.whl (58 kB)\n",
      "     ━━━━━━━━━━━━━━━━━━━━━━━━━━━━━━━━━━━━━━━━ 58.3/58.3 kB 18.3 MB/s eta 0:00:00\n",
      "Collecting awswrangler\n",
      "  Downloading awswrangler-2.17.0-py3-none-any.whl (251 kB)\n",
      "     ━━━━━━━━━━━━━━━━━━━━━━━━━━━━━━━━━━━━━━ 251.6/251.6 kB 17.2 MB/s eta 0:00:00\n",
      "Collecting boto3\n",
      "  Downloading boto3-1.24.89-py3-none-any.whl (132 kB)\n",
      "     ━━━━━━━━━━━━━━━━━━━━━━━━━━━━━━━━━━━━━━ 132.5/132.5 kB 15.9 MB/s eta 0:00:00\n",
      "Requirement already satisfied: numpy in /opt/conda/lib/python3.10/site-packages (from -r requirements.txt (line 6)) (1.23.3)\n",
      "Requirement already satisfied: pandas in /opt/conda/lib/python3.10/site-packages (from -r requirements.txt (line 7)) (1.5.0)\n",
      "Requirement already satisfied: matplotlib in /opt/conda/lib/python3.10/site-packages (from -r requirements.txt (line 10)) (3.6.0)\n",
      "Collecting backoff<3.0.0,>=1.11.1\n",
      "  Downloading backoff-2.2.1-py3-none-any.whl (15 kB)\n",
      "Collecting botocore<2.0.0,>=1.27.11\n",
      "  Downloading botocore-1.27.89-py3-none-any.whl (9.2 MB)\n",
      "     ━━━━━━━━━━━━━━━━━━━━━━━━━━━━━━━━━━━━━━━━ 9.2/9.2 MB 21.7 MB/s eta 0:00:00\n",
      "Collecting progressbar2<5.0.0,>=4.0.0\n",
      "  Downloading progressbar2-4.0.0-py2.py3-none-any.whl (26 kB)\n",
      "Collecting openpyxl<3.1.0,>=3.0.0\n",
      "  Downloading openpyxl-3.0.10-py2.py3-none-any.whl (242 kB)\n",
      "     ━━━━━━━━━━━━━━━━━━━━━━━━━━━━━━━━━━━━━━ 242.1/242.1 kB 19.1 MB/s eta 0:00:00\n",
      "Collecting gremlinpython<4.0.0,>=3.5.2\n",
      "  Downloading gremlinpython-3.6.1-py2.py3-none-any.whl (73 kB)\n",
      "     ━━━━━━━━━━━━━━━━━━━━━━━━━━━━━━━━━━━━━━━━ 73.3/73.3 kB 7.9 MB/s eta 0:00:00\n",
      "Collecting pyarrow<8.1.0,>=2.0.0\n",
      "  Downloading pyarrow-8.0.0-cp310-cp310-manylinux_2_17_aarch64.manylinux2014_aarch64.whl (27.2 MB)\n",
      "     ━━━━━━━━━━━━━━━━━━━━━━━━━━━━━━━━━━━━━━━━ 27.2/27.2 MB 19.0 MB/s eta 0:00:00\n",
      "Collecting requests-aws4auth<2.0.0,>=1.1.1\n",
      "  Downloading requests_aws4auth-1.1.2-py2.py3-none-any.whl (24 kB)\n",
      "Collecting pg8000<2.0.0,>=1.20.0\n",
      "  Downloading pg8000-1.29.2-py3-none-any.whl (34 kB)\n",
      "Collecting opensearch-py<3,>=1\n",
      "  Downloading opensearch_py-2.0.0-py2.py3-none-any.whl (204 kB)\n",
      "     ━━━━━━━━━━━━━━━━━━━━━━━━━━━━━━━━━━━━━━ 204.6/204.6 kB 19.8 MB/s eta 0:00:00\n",
      "Collecting redshift-connector<2.1.0,>=2.0.889\n",
      "  Downloading redshift_connector-2.0.909-py3-none-any.whl (112 kB)\n",
      "     ━━━━━━━━━━━━━━━━━━━━━━━━━━━━━━━━━━━━━━ 112.1/112.1 kB 12.0 MB/s eta 0:00:00\n",
      "Collecting pymysql<2.0.0,>=1.0.0\n",
      "  Downloading PyMySQL-1.0.2-py3-none-any.whl (43 kB)\n",
      "     ━━━━━━━━━━━━━━━━━━━━━━━━━━━━━━━━━━━━━━━━ 43.8/43.8 kB 14.8 MB/s eta 0:00:00\n",
      "Collecting jsonpath-ng<2.0.0,>=1.5.3\n",
      "  Downloading jsonpath_ng-1.5.3-py3-none-any.whl (29 kB)\n",
      "Collecting jmespath<2.0.0,>=0.7.1\n",
      "  Downloading jmespath-1.0.1-py3-none-any.whl (20 kB)\n",
      "Collecting s3transfer<0.7.0,>=0.6.0\n",
      "  Downloading s3transfer-0.6.0-py3-none-any.whl (79 kB)\n",
      "     ━━━━━━━━━━━━━━━━━━━━━━━━━━━━━━━━━━━━━━━━ 79.6/79.6 kB 20.6 MB/s eta 0:00:00\n",
      "Requirement already satisfied: python-dateutil>=2.8.1 in /opt/conda/lib/python3.10/site-packages (from pandas->-r requirements.txt (line 7)) (2.8.2)\n",
      "Requirement already satisfied: pytz>=2020.1 in /opt/conda/lib/python3.10/site-packages (from pandas->-r requirements.txt (line 7)) (2022.2.1)\n",
      "Requirement already satisfied: kiwisolver>=1.0.1 in /opt/conda/lib/python3.10/site-packages (from matplotlib->-r requirements.txt (line 10)) (1.4.4)\n",
      "Requirement already satisfied: cycler>=0.10 in /opt/conda/lib/python3.10/site-packages (from matplotlib->-r requirements.txt (line 10)) (0.11.0)\n",
      "Requirement already satisfied: pyparsing>=2.2.1 in /opt/conda/lib/python3.10/site-packages (from matplotlib->-r requirements.txt (line 10)) (3.0.9)\n",
      "Requirement already satisfied: fonttools>=4.22.0 in /opt/conda/lib/python3.10/site-packages (from matplotlib->-r requirements.txt (line 10)) (4.37.4)\n",
      "Requirement already satisfied: contourpy>=1.0.1 in /opt/conda/lib/python3.10/site-packages (from matplotlib->-r requirements.txt (line 10)) (1.0.5)\n",
      "Requirement already satisfied: packaging>=20.0 in /opt/conda/lib/python3.10/site-packages (from matplotlib->-r requirements.txt (line 10)) (21.3)\n",
      "Requirement already satisfied: pillow>=6.2.0 in /opt/conda/lib/python3.10/site-packages (from matplotlib->-r requirements.txt (line 10)) (9.2.0)\n",
      "Requirement already satisfied: urllib3<1.27,>=1.25.4 in /opt/conda/lib/python3.10/site-packages (from botocore<2.0.0,>=1.27.11->awswrangler->-r requirements.txt (line 4)) (1.26.11)\n",
      "Requirement already satisfied: nest-asyncio in /opt/conda/lib/python3.10/site-packages (from gremlinpython<4.0.0,>=3.5.2->awswrangler->-r requirements.txt (line 4)) (1.5.6)\n",
      "Collecting aiohttp<=3.8.1,>=3.8.0\n",
      "  Downloading aiohttp-3.8.1-cp310-cp310-manylinux_2_17_aarch64.manylinux2014_aarch64.whl (1.2 MB)\n",
      "     ━━━━━━━━━━━━━━━━━━━━━━━━━━━━━━━━━━━━━━━━ 1.2/1.2 MB 17.9 MB/s eta 0:00:00\n",
      "Collecting aenum<4.0.0,>=1.4.5\n",
      "  Downloading aenum-3.1.11-py3-none-any.whl (131 kB)\n",
      "     ━━━━━━━━━━━━━━━━━━━━━━━━━━━━━━━━━━━━━━ 131.5/131.5 kB 27.3 MB/s eta 0:00:00\n",
      "Collecting isodate<1.0.0,>=0.6.0\n",
      "  Downloading isodate-0.6.1-py2.py3-none-any.whl (41 kB)\n",
      "     ━━━━━━━━━━━━━━━━━━━━━━━━━━━━━━━━━━━━━━━━ 41.7/41.7 kB 7.8 MB/s eta 0:00:00\n",
      "Requirement already satisfied: decorator in /opt/conda/lib/python3.10/site-packages (from jsonpath-ng<2.0.0,>=1.5.3->awswrangler->-r requirements.txt (line 4)) (5.1.1)\n",
      "Requirement already satisfied: six in /opt/conda/lib/python3.10/site-packages (from jsonpath-ng<2.0.0,>=1.5.3->awswrangler->-r requirements.txt (line 4)) (1.16.0)\n",
      "Collecting ply\n",
      "  Downloading ply-3.11-py2.py3-none-any.whl (49 kB)\n",
      "     ━━━━━━━━━━━━━━━━━━━━━━━━━━━━━━━━━━━━━━━━ 49.6/49.6 kB 13.9 MB/s eta 0:00:00\n",
      "Collecting et-xmlfile\n",
      "  Downloading et_xmlfile-1.1.0-py3-none-any.whl (4.7 kB)\n",
      "Requirement already satisfied: certifi in /opt/conda/lib/python3.10/site-packages (from opensearch-py<3,>=1->awswrangler->-r requirements.txt (line 4)) (2022.9.24)\n",
      "Requirement already satisfied: requests<3.0.0,>=2.4.0 in /opt/conda/lib/python3.10/site-packages (from opensearch-py<3,>=1->awswrangler->-r requirements.txt (line 4)) (2.28.1)\n",
      "Collecting scramp>=1.4.1\n",
      "  Downloading scramp-1.4.1-py3-none-any.whl (8.5 kB)\n",
      "Collecting python-utils>=3.0.0\n",
      "  Downloading python_utils-3.3.3-py2.py3-none-any.whl (23 kB)\n",
      "Requirement already satisfied: lxml>=4.6.5 in /opt/conda/lib/python3.10/site-packages (from redshift-connector<2.1.0,>=2.0.889->awswrangler->-r requirements.txt (line 4)) (4.8.0)\n",
      "Requirement already satisfied: setuptools in /opt/conda/lib/python3.10/site-packages (from redshift-connector<2.1.0,>=2.0.889->awswrangler->-r requirements.txt (line 4)) (65.4.0)\n",
      "Requirement already satisfied: beautifulsoup4<5.0.0,>=4.7.0 in /opt/conda/lib/python3.10/site-packages (from redshift-connector<2.1.0,>=2.0.889->awswrangler->-r requirements.txt (line 4)) (4.11.1)\n",
      "Collecting multidict<7.0,>=4.5\n",
      "  Downloading multidict-6.0.2-cp310-cp310-manylinux_2_17_aarch64.manylinux2014_aarch64.whl (116 kB)\n",
      "     ━━━━━━━━━━━━━━━━━━━━━━━━━━━━━━━━━━━━━━ 116.6/116.6 kB 15.1 MB/s eta 0:00:00\n",
      "Collecting async-timeout<5.0,>=4.0.0a3\n",
      "  Downloading async_timeout-4.0.2-py3-none-any.whl (5.8 kB)\n",
      "Requirement already satisfied: attrs>=17.3.0 in /opt/conda/lib/python3.10/site-packages (from aiohttp<=3.8.1,>=3.8.0->gremlinpython<4.0.0,>=3.5.2->awswrangler->-r requirements.txt (line 4)) (22.1.0)\n",
      "Requirement already satisfied: charset-normalizer<3.0,>=2.0 in /opt/conda/lib/python3.10/site-packages (from aiohttp<=3.8.1,>=3.8.0->gremlinpython<4.0.0,>=3.5.2->awswrangler->-r requirements.txt (line 4)) (2.1.1)\n",
      "Collecting frozenlist>=1.1.1\n",
      "  Downloading frozenlist-1.3.1-cp310-cp310-manylinux_2_17_aarch64.manylinux2014_aarch64.whl (148 kB)\n",
      "     ━━━━━━━━━━━━━━━━━━━━━━━━━━━━━━━━━━━━━━ 148.1/148.1 kB 19.9 MB/s eta 0:00:00\n",
      "Collecting yarl<2.0,>=1.0\n",
      "  Downloading yarl-1.8.1-cp310-cp310-manylinux_2_17_aarch64.manylinux2014_aarch64.whl (257 kB)\n",
      "     ━━━━━━━━━━━━━━━━━━━━━━━━━━━━━━━━━━━━━━ 257.2/257.2 kB 19.9 MB/s eta 0:00:00\n",
      "Collecting aiosignal>=1.1.2\n",
      "  Downloading aiosignal-1.2.0-py3-none-any.whl (8.2 kB)\n",
      "Requirement already satisfied: soupsieve>1.2 in /opt/conda/lib/python3.10/site-packages (from beautifulsoup4<5.0.0,>=4.7.0->redshift-connector<2.1.0,>=2.0.889->awswrangler->-r requirements.txt (line 4)) (2.3.2.post1)\n",
      "Requirement already satisfied: idna<4,>=2.5 in /opt/conda/lib/python3.10/site-packages (from requests<3.0.0,>=2.4.0->opensearch-py<3,>=1->awswrangler->-r requirements.txt (line 4)) (3.4)\n",
      "Collecting asn1crypto>=1.4.0\n",
      "  Downloading asn1crypto-1.5.1-py2.py3-none-any.whl (105 kB)\n",
      "     ━━━━━━━━━━━━━━━━━━━━━━━━━━━━━━━━━━━━━━ 105.0/105.0 kB 16.5 MB/s eta 0:00:00\n",
      "Installing collected packages: ply, asn1crypto, aenum, scramp, python-utils, pymysql, pyarrow, multidict, loguru, jsonpath-ng, jmespath, isodate, frozenlist, et-xmlfile, beartype, backoff, async-timeout, yarl, requests-aws4auth, progressbar2, pg8000, opensearch-py, openpyxl, botocore, aiosignal, s3transfer, aiohttp, gremlinpython, boto3, redshift-connector, awswrangler\n",
      "Successfully installed aenum-3.1.11 aiohttp-3.8.1 aiosignal-1.2.0 asn1crypto-1.5.1 async-timeout-4.0.2 awswrangler-2.17.0 backoff-2.2.1 beartype-0.11.0 boto3-1.24.89 botocore-1.27.89 et-xmlfile-1.1.0 frozenlist-1.3.1 gremlinpython-3.6.1 isodate-0.6.1 jmespath-1.0.1 jsonpath-ng-1.5.3 loguru-0.6.0 multidict-6.0.2 openpyxl-3.0.10 opensearch-py-2.0.0 pg8000-1.29.2 ply-3.11 progressbar2-4.0.0 pyarrow-8.0.0 pymysql-1.0.2 python-utils-3.3.3 redshift-connector-2.0.909 requests-aws4auth-1.1.2 s3transfer-0.6.0 scramp-1.4.1 yarl-1.8.1\n"
     ]
    },
    {
     "data": {
      "text/plain": [
       "0"
      ]
     },
     "execution_count": 1,
     "metadata": {},
     "output_type": "execute_result"
    }
   ],
   "source": [
    "import os\n",
    "os.system('PIP_CONSTRAINT=constraints.txt; pip3 install -r requirements.txt')"
   ]
  },
  {
   "cell_type": "code",
   "execution_count": 2,
   "id": "98b05459",
   "metadata": {
    "collapsed": false,
    "jupyter": {
     "outputs_hidden": false
    }
   },
   "outputs": [
    {
     "name": "stdout",
     "output_type": "stream",
     "text": [
      "1.24.89\n"
     ]
    }
   ],
   "source": [
    "import boto3\n",
    "print(boto3.__version__)"
   ]
  },
  {
   "cell_type": "code",
   "execution_count": null,
   "id": "fae89738-3c36-4c60-9e95-4ee5905aa291",
   "metadata": {},
   "outputs": [],
   "source": []
  }
 ],
 "metadata": {
  "kernelspec": {
   "display_name": "Python 3 (ipykernel)",
   "language": "python",
   "name": "python3"
  },
  "language_info": {
   "codemirror_mode": {
    "name": "ipython",
    "version": 3
   },
   "file_extension": ".py",
   "mimetype": "text/x-python",
   "name": "python",
   "nbconvert_exporter": "python",
   "pygments_lexer": "ipython3",
   "version": "3.10.6"
  }
 },
 "nbformat": 4,
 "nbformat_minor": 5
}
