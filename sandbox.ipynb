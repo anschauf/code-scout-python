{
 "cells": [
  {
   "cell_type": "code",
   "execution_count": 1,
   "id": "eb958812-e8c9-4f72-9f91-a36fcbba8735",
   "metadata": {},
   "outputs": [
    {
     "name": "stderr",
     "output_type": "stream",
     "text": [
      "/home/jovyan/work/src/models/BfsCase.py:5: SAWarning: On class 'BfsCase', Column object 'drg_cost_weight' named directly multiple times, only one will be used: drg_cost_weight, effective_cost_weight. Consider using orm.synonym instead\n",
      "  class BfsCase(Base):\n"
     ]
    }
   ],
   "source": [
    "import src.service.bfs_cases_db_service as bfs_db"
   ]
  },
  {
   "cell_type": "code",
   "execution_count": 2,
   "id": "653496f2-c2ea-4864-8a3f-3bb8fbf9872e",
   "metadata": {},
   "outputs": [],
   "source": [
    "    clinics = bfs_db.get_clinics()"
   ]
  },
  {
   "cell_type": "code",
   "execution_count": 3,
   "id": "a01d470c-cc34-4a07-9285-5ac78d623787",
   "metadata": {},
   "outputs": [
    {
     "name": "stdout",
     "output_type": "stream",
     "text": [
      "17\n"
     ]
    }
   ],
   "source": [
    "print(len(clinics))"
   ]
  },
  {
   "cell_type": "code",
   "execution_count": null,
   "id": "ffb8cc48-ec03-4a6d-9c9e-7a6be45cdea6",
   "metadata": {},
   "outputs": [],
   "source": []
  }
 ],
 "metadata": {
  "kernelspec": {
   "display_name": "Python 3 (ipykernel)",
   "language": "python",
   "name": "python3"
  },
  "language_info": {
   "codemirror_mode": {
    "name": "ipython",
    "version": 3
   },
   "file_extension": ".py",
   "mimetype": "text/x-python",
   "name": "python",
   "nbconvert_exporter": "python",
   "pygments_lexer": "ipython3",
   "version": "3.10.6"
  }
 },
 "nbformat": 4,
 "nbformat_minor": 5
}
