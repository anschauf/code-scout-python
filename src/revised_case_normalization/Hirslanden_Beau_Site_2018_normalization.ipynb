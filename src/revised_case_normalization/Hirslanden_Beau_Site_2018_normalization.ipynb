{
 "cells": [
  {
   "cell_type": "markdown",
   "id": "4a803118-2413-461f-9e51-b0f8e88439b3",
   "metadata": {
    "pycharm": {
     "name": "#%% md\n"
    }
   },
   "source": [
    "# Revised case normalization for Hirslanden Beau Site 2018\n",
    "\n",
    "This jupyter notebook is used to normalize the revised case from DtoD.\n",
    "\n",
    "Before runing the notebook, raw_data folder need to added to the root directory\n",
    "\n",
    "The raw data folder can be find here: https://aimedic.sharepoint.com/:f:/s/dev/Ejx_A1dg8gtPumFknOWOh0oBi6ofx9hctYiq3c-0gH9vYA?e=UmcgrS\n",
    "\n",
    "Normalization:\n",
    "\n",
    "-  Convert the column names to the name used in the Database\n",
    "-  Delete cases which is empty in the follow columns VALIDATION_COLS: 'case_id', 'patient_id', 'gender', 'age_years', duration_of_stay',  'pccl',  'drg'\n",
    "- choose neccessary columns COLS_TO_SELECT: case_id, patient_id, gender, age_years, duration_of_stay, pccl, drg, pd, bfs_code, added_icds, removed_icds, added_chops, removed_chops\n",
    "- still need to do (TODO):    \n",
    "    -  Check CHOP upper/lowercase\n",
    "    -  Check whether the PD changed. If it did, new and old PD are stored together with added and removed ICDs, respectively\n",
    "    -  Pad case IDs with 0s\n",
    "    -  Write function to validate cases\n"
   ]
  },
  {
   "cell_type": "code",
   "execution_count": 1,
   "id": "2acf8333-0c08-4555-b245-1f378f5b9f1f",
   "metadata": {
    "pycharm": {
     "is_executing": true,
     "name": "#%%\n"
    }
   },
   "outputs": [
    {
     "name": "stderr",
     "output_type": "stream",
     "text": [
      "/home/jovyan/work/src/models/BfsCase.py:5: SAWarning: On class 'BfsCase', Column object 'drg_cost_weight' named directly multiple times, only one will be used: drg_cost_weight, effective_cost_weight. Consider using orm.synonym instead\n",
      "  class BfsCase(Base):\n"
     ]
    }
   ],
   "source": [
    "import pandas as pd\n",
    "import os\n",
    "from dataclasses import dataclass, field\n",
    "import sys\n",
    "sys.path.insert(0, '/home/jovyan/work')\n",
    "sys.path.insert(1, '/home/jovyan/work/src')\n",
    "sys.path.insert(2, '/home/jovyan/work/src/service')\n",
    "\n",
    "from service import bfs_cases_db_service as bfs_db\n",
    "\n",
    "from py.global_configs import *\n",
    "from py.normalize import normalize"
   ]
  },
  {
   "cell_type": "code",
   "execution_count": 2,
   "id": "7afa747d-1bf5-4644-9e9e-847a96e08dc2",
   "metadata": {},
   "outputs": [
    {
     "data": {
      "text/plain": [
       "dict_keys(['Hirslanden Salem 2017', 'Hirslanden Beau Site 2017', 'Hirslanden Linde 2017', 'Hirslanden Linde 2018', 'Hirslanden Salem 2018', 'Hirslanden Beau Site 2018'])"
      ]
     },
     "execution_count": 2,
     "metadata": {},
     "output_type": "execute_result"
    }
   ],
   "source": [
    "# check all the file name\n",
    "\n",
    "FILES_TO_ANALYZE.keys()\n"
   ]
  },
  {
   "cell_type": "code",
   "execution_count": 3,
   "id": "3745ce47-813d-4cbe-b275-25417714a5a6",
   "metadata": {},
   "outputs": [
    {
     "data": {
      "text/plain": [
       "FileInfo(path='/home/jovyan/work/src/revised_case_normalization/raw_data/HI-Bern_Salem_Beau Site_Linde.xlsx', hospital_name_db='Hirslanden Beau Site', year='2018', sheets=['Änderungen Beau Site_ 2018'])"
      ]
     },
     "execution_count": 3,
     "metadata": {},
     "output_type": "execute_result"
    }
   ],
   "source": [
    "file = FILES_TO_ANALYZE['Hirslanden Beau Site 2018']\n",
    "file"
   ]
  },
  {
   "cell_type": "code",
   "execution_count": 4,
   "id": "9b6a51f2-b09d-4f13-8233-39e382bd56df",
   "metadata": {},
   "outputs": [
    {
     "name": "stdout",
     "output_type": "stream",
     "text": [
      "Read 26 cases for Hirslanden Beau Site 2018\n",
      "TYPES:\n",
      "case_id             string\n",
      "patient_id          string\n",
      "gender              string\n",
      "age_years            int64\n",
      "duration_of_stay     int64\n",
      "pccl                 int64\n",
      "drg                 string\n",
      "pd                  string\n",
      "bfs_code            string\n",
      "added_icds          string\n",
      "removed_icds        string\n",
      "added_chops         string\n",
      "removed_chops       string\n",
      "dtype: object\n"
     ]
    }
   ],
   "source": [
    "\n",
    "df_revised_case_d2d = normalize(file, 0)"
   ]
  },
  {
   "cell_type": "code",
   "execution_count": 5,
   "id": "c5bdeaa9-6854-4f37-9560-4525d6b30682",
   "metadata": {},
   "outputs": [
    {
     "data": {
      "text/html": [
       "<div>\n",
       "<style scoped>\n",
       "    .dataframe tbody tr th:only-of-type {\n",
       "        vertical-align: middle;\n",
       "    }\n",
       "\n",
       "    .dataframe tbody tr th {\n",
       "        vertical-align: top;\n",
       "    }\n",
       "\n",
       "    .dataframe thead th {\n",
       "        text-align: right;\n",
       "    }\n",
       "</style>\n",
       "<table border=\"1\" class=\"dataframe\">\n",
       "  <thead>\n",
       "    <tr style=\"text-align: right;\">\n",
       "      <th></th>\n",
       "      <th>case_id</th>\n",
       "      <th>patient_id</th>\n",
       "      <th>gender</th>\n",
       "      <th>age_years</th>\n",
       "      <th>duration_of_stay</th>\n",
       "      <th>pccl</th>\n",
       "      <th>drg</th>\n",
       "      <th>pd</th>\n",
       "      <th>bfs_code</th>\n",
       "      <th>added_icds</th>\n",
       "      <th>removed_icds</th>\n",
       "      <th>added_chops</th>\n",
       "      <th>removed_chops</th>\n",
       "    </tr>\n",
       "  </thead>\n",
       "  <tbody>\n",
       "    <tr>\n",
       "      <th>0</th>\n",
       "      <td>0041635636</td>\n",
       "      <td>0005050208</td>\n",
       "      <td>W</td>\n",
       "      <td>83</td>\n",
       "      <td>5</td>\n",
       "      <td>3</td>\n",
       "      <td>E65C</td>\n",
       "      <td>J4419</td>\n",
       "      <td>M100</td>\n",
       "      <td>B965</td>\n",
       "      <td>&lt;NA&gt;</td>\n",
       "      <td>&lt;NA&gt;</td>\n",
       "      <td>&lt;NA&gt;</td>\n",
       "    </tr>\n",
       "    <tr>\n",
       "      <th>1</th>\n",
       "      <td>0041647892</td>\n",
       "      <td>0005087263</td>\n",
       "      <td>W</td>\n",
       "      <td>74</td>\n",
       "      <td>11</td>\n",
       "      <td>3</td>\n",
       "      <td>F03D</td>\n",
       "      <td>I350</td>\n",
       "      <td>M200</td>\n",
       "      <td>I490</td>\n",
       "      <td>&lt;NA&gt;</td>\n",
       "      <td>9962</td>\n",
       "      <td>&lt;NA&gt;</td>\n",
       "    </tr>\n",
       "    <tr>\n",
       "      <th>2</th>\n",
       "      <td>0041656218</td>\n",
       "      <td>0022162393</td>\n",
       "      <td>M</td>\n",
       "      <td>77</td>\n",
       "      <td>11</td>\n",
       "      <td>3</td>\n",
       "      <td>F03D</td>\n",
       "      <td>I350</td>\n",
       "      <td>M200</td>\n",
       "      <td>J61,D689</td>\n",
       "      <td>&lt;NA&gt;</td>\n",
       "      <td>&lt;NA&gt;</td>\n",
       "      <td>&lt;NA&gt;</td>\n",
       "    </tr>\n",
       "    <tr>\n",
       "      <th>3</th>\n",
       "      <td>0041660312</td>\n",
       "      <td>0005287267</td>\n",
       "      <td>W</td>\n",
       "      <td>54</td>\n",
       "      <td>30</td>\n",
       "      <td>3</td>\n",
       "      <td>G02C</td>\n",
       "      <td>K5722</td>\n",
       "      <td>M200</td>\n",
       "      <td>E43</td>\n",
       "      <td>E46</td>\n",
       "      <td>&lt;NA&gt;</td>\n",
       "      <td>&lt;NA&gt;</td>\n",
       "    </tr>\n",
       "    <tr>\n",
       "      <th>4</th>\n",
       "      <td>0041670261</td>\n",
       "      <td>0005121840</td>\n",
       "      <td>M</td>\n",
       "      <td>90</td>\n",
       "      <td>6</td>\n",
       "      <td>3</td>\n",
       "      <td>F71B</td>\n",
       "      <td>I480</td>\n",
       "      <td>M100</td>\n",
       "      <td>N183</td>\n",
       "      <td>N184</td>\n",
       "      <td>&lt;NA&gt;</td>\n",
       "      <td>&lt;NA&gt;</td>\n",
       "    </tr>\n",
       "  </tbody>\n",
       "</table>\n",
       "</div>"
      ],
      "text/plain": [
       "      case_id  patient_id gender  age_years  duration_of_stay  pccl   drg  \\\n",
       "0  0041635636  0005050208      W         83                 5     3  E65C   \n",
       "1  0041647892  0005087263      W         74                11     3  F03D   \n",
       "2  0041656218  0022162393      M         77                11     3  F03D   \n",
       "3  0041660312  0005287267      W         54                30     3  G02C   \n",
       "4  0041670261  0005121840      M         90                 6     3  F71B   \n",
       "\n",
       "      pd bfs_code added_icds removed_icds added_chops removed_chops  \n",
       "0  J4419     M100       B965         <NA>        <NA>          <NA>  \n",
       "1   I350     M200       I490         <NA>        9962          <NA>  \n",
       "2   I350     M200   J61,D689         <NA>        <NA>          <NA>  \n",
       "3  K5722     M200        E43          E46        <NA>          <NA>  \n",
       "4   I480     M100       N183         N184        <NA>          <NA>  "
      ]
     },
     "execution_count": 5,
     "metadata": {},
     "output_type": "execute_result"
    }
   ],
   "source": [
    "df_revised_case_d2d.head()"
   ]
  },
  {
   "cell_type": "markdown",
   "id": "4558e4f8",
   "metadata": {
    "pycharm": {
     "name": "#%% md\n"
    }
   },
   "source": [
    "# Match to the database\n"
   ]
  },
  {
   "cell_type": "code",
   "execution_count": 6,
   "id": "ac5bc674-a6b4-447a-a630-33d25180f9c4",
   "metadata": {},
   "outputs": [
    {
     "data": {
      "text/plain": [
       "array(['0041635636', '0041647892', '0041656218', '0041660312',\n",
       "       '0041670261', '0041622665', '0041631826', '0041632678',\n",
       "       '0041642176', '0041670429', '0041678445', '0041796989',\n",
       "       '0041718006', '0041727313', '0041740292', '0041755915',\n",
       "       '0041762114', '0041766569', '0041767906', '0041778442',\n",
       "       '0041781983', '0041830088', '0041861755', '0041863191',\n",
       "       '0041869562', '0041897876'], dtype=object)"
      ]
     },
     "execution_count": 6,
     "metadata": {},
     "output_type": "execute_result"
    }
   ],
   "source": [
    "# get the case_id from revised_case\n",
    "\n",
    "revised_case_id = df_revised_case_d2d['case_id'].values\n",
    "revised_case_id"
   ]
  },
  {
   "cell_type": "code",
   "execution_count": 7,
   "id": "01dcb99c-b01f-4808-b9c0-a450a2f3150e",
   "metadata": {},
   "outputs": [
    {
     "data": {
      "text/html": [
       "<div>\n",
       "<style scoped>\n",
       "    .dataframe tbody tr th:only-of-type {\n",
       "        vertical-align: middle;\n",
       "    }\n",
       "\n",
       "    .dataframe tbody tr th {\n",
       "        vertical-align: top;\n",
       "    }\n",
       "\n",
       "    .dataframe thead th {\n",
       "        text-align: right;\n",
       "    }\n",
       "</style>\n",
       "<table border=\"1\" class=\"dataframe\">\n",
       "  <thead>\n",
       "    <tr style=\"text-align: right;\">\n",
       "      <th></th>\n",
       "      <th>drg_cost_weight</th>\n",
       "      <th>aimedic_id</th>\n",
       "      <th>hospital_id</th>\n",
       "      <th>case_id</th>\n",
       "      <th>patient_id</th>\n",
       "      <th>age_years</th>\n",
       "      <th>age_days</th>\n",
       "      <th>gender</th>\n",
       "      <th>duration_of_stay</th>\n",
       "      <th>clinic_id</th>\n",
       "      <th>ventilation_hours</th>\n",
       "      <th>admission_weight</th>\n",
       "      <th>gestation_age</th>\n",
       "      <th>admission_date</th>\n",
       "      <th>admission_type</th>\n",
       "      <th>discharge_date</th>\n",
       "      <th>discharge_type</th>\n",
       "      <th>drg</th>\n",
       "      <th>adrg</th>\n",
       "      <th>pccl</th>\n",
       "    </tr>\n",
       "  </thead>\n",
       "  <tbody>\n",
       "    <tr>\n",
       "      <th>0</th>\n",
       "      <td>2.228</td>\n",
       "      <td>125689</td>\n",
       "      <td>6</td>\n",
       "      <td>0041622665</td>\n",
       "      <td>52E7EFDD3FDA7867</td>\n",
       "      <td>79</td>\n",
       "      <td>0</td>\n",
       "      <td>M</td>\n",
       "      <td>12</td>\n",
       "      <td>4</td>\n",
       "      <td>0</td>\n",
       "      <td>0</td>\n",
       "      <td>0</td>\n",
       "      <td>2018-01-08</td>\n",
       "      <td>01</td>\n",
       "      <td>2018-01-20</td>\n",
       "      <td>00</td>\n",
       "      <td>G17Z</td>\n",
       "      <td>G17</td>\n",
       "      <td>3</td>\n",
       "    </tr>\n",
       "    <tr>\n",
       "      <th>1</th>\n",
       "      <td>3.301</td>\n",
       "      <td>125812</td>\n",
       "      <td>6</td>\n",
       "      <td>0041631826</td>\n",
       "      <td>87192FE13E531984</td>\n",
       "      <td>59</td>\n",
       "      <td>0</td>\n",
       "      <td>M</td>\n",
       "      <td>11</td>\n",
       "      <td>4</td>\n",
       "      <td>16</td>\n",
       "      <td>0</td>\n",
       "      <td>0</td>\n",
       "      <td>2018-01-07</td>\n",
       "      <td>01</td>\n",
       "      <td>2018-01-18</td>\n",
       "      <td>00</td>\n",
       "      <td>F06D</td>\n",
       "      <td>F06</td>\n",
       "      <td>3</td>\n",
       "    </tr>\n",
       "    <tr>\n",
       "      <th>2</th>\n",
       "      <td>1.781</td>\n",
       "      <td>125826</td>\n",
       "      <td>6</td>\n",
       "      <td>0041632678</td>\n",
       "      <td>C8664A96222FC800</td>\n",
       "      <td>58</td>\n",
       "      <td>0</td>\n",
       "      <td>W</td>\n",
       "      <td>5</td>\n",
       "      <td>4</td>\n",
       "      <td>0</td>\n",
       "      <td>0</td>\n",
       "      <td>0</td>\n",
       "      <td>2018-01-17</td>\n",
       "      <td>01</td>\n",
       "      <td>2018-01-22</td>\n",
       "      <td>00</td>\n",
       "      <td>G18B</td>\n",
       "      <td>G18</td>\n",
       "      <td>3</td>\n",
       "    </tr>\n",
       "    <tr>\n",
       "      <th>3</th>\n",
       "      <td>0.671</td>\n",
       "      <td>125880</td>\n",
       "      <td>6</td>\n",
       "      <td>0041635636</td>\n",
       "      <td>EDF81030E54CC0DD</td>\n",
       "      <td>83</td>\n",
       "      <td>0</td>\n",
       "      <td>W</td>\n",
       "      <td>5</td>\n",
       "      <td>3</td>\n",
       "      <td>0</td>\n",
       "      <td>0</td>\n",
       "      <td>0</td>\n",
       "      <td>2018-01-08</td>\n",
       "      <td>01</td>\n",
       "      <td>2018-01-13</td>\n",
       "      <td>00</td>\n",
       "      <td>E65C</td>\n",
       "      <td>E65</td>\n",
       "      <td>3</td>\n",
       "    </tr>\n",
       "    <tr>\n",
       "      <th>4</th>\n",
       "      <td>1.560</td>\n",
       "      <td>125947</td>\n",
       "      <td>6</td>\n",
       "      <td>0041642176</td>\n",
       "      <td>77C1AAA07A0C492E</td>\n",
       "      <td>82</td>\n",
       "      <td>0</td>\n",
       "      <td>M</td>\n",
       "      <td>10</td>\n",
       "      <td>3</td>\n",
       "      <td>0</td>\n",
       "      <td>0</td>\n",
       "      <td>0</td>\n",
       "      <td>2018-01-12</td>\n",
       "      <td>11</td>\n",
       "      <td>2018-01-22</td>\n",
       "      <td>00</td>\n",
       "      <td>F13C</td>\n",
       "      <td>F13</td>\n",
       "      <td>3</td>\n",
       "    </tr>\n",
       "  </tbody>\n",
       "</table>\n",
       "</div>"
      ],
      "text/plain": [
       "   drg_cost_weight  aimedic_id  hospital_id     case_id        patient_id  \\\n",
       "0            2.228      125689            6  0041622665  52E7EFDD3FDA7867   \n",
       "1            3.301      125812            6  0041631826  87192FE13E531984   \n",
       "2            1.781      125826            6  0041632678  C8664A96222FC800   \n",
       "3            0.671      125880            6  0041635636  EDF81030E54CC0DD   \n",
       "4            1.560      125947            6  0041642176  77C1AAA07A0C492E   \n",
       "\n",
       "   age_years  age_days gender  duration_of_stay  clinic_id  ventilation_hours  \\\n",
       "0         79         0      M                12          4                  0   \n",
       "1         59         0      M                11          4                 16   \n",
       "2         58         0      W                 5          4                  0   \n",
       "3         83         0      W                 5          3                  0   \n",
       "4         82         0      M                10          3                  0   \n",
       "\n",
       "   admission_weight  gestation_age admission_date admission_type  \\\n",
       "0                 0              0     2018-01-08             01   \n",
       "1                 0              0     2018-01-07             01   \n",
       "2                 0              0     2018-01-17             01   \n",
       "3                 0              0     2018-01-08             01   \n",
       "4                 0              0     2018-01-12             11   \n",
       "\n",
       "  discharge_date discharge_type   drg adrg  pccl  \n",
       "0     2018-01-20             00  G17Z  G17     3  \n",
       "1     2018-01-18             00  F06D  F06     3  \n",
       "2     2018-01-22             00  G18B  G18     3  \n",
       "3     2018-01-13             00  E65C  E65     3  \n",
       "4     2018-01-22             00  F13C  F13     3  "
      ]
     },
     "execution_count": 7,
     "metadata": {},
     "output_type": "execute_result"
    }
   ],
   "source": [
    "# match to the database\n",
    "revised_case_db = bfs_db.get_bfs_cases_by_ids(revised_case_id)\n",
    "revised_case_db.head()"
   ]
  },
  {
   "cell_type": "code",
   "execution_count": 8,
   "id": "9cbccb57-930a-4882-a585-37f70e7d3e94",
   "metadata": {},
   "outputs": [
    {
     "name": "stdout",
     "output_type": "stream",
     "text": [
      "There are 26 out of 26 revised cases from DtoD that are matched with the database for Hirslanden Beau Site 2018\n"
     ]
    }
   ],
   "source": [
    "# \n",
    "print('There are {} out of {} revised cases from DtoD that are matched with the database for {} {}'.format(len(revised_case_db), len(revised_case_id), file.hospital_name_db, file.year))"
   ]
  },
  {
   "cell_type": "code",
   "execution_count": 9,
   "id": "265fbf94-6820-4b3b-8022-d699e44b35af",
   "metadata": {},
   "outputs": [],
   "source": [
    "# if we find the match cases, then we need to check if the case_id, gender, year....are match"
   ]
  },
  {
   "cell_type": "code",
   "execution_count": 10,
   "id": "80f74b41-fce4-4115-9089-8290dc76e13a",
   "metadata": {},
   "outputs": [
    {
     "data": {
      "text/html": [
       "<div>\n",
       "<style scoped>\n",
       "    .dataframe tbody tr th:only-of-type {\n",
       "        vertical-align: middle;\n",
       "    }\n",
       "\n",
       "    .dataframe tbody tr th {\n",
       "        vertical-align: top;\n",
       "    }\n",
       "\n",
       "    .dataframe thead th {\n",
       "        text-align: right;\n",
       "    }\n",
       "</style>\n",
       "<table border=\"1\" class=\"dataframe\">\n",
       "  <thead>\n",
       "    <tr style=\"text-align: right;\">\n",
       "      <th></th>\n",
       "      <th>aimedic_id</th>\n",
       "      <th>case_id</th>\n",
       "      <th>gender</th>\n",
       "      <th>age_years</th>\n",
       "    </tr>\n",
       "  </thead>\n",
       "  <tbody>\n",
       "    <tr>\n",
       "      <th>0</th>\n",
       "      <td>125689</td>\n",
       "      <td>0041622665</td>\n",
       "      <td>M</td>\n",
       "      <td>79</td>\n",
       "    </tr>\n",
       "    <tr>\n",
       "      <th>1</th>\n",
       "      <td>125812</td>\n",
       "      <td>0041631826</td>\n",
       "      <td>M</td>\n",
       "      <td>59</td>\n",
       "    </tr>\n",
       "    <tr>\n",
       "      <th>2</th>\n",
       "      <td>125826</td>\n",
       "      <td>0041632678</td>\n",
       "      <td>W</td>\n",
       "      <td>58</td>\n",
       "    </tr>\n",
       "    <tr>\n",
       "      <th>3</th>\n",
       "      <td>125880</td>\n",
       "      <td>0041635636</td>\n",
       "      <td>W</td>\n",
       "      <td>83</td>\n",
       "    </tr>\n",
       "    <tr>\n",
       "      <th>4</th>\n",
       "      <td>125947</td>\n",
       "      <td>0041642176</td>\n",
       "      <td>M</td>\n",
       "      <td>82</td>\n",
       "    </tr>\n",
       "  </tbody>\n",
       "</table>\n",
       "</div>"
      ],
      "text/plain": [
       "   aimedic_id     case_id gender  age_years\n",
       "0      125689  0041622665      M         79\n",
       "1      125812  0041631826      M         59\n",
       "2      125826  0041632678      W         58\n",
       "3      125880  0041635636      W         83\n",
       "4      125947  0041642176      M         82"
      ]
     },
     "execution_count": 10,
     "metadata": {},
     "output_type": "execute_result"
    }
   ],
   "source": [
    "revised_case_db_subset = revised_case_db[['aimedic_id', 'case_id', 'gender', 'age_years']]\n",
    "revised_case_db_subset.head()"
   ]
  },
  {
   "cell_type": "code",
   "execution_count": null,
   "id": "9353f090-5a8d-40bc-90f7-2bc97c112196",
   "metadata": {},
   "outputs": [],
   "source": []
  }
 ],
 "metadata": {
  "kernelspec": {
   "display_name": "Python 3 (ipykernel)",
   "language": "python",
   "name": "python3"
  },
  "language_info": {
   "codemirror_mode": {
    "name": "ipython",
    "version": 3
   },
   "file_extension": ".py",
   "mimetype": "text/x-python",
   "name": "python",
   "nbconvert_exporter": "python",
   "pygments_lexer": "ipython3",
   "version": "3.10.6"
  }
 },
 "nbformat": 4,
 "nbformat_minor": 5
}
