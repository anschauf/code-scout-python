{
 "cells": [
  {
   "cell_type": "markdown",
   "id": "a4e2885d",
   "metadata": {
    "tags": []
   },
   "source": [
    "# Revised case normalization for USZ 2019 (30.04.2020)\n",
    "\n",
    "Notes:\n",
    "- no case can be match on AdmNo in the year 2019"
   ]
  },
  {
   "cell_type": "code",
   "execution_count": 1,
   "id": "d097a048",
   "metadata": {
    "collapsed": false,
    "jupyter": {
     "outputs_hidden": false
    },
    "pycharm": {
     "is_executing": true
    }
   },
   "outputs": [],
   "source": [
    "import sys\n",
    "sys.path.insert(0, '/home/jovyan/work')\n",
    "\n",
    "from src.revised_case_normalization.notebook_functions.global_configs import *\n",
    "from src.revised_case_normalization.notebook_functions.normalize import normalize\n",
    "from src.revised_case_normalization.notebook_functions.revise import revise\n",
    "from src.revised_case_normalization.notebook_functions.group import group\n",
    "from src.revised_case_normalization.notebook_functions.update_db import update_db"
   ]
  },
  {
   "cell_type": "code",
   "execution_count": 2,
   "id": "4710c532",
   "metadata": {
    "collapsed": false,
    "jupyter": {
     "outputs_hidden": false
    }
   },
   "outputs": [
    {
     "name": "stdout",
     "output_type": "stream",
     "text": [
      "FileInfo(path='/home/jovyan/work/src/revised_case_normalization/raw_data/USZ_2018-2019_20200730.xlsx', hospital_name_db='USZ', year='2019', sheet='Rückmeldung_USZ_2019_30.04.2020')\n"
     ]
    }
   ],
   "source": [
    "\n",
    "file_info = FileInfo(\n",
    "         os.path.join(ROOT_DIR, 'raw_data/USZ_2018-2019_20200730.xlsx'),\n",
    "         'USZ',\n",
    "         '2019',\n",
    "         'Rückmeldung_USZ_2019_30.04.2020')\n",
    "\n",
    "print(file_info)"
   ]
  },
  {
   "cell_type": "code",
   "execution_count": 3,
   "id": "8c8b27df",
   "metadata": {
    "collapsed": false,
    "jupyter": {
     "outputs_hidden": false
    }
   },
   "outputs": [
    {
     "name": "stderr",
     "output_type": "stream",
     "text": [
      "2022-11-11 10:11:13.242 | INFO     | src.revised_case_normalization.notebook_functions.normalize:normalize:35 - Read 154 cases for USZ 2019\n",
      "2022-11-11 10:11:13.247 | INFO     | src.revised_case_normalization.notebook_functions.normalize:normalize:63 - TYPES:\n",
      "unnamed: 0           string\n",
      "case_id              object\n",
      "patient_id           object\n",
      "kkik                 string\n",
      "gender               string\n",
      "age_years             int64\n",
      "bfs_code             string\n",
      "duration_of_stay      int64\n",
      "pflegetage neu       string\n",
      "pccl                  int64\n",
      "pccl neu             string\n",
      "old_pd               string\n",
      "primary_diagnosis    string\n",
      "added_icds           string\n",
      "removed_icds         string\n",
      "added_chops          string\n",
      "removed_chops        string\n",
      "drg                  string\n",
      "drg neu              string\n",
      "cw alt               string\n",
      "cw neu               string\n",
      "cw-änderung          string\n",
      "kommentar dtod       string\n",
      "kommentar usz        string\n",
      "case_id_norm         object\n",
      "dtype: object\n",
      "2022-11-11 10:11:13.258 | INFO     | src.utils.dataframe_utils:validate_icd_codes:71 - Validated ICD codes in 'added_icds' and stored them into 'added_icds': The following 5 rows were affected:\n",
      "row 5: discarded ICDs after validation {'E1191.N133'}\n",
      "row 6: discarded ICDs after validation {'R18.K746.I982'}\n",
      "row 7: discarded ICDs after validation {'I690.Z930'}\n",
      "row 10: discarded ICDs after validation {'G8209.R471'}\n",
      "row 12: discarded ICDs after validation {'E1141.G632'}\n",
      "2022-11-11 10:11:13.265 | INFO     | src.utils.dataframe_utils:validate_icd_codes:68 - Validated ICD codes in 'removed_icds' and stored them into 'removed_icds': All rows contain valid codes\n",
      "2022-11-11 10:11:13.273 | INFO     | src.utils.dataframe_utils:validate_chop_codes:106 - Validated CHOP codes in 'added_chops' and stored them into 'added_chops': All rows contain valid codes\n",
      "2022-11-11 10:11:13.318 | INFO     | src.utils.dataframe_utils:validate_chop_codes:106 - Validated CHOP codes in 'removed_chops' and stored them into 'removed_chops': All rows contain valid codes\n",
      "2022-11-11 10:11:13.318 | INFO     | src.utils.dataframe_utils:remove_duplicated_chops:32 - Removing duplicated CHOP codes due to different casing ...\n",
      "2022-11-11 10:11:13.332 | INFO     | src.utils.dataframe_utils:validate_pd_revised_sd:161 - Validated redundant PD info in 'added_icds'/'removed_icds': The following 19 rows were affected:\n",
      "row 2: primary diagnosis R11 => M8088\n",
      "row 20: primary diagnosis M340 => I730\n",
      "row 56: primary diagnosis A418 => A419\n",
      "row 88: primary diagnosis I5013 => I5001\n",
      "row 90: primary diagnosis I64 => I633\n",
      "row 91: primary diagnosis C180 => I7024\n",
      "row 99: primary diagnosis R55 => E871\n",
      "row 106: primary diagnosis C098 => C108\n",
      "row 115: primary diagnosis N185 => T814\n",
      "row 122: primary diagnosis S199 => S120\n",
      "row 127: primary diagnosis N10 => A498\n",
      "row 129: primary diagnosis N390 => A4151\n",
      "row 132: primary diagnosis J101 => J09\n",
      "row 134: primary diagnosis S3311 => S3201\n",
      "row 141: primary diagnosis F4540 => C341\n",
      "row 143: primary diagnosis I1001 => R522\n",
      "row 144: primary diagnosis C61 => A410\n",
      "row 149: primary diagnosis S3618 => C23\n",
      "row 150: primary diagnosis T8902 => A490\n",
      "2022-11-11 10:11:13.335 | SUCCESS  | src.revised_case_normalization.notebook_functions.normalize:normalize:110 - Completed validation\n"
     ]
    },
    {
     "data": {
      "text/html": [
       "<div>\n",
       "<style scoped>\n",
       "    .dataframe tbody tr th:only-of-type {\n",
       "        vertical-align: middle;\n",
       "    }\n",
       "\n",
       "    .dataframe tbody tr th {\n",
       "        vertical-align: top;\n",
       "    }\n",
       "\n",
       "    .dataframe thead th {\n",
       "        text-align: right;\n",
       "    }\n",
       "</style>\n",
       "<table border=\"1\" class=\"dataframe\">\n",
       "  <thead>\n",
       "    <tr style=\"text-align: right;\">\n",
       "      <th></th>\n",
       "      <th>case_id</th>\n",
       "      <th>patient_id</th>\n",
       "      <th>gender</th>\n",
       "      <th>age_years</th>\n",
       "      <th>duration_of_stay</th>\n",
       "      <th>case_id_norm</th>\n",
       "      <th>old_pd</th>\n",
       "      <th>primary_diagnosis</th>\n",
       "      <th>bfs_code</th>\n",
       "      <th>pccl</th>\n",
       "      <th>drg</th>\n",
       "      <th>added_icds</th>\n",
       "      <th>removed_icds</th>\n",
       "      <th>added_chops</th>\n",
       "      <th>removed_chops</th>\n",
       "    </tr>\n",
       "  </thead>\n",
       "  <tbody>\n",
       "    <tr>\n",
       "      <th>0</th>\n",
       "      <td>6130587</td>\n",
       "      <td>10709587</td>\n",
       "      <td>M</td>\n",
       "      <td>54</td>\n",
       "      <td>13</td>\n",
       "      <td>6130587</td>\n",
       "      <td>J4400</td>\n",
       "      <td>J4400</td>\n",
       "      <td>M200</td>\n",
       "      <td>3</td>\n",
       "      <td>E06A</td>\n",
       "      <td>[F058]</td>\n",
       "      <td>[]</td>\n",
       "      <td>[]</td>\n",
       "      <td>[]</td>\n",
       "    </tr>\n",
       "    <tr>\n",
       "      <th>1</th>\n",
       "      <td>6171196</td>\n",
       "      <td>5863929</td>\n",
       "      <td>M</td>\n",
       "      <td>62</td>\n",
       "      <td>5</td>\n",
       "      <td>6171196</td>\n",
       "      <td>J068</td>\n",
       "      <td>J068</td>\n",
       "      <td>M800</td>\n",
       "      <td>3</td>\n",
       "      <td>D62C</td>\n",
       "      <td>[I8028, C770, C787]</td>\n",
       "      <td>[]</td>\n",
       "      <td>[]</td>\n",
       "      <td>[]</td>\n",
       "    </tr>\n",
       "    <tr>\n",
       "      <th>2</th>\n",
       "      <td>6269659</td>\n",
       "      <td>10160906</td>\n",
       "      <td>W</td>\n",
       "      <td>74</td>\n",
       "      <td>36</td>\n",
       "      <td>6269659</td>\n",
       "      <td>R11</td>\n",
       "      <td>M8088</td>\n",
       "      <td>M100</td>\n",
       "      <td>3</td>\n",
       "      <td>G72C</td>\n",
       "      <td>[R64]</td>\n",
       "      <td>[]</td>\n",
       "      <td>[]</td>\n",
       "      <td>[]</td>\n",
       "    </tr>\n",
       "    <tr>\n",
       "      <th>3</th>\n",
       "      <td>6329461</td>\n",
       "      <td>10156863</td>\n",
       "      <td>W</td>\n",
       "      <td>79</td>\n",
       "      <td>6</td>\n",
       "      <td>6329461</td>\n",
       "      <td>G3531</td>\n",
       "      <td>G3531</td>\n",
       "      <td>M100</td>\n",
       "      <td>3</td>\n",
       "      <td>B68C</td>\n",
       "      <td>[R471]</td>\n",
       "      <td>[]</td>\n",
       "      <td>[]</td>\n",
       "      <td>[]</td>\n",
       "    </tr>\n",
       "    <tr>\n",
       "      <th>4</th>\n",
       "      <td>6143166</td>\n",
       "      <td>10424299</td>\n",
       "      <td>M</td>\n",
       "      <td>75</td>\n",
       "      <td>5</td>\n",
       "      <td>6143166</td>\n",
       "      <td>J690</td>\n",
       "      <td>J690</td>\n",
       "      <td>M100</td>\n",
       "      <td>3</td>\n",
       "      <td>E77E</td>\n",
       "      <td>[E43]</td>\n",
       "      <td>[]</td>\n",
       "      <td>[]</td>\n",
       "      <td>[]</td>\n",
       "    </tr>\n",
       "    <tr>\n",
       "      <th>...</th>\n",
       "      <td>...</td>\n",
       "      <td>...</td>\n",
       "      <td>...</td>\n",
       "      <td>...</td>\n",
       "      <td>...</td>\n",
       "      <td>...</td>\n",
       "      <td>...</td>\n",
       "      <td>...</td>\n",
       "      <td>...</td>\n",
       "      <td>...</td>\n",
       "      <td>...</td>\n",
       "      <td>...</td>\n",
       "      <td>...</td>\n",
       "      <td>...</td>\n",
       "      <td>...</td>\n",
       "    </tr>\n",
       "    <tr>\n",
       "      <th>149</th>\n",
       "      <td>6373573</td>\n",
       "      <td>4958322</td>\n",
       "      <td>W</td>\n",
       "      <td>76</td>\n",
       "      <td>4</td>\n",
       "      <td>6373573</td>\n",
       "      <td>S3618</td>\n",
       "      <td>C23</td>\n",
       "      <td>M200</td>\n",
       "      <td>2</td>\n",
       "      <td>H64B</td>\n",
       "      <td>[K650, C786]</td>\n",
       "      <td>[]</td>\n",
       "      <td>[]</td>\n",
       "      <td>[]</td>\n",
       "    </tr>\n",
       "    <tr>\n",
       "      <th>150</th>\n",
       "      <td>6475384</td>\n",
       "      <td>7878907</td>\n",
       "      <td>M</td>\n",
       "      <td>64</td>\n",
       "      <td>7</td>\n",
       "      <td>6475384</td>\n",
       "      <td>T8902</td>\n",
       "      <td>A490</td>\n",
       "      <td>M100</td>\n",
       "      <td>2</td>\n",
       "      <td>X60C</td>\n",
       "      <td>[B9590, B957, D508]</td>\n",
       "      <td>[]</td>\n",
       "      <td>[]</td>\n",
       "      <td>[]</td>\n",
       "    </tr>\n",
       "    <tr>\n",
       "      <th>151</th>\n",
       "      <td>6413158</td>\n",
       "      <td>10274171</td>\n",
       "      <td>M</td>\n",
       "      <td>82</td>\n",
       "      <td>17</td>\n",
       "      <td>6413158</td>\n",
       "      <td>D352</td>\n",
       "      <td>D352</td>\n",
       "      <td>M200</td>\n",
       "      <td>2</td>\n",
       "      <td>B20A</td>\n",
       "      <td>[I6201, I653]</td>\n",
       "      <td>[]</td>\n",
       "      <td>[]</td>\n",
       "      <td>[]</td>\n",
       "    </tr>\n",
       "    <tr>\n",
       "      <th>152</th>\n",
       "      <td>6351575</td>\n",
       "      <td>1422600</td>\n",
       "      <td>M</td>\n",
       "      <td>60</td>\n",
       "      <td>10</td>\n",
       "      <td>6351575</td>\n",
       "      <td>I730</td>\n",
       "      <td>I730</td>\n",
       "      <td>M100</td>\n",
       "      <td>2</td>\n",
       "      <td>I66B</td>\n",
       "      <td>[L97, B965]</td>\n",
       "      <td>[]</td>\n",
       "      <td>[]</td>\n",
       "      <td>[]</td>\n",
       "    </tr>\n",
       "    <tr>\n",
       "      <th>153</th>\n",
       "      <td>6395577</td>\n",
       "      <td>10813769</td>\n",
       "      <td>M</td>\n",
       "      <td>68</td>\n",
       "      <td>24</td>\n",
       "      <td>6395577</td>\n",
       "      <td>J4480</td>\n",
       "      <td>J4480</td>\n",
       "      <td>M200</td>\n",
       "      <td>2</td>\n",
       "      <td>E36D</td>\n",
       "      <td>[J860, J982]</td>\n",
       "      <td>[]</td>\n",
       "      <td>[]</td>\n",
       "      <td>[874199::20190913]</td>\n",
       "    </tr>\n",
       "  </tbody>\n",
       "</table>\n",
       "<p>154 rows × 15 columns</p>\n",
       "</div>"
      ],
      "text/plain": [
       "     case_id patient_id gender  age_years  duration_of_stay case_id_norm old_pd primary_diagnosis bfs_code  pccl   drg           added_icds removed_icds added_chops       removed_chops\n",
       "0    6130587   10709587      M         54                13      6130587  J4400             J4400     M200     3  E06A               [F058]           []          []                  []\n",
       "1    6171196    5863929      M         62                 5      6171196   J068              J068     M800     3  D62C  [I8028, C770, C787]           []          []                  []\n",
       "2    6269659   10160906      W         74                36      6269659    R11             M8088     M100     3  G72C                [R64]           []          []                  []\n",
       "3    6329461   10156863      W         79                 6      6329461  G3531             G3531     M100     3  B68C               [R471]           []          []                  []\n",
       "4    6143166   10424299      M         75                 5      6143166   J690              J690     M100     3  E77E                [E43]           []          []                  []\n",
       "..       ...        ...    ...        ...               ...          ...    ...               ...      ...   ...   ...                  ...          ...         ...                 ...\n",
       "149  6373573    4958322      W         76                 4      6373573  S3618               C23     M200     2  H64B         [K650, C786]           []          []                  []\n",
       "150  6475384    7878907      M         64                 7      6475384  T8902              A490     M100     2  X60C  [B9590, B957, D508]           []          []                  []\n",
       "151  6413158   10274171      M         82                17      6413158   D352              D352     M200     2  B20A        [I6201, I653]           []          []                  []\n",
       "152  6351575    1422600      M         60                10      6351575   I730              I730     M100     2  I66B          [L97, B965]           []          []                  []\n",
       "153  6395577   10813769      M         68                24      6395577  J4480             J4480     M200     2  E36D         [J860, J982]           []          []  [874199::20190913]\n",
       "\n",
       "[154 rows x 15 columns]"
      ]
     },
     "execution_count": 3,
     "metadata": {},
     "output_type": "execute_result"
    }
   ],
   "source": [
    "revised_cases_df = normalize(file_info)\n",
    "revised_cases_df"
   ]
  },
  {
   "cell_type": "markdown",
   "id": "a6796573",
   "metadata": {
    "tags": []
   },
   "source": [
    "# Match revised DtoD data with the BfS data from the database"
   ]
  },
  {
   "cell_type": "code",
   "execution_count": 4,
   "id": "65408537-cd4a-4b7c-a785-0db424378909",
   "metadata": {},
   "outputs": [
    {
     "name": "stderr",
     "output_type": "stream",
     "text": [
      "2022-11-11 10:11:16.395 | INFO     | src.service.bfs_cases_db_service:get_sociodemographics_for_hospital_year:90 - Read 14430 rows from the DB, for the hospital 'USZ' in 2019\n",
      "2022-11-11 10:11:16.411 | WARNING  | src.revised_case_normalization.notebook_functions.revise:revise:47 - 154 rows could not be matched, given ['age_years', 'case_id_norm', 'duration_of_stay', 'gender']\n"
     ]
    },
    {
     "ename": "KeyError",
     "evalue": "\"None of [Index(['revision_id', 'code'], dtype='object')] are in the [columns]\"",
     "output_type": "error",
     "traceback": [
      "\u001b[0;31m---------------------------------------------------------------------------\u001b[0m",
      "\u001b[0;31mKeyError\u001b[0m                                  Traceback (most recent call last)",
      "Cell \u001b[0;32mIn [4], line 7\u001b[0m\n\u001b[1;32m      4\u001b[0m \u001b[38;5;66;03m# Ignore the patient ID in this dataset, because it is encrypted\u001b[39;00m\n\u001b[1;32m      5\u001b[0m cols_to_join\u001b[38;5;241m.\u001b[39mremove(PATIENT_ID_COL)\n\u001b[0;32m----> 7\u001b[0m revised_cases, unmatched \u001b[38;5;241m=\u001b[39m revise(file_info, revised_cases_df, validation_cols\u001b[38;5;241m=\u001b[39mcols_to_join)\n\u001b[1;32m      8\u001b[0m revised_cases\u001b[38;5;241m.\u001b[39mhead()\n",
      "File \u001b[0;32m<@beartype(src.revised_case_normalization.notebook_functions.revise.revise) at 0xffff457100d0>:75\u001b[0m, in \u001b[0;36mrevise\u001b[0;34m(__beartype_func, __beartype_get_violation, __beartype_object_187651306915440, __beartype_object_187651315949824, __beartype_getrandbits, *args, **kwargs)\u001b[0m\n",
      "File \u001b[0;32m~/work/src/revised_case_normalization/notebook_functions/revise.py:51\u001b[0m, in \u001b[0;36mrevise\u001b[0;34m(file_info, revised_cases_df, validation_cols)\u001b[0m\n\u001b[1;32m     49\u001b[0m \u001b[38;5;66;03m# Retrieve the codes from the DB\u001b[39;00m\n\u001b[1;32m     50\u001b[0m original_revision_ids \u001b[38;5;241m=\u001b[39m get_earliest_revisions_for_aimedic_ids(matched_cases[AIMEDIC_ID_COL]\u001b[38;5;241m.\u001b[39mastype(\u001b[38;5;28mint\u001b[39m)\u001b[38;5;241m.\u001b[39mvalues\u001b[38;5;241m.\u001b[39mtolist(), db\u001b[38;5;241m.\u001b[39msession)\n\u001b[0;32m---> 51\u001b[0m original_cases \u001b[38;5;241m=\u001b[39m \u001b[43mget_codes\u001b[49m\u001b[43m(\u001b[49m\u001b[43moriginal_revision_ids\u001b[49m\u001b[43m,\u001b[49m\u001b[43m \u001b[49m\u001b[43mdb\u001b[49m\u001b[38;5;241;43m.\u001b[39;49m\u001b[43msession\u001b[49m\u001b[43m)\u001b[49m\n\u001b[1;32m     53\u001b[0m \u001b[38;5;66;03m# Apply the revisions to the cases from the DB\u001b[39;00m\n\u001b[1;32m     54\u001b[0m revised_cases \u001b[38;5;241m=\u001b[39m apply_revisions(original_cases, matched_cases)\n",
      "File \u001b[0;32m<@beartype(src.service.bfs_cases_db_service.get_codes) at 0xffff44df3b50>:49\u001b[0m, in \u001b[0;36mget_codes\u001b[0;34m(__beartype_func, __beartype_get_violation, __beartype_object_187651315949824, __beartype_object_187651321250944, *args, **kwargs)\u001b[0m\n",
      "File \u001b[0;32m~/work/src/service/bfs_cases_db_service.py:231\u001b[0m, in \u001b[0;36mget_codes\u001b[0;34m(df_revision_ids, session)\u001b[0m\n\u001b[1;32m    223\u001b[0m \u001b[38;5;129m@beartype\u001b[39m\n\u001b[1;32m    224\u001b[0m \u001b[38;5;28;01mdef\u001b[39;00m \u001b[38;5;21mget_codes\u001b[39m(df_revision_ids: pd\u001b[38;5;241m.\u001b[39mDataFrame, session: Session) \u001b[38;5;241m-\u001b[39m\u001b[38;5;241m>\u001b[39m pd\u001b[38;5;241m.\u001b[39mDataFrame:\n\u001b[1;32m    225\u001b[0m     \u001b[38;5;124;03m\"\"\"\u001b[39;00m\n\u001b[1;32m    226\u001b[0m \u001b[38;5;124;03m    Merging information on the diagnoses and procedures from the DB for usage in the revise function (revise.notebook_functions)\u001b[39;00m\n\u001b[1;32m    227\u001b[0m \u001b[38;5;124;03m     @param df_revision_ids: a Dataframe with aimedic_id and revision_id\u001b[39;00m\n\u001b[1;32m    228\u001b[0m \u001b[38;5;124;03m     @return: a dataframe containing revision ids, diagnoses and procedures\u001b[39;00m\n\u001b[1;32m    229\u001b[0m \u001b[38;5;124;03m    \"\"\"\u001b[39;00m\n\u001b[0;32m--> 231\u001b[0m     diagnoses_df \u001b[38;5;241m=\u001b[39m \u001b[43mget_diagnoses_codes\u001b[49m\u001b[43m(\u001b[49m\u001b[43mdf_revision_ids\u001b[49m\u001b[43m,\u001b[49m\u001b[43m \u001b[49m\u001b[43msession\u001b[49m\u001b[43m)\u001b[49m\n\u001b[1;32m    232\u001b[0m     procedures_df \u001b[38;5;241m=\u001b[39m get_procedures_codes(df_revision_ids, session)\n\u001b[1;32m    234\u001b[0m     \u001b[38;5;66;03m# Drop the aimedic_id column to avoid adding it with a suffix and having to remove it later\u001b[39;00m\n",
      "File \u001b[0;32m<@beartype(src.service.bfs_cases_db_service.get_diagnoses_codes) at 0xffff44df37f0>:49\u001b[0m, in \u001b[0;36mget_diagnoses_codes\u001b[0;34m(__beartype_func, __beartype_get_violation, __beartype_object_187651315949824, __beartype_object_187651321250944, *args, **kwargs)\u001b[0m\n",
      "File \u001b[0;32m~/work/src/service/bfs_cases_db_service.py:150\u001b[0m, in \u001b[0;36mget_diagnoses_codes\u001b[0;34m(df_revision_ids, session)\u001b[0m\n\u001b[1;32m    147\u001b[0m df \u001b[38;5;241m=\u001b[39m pd\u001b[38;5;241m.\u001b[39mread_sql(query_diagnoses\u001b[38;5;241m.\u001b[39mstatement, session\u001b[38;5;241m.\u001b[39mbind)\n\u001b[1;32m    149\u001b[0m \u001b[38;5;66;03m# Select a subset of rows, which contain the primary diagnosis for each case\u001b[39;00m\n\u001b[0;32m--> 150\u001b[0m primary_diagnoses \u001b[38;5;241m=\u001b[39m \u001b[43mdf\u001b[49m\u001b[43m[\u001b[49m\u001b[43mdf\u001b[49m\u001b[43m[\u001b[49m\u001b[38;5;124;43m'\u001b[39;49m\u001b[38;5;124;43mis_primary\u001b[39;49m\u001b[38;5;124;43m'\u001b[39;49m\u001b[43m]\u001b[49m\u001b[43m]\u001b[49m\u001b[43m[\u001b[49m\u001b[43m[\u001b[49m\u001b[38;5;124;43m'\u001b[39;49m\u001b[38;5;124;43mrevision_id\u001b[39;49m\u001b[38;5;124;43m'\u001b[39;49m\u001b[43m,\u001b[49m\u001b[43m \u001b[49m\u001b[38;5;124;43m'\u001b[39;49m\u001b[38;5;124;43mcode\u001b[39;49m\u001b[38;5;124;43m'\u001b[39;49m\u001b[43m]\u001b[49m\u001b[43m]\u001b[49m\n\u001b[1;32m    151\u001b[0m primary_diagnoses\u001b[38;5;241m.\u001b[39mrename(columns\u001b[38;5;241m=\u001b[39m{\u001b[38;5;124m'\u001b[39m\u001b[38;5;124mcode\u001b[39m\u001b[38;5;124m'\u001b[39m: PRIMARY_DIAGNOSIS_COL}, inplace\u001b[38;5;241m=\u001b[39m\u001b[38;5;28;01mTrue\u001b[39;00m)\n\u001b[1;32m    153\u001b[0m \u001b[38;5;66;03m# Aggregate the subset of rows, which contain the secondary diagnoses for each case\u001b[39;00m\n",
      "File \u001b[0;32m/opt/conda/lib/python3.10/site-packages/pandas/core/frame.py:3811\u001b[0m, in \u001b[0;36mDataFrame.__getitem__\u001b[0;34m(self, key)\u001b[0m\n\u001b[1;32m   3809\u001b[0m     \u001b[38;5;28;01mif\u001b[39;00m is_iterator(key):\n\u001b[1;32m   3810\u001b[0m         key \u001b[38;5;241m=\u001b[39m \u001b[38;5;28mlist\u001b[39m(key)\n\u001b[0;32m-> 3811\u001b[0m     indexer \u001b[38;5;241m=\u001b[39m \u001b[38;5;28;43mself\u001b[39;49m\u001b[38;5;241;43m.\u001b[39;49m\u001b[43mcolumns\u001b[49m\u001b[38;5;241;43m.\u001b[39;49m\u001b[43m_get_indexer_strict\u001b[49m\u001b[43m(\u001b[49m\u001b[43mkey\u001b[49m\u001b[43m,\u001b[49m\u001b[43m \u001b[49m\u001b[38;5;124;43m\"\u001b[39;49m\u001b[38;5;124;43mcolumns\u001b[39;49m\u001b[38;5;124;43m\"\u001b[39;49m\u001b[43m)\u001b[49m[\u001b[38;5;241m1\u001b[39m]\n\u001b[1;32m   3813\u001b[0m \u001b[38;5;66;03m# take() does not accept boolean indexers\u001b[39;00m\n\u001b[1;32m   3814\u001b[0m \u001b[38;5;28;01mif\u001b[39;00m \u001b[38;5;28mgetattr\u001b[39m(indexer, \u001b[38;5;124m\"\u001b[39m\u001b[38;5;124mdtype\u001b[39m\u001b[38;5;124m\"\u001b[39m, \u001b[38;5;28;01mNone\u001b[39;00m) \u001b[38;5;241m==\u001b[39m \u001b[38;5;28mbool\u001b[39m:\n",
      "File \u001b[0;32m/opt/conda/lib/python3.10/site-packages/pandas/core/indexes/base.py:6108\u001b[0m, in \u001b[0;36mIndex._get_indexer_strict\u001b[0;34m(self, key, axis_name)\u001b[0m\n\u001b[1;32m   6105\u001b[0m \u001b[38;5;28;01melse\u001b[39;00m:\n\u001b[1;32m   6106\u001b[0m     keyarr, indexer, new_indexer \u001b[38;5;241m=\u001b[39m \u001b[38;5;28mself\u001b[39m\u001b[38;5;241m.\u001b[39m_reindex_non_unique(keyarr)\n\u001b[0;32m-> 6108\u001b[0m \u001b[38;5;28;43mself\u001b[39;49m\u001b[38;5;241;43m.\u001b[39;49m\u001b[43m_raise_if_missing\u001b[49m\u001b[43m(\u001b[49m\u001b[43mkeyarr\u001b[49m\u001b[43m,\u001b[49m\u001b[43m \u001b[49m\u001b[43mindexer\u001b[49m\u001b[43m,\u001b[49m\u001b[43m \u001b[49m\u001b[43maxis_name\u001b[49m\u001b[43m)\u001b[49m\n\u001b[1;32m   6110\u001b[0m keyarr \u001b[38;5;241m=\u001b[39m \u001b[38;5;28mself\u001b[39m\u001b[38;5;241m.\u001b[39mtake(indexer)\n\u001b[1;32m   6111\u001b[0m \u001b[38;5;28;01mif\u001b[39;00m \u001b[38;5;28misinstance\u001b[39m(key, Index):\n\u001b[1;32m   6112\u001b[0m     \u001b[38;5;66;03m# GH 42790 - Preserve name from an Index\u001b[39;00m\n",
      "File \u001b[0;32m/opt/conda/lib/python3.10/site-packages/pandas/core/indexes/base.py:6168\u001b[0m, in \u001b[0;36mIndex._raise_if_missing\u001b[0;34m(self, key, indexer, axis_name)\u001b[0m\n\u001b[1;32m   6166\u001b[0m     \u001b[38;5;28;01mif\u001b[39;00m use_interval_msg:\n\u001b[1;32m   6167\u001b[0m         key \u001b[38;5;241m=\u001b[39m \u001b[38;5;28mlist\u001b[39m(key)\n\u001b[0;32m-> 6168\u001b[0m     \u001b[38;5;28;01mraise\u001b[39;00m \u001b[38;5;167;01mKeyError\u001b[39;00m(\u001b[38;5;124mf\u001b[39m\u001b[38;5;124m\"\u001b[39m\u001b[38;5;124mNone of [\u001b[39m\u001b[38;5;132;01m{\u001b[39;00mkey\u001b[38;5;132;01m}\u001b[39;00m\u001b[38;5;124m] are in the [\u001b[39m\u001b[38;5;132;01m{\u001b[39;00maxis_name\u001b[38;5;132;01m}\u001b[39;00m\u001b[38;5;124m]\u001b[39m\u001b[38;5;124m\"\u001b[39m)\n\u001b[1;32m   6170\u001b[0m not_found \u001b[38;5;241m=\u001b[39m \u001b[38;5;28mlist\u001b[39m(ensure_index(key)[missing_mask\u001b[38;5;241m.\u001b[39mnonzero()[\u001b[38;5;241m0\u001b[39m]]\u001b[38;5;241m.\u001b[39munique())\n\u001b[1;32m   6171\u001b[0m \u001b[38;5;28;01mraise\u001b[39;00m \u001b[38;5;167;01mKeyError\u001b[39;00m(\u001b[38;5;124mf\u001b[39m\u001b[38;5;124m\"\u001b[39m\u001b[38;5;132;01m{\u001b[39;00mnot_found\u001b[38;5;132;01m}\u001b[39;00m\u001b[38;5;124m not in index\u001b[39m\u001b[38;5;124m\"\u001b[39m)\n",
      "\u001b[0;31mKeyError\u001b[0m: \"None of [Index(['revision_id', 'code'], dtype='object')] are in the [columns]\""
     ]
    }
   ],
   "source": [
    "cols_to_join = list(VALIDATION_COLS)\n",
    "cols_to_join.remove(CASE_ID_COL)\n",
    "cols_to_join.append(NORM_CASE_ID_COL)\n",
    "# Ignore the patient ID in this dataset, because it is encrypted\n",
    "cols_to_join.remove(PATIENT_ID_COL)\n",
    "\n",
    "revised_cases, unmatched = revise(file_info, revised_cases_df, validation_cols=cols_to_join)\n",
    "revised_cases.head()"
   ]
  },
  {
   "cell_type": "code",
   "execution_count": null,
   "id": "3ac0315b",
   "metadata": {
    "collapsed": false,
    "jupyter": {
     "outputs_hidden": false
    }
   },
   "outputs": [],
   "source": [
    "if unmatched.shape[0] > 0:\n",
    "    display(unmatched)"
   ]
  },
  {
   "cell_type": "code",
   "execution_count": null,
   "id": "a85b9247-c1dc-4072-a1dd-7b61c8251eeb",
   "metadata": {},
   "outputs": [],
   "source": [
    "revisions_update, diagnoses_update, procedures_update = group(revised_cases)\n",
    "revisions_update[REVISION_DATE_COL] = '2022-12-31'"
   ]
  },
  {
   "cell_type": "code",
   "execution_count": null,
   "id": "492c0392",
   "metadata": {
    "collapsed": false,
    "jupyter": {
     "outputs_hidden": false
    }
   },
   "outputs": [],
   "source": [
    "revisions_update"
   ]
  },
  {
   "cell_type": "code",
   "execution_count": null,
   "id": "04e44c03",
   "metadata": {
    "collapsed": false,
    "jupyter": {
     "outputs_hidden": false
    }
   },
   "outputs": [],
   "source": [
    "update_db(revisions_update, diagnoses_update, procedures_update)"
   ]
  }
 ],
 "metadata": {
  "kernelspec": {
   "display_name": "Python 3 (ipykernel)",
   "language": "python",
   "name": "python3"
  },
  "language_info": {
   "codemirror_mode": {
    "name": "ipython",
    "version": 3
   },
   "file_extension": ".py",
   "mimetype": "text/x-python",
   "name": "python",
   "nbconvert_exporter": "python",
   "pygments_lexer": "ipython3",
   "version": "3.10.6"
  }
 },
 "nbformat": 4,
 "nbformat_minor": 5
}
