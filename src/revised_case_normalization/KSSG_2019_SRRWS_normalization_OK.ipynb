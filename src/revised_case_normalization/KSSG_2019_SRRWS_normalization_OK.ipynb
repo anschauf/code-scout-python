{
 "cells": [
  {
   "cell_type": "markdown",
   "id": "a4e2885d",
   "metadata": {
    "tags": []
   },
   "source": [
    "# Revised case normalization for KSSG SRRWS 2019\n",
    "\n",
    "Notes:\n",
    "\n",
    "- 17 of 17 revised DtoD cases were joined with the BFS cases from the DB.\n",
    "\n"
   ]
  },
  {
   "cell_type": "code",
   "execution_count": 1,
   "id": "d097a048",
   "metadata": {
    "collapsed": false,
    "jupyter": {
     "outputs_hidden": false
    }
   },
   "outputs": [],
   "source": [
    "import sys\n",
    "\n",
    "import pandas as pd\n",
    "import numpy as np\n",
    "\n",
    "from loguru import logger\n",
    "\n",
    "sys.path.insert(0, '/home/jovyan/work')\n",
    "\n",
    "from src.revised_case_normalization.py.global_configs import *\n",
    "from src.revised_case_normalization.py.normalize import normalize, remove_leading_zeros\n",
    "from src.service import bfs_cases_db_service as bfs_db\n",
    "from src.service.bfs_cases_db_service import session, get_sociodemographics_for_hospital_year, get_earliest_revisions_for_aimedic_ids, get_codes, apply_revisions\n",
    "from src.revised_case_normalization.py.format_for_grouper import format_for_grouper"
   ]
  },
  {
   "cell_type": "code",
   "execution_count": 2,
   "id": "4710c532",
   "metadata": {
    "collapsed": false,
    "jupyter": {
     "outputs_hidden": false
    }
   },
   "outputs": [
    {
     "name": "stdout",
     "output_type": "stream",
     "text": [
      "FileInfo(path='/home/jovyan/work/src/revised_case_normalization/raw_data/Linth_Toggenburg_SRRWS_2019.xlsx', hospital_name_db='KSSG SRRWS', year='2019', sheets=['Änderungen SRRWS_2019'])\n"
     ]
    }
   ],
   "source": [
    "file_info = FileInfo(\n",
    "         os.path.join(ROOT_DIR, 'raw_data/Linth_Toggenburg_SRRWS_2019.xlsx'),\n",
    "         'KSSG SRRWS',\n",
    "         '2019',\n",
    "         ['Änderungen SRRWS_2019'])\n",
    "\n",
    "print(file_info)"
   ]
  },
  {
   "cell_type": "code",
   "execution_count": 3,
   "id": "8c8b27df",
   "metadata": {
    "collapsed": false,
    "jupyter": {
     "outputs_hidden": false
    }
   },
   "outputs": [
    {
     "name": "stderr",
     "output_type": "stream",
     "text": [
      "2022-10-28 12:30:17.304 | INFO     | src.revised_case_normalization.py.normalize:normalize:35 - Read 48 cases for KSSG SRRWS 2019\n",
      "2022-10-28 12:30:17.307 | INFO     | src.revised_case_normalization.py.normalize:normalize:57 - TYPES:\n",
      "tranche                   string\n",
      "case_id                   object\n",
      "patient_id                object\n",
      "kkik                      string\n",
      "gender                    string\n",
      "age_years                  int64\n",
      "bfs_code                  string\n",
      "duration_of_stay           int64\n",
      "pflegetage neu            string\n",
      "pccl                       int64\n",
      "pccl neu                  string\n",
      "old_pd                    string\n",
      "primary_diagnosis         string\n",
      "added_icds                string\n",
      "removed_icds              string\n",
      "added_chops               string\n",
      "removed_chops             string\n",
      "drg                       string\n",
      "drg neu                   string\n",
      "cw alt                    string\n",
      "cw neu                    string\n",
      "cw-änderung möglich       string\n",
      "cw änderung akzeptiert    string\n",
      "kommentar dtod            string\n",
      "storno                    string\n",
      "sr2 argumentation         string\n",
      "anfrage  dtod             string\n",
      "kassenablehnung           string\n",
      "case_id_norm              object\n",
      "dtype: object\n",
      "2022-10-28 12:30:17.314 | INFO     | src.utils.dataframe_utils:validate_icd_codes:68 - Validated ICD codes in 'added_icds' and stored them into 'added_icds': All rows contain valid codes\n",
      "2022-10-28 12:30:17.318 | INFO     | src.utils.dataframe_utils:validate_icd_codes:68 - Validated ICD codes in 'removed_icds' and stored them into 'removed_icds': All rows contain valid codes\n",
      "2022-10-28 12:30:17.322 | INFO     | src.utils.dataframe_utils:validate_chop_codes:106 - Validated CHOP codes in 'added_chops' and stored them into 'added_chops': All rows contain valid codes\n",
      "2022-10-28 12:30:17.326 | INFO     | src.utils.dataframe_utils:validate_chop_codes:106 - Validated CHOP codes in 'removed_chops' and stored them into 'removed_chops': All rows contain valid codes\n",
      "2022-10-28 12:30:17.327 | INFO     | src.utils.dataframe_utils:remove_duplicated_chops:32 - Removing duplicated CHOP codes due to different casing ...\n",
      "2022-10-28 12:30:17.333 | INFO     | src.utils.dataframe_utils:validate_pd_revised_sd:161 - Validated redundant PD info in 'added_icds'/'removed_icds': The following 1 rows were affected:\n",
      "row 22: primary diagnosis D7014 => K521\n",
      "2022-10-28 12:30:17.337 | SUCCESS  | src.revised_case_normalization.py.normalize:normalize:100 - Completed validation\n"
     ]
    }
   ],
   "source": [
    "df_revised_case_d2d = normalize(file_info, 0)"
   ]
  },
  {
   "cell_type": "code",
   "execution_count": 4,
   "id": "6c589452",
   "metadata": {
    "collapsed": false,
    "jupyter": {
     "outputs_hidden": false
    }
   },
   "outputs": [
    {
     "data": {
      "text/html": [
       "<div>\n",
       "<style scoped>\n",
       "    .dataframe tbody tr th:only-of-type {\n",
       "        vertical-align: middle;\n",
       "    }\n",
       "\n",
       "    .dataframe tbody tr th {\n",
       "        vertical-align: top;\n",
       "    }\n",
       "\n",
       "    .dataframe thead th {\n",
       "        text-align: right;\n",
       "    }\n",
       "</style>\n",
       "<table border=\"1\" class=\"dataframe\">\n",
       "  <thead>\n",
       "    <tr style=\"text-align: right;\">\n",
       "      <th></th>\n",
       "      <th>case_id</th>\n",
       "      <th>patient_id</th>\n",
       "      <th>gender</th>\n",
       "      <th>age_years</th>\n",
       "      <th>duration_of_stay</th>\n",
       "      <th>case_id_norm</th>\n",
       "      <th>old_pd</th>\n",
       "      <th>primary_diagnosis</th>\n",
       "      <th>bfs_code</th>\n",
       "      <th>pccl</th>\n",
       "      <th>drg</th>\n",
       "      <th>added_icds</th>\n",
       "      <th>removed_icds</th>\n",
       "      <th>added_chops</th>\n",
       "      <th>removed_chops</th>\n",
       "    </tr>\n",
       "  </thead>\n",
       "  <tbody>\n",
       "    <tr>\n",
       "      <th>0</th>\n",
       "      <td>2010216467</td>\n",
       "      <td>971401A627916522</td>\n",
       "      <td>W</td>\n",
       "      <td>67</td>\n",
       "      <td>16</td>\n",
       "      <td>2010216467</td>\n",
       "      <td>M7285</td>\n",
       "      <td>M7285</td>\n",
       "      <td>M200</td>\n",
       "      <td>2</td>\n",
       "      <td>I27D</td>\n",
       "      <td>[D62, L0311]</td>\n",
       "      <td>[D648]</td>\n",
       "      <td>[]</td>\n",
       "      <td>[]</td>\n",
       "    </tr>\n",
       "    <tr>\n",
       "      <th>1</th>\n",
       "      <td>2010230894</td>\n",
       "      <td>0FD7D457C22B4ECD</td>\n",
       "      <td>M</td>\n",
       "      <td>75</td>\n",
       "      <td>10</td>\n",
       "      <td>2010230894</td>\n",
       "      <td>S510</td>\n",
       "      <td>S510</td>\n",
       "      <td>M100</td>\n",
       "      <td>3</td>\n",
       "      <td>X06B</td>\n",
       "      <td>[R18]</td>\n",
       "      <td>[]</td>\n",
       "      <td>[]</td>\n",
       "      <td>[]</td>\n",
       "    </tr>\n",
       "    <tr>\n",
       "      <th>2</th>\n",
       "      <td>2010233003</td>\n",
       "      <td>D6D96CE0A68739FB</td>\n",
       "      <td>W</td>\n",
       "      <td>70</td>\n",
       "      <td>14</td>\n",
       "      <td>2010233003</td>\n",
       "      <td>K432</td>\n",
       "      <td>K432</td>\n",
       "      <td>M200</td>\n",
       "      <td>3</td>\n",
       "      <td>G21B</td>\n",
       "      <td>[D62]</td>\n",
       "      <td>[D649]</td>\n",
       "      <td>[]</td>\n",
       "      <td>[]</td>\n",
       "    </tr>\n",
       "    <tr>\n",
       "      <th>3</th>\n",
       "      <td>2010234179</td>\n",
       "      <td>FB8869E03D85B3F5</td>\n",
       "      <td>M</td>\n",
       "      <td>59</td>\n",
       "      <td>7</td>\n",
       "      <td>2010234179</td>\n",
       "      <td>K868</td>\n",
       "      <td>K868</td>\n",
       "      <td>M100</td>\n",
       "      <td>3</td>\n",
       "      <td>H62B</td>\n",
       "      <td>[I5014]</td>\n",
       "      <td>[I509]</td>\n",
       "      <td>[]</td>\n",
       "      <td>[]</td>\n",
       "    </tr>\n",
       "    <tr>\n",
       "      <th>4</th>\n",
       "      <td>2070263179</td>\n",
       "      <td>A8239CB0553D4656</td>\n",
       "      <td>W</td>\n",
       "      <td>79</td>\n",
       "      <td>8</td>\n",
       "      <td>2070263179</td>\n",
       "      <td>I441</td>\n",
       "      <td>I441</td>\n",
       "      <td>M100</td>\n",
       "      <td>3</td>\n",
       "      <td>F12D</td>\n",
       "      <td>[J9580]</td>\n",
       "      <td>[]</td>\n",
       "      <td>[]</td>\n",
       "      <td>[]</td>\n",
       "    </tr>\n",
       "  </tbody>\n",
       "</table>\n",
       "</div>"
      ],
      "text/plain": [
       "      case_id        patient_id gender  age_years  duration_of_stay case_id_norm old_pd primary_diagnosis bfs_code  pccl   drg    added_icds removed_icds added_chops removed_chops\n",
       "0  2010216467  971401A627916522      W         67                16   2010216467  M7285             M7285     M200     2  I27D  [D62, L0311]       [D648]          []            []\n",
       "1  2010230894  0FD7D457C22B4ECD      M         75                10   2010230894   S510              S510     M100     3  X06B         [R18]           []          []            []\n",
       "2  2010233003  D6D96CE0A68739FB      W         70                14   2010233003   K432              K432     M200     3  G21B         [D62]       [D649]          []            []\n",
       "3  2010234179  FB8869E03D85B3F5      M         59                 7   2010234179   K868              K868     M100     3  H62B       [I5014]       [I509]          []            []\n",
       "4  2070263179  A8239CB0553D4656      W         79                 8   2070263179   I441              I441     M100     3  F12D       [J9580]           []          []            []"
      ]
     },
     "execution_count": 4,
     "metadata": {},
     "output_type": "execute_result"
    }
   ],
   "source": [
    "df_revised_case_d2d.head()"
   ]
  },
  {
   "cell_type": "markdown",
   "id": "a6796573",
   "metadata": {
    "tags": []
   },
   "source": [
    "# Match revised DtoD data with the BfS data from the database"
   ]
  },
  {
   "cell_type": "code",
   "execution_count": 5,
   "id": "65408537-cd4a-4b7c-a785-0db424378909",
   "metadata": {},
   "outputs": [
    {
     "name": "stderr",
     "output_type": "stream",
     "text": [
      "2022-10-28 12:30:18.450 | INFO     | src.service.bfs_cases_db_service:get_sociodemographics_for_hospital_year:124 - Read 15005 rows from the DB, for the hospital 'KSSG SRRWS' in 2019\n"
     ]
    },
    {
     "name": "stdout",
     "output_type": "stream",
     "text": [
      "   aimedic_id     case_id        patient_id  age_years  age_days  admission_weight  gestation_age gender admission_date grouper_admission_type discharge_date grouper_discharge_type  duration_of_stay  ventilation_hours case_id_norm\n",
      "0      297259  2070262755  8B44BDC832C5451F         65         0                 0              0      M     2019-01-09                     01     2019-01-12                     00                 3                  0   2070262755\n",
      "1      297260  2010215646  81890D5F20771E3C         80         0                 0              0      W     2019-01-09                     01     2019-02-04                     00                26                  0   2010215646\n",
      "2      297261  2070264919  E6441AAE25BA49E6         82         0                 0              0      W     2019-02-01                     01     2019-02-05                     00                 4                  0   2070264919\n",
      "3      297262  2070266822  2EAC70CD7BFA4C05         62         0                 0              0      M     2019-02-20                     11     2019-02-27                     00                 7                  0   2070266822\n",
      "4      297263  2010218207  5F89C9E9F4C322F7         74         0                 0              0      M     2019-02-26                     01     2019-02-28                     00                 2                  0   2010218207\n"
     ]
    },
    {
     "data": {
      "text/plain": [
       "aimedic_id                 int64\n",
       "case_id                   object\n",
       "patient_id                object\n",
       "age_years                  int64\n",
       "age_days                   int64\n",
       "admission_weight           int64\n",
       "gestation_age              int64\n",
       "gender                    object\n",
       "admission_date            object\n",
       "grouper_admission_type    object\n",
       "discharge_date            object\n",
       "grouper_discharge_type    object\n",
       "duration_of_stay           int64\n",
       "ventilation_hours          int64\n",
       "case_id_norm              object\n",
       "dtype: object"
      ]
     },
     "execution_count": 5,
     "metadata": {},
     "output_type": "execute_result"
    }
   ],
   "source": [
    "cases_in_db = get_sociodemographics_for_hospital_year(file_info.hospital_name_db, int(file_info.year))\n",
    "cases_in_db[NORM_CASE_ID_COL] = cases_in_db[CASE_ID_COL].apply(remove_leading_zeros)\n",
    "print(cases_in_db.head())\n",
    "\n",
    "cases_in_db.dtypes"
   ]
  },
  {
   "cell_type": "code",
   "execution_count": 9,
   "id": "8362bdd0",
   "metadata": {
    "collapsed": false,
    "jupyter": {
     "outputs_hidden": false
    }
   },
   "outputs": [
    {
     "data": {
      "text/plain": [
       "aimedic_id                 int64\n",
       "case_id                   object\n",
       "patient_id                object\n",
       "age_years                  int64\n",
       "age_days                   int64\n",
       "admission_weight           int64\n",
       "gestation_age              int64\n",
       "gender                    object\n",
       "admission_date            object\n",
       "grouper_admission_type    object\n",
       "discharge_date            object\n",
       "grouper_discharge_type    object\n",
       "duration_of_stay           int64\n",
       "ventilation_hours          int64\n",
       "case_id_norm              object\n",
       "dtype: object"
      ]
     },
     "execution_count": 9,
     "metadata": {},
     "output_type": "execute_result"
    }
   ],
   "source": [
    "cols_to_join = list(VALIDATION_COLS)\n",
    "cols_to_join.remove(CASE_ID_COL)\n",
    "cols_to_join.append(NORM_CASE_ID_COL)\n",
    "\n",
    "cols_to_join.remove(PATIENT_ID_COL)\n",
    "\n",
    "# Merge cases in db with the revised cases\n",
    "\n",
    "joined = pd.merge(df_revised_case_d2d, cases_in_db,\n",
    "                  how='left',\n",
    "                  on=cols_to_join,\n",
    "                  suffixes=('', '_db'))\n"
   ]
  },
  {
   "cell_type": "code",
   "execution_count": null,
   "id": "a114f1c6-2ae9-40b2-8eea-b503686a6457",
   "metadata": {},
   "outputs": [],
   "source": [
    "# Print out how many rows could not be matched\n",
    "unmatched = joined[joined[AIMEDIC_ID_COL].isna()]\n",
    "num_unmatched = unmatched.shape[0]\n",
    "logger.info(f'{num_unmatched} rows could not be matched, given {sorted(cols_to_join)}')\n"
   ]
  },
  {
   "cell_type": "code",
   "execution_count": null,
   "id": "a85b9247-c1dc-4072-a1dd-7b61c8251eeb",
   "metadata": {},
   "outputs": [],
   "source": [
    "# Format joined dataset to the SwissDRG Batchgrouper 2017 Format \n",
    "\n",
    "grouper_input_data_string = format_for_grouper(joined)\n",
    "\n",
    "\n",
    "grouper_input_data_string"
   ]
  },
  {
   "cell_type": "code",
   "execution_count": null,
   "id": "bade6ed7-d9d3-41fb-a082-d559c1467340",
   "metadata": {},
   "outputs": [],
   "source": [
    "import subprocess\n",
    "\n",
    "\n",
    "example_batch_line = \"\"\"257678;49;0;;M;20190531;01;20190607;00;7;0;A46|I5014|I1100|I480|Z921|F102|E039|K746;::;\"\"\"\n",
    "\n",
    "# add date to procedures\n",
    "# change ; with | at one spot\n",
    "test_df_line = \"\"\"17722;93;;;M;20180315;01;20180317;00;2;0;I7024|Z9588|N184|Z922|I743;395011::|397511::|395021::|397510::|0042::|004B18::|004B1A::|884911::|005599::|0046::|393012::;\"\"\"\n",
    "\n",
    "grouper_result = subprocess.check_output([\"java\",\n",
    "                                \"-cp\",\n",
    "                                \"/home/jovyan/work/resources/aimedic-grouper-assembly-0.0.0-SNAPSHOT.jar\",\n",
    "                                \"ch.aimedic.grouper.BatchGroupeOne\",\n",
    "                                grouper_input_data_string[6]\n",
    "                                #test_df_line,\n",
    "                                ]).decode(\"utf-8\")\n",
    "\n",
    "\n",
    "grouperResults = subprocess.check_output([\"java\",\n",
    "                                \"-cp\",\n",
    "                                \"/home/jovyan/work/resources/aimedic-grouper-assembly-0.0.0-SNAPSHOT.jar\",\n",
    "                                \"ch.aimedic.grouper.BatchGroupMany\",\n",
    "                                f'{grouper_input_data_string[1]}#{grouper_input_data_string[6]}#{grouper_input_data_string[13]}',\n",
    "                                \"#\"\n",
    "                                #test_df_line,\n",
    "                                ]).decode(\"utf-8\")\n",
    "\n",
    "print(grouperResults)"
   ]
  },
  {
   "cell_type": "code",
   "execution_count": null,
   "id": "cd21268f-7f2c-400d-8420-e0601b23772d",
   "metadata": {},
   "outputs": [],
   "source": [
    "# TODO:\n",
    "# - Add medication \n",
    "# - Add and compare CHOP Codes for sideness and procedure date"
   ]
  }
 ],
 "metadata": {
  "kernelspec": {
   "display_name": "Python 3 (ipykernel)",
   "language": "python",
   "name": "python3"
  },
  "language_info": {
   "codemirror_mode": {
    "name": "ipython",
    "version": 3
   },
   "file_extension": ".py",
   "mimetype": "text/x-python",
   "name": "python",
   "nbconvert_exporter": "python",
   "pygments_lexer": "ipython3",
   "version": "3.10.6"
  }
 },
 "nbformat": 4,
 "nbformat_minor": 5
}
