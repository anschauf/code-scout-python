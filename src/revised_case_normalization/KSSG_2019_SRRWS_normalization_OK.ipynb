{
 "cells": [
  {
   "cell_type": "markdown",
   "id": "a4e2885d",
   "metadata": {
    "tags": []
   },
   "source": [
    "# Revised case normalization for KSSG SRRWS 2019\n",
    "\n",
    "Notes:\n",
    "\n",
    "- 17 of 17 revised DtoD cases were joined with the BFS cases from the DB.\n",
    "\n"
   ]
  },
  {
   "cell_type": "code",
   "execution_count": 1,
   "id": "d097a048",
   "metadata": {
    "collapsed": false,
    "jupyter": {
     "outputs_hidden": false
    }
   },
   "outputs": [],
   "source": [
    "import sys\n",
    "\n",
    "import pandas as pd\n",
    "import numpy as np\n",
    "\n",
    "from loguru import logger\n",
    "\n",
    "sys.path.insert(0, '/home/jovyan/work')\n",
    "\n",
    "from src.revised_case_normalization.py.global_configs import *\n",
    "from src.revised_case_normalization.py.normalize import normalize, remove_leading_zeros\n",
    "from src.service import bfs_cases_db_service as bfs_db\n",
    "from src.service.bfs_cases_db_service import session, get_sociodemographics_for_hospital_year, get_earliest_revisions_for_aimedic_ids, get_codes, apply_revisions\n",
    "from src.revised_case_normalization.py.format_for_grouper import format_for_grouper"
   ]
  },
  {
   "cell_type": "code",
   "execution_count": 2,
   "id": "4710c532",
   "metadata": {
    "collapsed": false,
    "jupyter": {
     "outputs_hidden": false
    }
   },
   "outputs": [
    {
     "name": "stdout",
     "output_type": "stream",
     "text": [
      "FileInfo(path='/home/jovyan/work/src/revised_case_normalization/raw_data/Linth_Toggenburg_SRRWS_2019.xlsx', hospital_name_db='KSSG SRRWS', year='2019', sheets=['Änderungen SRRWS_2019'])\n"
     ]
    }
   ],
   "source": [
    "file_info = FileInfo(\n",
    "         os.path.join(ROOT_DIR, 'raw_data/Linth_Toggenburg_SRRWS_2019.xlsx'),\n",
    "         'KSSG SRRWS',\n",
    "         '2019',\n",
    "         ['Änderungen SRRWS_2019'])\n",
    "\n",
    "print(file_info)"
   ]
  },
  {
   "cell_type": "code",
   "execution_count": 3,
   "id": "8c8b27df",
   "metadata": {
    "collapsed": false,
    "jupyter": {
     "outputs_hidden": false
    }
   },
   "outputs": [
    {
     "name": "stderr",
     "output_type": "stream",
     "text": [
      "2022-10-28 12:15:38.296 | INFO     | src.revised_case_normalization.py.normalize:normalize:35 - Read 48 cases for KSSG SRRWS 2019\n",
      "2022-10-28 12:15:38.299 | INFO     | src.revised_case_normalization.py.normalize:normalize:57 - TYPES:\n",
      "tranche                   string\n",
      "case_id                   object\n",
      "patient_id                object\n",
      "kkik                      string\n",
      "gender                    string\n",
      "age_years                  int64\n",
      "bfs_code                  string\n",
      "duration_of_stay           int64\n",
      "pflegetage neu            string\n",
      "pccl                       int64\n",
      "pccl neu                  string\n",
      "old_pd                    string\n",
      "primary_diagnosis         string\n",
      "added_icds                string\n",
      "removed_icds              string\n",
      "added_chops               string\n",
      "removed_chops             string\n",
      "drg                       string\n",
      "drg neu                   string\n",
      "cw alt                    string\n",
      "cw neu                    string\n",
      "cw-änderung möglich       string\n",
      "cw änderung akzeptiert    string\n",
      "kommentar dtod            string\n",
      "storno                    string\n",
      "sr2 argumentation         string\n",
      "anfrage  dtod             string\n",
      "kassenablehnung           string\n",
      "case_id_norm              object\n",
      "dtype: object\n",
      "2022-10-28 12:15:38.306 | INFO     | src.utils.dataframe_utils:validate_icd_codes:68 - Validated ICD codes in 'added_icds' and stored them into 'added_icds': All rows contain valid codes\n",
      "2022-10-28 12:15:38.311 | INFO     | src.utils.dataframe_utils:validate_icd_codes:68 - Validated ICD codes in 'removed_icds' and stored them into 'removed_icds': All rows contain valid codes\n",
      "2022-10-28 12:15:38.314 | INFO     | src.utils.dataframe_utils:validate_chop_codes:106 - Validated CHOP codes in 'added_chops' and stored them into 'added_chops': All rows contain valid codes\n",
      "2022-10-28 12:15:38.317 | INFO     | src.utils.dataframe_utils:validate_chop_codes:106 - Validated CHOP codes in 'removed_chops' and stored them into 'removed_chops': All rows contain valid codes\n",
      "2022-10-28 12:15:38.317 | INFO     | src.utils.dataframe_utils:remove_duplicated_chops:32 - Removing duplicated CHOP codes due to different casing ...\n",
      "2022-10-28 12:15:38.324 | INFO     | src.utils.dataframe_utils:validate_pd_revised_sd:161 - Validated redundant PD info in 'added_icds'/'removed_icds': The following 1 rows were affected:\n",
      "row 22: primary diagnosis D7014 => K521\n",
      "2022-10-28 12:15:38.327 | SUCCESS  | src.revised_case_normalization.py.normalize:normalize:100 - Completed validation\n"
     ]
    }
   ],
   "source": [
    "df_revised_case_d2d = normalize(file_info, 0)"
   ]
  },
  {
   "cell_type": "code",
   "execution_count": 4,
   "id": "6c589452",
   "metadata": {
    "collapsed": false,
    "jupyter": {
     "outputs_hidden": false
    }
   },
   "outputs": [
    {
     "data": {
      "text/html": [
       "<div>\n",
       "<style scoped>\n",
       "    .dataframe tbody tr th:only-of-type {\n",
       "        vertical-align: middle;\n",
       "    }\n",
       "\n",
       "    .dataframe tbody tr th {\n",
       "        vertical-align: top;\n",
       "    }\n",
       "\n",
       "    .dataframe thead th {\n",
       "        text-align: right;\n",
       "    }\n",
       "</style>\n",
       "<table border=\"1\" class=\"dataframe\">\n",
       "  <thead>\n",
       "    <tr style=\"text-align: right;\">\n",
       "      <th></th>\n",
       "      <th>case_id</th>\n",
       "      <th>patient_id</th>\n",
       "      <th>gender</th>\n",
       "      <th>age_years</th>\n",
       "      <th>duration_of_stay</th>\n",
       "      <th>case_id_norm</th>\n",
       "      <th>old_pd</th>\n",
       "      <th>primary_diagnosis</th>\n",
       "      <th>bfs_code</th>\n",
       "      <th>pccl</th>\n",
       "      <th>drg</th>\n",
       "      <th>added_icds</th>\n",
       "      <th>removed_icds</th>\n",
       "      <th>added_chops</th>\n",
       "      <th>removed_chops</th>\n",
       "    </tr>\n",
       "  </thead>\n",
       "  <tbody>\n",
       "    <tr>\n",
       "      <th>0</th>\n",
       "      <td>2010216467</td>\n",
       "      <td>971401A627916522</td>\n",
       "      <td>W</td>\n",
       "      <td>67</td>\n",
       "      <td>16</td>\n",
       "      <td>2010216467</td>\n",
       "      <td>M7285</td>\n",
       "      <td>M7285</td>\n",
       "      <td>M200</td>\n",
       "      <td>2</td>\n",
       "      <td>I27D</td>\n",
       "      <td>[D62, L0311]</td>\n",
       "      <td>[D648]</td>\n",
       "      <td>[]</td>\n",
       "      <td>[]</td>\n",
       "    </tr>\n",
       "    <tr>\n",
       "      <th>1</th>\n",
       "      <td>2010230894</td>\n",
       "      <td>0FD7D457C22B4ECD</td>\n",
       "      <td>M</td>\n",
       "      <td>75</td>\n",
       "      <td>10</td>\n",
       "      <td>2010230894</td>\n",
       "      <td>S510</td>\n",
       "      <td>S510</td>\n",
       "      <td>M100</td>\n",
       "      <td>3</td>\n",
       "      <td>X06B</td>\n",
       "      <td>[R18]</td>\n",
       "      <td>[]</td>\n",
       "      <td>[]</td>\n",
       "      <td>[]</td>\n",
       "    </tr>\n",
       "    <tr>\n",
       "      <th>2</th>\n",
       "      <td>2010233003</td>\n",
       "      <td>D6D96CE0A68739FB</td>\n",
       "      <td>W</td>\n",
       "      <td>70</td>\n",
       "      <td>14</td>\n",
       "      <td>2010233003</td>\n",
       "      <td>K432</td>\n",
       "      <td>K432</td>\n",
       "      <td>M200</td>\n",
       "      <td>3</td>\n",
       "      <td>G21B</td>\n",
       "      <td>[D62]</td>\n",
       "      <td>[D649]</td>\n",
       "      <td>[]</td>\n",
       "      <td>[]</td>\n",
       "    </tr>\n",
       "    <tr>\n",
       "      <th>3</th>\n",
       "      <td>2010234179</td>\n",
       "      <td>FB8869E03D85B3F5</td>\n",
       "      <td>M</td>\n",
       "      <td>59</td>\n",
       "      <td>7</td>\n",
       "      <td>2010234179</td>\n",
       "      <td>K868</td>\n",
       "      <td>K868</td>\n",
       "      <td>M100</td>\n",
       "      <td>3</td>\n",
       "      <td>H62B</td>\n",
       "      <td>[I5014]</td>\n",
       "      <td>[I509]</td>\n",
       "      <td>[]</td>\n",
       "      <td>[]</td>\n",
       "    </tr>\n",
       "    <tr>\n",
       "      <th>4</th>\n",
       "      <td>2070263179</td>\n",
       "      <td>A8239CB0553D4656</td>\n",
       "      <td>W</td>\n",
       "      <td>79</td>\n",
       "      <td>8</td>\n",
       "      <td>2070263179</td>\n",
       "      <td>I441</td>\n",
       "      <td>I441</td>\n",
       "      <td>M100</td>\n",
       "      <td>3</td>\n",
       "      <td>F12D</td>\n",
       "      <td>[J9580]</td>\n",
       "      <td>[]</td>\n",
       "      <td>[]</td>\n",
       "      <td>[]</td>\n",
       "    </tr>\n",
       "  </tbody>\n",
       "</table>\n",
       "</div>"
      ],
      "text/plain": [
       "      case_id        patient_id gender  age_years  duration_of_stay case_id_norm old_pd primary_diagnosis bfs_code  pccl   drg    added_icds removed_icds added_chops removed_chops\n",
       "0  2010216467  971401A627916522      W         67                16   2010216467  M7285             M7285     M200     2  I27D  [D62, L0311]       [D648]          []            []\n",
       "1  2010230894  0FD7D457C22B4ECD      M         75                10   2010230894   S510              S510     M100     3  X06B         [R18]           []          []            []\n",
       "2  2010233003  D6D96CE0A68739FB      W         70                14   2010233003   K432              K432     M200     3  G21B         [D62]       [D649]          []            []\n",
       "3  2010234179  FB8869E03D85B3F5      M         59                 7   2010234179   K868              K868     M100     3  H62B       [I5014]       [I509]          []            []\n",
       "4  2070263179  A8239CB0553D4656      W         79                 8   2070263179   I441              I441     M100     3  F12D       [J9580]           []          []            []"
      ]
     },
     "execution_count": 4,
     "metadata": {},
     "output_type": "execute_result"
    }
   ],
   "source": [
    "df_revised_case_d2d.head()"
   ]
  },
  {
   "cell_type": "markdown",
   "id": "a6796573",
   "metadata": {
    "tags": []
   },
   "source": [
    "# Match revised DtoD data with the BfS data from the database"
   ]
  },
  {
   "cell_type": "code",
   "execution_count": 5,
   "id": "65408537-cd4a-4b7c-a785-0db424378909",
   "metadata": {},
   "outputs": [
    {
     "name": "stderr",
     "output_type": "stream",
     "text": [
      "2022-10-28 12:15:39.208 | INFO     | src.service.bfs_cases_db_service:get_sociodemographics_for_hospital_year:124 - Read 15005 rows from the DB, for the hospital 'KSSG SRRWS' in 2019\n"
     ]
    },
    {
     "name": "stdout",
     "output_type": "stream",
     "text": [
      "   aimedic_id     case_id        patient_id  age_years  age_days  admission_weight  gestation_age gender admission_date grouper_admission_type discharge_date grouper_discharge_type  duration_of_stay  ventilation_hours case_id_norm\n",
      "0      297259  2070262755  8B44BDC832C5451F         65         0                 0              0      M     2019-01-09                     01     2019-01-12                     00                 3                  0   2070262755\n",
      "1      297260  2010215646  81890D5F20771E3C         80         0                 0              0      W     2019-01-09                     01     2019-02-04                     00                26                  0   2010215646\n",
      "2      297261  2070264919  E6441AAE25BA49E6         82         0                 0              0      W     2019-02-01                     01     2019-02-05                     00                 4                  0   2070264919\n",
      "3      297262  2070266822  2EAC70CD7BFA4C05         62         0                 0              0      M     2019-02-20                     11     2019-02-27                     00                 7                  0   2070266822\n",
      "4      297263  2010218207  5F89C9E9F4C322F7         74         0                 0              0      M     2019-02-26                     01     2019-02-28                     00                 2                  0   2010218207\n"
     ]
    }
   ],
   "source": [
    "cases_in_db = get_sociodemographics_for_hospital_year(file_info.hospital_name_db, int(file_info.year))\n",
    "cases_in_db[NORM_CASE_ID_COL] = cases_in_db[CASE_ID_COL].apply(remove_leading_zeros)\n",
    "print(cases_in_db.head())"
   ]
  },
  {
   "cell_type": "code",
   "execution_count": 6,
   "id": "8362bdd0",
   "metadata": {
    "collapsed": false,
    "jupyter": {
     "outputs_hidden": false
    }
   },
   "outputs": [],
   "source": [
    "cols_to_join = list(VALIDATION_COLS)\n",
    "cols_to_join.remove(CASE_ID_COL)\n",
    "cols_to_join.append(NORM_CASE_ID_COL)\n",
    "\n",
    "cols_to_join.remove(PATIENT_ID_COL)\n",
    "\n",
    "# Merge cases in db with the revised cases\n",
    "\n",
    "joined = pd.merge(df_revised_case_d2d, cases_in_db,\n",
    "                  how='left',\n",
    "                  on=cols_to_join,\n",
    "                  suffixes=('', '_db'))"
   ]
  },
  {
   "cell_type": "code",
   "execution_count": 7,
   "id": "1522c467-f27b-4d4c-bcc4-9b005b639edb",
   "metadata": {},
   "outputs": [],
   "source": [
    "# Select cases in which the aimedic_id is not an NA\n",
    "#joined = joined[joined['aimedic_id'].notna()]\n",
    "#joined = joined.replace(np.nan, \"\")\n",
    "#joined['aimedic_id'] = joined['aimedic_id'].astype(int)\n",
    "#joined['age_days'] = joined['age_days'].astype(int)\n",
    "#joined['admission_weight'] = joined['admission_weight'].astype(int)\n",
    "#joined['gestation_age'] = joined['gestation_age'].astype(int)\n"
   ]
  },
  {
   "cell_type": "code",
   "execution_count": 8,
   "id": "a114f1c6-2ae9-40b2-8eea-b503686a6457",
   "metadata": {},
   "outputs": [
    {
     "name": "stderr",
     "output_type": "stream",
     "text": [
      "2022-10-28 12:15:39.239 | INFO     | __main__:<module>:4 - 1 rows could not be matched, given ['age_years', 'case_id_norm', 'duration_of_stay', 'gender']\n"
     ]
    }
   ],
   "source": [
    "# Print out how many rows could not be matched\n",
    "unmatched = joined[joined[AIMEDIC_ID_COL].isna()]\n",
    "num_unmatched = unmatched.shape[0]\n",
    "logger.info(f'{num_unmatched} rows could not be matched, given {sorted(cols_to_join)}')\n"
   ]
  },
  {
   "cell_type": "code",
   "execution_count": 9,
   "id": "a85b9247-c1dc-4072-a1dd-7b61c8251eeb",
   "metadata": {},
   "outputs": [
    {
     "name": "stderr",
     "output_type": "stream",
     "text": [
      "2022-10-28 12:15:39.626 | INFO     | src.revised_case_normalization.py.format_for_grouper:format_for_grouper:86 - Formatted 47 cases\n"
     ]
    },
    {
     "data": {
      "text/plain": [
       "0     301351;67;0;;W;20190118;01;20190203;00;16;0.0;M7285|I5019|N1791|N182|E876|I2513|E788|E1174|G632|...\n",
       "1     303814;75;0;;M;20190726;01;20190805;00;10;0.0;S510|X599|N1792|Z950|Z921|I1100|I5001|J91|E876|D50...\n",
       "2     311918;70;0;;W;20190910;01;20190924;00;14;0.0;K432|K660|S3640|Y69|E876|I1000|I4288|D62;536111::|...\n",
       "3     304119;59;0;;M;20190909;01;20190916;00;7;0.0;K868|K528|K210|K227|N1791|I2519|I480|E1150|E780|E87...\n",
       "4     301317;79;0;;W;20190114;01;20190122;00;8;0.0;I441|J189|U6900|I1000|I672|E788|E039|J9580;378A21::...\n",
       "5     300421;60;0;;M;20190416;01;20190430;00;14;0.0;D120|K913|K9183|T814|Y849|K660|K650|K358;457212::|...\n",
       "6     307647;58;0;;W;20190702;01;20190710;00;8;0.0;K5722|T810|Y849|D62|I1000|E890|D6988;457621::|009A1...\n",
       "7     303576;52;0;;M;20190702;01;20190713;00;11;0.0;K500|K564|T810|Y849|K660|S3681|Y69|R600|D6988;4573...\n",
       "8     297941;77;0;;M;20190725;01;20190812;00;18;0.0;D122|K590|D62|E876|E778|K660|T810|Y849|N40|F329|R1...\n",
       "9     297924;77;0;;W;20190811;01;20190819;00;8;0.0;K565|J188|U6900|E876|E880|H919|R18|Y69|K562|S3681;5...\n",
       "10                       298741;49;0;;W;20191010;01;20191015;00;5;0.0;L024|E1191|L0311;86411B::|009520::;\n",
       "11    300794;70;0;;M;20190903;01;20190912;00;9;0.0;K254|D62|K295|B980|K449|K2288|I2512|I2522|Z955|I109...\n",
       "12    302458;77;0;;M;20191007;01;20191015;00;8;0.0;M161|D62|N40|M353|I1190|N183|Z921|I499|D6834|D6833;...\n",
       "13    307967;54;0;;W;20190920;01;20191106;00;42;0.0;K510|E880|D62|E876|E559|R11|D90|I958|T818|Y849|K91...\n",
       "14    307930;69;0;;W;20190908;01;20190918;00;10;0.0;G408|J81|E876|F6031|G2581|S700|X599|Z980|B962|I110...\n",
       "15    309149;85;0;;M;20190809;01;20190817;00;8;0.0;C61|E780|Z950|I489|Z952|F102|N183|Z867|S819|Y349|E4...\n",
       "16                       307268;76;0;;M;20190711;01;20190716;00;5;0.0;N390|K521|Y579|I1000|E1191|A419;::;\n",
       "17    301929;66;0;;M;20190730;01;20190808;00;9;0.0;C670|C672|D62|Z921|I7021|Z867|I1190|I2519|N328|Z944...\n",
       "18    297473;71;0;;M;20190129;01;20190202;00;4;0.0;K746|I982|K259|K295|B980|D508|K648|K766|R18;4516::|...\n",
       "19    310909;26;0;;M;20190328;01;20190404;00;7;8.0;S3603|V99|T68|E875|K590|Y849|D62|R571;415::|99B712:...\n",
       "20                      305894;72;0;;W;20190502;01;20190510;04;8;0.0;N390|B962|N1792|I1000|E871|E1191;::;\n",
       "21    302402;79;0;;W;20190918;01;20190925;00;7;0.0;N812|Z867|I1000|E222|K590|Y849|I693|R470;6922::|705...\n",
       "22    304376;73;0;;M;20191017;01;20191031;00;14;0.0;K521|C817|I2513|I1000|Z867|Z921|E876|E871|I480|A09...\n",
       "23    312244;82;0;;W;20191106;01;20191111;00;5;0.0;I5001|I5013|I340|I361|E876|J459|F058|F102|F700|M353...\n",
       "24    304522;86;0;;W;20191224;01;20191227;00;3;0.0;N111|N812|N1791|N183|Z950|I1190|F329|F051|F018|E871...\n",
       "25    308506;81;0;;M;20190310;01;20190319;00;9;0.0;N390|A498|B962|G2090|N1791|N183|E86|D648|N40|F03|R3...\n",
       "26                    306562;83;0;;W;20190307;01;20190311;00;4;0.0;I483|I509|N183|E039|M130|L97|I1100;::;\n",
       "27           303972;78;0;;W;20190603;01;20190613;00;10;0.0;I5001|I1100|I483|N184|F319|L0301|E875|I832;::;\n",
       "28    305889;38;0;;M;20190326;01;20190404;00;9;0.0;E1011|E86|R18|K8580|K219|N1791|E876|E8338|K290|J91;...\n",
       "29            300256;48;0;;M;20190507;01;20190514;00;7;0.0;J188|J4401|F329|F432|I1000|K219|R522|J9600;::;\n",
       "30         301709;90;0;;W;20190704;01;20190710;00;6;0.0;R55|S2206|X599|B022|I1000|N390|E890|M159|I652;::;\n",
       "31         299841;72;0;;W;20190726;01;20190729;00;3;0.0;A099|E876|S800|X599|I1190|N184|Z921|E230|E274;::;\n",
       "32    311385;84;0;;M;20190731;01;20190808;00;8;0.0;J4409|B965|D529|M353|E871|K649|R600|S5180|Y349|D508...\n",
       "33              305602;66;0;;M;20190504;01;20190508;00;4;0.0;N390|B962|E871|I2513|E222|R798|F101|D689;::;\n",
       "34    306195;67;0;;M;20190912;11;20190927;00;15;0.0;C712|Z5188|R470|G819|H518|R295|H570|Z978|G418|E119...\n",
       "35          309955;55;0;;M;20191017;01;20191025;06;8;0.0;K8580|K860|K862|F102|I1000|R600|F132|I81|R18;::;\n",
       "36    301228;81;0;;M;20190127;01;20190205;00;9;0.0;N390|B962|N1792|N182|D649|N40|E876|H109|F102|R298|U...\n",
       "37    299307;66;0;;W;20190227;01;20190311;00;12;0.0;A419|N390|J101|E049|E876|E870|E8358|M8098|E1190|I1...\n",
       "38    306426;71;0;;M;20191108;01;20191127;00;19;0.0;K260|K295|B980|D62|I1000|N183|M160|M6245|J91|R600|...\n",
       "39    305615;81;0;;W;20190713;01;20190716;00;3;0.0;I489|I1100|I5001|E876|E890|M353|M159|R391|Z480|J91;...\n",
       "40    299526;50;0;;W;20190228;01;20190307;00;7;0.0;N813|E780|F329|R11|Y579|T835|Y849|B962|D62;6843::|7...\n",
       "41      303238;85;0;;M;20190322;01;20190325;00;3;0.0;I509|J91|I351|I340|I1100|I2519|N183|Z921|N40|R18;::;\n",
       "42       309744;59;0;;W;20190327;01;20190403;00;7;0.0;J4400|I429|I2519|I1000|D508|M0699|J841|F172|J91;::;\n",
       "43    297986;81;0;;M;20190802;01;20190812;00;10;0.0;K262|K227|D62|N183|N1799|E871|E876|E8358|E8338|K85...\n",
       "44    308081;31;0;;W;20191010;01;20191018;00;8;0.0;O240|E1072|N083|H360|Z370|O096|N049|O998|D62|O662|O...\n",
       "45      305443;38;0;;W;20190720;01;20190728;00;8;0.0;O610|O097|Z370|O48|O48|O244|O990|D62;741X10::|734::;\n",
       "46                   300673;59;0;;M;20191019;01;20191028;00;9;0.0;A46|I483|I5001|E876|M161|I1090|F102;::;\n",
       "dtype: object"
      ]
     },
     "execution_count": 9,
     "metadata": {},
     "output_type": "execute_result"
    }
   ],
   "source": [
    "# Format joined dataset to the SwissDRG Batchgrouper 2017 Format \n",
    "\n",
    "grouper_input_data_string = format_for_grouper(joined)\n",
    "\n",
    "\n",
    "grouper_input_data_string"
   ]
  },
  {
   "cell_type": "code",
   "execution_count": 10,
   "id": "bade6ed7-d9d3-41fb-a082-d559c1467340",
   "metadata": {},
   "outputs": [
    {
     "name": "stdout",
     "output_type": "stream",
     "text": [
      "[{\"DRG\" : \"X06A\", \"MDC\" : \"21B\", \"PCCL\" : 4, \"GST\" : \"NORMAL_GROUP\"}, {\"DRG\" : \"G18A\", \"MDC\" : \"06\", \"PCCL\" : 4, \"GST\" : \"NORMAL_GROUP\"}, {\"DRG\" : \"G13Z\", \"MDC\" : \"06\", \"PCCL\" : 4, \"GST\" : \"NORMAL_GROUP\"}]\n"
     ]
    }
   ],
   "source": [
    "import subprocess\n",
    "\n",
    "\n",
    "example_batch_line = \"\"\"257678;49;0;;M;20190531;01;20190607;00;7;0;A46|I5014|I1100|I480|Z921|F102|E039|K746;::;\"\"\"\n",
    "\n",
    "# add date to procedures\n",
    "# change ; with | at one spot\n",
    "test_df_line = \"\"\"17722;93;;;M;20180315;01;20180317;00;2;0;I7024|Z9588|N184|Z922|I743;395011::|397511::|395021::|397510::|0042::|004B18::|004B1A::|884911::|005599::|0046::|393012::;\"\"\"\n",
    "\n",
    "grouper_result = subprocess.check_output([\"java\",\n",
    "                                \"-cp\",\n",
    "                                \"/home/jovyan/work/resources/aimedic-grouper-assembly-0.0.0-SNAPSHOT.jar\",\n",
    "                                \"ch.aimedic.grouper.BatchGroupeOne\",\n",
    "                                grouper_input_data_string[6]\n",
    "                                #test_df_line,\n",
    "                                ]).decode(\"utf-8\")\n",
    "\n",
    "\n",
    "grouperResults = subprocess.check_output([\"java\",\n",
    "                                \"-cp\",\n",
    "                                \"/home/jovyan/work/resources/aimedic-grouper-assembly-0.0.0-SNAPSHOT.jar\",\n",
    "                                \"ch.aimedic.grouper.BatchGroupMany\",\n",
    "                                f'{grouper_input_data_string[1]}#{grouper_input_data_string[6]}#{grouper_input_data_string[13]}',\n",
    "                                \"#\"\n",
    "                                #test_df_line,\n",
    "                                ]).decode(\"utf-8\")\n",
    "\n",
    "print(grouperResults)"
   ]
  },
  {
   "cell_type": "code",
   "execution_count": 11,
   "id": "cd21268f-7f2c-400d-8420-e0601b23772d",
   "metadata": {},
   "outputs": [],
   "source": [
    "# TODO:\n",
    "# - Add medication \n",
    "# - Add and compare CHOP Codes for sideness and procedure date"
   ]
  }
 ],
 "metadata": {
  "kernelspec": {
   "display_name": "Python 3 (ipykernel)",
   "language": "python",
   "name": "python3"
  },
  "language_info": {
   "codemirror_mode": {
    "name": "ipython",
    "version": 3
   },
   "file_extension": ".py",
   "mimetype": "text/x-python",
   "name": "python",
   "nbconvert_exporter": "python",
   "pygments_lexer": "ipython3",
   "version": "3.10.6"
  }
 },
 "nbformat": 4,
 "nbformat_minor": 5
}
