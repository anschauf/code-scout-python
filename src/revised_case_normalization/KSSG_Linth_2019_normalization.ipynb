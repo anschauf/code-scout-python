{
 "cells": [
  {
   "cell_type": "markdown",
   "id": "a4e2885d",
   "metadata": {
    "pycharm": {
     "name": "#%% md\n"
    },
    "tags": []
   },
   "source": [
    "# Revised case normalization for KSSG Linth 2019\n",
    "Notes:\n",
    "\n",
    "- 25 of 25 revised DtoD cases were joined with the BFS cases from the DB.\n"
   ]
  },
  {
   "cell_type": "code",
   "execution_count": 1,
   "id": "d097a048",
   "metadata": {
    "collapsed": false,
    "jupyter": {
     "outputs_hidden": false
    },
    "pycharm": {
     "name": "#%%\n"
    }
   },
   "outputs": [],
   "source": [
    "import sys\n",
    "\n",
    "import pandas as pd\n",
    "import numpy as np\n",
    "\n",
    "from loguru import logger\n",
    "\n",
    "sys.path.insert(0, '/home/jovyan/work')\n",
    "\n",
    "from src.revised_case_normalization.py.global_configs import *\n",
    "from src.revised_case_normalization.py.normalize import normalize\n",
    "from src.service import bfs_cases_db_service as bfs_db\n",
    "from src.service.bfs_cases_db_service import session, get_hospital_year_cases"
   ]
  },
  {
   "cell_type": "code",
   "execution_count": 2,
   "id": "4710c532",
   "metadata": {
    "collapsed": false,
    "jupyter": {
     "outputs_hidden": false
    },
    "pycharm": {
     "name": "#%%\n"
    }
   },
   "outputs": [
    {
     "name": "stdout",
     "output_type": "stream",
     "text": [
      "FileInfo(path='/home/jovyan/work/src/revised_case_normalization/raw_data/Linth_Toggenburg_SRRWS_2019.xlsx', hospital_name_db='KSSG Linth', year='2019', sheets=['Änderungen_Spital_Linth_2019'])\n"
     ]
    }
   ],
   "source": [
    "file_info = FileInfo(\n",
    "        os.path.join(ROOT_DIR, 'raw_data/Linth_Toggenburg_SRRWS_2019.xlsx'),\n",
    "        'KSSG Linth',\n",
    "        '2019',\n",
    "        ['Änderungen_Spital_Linth_2019'])\n",
    "\n",
    "print(file_info)"
   ]
  },
  {
   "cell_type": "code",
   "execution_count": 3,
   "id": "8c8b27df",
   "metadata": {
    "collapsed": false,
    "jupyter": {
     "outputs_hidden": false
    },
    "pycharm": {
     "name": "#%%\n"
    }
   },
   "outputs": [
    {
     "name": "stderr",
     "output_type": "stream",
     "text": [
      "2022-10-19 16:06:21.829 | INFO     | src.revised_case_normalization.py.normalize:normalize:46 - Read 15 cases for KSSG Linth 2019\n",
      "2022-10-19 16:06:21.833 | INFO     | src.revised_case_normalization.py.normalize:normalize:69 - TYPES:\n",
      "case_id              int64\n",
      "patient_id          object\n",
      "gender              string\n",
      "age_years            int64\n",
      "duration_of_stay     int64\n",
      "pccl                 int64\n",
      "drg                 string\n",
      "old_pd              string\n",
      "new_pd              string\n",
      "bfs_code            string\n",
      "added_icds          string\n",
      "removed_icds        string\n",
      "added_chops         string\n",
      "removed_chops       string\n",
      "dtype: object\n",
      "2022-10-19 16:06:21.836 | INFO     | src.utils.dataframe_utils:validate_icd_codes:68 - Validated ICD codes in 'added_icds' and stored them into 'added_icds': All rows contain valid codes\n",
      "2022-10-19 16:06:21.838 | INFO     | src.utils.dataframe_utils:validate_icd_codes:68 - Validated ICD codes in 'removed_icds' and stored them into 'removed_icds': All rows contain valid codes\n",
      "2022-10-19 16:06:21.840 | INFO     | src.utils.dataframe_utils:validate_chop_codes:106 - Validated CHOP codes in 'added_chops' and stored them into 'added_chops': All rows contain valid codes\n",
      "2022-10-19 16:06:21.844 | INFO     | src.utils.dataframe_utils:validate_chop_codes:106 - Validated CHOP codes in 'removed_chops' and stored them into 'removed_chops': All rows contain valid codes\n",
      "2022-10-19 16:06:21.844 | INFO     | src.utils.dataframe_utils:remove_duplicated_chops:32 - Removing duplicated CHOP codes due to different casing ...\n",
      "2022-10-19 16:06:21.848 | INFO     | src.utils.dataframe_utils:validate_pd_revised_sd:161 - Validated redundant PD info in 'added_icds'/'removed_icds': The following 3 rows were affected:\n",
      "row 8: primary diagnosis S701 => M6285\n",
      "row 9: primary diagnosis S501 => T7960\n",
      "row 11: primary diagnosis T8903 => T814\n",
      "2022-10-19 16:06:21.850 | SUCCESS  | src.revised_case_normalization.py.normalize:normalize:101 - Completed validation\n"
     ]
    }
   ],
   "source": [
    "cols_to_rename = dict(COLUMNS_TO_RENAME)\n",
    "# Replace 'admno' with 'fall nummer'\n",
    "cols_to_rename.pop('admno')\n",
    "cols_to_rename['fall nummer'] = CASE_ID_COL\n",
    "\n",
    "df_revised_case_d2d = normalize(file_info, 0)"
   ]
  },
  {
   "cell_type": "code",
   "execution_count": 4,
   "id": "6c589452",
   "metadata": {
    "collapsed": false,
    "jupyter": {
     "outputs_hidden": false
    },
    "pycharm": {
     "name": "#%%\n"
    }
   },
   "outputs": [
    {
     "data": {
      "text/html": [
       "<div>\n",
       "<style scoped>\n",
       "    .dataframe tbody tr th:only-of-type {\n",
       "        vertical-align: middle;\n",
       "    }\n",
       "\n",
       "    .dataframe tbody tr th {\n",
       "        vertical-align: top;\n",
       "    }\n",
       "\n",
       "    .dataframe thead th {\n",
       "        text-align: right;\n",
       "    }\n",
       "</style>\n",
       "<table border=\"1\" class=\"dataframe\">\n",
       "  <thead>\n",
       "    <tr style=\"text-align: right;\">\n",
       "      <th></th>\n",
       "      <th>case_id</th>\n",
       "      <th>patient_id</th>\n",
       "      <th>gender</th>\n",
       "      <th>age_years</th>\n",
       "      <th>duration_of_stay</th>\n",
       "      <th>pccl</th>\n",
       "      <th>drg</th>\n",
       "      <th>old_pd</th>\n",
       "      <th>new_pd</th>\n",
       "      <th>bfs_code</th>\n",
       "      <th>added_icds</th>\n",
       "      <th>removed_icds</th>\n",
       "      <th>added_chops</th>\n",
       "      <th>removed_chops</th>\n",
       "    </tr>\n",
       "  </thead>\n",
       "  <tbody>\n",
       "    <tr>\n",
       "      <th>0</th>\n",
       "      <td>3108134918</td>\n",
       "      <td>DDB3BDB39DE3F695</td>\n",
       "      <td>M</td>\n",
       "      <td>49</td>\n",
       "      <td>7</td>\n",
       "      <td>3</td>\n",
       "      <td>J64C</td>\n",
       "      <td>A46</td>\n",
       "      <td>A46</td>\n",
       "      <td>M100</td>\n",
       "      <td>[K746]</td>\n",
       "      <td>[]</td>\n",
       "      <td>[]</td>\n",
       "      <td>[]</td>\n",
       "    </tr>\n",
       "    <tr>\n",
       "      <th>1</th>\n",
       "      <td>3108136936</td>\n",
       "      <td>1C6A9D7FAA9A7548</td>\n",
       "      <td>W</td>\n",
       "      <td>89</td>\n",
       "      <td>5</td>\n",
       "      <td>2</td>\n",
       "      <td>G46C</td>\n",
       "      <td>K226</td>\n",
       "      <td>K226</td>\n",
       "      <td>M100</td>\n",
       "      <td>[N184]</td>\n",
       "      <td>[D6833]</td>\n",
       "      <td>[]</td>\n",
       "      <td>[]</td>\n",
       "    </tr>\n",
       "    <tr>\n",
       "      <th>2</th>\n",
       "      <td>3108141419</td>\n",
       "      <td>69231F9C61534D42</td>\n",
       "      <td>M</td>\n",
       "      <td>69</td>\n",
       "      <td>10</td>\n",
       "      <td>2</td>\n",
       "      <td>G60B</td>\n",
       "      <td>C183</td>\n",
       "      <td>C183</td>\n",
       "      <td>M100</td>\n",
       "      <td>[E43]</td>\n",
       "      <td>[]</td>\n",
       "      <td>[]</td>\n",
       "      <td>[]</td>\n",
       "    </tr>\n",
       "    <tr>\n",
       "      <th>3</th>\n",
       "      <td>3150158985</td>\n",
       "      <td>29F13DDB90E1976D</td>\n",
       "      <td>W</td>\n",
       "      <td>70</td>\n",
       "      <td>2</td>\n",
       "      <td>3</td>\n",
       "      <td>G48C</td>\n",
       "      <td>K922</td>\n",
       "      <td>K922</td>\n",
       "      <td>M100</td>\n",
       "      <td>[D62, D684]</td>\n",
       "      <td>[D500]</td>\n",
       "      <td>[]</td>\n",
       "      <td>[]</td>\n",
       "    </tr>\n",
       "    <tr>\n",
       "      <th>4</th>\n",
       "      <td>3150164388</td>\n",
       "      <td>11721C6EB40D5BB5</td>\n",
       "      <td>M</td>\n",
       "      <td>78</td>\n",
       "      <td>5</td>\n",
       "      <td>2</td>\n",
       "      <td>G46C</td>\n",
       "      <td>K250</td>\n",
       "      <td>K250</td>\n",
       "      <td>M100</td>\n",
       "      <td>[D62]</td>\n",
       "      <td>[]</td>\n",
       "      <td>[]</td>\n",
       "      <td>[]</td>\n",
       "    </tr>\n",
       "  </tbody>\n",
       "</table>\n",
       "</div>"
      ],
      "text/plain": [
       "      case_id        patient_id gender  age_years  duration_of_stay  pccl  \\\n",
       "0  3108134918  DDB3BDB39DE3F695      M         49                 7     3   \n",
       "1  3108136936  1C6A9D7FAA9A7548      W         89                 5     2   \n",
       "2  3108141419  69231F9C61534D42      M         69                10     2   \n",
       "3  3150158985  29F13DDB90E1976D      W         70                 2     3   \n",
       "4  3150164388  11721C6EB40D5BB5      M         78                 5     2   \n",
       "\n",
       "    drg old_pd new_pd bfs_code   added_icds removed_icds added_chops  \\\n",
       "0  J64C    A46    A46     M100       [K746]           []          []   \n",
       "1  G46C   K226   K226     M100       [N184]      [D6833]          []   \n",
       "2  G60B   C183   C183     M100        [E43]           []          []   \n",
       "3  G48C   K922   K922     M100  [D62, D684]       [D500]          []   \n",
       "4  G46C   K250   K250     M100        [D62]           []          []   \n",
       "\n",
       "  removed_chops  \n",
       "0            []  \n",
       "1            []  \n",
       "2            []  \n",
       "3            []  \n",
       "4            []  "
      ]
     },
     "execution_count": 4,
     "metadata": {},
     "output_type": "execute_result"
    }
   ],
   "source": [
    "df_revised_case_d2d.head()"
   ]
  },
  {
   "cell_type": "markdown",
   "id": "a6796573",
   "metadata": {
    "pycharm": {
     "name": "#%% md\n"
    },
    "tags": []
   },
   "source": [
    "# Match revised DtoD data with the BfS data from the database"
   ]
  },
  {
   "cell_type": "code",
   "execution_count": 5,
   "id": "65408537-cd4a-4b7c-a785-0db424378909",
   "metadata": {},
   "outputs": [
    {
     "data": {
      "text/html": [
       "<div>\n",
       "<style scoped>\n",
       "    .dataframe tbody tr th:only-of-type {\n",
       "        vertical-align: middle;\n",
       "    }\n",
       "\n",
       "    .dataframe tbody tr th {\n",
       "        vertical-align: top;\n",
       "    }\n",
       "\n",
       "    .dataframe thead th {\n",
       "        text-align: right;\n",
       "    }\n",
       "</style>\n",
       "<table border=\"1\" class=\"dataframe\">\n",
       "  <thead>\n",
       "    <tr style=\"text-align: right;\">\n",
       "      <th></th>\n",
       "      <th>aimedic_id</th>\n",
       "      <th>case_id</th>\n",
       "      <th>patient_id</th>\n",
       "      <th>gender</th>\n",
       "      <th>age_years</th>\n",
       "      <th>duration_of_stay</th>\n",
       "      <th>pccl</th>\n",
       "      <th>drg</th>\n",
       "    </tr>\n",
       "  </thead>\n",
       "  <tbody>\n",
       "    <tr>\n",
       "      <th>0</th>\n",
       "      <td>249041</td>\n",
       "      <td>3108130426</td>\n",
       "      <td>FA4FEB649DF59BF5</td>\n",
       "      <td>W</td>\n",
       "      <td>64</td>\n",
       "      <td>6</td>\n",
       "      <td>2</td>\n",
       "      <td>I13E</td>\n",
       "    </tr>\n",
       "    <tr>\n",
       "      <th>1</th>\n",
       "      <td>249042</td>\n",
       "      <td>3150153245</td>\n",
       "      <td>6DEC4D4214A30CBC</td>\n",
       "      <td>W</td>\n",
       "      <td>18</td>\n",
       "      <td>2</td>\n",
       "      <td>0</td>\n",
       "      <td>O62Z</td>\n",
       "    </tr>\n",
       "    <tr>\n",
       "      <th>2</th>\n",
       "      <td>249043</td>\n",
       "      <td>3108130687</td>\n",
       "      <td>7E86E2BF62F384CD</td>\n",
       "      <td>M</td>\n",
       "      <td>20</td>\n",
       "      <td>1</td>\n",
       "      <td>2</td>\n",
       "      <td>B85C</td>\n",
       "    </tr>\n",
       "    <tr>\n",
       "      <th>3</th>\n",
       "      <td>249044</td>\n",
       "      <td>3108131372</td>\n",
       "      <td>6BD39AF8128666A9</td>\n",
       "      <td>W</td>\n",
       "      <td>62</td>\n",
       "      <td>9</td>\n",
       "      <td>3</td>\n",
       "      <td>F60B</td>\n",
       "    </tr>\n",
       "    <tr>\n",
       "      <th>4</th>\n",
       "      <td>249045</td>\n",
       "      <td>3150154687</td>\n",
       "      <td>33E8D523439BF4E5</td>\n",
       "      <td>W</td>\n",
       "      <td>0</td>\n",
       "      <td>3</td>\n",
       "      <td>0</td>\n",
       "      <td>P67D</td>\n",
       "    </tr>\n",
       "  </tbody>\n",
       "</table>\n",
       "</div>"
      ],
      "text/plain": [
       "   aimedic_id     case_id        patient_id gender  age_years  \\\n",
       "0      249041  3108130426  FA4FEB649DF59BF5      W         64   \n",
       "1      249042  3150153245  6DEC4D4214A30CBC      W         18   \n",
       "2      249043  3108130687  7E86E2BF62F384CD      M         20   \n",
       "3      249044  3108131372  6BD39AF8128666A9      W         62   \n",
       "4      249045  3150154687  33E8D523439BF4E5      W          0   \n",
       "\n",
       "   duration_of_stay  pccl   drg  \n",
       "0                 6     2  I13E  \n",
       "1                 2     0  O62Z  \n",
       "2                 1     2  B85C  \n",
       "3                 9     3  F60B  \n",
       "4                 3     0  P67D  "
      ]
     },
     "execution_count": 5,
     "metadata": {},
     "output_type": "execute_result"
    }
   ],
   "source": [
    "cases_in_db = get_hospital_year_cases(file_info.hospital_name_db, file_info.year)[[AIMEDIC_ID] + VALIDATION_COLS]\n",
    "cases_in_db.head()\n"
   ]
  },
  {
   "cell_type": "code",
   "execution_count": 6,
   "id": "38c67f27",
   "metadata": {
    "collapsed": false,
    "jupyter": {
     "outputs_hidden": false
    },
    "pycharm": {
     "name": "#%%\n"
    }
   },
   "outputs": [
    {
     "name": "stderr",
     "output_type": "stream",
     "text": [
      "2022-10-19 16:06:25.394 | INFO     | __main__:<module>:5 - Read 5110 rows from the DB, for the hospital 'KSSG Linth' in 2019\n"
     ]
    }
   ],
   "source": [
    "num_cases_in_db = cases_in_db.shape[0]\n",
    "if num_cases_in_db == 0:\n",
    "    raise ValueError(f\"There is no data for the hospital '{file_info.hospital_name_db}' in {file_info.year}\")\n",
    "else:\n",
    "    logger.info(f\"Read {num_cases_in_db} rows from the DB, for the hospital '{file_info.hospital_name_db}' in {file_info.year}\")    "
   ]
  },
  {
   "cell_type": "code",
   "execution_count": 7,
   "id": "14125a25-09d8-4818-a08f-19cf8c2aa37c",
   "metadata": {},
   "outputs": [
    {
     "name": "stderr",
     "output_type": "stream",
     "text": [
      "2022-10-19 16:06:25.406 | INFO     | __main__:<module>:6 - 0 rows with empty 'case_id's were discovered and removed from the DB, for the hospital 'KSSG Linth' in 2019\n"
     ]
    }
   ],
   "source": [
    "# Remove columns with empty 'case_id' in DB data\n",
    "\n",
    "cases_in_db['case_id'].replace('', np.nan, inplace=True)\n",
    "num_na_cases_in_db = cases_in_db['case_id'].isna().sum()\n",
    "cases_in_db.dropna(subset=['case_id'], inplace=True)\n",
    "logger.info(f\"{num_na_cases_in_db} rows with empty 'case_id's were discovered and removed from the DB, for the hospital '{file_info.hospital_name_db}' in {file_info.year}\")   "
   ]
  },
  {
   "cell_type": "code",
   "execution_count": 8,
   "id": "42113e93",
   "metadata": {
    "collapsed": false,
    "jupyter": {
     "outputs_hidden": false
    },
    "pycharm": {
     "name": "#%%\n"
    }
   },
   "outputs": [],
   "source": [
    "# get the case_id from revised_case \n",
    "df_revised_case_d2d['case_id_num'] = df_revised_case_d2d[CASE_ID_COL].astype(int)\n",
    "cases_in_db['case_id_num'] = cases_in_db[CASE_ID_COL].astype(int)"
   ]
  },
  {
   "cell_type": "code",
   "execution_count": 9,
   "id": "e56d7549-ebbb-4672-87f8-a00d905ee02a",
   "metadata": {},
   "outputs": [],
   "source": [
    "# get case ids in revised case data from DtoD\n",
    "case_id_d2d = df_revised_case_d2d['case_id_num'].values"
   ]
  },
  {
   "cell_type": "code",
   "execution_count": 10,
   "id": "ac7fb65a-f68e-49c3-99d3-1a165ae66d99",
   "metadata": {},
   "outputs": [
    {
     "name": "stderr",
     "output_type": "stream",
     "text": [
      "2022-10-19 16:06:25.426 | INFO     | __main__:<module>:7 - There are no duplicated case_ids in the revised cases.\n"
     ]
    },
    {
     "data": {
      "text/plain": [
       "15"
      ]
     },
     "execution_count": 10,
     "metadata": {},
     "output_type": "execute_result"
    }
   ],
   "source": [
    "# Check for duplicates in the case ids of DtoD\n",
    "\n",
    "case_id_d2d_set = set(case_id_d2d)\n",
    "if len(case_id_d2d) > len(case_id_d2d_set):\n",
    "    logger.info('There are duplicated case_ids in the revised cases.' )\n",
    "else:\n",
    "    logger.info('There are no duplicated case_ids in the revised cases.' )\n",
    "\n",
    "len(case_id_d2d_set)"
   ]
  },
  {
   "cell_type": "code",
   "execution_count": 11,
   "id": "e6ab7c12-a01a-478a-9b1c-78bef52b1a30",
   "metadata": {},
   "outputs": [
    {
     "data": {
      "text/plain": [
       "15"
      ]
     },
     "execution_count": 11,
     "metadata": {},
     "output_type": "execute_result"
    }
   ],
   "source": [
    "# Search for case_ids in the BFS DB data with the same case_ids as in revised case dataset of DtoD \n",
    "# Reason: check whether case ids of the revised data appear more than once in BFS DB data\n",
    "\n",
    "revised_case_bfs_db = cases_in_db[cases_in_db['case_id_num'].isin(case_id_d2d)]\n",
    "revised_case_bfs_db.shape[0]"
   ]
  },
  {
   "cell_type": "code",
   "execution_count": 12,
   "id": "7db02c90-8c5f-4d96-95db-0576921cce55",
   "metadata": {},
   "outputs": [
    {
     "name": "stdout",
     "output_type": "stream",
     "text": [
      "(15, 16)\n"
     ]
    },
    {
     "name": "stderr",
     "output_type": "stream",
     "text": [
      "/tmp/ipykernel_19856/3819240566.py:5: FutureWarning: Passing 'suffixes' as a <class 'NoneType'>, is not supported and may give unexpected results. Provide 'suffixes' as a tuple instead. In the future a 'TypeError' will be raised.\n",
      "  revised_case_normalized = revised_case_d2d_subset.merge(revised_case_bfs_db, how ='inner', on=['case_id_num', 'gender', 'age_years', 'duration_of_stay', 'pccl', 'drg'], suffixes=None)\n"
     ]
    },
    {
     "data": {
      "text/html": [
       "<div>\n",
       "<style scoped>\n",
       "    .dataframe tbody tr th:only-of-type {\n",
       "        vertical-align: middle;\n",
       "    }\n",
       "\n",
       "    .dataframe tbody tr th {\n",
       "        vertical-align: top;\n",
       "    }\n",
       "\n",
       "    .dataframe thead th {\n",
       "        text-align: right;\n",
       "    }\n",
       "</style>\n",
       "<table border=\"1\" class=\"dataframe\">\n",
       "  <thead>\n",
       "    <tr style=\"text-align: right;\">\n",
       "      <th></th>\n",
       "      <th>old_pd</th>\n",
       "      <th>new_pd</th>\n",
       "      <th>bfs_code</th>\n",
       "      <th>added_icds</th>\n",
       "      <th>removed_icds</th>\n",
       "      <th>added_chops</th>\n",
       "      <th>removed_chops</th>\n",
       "      <th>case_id_num</th>\n",
       "      <th>gender</th>\n",
       "      <th>age_years</th>\n",
       "      <th>duration_of_stay</th>\n",
       "      <th>pccl</th>\n",
       "      <th>drg</th>\n",
       "      <th>aimedic_id</th>\n",
       "      <th>case_id</th>\n",
       "      <th>patient_id</th>\n",
       "    </tr>\n",
       "  </thead>\n",
       "  <tbody>\n",
       "    <tr>\n",
       "      <th>0</th>\n",
       "      <td>A46</td>\n",
       "      <td>A46</td>\n",
       "      <td>M100</td>\n",
       "      <td>[K746]</td>\n",
       "      <td>[]</td>\n",
       "      <td>[]</td>\n",
       "      <td>[]</td>\n",
       "      <td>3108134918</td>\n",
       "      <td>M</td>\n",
       "      <td>49</td>\n",
       "      <td>7</td>\n",
       "      <td>3</td>\n",
       "      <td>J64C</td>\n",
       "      <td>251228</td>\n",
       "      <td>3108134918</td>\n",
       "      <td>DDB3BDB39DE3F695</td>\n",
       "    </tr>\n",
       "    <tr>\n",
       "      <th>1</th>\n",
       "      <td>K226</td>\n",
       "      <td>K226</td>\n",
       "      <td>M100</td>\n",
       "      <td>[N184]</td>\n",
       "      <td>[D6833]</td>\n",
       "      <td>[]</td>\n",
       "      <td>[]</td>\n",
       "      <td>3108136936</td>\n",
       "      <td>W</td>\n",
       "      <td>89</td>\n",
       "      <td>5</td>\n",
       "      <td>2</td>\n",
       "      <td>G46C</td>\n",
       "      <td>251287</td>\n",
       "      <td>3108136936</td>\n",
       "      <td>1C6A9D7FAA9A7548</td>\n",
       "    </tr>\n",
       "    <tr>\n",
       "      <th>2</th>\n",
       "      <td>C183</td>\n",
       "      <td>C183</td>\n",
       "      <td>M100</td>\n",
       "      <td>[E43]</td>\n",
       "      <td>[]</td>\n",
       "      <td>[]</td>\n",
       "      <td>[]</td>\n",
       "      <td>3108141419</td>\n",
       "      <td>M</td>\n",
       "      <td>69</td>\n",
       "      <td>10</td>\n",
       "      <td>2</td>\n",
       "      <td>G60B</td>\n",
       "      <td>254034</td>\n",
       "      <td>3108141419</td>\n",
       "      <td>69231F9C61534D42</td>\n",
       "    </tr>\n",
       "    <tr>\n",
       "      <th>3</th>\n",
       "      <td>K922</td>\n",
       "      <td>K922</td>\n",
       "      <td>M100</td>\n",
       "      <td>[D62, D684]</td>\n",
       "      <td>[D500]</td>\n",
       "      <td>[]</td>\n",
       "      <td>[]</td>\n",
       "      <td>3150158985</td>\n",
       "      <td>W</td>\n",
       "      <td>70</td>\n",
       "      <td>2</td>\n",
       "      <td>3</td>\n",
       "      <td>G48C</td>\n",
       "      <td>253110</td>\n",
       "      <td>3150158985</td>\n",
       "      <td>29F13DDB90E1976D</td>\n",
       "    </tr>\n",
       "    <tr>\n",
       "      <th>4</th>\n",
       "      <td>K250</td>\n",
       "      <td>K250</td>\n",
       "      <td>M100</td>\n",
       "      <td>[D62]</td>\n",
       "      <td>[]</td>\n",
       "      <td>[]</td>\n",
       "      <td>[]</td>\n",
       "      <td>3150164388</td>\n",
       "      <td>M</td>\n",
       "      <td>78</td>\n",
       "      <td>5</td>\n",
       "      <td>2</td>\n",
       "      <td>G46C</td>\n",
       "      <td>250871</td>\n",
       "      <td>3150164388</td>\n",
       "      <td>11721C6EB40D5BB5</td>\n",
       "    </tr>\n",
       "  </tbody>\n",
       "</table>\n",
       "</div>"
      ],
      "text/plain": [
       "  old_pd new_pd bfs_code   added_icds removed_icds added_chops removed_chops  \\\n",
       "0    A46    A46     M100       [K746]           []          []            []   \n",
       "1   K226   K226     M100       [N184]      [D6833]          []            []   \n",
       "2   C183   C183     M100        [E43]           []          []            []   \n",
       "3   K922   K922     M100  [D62, D684]       [D500]          []            []   \n",
       "4   K250   K250     M100        [D62]           []          []            []   \n",
       "\n",
       "   case_id_num gender  age_years  duration_of_stay  pccl   drg  aimedic_id  \\\n",
       "0   3108134918      M         49                 7     3  J64C      251228   \n",
       "1   3108136936      W         89                 5     2  G46C      251287   \n",
       "2   3108141419      M         69                10     2  G60B      254034   \n",
       "3   3150158985      W         70                 2     3  G48C      253110   \n",
       "4   3150164388      M         78                 5     2  G46C      250871   \n",
       "\n",
       "      case_id        patient_id  \n",
       "0  3108134918  DDB3BDB39DE3F695  \n",
       "1  3108136936  1C6A9D7FAA9A7548  \n",
       "2  3108141419  69231F9C61534D42  \n",
       "3  3150158985  29F13DDB90E1976D  \n",
       "4  3150164388  11721C6EB40D5BB5  "
      ]
     },
     "execution_count": 12,
     "metadata": {},
     "output_type": "execute_result"
    }
   ],
   "source": [
    "# Join revised cases from DtoD with BFS Cases from Database\n",
    "\n",
    "if revised_case_bfs_db.shape[0] <= len(case_id_d2d):\n",
    "    revised_case_d2d_subset = df_revised_case_d2d[COL_SUBSET_FROM_REVISED_CASES + ['case_id_num', 'gender', 'age_years', 'duration_of_stay', 'pccl', 'drg']]\n",
    "    revised_case_normalized = revised_case_d2d_subset.merge(revised_case_bfs_db, how ='inner', on=['case_id_num', 'gender', 'age_years', 'duration_of_stay', 'pccl', 'drg'], suffixes=None)\n",
    "    num_match_case_id = revised_case_normalized.shape[0]\n",
    "else:\n",
    "    revised_case_d2d_subset = df_revised_case_d2d[COL_SUBSET_FROM_REVISED_CASES + ['case_id_num', 'patient_id', 'gender', 'age_years', 'duration_of_stay', 'pccl', 'drg']]\n",
    "    revised_case_normalized = revised_case_d2d_subset.merge(revised_case_bfs_db, how ='inner', on=['case_id_num', 'patient_id', 'gender', 'age_years', 'duration_of_stay', 'pccl', 'drg'])\n",
    "    num_match_case_patient_id = revised_case_normalized.shape[0]\n",
    "print(revised_case_normalized.shape)\n",
    "# revised_case_normalized.head()"
   ]
  },
  {
   "cell_type": "code",
   "execution_count": 14,
   "id": "d3cefd4e-1b0c-4776-874f-d1ec6a8ab5b5",
   "metadata": {},
   "outputs": [],
   "source": [
    "# Join the revised cases of DtoD with the BFS data (alternative solution to cross check results)\n",
    "\n",
    "#if revised_case_bfs_db.shape[0] <= len(case_id_d2d):\n",
    "#    revised_case_normalized = pd.merge(df_revised_case_d2d, cases_in_db, suffixes=('_drop', ''), on=['case_id_num', 'gender', 'age_years', 'duration_of_stay', 'pccl', 'drg'])\n",
    "#    revised_case_normalized.drop([i for i in revised_case_normalized.columns if '_drop' in i], axis=1, inplace=True)\n",
    "#    revised_case_normalized.head()\n",
    "#else:\n",
    "#    revised_case_normalized = pd.merge(df_revised_case_d2d, cases_in_db, suffixes=('_drop', ''), on=['case_id_num','patient_id', 'gender', 'age_years', 'duration_of_stay', 'pccl', 'drg'])\n",
    "#    revised_case_normalized.drop([i for i in revised_case_normalized.columns if '_drop' in i], axis=1, inplace=True)\n",
    "#    revised_case_normalized.head()\n",
    "#print(revised_case_normalized.shape)\n",
    "#revised_case_normalized.head()"
   ]
  },
  {
   "cell_type": "code",
   "execution_count": 16,
   "id": "f42da5f9-883e-4148-abb3-23f5d6e7df92",
   "metadata": {},
   "outputs": [
    {
     "name": "stderr",
     "output_type": "stream",
     "text": [
      "2022-10-19 16:06:25.477 | INFO     | __main__:<module>:7 - 15 of 15 rows were joined with the cases from the DB, for the hospital 'KSSG Linth' in 2019\n"
     ]
    }
   ],
   "source": [
    "num_revised_case_normalized = revised_case_normalized.shape[0]\n",
    "num_df_revised_case_d2d = df_revised_case_d2d.shape[0] \n",
    "\n",
    "if num_revised_case_normalized == 0:\n",
    "    raise ValueError(f\"No cases between the revised cases for the hospital '{file_info.hospital_name_db}' in {file_info.year} were joined.\")\n",
    "else:\n",
    "    logger.info(f\"{num_revised_case_normalized} of {num_df_revised_case_d2d} rows were joined with the cases from the DB, for the hospital '{file_info.hospital_name_db}' in {file_info.year}\") "
   ]
  },
  {
   "cell_type": "code",
   "execution_count": 13,
   "id": "1bf7f79d-17fc-4e28-8629-1bd6bb169f82",
   "metadata": {},
   "outputs": [],
   "source": [
    "df_revised_case_normalized = revised_case_normalized[COLS_TO_OUTPUT]"
   ]
  },
  {
   "cell_type": "code",
   "execution_count": 17,
   "id": "1376216d-4593-4cca-91cd-7b14089fbba1",
   "metadata": {},
   "outputs": [],
   "source": [
    "# Export normalized revision data as a csv: \n",
    "\n",
    "hospital = file_info.hospital_name_db.replace(' ', '_') # replace spaces with '_' for the file name\n",
    "hospital_year = f'{hospital}_{file_info.year}'\n",
    "\n",
    "output_folder = os.path.join(ROOT_DIR, 'normalized_revision_data/')\n",
    "\n",
    "if not os.path.exists(output_folder):\n",
    "    os.mkdir(output_folder)\n",
    "\n",
    "NEW = '_NEW'\n",
    "    \n",
    "output_path = os.path.join(ROOT_DIR, 'normalized_revision_data/') + hospital_year + NEW + '.csv'\n",
    "\n",
    "df_revised_case_normalized.sort_values('aimedic_id').to_csv(output_path)\n",
    "\n",
    "\n"
   ]
  }
 ],
 "metadata": {
  "kernelspec": {
   "display_name": "Python 3 (ipykernel)",
   "language": "python",
   "name": "python3"
  },
  "language_info": {
   "codemirror_mode": {
    "name": "ipython",
    "version": 3
   },
   "file_extension": ".py",
   "mimetype": "text/x-python",
   "name": "python",
   "nbconvert_exporter": "python",
   "pygments_lexer": "ipython3",
   "version": "3.10.6"
  }
 },
 "nbformat": 4,
 "nbformat_minor": 5
}
