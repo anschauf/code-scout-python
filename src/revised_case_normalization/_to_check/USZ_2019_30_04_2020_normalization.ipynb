{
 "cells": [
  {
   "cell_type": "raw",
   "id": "79034e7c-e3bb-4c7c-990a-2965e28678e2",
   "metadata": {
    "pycharm": {
     "name": "#%% md\n"
    }
   },
   "source": [
    "# Revised case normalization for USZ 2020\n",
    "\n",
    "This jupyter notebook is used to normalize the revised case from DtoD.\n",
    "\n",
    "Before runing the notebook, raw_data folder need to added to the root directory\n",
    "\n",
    "The raw data folder can be find here: https://aimedic.sharepoint.com/:f:/s/dev/Ejx_A1dg8gtPumFknOWOh0oBi6ofx9hctYiq3c-0gH9vYA?e=UmcgrS\n",
    "\n",
    "Normalization:\n",
    "\n",
    "-  Convert the column names to the name used in the Database\n",
    "-  Delete cases which is empty in the follow columns VALIDATION_COLS: 'case_id', 'patient_id', 'gender', 'age_years', duration_of_stay',  'pccl',  'drg'\n",
    "- choose neccessary columns COLS_TO_SELECT: case_id, patient_id, gender, age_years, duration_of_stay, pccl, drg, pd, bfs_code, added_icds, removed_icds, added_chops, removed_chops\n",
    "- still need to do (TODO):    \n",
    "    -  Check CHOP upper/lowercase\n",
    "    -  Check whether the PD changed. If it did, new and old PD are stored together with added and removed ICDs, respectively\n",
    "    -  Pad case IDs with 0s\n",
    "    -  Write function to validate cases\n"
   ]
  },
  {
   "cell_type": "code",
   "execution_count": 1,
   "id": "2acf8333-0c08-4555-b245-1f378f5b9f1f",
   "metadata": {
    "pycharm": {
     "is_executing": true,
     "name": "#%%\n"
    }
   },
   "outputs": [
    {
     "name": "stderr",
     "output_type": "stream",
     "text": [
      "/home/jovyan/work/src/models/BfsCase.py:5: SAWarning: On class 'BfsCase', Column object 'drg_cost_weight' named directly multiple times, only one will be used: drg_cost_weight, effective_cost_weight. Consider using orm.synonym instead\n",
      "  class BfsCase(Base):\n"
     ]
    }
   ],
   "source": [
    "import pandas as pd\n",
    "import os\n",
    "from dataclasses import dataclass, field\n",
    "import sys\n",
    "sys.path.insert(0, '/home/jovyan/work')\n",
    "sys.path.insert(1, '/home/jovyan/work/src')\n",
    "sys.path.insert(2, '/home/jovyan/work/src/service')\n",
    "\n",
    "from service import bfs_cases_db_service as bfs_db\n",
    "\n",
    "from py.global_configs import *\n",
    "from py.normalize import normalize"
   ]
  },
  {
   "cell_type": "code",
   "execution_count": 2,
   "id": "7afa747d-1bf5-4644-9e9e-847a96e08dc2",
   "metadata": {},
   "outputs": [
    {
     "data": {
      "text/plain": [
       "dict_keys(['Hirslanden Salem 2017', 'Hirslanden Beau Site 2017', 'Hirslanden Linde 2017', 'Hirslanden Linde 2018', 'Hirslanden Salem 2018', 'Hirslanden Beau Site 2018', 'Winterthur 2017', 'Winterthur 2018', 'Winterthur 2019', 'Winterthur 2020', 'USZ 2018', 'USZ 2019', 'USZ 2019_30_04_2020', 'KSSG 2021'])"
      ]
     },
     "execution_count": 2,
     "metadata": {},
     "output_type": "execute_result"
    }
   ],
   "source": [
    "# check all the file name\n",
    "\n",
    "FILES_TO_ANALYZE.keys()\n"
   ]
  },
  {
   "cell_type": "code",
   "execution_count": 3,
   "id": "3745ce47-813d-4cbe-b275-25417714a5a6",
   "metadata": {},
   "outputs": [
    {
     "data": {
      "text/plain": [
       "FileInfo(path='/home/jovyan/work/src/revised_case_normalization/raw_data/USZ_2018-2019_20200730.xlsx', hospital_name_db='USZ', year='2019-2020', sheets=['Rückmeldung_USZ_2019_30.04.2020'])"
      ]
     },
     "execution_count": 3,
     "metadata": {},
     "output_type": "execute_result"
    }
   ],
   "source": [
    "file = FILES_TO_ANALYZE['USZ 2019_30_04_2020']\n",
    "file"
   ]
  },
  {
   "cell_type": "code",
   "execution_count": 4,
   "id": "9b6a51f2-b09d-4f13-8233-39e382bd56df",
   "metadata": {},
   "outputs": [
    {
     "name": "stdout",
     "output_type": "stream",
     "text": [
      "Read 154 cases for USZ 2019-2020\n",
      "TYPES:\n",
      "case_id             string\n",
      "patient_id          string\n",
      "gender              string\n",
      "age_years            int64\n",
      "duration_of_stay     int64\n",
      "pccl                 int64\n",
      "drg                 string\n",
      "pd                  string\n",
      "bfs_code            string\n",
      "added_icds          string\n",
      "removed_icds        string\n",
      "added_chops         string\n",
      "removed_chops       string\n",
      "dtype: object\n"
     ]
    }
   ],
   "source": [
    "\n",
    "df_revised_case_d2d = normalize(file, 0)"
   ]
  },
  {
   "cell_type": "code",
   "execution_count": 5,
   "id": "c5bdeaa9-6854-4f37-9560-4525d6b30682",
   "metadata": {},
   "outputs": [
    {
     "data": {
      "text/html": [
       "<div>\n",
       "<style scoped>\n",
       "    .dataframe tbody tr th:only-of-type {\n",
       "        vertical-align: middle;\n",
       "    }\n",
       "\n",
       "    .dataframe tbody tr th {\n",
       "        vertical-align: top;\n",
       "    }\n",
       "\n",
       "    .dataframe thead th {\n",
       "        text-align: right;\n",
       "    }\n",
       "</style>\n",
       "<table border=\"1\" class=\"dataframe\">\n",
       "  <thead>\n",
       "    <tr style=\"text-align: right;\">\n",
       "      <th></th>\n",
       "      <th>case_id</th>\n",
       "      <th>patient_id</th>\n",
       "      <th>gender</th>\n",
       "      <th>age_years</th>\n",
       "      <th>duration_of_stay</th>\n",
       "      <th>pccl</th>\n",
       "      <th>drg</th>\n",
       "      <th>pd</th>\n",
       "      <th>bfs_code</th>\n",
       "      <th>added_icds</th>\n",
       "      <th>removed_icds</th>\n",
       "      <th>added_chops</th>\n",
       "      <th>removed_chops</th>\n",
       "    </tr>\n",
       "  </thead>\n",
       "  <tbody>\n",
       "    <tr>\n",
       "      <th>0</th>\n",
       "      <td>6130587</td>\n",
       "      <td>10709587</td>\n",
       "      <td>M</td>\n",
       "      <td>54</td>\n",
       "      <td>13</td>\n",
       "      <td>3</td>\n",
       "      <td>E06A</td>\n",
       "      <td>J4400</td>\n",
       "      <td>M200</td>\n",
       "      <td>F058</td>\n",
       "      <td>&lt;NA&gt;</td>\n",
       "      <td>99b813::20181227,009a13:L:20181231,948x41::201...</td>\n",
       "      <td>99B813::20181227,009A13:L:20181231,948X41::201...</td>\n",
       "    </tr>\n",
       "    <tr>\n",
       "      <th>1</th>\n",
       "      <td>6171196</td>\n",
       "      <td>5863929</td>\n",
       "      <td>M</td>\n",
       "      <td>62</td>\n",
       "      <td>5</td>\n",
       "      <td>3</td>\n",
       "      <td>D62C</td>\n",
       "      <td>J068</td>\n",
       "      <td>M800</td>\n",
       "      <td>I8028,C770,C787</td>\n",
       "      <td>&lt;NA&gt;</td>\n",
       "      <td>890a11::20190211</td>\n",
       "      <td>890A11::20190211</td>\n",
       "    </tr>\n",
       "    <tr>\n",
       "      <th>2</th>\n",
       "      <td>6269659</td>\n",
       "      <td>10160906</td>\n",
       "      <td>W</td>\n",
       "      <td>74</td>\n",
       "      <td>36</td>\n",
       "      <td>3</td>\n",
       "      <td>G72C</td>\n",
       "      <td>R11</td>\n",
       "      <td>M100</td>\n",
       "      <td>R64</td>\n",
       "      <td>&lt;NA&gt;</td>\n",
       "      <td>948x41::20190607,99c121::20190607</td>\n",
       "      <td>948X41::20190607,99C121::20190607</td>\n",
       "    </tr>\n",
       "    <tr>\n",
       "      <th>3</th>\n",
       "      <td>6329461</td>\n",
       "      <td>10156863</td>\n",
       "      <td>W</td>\n",
       "      <td>79</td>\n",
       "      <td>6</td>\n",
       "      <td>3</td>\n",
       "      <td>B68C</td>\n",
       "      <td>G3531</td>\n",
       "      <td>M100</td>\n",
       "      <td>R471</td>\n",
       "      <td>&lt;NA&gt;</td>\n",
       "      <td>99c11d::20190708,948x41::20190709</td>\n",
       "      <td>99C11D::20190708,948X41::20190709</td>\n",
       "    </tr>\n",
       "    <tr>\n",
       "      <th>4</th>\n",
       "      <td>6143166</td>\n",
       "      <td>10424299</td>\n",
       "      <td>M</td>\n",
       "      <td>75</td>\n",
       "      <td>5</td>\n",
       "      <td>3</td>\n",
       "      <td>E77E</td>\n",
       "      <td>J690</td>\n",
       "      <td>M100</td>\n",
       "      <td>E43</td>\n",
       "      <td>&lt;NA&gt;</td>\n",
       "      <td>890a21::20190115</td>\n",
       "      <td>890A21::20190115</td>\n",
       "    </tr>\n",
       "  </tbody>\n",
       "</table>\n",
       "</div>"
      ],
      "text/plain": [
       "   case_id patient_id gender  age_years  duration_of_stay  pccl   drg     pd  \\\n",
       "0  6130587   10709587      M         54                13     3  E06A  J4400   \n",
       "1  6171196    5863929      M         62                 5     3  D62C   J068   \n",
       "2  6269659   10160906      W         74                36     3  G72C    R11   \n",
       "3  6329461   10156863      W         79                 6     3  B68C  G3531   \n",
       "4  6143166   10424299      M         75                 5     3  E77E   J690   \n",
       "\n",
       "  bfs_code       added_icds removed_icds  \\\n",
       "0     M200             F058         <NA>   \n",
       "1     M800  I8028,C770,C787         <NA>   \n",
       "2     M100              R64         <NA>   \n",
       "3     M100             R471         <NA>   \n",
       "4     M100              E43         <NA>   \n",
       "\n",
       "                                         added_chops  \\\n",
       "0  99b813::20181227,009a13:L:20181231,948x41::201...   \n",
       "1                                   890a11::20190211   \n",
       "2                  948x41::20190607,99c121::20190607   \n",
       "3                  99c11d::20190708,948x41::20190709   \n",
       "4                                   890a21::20190115   \n",
       "\n",
       "                                       removed_chops  \n",
       "0  99B813::20181227,009A13:L:20181231,948X41::201...  \n",
       "1                                   890A11::20190211  \n",
       "2                  948X41::20190607,99C121::20190607  \n",
       "3                  99C11D::20190708,948X41::20190709  \n",
       "4                                   890A21::20190115  "
      ]
     },
     "execution_count": 5,
     "metadata": {},
     "output_type": "execute_result"
    }
   ],
   "source": [
    "df_revised_case_d2d.head()"
   ]
  },
  {
   "cell_type": "markdown",
   "id": "4558e4f8",
   "metadata": {
    "pycharm": {
     "name": "#%% md\n"
    }
   },
   "source": [
    "# match to the database\n"
   ]
  },
  {
   "cell_type": "code",
   "execution_count": 6,
   "id": "ac5bc674-a6b4-447a-a630-33d25180f9c4",
   "metadata": {},
   "outputs": [
    {
     "data": {
      "text/plain": [
       "array(['6130587', '6171196', '6269659', '6329461', '6143166', '6152953',\n",
       "       '6175818', '6163583', '6157051', '6109664', '6310073', '6149288',\n",
       "       '6382682', '6421210', '6451720', '6460422', '6444850', '6456868',\n",
       "       '6461763', '6498608', '6366617', '6450099', '6472113', '6472399',\n",
       "       '6504693', '6444835', '6485720', '6454834', '6479102', '6442843',\n",
       "       '6445779', '6505033', '6470578', '6490778', '6463477', '6475938',\n",
       "       '6477686', '6486979', '6487991', '6501005', '6494118', '6482752',\n",
       "       '6503090', '6458354', '6472143', '6481583', '6467504', '6504436',\n",
       "       '6430480', '6470888', '6506865', '6514678', '6516985', '6479305',\n",
       "       '6485912', '6445940', '6453860', '6456105', '6501187', '6445671',\n",
       "       '6495041', '6506260', '6506464', '6247973', '6513021', '6473552',\n",
       "       '6246743', '6129004', '6160852', '6132798', '6159087', '6139918',\n",
       "       '6238727', '6281216', '6166492', '6253658', '6423485', '6143914',\n",
       "       '6156358', '6414478', '6438206', '6169777', '6470185', '6244807',\n",
       "       '6496212', '6373512', '6185615', '6226383', '6360396', '6292364',\n",
       "       '6411701', '6447339', '6327237', '6378377', '6343073', '6400797',\n",
       "       '6413014', '6323020', '6325880', '6392994', '6235924', '6389723',\n",
       "       '6368113', '6290255', '6236909', '6149389', '6131865', '6244881',\n",
       "       '6249549', '6254689', '6203737', '6269634', '6256463', '6247207',\n",
       "       '6295465', '6303078', '6303905', '6392382', '6267949', '6346871',\n",
       "       '6480276', '6386394', '6130321', '6341567', '6394409', '6395888',\n",
       "       '6408016', '6420458', '6453672', '6506254', '6216821', '6273418',\n",
       "       '6172978', '6205427', '6135736', '6300361', '6441232', '6294287',\n",
       "       '6377540', '6306620', '6324560', '6288636', '6293983', '6303398',\n",
       "       '6261877', '6280581', '6292141', '6368422', '6449048', '6373573',\n",
       "       '6475384', '6413158', '6351575', '6395577'], dtype=object)"
      ]
     },
     "execution_count": 6,
     "metadata": {},
     "output_type": "execute_result"
    }
   ],
   "source": [
    "# get the case_id from revised_case\n",
    "\n",
    "revised_case_id = df_revised_case_d2d['case_id'].values\n",
    "revised_case_id"
   ]
  },
  {
   "cell_type": "code",
   "execution_count": 7,
   "id": "01dcb99c-b01f-4808-b9c0-a450a2f3150e",
   "metadata": {},
   "outputs": [
    {
     "data": {
      "text/html": [
       "<div>\n",
       "<style scoped>\n",
       "    .dataframe tbody tr th:only-of-type {\n",
       "        vertical-align: middle;\n",
       "    }\n",
       "\n",
       "    .dataframe tbody tr th {\n",
       "        vertical-align: top;\n",
       "    }\n",
       "\n",
       "    .dataframe thead th {\n",
       "        text-align: right;\n",
       "    }\n",
       "</style>\n",
       "<table border=\"1\" class=\"dataframe\">\n",
       "  <thead>\n",
       "    <tr style=\"text-align: right;\">\n",
       "      <th></th>\n",
       "      <th>drg_cost_weight</th>\n",
       "      <th>aimedic_id</th>\n",
       "      <th>hospital_id</th>\n",
       "      <th>case_id</th>\n",
       "      <th>patient_id</th>\n",
       "      <th>age_years</th>\n",
       "      <th>age_days</th>\n",
       "      <th>gender</th>\n",
       "      <th>duration_of_stay</th>\n",
       "      <th>clinic_id</th>\n",
       "      <th>ventilation_hours</th>\n",
       "      <th>admission_weight</th>\n",
       "      <th>gestation_age</th>\n",
       "      <th>admission_date</th>\n",
       "      <th>admission_type</th>\n",
       "      <th>discharge_date</th>\n",
       "      <th>discharge_type</th>\n",
       "      <th>drg</th>\n",
       "      <th>adrg</th>\n",
       "      <th>pccl</th>\n",
       "    </tr>\n",
       "  </thead>\n",
       "  <tbody>\n",
       "  </tbody>\n",
       "</table>\n",
       "</div>"
      ],
      "text/plain": [
       "Empty DataFrame\n",
       "Columns: [drg_cost_weight, aimedic_id, hospital_id, case_id, patient_id, age_years, age_days, gender, duration_of_stay, clinic_id, ventilation_hours, admission_weight, gestation_age, admission_date, admission_type, discharge_date, discharge_type, drg, adrg, pccl]\n",
       "Index: []"
      ]
     },
     "execution_count": 7,
     "metadata": {},
     "output_type": "execute_result"
    }
   ],
   "source": [
    "# match to the database\n",
    "revised_case_db = bfs_db.get_bfs_cases_by_ids(revised_case_id)\n",
    "revised_case_db.head()"
   ]
  },
  {
   "cell_type": "code",
   "execution_count": 8,
   "id": "9cbccb57-930a-4882-a585-37f70e7d3e94",
   "metadata": {},
   "outputs": [
    {
     "name": "stdout",
     "output_type": "stream",
     "text": [
      "There are 0 out of 154 revised cases from DtoD that are matched with the database for USZ 2019-2020\n"
     ]
    }
   ],
   "source": [
    "# \n",
    "print('There are {} out of {} revised cases from DtoD that are matched with the database for {} {}'.format(len(revised_case_db), len(revised_case_id), file.hospital_name_db, file.year))"
   ]
  },
  {
   "cell_type": "code",
   "execution_count": 9,
   "id": "265fbf94-6820-4b3b-8022-d699e44b35af",
   "metadata": {},
   "outputs": [],
   "source": [
    "# if we find the match cases, then we need to check if the case_id, gender, year....are match"
   ]
  }
 ],
 "metadata": {
  "kernelspec": {
   "display_name": "Python 3 (ipykernel)",
   "language": "python",
   "name": "python3"
  },
  "language_info": {
   "codemirror_mode": {
    "name": "ipython",
    "version": 3
   },
   "file_extension": ".py",
   "mimetype": "text/x-python",
   "name": "python",
   "nbconvert_exporter": "python",
   "pygments_lexer": "ipython3",
   "version": "3.10.6"
  }
 },
 "nbformat": 4,
 "nbformat_minor": 5
}
