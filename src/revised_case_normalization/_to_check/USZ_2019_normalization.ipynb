{
 "cells": [
  {
   "cell_type": "raw",
   "id": "79034e7c-e3bb-4c7c-990a-2965e28678e2",
   "metadata": {
    "pycharm": {
     "name": "#%% md\n"
    }
   },
   "source": [
    "# Revised case normalization for USZ 2019\n",
    "\n",
    "This jupyter notebook is used to normalize the revised case from DtoD.\n",
    "\n",
    "Before runing the notebook, raw_data folder need to added to the root directory\n",
    "\n",
    "The raw data folder can be find here: https://aimedic.sharepoint.com/:f:/s/dev/Ejx_A1dg8gtPumFknOWOh0oBi6ofx9hctYiq3c-0gH9vYA?e=UmcgrS\n",
    "\n",
    "Normalization:\n",
    "\n",
    "-  Convert the column names to the name used in the Database\n",
    "-  Delete cases which is empty in the follow columns VALIDATION_COLS: 'case_id', 'patient_id', 'gender', 'age_years', duration_of_stay',  'pccl',  'drg'\n",
    "- choose neccessary columns COLS_TO_SELECT: case_id, patient_id, gender, age_years, duration_of_stay, pccl, drg, pd, bfs_code, added_icds, removed_icds, added_chops, removed_chops\n",
    "- still need to do (TODO):    \n",
    "    -  Check CHOP upper/lowercase\n",
    "    -  Check whether the PD changed. If it did, new and old PD are stored together with added and removed ICDs, respectively\n",
    "    -  Pad case IDs with 0s\n",
    "    -  Write function to validate cases\n"
   ]
  },
  {
   "cell_type": "code",
   "execution_count": 1,
   "id": "2acf8333-0c08-4555-b245-1f378f5b9f1f",
   "metadata": {
    "pycharm": {
     "is_executing": true,
     "name": "#%%\n"
    }
   },
   "outputs": [
    {
     "name": "stderr",
     "output_type": "stream",
     "text": [
      "/home/jovyan/work/src/models/BfsCase.py:5: SAWarning: On class 'BfsCase', Column object 'drg_cost_weight' named directly multiple times, only one will be used: drg_cost_weight, effective_cost_weight. Consider using orm.synonym instead\n",
      "  class BfsCase(Base):\n"
     ]
    }
   ],
   "source": [
    "import pandas as pd\n",
    "import os\n",
    "from dataclasses import dataclass, field\n",
    "import sys\n",
    "sys.path.insert(0, '/home/jovyan/work')\n",
    "sys.path.insert(1, '/home/jovyan/work/src')\n",
    "sys.path.insert(2, '/home/jovyan/work/src/service')\n",
    "\n",
    "from service import bfs_cases_db_service as bfs_db\n",
    "\n",
    "from py.global_configs import *\n",
    "from py.normalize import normalize"
   ]
  },
  {
   "cell_type": "code",
   "execution_count": 2,
   "id": "7afa747d-1bf5-4644-9e9e-847a96e08dc2",
   "metadata": {},
   "outputs": [
    {
     "data": {
      "text/plain": [
       "dict_keys(['Hirslanden Salem 2017', 'Hirslanden Beau Site 2017', 'Hirslanden Linde 2017', 'Hirslanden Linde 2018', 'Hirslanden Salem 2018', 'Hirslanden Beau Site 2018', 'Winterthur 2017', 'Winterthur 2018', 'Winterthur 2019', 'Winterthur 2020', 'USZ 2018', 'USZ 2019', 'USZ 2019_30_04_2020', 'KSSG 2021'])"
      ]
     },
     "execution_count": 2,
     "metadata": {},
     "output_type": "execute_result"
    }
   ],
   "source": [
    "# check all the file name\n",
    "\n",
    "FILES_TO_ANALYZE.keys()\n"
   ]
  },
  {
   "cell_type": "code",
   "execution_count": null,
   "id": "770896f3-daa6-4113-85d9-a89cd505e19e",
   "metadata": {},
   "outputs": [],
   "source": []
  },
  {
   "cell_type": "code",
   "execution_count": 3,
   "id": "3745ce47-813d-4cbe-b275-25417714a5a6",
   "metadata": {},
   "outputs": [
    {
     "data": {
      "text/plain": [
       "FileInfo(path='/home/jovyan/work/src/revised_case_normalization/raw_data/USZ_2018-2019_20200730.xlsx', hospital_name_db='USZ', year='2019', sheets=['Gesamtauffällige_USZ_2019'])"
      ]
     },
     "execution_count": 3,
     "metadata": {},
     "output_type": "execute_result"
    }
   ],
   "source": [
    "file = FILES_TO_ANALYZE['USZ 2019']\n",
    "file"
   ]
  },
  {
   "cell_type": "code",
   "execution_count": 4,
   "id": "9b6a51f2-b09d-4f13-8233-39e382bd56df",
   "metadata": {},
   "outputs": [
    {
     "name": "stdout",
     "output_type": "stream",
     "text": [
      "Read 150 cases for USZ 2019\n",
      "TYPES:\n",
      "case_id             string\n",
      "patient_id          string\n",
      "gender              string\n",
      "age_years            int64\n",
      "duration_of_stay     int64\n",
      "pccl                 int64\n",
      "drg                 string\n",
      "pd                  string\n",
      "bfs_code            string\n",
      "added_icds          string\n",
      "removed_icds        string\n",
      "added_chops         string\n",
      "removed_chops       string\n",
      "dtype: object\n"
     ]
    }
   ],
   "source": [
    "\n",
    "df_revised_case_d2d = normalize(file, 0)"
   ]
  },
  {
   "cell_type": "code",
   "execution_count": 5,
   "id": "c5bdeaa9-6854-4f37-9560-4525d6b30682",
   "metadata": {},
   "outputs": [
    {
     "data": {
      "text/html": [
       "<div>\n",
       "<style scoped>\n",
       "    .dataframe tbody tr th:only-of-type {\n",
       "        vertical-align: middle;\n",
       "    }\n",
       "\n",
       "    .dataframe tbody tr th {\n",
       "        vertical-align: top;\n",
       "    }\n",
       "\n",
       "    .dataframe thead th {\n",
       "        text-align: right;\n",
       "    }\n",
       "</style>\n",
       "<table border=\"1\" class=\"dataframe\">\n",
       "  <thead>\n",
       "    <tr style=\"text-align: right;\">\n",
       "      <th></th>\n",
       "      <th>case_id</th>\n",
       "      <th>patient_id</th>\n",
       "      <th>gender</th>\n",
       "      <th>age_years</th>\n",
       "      <th>duration_of_stay</th>\n",
       "      <th>pccl</th>\n",
       "      <th>drg</th>\n",
       "      <th>pd</th>\n",
       "      <th>bfs_code</th>\n",
       "      <th>added_icds</th>\n",
       "      <th>removed_icds</th>\n",
       "      <th>added_chops</th>\n",
       "      <th>removed_chops</th>\n",
       "    </tr>\n",
       "  </thead>\n",
       "  <tbody>\n",
       "    <tr>\n",
       "      <th>0</th>\n",
       "      <td>6400282213</td>\n",
       "      <td>3ED8F10117FCF5F5</td>\n",
       "      <td>M</td>\n",
       "      <td>54</td>\n",
       "      <td>13</td>\n",
       "      <td>3</td>\n",
       "      <td>E06A</td>\n",
       "      <td>J4400</td>\n",
       "      <td>M200</td>\n",
       "      <td>F058</td>\n",
       "      <td>&lt;NA&gt;</td>\n",
       "      <td>99b813::20181227,009a13:L:20181231,948x41::201...</td>\n",
       "      <td>99B813::20181227,009A13:L:20181231,948X41::201...</td>\n",
       "    </tr>\n",
       "    <tr>\n",
       "      <th>1</th>\n",
       "      <td>6400287076</td>\n",
       "      <td>55C5A17F71DADEA0</td>\n",
       "      <td>M</td>\n",
       "      <td>62</td>\n",
       "      <td>5</td>\n",
       "      <td>3</td>\n",
       "      <td>D62C</td>\n",
       "      <td>J068</td>\n",
       "      <td>M800</td>\n",
       "      <td>I8028,C770,C787</td>\n",
       "      <td>&lt;NA&gt;</td>\n",
       "      <td>890a11::20190211</td>\n",
       "      <td>890A11::20190211</td>\n",
       "    </tr>\n",
       "    <tr>\n",
       "      <th>2</th>\n",
       "      <td>6400306817</td>\n",
       "      <td>0150AC67E3196B63</td>\n",
       "      <td>W</td>\n",
       "      <td>74</td>\n",
       "      <td>36</td>\n",
       "      <td>3</td>\n",
       "      <td>G72C</td>\n",
       "      <td>R11</td>\n",
       "      <td>M100</td>\n",
       "      <td>R64</td>\n",
       "      <td>&lt;NA&gt;</td>\n",
       "      <td>948x41::20190607,99c121::20190607</td>\n",
       "      <td>948X41::20190607,99C121::20190607</td>\n",
       "    </tr>\n",
       "    <tr>\n",
       "      <th>3</th>\n",
       "      <td>6400316927</td>\n",
       "      <td>153929A139272585</td>\n",
       "      <td>W</td>\n",
       "      <td>79</td>\n",
       "      <td>6</td>\n",
       "      <td>3</td>\n",
       "      <td>B68C</td>\n",
       "      <td>G3531</td>\n",
       "      <td>M100</td>\n",
       "      <td>R471</td>\n",
       "      <td>&lt;NA&gt;</td>\n",
       "      <td>99c11d::20190708,948x41::20190709</td>\n",
       "      <td>99C11D::20190708,948X41::20190709</td>\n",
       "    </tr>\n",
       "    <tr>\n",
       "      <th>4</th>\n",
       "      <td>6400278895</td>\n",
       "      <td>014A89BB816D9215</td>\n",
       "      <td>W</td>\n",
       "      <td>71</td>\n",
       "      <td>44</td>\n",
       "      <td>3</td>\n",
       "      <td>F75D</td>\n",
       "      <td>T827</td>\n",
       "      <td>M200</td>\n",
       "      <td>D508</td>\n",
       "      <td>D648</td>\n",
       "      <td>890a19::20190110,890a32::20181220</td>\n",
       "      <td>890A19::20190110,890A32::20181220</td>\n",
       "    </tr>\n",
       "  </tbody>\n",
       "</table>\n",
       "</div>"
      ],
      "text/plain": [
       "      case_id        patient_id gender  age_years  duration_of_stay  pccl  \\\n",
       "0  6400282213  3ED8F10117FCF5F5      M         54                13     3   \n",
       "1  6400287076  55C5A17F71DADEA0      M         62                 5     3   \n",
       "2  6400306817  0150AC67E3196B63      W         74                36     3   \n",
       "3  6400316927  153929A139272585      W         79                 6     3   \n",
       "4  6400278895  014A89BB816D9215      W         71                44     3   \n",
       "\n",
       "    drg     pd bfs_code       added_icds removed_icds  \\\n",
       "0  E06A  J4400     M200             F058         <NA>   \n",
       "1  D62C   J068     M800  I8028,C770,C787         <NA>   \n",
       "2  G72C    R11     M100              R64         <NA>   \n",
       "3  B68C  G3531     M100             R471         <NA>   \n",
       "4  F75D   T827     M200             D508         D648   \n",
       "\n",
       "                                         added_chops  \\\n",
       "0  99b813::20181227,009a13:L:20181231,948x41::201...   \n",
       "1                                   890a11::20190211   \n",
       "2                  948x41::20190607,99c121::20190607   \n",
       "3                  99c11d::20190708,948x41::20190709   \n",
       "4                  890a19::20190110,890a32::20181220   \n",
       "\n",
       "                                       removed_chops  \n",
       "0  99B813::20181227,009A13:L:20181231,948X41::201...  \n",
       "1                                   890A11::20190211  \n",
       "2                  948X41::20190607,99C121::20190607  \n",
       "3                  99C11D::20190708,948X41::20190709  \n",
       "4                  890A19::20190110,890A32::20181220  "
      ]
     },
     "execution_count": 5,
     "metadata": {},
     "output_type": "execute_result"
    }
   ],
   "source": [
    "df_revised_case_d2d.head()"
   ]
  },
  {
   "cell_type": "markdown",
   "id": "4558e4f8",
   "metadata": {
    "pycharm": {
     "name": "#%% md\n"
    }
   },
   "source": [
    "# match to the database\n"
   ]
  },
  {
   "cell_type": "code",
   "execution_count": 6,
   "id": "ac5bc674-a6b4-447a-a630-33d25180f9c4",
   "metadata": {},
   "outputs": [
    {
     "data": {
      "text/plain": [
       "array(['6400282213', '6400287076', '6400306817', '6400316927',\n",
       "       '6400278895', '6400284826', '6400285318', '6400295190',\n",
       "       '6400285972', '6400296127', '6400287392', '6400305514',\n",
       "       '6400315570', '6400325817', '6400325819', '6400326160',\n",
       "       '6400326265', '6400326306', '6400329277', '6400331178',\n",
       "       '6400331492', '6400331625', '6400332257', '6400334309',\n",
       "       '6400334358', '6400334421', '6400335091', '6400338217',\n",
       "       '6400338301', '6400339053', '6400339098', '6400339110',\n",
       "       '6400339524', '6400343882', '6400330582', '6400330942',\n",
       "       '6400330984', '6400331207', '6400335350', '6400335613',\n",
       "       '6400339577', '6400343386', '6400343864', '6400330417',\n",
       "       '6400330825', '6400331098', '6400342944', '6400327431',\n",
       "       '6400329606', '6400330783', '6400335620', '6400335765',\n",
       "       '6400339824', '6400339830', '6400339976', '6400340009',\n",
       "       '6400343280', '6400343475', '6400325852', '6400325863',\n",
       "       '6400330299', '6400330346', '6400335461', '6400281744',\n",
       "       '6400284510', '6400286261', '6400291790', '6400292219',\n",
       "       '6400293457', '6400294492', '6400295467', '6400295715',\n",
       "       '6400296563', '6400340445', '6400343130', '6400288062',\n",
       "       '6400291507', '6400291932', '6400296339', '6400301347',\n",
       "       '6400307324', '6400325153', '6400330763', '6400331761',\n",
       "       '6400335509', '6400341433', '6400342123', '6400300204',\n",
       "       '6400312853', '6400314519', '6400315406', '6400320058',\n",
       "       '6400324757', '6400330095', '6400291805', '6400314519',\n",
       "       '6400331072', '6400339823', '6400342553', '6400282164',\n",
       "       '6400282367', '6400285330', '6400291993', '6400300830',\n",
       "       '6400315483', '6400325050', '6400328421', '6400328455',\n",
       "       '6400332602', '6400336925', '6400337124', '6400337277',\n",
       "       '6400340719', '6400298824', '6400299618', '6400300748',\n",
       "       '6400301359', '6400302473', '6400302529', '6400303869',\n",
       "       '6400304740', '6400306997', '6400308198', '6400308280',\n",
       "       '6400310951', '6400311954', '6400312680', '6400313602',\n",
       "       '6400313860', '6400314953', '6400316792', '6400317606',\n",
       "       '6400319617', '6400319718', '6400294648', '6400296151',\n",
       "       '6400323572', '6400287189', '6400293734', '6400298961',\n",
       "       '6400300686', '6400300723', '6400304124', '6400304642',\n",
       "       '6400304907', '6400305282', '6400306506', '6400307264',\n",
       "       '6400308115', '6400342186'], dtype=object)"
      ]
     },
     "execution_count": 6,
     "metadata": {},
     "output_type": "execute_result"
    }
   ],
   "source": [
    "# get the case_id from revised_case\n",
    "\n",
    "revised_case_id = df_revised_case_d2d['case_id'].values\n",
    "revised_case_id"
   ]
  },
  {
   "cell_type": "code",
   "execution_count": 7,
   "id": "01dcb99c-b01f-4808-b9c0-a450a2f3150e",
   "metadata": {},
   "outputs": [
    {
     "data": {
      "text/html": [
       "<div>\n",
       "<style scoped>\n",
       "    .dataframe tbody tr th:only-of-type {\n",
       "        vertical-align: middle;\n",
       "    }\n",
       "\n",
       "    .dataframe tbody tr th {\n",
       "        vertical-align: top;\n",
       "    }\n",
       "\n",
       "    .dataframe thead th {\n",
       "        text-align: right;\n",
       "    }\n",
       "</style>\n",
       "<table border=\"1\" class=\"dataframe\">\n",
       "  <thead>\n",
       "    <tr style=\"text-align: right;\">\n",
       "      <th></th>\n",
       "      <th>drg_cost_weight</th>\n",
       "      <th>aimedic_id</th>\n",
       "      <th>hospital_id</th>\n",
       "      <th>case_id</th>\n",
       "      <th>patient_id</th>\n",
       "      <th>age_years</th>\n",
       "      <th>age_days</th>\n",
       "      <th>gender</th>\n",
       "      <th>duration_of_stay</th>\n",
       "      <th>clinic_id</th>\n",
       "      <th>ventilation_hours</th>\n",
       "      <th>admission_weight</th>\n",
       "      <th>gestation_age</th>\n",
       "      <th>admission_date</th>\n",
       "      <th>admission_type</th>\n",
       "      <th>discharge_date</th>\n",
       "      <th>discharge_type</th>\n",
       "      <th>drg</th>\n",
       "      <th>adrg</th>\n",
       "      <th>pccl</th>\n",
       "    </tr>\n",
       "  </thead>\n",
       "  <tbody>\n",
       "    <tr>\n",
       "      <th>0</th>\n",
       "      <td>0.720</td>\n",
       "      <td>337849</td>\n",
       "      <td>14</td>\n",
       "      <td>6400278895</td>\n",
       "      <td>014A89BB816D9215</td>\n",
       "      <td>71</td>\n",
       "      <td>0</td>\n",
       "      <td>W</td>\n",
       "      <td>44</td>\n",
       "      <td>4</td>\n",
       "      <td>0</td>\n",
       "      <td>0</td>\n",
       "      <td>0</td>\n",
       "      <td>2018-11-30</td>\n",
       "      <td>11</td>\n",
       "      <td>2019-01-13</td>\n",
       "      <td>00</td>\n",
       "      <td>F75D</td>\n",
       "      <td>F75</td>\n",
       "      <td>3</td>\n",
       "    </tr>\n",
       "    <tr>\n",
       "      <th>1</th>\n",
       "      <td>0.720</td>\n",
       "      <td>337850</td>\n",
       "      <td>14</td>\n",
       "      <td>6400278895</td>\n",
       "      <td>7BCC689D46B39487</td>\n",
       "      <td>71</td>\n",
       "      <td>0</td>\n",
       "      <td>W</td>\n",
       "      <td>44</td>\n",
       "      <td>4</td>\n",
       "      <td>0</td>\n",
       "      <td>0</td>\n",
       "      <td>0</td>\n",
       "      <td>2018-11-30</td>\n",
       "      <td>11</td>\n",
       "      <td>2019-01-13</td>\n",
       "      <td>00</td>\n",
       "      <td>F75D</td>\n",
       "      <td>F75</td>\n",
       "      <td>3</td>\n",
       "    </tr>\n",
       "    <tr>\n",
       "      <th>2</th>\n",
       "      <td>1.759</td>\n",
       "      <td>339676</td>\n",
       "      <td>14</td>\n",
       "      <td>6400281744</td>\n",
       "      <td>9E37EB46636D9B84</td>\n",
       "      <td>86</td>\n",
       "      <td>0</td>\n",
       "      <td>W</td>\n",
       "      <td>12</td>\n",
       "      <td>3</td>\n",
       "      <td>0</td>\n",
       "      <td>0</td>\n",
       "      <td>0</td>\n",
       "      <td>2018-12-27</td>\n",
       "      <td>01</td>\n",
       "      <td>2019-01-08</td>\n",
       "      <td>00</td>\n",
       "      <td>F59C</td>\n",
       "      <td>F59</td>\n",
       "      <td>3</td>\n",
       "    </tr>\n",
       "    <tr>\n",
       "      <th>3</th>\n",
       "      <td>1.759</td>\n",
       "      <td>339677</td>\n",
       "      <td>14</td>\n",
       "      <td>6400281744</td>\n",
       "      <td>AAAF218127945BA0</td>\n",
       "      <td>86</td>\n",
       "      <td>0</td>\n",
       "      <td>W</td>\n",
       "      <td>12</td>\n",
       "      <td>3</td>\n",
       "      <td>0</td>\n",
       "      <td>0</td>\n",
       "      <td>0</td>\n",
       "      <td>2018-12-27</td>\n",
       "      <td>01</td>\n",
       "      <td>2019-01-08</td>\n",
       "      <td>00</td>\n",
       "      <td>F59C</td>\n",
       "      <td>F59</td>\n",
       "      <td>3</td>\n",
       "    </tr>\n",
       "    <tr>\n",
       "      <th>4</th>\n",
       "      <td>0.519</td>\n",
       "      <td>339976</td>\n",
       "      <td>14</td>\n",
       "      <td>6400282164</td>\n",
       "      <td>47AC5130DDC9249B</td>\n",
       "      <td>76</td>\n",
       "      <td>0</td>\n",
       "      <td>M</td>\n",
       "      <td>8</td>\n",
       "      <td>4</td>\n",
       "      <td>0</td>\n",
       "      <td>0</td>\n",
       "      <td>0</td>\n",
       "      <td>2018-12-26</td>\n",
       "      <td>06</td>\n",
       "      <td>2019-01-03</td>\n",
       "      <td>00</td>\n",
       "      <td>X60C</td>\n",
       "      <td>X60</td>\n",
       "      <td>2</td>\n",
       "    </tr>\n",
       "  </tbody>\n",
       "</table>\n",
       "</div>"
      ],
      "text/plain": [
       "   drg_cost_weight  aimedic_id  hospital_id     case_id        patient_id  \\\n",
       "0            0.720      337849           14  6400278895  014A89BB816D9215   \n",
       "1            0.720      337850           14  6400278895  7BCC689D46B39487   \n",
       "2            1.759      339676           14  6400281744  9E37EB46636D9B84   \n",
       "3            1.759      339677           14  6400281744  AAAF218127945BA0   \n",
       "4            0.519      339976           14  6400282164  47AC5130DDC9249B   \n",
       "\n",
       "   age_years  age_days gender  duration_of_stay  clinic_id  ventilation_hours  \\\n",
       "0         71         0      W                44          4                  0   \n",
       "1         71         0      W                44          4                  0   \n",
       "2         86         0      W                12          3                  0   \n",
       "3         86         0      W                12          3                  0   \n",
       "4         76         0      M                 8          4                  0   \n",
       "\n",
       "   admission_weight  gestation_age admission_date admission_type  \\\n",
       "0                 0              0     2018-11-30             11   \n",
       "1                 0              0     2018-11-30             11   \n",
       "2                 0              0     2018-12-27             01   \n",
       "3                 0              0     2018-12-27             01   \n",
       "4                 0              0     2018-12-26             06   \n",
       "\n",
       "  discharge_date discharge_type   drg adrg  pccl  \n",
       "0     2019-01-13             00  F75D  F75     3  \n",
       "1     2019-01-13             00  F75D  F75     3  \n",
       "2     2019-01-08             00  F59C  F59     3  \n",
       "3     2019-01-08             00  F59C  F59     3  \n",
       "4     2019-01-03             00  X60C  X60     2  "
      ]
     },
     "execution_count": 7,
     "metadata": {},
     "output_type": "execute_result"
    }
   ],
   "source": [
    "# match to the database\n",
    "revised_case_db = bfs_db.get_bfs_cases_by_ids(revised_case_id)\n",
    "revised_case_db.head()"
   ]
  },
  {
   "cell_type": "code",
   "execution_count": 8,
   "id": "9cbccb57-930a-4882-a585-37f70e7d3e94",
   "metadata": {},
   "outputs": [
    {
     "name": "stdout",
     "output_type": "stream",
     "text": [
      "There are 224 out of 150 revised cases from DtoD that are matched with the database for USZ 2019\n"
     ]
    }
   ],
   "source": [
    "# \n",
    "print('There are {} out of {} revised cases from DtoD that are matched with the database for {} {}'.format(len(revised_case_db), len(revised_case_id), file.hospital_name_db, file.year))"
   ]
  },
  {
   "cell_type": "markdown",
   "id": "5305189b-e61b-4c53-a3fc-5e0386498c86",
   "metadata": {},
   "source": [
    "### Attention, there are duplicated case_id in the USZ dataset\n",
    "e.g. 6400278895 has two patient_id"
   ]
  },
  {
   "cell_type": "code",
   "execution_count": null,
   "id": "e7e3f179-dc57-47f9-8e05-1a4a8647d8f6",
   "metadata": {},
   "outputs": [],
   "source": []
  },
  {
   "cell_type": "code",
   "execution_count": 9,
   "id": "265fbf94-6820-4b3b-8022-d699e44b35af",
   "metadata": {},
   "outputs": [],
   "source": [
    "# if we find the match cases, then we need to check if the case_id, gender, year....are match"
   ]
  }
 ],
 "metadata": {
  "kernelspec": {
   "display_name": "Python 3 (ipykernel)",
   "language": "python",
   "name": "python3"
  },
  "language_info": {
   "codemirror_mode": {
    "name": "ipython",
    "version": 3
   },
   "file_extension": ".py",
   "mimetype": "text/x-python",
   "name": "python",
   "nbconvert_exporter": "python",
   "pygments_lexer": "ipython3",
   "version": "3.10.6"
  }
 },
 "nbformat": 4,
 "nbformat_minor": 5
}
