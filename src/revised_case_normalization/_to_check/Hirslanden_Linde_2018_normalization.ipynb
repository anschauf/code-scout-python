{
 "cells": [
  {
   "cell_type": "markdown",
   "id": "4a803118-2413-461f-9e51-b0f8e88439b3",
   "metadata": {
    "pycharm": {
     "name": "#%% md\n"
    }
   },
   "source": [
    "# Revised case normalization for Hirslanden Linde 2018\n",
    "\n",
    "This jupyter notebook is used to normalize the revised case from DtoD.\n",
    "\n",
    "Before runing the notebook, raw_data folder need to added to the root directory\n",
    "\n",
    "The raw data folder can be find here: https://aimedic.sharepoint.com/:f:/s/dev/Ejx_A1dg8gtPumFknOWOh0oBi6ofx9hctYiq3c-0gH9vYA?e=UmcgrS\n",
    "\n",
    "Normalization:\n",
    "\n",
    "-  Convert the column names to the name used in the Database\n",
    "-  Delete cases which is empty in the follow columns VALIDATION_COLS: 'case_id', 'patient_id', 'gender', 'age_years', duration_of_stay',  'pccl',  'drg'\n",
    "- choose neccessary columns COLS_TO_SELECT: case_id, patient_id, gender, age_years, duration_of_stay, pccl, drg, pd, bfs_code, added_icds, removed_icds, added_chops, removed_chops\n",
    "- still need to do (TODO):    \n",
    "    -  Check CHOP upper/lowercase\n",
    "    -  Check whether the PD changed. If it did, new and old PD are stored together with added and removed ICDs, respectively\n",
    "    -  Pad case IDs with 0s\n",
    "    -  Write function to validate cases\n"
   ]
  },
  {
   "cell_type": "code",
   "execution_count": 1,
   "id": "2acf8333-0c08-4555-b245-1f378f5b9f1f",
   "metadata": {
    "pycharm": {
     "is_executing": true,
     "name": "#%%\n"
    }
   },
   "outputs": [
    {
     "name": "stderr",
     "output_type": "stream",
     "text": [
      "/home/jovyan/work/src/models/BfsCase.py:5: SAWarning: On class 'BfsCase', Column object 'drg_cost_weight' named directly multiple times, only one will be used: drg_cost_weight, effective_cost_weight. Consider using orm.synonym instead\n",
      "  class BfsCase(Base):\n"
     ]
    }
   ],
   "source": [
    "import pandas as pd\n",
    "import os\n",
    "from dataclasses import dataclass, field\n",
    "import sys\n",
    "sys.path.insert(0, '/home/jovyan/work')\n",
    "sys.path.insert(1, '/home/jovyan/work/src')\n",
    "sys.path.insert(2, '/home/jovyan/work/src/service')\n",
    "\n",
    "from service import bfs_cases_db_service as bfs_db\n",
    "\n",
    "from py.global_configs import *\n",
    "from py.normalize import normalize"
   ]
  },
  {
   "cell_type": "code",
   "execution_count": 2,
   "id": "7afa747d-1bf5-4644-9e9e-847a96e08dc2",
   "metadata": {},
   "outputs": [
    {
     "data": {
      "text/plain": [
       "dict_keys(['Hirslanden Salem 2017', 'Hirslanden Beau Site 2017', 'Hirslanden Linde 2017', 'Hirslanden Linde 2018', 'Hirslanden Salem 2018', 'Hirslanden Beau Site 2018'])"
      ]
     },
     "execution_count": 2,
     "metadata": {},
     "output_type": "execute_result"
    }
   ],
   "source": [
    "# check all the file name\n",
    "\n",
    "FILES_TO_ANALYZE.keys()\n"
   ]
  },
  {
   "cell_type": "code",
   "execution_count": 3,
   "id": "3745ce47-813d-4cbe-b275-25417714a5a6",
   "metadata": {},
   "outputs": [
    {
     "data": {
      "text/plain": [
       "FileInfo(path='/home/jovyan/work/src/revised_case_normalization/raw_data/HI-Bern_Salem_Beau Site_Linde.xlsx', hospital_name_db='Hirslanden Linde', year='2018', sheets=['Änderungen_LI_2018'])"
      ]
     },
     "execution_count": 3,
     "metadata": {},
     "output_type": "execute_result"
    }
   ],
   "source": [
    "file = FILES_TO_ANALYZE['Hirslanden Linde 2018']\n",
    "file"
   ]
  },
  {
   "cell_type": "code",
   "execution_count": 4,
   "id": "9b6a51f2-b09d-4f13-8233-39e382bd56df",
   "metadata": {},
   "outputs": [
    {
     "name": "stdout",
     "output_type": "stream",
     "text": [
      "Read 10 cases for Hirslanden Linde 2018\n",
      "TYPES:\n",
      "case_id             string\n",
      "patient_id          string\n",
      "gender              string\n",
      "age_years            int64\n",
      "duration_of_stay     int64\n",
      "pccl                 int64\n",
      "drg                 string\n",
      "pd                  string\n",
      "bfs_code            string\n",
      "added_icds          string\n",
      "removed_icds        string\n",
      "added_chops         string\n",
      "removed_chops       string\n",
      "dtype: object\n"
     ]
    }
   ],
   "source": [
    "\n",
    "df_revised_case_d2d = normalize(file, 0)"
   ]
  },
  {
   "cell_type": "code",
   "execution_count": 5,
   "id": "c5bdeaa9-6854-4f37-9560-4525d6b30682",
   "metadata": {},
   "outputs": [
    {
     "data": {
      "text/html": [
       "<div>\n",
       "<style scoped>\n",
       "    .dataframe tbody tr th:only-of-type {\n",
       "        vertical-align: middle;\n",
       "    }\n",
       "\n",
       "    .dataframe tbody tr th {\n",
       "        vertical-align: top;\n",
       "    }\n",
       "\n",
       "    .dataframe thead th {\n",
       "        text-align: right;\n",
       "    }\n",
       "</style>\n",
       "<table border=\"1\" class=\"dataframe\">\n",
       "  <thead>\n",
       "    <tr style=\"text-align: right;\">\n",
       "      <th></th>\n",
       "      <th>case_id</th>\n",
       "      <th>patient_id</th>\n",
       "      <th>gender</th>\n",
       "      <th>age_years</th>\n",
       "      <th>duration_of_stay</th>\n",
       "      <th>pccl</th>\n",
       "      <th>drg</th>\n",
       "      <th>pd</th>\n",
       "      <th>bfs_code</th>\n",
       "      <th>added_icds</th>\n",
       "      <th>removed_icds</th>\n",
       "      <th>added_chops</th>\n",
       "      <th>removed_chops</th>\n",
       "    </tr>\n",
       "  </thead>\n",
       "  <tbody>\n",
       "    <tr>\n",
       "      <th>0</th>\n",
       "      <td>715177</td>\n",
       "      <td>33100584B601FADF</td>\n",
       "      <td>M</td>\n",
       "      <td>90</td>\n",
       "      <td>11</td>\n",
       "      <td>3</td>\n",
       "      <td>G18B</td>\n",
       "      <td>C182</td>\n",
       "      <td>M200</td>\n",
       "      <td>D62</td>\n",
       "      <td>&lt;NA&gt;</td>\n",
       "      <td>990410::20180124</td>\n",
       "      <td>&lt;NA&gt;</td>\n",
       "    </tr>\n",
       "    <tr>\n",
       "      <th>1</th>\n",
       "      <td>716197</td>\n",
       "      <td>DEE16D56D71DD96A</td>\n",
       "      <td>W</td>\n",
       "      <td>72</td>\n",
       "      <td>14</td>\n",
       "      <td>3</td>\n",
       "      <td>I09C</td>\n",
       "      <td>M4805</td>\n",
       "      <td>M200</td>\n",
       "      <td>N184</td>\n",
       "      <td>N183</td>\n",
       "      <td>&lt;NA&gt;</td>\n",
       "      <td>&lt;NA&gt;</td>\n",
       "    </tr>\n",
       "    <tr>\n",
       "      <th>2</th>\n",
       "      <td>721128</td>\n",
       "      <td>34645F6C19043F5B</td>\n",
       "      <td>M</td>\n",
       "      <td>71</td>\n",
       "      <td>14</td>\n",
       "      <td>3</td>\n",
       "      <td>G21B</td>\n",
       "      <td>K565</td>\n",
       "      <td>M200</td>\n",
       "      <td>G819</td>\n",
       "      <td>&lt;NA&gt;</td>\n",
       "      <td>&lt;NA&gt;</td>\n",
       "      <td>&lt;NA&gt;</td>\n",
       "    </tr>\n",
       "    <tr>\n",
       "      <th>3</th>\n",
       "      <td>721977</td>\n",
       "      <td>0098EFC426FD8F26</td>\n",
       "      <td>W</td>\n",
       "      <td>84</td>\n",
       "      <td>11</td>\n",
       "      <td>3</td>\n",
       "      <td>I46C</td>\n",
       "      <td>S7201</td>\n",
       "      <td>M200</td>\n",
       "      <td>T840</td>\n",
       "      <td>&lt;NA&gt;</td>\n",
       "      <td>&lt;NA&gt;</td>\n",
       "      <td>&lt;NA&gt;</td>\n",
       "    </tr>\n",
       "    <tr>\n",
       "      <th>4</th>\n",
       "      <td>725531</td>\n",
       "      <td>EBF3D9B44B52E53F</td>\n",
       "      <td>M</td>\n",
       "      <td>80</td>\n",
       "      <td>2</td>\n",
       "      <td>3</td>\n",
       "      <td>F59E</td>\n",
       "      <td>I7022</td>\n",
       "      <td>M100</td>\n",
       "      <td>G2090</td>\n",
       "      <td>&lt;NA&gt;</td>\n",
       "      <td>&lt;NA&gt;</td>\n",
       "      <td>&lt;NA&gt;</td>\n",
       "    </tr>\n",
       "  </tbody>\n",
       "</table>\n",
       "</div>"
      ],
      "text/plain": [
       "  case_id        patient_id gender  age_years  duration_of_stay  pccl   drg  \\\n",
       "0  715177  33100584B601FADF      M         90                11     3  G18B   \n",
       "1  716197  DEE16D56D71DD96A      W         72                14     3  I09C   \n",
       "2  721128  34645F6C19043F5B      M         71                14     3  G21B   \n",
       "3  721977  0098EFC426FD8F26      W         84                11     3  I46C   \n",
       "4  725531  EBF3D9B44B52E53F      M         80                 2     3  F59E   \n",
       "\n",
       "      pd bfs_code added_icds removed_icds       added_chops removed_chops  \n",
       "0   C182     M200        D62         <NA>  990410::20180124          <NA>  \n",
       "1  M4805     M200       N184         N183              <NA>          <NA>  \n",
       "2   K565     M200       G819         <NA>              <NA>          <NA>  \n",
       "3  S7201     M200       T840         <NA>              <NA>          <NA>  \n",
       "4  I7022     M100      G2090         <NA>              <NA>          <NA>  "
      ]
     },
     "execution_count": 5,
     "metadata": {},
     "output_type": "execute_result"
    }
   ],
   "source": [
    "df_revised_case_d2d.head()"
   ]
  },
  {
   "cell_type": "markdown",
   "id": "4558e4f8",
   "metadata": {
    "pycharm": {
     "name": "#%% md\n"
    }
   },
   "source": [
    "# Match to the database\n"
   ]
  },
  {
   "cell_type": "code",
   "execution_count": 6,
   "id": "ac5bc674-a6b4-447a-a630-33d25180f9c4",
   "metadata": {},
   "outputs": [
    {
     "data": {
      "text/plain": [
       "array(['715177', '716197', '721128', '721977', '725531', '727730',\n",
       "       '727952', '728588', '731638', '737831'], dtype=object)"
      ]
     },
     "execution_count": 6,
     "metadata": {},
     "output_type": "execute_result"
    }
   ],
   "source": [
    "# get the case_id from revised_case\n",
    "\n",
    "revised_case_id = df_revised_case_d2d['case_id'].values\n",
    "revised_case_id"
   ]
  },
  {
   "cell_type": "code",
   "execution_count": 7,
   "id": "01dcb99c-b01f-4808-b9c0-a450a2f3150e",
   "metadata": {},
   "outputs": [
    {
     "data": {
      "text/html": [
       "<div>\n",
       "<style scoped>\n",
       "    .dataframe tbody tr th:only-of-type {\n",
       "        vertical-align: middle;\n",
       "    }\n",
       "\n",
       "    .dataframe tbody tr th {\n",
       "        vertical-align: top;\n",
       "    }\n",
       "\n",
       "    .dataframe thead th {\n",
       "        text-align: right;\n",
       "    }\n",
       "</style>\n",
       "<table border=\"1\" class=\"dataframe\">\n",
       "  <thead>\n",
       "    <tr style=\"text-align: right;\">\n",
       "      <th></th>\n",
       "      <th>drg_cost_weight</th>\n",
       "      <th>aimedic_id</th>\n",
       "      <th>hospital_id</th>\n",
       "      <th>case_id</th>\n",
       "      <th>patient_id</th>\n",
       "      <th>age_years</th>\n",
       "      <th>age_days</th>\n",
       "      <th>gender</th>\n",
       "      <th>duration_of_stay</th>\n",
       "      <th>clinic_id</th>\n",
       "      <th>ventilation_hours</th>\n",
       "      <th>admission_weight</th>\n",
       "      <th>gestation_age</th>\n",
       "      <th>admission_date</th>\n",
       "      <th>admission_type</th>\n",
       "      <th>discharge_date</th>\n",
       "      <th>discharge_type</th>\n",
       "      <th>drg</th>\n",
       "      <th>adrg</th>\n",
       "      <th>pccl</th>\n",
       "    </tr>\n",
       "  </thead>\n",
       "  <tbody>\n",
       "    <tr>\n",
       "      <th>0</th>\n",
       "      <td>1.781</td>\n",
       "      <td>137694</td>\n",
       "      <td>7</td>\n",
       "      <td>715177</td>\n",
       "      <td>33100584B601FADF</td>\n",
       "      <td>90</td>\n",
       "      <td>0</td>\n",
       "      <td>M</td>\n",
       "      <td>11</td>\n",
       "      <td>4</td>\n",
       "      <td>0</td>\n",
       "      <td>0</td>\n",
       "      <td>0</td>\n",
       "      <td>2018-01-22</td>\n",
       "      <td>01</td>\n",
       "      <td>2018-02-02</td>\n",
       "      <td>00</td>\n",
       "      <td>G18B</td>\n",
       "      <td>G18</td>\n",
       "      <td>3</td>\n",
       "    </tr>\n",
       "    <tr>\n",
       "      <th>1</th>\n",
       "      <td>2.967</td>\n",
       "      <td>135211</td>\n",
       "      <td>7</td>\n",
       "      <td>716197</td>\n",
       "      <td>DEE16D56D71DD96A</td>\n",
       "      <td>72</td>\n",
       "      <td>0</td>\n",
       "      <td>W</td>\n",
       "      <td>14</td>\n",
       "      <td>4</td>\n",
       "      <td>0</td>\n",
       "      <td>0</td>\n",
       "      <td>0</td>\n",
       "      <td>2018-02-14</td>\n",
       "      <td>01</td>\n",
       "      <td>2018-02-28</td>\n",
       "      <td>00</td>\n",
       "      <td>I09C</td>\n",
       "      <td>I09</td>\n",
       "      <td>3</td>\n",
       "    </tr>\n",
       "    <tr>\n",
       "      <th>2</th>\n",
       "      <td>1.318</td>\n",
       "      <td>132057</td>\n",
       "      <td>7</td>\n",
       "      <td>721128</td>\n",
       "      <td>34645F6C19043F5B</td>\n",
       "      <td>71</td>\n",
       "      <td>0</td>\n",
       "      <td>M</td>\n",
       "      <td>14</td>\n",
       "      <td>4</td>\n",
       "      <td>0</td>\n",
       "      <td>0</td>\n",
       "      <td>0</td>\n",
       "      <td>2018-02-19</td>\n",
       "      <td>01</td>\n",
       "      <td>2018-03-05</td>\n",
       "      <td>00</td>\n",
       "      <td>G21B</td>\n",
       "      <td>G21</td>\n",
       "      <td>3</td>\n",
       "    </tr>\n",
       "    <tr>\n",
       "      <th>3</th>\n",
       "      <td>1.644</td>\n",
       "      <td>132931</td>\n",
       "      <td>7</td>\n",
       "      <td>721977</td>\n",
       "      <td>0098EFC426FD8F26</td>\n",
       "      <td>84</td>\n",
       "      <td>0</td>\n",
       "      <td>W</td>\n",
       "      <td>11</td>\n",
       "      <td>4</td>\n",
       "      <td>0</td>\n",
       "      <td>0</td>\n",
       "      <td>0</td>\n",
       "      <td>2018-02-24</td>\n",
       "      <td>01</td>\n",
       "      <td>2018-03-07</td>\n",
       "      <td>00</td>\n",
       "      <td>I46C</td>\n",
       "      <td>I46</td>\n",
       "      <td>3</td>\n",
       "    </tr>\n",
       "    <tr>\n",
       "      <th>4</th>\n",
       "      <td>1.133</td>\n",
       "      <td>137652</td>\n",
       "      <td>7</td>\n",
       "      <td>725531</td>\n",
       "      <td>EBF3D9B44B52E53F</td>\n",
       "      <td>80</td>\n",
       "      <td>0</td>\n",
       "      <td>M</td>\n",
       "      <td>2</td>\n",
       "      <td>3</td>\n",
       "      <td>0</td>\n",
       "      <td>0</td>\n",
       "      <td>0</td>\n",
       "      <td>2018-04-09</td>\n",
       "      <td>01</td>\n",
       "      <td>2018-04-11</td>\n",
       "      <td>00</td>\n",
       "      <td>F59E</td>\n",
       "      <td>F59</td>\n",
       "      <td>3</td>\n",
       "    </tr>\n",
       "  </tbody>\n",
       "</table>\n",
       "</div>"
      ],
      "text/plain": [
       "   drg_cost_weight  aimedic_id  hospital_id case_id        patient_id  \\\n",
       "0            1.781      137694            7  715177  33100584B601FADF   \n",
       "1            2.967      135211            7  716197  DEE16D56D71DD96A   \n",
       "2            1.318      132057            7  721128  34645F6C19043F5B   \n",
       "3            1.644      132931            7  721977  0098EFC426FD8F26   \n",
       "4            1.133      137652            7  725531  EBF3D9B44B52E53F   \n",
       "\n",
       "   age_years  age_days gender  duration_of_stay  clinic_id  ventilation_hours  \\\n",
       "0         90         0      M                11          4                  0   \n",
       "1         72         0      W                14          4                  0   \n",
       "2         71         0      M                14          4                  0   \n",
       "3         84         0      W                11          4                  0   \n",
       "4         80         0      M                 2          3                  0   \n",
       "\n",
       "   admission_weight  gestation_age admission_date admission_type  \\\n",
       "0                 0              0     2018-01-22             01   \n",
       "1                 0              0     2018-02-14             01   \n",
       "2                 0              0     2018-02-19             01   \n",
       "3                 0              0     2018-02-24             01   \n",
       "4                 0              0     2018-04-09             01   \n",
       "\n",
       "  discharge_date discharge_type   drg adrg  pccl  \n",
       "0     2018-02-02             00  G18B  G18     3  \n",
       "1     2018-02-28             00  I09C  I09     3  \n",
       "2     2018-03-05             00  G21B  G21     3  \n",
       "3     2018-03-07             00  I46C  I46     3  \n",
       "4     2018-04-11             00  F59E  F59     3  "
      ]
     },
     "execution_count": 7,
     "metadata": {},
     "output_type": "execute_result"
    }
   ],
   "source": [
    "# match to the database\n",
    "revised_case_db = bfs_db.get_bfs_cases_by_ids(revised_case_id)\n",
    "revised_case_db.head()"
   ]
  },
  {
   "cell_type": "code",
   "execution_count": 8,
   "id": "9cbccb57-930a-4882-a585-37f70e7d3e94",
   "metadata": {},
   "outputs": [
    {
     "name": "stdout",
     "output_type": "stream",
     "text": [
      "There are 10 out of 10 revised cases from DtoD that are matched with the database for Hirslanden Linde 2018\n"
     ]
    }
   ],
   "source": [
    "# \n",
    "print('There are {} out of {} revised cases from DtoD that are matched with the database for {} {}'.format(len(revised_case_db), len(revised_case_id), file.hospital_name_db, file.year))"
   ]
  },
  {
   "cell_type": "code",
   "execution_count": 9,
   "id": "265fbf94-6820-4b3b-8022-d699e44b35af",
   "metadata": {},
   "outputs": [],
   "source": [
    "# if we find the match cases, then we need to check if the case_id, gender, year....are match"
   ]
  },
  {
   "cell_type": "code",
   "execution_count": 10,
   "id": "80f74b41-fce4-4115-9089-8290dc76e13a",
   "metadata": {},
   "outputs": [
    {
     "data": {
      "text/html": [
       "<div>\n",
       "<style scoped>\n",
       "    .dataframe tbody tr th:only-of-type {\n",
       "        vertical-align: middle;\n",
       "    }\n",
       "\n",
       "    .dataframe tbody tr th {\n",
       "        vertical-align: top;\n",
       "    }\n",
       "\n",
       "    .dataframe thead th {\n",
       "        text-align: right;\n",
       "    }\n",
       "</style>\n",
       "<table border=\"1\" class=\"dataframe\">\n",
       "  <thead>\n",
       "    <tr style=\"text-align: right;\">\n",
       "      <th></th>\n",
       "      <th>aimedic_id</th>\n",
       "      <th>case_id</th>\n",
       "      <th>gender</th>\n",
       "      <th>age_years</th>\n",
       "    </tr>\n",
       "  </thead>\n",
       "  <tbody>\n",
       "    <tr>\n",
       "      <th>0</th>\n",
       "      <td>137694</td>\n",
       "      <td>715177</td>\n",
       "      <td>M</td>\n",
       "      <td>90</td>\n",
       "    </tr>\n",
       "    <tr>\n",
       "      <th>1</th>\n",
       "      <td>135211</td>\n",
       "      <td>716197</td>\n",
       "      <td>W</td>\n",
       "      <td>72</td>\n",
       "    </tr>\n",
       "    <tr>\n",
       "      <th>2</th>\n",
       "      <td>132057</td>\n",
       "      <td>721128</td>\n",
       "      <td>M</td>\n",
       "      <td>71</td>\n",
       "    </tr>\n",
       "    <tr>\n",
       "      <th>3</th>\n",
       "      <td>132931</td>\n",
       "      <td>721977</td>\n",
       "      <td>W</td>\n",
       "      <td>84</td>\n",
       "    </tr>\n",
       "    <tr>\n",
       "      <th>4</th>\n",
       "      <td>137652</td>\n",
       "      <td>725531</td>\n",
       "      <td>M</td>\n",
       "      <td>80</td>\n",
       "    </tr>\n",
       "  </tbody>\n",
       "</table>\n",
       "</div>"
      ],
      "text/plain": [
       "   aimedic_id case_id gender  age_years\n",
       "0      137694  715177      M         90\n",
       "1      135211  716197      W         72\n",
       "2      132057  721128      M         71\n",
       "3      132931  721977      W         84\n",
       "4      137652  725531      M         80"
      ]
     },
     "execution_count": 10,
     "metadata": {},
     "output_type": "execute_result"
    }
   ],
   "source": [
    "revised_case_db_subset = revised_case_db[['aimedic_id', 'case_id', 'gender', 'age_years']]\n",
    "revised_case_db_subset.head()"
   ]
  },
  {
   "cell_type": "code",
   "execution_count": null,
   "id": "9353f090-5a8d-40bc-90f7-2bc97c112196",
   "metadata": {},
   "outputs": [],
   "source": []
  }
 ],
 "metadata": {
  "kernelspec": {
   "display_name": "Python 3 (ipykernel)",
   "language": "python",
   "name": "python3"
  },
  "language_info": {
   "codemirror_mode": {
    "name": "ipython",
    "version": 3
   },
   "file_extension": ".py",
   "mimetype": "text/x-python",
   "name": "python",
   "nbconvert_exporter": "python",
   "pygments_lexer": "ipython3",
   "version": "3.10.6"
  }
 },
 "nbformat": 4,
 "nbformat_minor": 5
}
