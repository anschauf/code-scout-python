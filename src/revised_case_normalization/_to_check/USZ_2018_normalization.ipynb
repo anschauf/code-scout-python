{
 "cells": [
  {
   "cell_type": "raw",
   "id": "79034e7c-e3bb-4c7c-990a-2965e28678e2",
   "metadata": {
    "pycharm": {
     "name": "#%% md\n"
    }
   },
   "source": [
    "# Revised case normalization for USZ 2018\n",
    "\n",
    "This jupyter notebook is used to normalize the revised case from DtoD.\n",
    "\n",
    "Before runing the notebook, raw_data folder need to added to the root directory\n",
    "\n",
    "The raw data folder can be find here: https://aimedic.sharepoint.com/:f:/s/dev/Ejx_A1dg8gtPumFknOWOh0oBi6ofx9hctYiq3c-0gH9vYA?e=UmcgrS\n",
    "\n",
    "Normalization:\n",
    "\n",
    "-  Convert the column names to the name used in the Database\n",
    "-  Delete cases which is empty in the follow columns VALIDATION_COLS: 'case_id', 'patient_id', 'gender', 'age_years', duration_of_stay',  'pccl',  'drg'\n",
    "- choose neccessary columns COLS_TO_SELECT: case_id, patient_id, gender, age_years, duration_of_stay, pccl, drg, pd, bfs_code, added_icds, removed_icds, added_chops, removed_chops\n",
    "- still need to do (TODO):    \n",
    "    -  Check CHOP upper/lowercase\n",
    "    -  Check whether the PD changed. If it did, new and old PD are stored together with added and removed ICDs, respectively\n",
    "    -  Pad case IDs with 0s\n",
    "    -  Write function to validate cases\n"
   ]
  },
  {
   "cell_type": "code",
   "execution_count": 1,
   "id": "2acf8333-0c08-4555-b245-1f378f5b9f1f",
   "metadata": {
    "pycharm": {
     "is_executing": true,
     "name": "#%%\n"
    }
   },
   "outputs": [
    {
     "name": "stderr",
     "output_type": "stream",
     "text": [
      "/home/jovyan/work/src/models/BfsCase.py:5: SAWarning: On class 'BfsCase', Column object 'drg_cost_weight' named directly multiple times, only one will be used: drg_cost_weight, effective_cost_weight. Consider using orm.synonym instead\n",
      "  class BfsCase(Base):\n"
     ]
    }
   ],
   "source": [
    "import pandas as pd\n",
    "import os\n",
    "from dataclasses import dataclass, field\n",
    "import sys\n",
    "sys.path.insert(0, '/home/jovyan/work')\n",
    "sys.path.insert(1, '/home/jovyan/work/src')\n",
    "sys.path.insert(2, '/home/jovyan/work/src/service')\n",
    "\n",
    "from service import bfs_cases_db_service as bfs_db\n",
    "\n",
    "from py.global_configs import *\n",
    "from py.normalize import normalize"
   ]
  },
  {
   "cell_type": "code",
   "execution_count": 2,
   "id": "7afa747d-1bf5-4644-9e9e-847a96e08dc2",
   "metadata": {},
   "outputs": [
    {
     "data": {
      "text/plain": [
       "dict_keys(['Hirslanden Salem 2017', 'Hirslanden Beau Site 2017', 'Hirslanden Linde 2017', 'Hirslanden Linde 2018', 'Hirslanden Salem 2018', 'Hirslanden Beau Site 2018', 'Winterthur 2017', 'Winterthur 2018', 'Winterthur 2019', 'Winterthur 2020', 'USZ 2018', 'USZ 2019', 'USZ 2019_30_04_2020', 'KSSG 2021'])"
      ]
     },
     "execution_count": 2,
     "metadata": {},
     "output_type": "execute_result"
    }
   ],
   "source": [
    "# check all the file name\n",
    "\n",
    "FILES_TO_ANALYZE.keys()\n"
   ]
  },
  {
   "cell_type": "code",
   "execution_count": 3,
   "id": "3745ce47-813d-4cbe-b275-25417714a5a6",
   "metadata": {},
   "outputs": [
    {
     "data": {
      "text/plain": [
       "FileInfo(path='/home/jovyan/work/src/revised_case_normalization/raw_data/USZ_2018-2019_20200730.xlsx', hospital_name_db='USZ', year='2018', sheets=['Rückmeldungen_USZ_2018'])"
      ]
     },
     "execution_count": 3,
     "metadata": {},
     "output_type": "execute_result"
    }
   ],
   "source": [
    "file = FILES_TO_ANALYZE['USZ 2018']\n",
    "file"
   ]
  },
  {
   "cell_type": "code",
   "execution_count": 4,
   "id": "9b6a51f2-b09d-4f13-8233-39e382bd56df",
   "metadata": {},
   "outputs": [
    {
     "name": "stdout",
     "output_type": "stream",
     "text": [
      "Read 169 cases for USZ 2018\n",
      "6/169 rows were deleted because contained NaNs\n",
      "TYPES:\n",
      "case_id             string\n",
      "patient_id          string\n",
      "gender              string\n",
      "age_years            int64\n",
      "duration_of_stay     int64\n",
      "pccl                 int64\n",
      "drg                 string\n",
      "pd                  string\n",
      "bfs_code            string\n",
      "added_icds          string\n",
      "removed_icds        string\n",
      "added_chops         string\n",
      "removed_chops       string\n",
      "dtype: object\n"
     ]
    }
   ],
   "source": [
    "\n",
    "df_revised_case_d2d = normalize(file, 0)"
   ]
  },
  {
   "cell_type": "code",
   "execution_count": 5,
   "id": "c5bdeaa9-6854-4f37-9560-4525d6b30682",
   "metadata": {},
   "outputs": [
    {
     "data": {
      "text/html": [
       "<div>\n",
       "<style scoped>\n",
       "    .dataframe tbody tr th:only-of-type {\n",
       "        vertical-align: middle;\n",
       "    }\n",
       "\n",
       "    .dataframe tbody tr th {\n",
       "        vertical-align: top;\n",
       "    }\n",
       "\n",
       "    .dataframe thead th {\n",
       "        text-align: right;\n",
       "    }\n",
       "</style>\n",
       "<table border=\"1\" class=\"dataframe\">\n",
       "  <thead>\n",
       "    <tr style=\"text-align: right;\">\n",
       "      <th></th>\n",
       "      <th>case_id</th>\n",
       "      <th>patient_id</th>\n",
       "      <th>gender</th>\n",
       "      <th>age_years</th>\n",
       "      <th>duration_of_stay</th>\n",
       "      <th>pccl</th>\n",
       "      <th>drg</th>\n",
       "      <th>pd</th>\n",
       "      <th>bfs_code</th>\n",
       "      <th>added_icds</th>\n",
       "      <th>removed_icds</th>\n",
       "      <th>added_chops</th>\n",
       "      <th>removed_chops</th>\n",
       "    </tr>\n",
       "  </thead>\n",
       "  <tbody>\n",
       "    <tr>\n",
       "      <th>0</th>\n",
       "      <td>5771703</td>\n",
       "      <td>4424387</td>\n",
       "      <td>W</td>\n",
       "      <td>90</td>\n",
       "      <td>10</td>\n",
       "      <td>3</td>\n",
       "      <td>L63D</td>\n",
       "      <td>N390</td>\n",
       "      <td>&lt;NA&gt;</td>\n",
       "      <td>U804</td>\n",
       "      <td>&lt;NA&gt;</td>\n",
       "      <td>8688j3::20171228,8688j3::20171231</td>\n",
       "      <td>8688J3::20171228,8688J3::20171231</td>\n",
       "    </tr>\n",
       "    <tr>\n",
       "      <th>1</th>\n",
       "      <td>5773574</td>\n",
       "      <td>60210855</td>\n",
       "      <td>M</td>\n",
       "      <td>95</td>\n",
       "      <td>14</td>\n",
       "      <td>3</td>\n",
       "      <td>J10Z</td>\n",
       "      <td>D042</td>\n",
       "      <td>&lt;NA&gt;</td>\n",
       "      <td>B965</td>\n",
       "      <td>&lt;NA&gt;</td>\n",
       "      <td>009b11::20171229</td>\n",
       "      <td>009B11::20171229</td>\n",
       "    </tr>\n",
       "    <tr>\n",
       "      <th>2</th>\n",
       "      <td>5776284</td>\n",
       "      <td>10743014</td>\n",
       "      <td>W</td>\n",
       "      <td>83</td>\n",
       "      <td>5</td>\n",
       "      <td>3</td>\n",
       "      <td>F12D</td>\n",
       "      <td>I495</td>\n",
       "      <td>&lt;NA&gt;</td>\n",
       "      <td>I5014,J4409</td>\n",
       "      <td>I5012,J4483</td>\n",
       "      <td>378a41::20180103,39a211::20180103,39a212::2018...</td>\n",
       "      <td>378A41::20180103,39A211::20180103,39A212::2018...</td>\n",
       "    </tr>\n",
       "    <tr>\n",
       "      <th>3</th>\n",
       "      <td>5793305</td>\n",
       "      <td>6214207</td>\n",
       "      <td>M</td>\n",
       "      <td>60</td>\n",
       "      <td>7</td>\n",
       "      <td>3</td>\n",
       "      <td>E71B</td>\n",
       "      <td>C343</td>\n",
       "      <td>&lt;NA&gt;</td>\n",
       "      <td>J9600,J90</td>\n",
       "      <td>&lt;NA&gt;</td>\n",
       "      <td>890a21::20180116,3491::20180117</td>\n",
       "      <td>890A21::20180116</td>\n",
       "    </tr>\n",
       "    <tr>\n",
       "      <th>4</th>\n",
       "      <td>5816220</td>\n",
       "      <td>10776936</td>\n",
       "      <td>W</td>\n",
       "      <td>84</td>\n",
       "      <td>8</td>\n",
       "      <td>3</td>\n",
       "      <td>F24C</td>\n",
       "      <td>I214</td>\n",
       "      <td>&lt;NA&gt;</td>\n",
       "      <td>N184</td>\n",
       "      <td>N183</td>\n",
       "      <td>&lt;NA&gt;</td>\n",
       "      <td>&lt;NA&gt;</td>\n",
       "    </tr>\n",
       "  </tbody>\n",
       "</table>\n",
       "</div>"
      ],
      "text/plain": [
       "   case_id patient_id gender  age_years  duration_of_stay  pccl   drg    pd  \\\n",
       "0  5771703    4424387      W         90                10     3  L63D  N390   \n",
       "1  5773574   60210855      M         95                14     3  J10Z  D042   \n",
       "2  5776284   10743014      W         83                 5     3  F12D  I495   \n",
       "3  5793305    6214207      M         60                 7     3  E71B  C343   \n",
       "4  5816220   10776936      W         84                 8     3  F24C  I214   \n",
       "\n",
       "  bfs_code   added_icds removed_icds  \\\n",
       "0     <NA>         U804         <NA>   \n",
       "1     <NA>         B965         <NA>   \n",
       "2     <NA>  I5014,J4409  I5012,J4483   \n",
       "3     <NA>    J9600,J90         <NA>   \n",
       "4     <NA>         N184         N183   \n",
       "\n",
       "                                         added_chops  \\\n",
       "0                  8688j3::20171228,8688j3::20171231   \n",
       "1                                   009b11::20171229   \n",
       "2  378a41::20180103,39a211::20180103,39a212::2018...   \n",
       "3                    890a21::20180116,3491::20180117   \n",
       "4                                               <NA>   \n",
       "\n",
       "                                       removed_chops  \n",
       "0                  8688J3::20171228,8688J3::20171231  \n",
       "1                                   009B11::20171229  \n",
       "2  378A41::20180103,39A211::20180103,39A212::2018...  \n",
       "3                                   890A21::20180116  \n",
       "4                                               <NA>  "
      ]
     },
     "execution_count": 5,
     "metadata": {},
     "output_type": "execute_result"
    }
   ],
   "source": [
    "df_revised_case_d2d.head()"
   ]
  },
  {
   "cell_type": "markdown",
   "id": "4558e4f8",
   "metadata": {
    "pycharm": {
     "name": "#%% md\n"
    }
   },
   "source": [
    "# match to the database\n"
   ]
  },
  {
   "cell_type": "code",
   "execution_count": 6,
   "id": "ac5bc674-a6b4-447a-a630-33d25180f9c4",
   "metadata": {},
   "outputs": [
    {
     "data": {
      "text/plain": [
       "array(['5771703', '5773574', '5776284', '5793305', '5816220', '5817015',\n",
       "       '5818634', '5820123', '5835580', '5847678', '5918824', '6012516',\n",
       "       '6015473', '5767666', '5833591', '5983561', '5988235', '5773539',\n",
       "       '5791315', '5803681', '5816899', '5847689', '5855548', '5856159',\n",
       "       '5858837', '5865426', '5870003', '5874948', '5810479', '5876676',\n",
       "       '5880915', '5887960', '5888030', '5891624', '5893301', '5894533',\n",
       "       '5936690', '5944999', '5976340', '5976741', '6000152', '6057861',\n",
       "       '5940470', '5949447', '5956139', '5960301', '5962510', '5964523',\n",
       "       '5974406', '5974555', '5982915', '5998712', '6006947', '6007651',\n",
       "       '6015931', '6017464', '6022613', '6040114', '6042542', '5946235',\n",
       "       '5979084', '5981888', '5989742', '6005651', '6022196', '6025626',\n",
       "       '6046039', '6088668', '6089811', '6100313', '6124640', '6125460',\n",
       "       '5831321', '5914238', '5981844', '6010373', '6038064', '6049732',\n",
       "       '6088597', '6110160', '6119451', '6123005', '5933514', '5941846',\n",
       "       '5945129', '5948915', '6021859', '6022076', '5940434', '5951244',\n",
       "       '6002382', '6069217', '6106297', '6114388', '6118351', '6118396',\n",
       "       '5796146', '5887101', '5895183', '5916344', '5960297', '5993465',\n",
       "       '6004192', '6056985', '6070298', '6075704', '6083853', '6097893',\n",
       "       '6098034', '6109265', '5791315', '5965826', '5975354', '6065432',\n",
       "       '6107999', '5773539', '5803681', '5816899', '5844078', '5774936',\n",
       "       '5822233', '5841509', '5842414', '5846146', '5847689', '5862504',\n",
       "       '5874948', '5875903', '5879400', '5883909', '6009420', '6046437',\n",
       "       '6069119', '6074515', '6084926', '6088668', '6092073', '6096015',\n",
       "       '6112728', '6114870', '6118351', '6123322', '6129063', '5821777',\n",
       "       '5688845', '5759277', '5774891', '5836253', '5842341', '5845466',\n",
       "       '5846830', '5886555', '5930079', '5822011', '5824071', '5833141',\n",
       "       '5914566', '5932139', '5941848', '5984839', '5990515', '5995298',\n",
       "       '6002400'], dtype=object)"
      ]
     },
     "execution_count": 6,
     "metadata": {},
     "output_type": "execute_result"
    }
   ],
   "source": [
    "# get the case_id from revised_case\n",
    "\n",
    "revised_case_id = df_revised_case_d2d['case_id'].values\n",
    "revised_case_id"
   ]
  },
  {
   "cell_type": "code",
   "execution_count": 7,
   "id": "01dcb99c-b01f-4808-b9c0-a450a2f3150e",
   "metadata": {},
   "outputs": [
    {
     "data": {
      "text/html": [
       "<div>\n",
       "<style scoped>\n",
       "    .dataframe tbody tr th:only-of-type {\n",
       "        vertical-align: middle;\n",
       "    }\n",
       "\n",
       "    .dataframe tbody tr th {\n",
       "        vertical-align: top;\n",
       "    }\n",
       "\n",
       "    .dataframe thead th {\n",
       "        text-align: right;\n",
       "    }\n",
       "</style>\n",
       "<table border=\"1\" class=\"dataframe\">\n",
       "  <thead>\n",
       "    <tr style=\"text-align: right;\">\n",
       "      <th></th>\n",
       "      <th>drg_cost_weight</th>\n",
       "      <th>aimedic_id</th>\n",
       "      <th>hospital_id</th>\n",
       "      <th>case_id</th>\n",
       "      <th>patient_id</th>\n",
       "      <th>age_years</th>\n",
       "      <th>age_days</th>\n",
       "      <th>gender</th>\n",
       "      <th>duration_of_stay</th>\n",
       "      <th>clinic_id</th>\n",
       "      <th>ventilation_hours</th>\n",
       "      <th>admission_weight</th>\n",
       "      <th>gestation_age</th>\n",
       "      <th>admission_date</th>\n",
       "      <th>admission_type</th>\n",
       "      <th>discharge_date</th>\n",
       "      <th>discharge_type</th>\n",
       "      <th>drg</th>\n",
       "      <th>adrg</th>\n",
       "      <th>pccl</th>\n",
       "    </tr>\n",
       "  </thead>\n",
       "  <tbody>\n",
       "  </tbody>\n",
       "</table>\n",
       "</div>"
      ],
      "text/plain": [
       "Empty DataFrame\n",
       "Columns: [drg_cost_weight, aimedic_id, hospital_id, case_id, patient_id, age_years, age_days, gender, duration_of_stay, clinic_id, ventilation_hours, admission_weight, gestation_age, admission_date, admission_type, discharge_date, discharge_type, drg, adrg, pccl]\n",
       "Index: []"
      ]
     },
     "execution_count": 7,
     "metadata": {},
     "output_type": "execute_result"
    }
   ],
   "source": [
    "# match to the database\n",
    "revised_case_db = bfs_db.get_bfs_cases_by_ids(revised_case_id)\n",
    "revised_case_db.head()"
   ]
  },
  {
   "cell_type": "code",
   "execution_count": 8,
   "id": "9cbccb57-930a-4882-a585-37f70e7d3e94",
   "metadata": {},
   "outputs": [
    {
     "name": "stdout",
     "output_type": "stream",
     "text": [
      "There are 0 out of 163 revised cases from DtoD that are matched with the database for USZ 2018\n"
     ]
    }
   ],
   "source": [
    "# \n",
    "print('There are {} out of {} revised cases from DtoD that are matched with the database for {} {}'.format(len(revised_case_db), len(revised_case_id), file.hospital_name_db, file.year))"
   ]
  },
  {
   "cell_type": "code",
   "execution_count": 9,
   "id": "265fbf94-6820-4b3b-8022-d699e44b35af",
   "metadata": {},
   "outputs": [],
   "source": [
    "# if we find the match cases, then we need to check if the case_id, gender, year....are match"
   ]
  }
 ],
 "metadata": {
  "kernelspec": {
   "display_name": "Python 3 (ipykernel)",
   "language": "python",
   "name": "python3"
  },
  "language_info": {
   "codemirror_mode": {
    "name": "ipython",
    "version": 3
   },
   "file_extension": ".py",
   "mimetype": "text/x-python",
   "name": "python",
   "nbconvert_exporter": "python",
   "pygments_lexer": "ipython3",
   "version": "3.10.6"
  }
 },
 "nbformat": 4,
 "nbformat_minor": 5
}
