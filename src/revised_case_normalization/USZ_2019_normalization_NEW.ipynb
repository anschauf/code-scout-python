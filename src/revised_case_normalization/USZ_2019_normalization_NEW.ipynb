{
 "cells": [
  {
   "cell_type": "markdown",
   "id": "a4e2885d",
   "metadata": {
    "pycharm": {
     "name": "#%% md\n"
    },
    "tags": []
   },
   "source": [
    "# Revised case normalization for USZ 2019\n",
    "\n",
    "Notes:\n",
    "\n",
    "- 142 of 148 revised DtoD cases were joined with the BFS cases from the DB.\n",
    "\n"
   ]
  },
  {
   "cell_type": "code",
   "execution_count": 1,
   "id": "d097a048",
   "metadata": {
    "collapsed": false,
    "jupyter": {
     "outputs_hidden": false
    },
    "pycharm": {
     "name": "#%%\n"
    }
   },
   "outputs": [],
   "source": [
    "import sys\n",
    "\n",
    "import pandas as pd\n",
    "import numpy as np\n",
    "\n",
    "from loguru import logger\n",
    "\n",
    "sys.path.insert(0, '/home/jovyan/work')\n",
    "\n",
    "from src.revised_case_normalization.py.global_configs import *\n",
    "from src.revised_case_normalization.py.normalize import normalize\n",
    "from src.service import bfs_cases_db_service as bfs_db\n",
    "from src.service.bfs_cases_db_service import session, get_hospital_year_cases"
   ]
  },
  {
   "cell_type": "code",
   "execution_count": 2,
   "id": "4710c532",
   "metadata": {
    "collapsed": false,
    "jupyter": {
     "outputs_hidden": false
    },
    "pycharm": {
     "name": "#%%\n"
    }
   },
   "outputs": [
    {
     "name": "stdout",
     "output_type": "stream",
     "text": [
      "FileInfo(path='/home/jovyan/work/src/revised_case_normalization/raw_data/USZ_2018-2019_20200730.xlsx', hospital_name_db='USZ', year='2019', sheets=['Gesamtauffällige_USZ_2019'])\n"
     ]
    }
   ],
   "source": [
    "file_info = FileInfo(\n",
    "        os.path.join(ROOT_DIR, 'raw_data/USZ_2018-2019_20200730.xlsx'),\n",
    "        'USZ',\n",
    "        '2019',\n",
    "        ['Gesamtauffällige_USZ_2019'])\n",
    "\n",
    "print(file_info)"
   ]
  },
  {
   "cell_type": "code",
   "execution_count": 3,
   "id": "8c8b27df",
   "metadata": {
    "collapsed": false,
    "jupyter": {
     "outputs_hidden": false
    },
    "pycharm": {
     "name": "#%%\n"
    }
   },
   "outputs": [
    {
     "name": "stderr",
     "output_type": "stream",
     "text": [
      "2022-10-19 16:25:24.204 | INFO     | src.revised_case_normalization.py.normalize:normalize:46 - Read 150 cases for USZ 2019\n",
      "2022-10-19 16:25:24.207 | INFO     | src.revised_case_normalization.py.normalize:normalize:69 - TYPES:\n",
      "case_id              int64\n",
      "patient_id          object\n",
      "gender              string\n",
      "age_years            int64\n",
      "duration_of_stay     int64\n",
      "pccl                 int64\n",
      "drg                 string\n",
      "old_pd              string\n",
      "new_pd              string\n",
      "bfs_code            string\n",
      "added_icds          string\n",
      "removed_icds        string\n",
      "added_chops         string\n",
      "removed_chops       string\n",
      "dtype: object\n",
      "2022-10-19 16:25:24.216 | INFO     | src.utils.dataframe_utils:validate_icd_codes:68 - Validated ICD codes in 'added_icds' and stored them into 'added_icds': All rows contain valid codes\n",
      "2022-10-19 16:25:24.223 | INFO     | src.utils.dataframe_utils:validate_icd_codes:68 - Validated ICD codes in 'removed_icds' and stored them into 'removed_icds': All rows contain valid codes\n",
      "2022-10-19 16:25:24.230 | INFO     | src.utils.dataframe_utils:validate_chop_codes:106 - Validated CHOP codes in 'added_chops' and stored them into 'added_chops': All rows contain valid codes\n",
      "2022-10-19 16:25:24.238 | INFO     | src.utils.dataframe_utils:validate_chop_codes:106 - Validated CHOP codes in 'removed_chops' and stored them into 'removed_chops': All rows contain valid codes\n",
      "2022-10-19 16:25:24.239 | INFO     | src.utils.dataframe_utils:remove_duplicated_chops:32 - Removing duplicated CHOP codes due to different casing ...\n",
      "2022-10-19 16:25:24.251 | INFO     | src.utils.dataframe_utils:validate_pd_revised_sd:161 - Validated redundant PD info in 'added_icds'/'removed_icds': The following 18 rows were affected:\n",
      "row 2: primary diagnosis R11 => M8088\n",
      "row 22: primary diagnosis M340 => I730\n",
      "row 60: primary diagnosis A418 => A419\n",
      "row 89: primary diagnosis I5013 => I5001\n",
      "row 92: primary diagnosis I64 => I633\n",
      "row 93: primary diagnosis C180 => I7024\n",
      "row 97: primary diagnosis N390 => A4151\n",
      "row 99: primary diagnosis S199 => S120\n",
      "row 100: primary diagnosis C098 => C108\n",
      "row 105: primary diagnosis N10 => A498\n",
      "row 108: primary diagnosis R55 => E871\n",
      "row 122: primary diagnosis N185 => T814\n",
      "row 135: primary diagnosis C793 => G418\n",
      "row 137: primary diagnosis J101 => J09\n",
      "row 138: primary diagnosis S3311 => S3201\n",
      "row 143: primary diagnosis F4540 => C341\n",
      "row 145: primary diagnosis I1001 => R522\n",
      "row 146: primary diagnosis C61 => A410\n",
      "2022-10-19 16:25:24.254 | INFO     | src.revised_case_normalization.py.normalize:normalize:99 - Removed 2 rows containing duplicates\n",
      "2022-10-19 16:25:24.254 | SUCCESS  | src.revised_case_normalization.py.normalize:normalize:101 - Completed validation\n"
     ]
    }
   ],
   "source": [
    "cols_to_rename = dict(COLUMNS_TO_RENAME)\n",
    "# Replace 'admno' with 'fall nummer'\n",
    "cols_to_rename.pop('admno')\n",
    "cols_to_rename['fall nummer'] = CASE_ID_COL\n",
    "\n",
    "df_revised_case_d2d = normalize(file_info, 0)"
   ]
  },
  {
   "cell_type": "code",
   "execution_count": 4,
   "id": "6c589452",
   "metadata": {
    "collapsed": false,
    "jupyter": {
     "outputs_hidden": false
    },
    "pycharm": {
     "name": "#%%\n"
    }
   },
   "outputs": [
    {
     "data": {
      "text/html": [
       "<div>\n",
       "<style scoped>\n",
       "    .dataframe tbody tr th:only-of-type {\n",
       "        vertical-align: middle;\n",
       "    }\n",
       "\n",
       "    .dataframe tbody tr th {\n",
       "        vertical-align: top;\n",
       "    }\n",
       "\n",
       "    .dataframe thead th {\n",
       "        text-align: right;\n",
       "    }\n",
       "</style>\n",
       "<table border=\"1\" class=\"dataframe\">\n",
       "  <thead>\n",
       "    <tr style=\"text-align: right;\">\n",
       "      <th></th>\n",
       "      <th>case_id</th>\n",
       "      <th>patient_id</th>\n",
       "      <th>gender</th>\n",
       "      <th>age_years</th>\n",
       "      <th>duration_of_stay</th>\n",
       "      <th>pccl</th>\n",
       "      <th>drg</th>\n",
       "      <th>old_pd</th>\n",
       "      <th>new_pd</th>\n",
       "      <th>bfs_code</th>\n",
       "      <th>added_icds</th>\n",
       "      <th>removed_icds</th>\n",
       "      <th>added_chops</th>\n",
       "      <th>removed_chops</th>\n",
       "    </tr>\n",
       "  </thead>\n",
       "  <tbody>\n",
       "    <tr>\n",
       "      <th>0</th>\n",
       "      <td>6400282213</td>\n",
       "      <td>3ED8F10117FCF5F5</td>\n",
       "      <td>M</td>\n",
       "      <td>54</td>\n",
       "      <td>13</td>\n",
       "      <td>3</td>\n",
       "      <td>E06A</td>\n",
       "      <td>J4400</td>\n",
       "      <td>J4400</td>\n",
       "      <td>M200</td>\n",
       "      <td>[F058]</td>\n",
       "      <td>[]</td>\n",
       "      <td>[]</td>\n",
       "      <td>[]</td>\n",
       "    </tr>\n",
       "    <tr>\n",
       "      <th>1</th>\n",
       "      <td>6400287076</td>\n",
       "      <td>55C5A17F71DADEA0</td>\n",
       "      <td>M</td>\n",
       "      <td>62</td>\n",
       "      <td>5</td>\n",
       "      <td>3</td>\n",
       "      <td>D62C</td>\n",
       "      <td>J068</td>\n",
       "      <td>J068</td>\n",
       "      <td>M800</td>\n",
       "      <td>[I8028, C770, C787]</td>\n",
       "      <td>[]</td>\n",
       "      <td>[]</td>\n",
       "      <td>[]</td>\n",
       "    </tr>\n",
       "    <tr>\n",
       "      <th>2</th>\n",
       "      <td>6400306817</td>\n",
       "      <td>0150AC67E3196B63</td>\n",
       "      <td>W</td>\n",
       "      <td>74</td>\n",
       "      <td>36</td>\n",
       "      <td>3</td>\n",
       "      <td>G72C</td>\n",
       "      <td>R11</td>\n",
       "      <td>M8088</td>\n",
       "      <td>M100</td>\n",
       "      <td>[R64]</td>\n",
       "      <td>[]</td>\n",
       "      <td>[]</td>\n",
       "      <td>[]</td>\n",
       "    </tr>\n",
       "    <tr>\n",
       "      <th>3</th>\n",
       "      <td>6400316927</td>\n",
       "      <td>153929A139272585</td>\n",
       "      <td>W</td>\n",
       "      <td>79</td>\n",
       "      <td>6</td>\n",
       "      <td>3</td>\n",
       "      <td>B68C</td>\n",
       "      <td>G3531</td>\n",
       "      <td>G3531</td>\n",
       "      <td>M100</td>\n",
       "      <td>[R471]</td>\n",
       "      <td>[]</td>\n",
       "      <td>[]</td>\n",
       "      <td>[]</td>\n",
       "    </tr>\n",
       "    <tr>\n",
       "      <th>4</th>\n",
       "      <td>6400278895</td>\n",
       "      <td>014A89BB816D9215</td>\n",
       "      <td>W</td>\n",
       "      <td>71</td>\n",
       "      <td>44</td>\n",
       "      <td>3</td>\n",
       "      <td>F75D</td>\n",
       "      <td>T827</td>\n",
       "      <td>T827</td>\n",
       "      <td>M200</td>\n",
       "      <td>[D508]</td>\n",
       "      <td>[D648]</td>\n",
       "      <td>[]</td>\n",
       "      <td>[]</td>\n",
       "    </tr>\n",
       "  </tbody>\n",
       "</table>\n",
       "</div>"
      ],
      "text/plain": [
       "      case_id        patient_id gender  age_years  duration_of_stay  pccl  \\\n",
       "0  6400282213  3ED8F10117FCF5F5      M         54                13     3   \n",
       "1  6400287076  55C5A17F71DADEA0      M         62                 5     3   \n",
       "2  6400306817  0150AC67E3196B63      W         74                36     3   \n",
       "3  6400316927  153929A139272585      W         79                 6     3   \n",
       "4  6400278895  014A89BB816D9215      W         71                44     3   \n",
       "\n",
       "    drg old_pd new_pd bfs_code           added_icds removed_icds added_chops  \\\n",
       "0  E06A  J4400  J4400     M200               [F058]           []          []   \n",
       "1  D62C   J068   J068     M800  [I8028, C770, C787]           []          []   \n",
       "2  G72C    R11  M8088     M100                [R64]           []          []   \n",
       "3  B68C  G3531  G3531     M100               [R471]           []          []   \n",
       "4  F75D   T827   T827     M200               [D508]       [D648]          []   \n",
       "\n",
       "  removed_chops  \n",
       "0            []  \n",
       "1            []  \n",
       "2            []  \n",
       "3            []  \n",
       "4            []  "
      ]
     },
     "execution_count": 4,
     "metadata": {},
     "output_type": "execute_result"
    }
   ],
   "source": [
    "df_revised_case_d2d.head()"
   ]
  },
  {
   "cell_type": "markdown",
   "id": "a6796573",
   "metadata": {
    "pycharm": {
     "name": "#%% md\n"
    },
    "tags": []
   },
   "source": [
    "# Match revised DtoD data with the BfS data from the database"
   ]
  },
  {
   "cell_type": "code",
   "execution_count": 5,
   "id": "65408537-cd4a-4b7c-a785-0db424378909",
   "metadata": {},
   "outputs": [
    {
     "data": {
      "text/html": [
       "<div>\n",
       "<style scoped>\n",
       "    .dataframe tbody tr th:only-of-type {\n",
       "        vertical-align: middle;\n",
       "    }\n",
       "\n",
       "    .dataframe tbody tr th {\n",
       "        vertical-align: top;\n",
       "    }\n",
       "\n",
       "    .dataframe thead th {\n",
       "        text-align: right;\n",
       "    }\n",
       "</style>\n",
       "<table border=\"1\" class=\"dataframe\">\n",
       "  <thead>\n",
       "    <tr style=\"text-align: right;\">\n",
       "      <th></th>\n",
       "      <th>aimedic_id</th>\n",
       "      <th>case_id</th>\n",
       "      <th>patient_id</th>\n",
       "      <th>gender</th>\n",
       "      <th>age_years</th>\n",
       "      <th>duration_of_stay</th>\n",
       "      <th>pccl</th>\n",
       "      <th>drg</th>\n",
       "    </tr>\n",
       "  </thead>\n",
       "  <tbody>\n",
       "    <tr>\n",
       "      <th>0</th>\n",
       "      <td>333717</td>\n",
       "      <td>6400282710</td>\n",
       "      <td>CE3F5F3171144352</td>\n",
       "      <td>W</td>\n",
       "      <td>70</td>\n",
       "      <td>1</td>\n",
       "      <td>2</td>\n",
       "      <td>F49F</td>\n",
       "    </tr>\n",
       "    <tr>\n",
       "      <th>1</th>\n",
       "      <td>333718</td>\n",
       "      <td>6400305875</td>\n",
       "      <td>745A45C609A50636</td>\n",
       "      <td>W</td>\n",
       "      <td>49</td>\n",
       "      <td>9</td>\n",
       "      <td>0</td>\n",
       "      <td>U01A</td>\n",
       "    </tr>\n",
       "    <tr>\n",
       "      <th>2</th>\n",
       "      <td>333719</td>\n",
       "      <td>6400327822</td>\n",
       "      <td>374EBB9F2B9AEC88</td>\n",
       "      <td>W</td>\n",
       "      <td>58</td>\n",
       "      <td>12</td>\n",
       "      <td>4</td>\n",
       "      <td>I10A</td>\n",
       "    </tr>\n",
       "    <tr>\n",
       "      <th>3</th>\n",
       "      <td>333720</td>\n",
       "      <td>6400282711</td>\n",
       "      <td>EC92A0874637FCCD</td>\n",
       "      <td>M</td>\n",
       "      <td>42</td>\n",
       "      <td>1</td>\n",
       "      <td>0</td>\n",
       "      <td>I29C</td>\n",
       "    </tr>\n",
       "    <tr>\n",
       "      <th>4</th>\n",
       "      <td>333721</td>\n",
       "      <td>6400336104</td>\n",
       "      <td>80F28F1BA001EE83</td>\n",
       "      <td>W</td>\n",
       "      <td>74</td>\n",
       "      <td>3</td>\n",
       "      <td>0</td>\n",
       "      <td>F49C</td>\n",
       "    </tr>\n",
       "  </tbody>\n",
       "</table>\n",
       "</div>"
      ],
      "text/plain": [
       "   aimedic_id     case_id        patient_id gender  age_years  \\\n",
       "0      333717  6400282710  CE3F5F3171144352      W         70   \n",
       "1      333718  6400305875  745A45C609A50636      W         49   \n",
       "2      333719  6400327822  374EBB9F2B9AEC88      W         58   \n",
       "3      333720  6400282711  EC92A0874637FCCD      M         42   \n",
       "4      333721  6400336104  80F28F1BA001EE83      W         74   \n",
       "\n",
       "   duration_of_stay  pccl   drg  \n",
       "0                 1     2  F49F  \n",
       "1                 9     0  U01A  \n",
       "2                12     4  I10A  \n",
       "3                 1     0  I29C  \n",
       "4                 3     0  F49C  "
      ]
     },
     "execution_count": 5,
     "metadata": {},
     "output_type": "execute_result"
    }
   ],
   "source": [
    "cases_in_db = get_hospital_year_cases(file_info.hospital_name_db, file_info.year)[[AIMEDIC_ID] + VALIDATION_COLS]\n",
    "cases_in_db.head()\n"
   ]
  },
  {
   "cell_type": "code",
   "execution_count": 6,
   "id": "38c67f27",
   "metadata": {
    "collapsed": false,
    "jupyter": {
     "outputs_hidden": false
    },
    "pycharm": {
     "name": "#%%\n"
    }
   },
   "outputs": [
    {
     "name": "stderr",
     "output_type": "stream",
     "text": [
      "2022-10-19 16:25:44.414 | INFO     | __main__:<module>:5 - Read 73974 rows from the DB, for the hospital 'USZ' in 2019\n"
     ]
    }
   ],
   "source": [
    "num_cases_in_db = cases_in_db.shape[0]\n",
    "if num_cases_in_db == 0:\n",
    "    raise ValueError(f\"There is no data for the hospital '{file_info.hospital_name_db}' in {file_info.year}\")\n",
    "else:\n",
    "    logger.info(f\"Read {num_cases_in_db} rows from the DB, for the hospital '{file_info.hospital_name_db}' in {file_info.year}\")    "
   ]
  },
  {
   "cell_type": "code",
   "execution_count": 7,
   "id": "14125a25-09d8-4818-a08f-19cf8c2aa37c",
   "metadata": {},
   "outputs": [
    {
     "name": "stderr",
     "output_type": "stream",
     "text": [
      "2022-10-19 16:25:44.459 | INFO     | __main__:<module>:6 - 2348 rows with empty 'case_id's were discovered and removed from the DB, for the hospital 'USZ' in 2019\n"
     ]
    }
   ],
   "source": [
    "# Remove columns with empty 'case_id' in DB data\n",
    "\n",
    "cases_in_db['case_id'].replace('', np.nan, inplace=True)\n",
    "num_na_cases_in_db = cases_in_db['case_id'].isna().sum()\n",
    "cases_in_db.dropna(subset=['case_id'], inplace=True)\n",
    "logger.info(f\"{num_na_cases_in_db} rows with empty 'case_id's were discovered and removed from the DB, for the hospital '{file_info.hospital_name_db}' in {file_info.year}\")   "
   ]
  },
  {
   "cell_type": "code",
   "execution_count": 8,
   "id": "42113e93",
   "metadata": {
    "collapsed": false,
    "jupyter": {
     "outputs_hidden": false
    },
    "pycharm": {
     "name": "#%%\n"
    }
   },
   "outputs": [],
   "source": [
    "# get the case_id from revised_case \n",
    "df_revised_case_d2d['case_id_num'] = df_revised_case_d2d[CASE_ID_COL].astype(int)\n",
    "cases_in_db['case_id_num'] = cases_in_db[CASE_ID_COL].astype(int)"
   ]
  },
  {
   "cell_type": "code",
   "execution_count": 9,
   "id": "e56d7549-ebbb-4672-87f8-a00d905ee02a",
   "metadata": {},
   "outputs": [],
   "source": [
    "# get case ids in revised case data from DtoD\n",
    "case_id_d2d = df_revised_case_d2d['case_id_num'].values"
   ]
  },
  {
   "cell_type": "code",
   "execution_count": 10,
   "id": "ac7fb65a-f68e-49c3-99d3-1a165ae66d99",
   "metadata": {},
   "outputs": [
    {
     "name": "stderr",
     "output_type": "stream",
     "text": [
      "2022-10-19 16:25:44.490 | INFO     | __main__:<module>:7 - There are no duplicated case_ids in the revised cases.\n"
     ]
    },
    {
     "data": {
      "text/plain": [
       "148"
      ]
     },
     "execution_count": 10,
     "metadata": {},
     "output_type": "execute_result"
    }
   ],
   "source": [
    "# Check for duplicates in the case ids of DtoD\n",
    "\n",
    "case_id_d2d_set = set(case_id_d2d)\n",
    "if len(case_id_d2d) > len(case_id_d2d_set):\n",
    "    logger.info('There are duplicated case_ids in the revised cases.' )\n",
    "else:\n",
    "    logger.info('There are no duplicated case_ids in the revised cases.' )\n",
    "\n",
    "len(case_id_d2d_set)"
   ]
  },
  {
   "cell_type": "code",
   "execution_count": 11,
   "id": "e6ab7c12-a01a-478a-9b1c-78bef52b1a30",
   "metadata": {},
   "outputs": [
    {
     "data": {
      "text/plain": [
       "222"
      ]
     },
     "execution_count": 11,
     "metadata": {},
     "output_type": "execute_result"
    }
   ],
   "source": [
    "# Search for case_ids in the BFS DB data with the same case_ids as in revised case dataset of DtoD \n",
    "# Reason: check whether case ids of the revised data appear more than once in BFS DB data\n",
    "\n",
    "revised_case_bfs_db = cases_in_db[cases_in_db['case_id_num'].isin(case_id_d2d)]\n",
    "revised_case_bfs_db.shape[0]"
   ]
  },
  {
   "cell_type": "code",
   "execution_count": 12,
   "id": "7db02c90-8c5f-4d96-95db-0576921cce55",
   "metadata": {},
   "outputs": [
    {
     "name": "stdout",
     "output_type": "stream",
     "text": [
      "(142, 16)\n"
     ]
    }
   ],
   "source": [
    "# Join revised cases from DtoD with BFS Cases from Database\n",
    "\n",
    "if revised_case_bfs_db.shape[0] <= len(case_id_d2d):\n",
    "    revised_case_d2d_subset = df_revised_case_d2d[COL_SUBSET_FROM_REVISED_CASES + ['case_id_num', 'gender', 'age_years', 'duration_of_stay', 'pccl', 'drg']]\n",
    "    revised_case_normalized = revised_case_d2d_subset.merge(revised_case_bfs_db, how ='inner', on=['case_id_num', 'gender', 'age_years', 'duration_of_stay', 'pccl', 'drg'], suffixes=None)\n",
    "    num_match_case_id = revised_case_normalized.shape[0]\n",
    "else:\n",
    "    revised_case_d2d_subset = df_revised_case_d2d[COL_SUBSET_FROM_REVISED_CASES + ['case_id_num', 'patient_id', 'gender', 'age_years', 'duration_of_stay', 'pccl', 'drg']]\n",
    "    revised_case_normalized = revised_case_d2d_subset.merge(revised_case_bfs_db, how ='inner', on=['case_id_num', 'patient_id', 'gender', 'age_years', 'duration_of_stay', 'pccl', 'drg'])\n",
    "    num_match_case_patient_id = revised_case_normalized.shape[0]\n",
    "print(revised_case_normalized.shape)\n",
    "#revised_case_normalized.head()"
   ]
  },
  {
   "cell_type": "code",
   "execution_count": 13,
   "id": "d3cefd4e-1b0c-4776-874f-d1ec6a8ab5b5",
   "metadata": {},
   "outputs": [],
   "source": [
    "# Join the revised cases of DtoD with the BFS data (alternative solution to cross check results)\n",
    "\n",
    "#if revised_case_bfs_db.shape[0] <= len(case_id_d2d):\n",
    "#    revised_case_normalized = pd.merge(df_revised_case_d2d, cases_in_db, suffixes=('_drop', ''), on=['case_id_num', 'gender', 'age_years', 'duration_of_stay', 'pccl', 'drg'])\n",
    "#    revised_case_normalized.drop([i for i in revised_case_normalized.columns if '_drop' in i], axis=1, inplace=True)\n",
    "#    revised_case_normalized.head()\n",
    "#else:\n",
    "#    revised_case_normalized = pd.merge(df_revised_case_d2d, cases_in_db, suffixes=('_drop', ''), on=['case_id_num','patient_id', 'gender', 'age_years', 'duration_of_stay', 'pccl', 'drg'])\n",
    "#    revised_case_normalized.drop([i for i in revised_case_normalized.columns if '_drop' in i], axis=1, inplace=True)\n",
    "#    revised_case_normalized.head()\n",
    "#print(revised_case_normalized.shape)\n",
    "#revised_case_normalized.head()"
   ]
  },
  {
   "cell_type": "code",
   "execution_count": 14,
   "id": "1bf7f79d-17fc-4e28-8629-1bd6bb169f82",
   "metadata": {},
   "outputs": [],
   "source": [
    "df_revised_case_normalized = revised_case_normalized[COLS_TO_OUTPUT]"
   ]
  },
  {
   "cell_type": "code",
   "execution_count": 15,
   "id": "aa66a468-bde4-484f-8e88-2d904907b2b3",
   "metadata": {},
   "outputs": [],
   "source": [
    "df_revised_case_normalized = revised_case_normalized[COLS_TO_OUTPUT]"
   ]
  },
  {
   "cell_type": "code",
   "execution_count": 16,
   "id": "f42da5f9-883e-4148-abb3-23f5d6e7df92",
   "metadata": {},
   "outputs": [
    {
     "name": "stderr",
     "output_type": "stream",
     "text": [
      "2022-10-19 16:25:44.535 | INFO     | __main__:<module>:7 - 142 of 148 rows were joined with the cases from the DB, for the hospital 'USZ' in 2019\n"
     ]
    }
   ],
   "source": [
    "num_revised_case_normalized = revised_case_normalized.shape[0]\n",
    "num_df_revised_case_d2d = df_revised_case_d2d.shape[0] \n",
    "\n",
    "if num_revised_case_normalized == 0:\n",
    "    raise ValueError(f\"No cases between the revised cases for the hospital '{file_info.hospital_name_db}' in {file_info.year} were joined.\")\n",
    "else:\n",
    "    logger.info(f\"{num_revised_case_normalized} of {num_df_revised_case_d2d} rows were joined with the cases from the DB, for the hospital '{file_info.hospital_name_db}' in {file_info.year}\") "
   ]
  },
  {
   "cell_type": "code",
   "execution_count": 17,
   "id": "1376216d-4593-4cca-91cd-7b14089fbba1",
   "metadata": {},
   "outputs": [],
   "source": [
    "# Export normalized revision data as a csv: \n",
    "\n",
    "hospital = file_info.hospital_name_db.replace(' ', '_') # replace spaces with '_' for the file name\n",
    "hospital_year = f'{hospital}_{file_info.year}'\n",
    "\n",
    "output_folder = os.path.join(ROOT_DIR, 'normalized_revision_data/')\n",
    "\n",
    "if not os.path.exists(output_folder):\n",
    "    os.mkdir(output_folder)\n",
    "\n",
    "NEW = '_NEW'\n",
    "    \n",
    "output_path = os.path.join(ROOT_DIR, 'normalized_revision_data/') + hospital_year + NEW + '.csv'\n",
    "\n",
    "df_revised_case_normalized.sort_values('aimedic_id').to_csv(output_path)\n",
    "\n",
    "\n"
   ]
  }
 ],
 "metadata": {
  "kernelspec": {
   "display_name": "Python 3 (ipykernel)",
   "language": "python",
   "name": "python3"
  },
  "language_info": {
   "codemirror_mode": {
    "name": "ipython",
    "version": 3
   },
   "file_extension": ".py",
   "mimetype": "text/x-python",
   "name": "python",
   "nbconvert_exporter": "python",
   "pygments_lexer": "ipython3",
   "version": "3.10.6"
  }
 },
 "nbformat": 4,
 "nbformat_minor": 5
}
