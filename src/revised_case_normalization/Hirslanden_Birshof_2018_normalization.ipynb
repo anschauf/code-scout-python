{
 "cells": [
  {
   "cell_type": "markdown",
   "id": "a4e2885d",
   "metadata": {
    "tags": []
   },
   "source": [
    "# Revised case normalization for Hirslanden Birshof 2018\n",
    "\n",
    "Notes:\n",
    "\n",
    "- There is no data for the hospital 'Hirslanden Birshof' in 2018\n",
    "\n"
   ]
  },
  {
   "cell_type": "code",
   "execution_count": 1,
   "id": "d097a048",
   "metadata": {
    "collapsed": false,
    "jupyter": {
     "outputs_hidden": false
    },
    "pycharm": {
     "is_executing": true
    }
   },
   "outputs": [],
   "source": [
    "import sys\n",
    "sys.path.insert(0, '/home/jovyan/work')\n",
    "\n",
    "from src.revised_case_normalization.notebook_functions.global_configs import *\n",
    "from src.revised_case_normalization.notebook_functions.normalize import normalize\n",
    "from src.revised_case_normalization.notebook_functions.revise import revise\n",
    "from src.revised_case_normalization.notebook_functions.group import group\n",
    "from src.revised_case_normalization.notebook_functions.update_db import update_db"
   ]
  },
  {
   "cell_type": "code",
   "execution_count": 2,
   "id": "4710c532",
   "metadata": {
    "collapsed": false,
    "jupyter": {
     "outputs_hidden": false
    }
   },
   "outputs": [
    {
     "name": "stdout",
     "output_type": "stream",
     "text": [
      "FileInfo(path='/home/jovyan/work/src/revised_case_normalization/raw_data/HI_Aarau_Birshof_ST. Anna.xlsx', hospital_name_db='Hirslanden Klinik Birshof', year='2018', sheet='Birshof_2018')\n"
     ]
    }
   ],
   "source": [
    "file_info = FileInfo(os.path.join(ROOT_DIR, 'raw_data/HI_Aarau_Birshof_ST. Anna.xlsx'),\n",
    "                     'Hirslanden Klinik Birshof', '2018', 'Birshof_2018')\n",
    "\n",
    "print(file_info)"
   ]
  },
  {
   "cell_type": "code",
   "execution_count": 3,
   "id": "8c8b27df",
   "metadata": {
    "collapsed": false,
    "jupyter": {
     "outputs_hidden": false
    }
   },
   "outputs": [
    {
     "name": "stderr",
     "output_type": "stream",
     "text": [
      "2022-11-21 08:59:37.264 | INFO     | src.revised_case_normalization.notebook_functions.normalize:normalize:38 - Read 4 cases for Hirslanden Klinik Birshof 2018\n",
      "2022-11-21 08:59:37.270 | INFO     | src.revised_case_normalization.notebook_functions.normalize:normalize:73 - TYPES:\n",
      "datum                    string\n",
      "tranche                  string\n",
      "case_id                  object\n",
      "patient_id               object\n",
      "kkik                     string\n",
      "gender                   string\n",
      "age_years                 int64\n",
      "bfs_code                 string\n",
      "duration_of_stay          int64\n",
      "pflegetage neu           string\n",
      "pccl                      int64\n",
      "pccl neu                 string\n",
      "old_pd                   string\n",
      "primary_diagnosis        string\n",
      "added_icds               string\n",
      "removed_icds             string\n",
      "added_chops              string\n",
      "removed_chops            string\n",
      "drg                      string\n",
      "drg neu                  string\n",
      "cw alt                   string\n",
      "cw neu                   string\n",
      "cw-änderung vorschlag    string\n",
      "cw akzeptiert            string\n",
      "kommentar dtod           string\n",
      "kodierer                 string\n",
      "kodierbemerkung          string\n",
      "case_id_norm             object\n",
      "dtype: object\n",
      "2022-11-21 08:59:37.276 | INFO     | src.utils.dataframe_utils:validate_icd_codes:68 - Validated ICD codes in 'added_icds' and stored them into 'added_icds': All rows contain valid codes\n",
      "2022-11-21 08:59:37.278 | INFO     | src.utils.dataframe_utils:validate_icd_codes:68 - Validated ICD codes in 'removed_icds' and stored them into 'removed_icds': All rows contain valid codes\n",
      "2022-11-21 08:59:37.280 | INFO     | src.utils.dataframe_utils:validate_chop_codes:106 - Validated CHOP codes in 'added_chops' and stored them into 'added_chops': All rows contain valid codes\n",
      "2022-11-21 08:59:37.282 | INFO     | src.utils.dataframe_utils:validate_chop_codes:106 - Validated CHOP codes in 'removed_chops' and stored them into 'removed_chops': All rows contain valid codes\n",
      "2022-11-21 08:59:37.282 | INFO     | src.utils.dataframe_utils:remove_duplicated_chops:32 - Removing duplicated CHOP codes due to different casing ...\n",
      "2022-11-21 08:59:37.287 | INFO     | src.utils.dataframe_utils:validate_pd_revised_sd:158 - Validated redundant PD info in 'added_icds'/'removed_icds': All rows contain valid codes\n",
      "2022-11-21 08:59:37.289 | SUCCESS  | src.revised_case_normalization.notebook_functions.normalize:normalize:111 - Completed validation\n"
     ]
    },
    {
     "data": {
      "text/html": [
       "<div>\n",
       "<style scoped>\n",
       "    .dataframe tbody tr th:only-of-type {\n",
       "        vertical-align: middle;\n",
       "    }\n",
       "\n",
       "    .dataframe tbody tr th {\n",
       "        vertical-align: top;\n",
       "    }\n",
       "\n",
       "    .dataframe thead th {\n",
       "        text-align: right;\n",
       "    }\n",
       "</style>\n",
       "<table border=\"1\" class=\"dataframe\">\n",
       "  <thead>\n",
       "    <tr style=\"text-align: right;\">\n",
       "      <th></th>\n",
       "      <th>case_id</th>\n",
       "      <th>patient_id</th>\n",
       "      <th>gender</th>\n",
       "      <th>age_years</th>\n",
       "      <th>duration_of_stay</th>\n",
       "      <th>case_id_norm</th>\n",
       "      <th>old_pd</th>\n",
       "      <th>primary_diagnosis</th>\n",
       "      <th>bfs_code</th>\n",
       "      <th>pccl</th>\n",
       "      <th>drg</th>\n",
       "      <th>added_icds</th>\n",
       "      <th>removed_icds</th>\n",
       "      <th>added_chops</th>\n",
       "      <th>removed_chops</th>\n",
       "    </tr>\n",
       "  </thead>\n",
       "  <tbody>\n",
       "    <tr>\n",
       "      <th>0</th>\n",
       "      <td>0041676790</td>\n",
       "      <td>6B6D03EC2A3F5E3C</td>\n",
       "      <td>M</td>\n",
       "      <td>76</td>\n",
       "      <td>2</td>\n",
       "      <td>41676790</td>\n",
       "      <td>M702</td>\n",
       "      <td>M702</td>\n",
       "      <td>M200</td>\n",
       "      <td>2</td>\n",
       "      <td>I27D</td>\n",
       "      <td>[R470, I693]</td>\n",
       "      <td>[]</td>\n",
       "      <td>[]</td>\n",
       "      <td>[]</td>\n",
       "    </tr>\n",
       "    <tr>\n",
       "      <th>1</th>\n",
       "      <td>0041733296</td>\n",
       "      <td>D506D11F343B8049</td>\n",
       "      <td>M</td>\n",
       "      <td>73</td>\n",
       "      <td>3</td>\n",
       "      <td>41733296</td>\n",
       "      <td>M702</td>\n",
       "      <td>M702</td>\n",
       "      <td>M200</td>\n",
       "      <td>2</td>\n",
       "      <td>I27D</td>\n",
       "      <td>[E1191]</td>\n",
       "      <td>[E1190]</td>\n",
       "      <td>[]</td>\n",
       "      <td>[]</td>\n",
       "    </tr>\n",
       "    <tr>\n",
       "      <th>2</th>\n",
       "      <td>0041764039</td>\n",
       "      <td>F7D48CC6FF8EE1B9</td>\n",
       "      <td>M</td>\n",
       "      <td>84</td>\n",
       "      <td>2</td>\n",
       "      <td>41764039</td>\n",
       "      <td>M754</td>\n",
       "      <td>M754</td>\n",
       "      <td>M200</td>\n",
       "      <td>3</td>\n",
       "      <td>I27C</td>\n",
       "      <td>[B022, G530]</td>\n",
       "      <td>[]</td>\n",
       "      <td>[]</td>\n",
       "      <td>[]</td>\n",
       "    </tr>\n",
       "    <tr>\n",
       "      <th>3</th>\n",
       "      <td>0041860429</td>\n",
       "      <td>5816B1A17E85581F</td>\n",
       "      <td>M</td>\n",
       "      <td>73</td>\n",
       "      <td>17</td>\n",
       "      <td>41860429</td>\n",
       "      <td>M171</td>\n",
       "      <td>M171</td>\n",
       "      <td>M200</td>\n",
       "      <td>3</td>\n",
       "      <td>I43B</td>\n",
       "      <td>[D62]</td>\n",
       "      <td>[]</td>\n",
       "      <td>[990410]</td>\n",
       "      <td>[]</td>\n",
       "    </tr>\n",
       "  </tbody>\n",
       "</table>\n",
       "</div>"
      ],
      "text/plain": [
       "      case_id        patient_id gender  age_years  duration_of_stay case_id_norm old_pd primary_diagnosis bfs_code  pccl   drg    added_icds removed_icds added_chops removed_chops\n",
       "0  0041676790  6B6D03EC2A3F5E3C      M         76                 2     41676790   M702              M702     M200     2  I27D  [R470, I693]           []          []            []\n",
       "1  0041733296  D506D11F343B8049      M         73                 3     41733296   M702              M702     M200     2  I27D       [E1191]      [E1190]          []            []\n",
       "2  0041764039  F7D48CC6FF8EE1B9      M         84                 2     41764039   M754              M754     M200     3  I27C  [B022, G530]           []          []            []\n",
       "3  0041860429  5816B1A17E85581F      M         73                17     41860429   M171              M171     M200     3  I43B         [D62]           []    [990410]            []"
      ]
     },
     "execution_count": 3,
     "metadata": {},
     "output_type": "execute_result"
    }
   ],
   "source": [
    "revised_cases_df = normalize(file_info)\n",
    "revised_cases_df"
   ]
  },
  {
   "cell_type": "markdown",
   "id": "a6796573",
   "metadata": {
    "tags": []
   },
   "source": [
    "# Match revised DtoD data with the BfS data from the database"
   ]
  },
  {
   "cell_type": "code",
   "execution_count": 4,
   "id": "65408537-cd4a-4b7c-a785-0db424378909",
   "metadata": {},
   "outputs": [
    {
     "name": "stderr",
     "output_type": "stream",
     "text": [
      "2022-11-21 08:59:38.181 | INFO     | src.service.bfs_cases_db_service:get_sociodemographics_for_hospital_year:95 - Read 3899 rows from the DB, for the hospital 'Hirslanden Klinik Birshof' in 2018\n"
     ]
    },
    {
     "data": {
      "text/html": [
       "<div>\n",
       "<style scoped>\n",
       "    .dataframe tbody tr th:only-of-type {\n",
       "        vertical-align: middle;\n",
       "    }\n",
       "\n",
       "    .dataframe tbody tr th {\n",
       "        vertical-align: top;\n",
       "    }\n",
       "\n",
       "    .dataframe thead th {\n",
       "        text-align: right;\n",
       "    }\n",
       "</style>\n",
       "<table border=\"1\" class=\"dataframe\">\n",
       "  <thead>\n",
       "    <tr style=\"text-align: right;\">\n",
       "      <th></th>\n",
       "      <th>aimedic_id</th>\n",
       "      <th>case_id</th>\n",
       "      <th>primary_diagnosis</th>\n",
       "      <th>secondary_diagnoses</th>\n",
       "      <th>primary_procedure</th>\n",
       "      <th>secondary_procedures</th>\n",
       "      <th>gender</th>\n",
       "      <th>age_years</th>\n",
       "      <th>age_days</th>\n",
       "      <th>gestation_age</th>\n",
       "      <th>duration_of_stay</th>\n",
       "      <th>ventilation_hours</th>\n",
       "      <th>grouper_admission_type</th>\n",
       "      <th>admission_date</th>\n",
       "      <th>admission_weight</th>\n",
       "      <th>grouper_discharge_type</th>\n",
       "      <th>discharge_date</th>\n",
       "    </tr>\n",
       "  </thead>\n",
       "  <tbody>\n",
       "    <tr>\n",
       "      <th>0</th>\n",
       "      <td>164532</td>\n",
       "      <td>0041764039</td>\n",
       "      <td>M754</td>\n",
       "      <td>[M6631, M758, I4288, B022, G530]</td>\n",
       "      <td>818333:L:20180530</td>\n",
       "      <td>[809120:L:20180530, 808120:L:20180530, 807110:L:20180530, 831321:L:20180530]</td>\n",
       "      <td>M</td>\n",
       "      <td>84</td>\n",
       "      <td>0</td>\n",
       "      <td>0</td>\n",
       "      <td>2</td>\n",
       "      <td>0</td>\n",
       "      <td>01</td>\n",
       "      <td>2018-05-30</td>\n",
       "      <td>0</td>\n",
       "      <td>00</td>\n",
       "      <td>2018-06-01</td>\n",
       "    </tr>\n",
       "    <tr>\n",
       "      <th>1</th>\n",
       "      <td>165090</td>\n",
       "      <td>0041676790</td>\n",
       "      <td>M702</td>\n",
       "      <td>[I1190, I2519, I480, Z950, N181, ...]</td>\n",
       "      <td>835X12:R:20180216</td>\n",
       "      <td>[]</td>\n",
       "      <td>M</td>\n",
       "      <td>76</td>\n",
       "      <td>0</td>\n",
       "      <td>0</td>\n",
       "      <td>2</td>\n",
       "      <td>0</td>\n",
       "      <td>01</td>\n",
       "      <td>2018-02-16</td>\n",
       "      <td>0</td>\n",
       "      <td>00</td>\n",
       "      <td>2018-02-18</td>\n",
       "    </tr>\n",
       "    <tr>\n",
       "      <th>2</th>\n",
       "      <td>165589</td>\n",
       "      <td>0041733296</td>\n",
       "      <td>M702</td>\n",
       "      <td>[X599, B956, T798, E1191]</td>\n",
       "      <td>835X12:R:20180329</td>\n",
       "      <td>[86321E:R:20180329]</td>\n",
       "      <td>M</td>\n",
       "      <td>73</td>\n",
       "      <td>0</td>\n",
       "      <td>0</td>\n",
       "      <td>3</td>\n",
       "      <td>0</td>\n",
       "      <td>01</td>\n",
       "      <td>2018-03-29</td>\n",
       "      <td>0</td>\n",
       "      <td>00</td>\n",
       "      <td>2018-04-01</td>\n",
       "    </tr>\n",
       "    <tr>\n",
       "      <th>3</th>\n",
       "      <td>165725</td>\n",
       "      <td>0041860429</td>\n",
       "      <td>M171</td>\n",
       "      <td>[I652, G2090, T813, Y849, T810, ...]</td>\n",
       "      <td>815421:L:20181004</td>\n",
       "      <td>[009910::20181004, 948X40::20181011, 86321E:L:20181018, 009910::20181018, 990410::]</td>\n",
       "      <td>M</td>\n",
       "      <td>73</td>\n",
       "      <td>0</td>\n",
       "      <td>0</td>\n",
       "      <td>17</td>\n",
       "      <td>0</td>\n",
       "      <td>01</td>\n",
       "      <td>2018-10-03</td>\n",
       "      <td>0</td>\n",
       "      <td>00</td>\n",
       "      <td>2018-10-26</td>\n",
       "    </tr>\n",
       "  </tbody>\n",
       "</table>\n",
       "</div>"
      ],
      "text/plain": [
       "   aimedic_id     case_id primary_diagnosis                    secondary_diagnoses  primary_procedure                                                                 secondary_procedures gender  age_years  age_days  gestation_age  duration_of_stay  ventilation_hours grouper_admission_type admission_date  admission_weight grouper_discharge_type discharge_date\n",
       "0      164532  0041764039              M754       [M6631, M758, I4288, B022, G530]  818333:L:20180530         [809120:L:20180530, 808120:L:20180530, 807110:L:20180530, 831321:L:20180530]      M         84         0              0                 2                  0                     01     2018-05-30                 0                     00     2018-06-01\n",
       "1      165090  0041676790              M702  [I1190, I2519, I480, Z950, N181, ...]  835X12:R:20180216                                                                                   []      M         76         0              0                 2                  0                     01     2018-02-16                 0                     00     2018-02-18\n",
       "2      165589  0041733296              M702              [X599, B956, T798, E1191]  835X12:R:20180329                                                                  [86321E:R:20180329]      M         73         0              0                 3                  0                     01     2018-03-29                 0                     00     2018-04-01\n",
       "3      165725  0041860429              M171   [I652, G2090, T813, Y849, T810, ...]  815421:L:20181004  [009910::20181004, 948X40::20181011, 86321E:L:20181018, 009910::20181018, 990410::]      M         73         0              0                17                  0                     01     2018-10-03                 0                     00     2018-10-26"
      ]
     },
     "execution_count": 4,
     "metadata": {},
     "output_type": "execute_result"
    }
   ],
   "source": [
    "cols_to_join = list(VALIDATION_COLS)\n",
    "cols_to_join.remove(CASE_ID_COL)\n",
    "cols_to_join.append(NORM_CASE_ID_COL)\n",
    "# Ignore the patient ID in this dataset, because it is encrypted\n",
    "cols_to_join.remove(PATIENT_ID_COL)\n",
    "\n",
    "revised_cases, unmatched = revise(file_info, revised_cases_df, validation_cols=cols_to_join)\n",
    "revised_cases"
   ]
  },
  {
   "cell_type": "code",
   "execution_count": 5,
   "id": "3ac0315b",
   "metadata": {
    "collapsed": false,
    "jupyter": {
     "outputs_hidden": false
    }
   },
   "outputs": [],
   "source": [
    "if unmatched.shape[0] > 0:\n",
    "    display(unmatched)"
   ]
  },
  {
   "cell_type": "code",
   "execution_count": 6,
   "id": "a85b9247-c1dc-4072-a1dd-7b61c8251eeb",
   "metadata": {},
   "outputs": [
    {
     "name": "stderr",
     "output_type": "stream",
     "text": [
      "2022-11-21 08:59:38.596 | INFO     | src.revised_case_normalization.notebook_functions.group:group:86 - Grouping 4 cases ...\n",
      "2022-11-21 08:59:39.580 | SUCCESS  | src.revised_case_normalization.notebook_functions.group:group:91 - Grouped 4 cases into: 4 revisions, 31 diagnoses rows, 14 procedure rows\n"
     ]
    }
   ],
   "source": [
    "revisions_update, diagnoses_update, procedures_update = group(revised_cases)\n",
    "revisions_update[REVISION_DATE_COL] = '2022-12-31'"
   ]
  },
  {
   "cell_type": "code",
   "execution_count": 7,
   "id": "492c0392",
   "metadata": {
    "collapsed": false,
    "jupyter": {
     "outputs_hidden": false
    }
   },
   "outputs": [
    {
     "data": {
      "text/html": [
       "<div>\n",
       "<style scoped>\n",
       "    .dataframe tbody tr th:only-of-type {\n",
       "        vertical-align: middle;\n",
       "    }\n",
       "\n",
       "    .dataframe tbody tr th {\n",
       "        vertical-align: top;\n",
       "    }\n",
       "\n",
       "    .dataframe thead th {\n",
       "        text-align: right;\n",
       "    }\n",
       "</style>\n",
       "<table border=\"1\" class=\"dataframe\">\n",
       "  <thead>\n",
       "    <tr style=\"text-align: right;\">\n",
       "      <th></th>\n",
       "      <th>aimedic_id</th>\n",
       "      <th>drg</th>\n",
       "      <th>drg_cost_weight</th>\n",
       "      <th>effective_cost_weight</th>\n",
       "      <th>pccl</th>\n",
       "      <th>revision_date</th>\n",
       "    </tr>\n",
       "  </thead>\n",
       "  <tbody>\n",
       "    <tr>\n",
       "      <th>0</th>\n",
       "      <td>164532</td>\n",
       "      <td>I27A</td>\n",
       "      <td>3.02</td>\n",
       "      <td>1.59</td>\n",
       "      <td>4</td>\n",
       "      <td>2022-12-31</td>\n",
       "    </tr>\n",
       "    <tr>\n",
       "      <th>1</th>\n",
       "      <td>165090</td>\n",
       "      <td>I27C</td>\n",
       "      <td>1.09</td>\n",
       "      <td>1.09</td>\n",
       "      <td>3</td>\n",
       "      <td>2022-12-31</td>\n",
       "    </tr>\n",
       "    <tr>\n",
       "      <th>2</th>\n",
       "      <td>165589</td>\n",
       "      <td>I27C</td>\n",
       "      <td>1.09</td>\n",
       "      <td>1.09</td>\n",
       "      <td>3</td>\n",
       "      <td>2022-12-31</td>\n",
       "    </tr>\n",
       "    <tr>\n",
       "      <th>3</th>\n",
       "      <td>165725</td>\n",
       "      <td>I43A</td>\n",
       "      <td>2.68</td>\n",
       "      <td>2.68</td>\n",
       "      <td>4</td>\n",
       "      <td>2022-12-31</td>\n",
       "    </tr>\n",
       "  </tbody>\n",
       "</table>\n",
       "</div>"
      ],
      "text/plain": [
       "   aimedic_id   drg  drg_cost_weight  effective_cost_weight  pccl revision_date\n",
       "0      164532  I27A             3.02                   1.59     4    2022-12-31\n",
       "1      165090  I27C             1.09                   1.09     3    2022-12-31\n",
       "2      165589  I27C             1.09                   1.09     3    2022-12-31\n",
       "3      165725  I43A             2.68                   2.68     4    2022-12-31"
      ]
     },
     "execution_count": 7,
     "metadata": {},
     "output_type": "execute_result"
    }
   ],
   "source": [
    "revisions_update"
   ]
  },
  {
   "cell_type": "code",
   "execution_count": 8,
   "id": "04e44c03",
   "metadata": {
    "collapsed": false,
    "jupyter": {
     "outputs_hidden": false
    }
   },
   "outputs": [
    {
     "name": "stderr",
     "output_type": "stream",
     "text": [
      "2022-11-21 08:59:39.598 | INFO     | src.service.bfs_cases_db_service:insert_revised_cases_into_revisions:259 - Trying to insert 4 cases into the 'Revisions' table ...\n",
      "2022-11-21 08:59:41.265 | SUCCESS  | src.service.bfs_cases_db_service:insert_revised_cases_into_revisions:296 - Inserted 4 cases into the 'Revisions' table\n",
      "2022-11-21 08:59:41.267 | INFO     | src.service.bfs_cases_db_service:insert_revised_cases_into_diagnoses:309 - Trying to insert 31 rows into the 'Diagnoses' table ...\n",
      "2022-11-21 08:59:44.476 | SUCCESS  | src.service.bfs_cases_db_service:insert_revised_cases_into_diagnoses:347 - Inserted 31 rows into the 'Diagnoses' table\n",
      "2022-11-21 08:59:44.478 | INFO     | src.service.bfs_cases_db_service:insert_revised_cases_into_procedures:358 - Trying to insert 14 rows into the 'Procedures' table ...\n",
      "2022-11-21 08:59:46.382 | SUCCESS  | src.service.bfs_cases_db_service:insert_revised_cases_into_procedures:404 - Inserted 14 rows into the 'Procedures' table\n"
     ]
    }
   ],
   "source": [
    "update_db(revisions_update, diagnoses_update, procedures_update)"
   ]
  }
 ],
 "metadata": {
  "kernelspec": {
   "display_name": "Python 3 (ipykernel)",
   "language": "python",
   "name": "python3"
  },
  "language_info": {
   "codemirror_mode": {
    "name": "ipython",
    "version": 3
   },
   "file_extension": ".py",
   "mimetype": "text/x-python",
   "name": "python",
   "nbconvert_exporter": "python",
   "pygments_lexer": "ipython3",
   "version": "3.10.6"
  }
 },
 "nbformat": 4,
 "nbformat_minor": 5
}
