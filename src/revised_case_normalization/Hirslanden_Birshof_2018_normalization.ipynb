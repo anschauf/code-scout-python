{
 "cells": [
  {
   "cell_type": "markdown",
   "id": "a4e2885d",
   "metadata": {
    "tags": []
   },
   "source": [
    "# Revised case normalization for Hirslanden Birshof 2017\n",
    "\n",
    "Notes:\n",
    "\n",
    "- There is no data for the hospital 'Hirslanden Birshof' in 2018\n",
    "\n"
   ]
  },
  {
   "cell_type": "code",
   "execution_count": 1,
   "id": "d097a048",
   "metadata": {
    "collapsed": false,
    "jupyter": {
     "outputs_hidden": false
    },
    "pycharm": {
     "is_executing": true
    }
   },
   "outputs": [],
   "source": [
    "import sys\n",
    "sys.path.insert(0, '/home/jovyan/work')\n",
    "\n",
    "from src.revised_case_normalization.notebook_functions.global_configs import *\n",
    "from src.revised_case_normalization.notebook_functions.normalize import normalize\n",
    "from src.revised_case_normalization.notebook_functions.revise import revise\n",
    "from src.revised_case_normalization.notebook_functions.group import group\n",
    "from src.revised_case_normalization.notebook_functions.update_db import update_db"
   ]
  },
  {
   "cell_type": "code",
   "execution_count": 2,
   "id": "4710c532",
   "metadata": {
    "collapsed": false,
    "jupyter": {
     "outputs_hidden": false
    }
   },
   "outputs": [
    {
     "name": "stdout",
     "output_type": "stream",
     "text": [
      "FileInfo(path='/home/jovyan/work/src/revised_case_normalization/raw_data/HI_Aarau_Birshof_ST. Anna.xlsx', hospital_name_db='Hirslanden Birshof', year='2018', sheet='Birshof_2018')\n"
     ]
    }
   ],
   "source": [
    "file_info = FileInfo(os.path.join(ROOT_DIR, 'raw_data/HI_Aarau_Birshof_ST. Anna.xlsx'),\n",
    "                     'Hirslanden Birshof', '2018', 'Birshof_2018')\n",
    "\n",
    "print(file_info)"
   ]
  },
  {
   "cell_type": "code",
   "execution_count": 3,
   "id": "8c8b27df",
   "metadata": {
    "collapsed": false,
    "jupyter": {
     "outputs_hidden": false
    }
   },
   "outputs": [
    {
     "name": "stderr",
     "output_type": "stream",
     "text": [
      "2022-11-09 13:51:16.547 | INFO     | src.revised_case_normalization.notebook_functions.normalize:normalize:35 - Read 4 cases for Hirslanden Birshof 2018\n",
      "2022-11-09 13:51:16.551 | INFO     | src.revised_case_normalization.notebook_functions.normalize:normalize:59 - TYPES:\n",
      "datum                    string\n",
      "tranche                  string\n",
      "case_id                  object\n",
      "patient_id               object\n",
      "kkik                     string\n",
      "gender                   string\n",
      "age_years                 int64\n",
      "bfs_code                 string\n",
      "duration_of_stay          int64\n",
      "pflegetage neu           string\n",
      "pccl                      int64\n",
      "pccl neu                 string\n",
      "old_pd                   string\n",
      "primary_diagnosis        string\n",
      "added_icds               string\n",
      "removed_icds             string\n",
      "added_chops              string\n",
      "removed_chops            string\n",
      "drg                      string\n",
      "drg neu                  string\n",
      "cw alt                   string\n",
      "cw neu                   string\n",
      "cw-änderung vorschlag    string\n",
      "cw akzeptiert            string\n",
      "kommentar dtod           string\n",
      "kodierer                 string\n",
      "kodierbemerkung          string\n",
      "case_id_norm             object\n",
      "dtype: object\n",
      "2022-11-09 13:51:16.555 | INFO     | src.utils.dataframe_utils:validate_icd_codes:68 - Validated ICD codes in 'added_icds' and stored them into 'added_icds': All rows contain valid codes\n",
      "2022-11-09 13:51:16.557 | INFO     | src.utils.dataframe_utils:validate_icd_codes:68 - Validated ICD codes in 'removed_icds' and stored them into 'removed_icds': All rows contain valid codes\n",
      "2022-11-09 13:51:16.559 | INFO     | src.utils.dataframe_utils:validate_chop_codes:106 - Validated CHOP codes in 'added_chops' and stored them into 'added_chops': All rows contain valid codes\n",
      "2022-11-09 13:51:16.560 | INFO     | src.utils.dataframe_utils:validate_chop_codes:106 - Validated CHOP codes in 'removed_chops' and stored them into 'removed_chops': All rows contain valid codes\n",
      "2022-11-09 13:51:16.561 | INFO     | src.utils.dataframe_utils:remove_duplicated_chops:32 - Removing duplicated CHOP codes due to different casing ...\n",
      "2022-11-09 13:51:16.564 | INFO     | src.utils.dataframe_utils:validate_pd_revised_sd:158 - Validated redundant PD info in 'added_icds'/'removed_icds': All rows contain valid codes\n",
      "2022-11-09 13:51:16.566 | SUCCESS  | src.revised_case_normalization.notebook_functions.normalize:normalize:106 - Completed validation\n"
     ]
    },
    {
     "data": {
      "text/html": [
       "<div>\n",
       "<style scoped>\n",
       "    .dataframe tbody tr th:only-of-type {\n",
       "        vertical-align: middle;\n",
       "    }\n",
       "\n",
       "    .dataframe tbody tr th {\n",
       "        vertical-align: top;\n",
       "    }\n",
       "\n",
       "    .dataframe thead th {\n",
       "        text-align: right;\n",
       "    }\n",
       "</style>\n",
       "<table border=\"1\" class=\"dataframe\">\n",
       "  <thead>\n",
       "    <tr style=\"text-align: right;\">\n",
       "      <th></th>\n",
       "      <th>case_id</th>\n",
       "      <th>patient_id</th>\n",
       "      <th>gender</th>\n",
       "      <th>age_years</th>\n",
       "      <th>duration_of_stay</th>\n",
       "      <th>case_id_norm</th>\n",
       "      <th>old_pd</th>\n",
       "      <th>primary_diagnosis</th>\n",
       "      <th>bfs_code</th>\n",
       "      <th>pccl</th>\n",
       "      <th>drg</th>\n",
       "      <th>added_icds</th>\n",
       "      <th>removed_icds</th>\n",
       "      <th>added_chops</th>\n",
       "      <th>removed_chops</th>\n",
       "    </tr>\n",
       "  </thead>\n",
       "  <tbody>\n",
       "    <tr>\n",
       "      <th>0</th>\n",
       "      <td>0041676790</td>\n",
       "      <td>6B6D03EC2A3F5E3C</td>\n",
       "      <td>M</td>\n",
       "      <td>76</td>\n",
       "      <td>2</td>\n",
       "      <td>41676790</td>\n",
       "      <td>M702</td>\n",
       "      <td>M702</td>\n",
       "      <td>M200</td>\n",
       "      <td>2</td>\n",
       "      <td>I27D</td>\n",
       "      <td>[R470, I693]</td>\n",
       "      <td>[]</td>\n",
       "      <td>[]</td>\n",
       "      <td>[]</td>\n",
       "    </tr>\n",
       "    <tr>\n",
       "      <th>1</th>\n",
       "      <td>0041733296</td>\n",
       "      <td>D506D11F343B8049</td>\n",
       "      <td>M</td>\n",
       "      <td>73</td>\n",
       "      <td>3</td>\n",
       "      <td>41733296</td>\n",
       "      <td>M702</td>\n",
       "      <td>M702</td>\n",
       "      <td>M200</td>\n",
       "      <td>2</td>\n",
       "      <td>I27D</td>\n",
       "      <td>[E1191]</td>\n",
       "      <td>[E1190]</td>\n",
       "      <td>[]</td>\n",
       "      <td>[]</td>\n",
       "    </tr>\n",
       "    <tr>\n",
       "      <th>2</th>\n",
       "      <td>0041764039</td>\n",
       "      <td>F7D48CC6FF8EE1B9</td>\n",
       "      <td>M</td>\n",
       "      <td>84</td>\n",
       "      <td>2</td>\n",
       "      <td>41764039</td>\n",
       "      <td>M754</td>\n",
       "      <td>M754</td>\n",
       "      <td>M200</td>\n",
       "      <td>3</td>\n",
       "      <td>I27C</td>\n",
       "      <td>[B022, G530]</td>\n",
       "      <td>[]</td>\n",
       "      <td>[]</td>\n",
       "      <td>[]</td>\n",
       "    </tr>\n",
       "    <tr>\n",
       "      <th>3</th>\n",
       "      <td>0041860429</td>\n",
       "      <td>5816B1A17E85581F</td>\n",
       "      <td>M</td>\n",
       "      <td>73</td>\n",
       "      <td>17</td>\n",
       "      <td>41860429</td>\n",
       "      <td>M171</td>\n",
       "      <td>M171</td>\n",
       "      <td>M200</td>\n",
       "      <td>3</td>\n",
       "      <td>I43B</td>\n",
       "      <td>[D62]</td>\n",
       "      <td>[]</td>\n",
       "      <td>[990410]</td>\n",
       "      <td>[]</td>\n",
       "    </tr>\n",
       "  </tbody>\n",
       "</table>\n",
       "</div>"
      ],
      "text/plain": [
       "      case_id        patient_id gender  age_years  duration_of_stay case_id_norm old_pd primary_diagnosis bfs_code  pccl   drg    added_icds removed_icds added_chops removed_chops\n",
       "0  0041676790  6B6D03EC2A3F5E3C      M         76                 2     41676790   M702              M702     M200     2  I27D  [R470, I693]           []          []            []\n",
       "1  0041733296  D506D11F343B8049      M         73                 3     41733296   M702              M702     M200     2  I27D       [E1191]      [E1190]          []            []\n",
       "2  0041764039  F7D48CC6FF8EE1B9      M         84                 2     41764039   M754              M754     M200     3  I27C  [B022, G530]           []          []            []\n",
       "3  0041860429  5816B1A17E85581F      M         73                17     41860429   M171              M171     M200     3  I43B         [D62]           []    [990410]            []"
      ]
     },
     "execution_count": 3,
     "metadata": {},
     "output_type": "execute_result"
    }
   ],
   "source": [
    "revised_cases_df = normalize(file_info)\n",
    "revised_cases_df"
   ]
  },
  {
   "cell_type": "markdown",
   "id": "a6796573",
   "metadata": {
    "tags": []
   },
   "source": [
    "# Match revised DtoD data with the BfS data from the database"
   ]
  },
  {
   "cell_type": "code",
   "execution_count": 4,
   "id": "65408537-cd4a-4b7c-a785-0db424378909",
   "metadata": {},
   "outputs": [
    {
     "ename": "ValueError",
     "evalue": "There is no data for the hospital 'Hirslanden Birshof' in 2018",
     "output_type": "error",
     "traceback": [
      "\u001b[0;31m---------------------------------------------------------------------------\u001b[0m",
      "\u001b[0;31mValueError\u001b[0m                                Traceback (most recent call last)",
      "Cell \u001b[0;32mIn [4], line 7\u001b[0m\n\u001b[1;32m      4\u001b[0m \u001b[38;5;66;03m# Ignore the patient ID in this dataset, because it is encrypted\u001b[39;00m\n\u001b[1;32m      5\u001b[0m cols_to_join\u001b[38;5;241m.\u001b[39mremove(PATIENT_ID_COL)\n\u001b[0;32m----> 7\u001b[0m revised_cases, unmatched \u001b[38;5;241m=\u001b[39m revise(file_info, revised_cases_df, validation_cols\u001b[38;5;241m=\u001b[39mcols_to_join)\n\u001b[1;32m      8\u001b[0m revised_cases\n",
      "File \u001b[0;32m<@beartype(src.revised_case_normalization.notebook_functions.revise.revise) at 0xffff5f4d40d0>:75\u001b[0m, in \u001b[0;36mrevise\u001b[0;34m(__beartype_func, __beartype_get_violation, __beartype_object_187650481330512, __beartype_object_187650490360528, __beartype_getrandbits, *args, **kwargs)\u001b[0m\n",
      "File \u001b[0;32m~/work/src/revised_case_normalization/notebook_functions/revise.py:31\u001b[0m, in \u001b[0;36mrevise\u001b[0;34m(file_info, revised_cases_df, validation_cols)\u001b[0m\n\u001b[1;32m     19\u001b[0m \u001b[38;5;124;03m\"\"\"Match revised cases with Database and return revised cases with aimedic_id and other columns of interests after matching.\u001b[39;00m\n\u001b[1;32m     20\u001b[0m \n\u001b[1;32m     21\u001b[0m \u001b[38;5;124;03m@param file_info: An instance of FileInfo, which contains the name and path of filename, hospital name and year and\u001b[39;00m\n\u001b[0;32m   (...)\u001b[0m\n\u001b[1;32m     26\u001b[0m \n\u001b[1;32m     27\u001b[0m \u001b[38;5;124;03m\"\"\"\u001b[39;00m\n\u001b[1;32m     29\u001b[0m \u001b[38;5;28;01mwith\u001b[39;00m Database() \u001b[38;5;28;01mas\u001b[39;00m db:\n\u001b[1;32m     30\u001b[0m     \u001b[38;5;66;03m# Read the sociodemographics from the DB, and normalize the case ID by removing leading zeros\u001b[39;00m\n\u001b[0;32m---> 31\u001b[0m     cases_in_db \u001b[38;5;241m=\u001b[39m \u001b[43mget_sociodemographics_for_hospital_year\u001b[49m\u001b[43m(\u001b[49m\u001b[43mfile_info\u001b[49m\u001b[38;5;241;43m.\u001b[39;49m\u001b[43mhospital_name_db\u001b[49m\u001b[43m,\u001b[49m\u001b[43m \u001b[49m\u001b[38;5;28;43mint\u001b[39;49m\u001b[43m(\u001b[49m\u001b[43mfile_info\u001b[49m\u001b[38;5;241;43m.\u001b[39;49m\u001b[43myear\u001b[49m\u001b[43m)\u001b[49m\u001b[43m,\u001b[49m\u001b[43m \u001b[49m\u001b[43mdb\u001b[49m\u001b[38;5;241;43m.\u001b[39;49m\u001b[43msession\u001b[49m\u001b[43m)\u001b[49m\n\u001b[1;32m     32\u001b[0m     cases_in_db[NORM_CASE_ID_COL] \u001b[38;5;241m=\u001b[39m cases_in_db[CASE_ID_COL]\u001b[38;5;241m.\u001b[39mapply(remove_leading_zeros)\n\u001b[1;32m     34\u001b[0m     \u001b[38;5;66;03m# Merge cases in DB with the revised cases\u001b[39;00m\n",
      "File \u001b[0;32m<@beartype(src.service.bfs_cases_db_service.get_sociodemographics_for_hospital_year) at 0xffff5ebc35b0>:67\u001b[0m, in \u001b[0;36mget_sociodemographics_for_hospital_year\u001b[0;34m(__beartype_func, __beartype_get_violation, __beartype_object_187650495669984, __beartype_object_187650490360528, *args, **kwargs)\u001b[0m\n",
      "File \u001b[0;32m~/work/src/service/bfs_cases_db_service.py:88\u001b[0m, in \u001b[0;36mget_sociodemographics_for_hospital_year\u001b[0;34m(hospital_name, year, session)\u001b[0m\n\u001b[1;32m     86\u001b[0m num_cases_in_db \u001b[38;5;241m=\u001b[39m df\u001b[38;5;241m.\u001b[39mshape[\u001b[38;5;241m0\u001b[39m]\n\u001b[1;32m     87\u001b[0m \u001b[38;5;28;01mif\u001b[39;00m num_cases_in_db \u001b[38;5;241m==\u001b[39m \u001b[38;5;241m0\u001b[39m:\n\u001b[0;32m---> 88\u001b[0m     \u001b[38;5;28;01mraise\u001b[39;00m \u001b[38;5;167;01mValueError\u001b[39;00m(\u001b[38;5;124mf\u001b[39m\u001b[38;5;124m\"\u001b[39m\u001b[38;5;124mThere is no data for the hospital \u001b[39m\u001b[38;5;124m'\u001b[39m\u001b[38;5;132;01m{\u001b[39;00mhospital_name\u001b[38;5;132;01m}\u001b[39;00m\u001b[38;5;124m'\u001b[39m\u001b[38;5;124m in \u001b[39m\u001b[38;5;132;01m{\u001b[39;00myear\u001b[38;5;132;01m}\u001b[39;00m\u001b[38;5;124m\"\u001b[39m)\n\u001b[1;32m     89\u001b[0m \u001b[38;5;28;01melse\u001b[39;00m:\n\u001b[1;32m     90\u001b[0m     logger\u001b[38;5;241m.\u001b[39minfo(\u001b[38;5;124mf\u001b[39m\u001b[38;5;124m\"\u001b[39m\u001b[38;5;124mRead \u001b[39m\u001b[38;5;132;01m{\u001b[39;00mnum_cases_in_db\u001b[38;5;132;01m}\u001b[39;00m\u001b[38;5;124m rows from the DB, for the hospital \u001b[39m\u001b[38;5;124m'\u001b[39m\u001b[38;5;132;01m{\u001b[39;00mhospital_name\u001b[38;5;132;01m}\u001b[39;00m\u001b[38;5;124m'\u001b[39m\u001b[38;5;124m in \u001b[39m\u001b[38;5;132;01m{\u001b[39;00myear\u001b[38;5;132;01m}\u001b[39;00m\u001b[38;5;124m\"\u001b[39m)\n",
      "\u001b[0;31mValueError\u001b[0m: There is no data for the hospital 'Hirslanden Birshof' in 2018"
     ]
    }
   ],
   "source": [
    "cols_to_join = list(VALIDATION_COLS)\n",
    "cols_to_join.remove(CASE_ID_COL)\n",
    "cols_to_join.append(NORM_CASE_ID_COL)\n",
    "# Ignore the patient ID in this dataset, because it is encrypted\n",
    "cols_to_join.remove(PATIENT_ID_COL)\n",
    "\n",
    "revised_cases, unmatched = revise(file_info, revised_cases_df, validation_cols=cols_to_join)\n",
    "revised_cases"
   ]
  },
  {
   "cell_type": "code",
   "execution_count": null,
   "id": "3ac0315b",
   "metadata": {
    "collapsed": false,
    "jupyter": {
     "outputs_hidden": false
    }
   },
   "outputs": [],
   "source": [
    "if unmatched.shape[0] > 0:\n",
    "    display(unmatched)"
   ]
  },
  {
   "cell_type": "code",
   "execution_count": null,
   "id": "a85b9247-c1dc-4072-a1dd-7b61c8251eeb",
   "metadata": {},
   "outputs": [],
   "source": [
    "revisions_update, diagnoses_update, procedures_update = group(revised_cases)\n",
    "revisions_update[REVISION_DATE_COL] = '2022-12-31'"
   ]
  },
  {
   "cell_type": "code",
   "execution_count": null,
   "id": "492c0392",
   "metadata": {
    "collapsed": false,
    "jupyter": {
     "outputs_hidden": false
    }
   },
   "outputs": [],
   "source": [
    "revisions_update"
   ]
  },
  {
   "cell_type": "code",
   "execution_count": null,
   "id": "04e44c03",
   "metadata": {
    "collapsed": false,
    "jupyter": {
     "outputs_hidden": false
    }
   },
   "outputs": [],
   "source": [
    "update_db(revisions_update, diagnoses_update, procedures_update)"
   ]
  }
 ],
 "metadata": {
  "kernelspec": {
   "display_name": "Python 3 (ipykernel)",
   "language": "python",
   "name": "python3"
  },
  "language_info": {
   "codemirror_mode": {
    "name": "ipython",
    "version": 3
   },
   "file_extension": ".py",
   "mimetype": "text/x-python",
   "name": "python",
   "nbconvert_exporter": "python",
   "pygments_lexer": "ipython3",
   "version": "3.10.6"
  }
 },
 "nbformat": 4,
 "nbformat_minor": 5
}
