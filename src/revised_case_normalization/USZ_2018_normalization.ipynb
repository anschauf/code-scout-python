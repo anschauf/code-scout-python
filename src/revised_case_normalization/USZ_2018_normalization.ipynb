{
 "cells": [
  {
   "cell_type": "markdown",
   "id": "a4e2885d",
   "metadata": {
    "tags": []
   },
   "source": [
    "# Revised case normalization for USZ 2018\n",
    "\n",
    "Notes:\n",
    "\n",
    "- There are no BFS cases of the USZ for 2018. Therefore, no cases can be matched between the DtoD revised cases and the BFS USZ data.\n"
   ]
  },
  {
   "cell_type": "code",
   "execution_count": 1,
   "id": "d097a048",
   "metadata": {
    "collapsed": false,
    "jupyter": {
     "outputs_hidden": false
    },
    "pycharm": {
     "is_executing": true
    }
   },
   "outputs": [],
   "source": [
    "import sys\n",
    "sys.path.insert(0, '/home/jovyan/work')\n",
    "from loguru import logger\n",
    "import pandas as pd\n",
    "from src.service.aimedic_grouper import group_batch_group_cases\n",
    "\n",
    "from src.revised_case_normalization.notebook_functions.global_configs import *\n",
    "from src.revised_case_normalization.notebook_functions.normalize import normalize\n",
    "from src.revised_case_normalization.notebook_functions.revise import revise\n",
    "from src.revised_case_normalization.notebook_functions.group import group\n",
    "from src.revised_case_normalization.notebook_functions.update_db import update_db"
   ]
  },
  {
   "cell_type": "code",
   "execution_count": 2,
   "id": "4710c532",
   "metadata": {
    "collapsed": false,
    "jupyter": {
     "outputs_hidden": false
    }
   },
   "outputs": [
    {
     "name": "stdout",
     "output_type": "stream",
     "text": [
      "FileInfo(path='/home/jovyan/work/src/revised_case_normalization/raw_data/USZ_2018-2019_20200730.xlsx', hospital_name_db='USZ', year='2018', sheet='Rückmeldungen_USZ_2018')\n"
     ]
    }
   ],
   "source": [
    "file_info=FileInfo(\n",
    "         os.path.join(ROOT_DIR, 'raw_data/USZ_2018-2019_20200730.xlsx'),\n",
    "         'USZ',\n",
    "         '2018',\n",
    "         'Rückmeldungen_USZ_2018')\n",
    "\n",
    "print(file_info)\n"
   ]
  },
  {
   "cell_type": "code",
   "execution_count": 3,
   "id": "8c8b27df",
   "metadata": {
    "collapsed": false,
    "jupyter": {
     "outputs_hidden": false
    }
   },
   "outputs": [
    {
     "name": "stderr",
     "output_type": "stream",
     "text": [
      "2022-11-10 14:32:17.118 | INFO     | src.revised_case_normalization.notebook_functions.normalize:normalize:35 - Read 169 cases for USZ 2018\n",
      "2022-11-10 14:32:17.126 | INFO     | src.revised_case_normalization.notebook_functions.normalize:normalize:60 - TYPES:\n",
      "case_id                  object\n",
      "patient_id               object\n",
      "kkik                     string\n",
      "gender                   string\n",
      "age_years                 int64\n",
      "bfs_code                 string\n",
      "duration_of_stay          int64\n",
      "pflegetage neu           string\n",
      "pccl                      int64\n",
      "pccl neu                 string\n",
      "old_pd                   string\n",
      "primary_diagnosis        string\n",
      "added_icds               string\n",
      "removed_icds             string\n",
      "added_chops              string\n",
      "removed_chops            string\n",
      "drg                      string\n",
      "drg neu                  string\n",
      "cw alt                   string\n",
      "cw neu                   string\n",
      "cw-änderung              string\n",
      "kommentar                string\n",
      "unnamed: 22              string\n",
      "kodierer                 string\n",
      "zur korrektur gegeben    string\n",
      "status                   string\n",
      "unnamed: 26              string\n",
      "case_id_norm             object\n",
      "dtype: object\n",
      "2022-11-10 14:32:17.126 | INFO     | src.revised_case_normalization.notebook_functions.normalize:normalize:69 - 6/169 rows were deleted because contained NaNs\n",
      "2022-11-10 14:32:17.138 | INFO     | src.utils.dataframe_utils:validate_icd_codes:71 - Validated ICD codes in 'added_icds' and stored them into 'added_icds': The following 8 rows were affected:\n",
      "row 41: discarded ICDs after validation {'K91.88'}\n",
      "row 43: discarded ICDs after validation {'R65.0'}\n",
      "row 45: discarded ICDs after validation {'I50.12', 'I42.0', 'I50.01', 'I32.8'}\n",
      "row 47: discarded ICDs after validation {'C77.1'}\n",
      "row 79: discarded ICDs after validation {'J96.01'}\n",
      "row 86: discarded ICDs after validation {'B95.48'}\n",
      "row 114: discarded ICDs after validation {'C77.0', 'I50.01'}\n",
      "row 156: discarded ICDs after validation {'D70.18'}\n",
      "2022-11-10 14:32:17.147 | INFO     | src.utils.dataframe_utils:validate_icd_codes:68 - Validated ICD codes in 'removed_icds' and stored them into 'removed_icds': All rows contain valid codes\n",
      "2022-11-10 14:32:17.156 | INFO     | src.utils.dataframe_utils:validate_chop_codes:106 - Validated CHOP codes in 'added_chops' and stored them into 'added_chops': All rows contain valid codes\n",
      "2022-11-10 14:32:17.203 | INFO     | src.utils.dataframe_utils:validate_chop_codes:106 - Validated CHOP codes in 'removed_chops' and stored them into 'removed_chops': All rows contain valid codes\n",
      "2022-11-10 14:32:17.203 | INFO     | src.utils.dataframe_utils:remove_duplicated_chops:32 - Removing duplicated CHOP codes due to different casing ...\n",
      "2022-11-10 14:32:17.218 | INFO     | src.utils.dataframe_utils:validate_pd_revised_sd:161 - Validated redundant PD info in 'added_icds'/'removed_icds': The following 15 rows were affected:\n",
      "row 12: primary diagnosis C833 => S4221\n",
      "row 14: primary diagnosis J101 => J100\n",
      "row 27: primary diagnosis R55 => K8050\n",
      "row 40: primary diagnosis I269 => C782\n",
      "row 41: primary diagnosis K914 => K632\n",
      "row 47: primary diagnosis J90 => C782\n",
      "row 63: primary diagnosis T814 => C251\n",
      "row 108: primary diagnosis N201 => N132\n",
      "row 111: primary diagnosis N201 => N132\n",
      "row 112: primary diagnosis N201 => N132\n",
      "row 113: primary diagnosis N201 => N132\n",
      "row 115: primary diagnosis C108 => C770\n",
      "row 118: primary diagnosis A090 => A0470\n",
      "row 126: primary diagnosis R55 => K8050\n",
      "row 156: primary diagnosis T8683 => C9110\n",
      "2022-11-10 14:32:17.222 | INFO     | src.revised_case_normalization.notebook_functions.normalize:normalize:105 - Removed 16 rows containing duplicates\n",
      "2022-11-10 14:32:17.223 | SUCCESS  | src.revised_case_normalization.notebook_functions.normalize:normalize:107 - Completed validation\n"
     ]
    },
    {
     "data": {
      "text/html": [
       "<div>\n",
       "<style scoped>\n",
       "    .dataframe tbody tr th:only-of-type {\n",
       "        vertical-align: middle;\n",
       "    }\n",
       "\n",
       "    .dataframe tbody tr th {\n",
       "        vertical-align: top;\n",
       "    }\n",
       "\n",
       "    .dataframe thead th {\n",
       "        text-align: right;\n",
       "    }\n",
       "</style>\n",
       "<table border=\"1\" class=\"dataframe\">\n",
       "  <thead>\n",
       "    <tr style=\"text-align: right;\">\n",
       "      <th></th>\n",
       "      <th>case_id</th>\n",
       "      <th>patient_id</th>\n",
       "      <th>gender</th>\n",
       "      <th>age_years</th>\n",
       "      <th>duration_of_stay</th>\n",
       "      <th>case_id_norm</th>\n",
       "      <th>old_pd</th>\n",
       "      <th>primary_diagnosis</th>\n",
       "      <th>bfs_code</th>\n",
       "      <th>pccl</th>\n",
       "      <th>drg</th>\n",
       "      <th>added_icds</th>\n",
       "      <th>removed_icds</th>\n",
       "      <th>added_chops</th>\n",
       "      <th>removed_chops</th>\n",
       "    </tr>\n",
       "  </thead>\n",
       "  <tbody>\n",
       "    <tr>\n",
       "      <th>0</th>\n",
       "      <td>5771703</td>\n",
       "      <td>4424387</td>\n",
       "      <td>W</td>\n",
       "      <td>90</td>\n",
       "      <td>10</td>\n",
       "      <td>5771703</td>\n",
       "      <td>N390</td>\n",
       "      <td>N390</td>\n",
       "      <td>&lt;NA&gt;</td>\n",
       "      <td>3</td>\n",
       "      <td>L63D</td>\n",
       "      <td>[U804]</td>\n",
       "      <td>[]</td>\n",
       "      <td>[]</td>\n",
       "      <td>[]</td>\n",
       "    </tr>\n",
       "    <tr>\n",
       "      <th>1</th>\n",
       "      <td>5773574</td>\n",
       "      <td>60210855</td>\n",
       "      <td>M</td>\n",
       "      <td>95</td>\n",
       "      <td>14</td>\n",
       "      <td>5773574</td>\n",
       "      <td>D042</td>\n",
       "      <td>D042</td>\n",
       "      <td>&lt;NA&gt;</td>\n",
       "      <td>3</td>\n",
       "      <td>J10Z</td>\n",
       "      <td>[B965]</td>\n",
       "      <td>[]</td>\n",
       "      <td>[]</td>\n",
       "      <td>[]</td>\n",
       "    </tr>\n",
       "    <tr>\n",
       "      <th>2</th>\n",
       "      <td>5776284</td>\n",
       "      <td>10743014</td>\n",
       "      <td>W</td>\n",
       "      <td>83</td>\n",
       "      <td>5</td>\n",
       "      <td>5776284</td>\n",
       "      <td>I495</td>\n",
       "      <td>I495</td>\n",
       "      <td>&lt;NA&gt;</td>\n",
       "      <td>3</td>\n",
       "      <td>F12D</td>\n",
       "      <td>[I5014, J4409]</td>\n",
       "      <td>[I5012, J4483]</td>\n",
       "      <td>[]</td>\n",
       "      <td>[]</td>\n",
       "    </tr>\n",
       "    <tr>\n",
       "      <th>3</th>\n",
       "      <td>5793305</td>\n",
       "      <td>6214207</td>\n",
       "      <td>M</td>\n",
       "      <td>60</td>\n",
       "      <td>7</td>\n",
       "      <td>5793305</td>\n",
       "      <td>C343</td>\n",
       "      <td>C343</td>\n",
       "      <td>&lt;NA&gt;</td>\n",
       "      <td>3</td>\n",
       "      <td>E71B</td>\n",
       "      <td>[J9600, J90]</td>\n",
       "      <td>[]</td>\n",
       "      <td>[3491::20180117]</td>\n",
       "      <td>[]</td>\n",
       "    </tr>\n",
       "    <tr>\n",
       "      <th>4</th>\n",
       "      <td>5816220</td>\n",
       "      <td>10776936</td>\n",
       "      <td>W</td>\n",
       "      <td>84</td>\n",
       "      <td>8</td>\n",
       "      <td>5816220</td>\n",
       "      <td>I214</td>\n",
       "      <td>I214</td>\n",
       "      <td>&lt;NA&gt;</td>\n",
       "      <td>3</td>\n",
       "      <td>F24C</td>\n",
       "      <td>[N184]</td>\n",
       "      <td>[N183]</td>\n",
       "      <td>[]</td>\n",
       "      <td>[]</td>\n",
       "    </tr>\n",
       "    <tr>\n",
       "      <th>...</th>\n",
       "      <td>...</td>\n",
       "      <td>...</td>\n",
       "      <td>...</td>\n",
       "      <td>...</td>\n",
       "      <td>...</td>\n",
       "      <td>...</td>\n",
       "      <td>...</td>\n",
       "      <td>...</td>\n",
       "      <td>...</td>\n",
       "      <td>...</td>\n",
       "      <td>...</td>\n",
       "      <td>...</td>\n",
       "      <td>...</td>\n",
       "      <td>...</td>\n",
       "      <td>...</td>\n",
       "    </tr>\n",
       "    <tr>\n",
       "      <th>158</th>\n",
       "      <td>5941848</td>\n",
       "      <td>10789030</td>\n",
       "      <td>W</td>\n",
       "      <td>76</td>\n",
       "      <td>31</td>\n",
       "      <td>5941848</td>\n",
       "      <td>H168</td>\n",
       "      <td>H168</td>\n",
       "      <td>1051</td>\n",
       "      <td>2</td>\n",
       "      <td>C60B</td>\n",
       "      <td>[U8021, B482, B022, B957, B021]</td>\n",
       "      <td>[B952]</td>\n",
       "      <td>[]</td>\n",
       "      <td>[]</td>\n",
       "    </tr>\n",
       "    <tr>\n",
       "      <th>159</th>\n",
       "      <td>5984839</td>\n",
       "      <td>10388955</td>\n",
       "      <td>W</td>\n",
       "      <td>64</td>\n",
       "      <td>3</td>\n",
       "      <td>5984839</td>\n",
       "      <td>I480</td>\n",
       "      <td>I480</td>\n",
       "      <td>3354</td>\n",
       "      <td>2</td>\n",
       "      <td>F72B</td>\n",
       "      <td>[U804, Z223, Z290]</td>\n",
       "      <td>[]</td>\n",
       "      <td>[]</td>\n",
       "      <td>[]</td>\n",
       "    </tr>\n",
       "    <tr>\n",
       "      <th>160</th>\n",
       "      <td>5990515</td>\n",
       "      <td>10387733</td>\n",
       "      <td>W</td>\n",
       "      <td>50</td>\n",
       "      <td>9</td>\n",
       "      <td>5990515</td>\n",
       "      <td>K565</td>\n",
       "      <td>K565</td>\n",
       "      <td>5453</td>\n",
       "      <td>2</td>\n",
       "      <td>G21B</td>\n",
       "      <td>[C786, J91, C782, E440]</td>\n",
       "      <td>[]</td>\n",
       "      <td>[]</td>\n",
       "      <td>[]</td>\n",
       "    </tr>\n",
       "    <tr>\n",
       "      <th>161</th>\n",
       "      <td>5995298</td>\n",
       "      <td>10589554</td>\n",
       "      <td>M</td>\n",
       "      <td>60</td>\n",
       "      <td>33</td>\n",
       "      <td>5995298</td>\n",
       "      <td>K8520</td>\n",
       "      <td>K8520</td>\n",
       "      <td>6167</td>\n",
       "      <td>3</td>\n",
       "      <td>H62B</td>\n",
       "      <td>[E440, F128, E871]</td>\n",
       "      <td>[E43]</td>\n",
       "      <td>[]</td>\n",
       "      <td>[]</td>\n",
       "    </tr>\n",
       "    <tr>\n",
       "      <th>162</th>\n",
       "      <td>6002400</td>\n",
       "      <td>10716977</td>\n",
       "      <td>M</td>\n",
       "      <td>84</td>\n",
       "      <td>15</td>\n",
       "      <td>6002400</td>\n",
       "      <td>C160</td>\n",
       "      <td>C160</td>\n",
       "      <td>4153</td>\n",
       "      <td>2</td>\n",
       "      <td>G60B</td>\n",
       "      <td>[J91, J188, U6900]</td>\n",
       "      <td>[]</td>\n",
       "      <td>[]</td>\n",
       "      <td>[]</td>\n",
       "    </tr>\n",
       "  </tbody>\n",
       "</table>\n",
       "<p>147 rows × 15 columns</p>\n",
       "</div>"
      ],
      "text/plain": [
       "     case_id patient_id gender  age_years  duration_of_stay case_id_norm old_pd primary_diagnosis bfs_code  pccl   drg                       added_icds    removed_icds       added_chops removed_chops\n",
       "0    5771703    4424387      W         90                10      5771703   N390              N390     <NA>     3  L63D                           [U804]              []                []            []\n",
       "1    5773574   60210855      M         95                14      5773574   D042              D042     <NA>     3  J10Z                           [B965]              []                []            []\n",
       "2    5776284   10743014      W         83                 5      5776284   I495              I495     <NA>     3  F12D                   [I5014, J4409]  [I5012, J4483]                []            []\n",
       "3    5793305    6214207      M         60                 7      5793305   C343              C343     <NA>     3  E71B                     [J9600, J90]              []  [3491::20180117]            []\n",
       "4    5816220   10776936      W         84                 8      5816220   I214              I214     <NA>     3  F24C                           [N184]          [N183]                []            []\n",
       "..       ...        ...    ...        ...               ...          ...    ...               ...      ...   ...   ...                              ...             ...               ...           ...\n",
       "158  5941848   10789030      W         76                31      5941848   H168              H168     1051     2  C60B  [U8021, B482, B022, B957, B021]          [B952]                []            []\n",
       "159  5984839   10388955      W         64                 3      5984839   I480              I480     3354     2  F72B               [U804, Z223, Z290]              []                []            []\n",
       "160  5990515   10387733      W         50                 9      5990515   K565              K565     5453     2  G21B          [C786, J91, C782, E440]              []                []            []\n",
       "161  5995298   10589554      M         60                33      5995298  K8520             K8520     6167     3  H62B               [E440, F128, E871]           [E43]                []            []\n",
       "162  6002400   10716977      M         84                15      6002400   C160              C160     4153     2  G60B               [J91, J188, U6900]              []                []            []\n",
       "\n",
       "[147 rows x 15 columns]"
      ]
     },
     "execution_count": 3,
     "metadata": {},
     "output_type": "execute_result"
    }
   ],
   "source": [
    "revised_cases_df = normalize(file_info)\n",
    "revised_cases_df"
   ]
  },
  {
   "cell_type": "markdown",
   "id": "a6796573",
   "metadata": {
    "tags": []
   },
   "source": [
    "# Match revised DtoD data with the BfS data from the database"
   ]
  },
  {
   "cell_type": "code",
   "execution_count": 4,
   "id": "65408537-cd4a-4b7c-a785-0db424378909",
   "metadata": {},
   "outputs": [
    {
     "ename": "ValueError",
     "evalue": "There is no data for the hospital 'USZ' in 2018",
     "output_type": "error",
     "traceback": [
      "\u001b[0;31m---------------------------------------------------------------------------\u001b[0m",
      "\u001b[0;31mValueError\u001b[0m                                Traceback (most recent call last)",
      "Cell \u001b[0;32mIn [4], line 7\u001b[0m\n\u001b[1;32m      4\u001b[0m \u001b[38;5;66;03m# Ignore the patient ID in this dataset, because it is encrypted\u001b[39;00m\n\u001b[1;32m      5\u001b[0m cols_to_join\u001b[38;5;241m.\u001b[39mremove(PATIENT_ID_COL)\n\u001b[0;32m----> 7\u001b[0m revised_cases, unmatched \u001b[38;5;241m=\u001b[39m revise(file_info, revised_cases_df, validation_cols\u001b[38;5;241m=\u001b[39mcols_to_join)\n\u001b[1;32m      8\u001b[0m revised_cases\u001b[38;5;241m.\u001b[39mhead()\n",
      "File \u001b[0;32m<@beartype(src.revised_case_normalization.notebook_functions.revise.revise) at 0xffff60454160>:75\u001b[0m, in \u001b[0;36mrevise\u001b[0;34m(__beartype_func, __beartype_get_violation, __beartype_object_187650784472992, __beartype_object_187650780255264, __beartype_getrandbits, *args, **kwargs)\u001b[0m\n",
      "File \u001b[0;32m~/work/src/revised_case_normalization/notebook_functions/revise.py:31\u001b[0m, in \u001b[0;36mrevise\u001b[0;34m(file_info, revised_cases_df, validation_cols)\u001b[0m\n\u001b[1;32m     19\u001b[0m \u001b[38;5;124;03m\"\"\"Match revised cases with Database and return revised cases with aimedic_id and other columns of interests after matching.\u001b[39;00m\n\u001b[1;32m     20\u001b[0m \n\u001b[1;32m     21\u001b[0m \u001b[38;5;124;03m@param file_info: An instance of FileInfo, which contains the name and path of filename, hospital name and year and\u001b[39;00m\n\u001b[0;32m   (...)\u001b[0m\n\u001b[1;32m     26\u001b[0m \n\u001b[1;32m     27\u001b[0m \u001b[38;5;124;03m\"\"\"\u001b[39;00m\n\u001b[1;32m     29\u001b[0m \u001b[38;5;28;01mwith\u001b[39;00m Database() \u001b[38;5;28;01mas\u001b[39;00m db:\n\u001b[1;32m     30\u001b[0m     \u001b[38;5;66;03m# Read the sociodemographics from the DB, and normalize the case ID by removing leading zeros\u001b[39;00m\n\u001b[0;32m---> 31\u001b[0m     cases_in_db \u001b[38;5;241m=\u001b[39m \u001b[43mget_sociodemographics_for_hospital_year\u001b[49m\u001b[43m(\u001b[49m\u001b[43mfile_info\u001b[49m\u001b[38;5;241;43m.\u001b[39;49m\u001b[43mhospital_name_db\u001b[49m\u001b[43m,\u001b[49m\u001b[43m \u001b[49m\u001b[38;5;28;43mint\u001b[39;49m\u001b[43m(\u001b[49m\u001b[43mfile_info\u001b[49m\u001b[38;5;241;43m.\u001b[39;49m\u001b[43myear\u001b[49m\u001b[43m)\u001b[49m\u001b[43m,\u001b[49m\u001b[43m \u001b[49m\u001b[43mdb\u001b[49m\u001b[38;5;241;43m.\u001b[39;49m\u001b[43msession\u001b[49m\u001b[43m)\u001b[49m\n\u001b[1;32m     32\u001b[0m     cases_in_db[NORM_CASE_ID_COL] \u001b[38;5;241m=\u001b[39m cases_in_db[CASE_ID_COL]\u001b[38;5;241m.\u001b[39mapply(remove_leading_zeros)\n\u001b[1;32m     34\u001b[0m     \u001b[38;5;66;03m# Merge cases in DB with the revised cases\u001b[39;00m\n",
      "File \u001b[0;32m<@beartype(src.service.bfs_cases_db_service.get_sociodemographics_for_hospital_year) at 0xffff600bb880>:67\u001b[0m, in \u001b[0;36mget_sociodemographics_for_hospital_year\u001b[0;34m(__beartype_func, __beartype_get_violation, __beartype_object_187650785316800, __beartype_object_187650780255264, *args, **kwargs)\u001b[0m\n",
      "File \u001b[0;32m~/work/src/service/bfs_cases_db_service.py:88\u001b[0m, in \u001b[0;36mget_sociodemographics_for_hospital_year\u001b[0;34m(hospital_name, year, session)\u001b[0m\n\u001b[1;32m     86\u001b[0m num_cases_in_db \u001b[38;5;241m=\u001b[39m df\u001b[38;5;241m.\u001b[39mshape[\u001b[38;5;241m0\u001b[39m]\n\u001b[1;32m     87\u001b[0m \u001b[38;5;28;01mif\u001b[39;00m num_cases_in_db \u001b[38;5;241m==\u001b[39m \u001b[38;5;241m0\u001b[39m:\n\u001b[0;32m---> 88\u001b[0m     \u001b[38;5;28;01mraise\u001b[39;00m \u001b[38;5;167;01mValueError\u001b[39;00m(\u001b[38;5;124mf\u001b[39m\u001b[38;5;124m\"\u001b[39m\u001b[38;5;124mThere is no data for the hospital \u001b[39m\u001b[38;5;124m'\u001b[39m\u001b[38;5;132;01m{\u001b[39;00mhospital_name\u001b[38;5;132;01m}\u001b[39;00m\u001b[38;5;124m'\u001b[39m\u001b[38;5;124m in \u001b[39m\u001b[38;5;132;01m{\u001b[39;00myear\u001b[38;5;132;01m}\u001b[39;00m\u001b[38;5;124m\"\u001b[39m)\n\u001b[1;32m     89\u001b[0m \u001b[38;5;28;01melse\u001b[39;00m:\n\u001b[1;32m     90\u001b[0m     logger\u001b[38;5;241m.\u001b[39minfo(\u001b[38;5;124mf\u001b[39m\u001b[38;5;124m\"\u001b[39m\u001b[38;5;124mRead \u001b[39m\u001b[38;5;132;01m{\u001b[39;00mnum_cases_in_db\u001b[38;5;132;01m}\u001b[39;00m\u001b[38;5;124m rows from the DB, for the hospital \u001b[39m\u001b[38;5;124m'\u001b[39m\u001b[38;5;132;01m{\u001b[39;00mhospital_name\u001b[38;5;132;01m}\u001b[39;00m\u001b[38;5;124m'\u001b[39m\u001b[38;5;124m in \u001b[39m\u001b[38;5;132;01m{\u001b[39;00myear\u001b[38;5;132;01m}\u001b[39;00m\u001b[38;5;124m\"\u001b[39m)\n",
      "\u001b[0;31mValueError\u001b[0m: There is no data for the hospital 'USZ' in 2018"
     ]
    }
   ],
   "source": [
    "cols_to_join = list(VALIDATION_COLS)\n",
    "cols_to_join.remove(CASE_ID_COL)\n",
    "cols_to_join.append(NORM_CASE_ID_COL)\n",
    "# Ignore the patient ID in this dataset, because it is encrypted\n",
    "cols_to_join.remove(PATIENT_ID_COL)\n",
    "\n",
    "revised_cases, unmatched = revise(file_info, revised_cases_df, validation_cols=cols_to_join)\n",
    "revised_cases.head()"
   ]
  },
  {
   "cell_type": "code",
   "execution_count": null,
   "id": "3ac0315b",
   "metadata": {
    "collapsed": false,
    "jupyter": {
     "outputs_hidden": false
    }
   },
   "outputs": [],
   "source": [
    "if unmatched.shape[0] > 0:\n",
    "    display(unmatched)"
   ]
  },
  {
   "cell_type": "code",
   "execution_count": null,
   "id": "a85b9247-c1dc-4072-a1dd-7b61c8251eeb",
   "metadata": {},
   "outputs": [],
   "source": [
    "revisions_update, diagnoses_update, procedures_update = group(revised_cases)\n",
    "revisions_update[REVISION_DATE_COL] = '2022-12-31'"
   ]
  },
  {
   "cell_type": "code",
   "execution_count": null,
   "id": "492c0392",
   "metadata": {
    "collapsed": false,
    "jupyter": {
     "outputs_hidden": false
    }
   },
   "outputs": [],
   "source": [
    "revisions_update"
   ]
  },
  {
   "cell_type": "code",
   "execution_count": null,
   "id": "04e44c03",
   "metadata": {
    "collapsed": false,
    "jupyter": {
     "outputs_hidden": false
    }
   },
   "outputs": [],
   "source": [
    "update_db(revisions_update, diagnoses_update, procedures_update)"
   ]
  }
 ],
 "metadata": {
  "kernelspec": {
   "display_name": "Python 3 (ipykernel)",
   "language": "python",
   "name": "python3"
  },
  "language_info": {
   "codemirror_mode": {
    "name": "ipython",
    "version": 3
   },
   "file_extension": ".py",
   "mimetype": "text/x-python",
   "name": "python",
   "nbconvert_exporter": "python",
   "pygments_lexer": "ipython3",
   "version": "3.10.6"
  }
 },
 "nbformat": 4,
 "nbformat_minor": 5
}
