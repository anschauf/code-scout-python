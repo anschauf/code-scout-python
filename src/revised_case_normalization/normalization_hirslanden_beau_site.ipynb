{
 "cells": [
  {
   "cell_type": "markdown",
   "id": "4a803118-2413-461f-9e51-b0f8e88439b3",
   "metadata": {
    "pycharm": {
     "name": "#%% md\n"
    }
   },
   "source": [
    "# Revised case normalization for Hirslanden Beau Site\n",
    "\n",
    "This jupyter notebook is used to normalize the revised case from DtoD.\n",
    "\n",
    "Before runing the notebook, raw_data folder need to added to the root directory\n",
    "\n",
    "The raw data folder can be find here: https://aimedic.sharepoint.com/:f:/s/dev/Ejx_A1dg8gtPumFknOWOh0oBi6ofx9hctYiq3c-0gH9vYA?e=UmcgrS\n",
    "\n",
    "Normalization:\n",
    "\n",
    "-  Convert the column names to the name used in the Database\n",
    "-  Delete cases which is empty in the follow columns VALIDATION_COLS: 'case_id', 'patient_id', 'gender', 'age_years', duration_of_stay',  'pccl',  'drg'\n",
    "- choose neccessary columns COLS_TO_SELECT: case_id, patient_id, gender, age_years, duration_of_stay, pccl, drg, pd, bfs_code, added_icds, removed_icds, added_chops, removed_chops\n",
    "- still need to do (TODO):    \n",
    "    -  Check CHOP upper/lowercase\n",
    "    -  Check whether the PD changed. If it did, new and old PD are stored together with added and removed ICDs, respectively\n",
    "    -  Pad case IDs with 0s\n",
    "    -  Write function to validate cases\n"
   ]
  },
  {
   "cell_type": "code",
   "execution_count": 52,
   "id": "2acf8333-0c08-4555-b245-1f378f5b9f1f",
   "metadata": {
    "pycharm": {
     "is_executing": true,
     "name": "#%%\n"
    }
   },
   "outputs": [],
   "source": [
    "import pandas as pd\n",
    "import os\n",
    "from dataclasses import dataclass, field\n",
    "import sys\n",
    "sys.path.insert(0, '/home/jovyan/work')\n",
    "sys.path.insert(1, '/home/jovyan/work/src/service')\n",
    "\n",
    "from service import bfs_cases_db_service as bfs_db\n",
    "\n",
    "from py.global_configs import *"
   ]
  },
  {
   "cell_type": "code",
   "execution_count": 53,
   "id": "ee597824",
   "metadata": {
    "collapsed": false,
    "jupyter": {
     "outputs_hidden": false
    },
    "pycharm": {
     "name": "#%%\n"
    }
   },
   "outputs": [],
   "source": [
    "FILES_TO_ANALYZE = {\n",
    "    'Änderungen Beau Site 2017': FileInfo(\n",
    "         os.path.join(ROOT_DIR, 'raw_data/HI-Bern_Salem_Beau Site_Linde.xlsx'),\n",
    "         ['SA', 'Hirslanden Beau Site', 'Hirslanden Linde', 'Hirslanden Linde', 'SA', 'Hirslanden Beau Site'],\n",
    "         ['2017', '2017', '2017', '2018', '2018', '2018'],\n",
    "         ['Änderungen_SA_2017', 'Änderungen Beau Site 2017', 'Änderungen_LI_2017', 'Änderungen_LI_2018', 'Änderungen _SA_2018', 'Änderungen Beau Site_ 2018']),\n"
   ]
  },
  {
   "cell_type": "code",
   "execution_count": 54,
   "id": "98228ed6",
   "metadata": {
    "collapsed": false,
    "jupyter": {
     "outputs_hidden": false
    },
    "pycharm": {
     "name": "#%%\n"
    }
   },
   "outputs": [],
   "source": [
    "def normalize(fi: FileInfo,\n",
    "              *, \n",
    "              columns_mapper: dict = COLUMNS_TO_RENAME,\n",
    "              columns_to_cast: dict = COLUMNS_TO_CAST,\n",
    "              columns_to_lstrip: set = COLUMNS_TO_LSTRIP\n",
    "              ) -> pd.DataFrame:\n",
    "    \"\"\"\n",
    "    \"\"\"\n",
    "    \n",
    "    revised_cases = list()\n",
    "    for i ,sheet in enumerate(fi.sheets):\n",
    "        file_path = fi.path\n",
    "        file_name = fi.sheets[i]\n",
    "        # Read the Excel file and sheet. Cast all columns to strings, so we can format / cast the columns ourselves later on.\n",
    "        # `string[pyarrow]` is an efficient way of storing strings in a DataFrame\n",
    "        df = pd.read_excel(file_path, sheet_name=file_name, dtype='string[pyarrow]')\n",
    "        # Convert all column names to lower-case, so we don't have to deal with columns named `HD Alt` vs `HD alt`\n",
    "        df.columns = [c.lower() for c in df.columns]\n",
    "        # Renaming columns that don't exist is a no-op. Make sure that all names actually exist\n",
    "        assert(len(set(columns_mapper.keys()).difference(df.columns)) == 0)\n",
    "        df.rename(columns=columns_mapper, inplace=True)\n",
    "\n",
    "        assert(len(set(COLS_TO_SELECT).difference(df.columns)) == 0)\n",
    "        df = df[COLS_TO_SELECT]\n",
    "        n_all_rows = df.shape[0]\n",
    "        print(f'Read {n_all_rows} cases for {fi.hospital_name_db[i]} {fi.year[i]}')\n",
    "\n",
    "        # Remove rows where any value is NaN\n",
    "        assert(len(set(VALIDATION_COLS).difference(df.columns)) == 0)\n",
    "        df.dropna(subset=VALIDATION_COLS, inplace=True)\n",
    "        n_valid_rows = df.shape[0]\n",
    "        if n_valid_rows < n_all_rows:\n",
    "            print(f'{n_all_rows - n_valid_rows}/{n_all_rows} rows were deleted because contained NaNs')\n",
    "\n",
    "        # Cast columns to correct data type (according to DB)\n",
    "        assert(len(set(columns_to_cast.keys()).difference(df.columns)) == 0)\n",
    "        for col_name, col_type in columns_to_cast.items():\n",
    "            df[col_name] = df[col_name].astype(col_type)  \n",
    "\n",
    "        print(f'TYPES:\\n{df.dtypes}')\n",
    "\n",
    "        # Fix format of some columns\n",
    "        lstrip_fun = lambda x: x.lstrip(\"'\")\n",
    "        for col_name in columns_to_lstrip:\n",
    "            df[col_name] = df[col_name].apply(lstrip_fun)\n",
    "            \n",
    "        # add hospital name and year as two columns\n",
    "        hospital_name_db = fi.hospital_name_db[i]\n",
    "        year = fi.year[i]\n",
    "        df['hospital_name_db'] = hospital_name_db\n",
    "        df['year'] = year\n",
    "        revised_cases.append(df)\n",
    "    revised_cases_df = pd.concat(revised_cases)\n",
    "    \n",
    "    return revised_cases_df\n",
    "        \n",
    "\n",
    "    # TODO Check CHOP upper/lowercase\n",
    "    # TODO Check whether the PD changed. If it did, new and old PD are stored together with added and removed ICDs, respectively\n",
    "    # TODO Pad case IDs with 0s\n",
    "    # TODO Write function to validate cases\n"
   ]
  },
  {
   "cell_type": "markdown",
   "id": "4558e4f8",
   "metadata": {
    "pycharm": {
     "name": "#%% md\n"
    }
   },
   "source": [
    "## Revised cases from excel 'HI-Bern_Salem_Beau Site_Linde.xlsx'\n"
   ]
  },
  {
   "cell_type": "code",
   "execution_count": 55,
   "id": "f1db9361",
   "metadata": {
    "collapsed": false,
    "jupyter": {
     "outputs_hidden": false
    },
    "pycharm": {
     "name": "#%%\n"
    }
   },
   "outputs": [
    {
     "data": {
      "text/plain": [
       "dict_keys(['HI-Bern_Salem_Beau Site_Linde.xlsx', 'HI-Zurich.xlsx', 'HI_Aarau_Birshof_ST. Anna.xlsx', 'KSSG_2021.xlsx', 'Linth_Toggenburg_SRRWS_2019.xlsx', 'USZ_2018-2019_20200730.xlsx', 'Winterthur.xlsx'])"
      ]
     },
     "execution_count": 55,
     "metadata": {},
     "output_type": "execute_result"
    }
   ],
   "source": [
    "# All excel files\n",
    "FILES_TO_ANALYZE.keys()\n"
   ]
  },
  {
   "cell_type": "code",
   "execution_count": 56,
   "id": "73222536",
   "metadata": {
    "collapsed": false,
    "jupyter": {
     "outputs_hidden": false
    },
    "pycharm": {
     "name": "#%%\n"
    }
   },
   "outputs": [
    {
     "data": {
      "text/plain": [
       "FileInfo(path='/home/jovyan/work/src/revised_case_normalization/raw_data/HI-Bern_Salem_Beau Site_Linde.xlsx', hospital_name_db=['SA', 'Hirslanden Beau Site', 'Hirslanden Linde', 'Hirslanden Linde', 'SA', 'Hirslanden Beau Site'], year=['2017', '2017', '2017', '2018', '2018', '2018'], sheets=['Änderungen_SA_2017', 'Änderungen Beau Site 2017', 'Änderungen_LI_2017', 'Änderungen_LI_2018', 'Änderungen _SA_2018', 'Änderungen Beau Site_ 2018'])"
      ]
     },
     "execution_count": 56,
     "metadata": {},
     "output_type": "execute_result"
    }
   ],
   "source": [
    "file_hi_bern = FILES_TO_ANALYZE['HI-Bern_Salem_Beau Site_Linde.xlsx']\n",
    "file_hi_bern"
   ]
  },
  {
   "cell_type": "code",
   "execution_count": 57,
   "id": "b298e037",
   "metadata": {
    "collapsed": false,
    "jupyter": {
     "outputs_hidden": false
    },
    "pycharm": {
     "name": "#%%\n"
    }
   },
   "outputs": [
    {
     "name": "stdout",
     "output_type": "stream",
     "text": [
      "Read 57 cases for SA 2017\n",
      "TYPES:\n",
      "case_id             string\n",
      "patient_id          string\n",
      "gender              string\n",
      "age_years            int64\n",
      "duration_of_stay     int64\n",
      "pccl                 int64\n",
      "drg                 string\n",
      "pd                  string\n",
      "bfs_code            string\n",
      "added_icds          string\n",
      "removed_icds        string\n",
      "added_chops         string\n",
      "removed_chops       string\n",
      "dtype: object\n",
      "Read 47 cases for Hirslanden Beau Site 2017\n",
      "TYPES:\n",
      "case_id             string\n",
      "patient_id          string\n",
      "gender              string\n",
      "age_years            int64\n",
      "duration_of_stay     int64\n",
      "pccl                 int64\n",
      "drg                 string\n",
      "pd                  string\n",
      "bfs_code            string\n",
      "added_icds          string\n",
      "removed_icds        string\n",
      "added_chops         string\n",
      "removed_chops       string\n",
      "dtype: object\n",
      "Read 18 cases for Hirslanden Linde 2017\n",
      "TYPES:\n",
      "case_id             string\n",
      "patient_id          string\n",
      "gender              string\n",
      "age_years            int64\n",
      "duration_of_stay     int64\n",
      "pccl                 int64\n",
      "drg                 string\n",
      "pd                  string\n",
      "bfs_code            string\n",
      "added_icds          string\n",
      "removed_icds        string\n",
      "added_chops         string\n",
      "removed_chops       string\n",
      "dtype: object\n",
      "Read 10 cases for Hirslanden Linde 2018\n",
      "TYPES:\n",
      "case_id             string\n",
      "patient_id          string\n",
      "gender              string\n",
      "age_years            int64\n",
      "duration_of_stay     int64\n",
      "pccl                 int64\n",
      "drg                 string\n",
      "pd                  string\n",
      "bfs_code            string\n",
      "added_icds          string\n",
      "removed_icds        string\n",
      "added_chops         string\n",
      "removed_chops       string\n",
      "dtype: object\n",
      "Read 46 cases for SA 2018\n",
      "TYPES:\n",
      "case_id             string\n",
      "patient_id          string\n",
      "gender              string\n",
      "age_years            int64\n",
      "duration_of_stay     int64\n",
      "pccl                 int64\n",
      "drg                 string\n",
      "pd                  string\n",
      "bfs_code            string\n",
      "added_icds          string\n",
      "removed_icds        string\n",
      "added_chops         string\n",
      "removed_chops       string\n",
      "dtype: object\n",
      "Read 26 cases for Hirslanden Beau Site 2018\n",
      "TYPES:\n",
      "case_id             string\n",
      "patient_id          string\n",
      "gender              string\n",
      "age_years            int64\n",
      "duration_of_stay     int64\n",
      "pccl                 int64\n",
      "drg                 string\n",
      "pd                  string\n",
      "bfs_code            string\n",
      "added_icds          string\n",
      "removed_icds        string\n",
      "added_chops         string\n",
      "removed_chops       string\n",
      "dtype: object\n"
     ]
    },
    {
     "data": {
      "text/html": [
       "<div>\n",
       "<style scoped>\n",
       "    .dataframe tbody tr th:only-of-type {\n",
       "        vertical-align: middle;\n",
       "    }\n",
       "\n",
       "    .dataframe tbody tr th {\n",
       "        vertical-align: top;\n",
       "    }\n",
       "\n",
       "    .dataframe thead th {\n",
       "        text-align: right;\n",
       "    }\n",
       "</style>\n",
       "<table border=\"1\" class=\"dataframe\">\n",
       "  <thead>\n",
       "    <tr style=\"text-align: right;\">\n",
       "      <th></th>\n",
       "      <th>case_id</th>\n",
       "      <th>patient_id</th>\n",
       "      <th>gender</th>\n",
       "      <th>age_years</th>\n",
       "      <th>duration_of_stay</th>\n",
       "      <th>pccl</th>\n",
       "      <th>drg</th>\n",
       "      <th>pd</th>\n",
       "      <th>bfs_code</th>\n",
       "      <th>added_icds</th>\n",
       "      <th>removed_icds</th>\n",
       "      <th>added_chops</th>\n",
       "      <th>removed_chops</th>\n",
       "      <th>hospital_name_db</th>\n",
       "      <th>year</th>\n",
       "    </tr>\n",
       "  </thead>\n",
       "  <tbody>\n",
       "    <tr>\n",
       "      <th>0</th>\n",
       "      <td>41194601</td>\n",
       "      <td>8A6B7DE0296BEFB8</td>\n",
       "      <td>W</td>\n",
       "      <td>73</td>\n",
       "      <td>10</td>\n",
       "      <td>3</td>\n",
       "      <td>I09C</td>\n",
       "      <td>M4806</td>\n",
       "      <td>M200</td>\n",
       "      <td>N183</td>\n",
       "      <td>&lt;NA&gt;</td>\n",
       "      <td>948x40::20170128</td>\n",
       "      <td>948X40::20170128</td>\n",
       "      <td>SA</td>\n",
       "      <td>2017</td>\n",
       "    </tr>\n",
       "    <tr>\n",
       "      <th>1</th>\n",
       "      <td>41248206</td>\n",
       "      <td>8DAB6117ADBB2AFE</td>\n",
       "      <td>M</td>\n",
       "      <td>84</td>\n",
       "      <td>8</td>\n",
       "      <td>3</td>\n",
       "      <td>I43B</td>\n",
       "      <td>M179</td>\n",
       "      <td>M200</td>\n",
       "      <td>I420</td>\n",
       "      <td>&lt;NA&gt;</td>\n",
       "      <td>99b812::20170212</td>\n",
       "      <td>99B812::20170212</td>\n",
       "      <td>SA</td>\n",
       "      <td>2017</td>\n",
       "    </tr>\n",
       "    <tr>\n",
       "      <th>2</th>\n",
       "      <td>41302785</td>\n",
       "      <td>5865672002F07F3F</td>\n",
       "      <td>W</td>\n",
       "      <td>97</td>\n",
       "      <td>13</td>\n",
       "      <td>3</td>\n",
       "      <td>F62C</td>\n",
       "      <td>I5001</td>\n",
       "      <td>M100</td>\n",
       "      <td>E876,A099</td>\n",
       "      <td>&lt;NA&gt;</td>\n",
       "      <td>&lt;NA&gt;</td>\n",
       "      <td>&lt;NA&gt;</td>\n",
       "      <td>SA</td>\n",
       "      <td>2017</td>\n",
       "    </tr>\n",
       "    <tr>\n",
       "      <th>3</th>\n",
       "      <td>41304308</td>\n",
       "      <td>0CD7621F494A9140</td>\n",
       "      <td>M</td>\n",
       "      <td>36</td>\n",
       "      <td>3</td>\n",
       "      <td>3</td>\n",
       "      <td>L63D</td>\n",
       "      <td>N390</td>\n",
       "      <td>M100</td>\n",
       "      <td>G8202,Q051</td>\n",
       "      <td>&lt;NA&gt;</td>\n",
       "      <td>&lt;NA&gt;</td>\n",
       "      <td>399521::20170304</td>\n",
       "      <td>SA</td>\n",
       "      <td>2017</td>\n",
       "    </tr>\n",
       "    <tr>\n",
       "      <th>4</th>\n",
       "      <td>41237114</td>\n",
       "      <td>376800437C6F8D5B</td>\n",
       "      <td>M</td>\n",
       "      <td>78</td>\n",
       "      <td>7</td>\n",
       "      <td>3</td>\n",
       "      <td>I09D</td>\n",
       "      <td>M9963</td>\n",
       "      <td>M200</td>\n",
       "      <td>T842,F101</td>\n",
       "      <td>&lt;NA&gt;</td>\n",
       "      <td>&lt;NA&gt;</td>\n",
       "      <td>&lt;NA&gt;</td>\n",
       "      <td>SA</td>\n",
       "      <td>2017</td>\n",
       "    </tr>\n",
       "    <tr>\n",
       "      <th>...</th>\n",
       "      <td>...</td>\n",
       "      <td>...</td>\n",
       "      <td>...</td>\n",
       "      <td>...</td>\n",
       "      <td>...</td>\n",
       "      <td>...</td>\n",
       "      <td>...</td>\n",
       "      <td>...</td>\n",
       "      <td>...</td>\n",
       "      <td>...</td>\n",
       "      <td>...</td>\n",
       "      <td>...</td>\n",
       "      <td>...</td>\n",
       "      <td>...</td>\n",
       "      <td>...</td>\n",
       "    </tr>\n",
       "    <tr>\n",
       "      <th>21</th>\n",
       "      <td>0041830088</td>\n",
       "      <td>0022197396</td>\n",
       "      <td>M</td>\n",
       "      <td>63</td>\n",
       "      <td>11</td>\n",
       "      <td>3</td>\n",
       "      <td>G18B</td>\n",
       "      <td>C187</td>\n",
       "      <td>M200</td>\n",
       "      <td>K566</td>\n",
       "      <td>&lt;NA&gt;</td>\n",
       "      <td>&lt;NA&gt;</td>\n",
       "      <td>&lt;NA&gt;</td>\n",
       "      <td>Hirslanden Beau Site</td>\n",
       "      <td>2018</td>\n",
       "    </tr>\n",
       "    <tr>\n",
       "      <th>22</th>\n",
       "      <td>0041861755</td>\n",
       "      <td>0005180098</td>\n",
       "      <td>W</td>\n",
       "      <td>86</td>\n",
       "      <td>1</td>\n",
       "      <td>2</td>\n",
       "      <td>K60F</td>\n",
       "      <td>E1160</td>\n",
       "      <td>M100</td>\n",
       "      <td>G2090</td>\n",
       "      <td>&lt;NA&gt;</td>\n",
       "      <td>&lt;NA&gt;</td>\n",
       "      <td>&lt;NA&gt;</td>\n",
       "      <td>Hirslanden Beau Site</td>\n",
       "      <td>2018</td>\n",
       "    </tr>\n",
       "    <tr>\n",
       "      <th>23</th>\n",
       "      <td>0041863191</td>\n",
       "      <td>0005147943</td>\n",
       "      <td>W</td>\n",
       "      <td>85</td>\n",
       "      <td>3</td>\n",
       "      <td>3</td>\n",
       "      <td>H61B</td>\n",
       "      <td>D376</td>\n",
       "      <td>M200</td>\n",
       "      <td>N183,K767,D684</td>\n",
       "      <td>N185</td>\n",
       "      <td>&lt;NA&gt;</td>\n",
       "      <td>&lt;NA&gt;</td>\n",
       "      <td>Hirslanden Beau Site</td>\n",
       "      <td>2018</td>\n",
       "    </tr>\n",
       "    <tr>\n",
       "      <th>24</th>\n",
       "      <td>0041869562</td>\n",
       "      <td>0022192074</td>\n",
       "      <td>W</td>\n",
       "      <td>95</td>\n",
       "      <td>9</td>\n",
       "      <td>3</td>\n",
       "      <td>F62C</td>\n",
       "      <td>I5001</td>\n",
       "      <td>M100</td>\n",
       "      <td>&lt;NA&gt;</td>\n",
       "      <td>I5001</td>\n",
       "      <td>&lt;NA&gt;</td>\n",
       "      <td>&lt;NA&gt;</td>\n",
       "      <td>Hirslanden Beau Site</td>\n",
       "      <td>2018</td>\n",
       "    </tr>\n",
       "    <tr>\n",
       "      <th>25</th>\n",
       "      <td>0041897876</td>\n",
       "      <td>0011072389</td>\n",
       "      <td>M</td>\n",
       "      <td>63</td>\n",
       "      <td>6</td>\n",
       "      <td>3</td>\n",
       "      <td>G48C</td>\n",
       "      <td>K922</td>\n",
       "      <td>M100</td>\n",
       "      <td>D62</td>\n",
       "      <td>&lt;NA&gt;</td>\n",
       "      <td>990410</td>\n",
       "      <td>&lt;NA&gt;</td>\n",
       "      <td>Hirslanden Beau Site</td>\n",
       "      <td>2018</td>\n",
       "    </tr>\n",
       "  </tbody>\n",
       "</table>\n",
       "<p>204 rows × 15 columns</p>\n",
       "</div>"
      ],
      "text/plain": [
       "       case_id        patient_id gender  age_years  duration_of_stay  pccl  \\\n",
       "0     41194601  8A6B7DE0296BEFB8      W         73                10     3   \n",
       "1     41248206  8DAB6117ADBB2AFE      M         84                 8     3   \n",
       "2     41302785  5865672002F07F3F      W         97                13     3   \n",
       "3     41304308  0CD7621F494A9140      M         36                 3     3   \n",
       "4     41237114  376800437C6F8D5B      M         78                 7     3   \n",
       "..         ...               ...    ...        ...               ...   ...   \n",
       "21  0041830088        0022197396      M         63                11     3   \n",
       "22  0041861755        0005180098      W         86                 1     2   \n",
       "23  0041863191        0005147943      W         85                 3     3   \n",
       "24  0041869562        0022192074      W         95                 9     3   \n",
       "25  0041897876        0011072389      M         63                 6     3   \n",
       "\n",
       "     drg     pd bfs_code      added_icds removed_icds       added_chops  \\\n",
       "0   I09C  M4806     M200            N183         <NA>  948x40::20170128   \n",
       "1   I43B   M179     M200            I420         <NA>  99b812::20170212   \n",
       "2   F62C  I5001     M100       E876,A099         <NA>              <NA>   \n",
       "3   L63D   N390     M100      G8202,Q051         <NA>              <NA>   \n",
       "4   I09D  M9963     M200       T842,F101         <NA>              <NA>   \n",
       "..   ...    ...      ...             ...          ...               ...   \n",
       "21  G18B   C187     M200            K566         <NA>              <NA>   \n",
       "22  K60F  E1160     M100           G2090         <NA>              <NA>   \n",
       "23  H61B   D376     M200  N183,K767,D684         N185              <NA>   \n",
       "24  F62C  I5001     M100            <NA>        I5001              <NA>   \n",
       "25  G48C   K922     M100             D62         <NA>            990410   \n",
       "\n",
       "       removed_chops      hospital_name_db  year  \n",
       "0   948X40::20170128                    SA  2017  \n",
       "1   99B812::20170212                    SA  2017  \n",
       "2               <NA>                    SA  2017  \n",
       "3   399521::20170304                    SA  2017  \n",
       "4               <NA>                    SA  2017  \n",
       "..               ...                   ...   ...  \n",
       "21              <NA>  Hirslanden Beau Site  2018  \n",
       "22              <NA>  Hirslanden Beau Site  2018  \n",
       "23              <NA>  Hirslanden Beau Site  2018  \n",
       "24              <NA>  Hirslanden Beau Site  2018  \n",
       "25              <NA>  Hirslanden Beau Site  2018  \n",
       "\n",
       "[204 rows x 15 columns]"
      ]
     },
     "execution_count": 57,
     "metadata": {},
     "output_type": "execute_result"
    }
   ],
   "source": [
    "file_hi_bern_norm = normalize(file_hi_bern)\n",
    "file_hi_bern_norm"
   ]
  },
  {
   "cell_type": "code",
   "execution_count": 62,
   "id": "d7482c4a-8ec3-4d8a-b55b-623a44c31f2d",
   "metadata": {
    "pycharm": {
     "name": "#%%\n"
    }
   },
   "outputs": [
    {
     "data": {
      "text/html": [
       "<div>\n",
       "<style scoped>\n",
       "    .dataframe tbody tr th:only-of-type {\n",
       "        vertical-align: middle;\n",
       "    }\n",
       "\n",
       "    .dataframe tbody tr th {\n",
       "        vertical-align: top;\n",
       "    }\n",
       "\n",
       "    .dataframe thead th {\n",
       "        text-align: right;\n",
       "    }\n",
       "</style>\n",
       "<table border=\"1\" class=\"dataframe\">\n",
       "  <thead>\n",
       "    <tr style=\"text-align: right;\">\n",
       "      <th></th>\n",
       "      <th>drg_cost_weight</th>\n",
       "      <th>aimedic_id</th>\n",
       "      <th>hospital_id</th>\n",
       "      <th>case_id</th>\n",
       "      <th>patient_id</th>\n",
       "      <th>age_years</th>\n",
       "      <th>age_days</th>\n",
       "      <th>gender</th>\n",
       "      <th>duration_of_stay</th>\n",
       "      <th>clinic_id</th>\n",
       "      <th>ventilation_hours</th>\n",
       "      <th>admission_weight</th>\n",
       "      <th>gestation_age</th>\n",
       "      <th>admission_date</th>\n",
       "      <th>admission_type</th>\n",
       "      <th>discharge_date</th>\n",
       "      <th>discharge_type</th>\n",
       "      <th>drg</th>\n",
       "      <th>adrg</th>\n",
       "      <th>pccl</th>\n",
       "    </tr>\n",
       "  </thead>\n",
       "  <tbody>\n",
       "  </tbody>\n",
       "</table>\n",
       "</div>"
      ],
      "text/plain": [
       "Empty DataFrame\n",
       "Columns: [drg_cost_weight, aimedic_id, hospital_id, case_id, patient_id, age_years, age_days, gender, duration_of_stay, clinic_id, ventilation_hours, admission_weight, gestation_age, admission_date, admission_type, discharge_date, discharge_type, drg, adrg, pccl]\n",
       "Index: []"
      ]
     },
     "execution_count": 62,
     "metadata": {},
     "output_type": "execute_result"
    }
   ],
   "source": [
    "bfs_cases_db_service.get_bfs_cases_by_ids(['0041650906'])"
   ]
  },
  {
   "cell_type": "code",
   "execution_count": null,
   "id": "582a6ebf-03ce-4539-933e-57ff7ff51aa8",
   "metadata": {},
   "outputs": [],
   "source": []
  },
  {
   "cell_type": "code",
   "execution_count": null,
   "id": "fb45ba46-6ee4-4f5b-8983-aa86780abeef",
   "metadata": {},
   "outputs": [],
   "source": []
  },
  {
   "cell_type": "code",
   "execution_count": null,
   "id": "351bf411-79a0-4b83-9240-000fb289f724",
   "metadata": {},
   "outputs": [],
   "source": []
  },
  {
   "cell_type": "code",
   "execution_count": null,
   "id": "8ba750d2-2cb1-4f1d-aed2-f672d9158531",
   "metadata": {},
   "outputs": [],
   "source": [
    "# connect to the database\n",
    "\n",
    "# collect all the case id, make a query and return all data\n",
    "# find the one did not match\n",
    "# modify the one did not match, i.e. add 000 in front, \n",
    "\n",
    "\n",
    "\n",
    "\n",
    "# search with patient_id , together clinic, year, age ?????\n",
    "\n",
    "\n",
    "\n"
   ]
  },
  {
   "cell_type": "code",
   "execution_count": null,
   "id": "0e096a6e-b31e-429c-9d4b-df65a4bc4517",
   "metadata": {},
   "outputs": [],
   "source": []
  },
  {
   "cell_type": "code",
   "execution_count": null,
   "id": "a96710a9-8cd7-4e58-aa19-36f1d6b5d602",
   "metadata": {},
   "outputs": [],
   "source": []
  },
  {
   "cell_type": "code",
   "execution_count": null,
   "id": "338732dd-9d7f-4ecd-98b7-892ae0586e76",
   "metadata": {},
   "outputs": [],
   "source": []
  },
  {
   "cell_type": "code",
   "execution_count": null,
   "id": "09279bbb-64f6-4f15-acd1-4f87f86fddf3",
   "metadata": {},
   "outputs": [],
   "source": []
  },
  {
   "cell_type": "code",
   "execution_count": null,
   "id": "59e3d310-8c92-41bc-96f2-014aee764efc",
   "metadata": {},
   "outputs": [],
   "source": []
  },
  {
   "cell_type": "code",
   "execution_count": null,
   "id": "42b8cb38",
   "metadata": {
    "collapsed": false,
    "jupyter": {
     "outputs_hidden": false
    },
    "pycharm": {
     "name": "#%%\n"
    }
   },
   "outputs": [],
   "source": [
    "## Reivsed case from excel file 'HI-Zurich.xlsx'"
   ]
  },
  {
   "cell_type": "code",
   "execution_count": null,
   "id": "a2fb3777",
   "metadata": {
    "collapsed": false,
    "jupyter": {
     "outputs_hidden": false
    },
    "pycharm": {
     "name": "#%%\n"
    }
   },
   "outputs": [],
   "source": [
    "# All excel files\n",
    "FILES_TO_ANALYZE.keys()\n"
   ]
  },
  {
   "cell_type": "code",
   "execution_count": null,
   "id": "1ef31fb3",
   "metadata": {
    "collapsed": false,
    "jupyter": {
     "outputs_hidden": false
    },
    "pycharm": {
     "name": "#%%\n"
    }
   },
   "outputs": [],
   "source": [
    "file_hi_zurich = FILES_TO_ANALYZE['HI-Zurich.xlsx']\n",
    "file_hi_zurich"
   ]
  },
  {
   "cell_type": "code",
   "execution_count": null,
   "id": "bc4deb54",
   "metadata": {
    "collapsed": false,
    "jupyter": {
     "outputs_hidden": false
    },
    "pycharm": {
     "name": "#%%\n"
    }
   },
   "outputs": [],
   "source": [
    "file_hi_zurich_norm = normalize(file_hi_zurich)\n",
    "file_hi_zurich_norm"
   ]
  },
  {
   "cell_type": "code",
   "execution_count": null,
   "id": "16713107",
   "metadata": {
    "collapsed": false,
    "jupyter": {
     "outputs_hidden": false
    },
    "pycharm": {
     "name": "#%%\n"
    }
   },
   "outputs": [],
   "source": [
    "# need to take care the 'n.ü.' in the duration of stay"
   ]
  },
  {
   "cell_type": "markdown",
   "id": "ba3b3501",
   "metadata": {
    "pycharm": {
     "name": "#%% md\n"
    }
   },
   "source": [
    "## Revised case from excel 'HI_Aarau_Birshof_ST. Anna.xlsx'"
   ]
  },
  {
   "cell_type": "code",
   "execution_count": null,
   "id": "ba1f7d9f",
   "metadata": {
    "collapsed": false,
    "jupyter": {
     "outputs_hidden": false
    },
    "pycharm": {
     "name": "#%%\n"
    }
   },
   "outputs": [],
   "source": [
    "FILES_TO_ANALYZE.keys()"
   ]
  },
  {
   "cell_type": "code",
   "execution_count": null,
   "id": "468a17b8",
   "metadata": {
    "collapsed": false,
    "jupyter": {
     "outputs_hidden": false
    },
    "pycharm": {
     "name": "#%%\n"
    }
   },
   "outputs": [],
   "source": [
    "file_hi_aurau = FILES_TO_ANALYZE['HI_Aarau_Birshof_ST. Anna.xlsx']\n",
    "file_hi_aurau"
   ]
  },
  {
   "cell_type": "code",
   "execution_count": null,
   "id": "fac3da4c",
   "metadata": {
    "collapsed": false,
    "jupyter": {
     "outputs_hidden": false
    },
    "pycharm": {
     "name": "#%%\n"
    }
   },
   "outputs": [],
   "source": [
    "file_hi_aurau_norm = normalize(file_hi_aurau)"
   ]
  },
  {
   "cell_type": "code",
   "execution_count": null,
   "id": "808d4242",
   "metadata": {
    "collapsed": false,
    "jupyter": {
     "outputs_hidden": false
    },
    "pycharm": {
     "name": "#%%\n"
    }
   },
   "outputs": [],
   "source": [
    "file_hi_aurau_norm"
   ]
  },
  {
   "cell_type": "markdown",
   "id": "14a1c430",
   "metadata": {
    "pycharm": {
     "name": "#%% md\n"
    }
   },
   "source": [
    "## Revised case from excel file 'KSSG_2021.xlsx'"
   ]
  },
  {
   "cell_type": "code",
   "execution_count": null,
   "id": "a652ad28",
   "metadata": {
    "collapsed": false,
    "jupyter": {
     "outputs_hidden": false
    },
    "pycharm": {
     "name": "#%%\n"
    }
   },
   "outputs": [],
   "source": [
    "FILES_TO_ANALYZE.keys()"
   ]
  },
  {
   "cell_type": "code",
   "execution_count": null,
   "id": "99471d20",
   "metadata": {
    "collapsed": false,
    "jupyter": {
     "outputs_hidden": false
    },
    "pycharm": {
     "name": "#%%\n"
    }
   },
   "outputs": [],
   "source": [
    "file_kssg_2021 = FILES_TO_ANALYZE['KSSG_2021.xlsx']\n",
    "file_kssg_2021"
   ]
  },
  {
   "cell_type": "code",
   "execution_count": null,
   "id": "6c6472b7",
   "metadata": {
    "collapsed": false,
    "jupyter": {
     "outputs_hidden": false
    },
    "pycharm": {
     "name": "#%%\n"
    }
   },
   "outputs": [],
   "source": [
    "kssg_2021_norm = normalize(file_kssg_2021)"
   ]
  },
  {
   "cell_type": "code",
   "execution_count": null,
   "id": "c209c9fe",
   "metadata": {
    "collapsed": false,
    "jupyter": {
     "outputs_hidden": false
    },
    "pycharm": {
     "name": "#%%\n"
    }
   },
   "outputs": [],
   "source": [
    "kssg_2021_norm"
   ]
  },
  {
   "cell_type": "markdown",
   "id": "f73c3492",
   "metadata": {
    "pycharm": {
     "name": "#%% md\n"
    }
   },
   "source": [
    "## Revised case from excel file 'Linth_Toggenburg_SRRWS_2019.xlsx'"
   ]
  },
  {
   "cell_type": "code",
   "execution_count": null,
   "id": "ae22ee33",
   "metadata": {
    "collapsed": false,
    "jupyter": {
     "outputs_hidden": false
    },
    "pycharm": {
     "name": "#%%\n"
    }
   },
   "outputs": [],
   "source": [
    "FILES_TO_ANALYZE.keys()"
   ]
  },
  {
   "cell_type": "code",
   "execution_count": null,
   "id": "40b05c6b",
   "metadata": {
    "collapsed": false,
    "jupyter": {
     "outputs_hidden": false
    },
    "pycharm": {
     "name": "#%%\n"
    }
   },
   "outputs": [],
   "source": [
    "file_linth = FILES_TO_ANALYZE['Linth_Toggenburg_SRRWS_2019.xlsx']\n",
    "file_linth"
   ]
  },
  {
   "cell_type": "code",
   "execution_count": null,
   "id": "970449c6",
   "metadata": {
    "collapsed": false,
    "jupyter": {
     "outputs_hidden": false
    },
    "pycharm": {
     "name": "#%%\n"
    }
   },
   "outputs": [],
   "source": [
    "file_linth_norm = normalize(file_linth)"
   ]
  },
  {
   "cell_type": "code",
   "execution_count": null,
   "id": "a3cf6eac",
   "metadata": {
    "collapsed": false,
    "jupyter": {
     "outputs_hidden": false
    },
    "pycharm": {
     "name": "#%%\n"
    }
   },
   "outputs": [],
   "source": [
    "file_linth_norm"
   ]
  },
  {
   "cell_type": "markdown",
   "id": "819f2213",
   "metadata": {
    "pycharm": {
     "name": "#%% md\n"
    }
   },
   "source": [
    "## Revised cases from excel file 'USZ_2018-2019_20200730.xlsx'"
   ]
  },
  {
   "cell_type": "code",
   "execution_count": null,
   "id": "b54a0136",
   "metadata": {
    "collapsed": false,
    "jupyter": {
     "outputs_hidden": false
    },
    "pycharm": {
     "name": "#%%\n"
    }
   },
   "outputs": [],
   "source": [
    "FILES_TO_ANALYZE.keys()"
   ]
  },
  {
   "cell_type": "code",
   "execution_count": null,
   "id": "254e2fe5",
   "metadata": {
    "collapsed": false,
    "jupyter": {
     "outputs_hidden": false
    },
    "pycharm": {
     "name": "#%%\n"
    }
   },
   "outputs": [],
   "source": [
    "file_usz = FILES_TO_ANALYZE['USZ_2018-2019_20200730.xlsx']\n",
    "file_usz"
   ]
  },
  {
   "cell_type": "code",
   "execution_count": null,
   "id": "888ed592",
   "metadata": {
    "collapsed": false,
    "jupyter": {
     "outputs_hidden": false
    },
    "pycharm": {
     "name": "#%%\n"
    }
   },
   "outputs": [],
   "source": [
    "file_usz_norm = normalize(file_usz)"
   ]
  },
  {
   "cell_type": "code",
   "execution_count": null,
   "id": "33125cb6",
   "metadata": {
    "collapsed": false,
    "jupyter": {
     "outputs_hidden": false
    },
    "pycharm": {
     "name": "#%%\n"
    }
   },
   "outputs": [],
   "source": [
    "file_usz_norm"
   ]
  },
  {
   "cell_type": "markdown",
   "id": "d1809fae",
   "metadata": {
    "pycharm": {
     "name": "#%% md\n"
    }
   },
   "source": [
    "## Revised cases from excel file 'Winterthur.xlsx'\n",
    "\n",
    "Note:  Winterthur 2018 and Winterthur 2019 do not have AdmNo. i.e. case_id. There are excluded in the global_config.py\n"
   ]
  },
  {
   "cell_type": "code",
   "execution_count": null,
   "id": "878d9a07",
   "metadata": {
    "collapsed": false,
    "jupyter": {
     "outputs_hidden": false
    },
    "pycharm": {
     "name": "#%%\n"
    }
   },
   "outputs": [],
   "source": [
    "#TODO: need to check what to do with winterthur 2018, 2019\n"
   ]
  },
  {
   "cell_type": "code",
   "execution_count": null,
   "id": "3d1038d4",
   "metadata": {
    "collapsed": false,
    "jupyter": {
     "outputs_hidden": false
    },
    "pycharm": {
     "name": "#%%\n"
    }
   },
   "outputs": [],
   "source": [
    "FILES_TO_ANALYZE.keys()"
   ]
  },
  {
   "cell_type": "code",
   "execution_count": null,
   "id": "c3f1282b",
   "metadata": {
    "collapsed": false,
    "jupyter": {
     "outputs_hidden": false
    },
    "pycharm": {
     "name": "#%%\n"
    }
   },
   "outputs": [],
   "source": [
    "file_winterthur = FILES_TO_ANALYZE['Winterthur.xlsx']\n",
    "file_winterthur"
   ]
  },
  {
   "cell_type": "code",
   "execution_count": null,
   "id": "09ace01f",
   "metadata": {
    "collapsed": false,
    "jupyter": {
     "outputs_hidden": false
    },
    "pycharm": {
     "name": "#%%\n"
    }
   },
   "outputs": [],
   "source": [
    "COLUMNS_TO_RENAME"
   ]
  },
  {
   "cell_type": "code",
   "execution_count": null,
   "id": "544bb6cc",
   "metadata": {
    "collapsed": false,
    "jupyter": {
     "outputs_hidden": false
    },
    "pycharm": {
     "name": "#%%\n"
    }
   },
   "outputs": [],
   "source": [
    "file_wintertur_2018 = pd.read_excel(file_winterthur.path, sheet_name=file_winterthur.sheets[1], dtype='string[pyarrow]')\n",
    "col_names = [col.lower() for col in file_wintertur_2018.columns]"
   ]
  },
  {
   "cell_type": "code",
   "execution_count": null,
   "id": "8c475832",
   "metadata": {
    "collapsed": false,
    "jupyter": {
     "outputs_hidden": false
    },
    "pycharm": {
     "name": "#%%\n"
    }
   },
   "outputs": [],
   "source": [
    "col_names"
   ]
  },
  {
   "cell_type": "code",
   "execution_count": null,
   "id": "4bb4b6af",
   "metadata": {
    "collapsed": false,
    "jupyter": {
     "outputs_hidden": false
    },
    "pycharm": {
     "name": "#%%\n"
    }
   },
   "outputs": [],
   "source": [
    "file_winterthur_norm = normalize(file_winterthur)\n",
    "file_winterthur_norm"
   ]
  },
  {
   "cell_type": "code",
   "execution_count": null,
   "id": "bb6c0f42",
   "metadata": {
    "collapsed": false,
    "jupyter": {
     "outputs_hidden": false
    },
    "pycharm": {
     "name": "#%%\n"
    }
   },
   "outputs": [],
   "source": []
  },
  {
   "cell_type": "code",
   "execution_count": null,
   "id": "6525bf12-c1ff-402f-b449-96ed48da06f8",
   "metadata": {
    "pycharm": {
     "name": "#%%\n"
    }
   },
   "outputs": [],
   "source": []
  }
 ],
 "metadata": {
  "kernelspec": {
   "display_name": "Python 3 (ipykernel)",
   "language": "python",
   "name": "python3"
  },
  "language_info": {
   "codemirror_mode": {
    "name": "ipython",
    "version": 3
   },
   "file_extension": ".py",
   "mimetype": "text/x-python",
   "name": "python",
   "nbconvert_exporter": "python",
   "pygments_lexer": "ipython3",
   "version": "3.10.6"
  }
 },
 "nbformat": 4,
 "nbformat_minor": 5
}
