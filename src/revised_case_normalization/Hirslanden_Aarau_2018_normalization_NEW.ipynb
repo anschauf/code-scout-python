{
 "cells": [
  {
   "cell_type": "markdown",
   "id": "a4e2885d",
   "metadata": {
    "pycharm": {
     "name": "#%% md\n"
    },
    "tags": []
   },
   "source": [
    "# Revised case normalization for Hirslanden Aarau 2018\n",
    "\n",
    "Notes:\n",
    "\n",
    "- 17 of 17 revised DtoD cases were joined with the BFS cases from the DB.\n",
    "\n"
   ]
  },
  {
   "cell_type": "code",
   "execution_count": 1,
   "id": "d097a048",
   "metadata": {
    "collapsed": false,
    "jupyter": {
     "outputs_hidden": false
    },
    "pycharm": {
     "name": "#%%\n"
    }
   },
   "outputs": [],
   "source": [
    "import sys\n",
    "\n",
    "import pandas as pd\n",
    "import numpy as np\n",
    "\n",
    "from loguru import logger\n",
    "\n",
    "sys.path.insert(0, '/home/jovyan/work')\n",
    "\n",
    "from src.revised_case_normalization.py.global_configs import *\n",
    "from src.revised_case_normalization.py.normalize import normalize\n",
    "from src.service import bfs_cases_db_service as bfs_db\n",
    "from src.service.bfs_cases_db_service import session, get_hospital_year_cases"
   ]
  },
  {
   "cell_type": "code",
   "execution_count": 2,
   "id": "4710c532",
   "metadata": {
    "collapsed": false,
    "jupyter": {
     "outputs_hidden": false
    },
    "pycharm": {
     "name": "#%%\n"
    }
   },
   "outputs": [
    {
     "name": "stdout",
     "output_type": "stream",
     "text": [
      "FileInfo(path='/home/jovyan/work/src/revised_case_normalization/raw_data/HI_Aarau_Birshof_ST. Anna.xlsx', hospital_name_db='Hirslanden Aarau', year='2018', sheets=['Aarau 2018'])\n"
     ]
    }
   ],
   "source": [
    "file_info = FileInfo(\n",
    "        os.path.join(ROOT_DIR, 'raw_data/HI_Aarau_Birshof_ST. Anna.xlsx'),\n",
    "        'Hirslanden Aarau',\n",
    "        '2018',\n",
    "        ['Aarau 2018'])\n",
    "\n",
    "print(file_info)"
   ]
  },
  {
   "cell_type": "code",
   "execution_count": 3,
   "id": "8c8b27df",
   "metadata": {
    "collapsed": false,
    "jupyter": {
     "outputs_hidden": false
    },
    "pycharm": {
     "name": "#%%\n"
    }
   },
   "outputs": [
    {
     "name": "stderr",
     "output_type": "stream",
     "text": [
      "2022-10-19 15:59:31.742 | INFO     | src.revised_case_normalization.py.normalize:normalize:46 - Read 17 cases for Hirslanden Aarau 2018\n",
      "2022-10-19 15:59:31.745 | INFO     | src.revised_case_normalization.py.normalize:normalize:69 - TYPES:\n",
      "case_id              int64\n",
      "patient_id          object\n",
      "gender              string\n",
      "age_years            int64\n",
      "duration_of_stay     int64\n",
      "pccl                 int64\n",
      "drg                 string\n",
      "old_pd              string\n",
      "new_pd              string\n",
      "bfs_code            string\n",
      "added_icds          string\n",
      "removed_icds        string\n",
      "added_chops         string\n",
      "removed_chops       string\n",
      "dtype: object\n",
      "2022-10-19 15:59:31.749 | INFO     | src.utils.dataframe_utils:validate_icd_codes:68 - Validated ICD codes in 'added_icds' and stored them into 'added_icds': All rows contain valid codes\n",
      "2022-10-19 15:59:31.751 | INFO     | src.utils.dataframe_utils:validate_icd_codes:68 - Validated ICD codes in 'removed_icds' and stored them into 'removed_icds': All rows contain valid codes\n",
      "2022-10-19 15:59:31.754 | INFO     | src.utils.dataframe_utils:validate_chop_codes:106 - Validated CHOP codes in 'added_chops' and stored them into 'added_chops': All rows contain valid codes\n",
      "2022-10-19 15:59:31.756 | INFO     | src.utils.dataframe_utils:validate_chop_codes:106 - Validated CHOP codes in 'removed_chops' and stored them into 'removed_chops': All rows contain valid codes\n",
      "2022-10-19 15:59:31.757 | INFO     | src.utils.dataframe_utils:remove_duplicated_chops:32 - Removing duplicated CHOP codes due to different casing ...\n",
      "2022-10-19 15:59:31.761 | INFO     | src.utils.dataframe_utils:validate_pd_revised_sd:158 - Validated redundant PD info in 'added_icds'/'removed_icds': All rows contain valid codes\n",
      "2022-10-19 15:59:31.763 | SUCCESS  | src.revised_case_normalization.py.normalize:normalize:101 - Completed validation\n"
     ]
    }
   ],
   "source": [
    "cols_to_rename = dict(COLUMNS_TO_RENAME)\n",
    "# Replace 'admno' with 'fall nummer'\n",
    "cols_to_rename.pop('admno')\n",
    "cols_to_rename['fall nummer'] = CASE_ID_COL\n",
    "\n",
    "df_revised_case_d2d = normalize(file_info, 0)"
   ]
  },
  {
   "cell_type": "code",
   "execution_count": 4,
   "id": "6c589452",
   "metadata": {
    "collapsed": false,
    "jupyter": {
     "outputs_hidden": false
    },
    "pycharm": {
     "name": "#%%\n"
    }
   },
   "outputs": [
    {
     "data": {
      "text/html": [
       "<div>\n",
       "<style scoped>\n",
       "    .dataframe tbody tr th:only-of-type {\n",
       "        vertical-align: middle;\n",
       "    }\n",
       "\n",
       "    .dataframe tbody tr th {\n",
       "        vertical-align: top;\n",
       "    }\n",
       "\n",
       "    .dataframe thead th {\n",
       "        text-align: right;\n",
       "    }\n",
       "</style>\n",
       "<table border=\"1\" class=\"dataframe\">\n",
       "  <thead>\n",
       "    <tr style=\"text-align: right;\">\n",
       "      <th></th>\n",
       "      <th>case_id</th>\n",
       "      <th>patient_id</th>\n",
       "      <th>gender</th>\n",
       "      <th>age_years</th>\n",
       "      <th>duration_of_stay</th>\n",
       "      <th>pccl</th>\n",
       "      <th>drg</th>\n",
       "      <th>old_pd</th>\n",
       "      <th>new_pd</th>\n",
       "      <th>bfs_code</th>\n",
       "      <th>added_icds</th>\n",
       "      <th>removed_icds</th>\n",
       "      <th>added_chops</th>\n",
       "      <th>removed_chops</th>\n",
       "    </tr>\n",
       "  </thead>\n",
       "  <tbody>\n",
       "    <tr>\n",
       "      <th>0</th>\n",
       "      <td>41623461</td>\n",
       "      <td>0001059029</td>\n",
       "      <td>W</td>\n",
       "      <td>77</td>\n",
       "      <td>2</td>\n",
       "      <td>3</td>\n",
       "      <td>F59E</td>\n",
       "      <td>I7024</td>\n",
       "      <td>I7024</td>\n",
       "      <td>M100</td>\n",
       "      <td>[J4481]</td>\n",
       "      <td>[J4483]</td>\n",
       "      <td>[]</td>\n",
       "      <td>[]</td>\n",
       "    </tr>\n",
       "    <tr>\n",
       "      <th>1</th>\n",
       "      <td>41665678</td>\n",
       "      <td>0002043896</td>\n",
       "      <td>M</td>\n",
       "      <td>82</td>\n",
       "      <td>17</td>\n",
       "      <td>3</td>\n",
       "      <td>F62C</td>\n",
       "      <td>I5001</td>\n",
       "      <td>I5001</td>\n",
       "      <td>M100</td>\n",
       "      <td>[R18]</td>\n",
       "      <td>[]</td>\n",
       "      <td>[]</td>\n",
       "      <td>[]</td>\n",
       "    </tr>\n",
       "    <tr>\n",
       "      <th>2</th>\n",
       "      <td>41698586</td>\n",
       "      <td>0022177655</td>\n",
       "      <td>M</td>\n",
       "      <td>93</td>\n",
       "      <td>2</td>\n",
       "      <td>3</td>\n",
       "      <td>F59E</td>\n",
       "      <td>I7024</td>\n",
       "      <td>I7024</td>\n",
       "      <td>M100</td>\n",
       "      <td>[I743]</td>\n",
       "      <td>[]</td>\n",
       "      <td>[]</td>\n",
       "      <td>[]</td>\n",
       "    </tr>\n",
       "    <tr>\n",
       "      <th>3</th>\n",
       "      <td>41719219</td>\n",
       "      <td>0001339311</td>\n",
       "      <td>M</td>\n",
       "      <td>91</td>\n",
       "      <td>4</td>\n",
       "      <td>3</td>\n",
       "      <td>F71B</td>\n",
       "      <td>I495</td>\n",
       "      <td>I495</td>\n",
       "      <td>M100</td>\n",
       "      <td>[N182]</td>\n",
       "      <td>[]</td>\n",
       "      <td>[]</td>\n",
       "      <td>[]</td>\n",
       "    </tr>\n",
       "    <tr>\n",
       "      <th>4</th>\n",
       "      <td>41777951</td>\n",
       "      <td>0022177655</td>\n",
       "      <td>M</td>\n",
       "      <td>93</td>\n",
       "      <td>2</td>\n",
       "      <td>0</td>\n",
       "      <td>F59E</td>\n",
       "      <td>I7024</td>\n",
       "      <td>I7024</td>\n",
       "      <td>M100</td>\n",
       "      <td>[N184, T828]</td>\n",
       "      <td>[]</td>\n",
       "      <td>[]</td>\n",
       "      <td>[]</td>\n",
       "    </tr>\n",
       "  </tbody>\n",
       "</table>\n",
       "</div>"
      ],
      "text/plain": [
       "    case_id  patient_id gender  age_years  duration_of_stay  pccl   drg  \\\n",
       "0  41623461  0001059029      W         77                 2     3  F59E   \n",
       "1  41665678  0002043896      M         82                17     3  F62C   \n",
       "2  41698586  0022177655      M         93                 2     3  F59E   \n",
       "3  41719219  0001339311      M         91                 4     3  F71B   \n",
       "4  41777951  0022177655      M         93                 2     0  F59E   \n",
       "\n",
       "  old_pd new_pd bfs_code    added_icds removed_icds added_chops removed_chops  \n",
       "0  I7024  I7024     M100       [J4481]      [J4483]          []            []  \n",
       "1  I5001  I5001     M100         [R18]           []          []            []  \n",
       "2  I7024  I7024     M100        [I743]           []          []            []  \n",
       "3   I495   I495     M100        [N182]           []          []            []  \n",
       "4  I7024  I7024     M100  [N184, T828]           []          []            []  "
      ]
     },
     "execution_count": 4,
     "metadata": {},
     "output_type": "execute_result"
    }
   ],
   "source": [
    "df_revised_case_d2d.head()"
   ]
  },
  {
   "cell_type": "markdown",
   "id": "a6796573",
   "metadata": {
    "pycharm": {
     "name": "#%% md\n"
    },
    "tags": []
   },
   "source": [
    "# Match revised DtoD data with the BfS data from the database"
   ]
  },
  {
   "cell_type": "code",
   "execution_count": 5,
   "id": "65408537-cd4a-4b7c-a785-0db424378909",
   "metadata": {},
   "outputs": [
    {
     "data": {
      "text/html": [
       "<div>\n",
       "<style scoped>\n",
       "    .dataframe tbody tr th:only-of-type {\n",
       "        vertical-align: middle;\n",
       "    }\n",
       "\n",
       "    .dataframe tbody tr th {\n",
       "        vertical-align: top;\n",
       "    }\n",
       "\n",
       "    .dataframe thead th {\n",
       "        text-align: right;\n",
       "    }\n",
       "</style>\n",
       "<table border=\"1\" class=\"dataframe\">\n",
       "  <thead>\n",
       "    <tr style=\"text-align: right;\">\n",
       "      <th></th>\n",
       "      <th>aimedic_id</th>\n",
       "      <th>case_id</th>\n",
       "      <th>patient_id</th>\n",
       "      <th>gender</th>\n",
       "      <th>age_years</th>\n",
       "      <th>duration_of_stay</th>\n",
       "      <th>pccl</th>\n",
       "      <th>drg</th>\n",
       "    </tr>\n",
       "  </thead>\n",
       "  <tbody>\n",
       "    <tr>\n",
       "      <th>0</th>\n",
       "      <td>115452</td>\n",
       "      <td>0041415230</td>\n",
       "      <td>A0E36E42C141D541</td>\n",
       "      <td>M</td>\n",
       "      <td>29</td>\n",
       "      <td>2</td>\n",
       "      <td>0</td>\n",
       "      <td>I18B</td>\n",
       "    </tr>\n",
       "    <tr>\n",
       "      <th>1</th>\n",
       "      <td>115453</td>\n",
       "      <td>0041453333</td>\n",
       "      <td>10CA4E4A4D6A6648</td>\n",
       "      <td>W</td>\n",
       "      <td>34</td>\n",
       "      <td>1</td>\n",
       "      <td>0</td>\n",
       "      <td>J24A</td>\n",
       "    </tr>\n",
       "    <tr>\n",
       "      <th>2</th>\n",
       "      <td>115454</td>\n",
       "      <td>0041473239</td>\n",
       "      <td>E7A902368D82844A</td>\n",
       "      <td>M</td>\n",
       "      <td>63</td>\n",
       "      <td>4</td>\n",
       "      <td>0</td>\n",
       "      <td>I46C</td>\n",
       "    </tr>\n",
       "    <tr>\n",
       "      <th>3</th>\n",
       "      <td>115455</td>\n",
       "      <td>0041506268</td>\n",
       "      <td>5FCEADE16E4FD6EC</td>\n",
       "      <td>M</td>\n",
       "      <td>44</td>\n",
       "      <td>3</td>\n",
       "      <td>0</td>\n",
       "      <td>D06B</td>\n",
       "    </tr>\n",
       "    <tr>\n",
       "      <th>4</th>\n",
       "      <td>115456</td>\n",
       "      <td>0041511524</td>\n",
       "      <td>A2B2DB76985BA881</td>\n",
       "      <td>M</td>\n",
       "      <td>43</td>\n",
       "      <td>2</td>\n",
       "      <td>0</td>\n",
       "      <td>G09D</td>\n",
       "    </tr>\n",
       "  </tbody>\n",
       "</table>\n",
       "</div>"
      ],
      "text/plain": [
       "   aimedic_id     case_id        patient_id gender  age_years  \\\n",
       "0      115452  0041415230  A0E36E42C141D541      M         29   \n",
       "1      115453  0041453333  10CA4E4A4D6A6648      W         34   \n",
       "2      115454  0041473239  E7A902368D82844A      M         63   \n",
       "3      115455  0041506268  5FCEADE16E4FD6EC      M         44   \n",
       "4      115456  0041511524  A2B2DB76985BA881      M         43   \n",
       "\n",
       "   duration_of_stay  pccl   drg  \n",
       "0                 2     0  I18B  \n",
       "1                 1     0  J24A  \n",
       "2                 4     0  I46C  \n",
       "3                 3     0  D06B  \n",
       "4                 2     0  G09D  "
      ]
     },
     "execution_count": 5,
     "metadata": {},
     "output_type": "execute_result"
    }
   ],
   "source": [
    "cases_in_db = get_hospital_year_cases(file_info.hospital_name_db, file_info.year)[[AIMEDIC_ID] + VALIDATION_COLS]\n",
    "cases_in_db.head()\n"
   ]
  },
  {
   "cell_type": "code",
   "execution_count": 6,
   "id": "38c67f27",
   "metadata": {
    "collapsed": false,
    "jupyter": {
     "outputs_hidden": false
    },
    "pycharm": {
     "name": "#%%\n"
    }
   },
   "outputs": [
    {
     "name": "stderr",
     "output_type": "stream",
     "text": [
      "2022-10-19 15:59:34.076 | INFO     | __main__:<module>:5 - Read 10112 rows from the DB, for the hospital 'Hirslanden Aarau' in 2018\n"
     ]
    }
   ],
   "source": [
    "num_cases_in_db = cases_in_db.shape[0]\n",
    "if num_cases_in_db == 0:\n",
    "    raise ValueError(f\"There is no data for the hospital '{file_info.hospital_name_db}' in {file_info.year}\")\n",
    "else:\n",
    "    logger.info(f\"Read {num_cases_in_db} rows from the DB, for the hospital '{file_info.hospital_name_db}' in {file_info.year}\")    "
   ]
  },
  {
   "cell_type": "code",
   "execution_count": 7,
   "id": "14125a25-09d8-4818-a08f-19cf8c2aa37c",
   "metadata": {},
   "outputs": [
    {
     "name": "stderr",
     "output_type": "stream",
     "text": [
      "2022-10-19 15:59:34.090 | INFO     | __main__:<module>:6 - 0 rows with empty 'case_id's were discovered and removed from the DB, for the hospital 'Hirslanden Aarau' in 2018\n"
     ]
    }
   ],
   "source": [
    "# Remove columns with empty 'case_id' in DB data\n",
    "\n",
    "cases_in_db['case_id'].replace('', np.nan, inplace=True)\n",
    "num_na_cases_in_db = cases_in_db['case_id'].isna().sum()\n",
    "cases_in_db.dropna(subset=['case_id'], inplace=True)\n",
    "logger.info(f\"{num_na_cases_in_db} rows with empty 'case_id's were discovered and removed from the DB, for the hospital '{file_info.hospital_name_db}' in {file_info.year}\")   "
   ]
  },
  {
   "cell_type": "code",
   "execution_count": 8,
   "id": "42113e93",
   "metadata": {
    "collapsed": false,
    "jupyter": {
     "outputs_hidden": false
    },
    "pycharm": {
     "name": "#%%\n"
    }
   },
   "outputs": [],
   "source": [
    "# get the case_id from revised_case \n",
    "df_revised_case_d2d['case_id_num'] = df_revised_case_d2d[CASE_ID_COL].astype(int)\n",
    "cases_in_db['case_id_num'] = cases_in_db[CASE_ID_COL].astype(int)"
   ]
  },
  {
   "cell_type": "code",
   "execution_count": 9,
   "id": "e56d7549-ebbb-4672-87f8-a00d905ee02a",
   "metadata": {},
   "outputs": [],
   "source": [
    "# get case ids in revised case data from DtoD\n",
    "case_id_d2d = df_revised_case_d2d['case_id_num'].values"
   ]
  },
  {
   "cell_type": "code",
   "execution_count": 10,
   "id": "ac7fb65a-f68e-49c3-99d3-1a165ae66d99",
   "metadata": {},
   "outputs": [
    {
     "name": "stderr",
     "output_type": "stream",
     "text": [
      "2022-10-19 15:59:34.111 | INFO     | __main__:<module>:7 - There are no duplicated case_ids in the revised cases.\n"
     ]
    },
    {
     "data": {
      "text/plain": [
       "17"
      ]
     },
     "execution_count": 10,
     "metadata": {},
     "output_type": "execute_result"
    }
   ],
   "source": [
    "# Check for duplicates in the case ids of DtoD\n",
    "\n",
    "case_id_d2d_set = set(case_id_d2d)\n",
    "if len(case_id_d2d) > len(case_id_d2d_set):\n",
    "    logger.info('There are duplicated case_ids in the revised cases.' )\n",
    "else:\n",
    "    logger.info('There are no duplicated case_ids in the revised cases.' )\n",
    "\n",
    "len(case_id_d2d_set)"
   ]
  },
  {
   "cell_type": "code",
   "execution_count": 11,
   "id": "e6ab7c12-a01a-478a-9b1c-78bef52b1a30",
   "metadata": {},
   "outputs": [
    {
     "data": {
      "text/plain": [
       "17"
      ]
     },
     "execution_count": 11,
     "metadata": {},
     "output_type": "execute_result"
    }
   ],
   "source": [
    "# Search for case_ids in the BFS DB data with the same case_ids as in revised case dataset of DtoD \n",
    "# Reason: check whether case ids of the revised data appear more than once in BFS DB data\n",
    "\n",
    "revised_case_bfs_db = cases_in_db[cases_in_db['case_id_num'].isin(case_id_d2d)]\n",
    "revised_case_bfs_db.shape[0]"
   ]
  },
  {
   "cell_type": "code",
   "execution_count": 12,
   "id": "7db02c90-8c5f-4d96-95db-0576921cce55",
   "metadata": {},
   "outputs": [
    {
     "name": "stdout",
     "output_type": "stream",
     "text": [
      "(17, 16)\n"
     ]
    },
    {
     "name": "stderr",
     "output_type": "stream",
     "text": [
      "/tmp/ipykernel_19564/3819240566.py:5: FutureWarning: Passing 'suffixes' as a <class 'NoneType'>, is not supported and may give unexpected results. Provide 'suffixes' as a tuple instead. In the future a 'TypeError' will be raised.\n",
      "  revised_case_normalized = revised_case_d2d_subset.merge(revised_case_bfs_db, how ='inner', on=['case_id_num', 'gender', 'age_years', 'duration_of_stay', 'pccl', 'drg'], suffixes=None)\n"
     ]
    },
    {
     "data": {
      "text/html": [
       "<div>\n",
       "<style scoped>\n",
       "    .dataframe tbody tr th:only-of-type {\n",
       "        vertical-align: middle;\n",
       "    }\n",
       "\n",
       "    .dataframe tbody tr th {\n",
       "        vertical-align: top;\n",
       "    }\n",
       "\n",
       "    .dataframe thead th {\n",
       "        text-align: right;\n",
       "    }\n",
       "</style>\n",
       "<table border=\"1\" class=\"dataframe\">\n",
       "  <thead>\n",
       "    <tr style=\"text-align: right;\">\n",
       "      <th></th>\n",
       "      <th>old_pd</th>\n",
       "      <th>new_pd</th>\n",
       "      <th>bfs_code</th>\n",
       "      <th>added_icds</th>\n",
       "      <th>removed_icds</th>\n",
       "      <th>added_chops</th>\n",
       "      <th>removed_chops</th>\n",
       "      <th>case_id_num</th>\n",
       "      <th>gender</th>\n",
       "      <th>age_years</th>\n",
       "      <th>duration_of_stay</th>\n",
       "      <th>pccl</th>\n",
       "      <th>drg</th>\n",
       "      <th>aimedic_id</th>\n",
       "      <th>case_id</th>\n",
       "      <th>patient_id</th>\n",
       "    </tr>\n",
       "  </thead>\n",
       "  <tbody>\n",
       "    <tr>\n",
       "      <th>0</th>\n",
       "      <td>I7024</td>\n",
       "      <td>I7024</td>\n",
       "      <td>M100</td>\n",
       "      <td>[J4481]</td>\n",
       "      <td>[J4483]</td>\n",
       "      <td>[]</td>\n",
       "      <td>[]</td>\n",
       "      <td>41623461</td>\n",
       "      <td>W</td>\n",
       "      <td>77</td>\n",
       "      <td>2</td>\n",
       "      <td>3</td>\n",
       "      <td>F59E</td>\n",
       "      <td>115875</td>\n",
       "      <td>0041623461</td>\n",
       "      <td>A9832A23F251C511</td>\n",
       "    </tr>\n",
       "    <tr>\n",
       "      <th>1</th>\n",
       "      <td>I5001</td>\n",
       "      <td>I5001</td>\n",
       "      <td>M100</td>\n",
       "      <td>[R18]</td>\n",
       "      <td>[]</td>\n",
       "      <td>[]</td>\n",
       "      <td>[]</td>\n",
       "      <td>41665678</td>\n",
       "      <td>M</td>\n",
       "      <td>82</td>\n",
       "      <td>17</td>\n",
       "      <td>3</td>\n",
       "      <td>F62C</td>\n",
       "      <td>116851</td>\n",
       "      <td>0041665678</td>\n",
       "      <td>2C4C8942514B875C</td>\n",
       "    </tr>\n",
       "    <tr>\n",
       "      <th>2</th>\n",
       "      <td>I7024</td>\n",
       "      <td>I7024</td>\n",
       "      <td>M100</td>\n",
       "      <td>[I743]</td>\n",
       "      <td>[]</td>\n",
       "      <td>[]</td>\n",
       "      <td>[]</td>\n",
       "      <td>41698586</td>\n",
       "      <td>M</td>\n",
       "      <td>93</td>\n",
       "      <td>2</td>\n",
       "      <td>3</td>\n",
       "      <td>F59E</td>\n",
       "      <td>117722</td>\n",
       "      <td>0041698586</td>\n",
       "      <td>296ABD4577F82DE5</td>\n",
       "    </tr>\n",
       "    <tr>\n",
       "      <th>3</th>\n",
       "      <td>I495</td>\n",
       "      <td>I495</td>\n",
       "      <td>M100</td>\n",
       "      <td>[N182]</td>\n",
       "      <td>[]</td>\n",
       "      <td>[]</td>\n",
       "      <td>[]</td>\n",
       "      <td>41719219</td>\n",
       "      <td>M</td>\n",
       "      <td>91</td>\n",
       "      <td>4</td>\n",
       "      <td>3</td>\n",
       "      <td>F71B</td>\n",
       "      <td>118215</td>\n",
       "      <td>0041719219</td>\n",
       "      <td>F99B9F90EF929909</td>\n",
       "    </tr>\n",
       "    <tr>\n",
       "      <th>4</th>\n",
       "      <td>I7024</td>\n",
       "      <td>I7024</td>\n",
       "      <td>M100</td>\n",
       "      <td>[N184, T828]</td>\n",
       "      <td>[]</td>\n",
       "      <td>[]</td>\n",
       "      <td>[]</td>\n",
       "      <td>41777951</td>\n",
       "      <td>M</td>\n",
       "      <td>93</td>\n",
       "      <td>2</td>\n",
       "      <td>0</td>\n",
       "      <td>F59E</td>\n",
       "      <td>120279</td>\n",
       "      <td>0041777951</td>\n",
       "      <td>296ABD4577F82DE5</td>\n",
       "    </tr>\n",
       "  </tbody>\n",
       "</table>\n",
       "</div>"
      ],
      "text/plain": [
       "  old_pd new_pd bfs_code    added_icds removed_icds added_chops removed_chops  \\\n",
       "0  I7024  I7024     M100       [J4481]      [J4483]          []            []   \n",
       "1  I5001  I5001     M100         [R18]           []          []            []   \n",
       "2  I7024  I7024     M100        [I743]           []          []            []   \n",
       "3   I495   I495     M100        [N182]           []          []            []   \n",
       "4  I7024  I7024     M100  [N184, T828]           []          []            []   \n",
       "\n",
       "   case_id_num gender  age_years  duration_of_stay  pccl   drg  aimedic_id  \\\n",
       "0     41623461      W         77                 2     3  F59E      115875   \n",
       "1     41665678      M         82                17     3  F62C      116851   \n",
       "2     41698586      M         93                 2     3  F59E      117722   \n",
       "3     41719219      M         91                 4     3  F71B      118215   \n",
       "4     41777951      M         93                 2     0  F59E      120279   \n",
       "\n",
       "      case_id        patient_id  \n",
       "0  0041623461  A9832A23F251C511  \n",
       "1  0041665678  2C4C8942514B875C  \n",
       "2  0041698586  296ABD4577F82DE5  \n",
       "3  0041719219  F99B9F90EF929909  \n",
       "4  0041777951  296ABD4577F82DE5  "
      ]
     },
     "execution_count": 12,
     "metadata": {},
     "output_type": "execute_result"
    }
   ],
   "source": [
    "# Join revised cases from DtoD with BFS Cases from Database\n",
    "\n",
    "if revised_case_bfs_db.shape[0] <= len(case_id_d2d):\n",
    "    revised_case_d2d_subset = df_revised_case_d2d[COL_SUBSET_FROM_REVISED_CASES + ['case_id_num', 'gender', 'age_years', 'duration_of_stay', 'pccl', 'drg']]\n",
    "    revised_case_normalized = revised_case_d2d_subset.merge(revised_case_bfs_db, how ='inner', on=['case_id_num', 'gender', 'age_years', 'duration_of_stay', 'pccl', 'drg'], suffixes=None)\n",
    "    num_match_case_id = revised_case_normalized.shape[0]\n",
    "else:\n",
    "    revised_case_d2d_subset = df_revised_case_d2d[COL_SUBSET_FROM_REVISED_CASES + ['case_id_num', 'patient_id', 'gender', 'age_years', 'duration_of_stay', 'pccl', 'drg']]\n",
    "    revised_case_normalized = revised_case_d2d_subset.merge(revised_case_bfs_db, how ='inner', on=['case_id_num', 'patient_id', 'gender', 'age_years', 'duration_of_stay', 'pccl', 'drg'])\n",
    "    num_match_case_patient_id = revised_case_normalized.shape[0]\n",
    "print(revised_case_normalized.shape)\n",
    "# revised_case_normalized.head()"
   ]
  },
  {
   "cell_type": "code",
   "execution_count": 14,
   "id": "d3cefd4e-1b0c-4776-874f-d1ec6a8ab5b5",
   "metadata": {},
   "outputs": [],
   "source": [
    "# Join the revised cases of DtoD with the BFS data (alternative solution to cross check upper join)\n",
    "\n",
    "#if revised_case_bfs_db.shape[0] <= len(case_id_d2d):\n",
    "#    revised_case_normalized = pd.merge(df_revised_case_d2d, cases_in_db, suffixes=('_drop', ''), on=['case_id_num', 'gender', 'age_years', 'duration_of_stay', 'pccl', 'drg'])\n",
    "#    revised_case_normalized.drop([i for i in revised_case_normalized.columns if '_drop' in i], axis=1, inplace=True)\n",
    "#    revised_case_normalized.head()\n",
    "#else:\n",
    "#    revised_case_normalized = pd.merge(df_revised_case_d2d, cases_in_db, suffixes=('_drop', ''), on=['case_id_num','patient_id', 'gender', 'age_years', 'duration_of_stay', 'pccl', 'drg'])\n",
    "#    revised_case_normalized.drop([i for i in revised_case_normalized.columns if '_drop' in i], axis=1, inplace=True)\n",
    "#    revised_case_normalized.head()\n",
    "#print(revised_case_normalized.shape)\n",
    "#revised_case_normalized.head()"
   ]
  },
  {
   "cell_type": "code",
   "execution_count": 16,
   "id": "f42da5f9-883e-4148-abb3-23f5d6e7df92",
   "metadata": {},
   "outputs": [
    {
     "name": "stderr",
     "output_type": "stream",
     "text": [
      "2022-10-19 15:59:34.163 | INFO     | __main__:<module>:7 - 17 of 17 rows were joined with the cases from the DB, for the hospital 'Hirslanden Aarau' in 2018\n"
     ]
    }
   ],
   "source": [
    "num_revised_case_normalized = revised_case_normalized.shape[0]\n",
    "num_df_revised_case_d2d = df_revised_case_d2d.shape[0] \n",
    "\n",
    "if num_revised_case_normalized == 0:\n",
    "    raise ValueError(f\"No cases between the revised cases for the hospital '{file_info.hospital_name_db}' in {file_info.year} were joined.\")\n",
    "else:\n",
    "    logger.info(f\"{num_revised_case_normalized} of {num_df_revised_case_d2d} rows were joined with the cases from the DB, for the hospital '{file_info.hospital_name_db}' in {file_info.year}\") "
   ]
  },
  {
   "cell_type": "code",
   "execution_count": null,
   "id": "f7472ff0-2a10-4fdc-accf-1f3500d63c33",
   "metadata": {},
   "outputs": [],
   "source": [
    "df_revised_case_normalized = revised_case_normalized[COLS_TO_OUTPUT]"
   ]
  },
  {
   "cell_type": "code",
   "execution_count": 17,
   "id": "1376216d-4593-4cca-91cd-7b14089fbba1",
   "metadata": {},
   "outputs": [],
   "source": [
    "# Export normalized revision data as a csv: \n",
    "\n",
    "hospital = file_info.hospital_name_db.replace(' ', '_') # replace spaces with '_' for the file name\n",
    "hospital_year = f'{hospital}_{file_info.year}'\n",
    "\n",
    "output_folder = os.path.join(ROOT_DIR, 'normalized_revision_data/')\n",
    "\n",
    "if not os.path.exists(output_folder):\n",
    "    os.mkdir(output_folder)\n",
    "\n",
    "NEW = '_NEW'\n",
    "    \n",
    "output_path = os.path.join(ROOT_DIR, 'normalized_revision_data/') + hospital_year + NEW + '.csv'\n",
    "\n",
    "revised_case_normalized[COLS_TO_OUTPUT].sort_values('aimedic_id').to_csv(output_path)\n",
    "\n",
    "\n"
   ]
  }
 ],
 "metadata": {
  "kernelspec": {
   "display_name": "Python 3 (ipykernel)",
   "language": "python",
   "name": "python3"
  },
  "language_info": {
   "codemirror_mode": {
    "name": "ipython",
    "version": 3
   },
   "file_extension": ".py",
   "mimetype": "text/x-python",
   "name": "python",
   "nbconvert_exporter": "python",
   "pygments_lexer": "ipython3",
   "version": "3.10.6"
  }
 },
 "nbformat": 4,
 "nbformat_minor": 5
}
