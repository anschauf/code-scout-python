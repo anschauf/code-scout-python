{
 "cells": [
  {
   "cell_type": "markdown",
   "id": "a4e2885d",
   "metadata": {
    "tags": []
   },
   "source": [
    "# Revised case normalization for Hirslanden Aarau 2018\n",
    "\n",
    "Notes:\n",
    "\n",
    "- 17 of 17 revised DtoD cases were joined with the BFS cases from the DB.\n",
    "\n"
   ]
  },
  {
   "cell_type": "code",
   "execution_count": 1,
   "id": "d097a048",
   "metadata": {
    "collapsed": false,
    "jupyter": {
     "outputs_hidden": false
    }
   },
   "outputs": [],
   "source": [
    "import sys\n",
    "\n",
    "import pandas as pd\n",
    "import numpy as np\n",
    "\n",
    "from loguru import logger\n",
    "\n",
    "sys.path.insert(0, '/home/jovyan/work')\n",
    "\n",
    "from src.revised_case_normalization.py.global_configs import *\n",
    "from src.revised_case_normalization.py.normalize import normalize, remove_leading_zeros\n",
    "from src.service import bfs_cases_db_service as bfs_db\n",
    "from src.service.bfs_cases_db_service import session, get_sociodemographics_for_hospital_year, get_earliest_revisions_for_aimedic_ids, get_codes, apply_revisions"
   ]
  },
  {
   "cell_type": "code",
   "execution_count": 2,
   "id": "4710c532",
   "metadata": {
    "collapsed": false,
    "jupyter": {
     "outputs_hidden": false
    }
   },
   "outputs": [
    {
     "name": "stdout",
     "output_type": "stream",
     "text": [
      "FileInfo(path='/home/jovyan/work/src/revised_case_normalization/raw_data/HI_Aarau_Birshof_ST. Anna.xlsx', hospital_name_db='Hirslanden Aarau', year='2018', sheets=['Aarau 2018'])\n"
     ]
    }
   ],
   "source": [
    "file_info = FileInfo(\n",
    "        os.path.join(ROOT_DIR, 'raw_data/HI_Aarau_Birshof_ST. Anna.xlsx'),\n",
    "        'Hirslanden Aarau',\n",
    "        '2018',\n",
    "        ['Aarau 2018'])\n",
    "\n",
    "print(file_info)"
   ]
  },
  {
   "cell_type": "code",
   "execution_count": 3,
   "id": "8c8b27df",
   "metadata": {
    "collapsed": false,
    "jupyter": {
     "outputs_hidden": false
    }
   },
   "outputs": [
    {
     "name": "stderr",
     "output_type": "stream",
     "text": [
      "2022-10-21 13:56:16.318 | INFO     | src.revised_case_normalization.py.normalize:normalize:35 - Read 17 cases for Hirslanden Aarau 2018\n",
      "2022-10-21 13:56:16.324 | INFO     | src.revised_case_normalization.py.normalize:normalize:57 - TYPES:\n",
      "tranche                   string\n",
      "datum                     string\n",
      "case_id                   object\n",
      "patient_id                object\n",
      "kkik                      string\n",
      "gender                    string\n",
      "age_years                  int64\n",
      "bfs_code                  string\n",
      "duration_of_stay           int64\n",
      "pflegetage neu            string\n",
      "pccl                       int64\n",
      "pccl neu                  string\n",
      "old_pd                    string\n",
      "primary_diagnosis         string\n",
      "added_icds                string\n",
      "removed_icds              string\n",
      "added_chops               string\n",
      "removed_chops             string\n",
      "drg                       string\n",
      "drg neu                   string\n",
      "cw alt                    string\n",
      "cw neu                    string\n",
      "cw-änderung möglich       string\n",
      "cw-änderung akzeptiert    string\n",
      "kommentar dtod            string\n",
      "kodierer aarau            string\n",
      "bemerkung aarau           string\n",
      "kassenbeanstandung        string\n",
      "case_id_norm              object\n",
      "dtype: object\n",
      "2022-10-21 13:56:16.335 | INFO     | src.utils.dataframe_utils:validate_icd_codes:68 - Validated ICD codes in 'added_icds' and stored them into 'added_icds': All rows contain valid codes\n",
      "2022-10-21 13:56:16.338 | INFO     | src.utils.dataframe_utils:validate_icd_codes:68 - Validated ICD codes in 'removed_icds' and stored them into 'removed_icds': All rows contain valid codes\n",
      "2022-10-21 13:56:16.342 | INFO     | src.utils.dataframe_utils:validate_chop_codes:106 - Validated CHOP codes in 'added_chops' and stored them into 'added_chops': All rows contain valid codes\n",
      "2022-10-21 13:56:16.344 | INFO     | src.utils.dataframe_utils:validate_chop_codes:106 - Validated CHOP codes in 'removed_chops' and stored them into 'removed_chops': All rows contain valid codes\n",
      "2022-10-21 13:56:16.345 | INFO     | src.utils.dataframe_utils:remove_duplicated_chops:32 - Removing duplicated CHOP codes due to different casing ...\n",
      "2022-10-21 13:56:16.351 | INFO     | src.utils.dataframe_utils:validate_pd_revised_sd:158 - Validated redundant PD info in 'added_icds'/'removed_icds': All rows contain valid codes\n",
      "2022-10-21 13:56:16.356 | SUCCESS  | src.revised_case_normalization.py.normalize:normalize:100 - Completed validation\n"
     ]
    }
   ],
   "source": [
    "df_revised_case_d2d = normalize(file_info, 0)"
   ]
  },
  {
   "cell_type": "code",
   "execution_count": 4,
   "id": "6c589452",
   "metadata": {
    "collapsed": false,
    "jupyter": {
     "outputs_hidden": false
    }
   },
   "outputs": [
    {
     "data": {
      "text/plain": "      case_id  patient_id gender  age_years  duration_of_stay case_id_norm old_pd primary_diagnosis bfs_code  pccl   drg    added_icds removed_icds added_chops removed_chops\n0  0041623461  0001059029      W         77                 2     41623461  I7024             I7024     M100     3  F59E       [J4481]      [J4483]          []            []\n1  0041665678  0002043896      M         82                17     41665678  I5001             I5001     M100     3  F62C         [R18]           []          []            []\n2  0041698586  0022177655      M         93                 2     41698586  I7024             I7024     M100     3  F59E        [I743]           []          []            []\n3  0041719219  0001339311      M         91                 4     41719219   I495              I495     M100     3  F71B        [N182]           []          []            []\n4    41777951  0022177655      M         93                 2     41777951  I7024             I7024     M100     0  F59E  [N184, T828]           []          []            []",
      "text/html": "<div>\n<style scoped>\n    .dataframe tbody tr th:only-of-type {\n        vertical-align: middle;\n    }\n\n    .dataframe tbody tr th {\n        vertical-align: top;\n    }\n\n    .dataframe thead th {\n        text-align: right;\n    }\n</style>\n<table border=\"1\" class=\"dataframe\">\n  <thead>\n    <tr style=\"text-align: right;\">\n      <th></th>\n      <th>case_id</th>\n      <th>patient_id</th>\n      <th>gender</th>\n      <th>age_years</th>\n      <th>duration_of_stay</th>\n      <th>case_id_norm</th>\n      <th>old_pd</th>\n      <th>primary_diagnosis</th>\n      <th>bfs_code</th>\n      <th>pccl</th>\n      <th>drg</th>\n      <th>added_icds</th>\n      <th>removed_icds</th>\n      <th>added_chops</th>\n      <th>removed_chops</th>\n    </tr>\n  </thead>\n  <tbody>\n    <tr>\n      <th>0</th>\n      <td>0041623461</td>\n      <td>0001059029</td>\n      <td>W</td>\n      <td>77</td>\n      <td>2</td>\n      <td>41623461</td>\n      <td>I7024</td>\n      <td>I7024</td>\n      <td>M100</td>\n      <td>3</td>\n      <td>F59E</td>\n      <td>[J4481]</td>\n      <td>[J4483]</td>\n      <td>[]</td>\n      <td>[]</td>\n    </tr>\n    <tr>\n      <th>1</th>\n      <td>0041665678</td>\n      <td>0002043896</td>\n      <td>M</td>\n      <td>82</td>\n      <td>17</td>\n      <td>41665678</td>\n      <td>I5001</td>\n      <td>I5001</td>\n      <td>M100</td>\n      <td>3</td>\n      <td>F62C</td>\n      <td>[R18]</td>\n      <td>[]</td>\n      <td>[]</td>\n      <td>[]</td>\n    </tr>\n    <tr>\n      <th>2</th>\n      <td>0041698586</td>\n      <td>0022177655</td>\n      <td>M</td>\n      <td>93</td>\n      <td>2</td>\n      <td>41698586</td>\n      <td>I7024</td>\n      <td>I7024</td>\n      <td>M100</td>\n      <td>3</td>\n      <td>F59E</td>\n      <td>[I743]</td>\n      <td>[]</td>\n      <td>[]</td>\n      <td>[]</td>\n    </tr>\n    <tr>\n      <th>3</th>\n      <td>0041719219</td>\n      <td>0001339311</td>\n      <td>M</td>\n      <td>91</td>\n      <td>4</td>\n      <td>41719219</td>\n      <td>I495</td>\n      <td>I495</td>\n      <td>M100</td>\n      <td>3</td>\n      <td>F71B</td>\n      <td>[N182]</td>\n      <td>[]</td>\n      <td>[]</td>\n      <td>[]</td>\n    </tr>\n    <tr>\n      <th>4</th>\n      <td>41777951</td>\n      <td>0022177655</td>\n      <td>M</td>\n      <td>93</td>\n      <td>2</td>\n      <td>41777951</td>\n      <td>I7024</td>\n      <td>I7024</td>\n      <td>M100</td>\n      <td>0</td>\n      <td>F59E</td>\n      <td>[N184, T828]</td>\n      <td>[]</td>\n      <td>[]</td>\n      <td>[]</td>\n    </tr>\n  </tbody>\n</table>\n</div>"
     },
     "execution_count": 4,
     "metadata": {},
     "output_type": "execute_result"
    }
   ],
   "source": [
    "df_revised_case_d2d.head()"
   ]
  },
  {
   "cell_type": "markdown",
   "id": "a6796573",
   "metadata": {
    "tags": []
   },
   "source": [
    "# Match revised DtoD data with the BfS data from the database"
   ]
  },
  {
   "cell_type": "code",
   "execution_count": 5,
   "id": "65408537-cd4a-4b7c-a785-0db424378909",
   "metadata": {},
   "outputs": [
    {
     "name": "stderr",
     "output_type": "stream",
     "text": [
      "2022-10-21 13:56:27.146 | INFO     | src.service.bfs_cases_db_service:get_sociodemographics_for_hospital_year:116 - Read 10112 rows from the DB, for the hospital 'Hirslanden Aarau' in 2018\n"
     ]
    },
    {
     "name": "stdout",
     "output_type": "stream",
     "text": [
      "   aimedic_id     case_id        patient_id gender  age_years  duration_of_stay case_id_norm\n",
      "0      115452  0041415230  A0E36E42C141D541      M         29                 2     41415230\n",
      "1      115453  0041453333  10CA4E4A4D6A6648      W         34                 1     41453333\n",
      "2      115454  0041473239  E7A902368D82844A      M         63                 4     41473239\n",
      "3      115455  0041506268  5FCEADE16E4FD6EC      M         44                 3     41506268\n",
      "4      115456  0041511524  A2B2DB76985BA881      M         43                 2     41511524\n"
     ]
    }
   ],
   "source": [
    "cases_in_db = get_sociodemographics_for_hospital_year(file_info.hospital_name_db, int(file_info.year))\n",
    "cases_in_db[NORM_CASE_ID_COL] = cases_in_db[CASE_ID_COL].apply(remove_leading_zeros)\n",
    "print(cases_in_db.head())"
   ]
  },
  {
   "cell_type": "code",
   "execution_count": 6,
   "outputs": [
    {
     "name": "stdout",
     "output_type": "stream",
     "text": [
      "0 rows could not be matched, given ['age_years', 'case_id_norm', 'duration_of_stay', 'gender']\n"
     ]
    },
    {
     "data": {
      "text/plain": "    aimedic_id primary_diagnosis     added_icds removed_icds added_chops removed_chops\n0       115875             I7024        [J4481]      [J4483]          []            []\n1       116851             I5001          [R18]           []          []            []\n2       117722             I7024         [I743]           []          []            []\n3       118215              I495         [N182]           []          []            []\n4       120279             I7024   [N184, T828]           []          []            []\n5       116472             I5014        [E1191]      [E1190]          []            []\n6       117999              N390         [B370]           []          []            []\n7       120078              N390         [E440]           []    [890A32]            []\n8       119991             N1781        [J9610]           []          []            []\n9       121288              I208        [J9580]           []          []            []\n10      121387              D384  [I483, J9580]           []          []            []\n11      121768              I350          [J91]           []          []            []\n12      121893              N390        [E1191]      [E1190]          []            []\n13      122148             S2206         [D689]           []          []            []\n14      123146             I7022         [D686]           []          []            []\n15      124638             M4807        [D6823]           []          []            []\n16      125114              C250         [F058]           []          []            []",
      "text/html": "<div>\n<style scoped>\n    .dataframe tbody tr th:only-of-type {\n        vertical-align: middle;\n    }\n\n    .dataframe tbody tr th {\n        vertical-align: top;\n    }\n\n    .dataframe thead th {\n        text-align: right;\n    }\n</style>\n<table border=\"1\" class=\"dataframe\">\n  <thead>\n    <tr style=\"text-align: right;\">\n      <th></th>\n      <th>aimedic_id</th>\n      <th>primary_diagnosis</th>\n      <th>added_icds</th>\n      <th>removed_icds</th>\n      <th>added_chops</th>\n      <th>removed_chops</th>\n    </tr>\n  </thead>\n  <tbody>\n    <tr>\n      <th>0</th>\n      <td>115875</td>\n      <td>I7024</td>\n      <td>[J4481]</td>\n      <td>[J4483]</td>\n      <td>[]</td>\n      <td>[]</td>\n    </tr>\n    <tr>\n      <th>1</th>\n      <td>116851</td>\n      <td>I5001</td>\n      <td>[R18]</td>\n      <td>[]</td>\n      <td>[]</td>\n      <td>[]</td>\n    </tr>\n    <tr>\n      <th>2</th>\n      <td>117722</td>\n      <td>I7024</td>\n      <td>[I743]</td>\n      <td>[]</td>\n      <td>[]</td>\n      <td>[]</td>\n    </tr>\n    <tr>\n      <th>3</th>\n      <td>118215</td>\n      <td>I495</td>\n      <td>[N182]</td>\n      <td>[]</td>\n      <td>[]</td>\n      <td>[]</td>\n    </tr>\n    <tr>\n      <th>4</th>\n      <td>120279</td>\n      <td>I7024</td>\n      <td>[N184, T828]</td>\n      <td>[]</td>\n      <td>[]</td>\n      <td>[]</td>\n    </tr>\n    <tr>\n      <th>5</th>\n      <td>116472</td>\n      <td>I5014</td>\n      <td>[E1191]</td>\n      <td>[E1190]</td>\n      <td>[]</td>\n      <td>[]</td>\n    </tr>\n    <tr>\n      <th>6</th>\n      <td>117999</td>\n      <td>N390</td>\n      <td>[B370]</td>\n      <td>[]</td>\n      <td>[]</td>\n      <td>[]</td>\n    </tr>\n    <tr>\n      <th>7</th>\n      <td>120078</td>\n      <td>N390</td>\n      <td>[E440]</td>\n      <td>[]</td>\n      <td>[890A32]</td>\n      <td>[]</td>\n    </tr>\n    <tr>\n      <th>8</th>\n      <td>119991</td>\n      <td>N1781</td>\n      <td>[J9610]</td>\n      <td>[]</td>\n      <td>[]</td>\n      <td>[]</td>\n    </tr>\n    <tr>\n      <th>9</th>\n      <td>121288</td>\n      <td>I208</td>\n      <td>[J9580]</td>\n      <td>[]</td>\n      <td>[]</td>\n      <td>[]</td>\n    </tr>\n    <tr>\n      <th>10</th>\n      <td>121387</td>\n      <td>D384</td>\n      <td>[I483, J9580]</td>\n      <td>[]</td>\n      <td>[]</td>\n      <td>[]</td>\n    </tr>\n    <tr>\n      <th>11</th>\n      <td>121768</td>\n      <td>I350</td>\n      <td>[J91]</td>\n      <td>[]</td>\n      <td>[]</td>\n      <td>[]</td>\n    </tr>\n    <tr>\n      <th>12</th>\n      <td>121893</td>\n      <td>N390</td>\n      <td>[E1191]</td>\n      <td>[E1190]</td>\n      <td>[]</td>\n      <td>[]</td>\n    </tr>\n    <tr>\n      <th>13</th>\n      <td>122148</td>\n      <td>S2206</td>\n      <td>[D689]</td>\n      <td>[]</td>\n      <td>[]</td>\n      <td>[]</td>\n    </tr>\n    <tr>\n      <th>14</th>\n      <td>123146</td>\n      <td>I7022</td>\n      <td>[D686]</td>\n      <td>[]</td>\n      <td>[]</td>\n      <td>[]</td>\n    </tr>\n    <tr>\n      <th>15</th>\n      <td>124638</td>\n      <td>M4807</td>\n      <td>[D6823]</td>\n      <td>[]</td>\n      <td>[]</td>\n      <td>[]</td>\n    </tr>\n    <tr>\n      <th>16</th>\n      <td>125114</td>\n      <td>C250</td>\n      <td>[F058]</td>\n      <td>[]</td>\n      <td>[]</td>\n      <td>[]</td>\n    </tr>\n  </tbody>\n</table>\n</div>"
     },
     "execution_count": 6,
     "metadata": {},
     "output_type": "execute_result"
    }
   ],
   "source": [
    "cols_to_join = list(VALIDATION_COLS)\n",
    "cols_to_join.remove(CASE_ID_COL)\n",
    "cols_to_join.append(NORM_CASE_ID_COL)\n",
    "\n",
    "cols_to_join.remove(PATIENT_ID_COL)\n",
    "\n",
    "joined = pd.merge(df_revised_case_d2d, cases_in_db,\n",
    "                  how='left',\n",
    "                  on=cols_to_join,\n",
    "                  suffixes=('', '_db'))\n",
    "\n",
    "joined = joined[[AIMEDIC_ID_COL, NEW_PRIMARY_DIAGNOSIS_COL, ADDED_ICD_CODES, REMOVED_ICD_CODES, ADDED_CHOP_CODES, REMOVED_CHOP_CODES]]\n",
    "\n",
    "unmatched = joined[joined[AIMEDIC_ID_COL].isna()]\n",
    "num_unmatched = unmatched.shape[0]\n",
    "print(f'{num_unmatched} rows could not be matched, given {sorted(cols_to_join)}')\n",
    "\n",
    "joined"
   ],
   "metadata": {
    "collapsed": false
   }
  },
  {
   "cell_type": "code",
   "execution_count": 7,
   "outputs": [],
   "source": [
    "original_revision_ids = get_earliest_revisions_for_aimedic_ids(joined[AIMEDIC_ID_COL].values.tolist())\n",
    "original_cases = get_codes(original_revision_ids)"
   ],
   "metadata": {
    "collapsed": false
   }
  },
  {
   "cell_type": "code",
   "execution_count": 8,
   "outputs": [
    {
     "data": {
      "text/plain": "    aimedic_id  revision_id old_pd                      secondary_diagnoses primary_procedure                         secondary_procedures\n0       115875       115875  I7024  [I7020, Z9588, I1090, N184, J4483, ...]            395014  [395011, 397510, 004C12, 005599, 0043, ...]\n1       116472       116472  I5014  [I5001, I2513, I2522, N184, I1320, ...]            99B712                       [8945, 860A06, 948X40]\n2       116851       116851  I5001     [J91, I5013, I7020, L304, N185, ...]            887211               [887963, 887964, 887975, 3491]\n3       117722       117722  I7024                      [Z9588, N184, Z922]            395011  [397511, 395021, 397510, 0042, 004B18, ...]\n4       117999       117999   N390          [B965, R400, G3520, F446, Z936]            992217                                           []\n5       118215       118215   I495    [I484, I480, I1090, I2519, I340, ...]            893909                                           []\n6       119991       119991  N1781   [Y579, I1100, I480, I5001, G2010, ...]            992909                                           []\n7       120078       120078   N390    [B962, A4158, R650, E1190, E788, ...]            992217                                           []\n8       120279       120279  I7024                      [Z9588, Z921, Z922]            395014  [004C12, 395011, 0043, 004B1A, 004B46, ...]\n9       121288       121288   I208               [I2513, D684, U6912, E788]            361226    [361121, 361122, 361C14, 3963, 3964, ...]\n10      121387       121387   D384      [J948, S2738, Y69, I480, Y849, ...]            343X23    [0782, 3223, 009A13, 044999, 040799, ...]\n11      121768       121768   I350   [I2512, I1090, E788, F171, I7101, ...]            35F121    [361122, 361C11, 396111, 3963, 3964, ...]\n12      121893       121893   N390    [A418, R650, N182, I2519, I1090, ...]            992217                                           []\n13      122148       122148  S2206                [X599, E559, G2000, E538]            816610             [889714, 883840, 774920, 948X40]\n14      123146       123146  I7022    [T828, Y828, I708, I1090, Z9588, ...]            395014  [004C12, 395011, 0041, 004B18, 004B45, ...]\n15      124638       124638  M4807    [G553, M511, G551, M4316, M4856, ...]              8108   [816310, 030936, 030991, 036, 785035, ...]\n16      125114       125114   C250     [C772, K831, I1090, N183, Z867, ...]            525110                     [403X29, 009A13, 99B712]",
      "text/html": "<div>\n<style scoped>\n    .dataframe tbody tr th:only-of-type {\n        vertical-align: middle;\n    }\n\n    .dataframe tbody tr th {\n        vertical-align: top;\n    }\n\n    .dataframe thead th {\n        text-align: right;\n    }\n</style>\n<table border=\"1\" class=\"dataframe\">\n  <thead>\n    <tr style=\"text-align: right;\">\n      <th></th>\n      <th>aimedic_id</th>\n      <th>revision_id</th>\n      <th>old_pd</th>\n      <th>secondary_diagnoses</th>\n      <th>primary_procedure</th>\n      <th>secondary_procedures</th>\n    </tr>\n  </thead>\n  <tbody>\n    <tr>\n      <th>0</th>\n      <td>115875</td>\n      <td>115875</td>\n      <td>I7024</td>\n      <td>[I7020, Z9588, I1090, N184, J4483, ...]</td>\n      <td>395014</td>\n      <td>[395011, 397510, 004C12, 005599, 0043, ...]</td>\n    </tr>\n    <tr>\n      <th>1</th>\n      <td>116472</td>\n      <td>116472</td>\n      <td>I5014</td>\n      <td>[I5001, I2513, I2522, N184, I1320, ...]</td>\n      <td>99B712</td>\n      <td>[8945, 860A06, 948X40]</td>\n    </tr>\n    <tr>\n      <th>2</th>\n      <td>116851</td>\n      <td>116851</td>\n      <td>I5001</td>\n      <td>[J91, I5013, I7020, L304, N185, ...]</td>\n      <td>887211</td>\n      <td>[887963, 887964, 887975, 3491]</td>\n    </tr>\n    <tr>\n      <th>3</th>\n      <td>117722</td>\n      <td>117722</td>\n      <td>I7024</td>\n      <td>[Z9588, N184, Z922]</td>\n      <td>395011</td>\n      <td>[397511, 395021, 397510, 0042, 004B18, ...]</td>\n    </tr>\n    <tr>\n      <th>4</th>\n      <td>117999</td>\n      <td>117999</td>\n      <td>N390</td>\n      <td>[B965, R400, G3520, F446, Z936]</td>\n      <td>992217</td>\n      <td>[]</td>\n    </tr>\n    <tr>\n      <th>5</th>\n      <td>118215</td>\n      <td>118215</td>\n      <td>I495</td>\n      <td>[I484, I480, I1090, I2519, I340, ...]</td>\n      <td>893909</td>\n      <td>[]</td>\n    </tr>\n    <tr>\n      <th>6</th>\n      <td>119991</td>\n      <td>119991</td>\n      <td>N1781</td>\n      <td>[Y579, I1100, I480, I5001, G2010, ...]</td>\n      <td>992909</td>\n      <td>[]</td>\n    </tr>\n    <tr>\n      <th>7</th>\n      <td>120078</td>\n      <td>120078</td>\n      <td>N390</td>\n      <td>[B962, A4158, R650, E1190, E788, ...]</td>\n      <td>992217</td>\n      <td>[]</td>\n    </tr>\n    <tr>\n      <th>8</th>\n      <td>120279</td>\n      <td>120279</td>\n      <td>I7024</td>\n      <td>[Z9588, Z921, Z922]</td>\n      <td>395014</td>\n      <td>[004C12, 395011, 0043, 004B1A, 004B46, ...]</td>\n    </tr>\n    <tr>\n      <th>9</th>\n      <td>121288</td>\n      <td>121288</td>\n      <td>I208</td>\n      <td>[I2513, D684, U6912, E788]</td>\n      <td>361226</td>\n      <td>[361121, 361122, 361C14, 3963, 3964, ...]</td>\n    </tr>\n    <tr>\n      <th>10</th>\n      <td>121387</td>\n      <td>121387</td>\n      <td>D384</td>\n      <td>[J948, S2738, Y69, I480, Y849, ...]</td>\n      <td>343X23</td>\n      <td>[0782, 3223, 009A13, 044999, 040799, ...]</td>\n    </tr>\n    <tr>\n      <th>11</th>\n      <td>121768</td>\n      <td>121768</td>\n      <td>I350</td>\n      <td>[I2512, I1090, E788, F171, I7101, ...]</td>\n      <td>35F121</td>\n      <td>[361122, 361C11, 396111, 3963, 3964, ...]</td>\n    </tr>\n    <tr>\n      <th>12</th>\n      <td>121893</td>\n      <td>121893</td>\n      <td>N390</td>\n      <td>[A418, R650, N182, I2519, I1090, ...]</td>\n      <td>992217</td>\n      <td>[]</td>\n    </tr>\n    <tr>\n      <th>13</th>\n      <td>122148</td>\n      <td>122148</td>\n      <td>S2206</td>\n      <td>[X599, E559, G2000, E538]</td>\n      <td>816610</td>\n      <td>[889714, 883840, 774920, 948X40]</td>\n    </tr>\n    <tr>\n      <th>14</th>\n      <td>123146</td>\n      <td>123146</td>\n      <td>I7022</td>\n      <td>[T828, Y828, I708, I1090, Z9588, ...]</td>\n      <td>395014</td>\n      <td>[004C12, 395011, 0041, 004B18, 004B45, ...]</td>\n    </tr>\n    <tr>\n      <th>15</th>\n      <td>124638</td>\n      <td>124638</td>\n      <td>M4807</td>\n      <td>[G553, M511, G551, M4316, M4856, ...]</td>\n      <td>8108</td>\n      <td>[816310, 030936, 030991, 036, 785035, ...]</td>\n    </tr>\n    <tr>\n      <th>16</th>\n      <td>125114</td>\n      <td>125114</td>\n      <td>C250</td>\n      <td>[C772, K831, I1090, N183, Z867, ...]</td>\n      <td>525110</td>\n      <td>[403X29, 009A13, 99B712]</td>\n    </tr>\n  </tbody>\n</table>\n</div>"
     },
     "execution_count": 8,
     "metadata": {},
     "output_type": "execute_result"
    }
   ],
   "source": [
    "original_cases"
   ],
   "metadata": {
    "collapsed": false
   }
  },
  {
   "cell_type": "code",
   "execution_count": 9,
   "outputs": [
    {
     "data": {
      "text/plain": "    aimedic_id primary_diagnosis                      secondary_diagnoses primary_procedure                         secondary_procedures\n0       115875             I7024   [I7020, Z9588, I1090, N184, N390, ...]            395014  [395011, 397510, 004C12, 005599, 0043, ...]\n1       116472             I5014  [I5001, I2513, I2522, N184, I1320, ...]            99B712                       [8945, 860A06, 948X40]\n2       116851             I5001     [J91, I5013, I7020, L304, N185, ...]            887211               [887963, 887964, 887975, 3491]\n3       117722             I7024                [Z9588, N184, Z922, I743]            395011  [397511, 395021, 397510, 0042, 004B18, ...]\n4       117999              N390     [B965, R400, G3520, F446, Z936, ...]            992217                                           []\n5       118215              I495    [I484, I480, I1090, I2519, I340, ...]            893909                                           []\n6       119991             N1781   [Y579, I1100, I480, I5001, G2010, ...]            992909                                           []\n7       120078              N390    [B962, A4158, R650, E1190, E788, ...]            992217                                     [890A32]\n8       120279             I7024          [Z9588, Z921, Z922, N184, T828]            395014  [004C12, 395011, 0043, 004B1A, 004B46, ...]\n9       121288              I208        [I2513, D684, U6912, E788, J9580]            361226    [361121, 361122, 361C14, 3963, 3964, ...]\n10      121387              D384      [J948, S2738, Y69, I480, Y849, ...]            343X23    [0782, 3223, 009A13, 044999, 040799, ...]\n11      121768              I350   [I2512, I1090, E788, F171, I7101, ...]            35F121    [361122, 361C11, 396111, 3963, 3964, ...]\n12      121893              N390    [A418, R650, N182, I2519, I1090, ...]            992217                                           []\n13      122148             S2206          [X599, E559, G2000, E538, D689]            816610             [889714, 883840, 774920, 948X40]\n14      123146             I7022    [T828, Y828, I708, I1090, Z9588, ...]            395014  [004C12, 395011, 0041, 004B18, 004B45, ...]\n15      124638             M4807    [G553, M511, G551, M4316, M4856, ...]              8108   [816310, 030936, 030991, 036, 785035, ...]\n16      125114              C250     [C772, K831, I1090, N183, Z867, ...]            525110                     [403X29, 009A13, 99B712]",
      "text/html": "<div>\n<style scoped>\n    .dataframe tbody tr th:only-of-type {\n        vertical-align: middle;\n    }\n\n    .dataframe tbody tr th {\n        vertical-align: top;\n    }\n\n    .dataframe thead th {\n        text-align: right;\n    }\n</style>\n<table border=\"1\" class=\"dataframe\">\n  <thead>\n    <tr style=\"text-align: right;\">\n      <th></th>\n      <th>aimedic_id</th>\n      <th>primary_diagnosis</th>\n      <th>secondary_diagnoses</th>\n      <th>primary_procedure</th>\n      <th>secondary_procedures</th>\n    </tr>\n  </thead>\n  <tbody>\n    <tr>\n      <th>0</th>\n      <td>115875</td>\n      <td>I7024</td>\n      <td>[I7020, Z9588, I1090, N184, N390, ...]</td>\n      <td>395014</td>\n      <td>[395011, 397510, 004C12, 005599, 0043, ...]</td>\n    </tr>\n    <tr>\n      <th>1</th>\n      <td>116472</td>\n      <td>I5014</td>\n      <td>[I5001, I2513, I2522, N184, I1320, ...]</td>\n      <td>99B712</td>\n      <td>[8945, 860A06, 948X40]</td>\n    </tr>\n    <tr>\n      <th>2</th>\n      <td>116851</td>\n      <td>I5001</td>\n      <td>[J91, I5013, I7020, L304, N185, ...]</td>\n      <td>887211</td>\n      <td>[887963, 887964, 887975, 3491]</td>\n    </tr>\n    <tr>\n      <th>3</th>\n      <td>117722</td>\n      <td>I7024</td>\n      <td>[Z9588, N184, Z922, I743]</td>\n      <td>395011</td>\n      <td>[397511, 395021, 397510, 0042, 004B18, ...]</td>\n    </tr>\n    <tr>\n      <th>4</th>\n      <td>117999</td>\n      <td>N390</td>\n      <td>[B965, R400, G3520, F446, Z936, ...]</td>\n      <td>992217</td>\n      <td>[]</td>\n    </tr>\n    <tr>\n      <th>5</th>\n      <td>118215</td>\n      <td>I495</td>\n      <td>[I484, I480, I1090, I2519, I340, ...]</td>\n      <td>893909</td>\n      <td>[]</td>\n    </tr>\n    <tr>\n      <th>6</th>\n      <td>119991</td>\n      <td>N1781</td>\n      <td>[Y579, I1100, I480, I5001, G2010, ...]</td>\n      <td>992909</td>\n      <td>[]</td>\n    </tr>\n    <tr>\n      <th>7</th>\n      <td>120078</td>\n      <td>N390</td>\n      <td>[B962, A4158, R650, E1190, E788, ...]</td>\n      <td>992217</td>\n      <td>[890A32]</td>\n    </tr>\n    <tr>\n      <th>8</th>\n      <td>120279</td>\n      <td>I7024</td>\n      <td>[Z9588, Z921, Z922, N184, T828]</td>\n      <td>395014</td>\n      <td>[004C12, 395011, 0043, 004B1A, 004B46, ...]</td>\n    </tr>\n    <tr>\n      <th>9</th>\n      <td>121288</td>\n      <td>I208</td>\n      <td>[I2513, D684, U6912, E788, J9580]</td>\n      <td>361226</td>\n      <td>[361121, 361122, 361C14, 3963, 3964, ...]</td>\n    </tr>\n    <tr>\n      <th>10</th>\n      <td>121387</td>\n      <td>D384</td>\n      <td>[J948, S2738, Y69, I480, Y849, ...]</td>\n      <td>343X23</td>\n      <td>[0782, 3223, 009A13, 044999, 040799, ...]</td>\n    </tr>\n    <tr>\n      <th>11</th>\n      <td>121768</td>\n      <td>I350</td>\n      <td>[I2512, I1090, E788, F171, I7101, ...]</td>\n      <td>35F121</td>\n      <td>[361122, 361C11, 396111, 3963, 3964, ...]</td>\n    </tr>\n    <tr>\n      <th>12</th>\n      <td>121893</td>\n      <td>N390</td>\n      <td>[A418, R650, N182, I2519, I1090, ...]</td>\n      <td>992217</td>\n      <td>[]</td>\n    </tr>\n    <tr>\n      <th>13</th>\n      <td>122148</td>\n      <td>S2206</td>\n      <td>[X599, E559, G2000, E538, D689]</td>\n      <td>816610</td>\n      <td>[889714, 883840, 774920, 948X40]</td>\n    </tr>\n    <tr>\n      <th>14</th>\n      <td>123146</td>\n      <td>I7022</td>\n      <td>[T828, Y828, I708, I1090, Z9588, ...]</td>\n      <td>395014</td>\n      <td>[004C12, 395011, 0041, 004B18, 004B45, ...]</td>\n    </tr>\n    <tr>\n      <th>15</th>\n      <td>124638</td>\n      <td>M4807</td>\n      <td>[G553, M511, G551, M4316, M4856, ...]</td>\n      <td>8108</td>\n      <td>[816310, 030936, 030991, 036, 785035, ...]</td>\n    </tr>\n    <tr>\n      <th>16</th>\n      <td>125114</td>\n      <td>C250</td>\n      <td>[C772, K831, I1090, N183, Z867, ...]</td>\n      <td>525110</td>\n      <td>[403X29, 009A13, 99B712]</td>\n    </tr>\n  </tbody>\n</table>\n</div>"
     },
     "execution_count": 9,
     "metadata": {},
     "output_type": "execute_result"
    }
   ],
   "source": [
    "revised_cases = apply_revisions(original_cases, joined)\n",
    "revised_cases"
   ],
   "metadata": {
    "collapsed": false
   }
  },
  {
   "cell_type": "code",
   "execution_count": null,
   "outputs": [],
   "source": [],
   "metadata": {
    "collapsed": false
   }
  }
 ],
 "metadata": {
  "kernelspec": {
   "display_name": "Python 3 (ipykernel)",
   "language": "python",
   "name": "python3"
  },
  "language_info": {
   "codemirror_mode": {
    "name": "ipython",
    "version": 3
   },
   "file_extension": ".py",
   "mimetype": "text/x-python",
   "name": "python",
   "nbconvert_exporter": "python",
   "pygments_lexer": "ipython3",
   "version": "3.10.6"
  }
 },
 "nbformat": 4,
 "nbformat_minor": 5
}
