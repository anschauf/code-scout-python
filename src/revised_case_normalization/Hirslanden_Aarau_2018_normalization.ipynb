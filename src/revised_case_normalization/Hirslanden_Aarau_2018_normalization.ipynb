{
 "cells": [
  {
   "cell_type": "markdown",
   "id": "a4e2885d",
   "metadata": {
    "tags": []
   },
   "source": [
    "# Revised case normalization for Hirslanden Aarau 2018\n",
    "\n",
    "Notes:\n",
    "\n",
    "- 17 of 17 revised DtoD cases were joined with the BFS cases from the DB.\n",
    "\n"
   ]
  },
  {
   "cell_type": "code",
   "execution_count": 1,
   "id": "d097a048",
   "metadata": {
    "collapsed": false,
    "jupyter": {
     "outputs_hidden": false
    }
   },
   "outputs": [],
   "source": [
    "import sys\n",
    "\n",
    "import pandas as pd\n",
    "import numpy as np\n",
    "\n",
    "from loguru import logger\n",
    "\n",
    "sys.path.insert(0, '/home/jovyan/work')\n",
    "\n",
    "from src.revised_case_normalization.py.global_configs import *\n",
    "from src.revised_case_normalization.py.normalize import normalize, remove_leading_zeros\n",
    "from src.service import bfs_cases_db_service as bfs_db\n",
    "from src.service.bfs_cases_db_service import session, get_sociodemographics_for_hospital_year, get_earliest_revisions_for_aimedic_ids, get_codes, apply_revisions\n",
    "from src.revised_case_normalization.py.format_for_grouper import format_for_grouper"
   ]
  },
  {
   "cell_type": "code",
   "execution_count": 2,
   "id": "4710c532",
   "metadata": {
    "collapsed": false,
    "jupyter": {
     "outputs_hidden": false
    }
   },
   "outputs": [
    {
     "name": "stdout",
     "output_type": "stream",
     "text": [
      "FileInfo(path='/home/jovyan/work/src/revised_case_normalization/raw_data/HI_Aarau_Birshof_ST. Anna.xlsx', hospital_name_db='Hirslanden Aarau', year='2018', sheets=['Aarau 2018'])\n"
     ]
    }
   ],
   "source": [
    "file_info = FileInfo(\n",
    "        os.path.join(ROOT_DIR, 'raw_data/HI_Aarau_Birshof_ST. Anna.xlsx'),\n",
    "        'Hirslanden Aarau',\n",
    "        '2018',\n",
    "        ['Aarau 2018'])\n",
    "\n",
    "print(file_info)"
   ]
  },
  {
   "cell_type": "code",
   "execution_count": 3,
   "id": "8c8b27df",
   "metadata": {
    "collapsed": false,
    "jupyter": {
     "outputs_hidden": false
    }
   },
   "outputs": [
    {
     "name": "stderr",
     "output_type": "stream",
     "text": [
      "2022-10-27 15:11:01.872 | INFO     | src.revised_case_normalization.py.normalize:normalize:35 - Read 17 cases for Hirslanden Aarau 2018\n",
      "2022-10-27 15:11:01.876 | INFO     | src.revised_case_normalization.py.normalize:normalize:57 - TYPES:\n",
      "tranche                   string\n",
      "datum                     string\n",
      "case_id                   object\n",
      "patient_id                object\n",
      "kkik                      string\n",
      "gender                    string\n",
      "age_years                  int64\n",
      "bfs_code                  string\n",
      "duration_of_stay           int64\n",
      "pflegetage neu            string\n",
      "pccl                       int64\n",
      "pccl neu                  string\n",
      "old_pd                    string\n",
      "primary_diagnosis         string\n",
      "added_icds                string\n",
      "removed_icds              string\n",
      "added_chops               string\n",
      "removed_chops             string\n",
      "drg                       string\n",
      "drg neu                   string\n",
      "cw alt                    string\n",
      "cw neu                    string\n",
      "cw-änderung möglich       string\n",
      "cw-änderung akzeptiert    string\n",
      "kommentar dtod            string\n",
      "kodierer aarau            string\n",
      "bemerkung aarau           string\n",
      "kassenbeanstandung        string\n",
      "case_id_norm              object\n",
      "dtype: object\n",
      "2022-10-27 15:11:01.882 | INFO     | src.utils.dataframe_utils:validate_icd_codes:68 - Validated ICD codes in 'added_icds' and stored them into 'added_icds': All rows contain valid codes\n",
      "2022-10-27 15:11:01.884 | INFO     | src.utils.dataframe_utils:validate_icd_codes:68 - Validated ICD codes in 'removed_icds' and stored them into 'removed_icds': All rows contain valid codes\n",
      "2022-10-27 15:11:01.886 | INFO     | src.utils.dataframe_utils:validate_chop_codes:106 - Validated CHOP codes in 'added_chops' and stored them into 'added_chops': All rows contain valid codes\n",
      "2022-10-27 15:11:01.889 | INFO     | src.utils.dataframe_utils:validate_chop_codes:106 - Validated CHOP codes in 'removed_chops' and stored them into 'removed_chops': All rows contain valid codes\n",
      "2022-10-27 15:11:01.890 | INFO     | src.utils.dataframe_utils:remove_duplicated_chops:32 - Removing duplicated CHOP codes due to different casing ...\n",
      "2022-10-27 15:11:01.894 | INFO     | src.utils.dataframe_utils:validate_pd_revised_sd:158 - Validated redundant PD info in 'added_icds'/'removed_icds': All rows contain valid codes\n",
      "2022-10-27 15:11:01.897 | SUCCESS  | src.revised_case_normalization.py.normalize:normalize:100 - Completed validation\n"
     ]
    }
   ],
   "source": [
    "df_revised_case_d2d = normalize(file_info, 0)"
   ]
  },
  {
   "cell_type": "code",
   "execution_count": 4,
   "id": "6c589452",
   "metadata": {
    "collapsed": false,
    "jupyter": {
     "outputs_hidden": false
    }
   },
   "outputs": [
    {
     "data": {
      "text/html": [
       "<div>\n",
       "<style scoped>\n",
       "    .dataframe tbody tr th:only-of-type {\n",
       "        vertical-align: middle;\n",
       "    }\n",
       "\n",
       "    .dataframe tbody tr th {\n",
       "        vertical-align: top;\n",
       "    }\n",
       "\n",
       "    .dataframe thead th {\n",
       "        text-align: right;\n",
       "    }\n",
       "</style>\n",
       "<table border=\"1\" class=\"dataframe\">\n",
       "  <thead>\n",
       "    <tr style=\"text-align: right;\">\n",
       "      <th></th>\n",
       "      <th>case_id</th>\n",
       "      <th>patient_id</th>\n",
       "      <th>gender</th>\n",
       "      <th>age_years</th>\n",
       "      <th>duration_of_stay</th>\n",
       "      <th>case_id_norm</th>\n",
       "      <th>old_pd</th>\n",
       "      <th>primary_diagnosis</th>\n",
       "      <th>bfs_code</th>\n",
       "      <th>pccl</th>\n",
       "      <th>drg</th>\n",
       "      <th>added_icds</th>\n",
       "      <th>removed_icds</th>\n",
       "      <th>added_chops</th>\n",
       "      <th>removed_chops</th>\n",
       "    </tr>\n",
       "  </thead>\n",
       "  <tbody>\n",
       "    <tr>\n",
       "      <th>0</th>\n",
       "      <td>0041623461</td>\n",
       "      <td>0001059029</td>\n",
       "      <td>W</td>\n",
       "      <td>77</td>\n",
       "      <td>2</td>\n",
       "      <td>41623461</td>\n",
       "      <td>I7024</td>\n",
       "      <td>I7024</td>\n",
       "      <td>M100</td>\n",
       "      <td>3</td>\n",
       "      <td>F59E</td>\n",
       "      <td>[J4481]</td>\n",
       "      <td>[J4483]</td>\n",
       "      <td>[]</td>\n",
       "      <td>[]</td>\n",
       "    </tr>\n",
       "    <tr>\n",
       "      <th>1</th>\n",
       "      <td>0041665678</td>\n",
       "      <td>0002043896</td>\n",
       "      <td>M</td>\n",
       "      <td>82</td>\n",
       "      <td>17</td>\n",
       "      <td>41665678</td>\n",
       "      <td>I5001</td>\n",
       "      <td>I5001</td>\n",
       "      <td>M100</td>\n",
       "      <td>3</td>\n",
       "      <td>F62C</td>\n",
       "      <td>[R18]</td>\n",
       "      <td>[]</td>\n",
       "      <td>[]</td>\n",
       "      <td>[]</td>\n",
       "    </tr>\n",
       "    <tr>\n",
       "      <th>2</th>\n",
       "      <td>0041698586</td>\n",
       "      <td>0022177655</td>\n",
       "      <td>M</td>\n",
       "      <td>93</td>\n",
       "      <td>2</td>\n",
       "      <td>41698586</td>\n",
       "      <td>I7024</td>\n",
       "      <td>I7024</td>\n",
       "      <td>M100</td>\n",
       "      <td>3</td>\n",
       "      <td>F59E</td>\n",
       "      <td>[I743]</td>\n",
       "      <td>[]</td>\n",
       "      <td>[]</td>\n",
       "      <td>[]</td>\n",
       "    </tr>\n",
       "    <tr>\n",
       "      <th>3</th>\n",
       "      <td>0041719219</td>\n",
       "      <td>0001339311</td>\n",
       "      <td>M</td>\n",
       "      <td>91</td>\n",
       "      <td>4</td>\n",
       "      <td>41719219</td>\n",
       "      <td>I495</td>\n",
       "      <td>I495</td>\n",
       "      <td>M100</td>\n",
       "      <td>3</td>\n",
       "      <td>F71B</td>\n",
       "      <td>[N182]</td>\n",
       "      <td>[]</td>\n",
       "      <td>[]</td>\n",
       "      <td>[]</td>\n",
       "    </tr>\n",
       "    <tr>\n",
       "      <th>4</th>\n",
       "      <td>41777951</td>\n",
       "      <td>0022177655</td>\n",
       "      <td>M</td>\n",
       "      <td>93</td>\n",
       "      <td>2</td>\n",
       "      <td>41777951</td>\n",
       "      <td>I7024</td>\n",
       "      <td>I7024</td>\n",
       "      <td>M100</td>\n",
       "      <td>0</td>\n",
       "      <td>F59E</td>\n",
       "      <td>[N184, T828]</td>\n",
       "      <td>[]</td>\n",
       "      <td>[]</td>\n",
       "      <td>[]</td>\n",
       "    </tr>\n",
       "  </tbody>\n",
       "</table>\n",
       "</div>"
      ],
      "text/plain": [
       "      case_id  patient_id gender  age_years  duration_of_stay case_id_norm old_pd primary_diagnosis bfs_code  pccl   drg    added_icds removed_icds added_chops removed_chops\n",
       "0  0041623461  0001059029      W         77                 2     41623461  I7024             I7024     M100     3  F59E       [J4481]      [J4483]          []            []\n",
       "1  0041665678  0002043896      M         82                17     41665678  I5001             I5001     M100     3  F62C         [R18]           []          []            []\n",
       "2  0041698586  0022177655      M         93                 2     41698586  I7024             I7024     M100     3  F59E        [I743]           []          []            []\n",
       "3  0041719219  0001339311      M         91                 4     41719219   I495              I495     M100     3  F71B        [N182]           []          []            []\n",
       "4    41777951  0022177655      M         93                 2     41777951  I7024             I7024     M100     0  F59E  [N184, T828]           []          []            []"
      ]
     },
     "execution_count": 4,
     "metadata": {},
     "output_type": "execute_result"
    }
   ],
   "source": [
    "df_revised_case_d2d.head()"
   ]
  },
  {
   "cell_type": "markdown",
   "id": "a6796573",
   "metadata": {
    "tags": []
   },
   "source": [
    "# Match revised DtoD data with the BfS data from the database"
   ]
  },
  {
   "cell_type": "code",
   "execution_count": 5,
   "id": "65408537-cd4a-4b7c-a785-0db424378909",
   "metadata": {},
   "outputs": [
    {
     "name": "stderr",
     "output_type": "stream",
     "text": [
      "2022-10-27 15:11:03.177 | INFO     | src.service.bfs_cases_db_service:get_sociodemographics_for_hospital_year:124 - Read 10112 rows from the DB, for the hospital 'Hirslanden Aarau' in 2018\n"
     ]
    },
    {
     "name": "stdout",
     "output_type": "stream",
     "text": [
      "   aimedic_id     case_id        patient_id  age_years  age_days  admission_weight  gestation_age gender admission_date grouper_admission_type discharge_date grouper_discharge_type  duration_of_stay  ventilation_hours case_id_norm\n",
      "0      115452  0041415230  A0E36E42C141D541         29         0                 0              0      M     2018-01-16                     01     2018-01-18                     00                 2                  0     41415230\n",
      "1      115453  0041453333  10CA4E4A4D6A6648         34         0                 0              0      W     2018-01-19                     01     2018-01-20                     00                 1                  0     41453333\n",
      "2      115454  0041473239  E7A902368D82844A         63         0                 0              0      M     2018-03-19                     01     2018-03-23                     00                 4                  0     41473239\n",
      "3      115455  0041506268  5FCEADE16E4FD6EC         44         0                 0              0      M     2018-03-27                     01     2018-03-30                     00                 3                  0     41506268\n",
      "4      115456  0041511524  A2B2DB76985BA881         43         0                 0              0      M     2018-01-22                     01     2018-01-24                     00                 2                  0     41511524\n"
     ]
    }
   ],
   "source": [
    "cases_in_db = get_sociodemographics_for_hospital_year(file_info.hospital_name_db, int(file_info.year))\n",
    "cases_in_db[NORM_CASE_ID_COL] = cases_in_db[CASE_ID_COL].apply(remove_leading_zeros)\n",
    "print(cases_in_db.head())"
   ]
  },
  {
   "cell_type": "code",
   "execution_count": 6,
   "id": "8362bdd0",
   "metadata": {
    "collapsed": false,
    "jupyter": {
     "outputs_hidden": false
    }
   },
   "outputs": [],
   "source": [
    "cols_to_join = list(VALIDATION_COLS)\n",
    "cols_to_join.remove(CASE_ID_COL)\n",
    "cols_to_join.append(NORM_CASE_ID_COL)\n",
    "\n",
    "cols_to_join.remove(PATIENT_ID_COL)\n",
    "\n",
    "# Merge cases in db with the revised cases\n",
    "\n",
    "joined = pd.merge(df_revised_case_d2d, cases_in_db,\n",
    "                  how='left',\n",
    "                  on=cols_to_join,\n",
    "                  suffixes=('', '_db'))"
   ]
  },
  {
   "cell_type": "code",
   "execution_count": 7,
   "id": "a114f1c6-2ae9-40b2-8eea-b503686a6457",
   "metadata": {},
   "outputs": [
    {
     "name": "stderr",
     "output_type": "stream",
     "text": [
      "2022-10-27 15:11:03.202 | INFO     | __main__:<module>:4 - 0 rows could not be matched, given ['age_years', 'case_id_norm', 'duration_of_stay', 'gender']\n"
     ]
    }
   ],
   "source": [
    "# Print out how many rows could not be matched\n",
    "unmatched = joined[joined[AIMEDIC_ID_COL].isna()]\n",
    "num_unmatched = unmatched.shape[0]\n",
    "logger.info(f'{num_unmatched} rows could not be matched, given {sorted(cols_to_join)}')"
   ]
  },
  {
   "cell_type": "code",
   "execution_count": 8,
   "id": "a85b9247-c1dc-4072-a1dd-7b61c8251eeb",
   "metadata": {},
   "outputs": [
    {
     "name": "stderr",
     "output_type": "stream",
     "text": [
      "2022-10-27 15:11:03.728 | INFO     | src.revised_case_normalization.py.format_for_grouper:format_for_grouper:79 - Formatted 17 cases\n"
     ]
    }
   ],
   "source": [
    "# Format joined dataset to the SwissDRG Batchgrouper 2017 Format \n",
    "\n",
    "grouper_input_data_string = format_for_grouper(joined)"
   ]
  },
  {
   "cell_type": "code",
   "execution_count": 9,
   "id": "bade6ed7-d9d3-41fb-a082-d559c1467340",
   "metadata": {},
   "outputs": [
    {
     "name": "stdout",
     "output_type": "stream",
     "text": [
      "{\"DRG\" : \"L63B\", \"MDC\" : \"11\", \"PCCL\" : 4, \"GST\" : \"NORMAL_GROUP\"}\n"
     ]
    }
   ],
   "source": [
    "import subprocess\n",
    "\n",
    "\n",
    "example_batch_line = \"\"\"0044007489;57;0;0|0;W;20190101;01;20190101;00;1;0;C20|Z432|N40|I440|I493;465110::20190101|4823::20190101|009A13::20190101;\"\"\"\n",
    "\n",
    "# add date to procedures\n",
    "# change ; with | at one spot\n",
    "test_df_line = \"\"\"17722;93;;;M;20180315;01;20180317;00;2;0;I7024|Z9588|N184|Z922|I743;395011::|397511::|395021::|397510::|0042::|004B18::|004B1A::|884911::|005599::|0046::|393012::;\"\"\"\n",
    "\n",
    "grouper_result = subprocess.check_output([\"java\",\n",
    "                                \"-cp\",\n",
    "                                \"/home/jovyan/work/resources/aimedic-grouper-assembly-0.0.0-SNAPSHOT.jar\",\n",
    "                                \"ch.aimedic.grouper.BatchGroupeOne\",\n",
    "                                grouper_input_data_string[6]\n",
    "                                #test_df_line,\n",
    "                                ]).decode(\"utf-8\")\n",
    "\n",
    "\n",
    "grouperResults = subprocess.check_output([\"java\",\n",
    "                                \"-cp\",\n",
    "                                \"/home/jovyan/work/resources/aimedic-grouper-assembly-0.0.0-SNAPSHOT.jar\",\n",
    "                                \"ch.aimedic.grouper.BatchGroupMany\",\n",
    "                                f'{grouper_input_data_string[1]}#{grouper_input_data_string[6]}#{grouper_input_data_string[16]}',\n",
    "                                \"#\"\n",
    "                                #test_df_line,\n",
    "                                ]).decode(\"utf-8\")\n",
    "\n",
    "print(grouper_result)"
   ]
  },
  {
   "cell_type": "code",
   "execution_count": 10,
   "id": "cd21268f-7f2c-400d-8420-e0601b23772d",
   "metadata": {},
   "outputs": [],
   "source": [
    "# TODO:\n",
    "# - Add medication \n",
    "# - Add and compare CHOP Codes for sideness and procedure date"
   ]
  }
 ],
 "metadata": {
  "kernelspec": {
   "display_name": "Python 3 (ipykernel)",
   "language": "python",
   "name": "python3"
  },
  "language_info": {
   "codemirror_mode": {
    "name": "ipython",
    "version": 3
   },
   "file_extension": ".py",
   "mimetype": "text/x-python",
   "name": "python",
   "nbconvert_exporter": "python",
   "pygments_lexer": "ipython3",
   "version": "3.10.6"
  }
 },
 "nbformat": 4,
 "nbformat_minor": 5
}
