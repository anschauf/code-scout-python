{
 "cells": [
  {
   "cell_type": "markdown",
   "id": "a4e2885d",
   "metadata": {
    "tags": []
   },
   "source": [
    "# Revised case normalization for Hirslanden Aarau 2018\n",
    "\n",
    "Notes:\n",
    "\n",
    "- 17 of 17 revised DtoD cases were joined with the BFS cases from the DB.\n",
    "\n"
   ]
  },
  {
   "cell_type": "code",
   "execution_count": 1,
   "id": "d097a048",
   "metadata": {
    "collapsed": false,
    "jupyter": {
     "outputs_hidden": false
    }
   },
   "outputs": [],
   "source": [
    "import sys\n",
    "sys.path.insert(0, '/home/jovyan/work')\n",
    "\n",
    "from src.revised_case_normalization.py.global_configs import *\n",
    "from src.revised_case_normalization.py.normalize import normalize\n",
    "from src.revised_case_normalization.py.revise import revise\n",
    "from src.revised_case_normalization.py.group import group\n",
    "from src.revised_case_normalization.py.update_db import update_db"
   ]
  },
  {
   "cell_type": "code",
   "execution_count": 2,
   "id": "4710c532",
   "metadata": {
    "collapsed": false,
    "jupyter": {
     "outputs_hidden": false
    }
   },
   "outputs": [
    {
     "name": "stdout",
     "output_type": "stream",
     "text": [
      "FileInfo(path='/home/jovyan/work/src/revised_case_normalization/raw_data/HI_Aarau_Birshof_ST. Anna.xlsx', hospital_name_db='Hirslanden Aarau', year='2018', sheet='Aarau 2018')\n"
     ]
    }
   ],
   "source": [
    "file_info = FileInfo(os.path.join(ROOT_DIR, 'raw_data/HI_Aarau_Birshof_ST. Anna.xlsx'),\n",
    "                     'Hirslanden Aarau', '2018', 'Aarau 2018')\n",
    "\n",
    "print(file_info)"
   ]
  },
  {
   "cell_type": "code",
   "execution_count": 3,
   "id": "8c8b27df",
   "metadata": {
    "collapsed": false,
    "jupyter": {
     "outputs_hidden": false
    }
   },
   "outputs": [
    {
     "name": "stderr",
     "output_type": "stream",
     "text": [
      "2022-11-03 22:45:02.825 | INFO     | src.revised_case_normalization.py.normalize:normalize:35 - Read 17 cases for Hirslanden Aarau 2018\n",
      "2022-11-03 22:45:02.831 | INFO     | src.revised_case_normalization.py.normalize:normalize:59 - TYPES:\n",
      "tranche                   string\n",
      "datum                     string\n",
      "case_id                   object\n",
      "patient_id                object\n",
      "kkik                      string\n",
      "gender                    string\n",
      "age_years                  int64\n",
      "bfs_code                  string\n",
      "duration_of_stay           int64\n",
      "pflegetage neu            string\n",
      "pccl                       int64\n",
      "pccl neu                  string\n",
      "old_pd                    string\n",
      "primary_diagnosis         string\n",
      "added_icds                string\n",
      "removed_icds              string\n",
      "added_chops               string\n",
      "removed_chops             string\n",
      "drg                       string\n",
      "drg neu                   string\n",
      "cw alt                    string\n",
      "cw neu                    string\n",
      "cw-änderung möglich       string\n",
      "cw-änderung akzeptiert    string\n",
      "kommentar dtod            string\n",
      "kodierer aarau            string\n",
      "bemerkung aarau           string\n",
      "kassenbeanstandung        string\n",
      "case_id_norm              object\n",
      "dtype: object\n",
      "2022-11-03 22:45:02.837 | INFO     | src.utils.dataframe_utils:validate_icd_codes:68 - Validated ICD codes in 'added_icds' and stored them into 'added_icds': All rows contain valid codes\n",
      "2022-11-03 22:45:02.840 | INFO     | src.utils.dataframe_utils:validate_icd_codes:68 - Validated ICD codes in 'removed_icds' and stored them into 'removed_icds': All rows contain valid codes\n",
      "2022-11-03 22:45:02.842 | INFO     | src.utils.dataframe_utils:validate_chop_codes:106 - Validated CHOP codes in 'added_chops' and stored them into 'added_chops': All rows contain valid codes\n",
      "2022-11-03 22:45:02.844 | INFO     | src.utils.dataframe_utils:validate_chop_codes:106 - Validated CHOP codes in 'removed_chops' and stored them into 'removed_chops': All rows contain valid codes\n",
      "2022-11-03 22:45:02.845 | INFO     | src.utils.dataframe_utils:remove_duplicated_chops:32 - Removing duplicated CHOP codes due to different casing ...\n",
      "2022-11-03 22:45:02.848 | INFO     | src.utils.dataframe_utils:validate_pd_revised_sd:158 - Validated redundant PD info in 'added_icds'/'removed_icds': All rows contain valid codes\n",
      "2022-11-03 22:45:02.851 | SUCCESS  | src.revised_case_normalization.py.normalize:normalize:106 - Completed validation\n"
     ]
    },
    {
     "data": {
      "text/plain": "       case_id  patient_id gender  age_years  duration_of_stay case_id_norm old_pd primary_diagnosis bfs_code  pccl   drg     added_icds removed_icds added_chops removed_chops\n0   0041623461  0001059029      W         77                 2     41623461  I7024             I7024     M100     3  F59E        [J4481]      [J4483]          []            []\n1   0041665678  0002043896      M         82                17     41665678  I5001             I5001     M100     3  F62C          [R18]           []          []            []\n2   0041698586  0022177655      M         93                 2     41698586  I7024             I7024     M100     3  F59E         [I743]           []          []            []\n3   0041719219  0001339311      M         91                 4     41719219   I495              I495     M100     3  F71B         [N182]           []          []            []\n4     41777951  0022177655      M         93                 2     41777951  I7024             I7024     M100     0  F59E   [N184, T828]           []          []            []\n5   0041648887  0001709901      M         64                 8     41648887  I5014             I5014     M100     3  F62C        [E1191]      [E1190]          []            []\n6   0041709615  0001749027      W         58                 5     41709615   N390              N390     M100     3  L63D         [B370]           []          []            []\n7   0041772407  0022190089      W         79                 9     41772407   N390              N390     M100     3  L63D         [E440]           []    [890A32]            []\n8   0041769953  0022179314      M         70                 6     41769953  N1781             N1781     M100     3  L60D        [J9610]           []          []            []\n9   0041803251  0001720953      M         51                 8     41803251   I208              I208     M200     3  F06D        [J9580]           []          []            []\n10  0041806695  0010094333      M         65                12     41806695   D384              D384     M200     3  E05B  [I483, J9580]           []          []            []\n11  0041817227  0001750180      M         76                 9     41817227   I350              I350     M200     3  F03D          [J91]           []          []            []\n12  0041820204  0001662235      M         84                 5     41820204   N390              N390     M100     3  L63D        [E1191]      [E1190]          []            []\n13  0041827376  0022197460      W         78                13     41827376  S2206             S2206     M100     3  I10B         [D689]           []          []            []\n14  0041855716  0001152852      W         78                 1     41855716  I7022             I7022     M100     3  F59F         [D686]           []          []            []\n15  0041896979  0022154384      W         80                 7     41896979  M4807             M4807     M200     3  I09C        [D6823]           []          []            []\n16  0041912675  0010435827      M         84                18     41912675   C250              C250     M200     3  H01B         [F058]           []          []            []",
      "text/html": "<div>\n<style scoped>\n    .dataframe tbody tr th:only-of-type {\n        vertical-align: middle;\n    }\n\n    .dataframe tbody tr th {\n        vertical-align: top;\n    }\n\n    .dataframe thead th {\n        text-align: right;\n    }\n</style>\n<table border=\"1\" class=\"dataframe\">\n  <thead>\n    <tr style=\"text-align: right;\">\n      <th></th>\n      <th>case_id</th>\n      <th>patient_id</th>\n      <th>gender</th>\n      <th>age_years</th>\n      <th>duration_of_stay</th>\n      <th>case_id_norm</th>\n      <th>old_pd</th>\n      <th>primary_diagnosis</th>\n      <th>bfs_code</th>\n      <th>pccl</th>\n      <th>drg</th>\n      <th>added_icds</th>\n      <th>removed_icds</th>\n      <th>added_chops</th>\n      <th>removed_chops</th>\n    </tr>\n  </thead>\n  <tbody>\n    <tr>\n      <th>0</th>\n      <td>0041623461</td>\n      <td>0001059029</td>\n      <td>W</td>\n      <td>77</td>\n      <td>2</td>\n      <td>41623461</td>\n      <td>I7024</td>\n      <td>I7024</td>\n      <td>M100</td>\n      <td>3</td>\n      <td>F59E</td>\n      <td>[J4481]</td>\n      <td>[J4483]</td>\n      <td>[]</td>\n      <td>[]</td>\n    </tr>\n    <tr>\n      <th>1</th>\n      <td>0041665678</td>\n      <td>0002043896</td>\n      <td>M</td>\n      <td>82</td>\n      <td>17</td>\n      <td>41665678</td>\n      <td>I5001</td>\n      <td>I5001</td>\n      <td>M100</td>\n      <td>3</td>\n      <td>F62C</td>\n      <td>[R18]</td>\n      <td>[]</td>\n      <td>[]</td>\n      <td>[]</td>\n    </tr>\n    <tr>\n      <th>2</th>\n      <td>0041698586</td>\n      <td>0022177655</td>\n      <td>M</td>\n      <td>93</td>\n      <td>2</td>\n      <td>41698586</td>\n      <td>I7024</td>\n      <td>I7024</td>\n      <td>M100</td>\n      <td>3</td>\n      <td>F59E</td>\n      <td>[I743]</td>\n      <td>[]</td>\n      <td>[]</td>\n      <td>[]</td>\n    </tr>\n    <tr>\n      <th>3</th>\n      <td>0041719219</td>\n      <td>0001339311</td>\n      <td>M</td>\n      <td>91</td>\n      <td>4</td>\n      <td>41719219</td>\n      <td>I495</td>\n      <td>I495</td>\n      <td>M100</td>\n      <td>3</td>\n      <td>F71B</td>\n      <td>[N182]</td>\n      <td>[]</td>\n      <td>[]</td>\n      <td>[]</td>\n    </tr>\n    <tr>\n      <th>4</th>\n      <td>41777951</td>\n      <td>0022177655</td>\n      <td>M</td>\n      <td>93</td>\n      <td>2</td>\n      <td>41777951</td>\n      <td>I7024</td>\n      <td>I7024</td>\n      <td>M100</td>\n      <td>0</td>\n      <td>F59E</td>\n      <td>[N184, T828]</td>\n      <td>[]</td>\n      <td>[]</td>\n      <td>[]</td>\n    </tr>\n    <tr>\n      <th>5</th>\n      <td>0041648887</td>\n      <td>0001709901</td>\n      <td>M</td>\n      <td>64</td>\n      <td>8</td>\n      <td>41648887</td>\n      <td>I5014</td>\n      <td>I5014</td>\n      <td>M100</td>\n      <td>3</td>\n      <td>F62C</td>\n      <td>[E1191]</td>\n      <td>[E1190]</td>\n      <td>[]</td>\n      <td>[]</td>\n    </tr>\n    <tr>\n      <th>6</th>\n      <td>0041709615</td>\n      <td>0001749027</td>\n      <td>W</td>\n      <td>58</td>\n      <td>5</td>\n      <td>41709615</td>\n      <td>N390</td>\n      <td>N390</td>\n      <td>M100</td>\n      <td>3</td>\n      <td>L63D</td>\n      <td>[B370]</td>\n      <td>[]</td>\n      <td>[]</td>\n      <td>[]</td>\n    </tr>\n    <tr>\n      <th>7</th>\n      <td>0041772407</td>\n      <td>0022190089</td>\n      <td>W</td>\n      <td>79</td>\n      <td>9</td>\n      <td>41772407</td>\n      <td>N390</td>\n      <td>N390</td>\n      <td>M100</td>\n      <td>3</td>\n      <td>L63D</td>\n      <td>[E440]</td>\n      <td>[]</td>\n      <td>[890A32]</td>\n      <td>[]</td>\n    </tr>\n    <tr>\n      <th>8</th>\n      <td>0041769953</td>\n      <td>0022179314</td>\n      <td>M</td>\n      <td>70</td>\n      <td>6</td>\n      <td>41769953</td>\n      <td>N1781</td>\n      <td>N1781</td>\n      <td>M100</td>\n      <td>3</td>\n      <td>L60D</td>\n      <td>[J9610]</td>\n      <td>[]</td>\n      <td>[]</td>\n      <td>[]</td>\n    </tr>\n    <tr>\n      <th>9</th>\n      <td>0041803251</td>\n      <td>0001720953</td>\n      <td>M</td>\n      <td>51</td>\n      <td>8</td>\n      <td>41803251</td>\n      <td>I208</td>\n      <td>I208</td>\n      <td>M200</td>\n      <td>3</td>\n      <td>F06D</td>\n      <td>[J9580]</td>\n      <td>[]</td>\n      <td>[]</td>\n      <td>[]</td>\n    </tr>\n    <tr>\n      <th>10</th>\n      <td>0041806695</td>\n      <td>0010094333</td>\n      <td>M</td>\n      <td>65</td>\n      <td>12</td>\n      <td>41806695</td>\n      <td>D384</td>\n      <td>D384</td>\n      <td>M200</td>\n      <td>3</td>\n      <td>E05B</td>\n      <td>[I483, J9580]</td>\n      <td>[]</td>\n      <td>[]</td>\n      <td>[]</td>\n    </tr>\n    <tr>\n      <th>11</th>\n      <td>0041817227</td>\n      <td>0001750180</td>\n      <td>M</td>\n      <td>76</td>\n      <td>9</td>\n      <td>41817227</td>\n      <td>I350</td>\n      <td>I350</td>\n      <td>M200</td>\n      <td>3</td>\n      <td>F03D</td>\n      <td>[J91]</td>\n      <td>[]</td>\n      <td>[]</td>\n      <td>[]</td>\n    </tr>\n    <tr>\n      <th>12</th>\n      <td>0041820204</td>\n      <td>0001662235</td>\n      <td>M</td>\n      <td>84</td>\n      <td>5</td>\n      <td>41820204</td>\n      <td>N390</td>\n      <td>N390</td>\n      <td>M100</td>\n      <td>3</td>\n      <td>L63D</td>\n      <td>[E1191]</td>\n      <td>[E1190]</td>\n      <td>[]</td>\n      <td>[]</td>\n    </tr>\n    <tr>\n      <th>13</th>\n      <td>0041827376</td>\n      <td>0022197460</td>\n      <td>W</td>\n      <td>78</td>\n      <td>13</td>\n      <td>41827376</td>\n      <td>S2206</td>\n      <td>S2206</td>\n      <td>M100</td>\n      <td>3</td>\n      <td>I10B</td>\n      <td>[D689]</td>\n      <td>[]</td>\n      <td>[]</td>\n      <td>[]</td>\n    </tr>\n    <tr>\n      <th>14</th>\n      <td>0041855716</td>\n      <td>0001152852</td>\n      <td>W</td>\n      <td>78</td>\n      <td>1</td>\n      <td>41855716</td>\n      <td>I7022</td>\n      <td>I7022</td>\n      <td>M100</td>\n      <td>3</td>\n      <td>F59F</td>\n      <td>[D686]</td>\n      <td>[]</td>\n      <td>[]</td>\n      <td>[]</td>\n    </tr>\n    <tr>\n      <th>15</th>\n      <td>0041896979</td>\n      <td>0022154384</td>\n      <td>W</td>\n      <td>80</td>\n      <td>7</td>\n      <td>41896979</td>\n      <td>M4807</td>\n      <td>M4807</td>\n      <td>M200</td>\n      <td>3</td>\n      <td>I09C</td>\n      <td>[D6823]</td>\n      <td>[]</td>\n      <td>[]</td>\n      <td>[]</td>\n    </tr>\n    <tr>\n      <th>16</th>\n      <td>0041912675</td>\n      <td>0010435827</td>\n      <td>M</td>\n      <td>84</td>\n      <td>18</td>\n      <td>41912675</td>\n      <td>C250</td>\n      <td>C250</td>\n      <td>M200</td>\n      <td>3</td>\n      <td>H01B</td>\n      <td>[F058]</td>\n      <td>[]</td>\n      <td>[]</td>\n      <td>[]</td>\n    </tr>\n  </tbody>\n</table>\n</div>"
     },
     "execution_count": 3,
     "metadata": {},
     "output_type": "execute_result"
    }
   ],
   "source": [
    "revised_cases_df = normalize(file_info)\n",
    "revised_cases_df"
   ]
  },
  {
   "cell_type": "markdown",
   "id": "a6796573",
   "metadata": {
    "tags": []
   },
   "source": [
    "# Match revised DtoD data with the BfS data from the database"
   ]
  },
  {
   "cell_type": "code",
   "execution_count": 4,
   "id": "65408537-cd4a-4b7c-a785-0db424378909",
   "metadata": {},
   "outputs": [
    {
     "name": "stderr",
     "output_type": "stream",
     "text": [
      "2022-11-03 22:45:05.185 | INFO     | src.service.bfs_cases_db_service:get_sociodemographics_for_hospital_year:125 - Read 10112 rows from the DB, for the hospital 'Hirslanden Aarau' in 2018\n"
     ]
    },
    {
     "data": {
      "text/plain": "    aimedic_id     case_id primary_diagnosis                      secondary_diagnoses  primary_procedure                                                                               secondary_procedures gender  age_years  age_days  gestation_age  duration_of_stay  ventilation_hours grouper_admission_type admission_date  admission_weight grouper_discharge_type discharge_date\n0       115875  0041623461             I7024   [I7020, Z9588, I1090, N184, N390, ...]  395014:R:20180111  [395011:R:20180111, 397510:R:20180111, 004C12::20180111, 005599:R:20180111, 0043:R:20180111, ...]      W         77         0              0                 2                  0                     01     2018-01-10                 0                     00     2018-01-12\n1       116472  0041648887             I5014  [I5001, I2513, I2522, N184, I1320, ...]   99B712::20180117                                              [8945::20180117, 860A06:L:20180122, 948X40::20180122]      M         64         0              0                 8                  8                     01     2018-01-17                 0                     00     2018-01-25\n2       116851  0041665678             I5001     [J91, I5013, I7020, L304, N185, ...]   887211::20180130                         [887963:B:20180130, 887964:B:20180130, 887975:B:20180130, 3491:R:20180201]      M         82         0              0                17                  0                     01     2018-01-30                 0                     00     2018-02-16\n3       117722  0041698586             I7024                [Z9588, N184, Z922, I743]  395011:R:20180315  [397511:R:20180315, 395021:R:20180315, 397510:R:20180315, 0042::20180315, 004B18:R:20180315, ...]      M         93         0              0                 2                  0                     01     2018-03-15                 0                     00     2018-03-17\n4       117999  0041709615              N390     [B965, R400, G3520, F446, Z936, ...]   992217::20180309                                                                                                 []      W         58         0              0                 5                  0                     01     2018-03-09                 0                     00     2018-03-14\n5       118215  0041719219              I495    [I484, I480, I1090, I2519, I340, ...]   893909::20180317                                                                                                 []      M         91         0              0                 4                  0                     01     2018-03-17                 0                     00     2018-03-21\n6       119991  0041769953             N1781   [Y579, I1100, I480, I5001, G2010, ...]   992909::20180519                                                                                                 []      M         70         0              0                 6                  0                     01     2018-05-19                 0                     00     2018-05-25\n7       120078  0041772407              N390    [B962, A4158, R650, E1190, E788, ...]   992217::20180524                                                                                         [890A32::]      W         79         0              0                 9                  0                     01     2018-05-23                 0                     00     2018-06-01\n8       120279    41777951             I7024          [Z9588, Z921, Z922, N184, T828]  395014:R:20180601   [004C12::20180601, 395011:R:20180601, 0043::20180601, 004B1A:R:20180601, 004B46:R:20180601, ...]      M         93         0              0                 2                  0                     01     2018-05-31                 0                     00     2018-06-02\n9       121288  0041803251              I208        [I2513, D684, U6912, E788, J9580]   361226::20180705        [361121::20180705, 361122::20180705, 361C14::20180705, 3963::20180705, 3964::20180705, ...]      M         51         0              0                 8                  8                     01     2018-07-04                 0                     00     2018-07-12\n10      121387  0041806695              D384      [J948, S2738, Y69, I480, Y849, ...]   343X23::20180712     [0782::20180712, 3223:L:20180712, 009A13::20180712, 044999:L:20180712, 040799:L:20180712, ...]      M         65         0              0                12                  0                     01     2018-07-11                 0                     00     2018-07-23\n11      121768  0041817227              I350   [I2512, I1090, E788, F171, I7101, ...]   35F121::20180924        [361122::20180924, 361C11::20180924, 396111::20180924, 3963::20180924, 3964::20180924, ...]      M         76         0              0                 9                  8                     01     2018-09-23                 0                     00     2018-10-02\n12      121893  0041820204              N390    [A418, R650, N182, I2519, I1090, ...]   992217::20180728                                                                                                 []      M         84         0              0                 5                  0                     01     2018-07-28                 0                     00     2018-08-02\n13      122148  0041827376             S2206          [X599, E559, G2000, E538, D689]   816610::20180814                           [889714::20180810, 883840::20180810, 774920::20180814, 948X40::20180816]      W         78         0              0                13                  0                     01     2018-08-09                 0                     00     2018-08-22\n14      123146  0041855716             I7022    [T828, Y828, I708, I1090, Z9588, ...]  395014:L:20180918   [004C12::20180918, 395011:L:20180918, 0041::20180918, 004B18:L:20180918, 004B45:L:20180918, ...]      W         78         0              0                 1                  0                     01     2018-09-18                 0                     00     2018-09-19\n15      124638  0041896979             M4807    [G553, M511, G551, M4316, M4856, ...]     8108::20181207       [816310::20181207, 030936::20181207, 030991::20181207, 036::20181207, 785035::20181207, ...]      W         80         0              0                 7                  0                     01     2018-12-06                 0                     00     2018-12-13\n16      125114  0041912675              C250     [C772, K831, I1090, N183, Z867, ...]   525110::20181203                                             [403X29::20181203, 009A13::20181203, 99B712::20181203]      M         84         0              0                18                  0                     01     2018-11-27                 0                     00     2018-12-15",
      "text/html": "<div>\n<style scoped>\n    .dataframe tbody tr th:only-of-type {\n        vertical-align: middle;\n    }\n\n    .dataframe tbody tr th {\n        vertical-align: top;\n    }\n\n    .dataframe thead th {\n        text-align: right;\n    }\n</style>\n<table border=\"1\" class=\"dataframe\">\n  <thead>\n    <tr style=\"text-align: right;\">\n      <th></th>\n      <th>aimedic_id</th>\n      <th>case_id</th>\n      <th>primary_diagnosis</th>\n      <th>secondary_diagnoses</th>\n      <th>primary_procedure</th>\n      <th>secondary_procedures</th>\n      <th>gender</th>\n      <th>age_years</th>\n      <th>age_days</th>\n      <th>gestation_age</th>\n      <th>duration_of_stay</th>\n      <th>ventilation_hours</th>\n      <th>grouper_admission_type</th>\n      <th>admission_date</th>\n      <th>admission_weight</th>\n      <th>grouper_discharge_type</th>\n      <th>discharge_date</th>\n    </tr>\n  </thead>\n  <tbody>\n    <tr>\n      <th>0</th>\n      <td>115875</td>\n      <td>0041623461</td>\n      <td>I7024</td>\n      <td>[I7020, Z9588, I1090, N184, N390, ...]</td>\n      <td>395014:R:20180111</td>\n      <td>[395011:R:20180111, 397510:R:20180111, 004C12::20180111, 005599:R:20180111, 0043:R:20180111, ...]</td>\n      <td>W</td>\n      <td>77</td>\n      <td>0</td>\n      <td>0</td>\n      <td>2</td>\n      <td>0</td>\n      <td>01</td>\n      <td>2018-01-10</td>\n      <td>0</td>\n      <td>00</td>\n      <td>2018-01-12</td>\n    </tr>\n    <tr>\n      <th>1</th>\n      <td>116472</td>\n      <td>0041648887</td>\n      <td>I5014</td>\n      <td>[I5001, I2513, I2522, N184, I1320, ...]</td>\n      <td>99B712::20180117</td>\n      <td>[8945::20180117, 860A06:L:20180122, 948X40::20180122]</td>\n      <td>M</td>\n      <td>64</td>\n      <td>0</td>\n      <td>0</td>\n      <td>8</td>\n      <td>8</td>\n      <td>01</td>\n      <td>2018-01-17</td>\n      <td>0</td>\n      <td>00</td>\n      <td>2018-01-25</td>\n    </tr>\n    <tr>\n      <th>2</th>\n      <td>116851</td>\n      <td>0041665678</td>\n      <td>I5001</td>\n      <td>[J91, I5013, I7020, L304, N185, ...]</td>\n      <td>887211::20180130</td>\n      <td>[887963:B:20180130, 887964:B:20180130, 887975:B:20180130, 3491:R:20180201]</td>\n      <td>M</td>\n      <td>82</td>\n      <td>0</td>\n      <td>0</td>\n      <td>17</td>\n      <td>0</td>\n      <td>01</td>\n      <td>2018-01-30</td>\n      <td>0</td>\n      <td>00</td>\n      <td>2018-02-16</td>\n    </tr>\n    <tr>\n      <th>3</th>\n      <td>117722</td>\n      <td>0041698586</td>\n      <td>I7024</td>\n      <td>[Z9588, N184, Z922, I743]</td>\n      <td>395011:R:20180315</td>\n      <td>[397511:R:20180315, 395021:R:20180315, 397510:R:20180315, 0042::20180315, 004B18:R:20180315, ...]</td>\n      <td>M</td>\n      <td>93</td>\n      <td>0</td>\n      <td>0</td>\n      <td>2</td>\n      <td>0</td>\n      <td>01</td>\n      <td>2018-03-15</td>\n      <td>0</td>\n      <td>00</td>\n      <td>2018-03-17</td>\n    </tr>\n    <tr>\n      <th>4</th>\n      <td>117999</td>\n      <td>0041709615</td>\n      <td>N390</td>\n      <td>[B965, R400, G3520, F446, Z936, ...]</td>\n      <td>992217::20180309</td>\n      <td>[]</td>\n      <td>W</td>\n      <td>58</td>\n      <td>0</td>\n      <td>0</td>\n      <td>5</td>\n      <td>0</td>\n      <td>01</td>\n      <td>2018-03-09</td>\n      <td>0</td>\n      <td>00</td>\n      <td>2018-03-14</td>\n    </tr>\n    <tr>\n      <th>5</th>\n      <td>118215</td>\n      <td>0041719219</td>\n      <td>I495</td>\n      <td>[I484, I480, I1090, I2519, I340, ...]</td>\n      <td>893909::20180317</td>\n      <td>[]</td>\n      <td>M</td>\n      <td>91</td>\n      <td>0</td>\n      <td>0</td>\n      <td>4</td>\n      <td>0</td>\n      <td>01</td>\n      <td>2018-03-17</td>\n      <td>0</td>\n      <td>00</td>\n      <td>2018-03-21</td>\n    </tr>\n    <tr>\n      <th>6</th>\n      <td>119991</td>\n      <td>0041769953</td>\n      <td>N1781</td>\n      <td>[Y579, I1100, I480, I5001, G2010, ...]</td>\n      <td>992909::20180519</td>\n      <td>[]</td>\n      <td>M</td>\n      <td>70</td>\n      <td>0</td>\n      <td>0</td>\n      <td>6</td>\n      <td>0</td>\n      <td>01</td>\n      <td>2018-05-19</td>\n      <td>0</td>\n      <td>00</td>\n      <td>2018-05-25</td>\n    </tr>\n    <tr>\n      <th>7</th>\n      <td>120078</td>\n      <td>0041772407</td>\n      <td>N390</td>\n      <td>[B962, A4158, R650, E1190, E788, ...]</td>\n      <td>992217::20180524</td>\n      <td>[890A32::]</td>\n      <td>W</td>\n      <td>79</td>\n      <td>0</td>\n      <td>0</td>\n      <td>9</td>\n      <td>0</td>\n      <td>01</td>\n      <td>2018-05-23</td>\n      <td>0</td>\n      <td>00</td>\n      <td>2018-06-01</td>\n    </tr>\n    <tr>\n      <th>8</th>\n      <td>120279</td>\n      <td>41777951</td>\n      <td>I7024</td>\n      <td>[Z9588, Z921, Z922, N184, T828]</td>\n      <td>395014:R:20180601</td>\n      <td>[004C12::20180601, 395011:R:20180601, 0043::20180601, 004B1A:R:20180601, 004B46:R:20180601, ...]</td>\n      <td>M</td>\n      <td>93</td>\n      <td>0</td>\n      <td>0</td>\n      <td>2</td>\n      <td>0</td>\n      <td>01</td>\n      <td>2018-05-31</td>\n      <td>0</td>\n      <td>00</td>\n      <td>2018-06-02</td>\n    </tr>\n    <tr>\n      <th>9</th>\n      <td>121288</td>\n      <td>0041803251</td>\n      <td>I208</td>\n      <td>[I2513, D684, U6912, E788, J9580]</td>\n      <td>361226::20180705</td>\n      <td>[361121::20180705, 361122::20180705, 361C14::20180705, 3963::20180705, 3964::20180705, ...]</td>\n      <td>M</td>\n      <td>51</td>\n      <td>0</td>\n      <td>0</td>\n      <td>8</td>\n      <td>8</td>\n      <td>01</td>\n      <td>2018-07-04</td>\n      <td>0</td>\n      <td>00</td>\n      <td>2018-07-12</td>\n    </tr>\n    <tr>\n      <th>10</th>\n      <td>121387</td>\n      <td>0041806695</td>\n      <td>D384</td>\n      <td>[J948, S2738, Y69, I480, Y849, ...]</td>\n      <td>343X23::20180712</td>\n      <td>[0782::20180712, 3223:L:20180712, 009A13::20180712, 044999:L:20180712, 040799:L:20180712, ...]</td>\n      <td>M</td>\n      <td>65</td>\n      <td>0</td>\n      <td>0</td>\n      <td>12</td>\n      <td>0</td>\n      <td>01</td>\n      <td>2018-07-11</td>\n      <td>0</td>\n      <td>00</td>\n      <td>2018-07-23</td>\n    </tr>\n    <tr>\n      <th>11</th>\n      <td>121768</td>\n      <td>0041817227</td>\n      <td>I350</td>\n      <td>[I2512, I1090, E788, F171, I7101, ...]</td>\n      <td>35F121::20180924</td>\n      <td>[361122::20180924, 361C11::20180924, 396111::20180924, 3963::20180924, 3964::20180924, ...]</td>\n      <td>M</td>\n      <td>76</td>\n      <td>0</td>\n      <td>0</td>\n      <td>9</td>\n      <td>8</td>\n      <td>01</td>\n      <td>2018-09-23</td>\n      <td>0</td>\n      <td>00</td>\n      <td>2018-10-02</td>\n    </tr>\n    <tr>\n      <th>12</th>\n      <td>121893</td>\n      <td>0041820204</td>\n      <td>N390</td>\n      <td>[A418, R650, N182, I2519, I1090, ...]</td>\n      <td>992217::20180728</td>\n      <td>[]</td>\n      <td>M</td>\n      <td>84</td>\n      <td>0</td>\n      <td>0</td>\n      <td>5</td>\n      <td>0</td>\n      <td>01</td>\n      <td>2018-07-28</td>\n      <td>0</td>\n      <td>00</td>\n      <td>2018-08-02</td>\n    </tr>\n    <tr>\n      <th>13</th>\n      <td>122148</td>\n      <td>0041827376</td>\n      <td>S2206</td>\n      <td>[X599, E559, G2000, E538, D689]</td>\n      <td>816610::20180814</td>\n      <td>[889714::20180810, 883840::20180810, 774920::20180814, 948X40::20180816]</td>\n      <td>W</td>\n      <td>78</td>\n      <td>0</td>\n      <td>0</td>\n      <td>13</td>\n      <td>0</td>\n      <td>01</td>\n      <td>2018-08-09</td>\n      <td>0</td>\n      <td>00</td>\n      <td>2018-08-22</td>\n    </tr>\n    <tr>\n      <th>14</th>\n      <td>123146</td>\n      <td>0041855716</td>\n      <td>I7022</td>\n      <td>[T828, Y828, I708, I1090, Z9588, ...]</td>\n      <td>395014:L:20180918</td>\n      <td>[004C12::20180918, 395011:L:20180918, 0041::20180918, 004B18:L:20180918, 004B45:L:20180918, ...]</td>\n      <td>W</td>\n      <td>78</td>\n      <td>0</td>\n      <td>0</td>\n      <td>1</td>\n      <td>0</td>\n      <td>01</td>\n      <td>2018-09-18</td>\n      <td>0</td>\n      <td>00</td>\n      <td>2018-09-19</td>\n    </tr>\n    <tr>\n      <th>15</th>\n      <td>124638</td>\n      <td>0041896979</td>\n      <td>M4807</td>\n      <td>[G553, M511, G551, M4316, M4856, ...]</td>\n      <td>8108::20181207</td>\n      <td>[816310::20181207, 030936::20181207, 030991::20181207, 036::20181207, 785035::20181207, ...]</td>\n      <td>W</td>\n      <td>80</td>\n      <td>0</td>\n      <td>0</td>\n      <td>7</td>\n      <td>0</td>\n      <td>01</td>\n      <td>2018-12-06</td>\n      <td>0</td>\n      <td>00</td>\n      <td>2018-12-13</td>\n    </tr>\n    <tr>\n      <th>16</th>\n      <td>125114</td>\n      <td>0041912675</td>\n      <td>C250</td>\n      <td>[C772, K831, I1090, N183, Z867, ...]</td>\n      <td>525110::20181203</td>\n      <td>[403X29::20181203, 009A13::20181203, 99B712::20181203]</td>\n      <td>M</td>\n      <td>84</td>\n      <td>0</td>\n      <td>0</td>\n      <td>18</td>\n      <td>0</td>\n      <td>01</td>\n      <td>2018-11-27</td>\n      <td>0</td>\n      <td>00</td>\n      <td>2018-12-15</td>\n    </tr>\n  </tbody>\n</table>\n</div>"
     },
     "execution_count": 4,
     "metadata": {},
     "output_type": "execute_result"
    }
   ],
   "source": [
    "cols_to_join = list(VALIDATION_COLS)\n",
    "cols_to_join.remove(CASE_ID_COL)\n",
    "cols_to_join.append(NORM_CASE_ID_COL)\n",
    "# Ignore the patient ID in this dataset, because it is encrypted\n",
    "cols_to_join.remove(PATIENT_ID_COL)\n",
    "\n",
    "revised_cases, unmatched = revise(file_info, revised_cases_df, validation_cols=cols_to_join)\n",
    "revised_cases"
   ]
  },
  {
   "cell_type": "code",
   "execution_count": 5,
   "id": "3ac0315b",
   "metadata": {
    "collapsed": false,
    "jupyter": {
     "outputs_hidden": false
    }
   },
   "outputs": [],
   "source": [
    "if unmatched.shape[0] > 0:\n",
    "    unmatched"
   ]
  },
  {
   "cell_type": "code",
   "execution_count": 6,
   "id": "a85b9247-c1dc-4072-a1dd-7b61c8251eeb",
   "metadata": {},
   "outputs": [
    {
     "name": "stderr",
     "output_type": "stream",
     "text": [
      "2022-11-03 22:45:06.040 | INFO     | src.revised_case_normalization.py.group:group:12 - Grouping 17 cases ...\n",
      "2022-11-03 22:45:07.626 | SUCCESS  | src.revised_case_normalization.py.group:group:16 - Grouped 17 cases into: 17 revisions, 168 diagnoses rows, 108 procedure rows\n"
     ]
    }
   ],
   "source": [
    "revisions_update, diagnoses_update, procedures_update = group(revised_cases)"
   ]
  },
  {
   "cell_type": "code",
   "execution_count": 7,
   "id": "04e44c03",
   "metadata": {
    "collapsed": false,
    "jupyter": {
     "outputs_hidden": false
    }
   },
   "outputs": [
    {
     "name": "stderr",
     "output_type": "stream",
     "text": [
      "2022-11-03 22:45:07.635 | INFO     | src.service.bfs_cases_db_service:insert_revised_cases_into_revisions:339 - Trying to insert 17 cases into the 'Revisions' table ...\n",
      "2022-11-03 22:45:08.232 | INFO     | src.service.bfs_cases_db_service:insert_revised_cases_into_revisions:365 - Deleted 204 rows from the \"Revisions\" table, which is about to be updated\n",
      "2022-11-03 22:45:08.329 | SUCCESS  | src.service.bfs_cases_db_service:insert_revised_cases_into_revisions:376 - Inserted 17 cases into the 'Revisions' table\n",
      "2022-11-03 22:45:08.330 | INFO     | src.service.bfs_cases_db_service:insert_revised_cases_into_diagnoses:388 - Trying to insert 168 rows into the 'Diagnoses' table ...\n",
      "2022-11-03 22:45:09.998 | SUCCESS  | src.service.bfs_cases_db_service:insert_revised_cases_into_diagnoses:426 - Inserted 168 rows into the 'Diagnoses' table\n",
      "2022-11-03 22:45:09.999 | INFO     | src.service.bfs_cases_db_service:insert_revised_cases_into_procedures:436 - Trying to insert 108 rows into the 'Procedures' table ...\n",
      "2022-11-03 22:45:11.750 | SUCCESS  | src.service.bfs_cases_db_service:insert_revised_cases_into_procedures:482 - Inserted 108 rows into the 'Procedures' table\n"
     ]
    }
   ],
   "source": [
    "update_db(revisions_update, diagnoses_update, procedures_update)"
   ]
  }
 ],
 "metadata": {
  "kernelspec": {
   "display_name": "Python 3 (ipykernel)",
   "language": "python",
   "name": "python3"
  },
  "language_info": {
   "codemirror_mode": {
    "name": "ipython",
    "version": 3
   },
   "file_extension": ".py",
   "mimetype": "text/x-python",
   "name": "python",
   "nbconvert_exporter": "python",
   "pygments_lexer": "ipython3",
   "version": "3.10.6"
  }
 },
 "nbformat": 4,
 "nbformat_minor": 5
}
