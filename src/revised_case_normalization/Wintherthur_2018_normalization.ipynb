{
 "cells": [
  {
   "cell_type": "raw",
   "id": "79034e7c-e3bb-4c7c-990a-2965e28678e2",
   "metadata": {
    "pycharm": {
     "name": "#%% md\n"
    }
   },
   "source": [
    "# Revised case normalization for Winterthur 2018\n",
    "\n",
    "This jupyter notebook is used to normalize the revised case from DtoD.\n",
    "\n",
    "Before runing the notebook, raw_data folder need to added to the root directory\n",
    "\n",
    "The raw data folder can be find here: https://aimedic.sharepoint.com/:f:/s/dev/Ejx_A1dg8gtPumFknOWOh0oBi6ofx9hctYiq3c-0gH9vYA?e=UmcgrS\n",
    "\n",
    "Normalization:\n",
    "\n",
    "-  Convert the column names to the name used in the Database\n",
    "-  Delete cases which is empty in the follow columns VALIDATION_COLS: 'case_id', 'patient_id', 'gender', 'age_years', duration_of_stay',  'pccl',  'drg'\n",
    "- choose neccessary columns COLS_TO_SELECT: case_id, patient_id, gender, age_years, duration_of_stay, pccl, drg, pd, bfs_code, added_icds, removed_icds, added_chops, removed_chops\n",
    "- still need to do (TODO):    \n",
    "    -  Check CHOP upper/lowercase\n",
    "    -  Check whether the PD changed. If it did, new and old PD are stored together with added and removed ICDs, respectively\n",
    "    -  Pad case IDs with 0s\n",
    "    -  Write function to validate cases\n"
   ]
  },
  {
   "cell_type": "code",
   "execution_count": 1,
   "id": "2acf8333-0c08-4555-b245-1f378f5b9f1f",
   "metadata": {
    "pycharm": {
     "is_executing": true,
     "name": "#%%\n"
    }
   },
   "outputs": [
    {
     "name": "stderr",
     "output_type": "stream",
     "text": [
      "/home/jovyan/work/src/models/BfsCase.py:5: SAWarning: On class 'BfsCase', Column object 'drg_cost_weight' named directly multiple times, only one will be used: drg_cost_weight, effective_cost_weight. Consider using orm.synonym instead\n",
      "  class BfsCase(Base):\n"
     ]
    }
   ],
   "source": [
    "import pandas as pd\n",
    "import os\n",
    "from dataclasses import dataclass, field\n",
    "import sys\n",
    "sys.path.insert(0, '/home/jovyan/work')\n",
    "sys.path.insert(1, '/home/jovyan/work/src')\n",
    "sys.path.insert(2, '/home/jovyan/work/src/service')\n",
    "\n",
    "from service import bfs_cases_db_service as bfs_db\n",
    "\n",
    "from py.global_configs import *\n",
    "from py.normalize import normalize"
   ]
  },
  {
   "cell_type": "code",
   "execution_count": 2,
   "id": "7afa747d-1bf5-4644-9e9e-847a96e08dc2",
   "metadata": {},
   "outputs": [
    {
     "data": {
      "text/plain": [
       "dict_keys(['Hirslanden Salem 2017', 'Hirslanden Beau Site 2017', 'Hirslanden Linde 2017', 'Hirslanden Linde 2018', 'Hirslanden Salem 2018', 'Hirslanden Beau Site 2018', 'Winterthur 2017', 'Winterthur 2018', 'Winterthur 2019', 'Winterthur 2020'])"
      ]
     },
     "execution_count": 2,
     "metadata": {},
     "output_type": "execute_result"
    }
   ],
   "source": [
    "# check all the file name\n",
    "\n",
    "FILES_TO_ANALYZE.keys()\n"
   ]
  },
  {
   "cell_type": "code",
   "execution_count": 3,
   "id": "3745ce47-813d-4cbe-b275-25417714a5a6",
   "metadata": {},
   "outputs": [
    {
     "data": {
      "text/plain": [
       "FileInfo(path='/home/jovyan/work/src/revised_case_normalization/raw_data/Winterthur.xlsx', hospital_name_db='KSW', year='2018', sheets=['Änderungen Winterthur 2018'])"
      ]
     },
     "execution_count": 3,
     "metadata": {},
     "output_type": "execute_result"
    }
   ],
   "source": [
    "file = FILES_TO_ANALYZE['Winterthur 2018']\n",
    "file"
   ]
  },
  {
   "cell_type": "code",
   "execution_count": 4,
   "id": "9b6a51f2-b09d-4f13-8233-39e382bd56df",
   "metadata": {},
   "outputs": [
    {
     "ename": "AssertionError",
     "evalue": "",
     "output_type": "error",
     "traceback": [
      "\u001b[0;31m---------------------------------------------------------------------------\u001b[0m",
      "\u001b[0;31mAssertionError\u001b[0m                            Traceback (most recent call last)",
      "Cell \u001b[0;32mIn [4], line 1\u001b[0m\n\u001b[0;32m----> 1\u001b[0m df_revised_case_d2d \u001b[38;5;241m=\u001b[39m normalize(file, \u001b[38;5;241m0\u001b[39m)\n",
      "File \u001b[0;32m~/work/src/revised_case_normalization/py/normalize.py:20\u001b[0m, in \u001b[0;36mnormalize\u001b[0;34m(fi, excel_sheet_idx, columns_mapper, columns_to_cast, columns_to_lstrip)\u001b[0m\n\u001b[1;32m     18\u001b[0m df\u001b[38;5;241m.\u001b[39mcolumns \u001b[38;5;241m=\u001b[39m [c\u001b[38;5;241m.\u001b[39mlower() \u001b[38;5;28;01mfor\u001b[39;00m c \u001b[38;5;129;01min\u001b[39;00m df\u001b[38;5;241m.\u001b[39mcolumns]\n\u001b[1;32m     19\u001b[0m \u001b[38;5;66;03m# Renaming columns that don't exist is a no-op. Make sure that all names actually exist\u001b[39;00m\n\u001b[0;32m---> 20\u001b[0m \u001b[38;5;28;01massert\u001b[39;00m(\u001b[38;5;28mlen\u001b[39m(\u001b[38;5;28mset\u001b[39m(columns_mapper\u001b[38;5;241m.\u001b[39mkeys())\u001b[38;5;241m.\u001b[39mdifference(df\u001b[38;5;241m.\u001b[39mcolumns)) \u001b[38;5;241m==\u001b[39m \u001b[38;5;241m0\u001b[39m)\n\u001b[1;32m     21\u001b[0m df\u001b[38;5;241m.\u001b[39mrename(columns\u001b[38;5;241m=\u001b[39mcolumns_mapper, inplace\u001b[38;5;241m=\u001b[39m\u001b[38;5;28;01mTrue\u001b[39;00m)\n\u001b[1;32m     22\u001b[0m \u001b[38;5;28;01massert\u001b[39;00m(\u001b[38;5;28mlen\u001b[39m(\u001b[38;5;28mset\u001b[39m(COLS_TO_SELECT)\u001b[38;5;241m.\u001b[39mdifference(df\u001b[38;5;241m.\u001b[39mcolumns)) \u001b[38;5;241m==\u001b[39m \u001b[38;5;241m0\u001b[39m)\n",
      "\u001b[0;31mAssertionError\u001b[0m: "
     ]
    }
   ],
   "source": [
    "\n",
    "df_revised_case_d2d = normalize(file, 0)"
   ]
  },
  {
   "cell_type": "code",
   "execution_count": null,
   "id": "55005df3-0e31-4322-950a-f247d6b06c74",
   "metadata": {},
   "outputs": [],
   "source": [
    "# did not match becaue the column AdmNo is not exist"
   ]
  },
  {
   "cell_type": "code",
   "execution_count": null,
   "id": "c5bdeaa9-6854-4f37-9560-4525d6b30682",
   "metadata": {},
   "outputs": [],
   "source": [
    "df_revised_case_d2d.head()"
   ]
  },
  {
   "cell_type": "markdown",
   "id": "4558e4f8",
   "metadata": {
    "pycharm": {
     "name": "#%% md\n"
    }
   },
   "source": [
    "# match to the database\n"
   ]
  },
  {
   "cell_type": "code",
   "execution_count": null,
   "id": "ac5bc674-a6b4-447a-a630-33d25180f9c4",
   "metadata": {},
   "outputs": [],
   "source": [
    "# get the case_id from revised_case\n",
    "\n",
    "revised_case_id = df_revised_case_d2d['case_id'].values\n",
    "revised_case_id"
   ]
  },
  {
   "cell_type": "code",
   "execution_count": null,
   "id": "01dcb99c-b01f-4808-b9c0-a450a2f3150e",
   "metadata": {},
   "outputs": [],
   "source": [
    "# match to the database\n",
    "revised_case_db = bfs_db.get_bfs_cases_by_ids(revised_case_id)\n",
    "revised_case_db.head()"
   ]
  },
  {
   "cell_type": "code",
   "execution_count": null,
   "id": "9cbccb57-930a-4882-a585-37f70e7d3e94",
   "metadata": {},
   "outputs": [],
   "source": [
    "# \n",
    "print('There are {} out of {} revised cases from DtoD that are matched with the database for {} {}'.format(len(revised_case_db), len(revised_case_id), file.hospital_name_db, file.year))"
   ]
  },
  {
   "cell_type": "code",
   "execution_count": null,
   "id": "265fbf94-6820-4b3b-8022-d699e44b35af",
   "metadata": {},
   "outputs": [],
   "source": [
    "# if we find the match cases, then we need to check if the case_id, gender, year....are match"
   ]
  }
 ],
 "metadata": {
  "kernelspec": {
   "display_name": "Python 3 (ipykernel)",
   "language": "python",
   "name": "python3"
  },
  "language_info": {
   "codemirror_mode": {
    "name": "ipython",
    "version": 3
   },
   "file_extension": ".py",
   "mimetype": "text/x-python",
   "name": "python",
   "nbconvert_exporter": "python",
   "pygments_lexer": "ipython3",
   "version": "3.10.6"
  }
 },
 "nbformat": 4,
 "nbformat_minor": 5
}
