{
 "cells": [
  {
   "cell_type": "raw",
   "id": "79034e7c-e3bb-4c7c-990a-2965e28678e2",
   "metadata": {
    "pycharm": {
     "name": "#%% md\n"
    }
   },
   "source": [
    "# Revised case normalization for Winterthur 2020\n",
    "\n",
    "This jupyter notebook is used to normalize the revised case from DtoD.\n",
    "\n",
    "Before runing the notebook, raw_data folder need to added to the root directory\n",
    "\n",
    "The raw data folder can be find here: https://aimedic.sharepoint.com/:f:/s/dev/Ejx_A1dg8gtPumFknOWOh0oBi6ofx9hctYiq3c-0gH9vYA?e=UmcgrS\n",
    "\n",
    "Normalization:\n",
    "\n",
    "-  Convert the column names to the name used in the Database\n",
    "-  Delete cases which is empty in the follow columns VALIDATION_COLS: 'case_id', 'patient_id', 'gender', 'age_years', duration_of_stay',  'pccl',  'drg'\n",
    "- choose neccessary columns COLS_TO_SELECT: case_id, patient_id, gender, age_years, duration_of_stay, pccl, drg, pd, bfs_code, added_icds, removed_icds, added_chops, removed_chops\n",
    "- still need to do (TODO):    \n",
    "    -  Check CHOP upper/lowercase\n",
    "    -  Check whether the PD changed. If it did, new and old PD are stored together with added and removed ICDs, respectively\n",
    "    -  Pad case IDs with 0s\n",
    "    -  Write function to validate cases\n"
   ]
  },
  {
   "cell_type": "code",
   "execution_count": 1,
   "id": "2acf8333-0c08-4555-b245-1f378f5b9f1f",
   "metadata": {
    "pycharm": {
     "is_executing": true,
     "name": "#%%\n"
    }
   },
   "outputs": [
    {
     "name": "stderr",
     "output_type": "stream",
     "text": [
      "/home/jovyan/work/src/models/BfsCase.py:5: SAWarning: On class 'BfsCase', Column object 'drg_cost_weight' named directly multiple times, only one will be used: drg_cost_weight, effective_cost_weight. Consider using orm.synonym instead\n",
      "  class BfsCase(Base):\n"
     ]
    }
   ],
   "source": [
    "import pandas as pd\n",
    "import os\n",
    "from dataclasses import dataclass, field\n",
    "import sys\n",
    "sys.path.insert(0, '/home/jovyan/work')\n",
    "sys.path.insert(1, '/home/jovyan/work/src')\n",
    "sys.path.insert(2, '/home/jovyan/work/src/service')\n",
    "\n",
    "from service import bfs_cases_db_service as bfs_db\n",
    "\n",
    "from py.global_configs import *\n",
    "from py.normalize import normalize"
   ]
  },
  {
   "cell_type": "code",
   "execution_count": 2,
   "id": "7afa747d-1bf5-4644-9e9e-847a96e08dc2",
   "metadata": {},
   "outputs": [
    {
     "data": {
      "text/plain": [
       "dict_keys(['Hirslanden Salem 2017', 'Hirslanden Beau Site 2017', 'Hirslanden Linde 2017', 'Hirslanden Linde 2018', 'Hirslanden Salem 2018', 'Hirslanden Beau Site 2018', 'Winterthur 2017', 'Winterthur 2018', 'Winterthur 2019', 'Winterthur 2020'])"
      ]
     },
     "execution_count": 2,
     "metadata": {},
     "output_type": "execute_result"
    }
   ],
   "source": [
    "# check all the file name\n",
    "\n",
    "FILES_TO_ANALYZE.keys()\n"
   ]
  },
  {
   "cell_type": "code",
   "execution_count": 3,
   "id": "3745ce47-813d-4cbe-b275-25417714a5a6",
   "metadata": {},
   "outputs": [
    {
     "data": {
      "text/plain": [
       "FileInfo(path='/home/jovyan/work/src/revised_case_normalization/raw_data/Winterthur.xlsx', hospital_name_db='KSW', year='2020', sheets=['Änderungen_Winterthur_2020'])"
      ]
     },
     "execution_count": 3,
     "metadata": {},
     "output_type": "execute_result"
    }
   ],
   "source": [
    "file = FILES_TO_ANALYZE['Winterthur 2020']\n",
    "file"
   ]
  },
  {
   "cell_type": "code",
   "execution_count": 4,
   "id": "9b6a51f2-b09d-4f13-8233-39e382bd56df",
   "metadata": {},
   "outputs": [
    {
     "name": "stdout",
     "output_type": "stream",
     "text": [
      "Read 214 cases for KSW 2020\n",
      "41/214 rows were deleted because contained NaNs\n",
      "TYPES:\n",
      "case_id             string\n",
      "patient_id          string\n",
      "gender              string\n",
      "age_years            int64\n",
      "duration_of_stay     int64\n",
      "pccl                 int64\n",
      "drg                 string\n",
      "pd                  string\n",
      "bfs_code            string\n",
      "added_icds          string\n",
      "removed_icds        string\n",
      "added_chops         string\n",
      "removed_chops       string\n",
      "dtype: object\n"
     ]
    }
   ],
   "source": [
    "\n",
    "df_revised_case_d2d = normalize(file, 0)"
   ]
  },
  {
   "cell_type": "code",
   "execution_count": 5,
   "id": "c5bdeaa9-6854-4f37-9560-4525d6b30682",
   "metadata": {},
   "outputs": [
    {
     "data": {
      "text/html": [
       "<div>\n",
       "<style scoped>\n",
       "    .dataframe tbody tr th:only-of-type {\n",
       "        vertical-align: middle;\n",
       "    }\n",
       "\n",
       "    .dataframe tbody tr th {\n",
       "        vertical-align: top;\n",
       "    }\n",
       "\n",
       "    .dataframe thead th {\n",
       "        text-align: right;\n",
       "    }\n",
       "</style>\n",
       "<table border=\"1\" class=\"dataframe\">\n",
       "  <thead>\n",
       "    <tr style=\"text-align: right;\">\n",
       "      <th></th>\n",
       "      <th>case_id</th>\n",
       "      <th>patient_id</th>\n",
       "      <th>gender</th>\n",
       "      <th>age_years</th>\n",
       "      <th>duration_of_stay</th>\n",
       "      <th>pccl</th>\n",
       "      <th>drg</th>\n",
       "      <th>pd</th>\n",
       "      <th>bfs_code</th>\n",
       "      <th>added_icds</th>\n",
       "      <th>removed_icds</th>\n",
       "      <th>added_chops</th>\n",
       "      <th>removed_chops</th>\n",
       "    </tr>\n",
       "  </thead>\n",
       "  <tbody>\n",
       "    <tr>\n",
       "      <th>0</th>\n",
       "      <td>20049284027</td>\n",
       "      <td>E66EFC8932E6E4BF</td>\n",
       "      <td>M</td>\n",
       "      <td>66</td>\n",
       "      <td>25</td>\n",
       "      <td>3</td>\n",
       "      <td>H01B</td>\n",
       "      <td>C241</td>\n",
       "      <td>M200</td>\n",
       "      <td>K830</td>\n",
       "      <td>&lt;NA&gt;</td>\n",
       "      <td>009a13::20200310,009b11::20200310,99b711::2020...</td>\n",
       "      <td>009A13::20200310,009B11::20200310,99B711::2020...</td>\n",
       "    </tr>\n",
       "    <tr>\n",
       "      <th>1</th>\n",
       "      <td>20134514027</td>\n",
       "      <td>89F52CDD41B3C501</td>\n",
       "      <td>M</td>\n",
       "      <td>73</td>\n",
       "      <td>5</td>\n",
       "      <td>3</td>\n",
       "      <td>F24E</td>\n",
       "      <td>I210</td>\n",
       "      <td>M990</td>\n",
       "      <td>S2240</td>\n",
       "      <td>&lt;NA&gt;</td>\n",
       "      <td>99b811::20200402,39c111::20200402,39c211::2020...</td>\n",
       "      <td>99B811::20200402,0040::20200402,39C111::202004...</td>\n",
       "    </tr>\n",
       "    <tr>\n",
       "      <th>2</th>\n",
       "      <td>20071661027</td>\n",
       "      <td>C183570C2D12CCAF</td>\n",
       "      <td>M</td>\n",
       "      <td>61</td>\n",
       "      <td>10</td>\n",
       "      <td>3</td>\n",
       "      <td>R61D</td>\n",
       "      <td>C9000</td>\n",
       "      <td>M100</td>\n",
       "      <td>I483</td>\n",
       "      <td>&lt;NA&gt;</td>\n",
       "      <td>&lt;NA&gt;</td>\n",
       "      <td>&lt;NA&gt;</td>\n",
       "    </tr>\n",
       "    <tr>\n",
       "      <th>3</th>\n",
       "      <td>20350424027</td>\n",
       "      <td>E93C58A92B1946D2</td>\n",
       "      <td>W</td>\n",
       "      <td>77</td>\n",
       "      <td>10</td>\n",
       "      <td>3</td>\n",
       "      <td>I46D</td>\n",
       "      <td>M167</td>\n",
       "      <td>M200</td>\n",
       "      <td>D689</td>\n",
       "      <td>&lt;NA&gt;</td>\n",
       "      <td>990a::20200223,99b811::20200223</td>\n",
       "      <td>990A::20200223,99B811::20200223</td>\n",
       "    </tr>\n",
       "    <tr>\n",
       "      <th>4</th>\n",
       "      <td>20359514027</td>\n",
       "      <td>DE96E9E3453EADE4</td>\n",
       "      <td>W</td>\n",
       "      <td>80</td>\n",
       "      <td>6</td>\n",
       "      <td>3</td>\n",
       "      <td>H61B</td>\n",
       "      <td>C220</td>\n",
       "      <td>M100</td>\n",
       "      <td>K703,L8914</td>\n",
       "      <td>&lt;NA&gt;</td>\n",
       "      <td>938a12::20200406,938b11::20200404</td>\n",
       "      <td>938A12::20200406,938B11::20200404</td>\n",
       "    </tr>\n",
       "  </tbody>\n",
       "</table>\n",
       "</div>"
      ],
      "text/plain": [
       "       case_id        patient_id gender  age_years  duration_of_stay  pccl  \\\n",
       "0  20049284027  E66EFC8932E6E4BF      M         66                25     3   \n",
       "1  20134514027  89F52CDD41B3C501      M         73                 5     3   \n",
       "2  20071661027  C183570C2D12CCAF      M         61                10     3   \n",
       "3  20350424027  E93C58A92B1946D2      W         77                10     3   \n",
       "4  20359514027  DE96E9E3453EADE4      W         80                 6     3   \n",
       "\n",
       "    drg     pd bfs_code  added_icds removed_icds  \\\n",
       "0  H01B   C241     M200        K830         <NA>   \n",
       "1  F24E   I210     M990       S2240         <NA>   \n",
       "2  R61D  C9000     M100        I483         <NA>   \n",
       "3  I46D   M167     M200        D689         <NA>   \n",
       "4  H61B   C220     M100  K703,L8914         <NA>   \n",
       "\n",
       "                                         added_chops  \\\n",
       "0  009a13::20200310,009b11::20200310,99b711::2020...   \n",
       "1  99b811::20200402,39c111::20200402,39c211::2020...   \n",
       "2                                               <NA>   \n",
       "3                    990a::20200223,99b811::20200223   \n",
       "4                  938a12::20200406,938b11::20200404   \n",
       "\n",
       "                                       removed_chops  \n",
       "0  009A13::20200310,009B11::20200310,99B711::2020...  \n",
       "1  99B811::20200402,0040::20200402,39C111::202004...  \n",
       "2                                               <NA>  \n",
       "3                    990A::20200223,99B811::20200223  \n",
       "4                  938A12::20200406,938B11::20200404  "
      ]
     },
     "execution_count": 5,
     "metadata": {},
     "output_type": "execute_result"
    }
   ],
   "source": [
    "df_revised_case_d2d.head()"
   ]
  },
  {
   "cell_type": "markdown",
   "id": "4558e4f8",
   "metadata": {
    "pycharm": {
     "name": "#%% md\n"
    }
   },
   "source": [
    "# match to the database\n"
   ]
  },
  {
   "cell_type": "code",
   "execution_count": 6,
   "id": "ac5bc674-a6b4-447a-a630-33d25180f9c4",
   "metadata": {},
   "outputs": [
    {
     "data": {
      "text/plain": [
       "array(['20049284027', '20134514027', '20071661027', '20350424027',\n",
       "       '20359514027', '20367791027', '20510174027', '20579504027',\n",
       "       '20635331027', '20278604027', '20409191027', '20411774027',\n",
       "       '20421731027', '20526191027', '20535404027', '20542931027',\n",
       "       '20544584027', '20575544027', '20792504027', '20804984027',\n",
       "       '20806784027', '20907314027', '20956241027', '20983334027',\n",
       "       '21085301027', '21140504027', '21271661027', '21282461027',\n",
       "       '21343271027', '21344174027', '21374414027', '21375074027',\n",
       "       '21576701027', '20780261027', '20877614027', '20890334027',\n",
       "       '20892584027', '21021944027', '21178664027', '21182774027',\n",
       "       '21200444027', '21377834027', '21589064027', '21742871027',\n",
       "       '21774374027', '21819914027', '21838361027', '21849584027',\n",
       "       '21939614027', '22064054027', '22067114027', '22087391027',\n",
       "       '22180874027', '22199891027', '22276214027', '22304384027',\n",
       "       '21318644027', '21617564027', '21705461027', '21788144027',\n",
       "       '21809954027', '21867701027', '21873044027', '21920654027',\n",
       "       '22037861027', '22225661027', '20202224027', '22477214027',\n",
       "       '22690244027', '22784444027', '22787474027', '22822154027',\n",
       "       '22248644027', '22254374027', '22255034027', '22342871027',\n",
       "       '22344044027', '22375574027', '22378694027', '22398284027',\n",
       "       '22438034027', '22443764027', '22624274027', '22628234027',\n",
       "       '22628534027', '22633154027', '20110871027', '20333804027',\n",
       "       '20392244027', '20441201027', '20473001027', '20490074027',\n",
       "       '20597474027', '20747474027', '20879774027', '20891534027',\n",
       "       '20938631027', '20998661027', '22176701027', '22214054027',\n",
       "       '22378661027', '22511744027', '22717064027', '22724924027',\n",
       "       '22748924027', '22767914027', '22769804027', '22839404027',\n",
       "       '20194274027', '20317034027', '20320091027', '21099674027',\n",
       "       '21119774027', '21246101027', '21347201027', '21357914027',\n",
       "       '22078304027', '22211954027', '22488314027', '22738004027',\n",
       "       '22758134027', '22810424027', '22853414027', '22893104027',\n",
       "       '22920044027', '22933334027', '22935404027', '22940324027',\n",
       "       '22948304027', '20732564027', '20767331027', '21031004027',\n",
       "       '21260954027', '21320891027', '21964901027', '22342124027',\n",
       "       '20344964027', '20407064027', '20503091027', '20637284027',\n",
       "       '20924774027', '21170654027', '21174044027', '21181814027',\n",
       "       '20244191027', '21456584027', '22607024027', '22895864027',\n",
       "       '22898534027', '22953971027', '20702144027', '20846714027',\n",
       "       '21830744027', '20376044027', '21326864027', '21349814027',\n",
       "       '21894134027', '22297931027', '22821224027', '22910714027',\n",
       "       '22993364027', '20517434027', '21927614027', '22386284027',\n",
       "       '20030774027', '20387084027', '20650514027', '20753744027',\n",
       "       '20814284027', '20156534027', '20466614027', '22257944027',\n",
       "       '22420814027'], dtype=object)"
      ]
     },
     "execution_count": 6,
     "metadata": {},
     "output_type": "execute_result"
    }
   ],
   "source": [
    "# get the case_id from revised_case\n",
    "\n",
    "revised_case_id = df_revised_case_d2d['case_id'].values\n",
    "revised_case_id"
   ]
  },
  {
   "cell_type": "code",
   "execution_count": 7,
   "id": "01dcb99c-b01f-4808-b9c0-a450a2f3150e",
   "metadata": {},
   "outputs": [
    {
     "data": {
      "text/html": [
       "<div>\n",
       "<style scoped>\n",
       "    .dataframe tbody tr th:only-of-type {\n",
       "        vertical-align: middle;\n",
       "    }\n",
       "\n",
       "    .dataframe tbody tr th {\n",
       "        vertical-align: top;\n",
       "    }\n",
       "\n",
       "    .dataframe thead th {\n",
       "        text-align: right;\n",
       "    }\n",
       "</style>\n",
       "<table border=\"1\" class=\"dataframe\">\n",
       "  <thead>\n",
       "    <tr style=\"text-align: right;\">\n",
       "      <th></th>\n",
       "      <th>drg_cost_weight</th>\n",
       "      <th>aimedic_id</th>\n",
       "      <th>hospital_id</th>\n",
       "      <th>case_id</th>\n",
       "      <th>patient_id</th>\n",
       "      <th>age_years</th>\n",
       "      <th>age_days</th>\n",
       "      <th>gender</th>\n",
       "      <th>duration_of_stay</th>\n",
       "      <th>clinic_id</th>\n",
       "      <th>ventilation_hours</th>\n",
       "      <th>admission_weight</th>\n",
       "      <th>gestation_age</th>\n",
       "      <th>admission_date</th>\n",
       "      <th>admission_type</th>\n",
       "      <th>discharge_date</th>\n",
       "      <th>discharge_type</th>\n",
       "      <th>drg</th>\n",
       "      <th>adrg</th>\n",
       "      <th>pccl</th>\n",
       "    </tr>\n",
       "  </thead>\n",
       "  <tbody>\n",
       "    <tr>\n",
       "      <th>0</th>\n",
       "      <td>0.946</td>\n",
       "      <td>451004</td>\n",
       "      <td>13</td>\n",
       "      <td>20030774027</td>\n",
       "      <td>00230D81CCDE5371</td>\n",
       "      <td>59</td>\n",
       "      <td>0</td>\n",
       "      <td>M</td>\n",
       "      <td>10</td>\n",
       "      <td>16</td>\n",
       "      <td>0</td>\n",
       "      <td>0</td>\n",
       "      <td>0</td>\n",
       "      <td>2020-04-30</td>\n",
       "      <td>01</td>\n",
       "      <td>2020-05-10</td>\n",
       "      <td>00</td>\n",
       "      <td>G48C</td>\n",
       "      <td>G48</td>\n",
       "      <td>3</td>\n",
       "    </tr>\n",
       "    <tr>\n",
       "      <th>1</th>\n",
       "      <td>3.191</td>\n",
       "      <td>447945</td>\n",
       "      <td>13</td>\n",
       "      <td>20049284027</td>\n",
       "      <td>E66EFC8932E6E4BF</td>\n",
       "      <td>66</td>\n",
       "      <td>0</td>\n",
       "      <td>M</td>\n",
       "      <td>25</td>\n",
       "      <td>4</td>\n",
       "      <td>0</td>\n",
       "      <td>0</td>\n",
       "      <td>0</td>\n",
       "      <td>2020-03-09</td>\n",
       "      <td>01</td>\n",
       "      <td>2020-04-03</td>\n",
       "      <td>00</td>\n",
       "      <td>H01B</td>\n",
       "      <td>H01</td>\n",
       "      <td>3</td>\n",
       "    </tr>\n",
       "    <tr>\n",
       "      <th>2</th>\n",
       "      <td>0.799</td>\n",
       "      <td>444578</td>\n",
       "      <td>13</td>\n",
       "      <td>20071661027</td>\n",
       "      <td>C183570C2D12CCAF</td>\n",
       "      <td>61</td>\n",
       "      <td>0</td>\n",
       "      <td>M</td>\n",
       "      <td>10</td>\n",
       "      <td>3</td>\n",
       "      <td>0</td>\n",
       "      <td>0</td>\n",
       "      <td>0</td>\n",
       "      <td>2020-01-26</td>\n",
       "      <td>01</td>\n",
       "      <td>2020-02-05</td>\n",
       "      <td>00</td>\n",
       "      <td>R61D</td>\n",
       "      <td>R61</td>\n",
       "      <td>3</td>\n",
       "    </tr>\n",
       "    <tr>\n",
       "      <th>3</th>\n",
       "      <td>0.841</td>\n",
       "      <td>442410</td>\n",
       "      <td>13</td>\n",
       "      <td>20110871027</td>\n",
       "      <td>30D09E9567F27FB6</td>\n",
       "      <td>31</td>\n",
       "      <td>0</td>\n",
       "      <td>W</td>\n",
       "      <td>5</td>\n",
       "      <td>5</td>\n",
       "      <td>0</td>\n",
       "      <td>0</td>\n",
       "      <td>0</td>\n",
       "      <td>2019-12-30</td>\n",
       "      <td>01</td>\n",
       "      <td>2020-01-04</td>\n",
       "      <td>00</td>\n",
       "      <td>O01G</td>\n",
       "      <td>O01</td>\n",
       "      <td>0</td>\n",
       "    </tr>\n",
       "    <tr>\n",
       "      <th>4</th>\n",
       "      <td>1.303</td>\n",
       "      <td>449277</td>\n",
       "      <td>13</td>\n",
       "      <td>20134514027</td>\n",
       "      <td>89F52CDD41B3C501</td>\n",
       "      <td>73</td>\n",
       "      <td>0</td>\n",
       "      <td>M</td>\n",
       "      <td>5</td>\n",
       "      <td>16</td>\n",
       "      <td>0</td>\n",
       "      <td>0</td>\n",
       "      <td>0</td>\n",
       "      <td>2020-04-02</td>\n",
       "      <td>01</td>\n",
       "      <td>2020-04-07</td>\n",
       "      <td>00</td>\n",
       "      <td>F24E</td>\n",
       "      <td>F24</td>\n",
       "      <td>3</td>\n",
       "    </tr>\n",
       "  </tbody>\n",
       "</table>\n",
       "</div>"
      ],
      "text/plain": [
       "   drg_cost_weight  aimedic_id  hospital_id      case_id        patient_id  \\\n",
       "0            0.946      451004           13  20030774027  00230D81CCDE5371   \n",
       "1            3.191      447945           13  20049284027  E66EFC8932E6E4BF   \n",
       "2            0.799      444578           13  20071661027  C183570C2D12CCAF   \n",
       "3            0.841      442410           13  20110871027  30D09E9567F27FB6   \n",
       "4            1.303      449277           13  20134514027  89F52CDD41B3C501   \n",
       "\n",
       "   age_years  age_days gender  duration_of_stay  clinic_id  ventilation_hours  \\\n",
       "0         59         0      M                10         16                  0   \n",
       "1         66         0      M                25          4                  0   \n",
       "2         61         0      M                10          3                  0   \n",
       "3         31         0      W                 5          5                  0   \n",
       "4         73         0      M                 5         16                  0   \n",
       "\n",
       "   admission_weight  gestation_age admission_date admission_type  \\\n",
       "0                 0              0     2020-04-30             01   \n",
       "1                 0              0     2020-03-09             01   \n",
       "2                 0              0     2020-01-26             01   \n",
       "3                 0              0     2019-12-30             01   \n",
       "4                 0              0     2020-04-02             01   \n",
       "\n",
       "  discharge_date discharge_type   drg adrg  pccl  \n",
       "0     2020-05-10             00  G48C  G48     3  \n",
       "1     2020-04-03             00  H01B  H01     3  \n",
       "2     2020-02-05             00  R61D  R61     3  \n",
       "3     2020-01-04             00  O01G  O01     0  \n",
       "4     2020-04-07             00  F24E  F24     3  "
      ]
     },
     "execution_count": 7,
     "metadata": {},
     "output_type": "execute_result"
    }
   ],
   "source": [
    "# match to the database\n",
    "revised_case_db = bfs_db.get_bfs_cases_by_ids(revised_case_id)\n",
    "revised_case_db.head()"
   ]
  },
  {
   "cell_type": "code",
   "execution_count": 8,
   "id": "9cbccb57-930a-4882-a585-37f70e7d3e94",
   "metadata": {},
   "outputs": [
    {
     "name": "stdout",
     "output_type": "stream",
     "text": [
      "There are 172 out of 173 revised cases from DtoD that are matched with the database for KSW 2020\n"
     ]
    }
   ],
   "source": [
    "# \n",
    "print('There are {} out of {} revised cases from DtoD that are matched with the database for {} {}'.format(len(revised_case_db), len(revised_case_id), file.hospital_name_db, file.year))"
   ]
  },
  {
   "cell_type": "code",
   "execution_count": 9,
   "id": "265fbf94-6820-4b3b-8022-d699e44b35af",
   "metadata": {},
   "outputs": [],
   "source": [
    "# if we find the match cases, then we need to check if the case_id, gender, year....are match"
   ]
  }
 ],
 "metadata": {
  "kernelspec": {
   "display_name": "Python 3 (ipykernel)",
   "language": "python",
   "name": "python3"
  },
  "language_info": {
   "codemirror_mode": {
    "name": "ipython",
    "version": 3
   },
   "file_extension": ".py",
   "mimetype": "text/x-python",
   "name": "python",
   "nbconvert_exporter": "python",
   "pygments_lexer": "ipython3",
   "version": "3.10.6"
  }
 },
 "nbformat": 4,
 "nbformat_minor": 5
}
