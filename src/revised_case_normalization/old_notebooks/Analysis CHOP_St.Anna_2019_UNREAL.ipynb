{
 "cells": [
  {
   "cell_type": "markdown",
   "id": "a4e2885d",
   "metadata": {
    "tags": []
   },
   "source": [
    "# Revised case normalization for St. Anna 2019\n",
    "\n",
    "Notes:\n",
    "\n",
    "- 17 of 17 revised DtoD cases were joined with the BFS cases from the DB.\n",
    "\n"
   ]
  },
  {
   "cell_type": "code",
   "execution_count": 1,
   "id": "d097a048",
   "metadata": {
    "collapsed": false,
    "jupyter": {
     "outputs_hidden": false
    }
   },
   "outputs": [],
   "source": [
    "import sys\n",
    "\n",
    "import pandas as pd\n",
    "import numpy as np\n",
    "\n",
    "from loguru import logger\n",
    "\n",
    "sys.path.insert(0, '/home/jovyan/work')\n",
    "\n",
    "from src.revised_case_normalization.py.global_configs import *\n",
    "from src.revised_case_normalization.py.normalize import normalize, remove_leading_zeros\n",
    "from src.service import bfs_cases_db_service as bfs_db\n",
    "from src.service.bfs_cases_db_service import session, get_sociodemographics_for_hospital_year, get_earliest_revisions_for_aimedic_ids, get_codes, apply_revisions\n",
    "from src.revised_case_normalization.py.format_for_grouper import format_for_grouper"
   ]
  },
  {
   "cell_type": "code",
   "execution_count": 2,
   "id": "4710c532",
   "metadata": {
    "collapsed": false,
    "jupyter": {
     "outputs_hidden": false
    }
   },
   "outputs": [
    {
     "name": "stdout",
     "output_type": "stream",
     "text": [
      "FileInfo(path='/home/jovyan/work/src/revised_case_normalization/raw_data/HI_Aarau_Birshof_ST. Anna.xlsx', hospital_name_db='Hirslanden St. Anna', year='2018', sheets=['KOPIE_Änderungen_ST. Anna_2018'])\n"
     ]
    }
   ],
   "source": [
    "file_info = FileInfo(\n",
    "        os.path.join(ROOT_DIR, 'raw_data/HI_Aarau_Birshof_ST. Anna.xlsx'),\n",
    "        'Hirslanden St. Anna',\n",
    "        '2018',\n",
    "        ['KOPIE_Änderungen_ST. Anna_2018'])\n",
    "\n",
    "print(file_info)"
   ]
  },
  {
   "cell_type": "code",
   "execution_count": 3,
   "id": "8c8b27df",
   "metadata": {
    "collapsed": false,
    "jupyter": {
     "outputs_hidden": false
    }
   },
   "outputs": [
    {
     "name": "stderr",
     "output_type": "stream",
     "text": [
      "2022-10-31 08:57:41.441 | INFO     | src.revised_case_normalization.py.normalize:normalize:35 - Read 51 cases for Hirslanden St. Anna 2018\n",
      "2022-10-31 08:57:41.444 | INFO     | src.revised_case_normalization.py.normalize:normalize:57 - TYPES:\n",
      "tranche                   string\n",
      "datum                     string\n",
      "case_id                   object\n",
      "patient_id                object\n",
      "gender                    string\n",
      "age_years                  int64\n",
      "bfs_code                  string\n",
      "duration_of_stay           int64\n",
      "pflegetage neu            string\n",
      "pccl                       int64\n",
      "pccl neu                  string\n",
      "old_pd                    string\n",
      "primary_diagnosis         string\n",
      "added_icds                string\n",
      "removed_icds              string\n",
      "added_chops               string\n",
      "removed_chops             string\n",
      "drg                       string\n",
      "drg neu                   string\n",
      "cw alt                    string\n",
      "cw neu                    string\n",
      "cw-änderung möglich       string\n",
      "cw änderung akzeptiert    string\n",
      "kommentar                 string\n",
      "kodierer                  string\n",
      "bemerkung                 string\n",
      "kassenbeanstandung        string\n",
      "case_id_norm              object\n",
      "dtype: object\n",
      "2022-10-31 08:57:41.451 | INFO     | src.utils.dataframe_utils:validate_icd_codes:68 - Validated ICD codes in 'added_icds' and stored them into 'added_icds': All rows contain valid codes\n",
      "2022-10-31 08:57:41.454 | INFO     | src.utils.dataframe_utils:validate_icd_codes:68 - Validated ICD codes in 'removed_icds' and stored them into 'removed_icds': All rows contain valid codes\n",
      "2022-10-31 08:57:41.458 | INFO     | src.utils.dataframe_utils:validate_chop_codes:106 - Validated CHOP codes in 'added_chops' and stored them into 'added_chops': All rows contain valid codes\n",
      "2022-10-31 08:57:41.462 | INFO     | src.utils.dataframe_utils:validate_chop_codes:106 - Validated CHOP codes in 'removed_chops' and stored them into 'removed_chops': All rows contain valid codes\n",
      "2022-10-31 08:57:41.462 | INFO     | src.utils.dataframe_utils:remove_duplicated_chops:32 - Removing duplicated CHOP codes due to different casing ...\n",
      "2022-10-31 08:57:41.468 | INFO     | src.utils.dataframe_utils:validate_pd_revised_sd:161 - Validated redundant PD info in 'added_icds'/'removed_icds': The following 1 rows were affected:\n",
      "row 20: primary diagnosis T813 => M8668\n",
      "2022-10-31 08:57:41.470 | SUCCESS  | src.revised_case_normalization.py.normalize:normalize:100 - Completed validation\n"
     ]
    }
   ],
   "source": [
    "df_revised_case_d2d = normalize(file_info, 0)"
   ]
  },
  {
   "cell_type": "code",
   "execution_count": 4,
   "id": "6c589452",
   "metadata": {
    "collapsed": false,
    "jupyter": {
     "outputs_hidden": false
    }
   },
   "outputs": [
    {
     "data": {
      "text/html": [
       "<div>\n",
       "<style scoped>\n",
       "    .dataframe tbody tr th:only-of-type {\n",
       "        vertical-align: middle;\n",
       "    }\n",
       "\n",
       "    .dataframe tbody tr th {\n",
       "        vertical-align: top;\n",
       "    }\n",
       "\n",
       "    .dataframe thead th {\n",
       "        text-align: right;\n",
       "    }\n",
       "</style>\n",
       "<table border=\"1\" class=\"dataframe\">\n",
       "  <thead>\n",
       "    <tr style=\"text-align: right;\">\n",
       "      <th></th>\n",
       "      <th>case_id</th>\n",
       "      <th>patient_id</th>\n",
       "      <th>gender</th>\n",
       "      <th>age_years</th>\n",
       "      <th>duration_of_stay</th>\n",
       "      <th>case_id_norm</th>\n",
       "      <th>old_pd</th>\n",
       "      <th>primary_diagnosis</th>\n",
       "      <th>bfs_code</th>\n",
       "      <th>pccl</th>\n",
       "      <th>drg</th>\n",
       "      <th>added_icds</th>\n",
       "      <th>removed_icds</th>\n",
       "      <th>added_chops</th>\n",
       "      <th>removed_chops</th>\n",
       "    </tr>\n",
       "  </thead>\n",
       "  <tbody>\n",
       "    <tr>\n",
       "      <th>0</th>\n",
       "      <td>0009358410</td>\n",
       "      <td>EB395DA315D5B285</td>\n",
       "      <td>W</td>\n",
       "      <td>79</td>\n",
       "      <td>9</td>\n",
       "      <td>9358410</td>\n",
       "      <td>M169</td>\n",
       "      <td>M169</td>\n",
       "      <td>M200</td>\n",
       "      <td>3</td>\n",
       "      <td>I46C</td>\n",
       "      <td>[D62]</td>\n",
       "      <td>[D648]</td>\n",
       "      <td>[]</td>\n",
       "      <td>[]</td>\n",
       "    </tr>\n",
       "    <tr>\n",
       "      <th>1</th>\n",
       "      <td>0009364697</td>\n",
       "      <td>6586D083924C0E99</td>\n",
       "      <td>W</td>\n",
       "      <td>68</td>\n",
       "      <td>16</td>\n",
       "      <td>9364697</td>\n",
       "      <td>M4806</td>\n",
       "      <td>M4806</td>\n",
       "      <td>M200</td>\n",
       "      <td>3</td>\n",
       "      <td>I09C</td>\n",
       "      <td>[E1191]</td>\n",
       "      <td>[E1190]</td>\n",
       "      <td>[]</td>\n",
       "      <td>[]</td>\n",
       "    </tr>\n",
       "    <tr>\n",
       "      <th>2</th>\n",
       "      <td>0009366989</td>\n",
       "      <td>9FBF3AE4CEA4A950</td>\n",
       "      <td>M</td>\n",
       "      <td>27</td>\n",
       "      <td>16</td>\n",
       "      <td>9366989</td>\n",
       "      <td>M511</td>\n",
       "      <td>M511</td>\n",
       "      <td>M200</td>\n",
       "      <td>3</td>\n",
       "      <td>I10C</td>\n",
       "      <td>[B956]</td>\n",
       "      <td>[]</td>\n",
       "      <td>[]</td>\n",
       "      <td>[]</td>\n",
       "    </tr>\n",
       "    <tr>\n",
       "      <th>3</th>\n",
       "      <td>0009371704</td>\n",
       "      <td>FDE409238A9BEC4F</td>\n",
       "      <td>M</td>\n",
       "      <td>65</td>\n",
       "      <td>13</td>\n",
       "      <td>9371704</td>\n",
       "      <td>I5001</td>\n",
       "      <td>I5001</td>\n",
       "      <td>M100</td>\n",
       "      <td>3</td>\n",
       "      <td>F49C</td>\n",
       "      <td>[N183]</td>\n",
       "      <td>[]</td>\n",
       "      <td>[]</td>\n",
       "      <td>[]</td>\n",
       "    </tr>\n",
       "    <tr>\n",
       "      <th>4</th>\n",
       "      <td>0009375929</td>\n",
       "      <td>036F0863E37E3493</td>\n",
       "      <td>M</td>\n",
       "      <td>74</td>\n",
       "      <td>18</td>\n",
       "      <td>9375929</td>\n",
       "      <td>M4806</td>\n",
       "      <td>M4806</td>\n",
       "      <td>M200</td>\n",
       "      <td>3</td>\n",
       "      <td>I27C</td>\n",
       "      <td>[T846]</td>\n",
       "      <td>[T844]</td>\n",
       "      <td>[]</td>\n",
       "      <td>[]</td>\n",
       "    </tr>\n",
       "  </tbody>\n",
       "</table>\n",
       "</div>"
      ],
      "text/plain": [
       "      case_id        patient_id gender  age_years  duration_of_stay case_id_norm old_pd primary_diagnosis bfs_code  pccl   drg added_icds removed_icds added_chops removed_chops\n",
       "0  0009358410  EB395DA315D5B285      W         79                 9      9358410   M169              M169     M200     3  I46C      [D62]       [D648]          []            []\n",
       "1  0009364697  6586D083924C0E99      W         68                16      9364697  M4806             M4806     M200     3  I09C    [E1191]      [E1190]          []            []\n",
       "2  0009366989  9FBF3AE4CEA4A950      M         27                16      9366989   M511              M511     M200     3  I10C     [B956]           []          []            []\n",
       "3  0009371704  FDE409238A9BEC4F      M         65                13      9371704  I5001             I5001     M100     3  F49C     [N183]           []          []            []\n",
       "4  0009375929  036F0863E37E3493      M         74                18      9375929  M4806             M4806     M200     3  I27C     [T846]       [T844]          []            []"
      ]
     },
     "execution_count": 4,
     "metadata": {},
     "output_type": "execute_result"
    }
   ],
   "source": [
    "df_revised_case_d2d.head()"
   ]
  },
  {
   "cell_type": "markdown",
   "id": "a6796573",
   "metadata": {
    "tags": []
   },
   "source": [
    "# Match revised DtoD data with the BfS data from the database"
   ]
  },
  {
   "cell_type": "code",
   "execution_count": 5,
   "id": "65408537-cd4a-4b7c-a785-0db424378909",
   "metadata": {},
   "outputs": [
    {
     "name": "stderr",
     "output_type": "stream",
     "text": [
      "2022-10-31 08:57:42.768 | INFO     | src.service.bfs_cases_db_service:get_sociodemographics_for_hospital_year:124 - Read 12990 rows from the DB, for the hospital 'Hirslanden St. Anna' in 2018\n"
     ]
    },
    {
     "name": "stdout",
     "output_type": "stream",
     "text": [
      "   aimedic_id     case_id        patient_id  age_years  age_days  admission_weight  gestation_age gender admission_date grouper_admission_type discharge_date grouper_discharge_type  duration_of_stay  ventilation_hours case_id_norm\n",
      "0      138498  0009264434  E9E14AD826B70BFA         59         0                 0              0      M     2018-03-14                     01     2018-03-17                     00                 3                  0      9264434\n",
      "1      138499  0009268866  0EE461E7ED376814         58         0                 0              0      M     2018-01-11                     01     2018-01-16                     00                 5                  0      9268866\n",
      "2      138500  0009286976  AD0FB688816E4930         49         0                 0              0      W     2018-01-10                     01     2018-01-11                     00                 1                  0      9286976\n",
      "3      138501  0009306256  8AA6481F39077A85         29         0                 0              0      W     2017-12-28                     01     2018-01-02                     00                 5                  0      9306256\n",
      "4      138502  0009314499  7387A424F3247CB7         76         0                 0              0      M     2018-01-09                     01     2018-01-19                     00                10                  0      9314499\n"
     ]
    },
    {
     "data": {
      "text/plain": [
       "aimedic_id                 int64\n",
       "case_id                   object\n",
       "patient_id                object\n",
       "age_years                  int64\n",
       "age_days                   int64\n",
       "admission_weight           int64\n",
       "gestation_age              int64\n",
       "gender                    object\n",
       "admission_date            object\n",
       "grouper_admission_type    object\n",
       "discharge_date            object\n",
       "grouper_discharge_type    object\n",
       "duration_of_stay           int64\n",
       "ventilation_hours          int64\n",
       "case_id_norm              object\n",
       "dtype: object"
      ]
     },
     "execution_count": 5,
     "metadata": {},
     "output_type": "execute_result"
    }
   ],
   "source": [
    "cases_in_db = get_sociodemographics_for_hospital_year(file_info.hospital_name_db, int(file_info.year))\n",
    "cases_in_db[NORM_CASE_ID_COL] = cases_in_db[CASE_ID_COL].apply(remove_leading_zeros)\n",
    "print(cases_in_db.head())\n",
    "\n",
    "cases_in_db.dtypes"
   ]
  },
  {
   "cell_type": "code",
   "execution_count": 6,
   "id": "8362bdd0",
   "metadata": {
    "collapsed": false,
    "jupyter": {
     "outputs_hidden": false
    }
   },
   "outputs": [],
   "source": [
    "cols_to_join = list(VALIDATION_COLS)\n",
    "cols_to_join.remove(CASE_ID_COL)\n",
    "cols_to_join.append(NORM_CASE_ID_COL)\n",
    "\n",
    "cols_to_join.remove(PATIENT_ID_COL)\n",
    "\n",
    "# Merge cases in db with the revised cases\n",
    "\n",
    "joined = pd.merge(df_revised_case_d2d, cases_in_db,\n",
    "                  how='left',\n",
    "                  on=cols_to_join,\n",
    "                  suffixes=('', '_db'))\n"
   ]
  },
  {
   "cell_type": "code",
   "execution_count": 7,
   "id": "a114f1c6-2ae9-40b2-8eea-b503686a6457",
   "metadata": {},
   "outputs": [
    {
     "name": "stderr",
     "output_type": "stream",
     "text": [
      "2022-10-31 08:57:42.794 | INFO     | __main__:<module>:4 - 0 rows could not be matched, given ['age_years', 'case_id_norm', 'duration_of_stay', 'gender']\n"
     ]
    }
   ],
   "source": [
    "# Print out how many rows could not be matched\n",
    "unmatched = joined[joined[AIMEDIC_ID_COL].isna()]\n",
    "num_unmatched = unmatched.shape[0]\n",
    "logger.info(f'{num_unmatched} rows could not be matched, given {sorted(cols_to_join)}')\n"
   ]
  },
  {
   "cell_type": "code",
   "execution_count": 8,
   "id": "a85b9247-c1dc-4072-a1dd-7b61c8251eeb",
   "metadata": {},
   "outputs": [
    {
     "name": "stderr",
     "output_type": "stream",
     "text": [
      "2022-10-31 08:57:43.120 | INFO     | src.revised_case_normalization.py.format_for_grouper:format_for_grouper:91 - Formatted 51 cases\n"
     ]
    },
    {
     "data": {
      "text/plain": [
       "'143608;85;0;;M;20180429;01;20180507;00;8;0;S722|X599|Z9664|G2090|F03|F058|T509|R451|R443|R391|I519|Z880|G248|M5486|D62;793511::|948X40::|9900::|99B811::|883830::|990410:B:20180429;'"
      ]
     },
     "execution_count": 8,
     "metadata": {},
     "output_type": "execute_result"
    }
   ],
   "source": [
    "# Format joined dataset to the SwissDRG Batchgrouper 2017 Format \n",
    "\n",
    "grouper_input_data_string = format_for_grouper(joined)\n",
    "\n",
    "\n",
    "grouper_input_data_string[17]"
   ]
  },
  {
   "cell_type": "code",
   "execution_count": 9,
   "id": "bade6ed7-d9d3-41fb-a082-d559c1467340",
   "metadata": {},
   "outputs": [
    {
     "name": "stdout",
     "output_type": "stream",
     "text": [
      "[{\"DRG\" : \"I08C\", \"MDC\" : \"08\", \"PCCL\" : 4, \"GST\" : \"NORMAL_GROUP\"}, {\"DRG\" : \"E65A\", \"MDC\" : \"04\", \"PCCL\" : 4, \"GST\" : \"NORMAL_GROUP\"}, {\"DRG\" : \"I46A\", \"MDC\" : \"08\", \"PCCL\" : 4, \"GST\" : \"NORMAL_GROUP\"}]\n"
     ]
    }
   ],
   "source": [
    "import subprocess\n",
    "\n",
    "\n",
    "example_batch_line = \"\"\"257678;49;0;;M;20190531;01;20190607;00;7;0;A46|I5014|I1100|I480|Z921|F102|E039|K746;::;\"\"\"\n",
    "\n",
    "# add date to procedures\n",
    "# change ; with | at one spot\n",
    "test_df_line = \"\"\"17722;93;;;M;20180315;01;20180317;00;2;0;I7024|Z9588|N184|Z922|I743;395011::|397511::|395021::|397510::|0042::|004B18::|004B1A::|884911::|005599::|0046::|393012::;\"\"\"\n",
    "\n",
    "grouper_result = subprocess.check_output([\"java\",\n",
    "                                \"-cp\",\n",
    "                                \"/home/jovyan/work/resources/aimedic-grouper-assembly-0.0.0-SNAPSHOT.jar\",\n",
    "                                \"ch.aimedic.grouper.BatchGroupeOne\",\n",
    "                                grouper_input_data_string[6]\n",
    "                                #test_df_line,\n",
    "                                ]).decode(\"utf-8\")\n",
    "\n",
    "\n",
    "grouperResults = subprocess.check_output([\"java\",\n",
    "                                \"-cp\",\n",
    "                                \"/home/jovyan/work/resources/aimedic-grouper-assembly-0.0.0-SNAPSHOT.jar\",\n",
    "                                \"ch.aimedic.grouper.BatchGroupMany\",\n",
    "                                f'{grouper_input_data_string[17]}#{grouper_input_data_string[6]}#{grouper_input_data_string[13]}',\n",
    "                                \"#\"\n",
    "                                #test_df_line,\n",
    "                                ]).decode(\"utf-8\")\n",
    "\n",
    "print(grouperResults)"
   ]
  },
  {
   "cell_type": "code",
   "execution_count": 10,
   "id": "cd21268f-7f2c-400d-8420-e0601b23772d",
   "metadata": {},
   "outputs": [],
   "source": [
    "# TODO:\n",
    "# - Add medication \n",
    "# - Add and compare CHOP Codes for sideness and procedure date"
   ]
  }
 ],
 "metadata": {
  "kernelspec": {
   "display_name": "Python 3 (ipykernel)",
   "language": "python",
   "name": "python3"
  },
  "language_info": {
   "codemirror_mode": {
    "name": "ipython",
    "version": 3
   },
   "file_extension": ".py",
   "mimetype": "text/x-python",
   "name": "python",
   "nbconvert_exporter": "python",
   "pygments_lexer": "ipython3",
   "version": "3.10.6"
  }
 },
 "nbformat": 4,
 "nbformat_minor": 5
}
