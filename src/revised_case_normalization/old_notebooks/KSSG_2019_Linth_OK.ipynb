{
 "cells": [
  {
   "cell_type": "markdown",
   "id": "a4e2885d",
   "metadata": {
    "tags": []
   },
   "source": [
    "# Revised case normalization for KSSG Linth 2019\n",
    "\n",
    "Notes:\n",
    "\n",
    "- 17 of 17 revised DtoD cases were joined with the BFS cases from the DB.\n",
    "\n"
   ]
  },
  {
   "cell_type": "code",
   "execution_count": 1,
   "id": "d097a048",
   "metadata": {
    "collapsed": false,
    "jupyter": {
     "outputs_hidden": false
    }
   },
   "outputs": [],
   "source": [
    "import sys\n",
    "\n",
    "import pandas as pd\n",
    "import numpy as np\n",
    "\n",
    "from loguru import logger\n",
    "\n",
    "sys.path.insert(0, '/home/jovyan/work')\n",
    "\n",
    "from src.revised_case_normalization.py.global_configs import *\n",
    "from src.revised_case_normalization.py.normalize import normalize, remove_leading_zeros\n",
    "from src.service import bfs_cases_db_service as bfs_db\n",
    "from src.service.bfs_cases_db_service import session, get_sociodemographics_for_hospital_year, get_earliest_revisions_for_aimedic_ids, get_codes, apply_revisions\n",
    "from src.revised_case_normalization.py.format_for_grouper import format_for_grouper"
   ]
  },
  {
   "cell_type": "code",
   "execution_count": 2,
   "id": "4710c532",
   "metadata": {
    "collapsed": false,
    "jupyter": {
     "outputs_hidden": false
    }
   },
   "outputs": [
    {
     "name": "stdout",
     "output_type": "stream",
     "text": [
      "FileInfo(path='/home/jovyan/work/src/revised_case_normalization/raw_data/Linth_Toggenburg_SRRWS_2019.xlsx', hospital_name_db='KSSG Linth', year='2019', sheets=['Änderungen_Spital_Linth_2019'])\n"
     ]
    }
   ],
   "source": [
    "file_info = FileInfo(\n",
    "        os.path.join(ROOT_DIR, 'raw_data/Linth_Toggenburg_SRRWS_2019.xlsx'),\n",
    "        'KSSG Linth',\n",
    "        '2019',\n",
    "        ['Änderungen_Spital_Linth_2019'])\n",
    "\n",
    "print(file_info)"
   ]
  },
  {
   "cell_type": "code",
   "execution_count": 3,
   "id": "8c8b27df",
   "metadata": {
    "collapsed": false,
    "jupyter": {
     "outputs_hidden": false
    }
   },
   "outputs": [
    {
     "name": "stderr",
     "output_type": "stream",
     "text": [
      "2022-10-28 10:02:58.440 | INFO     | src.revised_case_normalization.py.normalize:normalize:35 - Read 15 cases for KSSG Linth 2019\n",
      "2022-10-28 10:02:58.444 | INFO     | src.revised_case_normalization.py.normalize:normalize:57 - TYPES:\n",
      "tranche                                string\n",
      "datum                                  string\n",
      "case_id                                object\n",
      "patient_id                             object\n",
      "kkik                                   string\n",
      "gender                                 string\n",
      "age_years                               int64\n",
      "bfs_code                               string\n",
      "duration_of_stay                        int64\n",
      "pflegetage neu                         string\n",
      "pccl                                    int64\n",
      "pccl neu                               string\n",
      "old_pd                                 string\n",
      "primary_diagnosis                      string\n",
      "added_icds                             string\n",
      "removed_icds                           string\n",
      "added_chops                            string\n",
      "removed_chops                          string\n",
      "drg                                    string\n",
      "drg neu                                string\n",
      "cw alt                                 string\n",
      "cw neu                                 string\n",
      "cw-änderung möglich                    string\n",
      "cw -änderung akzeptiert                string\n",
      "kommentar dtod                         string\n",
      "fälle akzeptiert/ storno               string\n",
      "fälle nicht akzeptiert/ kein storno    string\n",
      "begründung linth ablehnung             string\n",
      "arztanfrage gestellt                   string\n",
      "fallbesprechung                        string\n",
      "case_id_norm                           object\n",
      "dtype: object\n",
      "2022-10-28 10:02:58.449 | INFO     | src.utils.dataframe_utils:validate_icd_codes:68 - Validated ICD codes in 'added_icds' and stored them into 'added_icds': All rows contain valid codes\n",
      "2022-10-28 10:02:58.452 | INFO     | src.utils.dataframe_utils:validate_icd_codes:68 - Validated ICD codes in 'removed_icds' and stored them into 'removed_icds': All rows contain valid codes\n",
      "2022-10-28 10:02:58.454 | INFO     | src.utils.dataframe_utils:validate_chop_codes:106 - Validated CHOP codes in 'added_chops' and stored them into 'added_chops': All rows contain valid codes\n",
      "2022-10-28 10:02:58.456 | INFO     | src.utils.dataframe_utils:validate_chop_codes:106 - Validated CHOP codes in 'removed_chops' and stored them into 'removed_chops': All rows contain valid codes\n",
      "2022-10-28 10:02:58.456 | INFO     | src.utils.dataframe_utils:remove_duplicated_chops:32 - Removing duplicated CHOP codes due to different casing ...\n",
      "2022-10-28 10:02:58.460 | INFO     | src.utils.dataframe_utils:validate_pd_revised_sd:161 - Validated redundant PD info in 'added_icds'/'removed_icds': The following 3 rows were affected:\n",
      "row 8: primary diagnosis S701 => M6285\n",
      "row 9: primary diagnosis S501 => T7960\n",
      "row 11: primary diagnosis T8903 => T814\n",
      "2022-10-28 10:02:58.462 | SUCCESS  | src.revised_case_normalization.py.normalize:normalize:100 - Completed validation\n"
     ]
    }
   ],
   "source": [
    "df_revised_case_d2d = normalize(file_info, 0)"
   ]
  },
  {
   "cell_type": "code",
   "execution_count": 4,
   "id": "6c589452",
   "metadata": {
    "collapsed": false,
    "jupyter": {
     "outputs_hidden": false
    }
   },
   "outputs": [
    {
     "data": {
      "text/html": [
       "<div>\n",
       "<style scoped>\n",
       "    .dataframe tbody tr th:only-of-type {\n",
       "        vertical-align: middle;\n",
       "    }\n",
       "\n",
       "    .dataframe tbody tr th {\n",
       "        vertical-align: top;\n",
       "    }\n",
       "\n",
       "    .dataframe thead th {\n",
       "        text-align: right;\n",
       "    }\n",
       "</style>\n",
       "<table border=\"1\" class=\"dataframe\">\n",
       "  <thead>\n",
       "    <tr style=\"text-align: right;\">\n",
       "      <th></th>\n",
       "      <th>case_id</th>\n",
       "      <th>patient_id</th>\n",
       "      <th>gender</th>\n",
       "      <th>age_years</th>\n",
       "      <th>duration_of_stay</th>\n",
       "      <th>case_id_norm</th>\n",
       "      <th>old_pd</th>\n",
       "      <th>primary_diagnosis</th>\n",
       "      <th>bfs_code</th>\n",
       "      <th>pccl</th>\n",
       "      <th>drg</th>\n",
       "      <th>added_icds</th>\n",
       "      <th>removed_icds</th>\n",
       "      <th>added_chops</th>\n",
       "      <th>removed_chops</th>\n",
       "    </tr>\n",
       "  </thead>\n",
       "  <tbody>\n",
       "    <tr>\n",
       "      <th>0</th>\n",
       "      <td>3108134918</td>\n",
       "      <td>DDB3BDB39DE3F695</td>\n",
       "      <td>M</td>\n",
       "      <td>49</td>\n",
       "      <td>7</td>\n",
       "      <td>3108134918</td>\n",
       "      <td>A46</td>\n",
       "      <td>A46</td>\n",
       "      <td>M100</td>\n",
       "      <td>3</td>\n",
       "      <td>J64C</td>\n",
       "      <td>[K746]</td>\n",
       "      <td>[]</td>\n",
       "      <td>[]</td>\n",
       "      <td>[]</td>\n",
       "    </tr>\n",
       "    <tr>\n",
       "      <th>1</th>\n",
       "      <td>3108136936</td>\n",
       "      <td>1C6A9D7FAA9A7548</td>\n",
       "      <td>W</td>\n",
       "      <td>89</td>\n",
       "      <td>5</td>\n",
       "      <td>3108136936</td>\n",
       "      <td>K226</td>\n",
       "      <td>K226</td>\n",
       "      <td>M100</td>\n",
       "      <td>2</td>\n",
       "      <td>G46C</td>\n",
       "      <td>[N184]</td>\n",
       "      <td>[D6833]</td>\n",
       "      <td>[]</td>\n",
       "      <td>[]</td>\n",
       "    </tr>\n",
       "    <tr>\n",
       "      <th>2</th>\n",
       "      <td>3108141419</td>\n",
       "      <td>69231F9C61534D42</td>\n",
       "      <td>M</td>\n",
       "      <td>69</td>\n",
       "      <td>10</td>\n",
       "      <td>3108141419</td>\n",
       "      <td>C183</td>\n",
       "      <td>C183</td>\n",
       "      <td>M100</td>\n",
       "      <td>2</td>\n",
       "      <td>G60B</td>\n",
       "      <td>[E43]</td>\n",
       "      <td>[]</td>\n",
       "      <td>[]</td>\n",
       "      <td>[]</td>\n",
       "    </tr>\n",
       "    <tr>\n",
       "      <th>3</th>\n",
       "      <td>3150158985</td>\n",
       "      <td>29F13DDB90E1976D</td>\n",
       "      <td>W</td>\n",
       "      <td>70</td>\n",
       "      <td>2</td>\n",
       "      <td>3150158985</td>\n",
       "      <td>K922</td>\n",
       "      <td>K922</td>\n",
       "      <td>M100</td>\n",
       "      <td>3</td>\n",
       "      <td>G48C</td>\n",
       "      <td>[D62, D684]</td>\n",
       "      <td>[D500]</td>\n",
       "      <td>[]</td>\n",
       "      <td>[]</td>\n",
       "    </tr>\n",
       "    <tr>\n",
       "      <th>4</th>\n",
       "      <td>3150164388</td>\n",
       "      <td>11721C6EB40D5BB5</td>\n",
       "      <td>M</td>\n",
       "      <td>78</td>\n",
       "      <td>5</td>\n",
       "      <td>3150164388</td>\n",
       "      <td>K250</td>\n",
       "      <td>K250</td>\n",
       "      <td>M100</td>\n",
       "      <td>2</td>\n",
       "      <td>G46C</td>\n",
       "      <td>[D62]</td>\n",
       "      <td>[]</td>\n",
       "      <td>[]</td>\n",
       "      <td>[]</td>\n",
       "    </tr>\n",
       "  </tbody>\n",
       "</table>\n",
       "</div>"
      ],
      "text/plain": [
       "      case_id        patient_id gender  age_years  duration_of_stay case_id_norm old_pd primary_diagnosis bfs_code  pccl   drg   added_icds removed_icds added_chops removed_chops\n",
       "0  3108134918  DDB3BDB39DE3F695      M         49                 7   3108134918    A46               A46     M100     3  J64C       [K746]           []          []            []\n",
       "1  3108136936  1C6A9D7FAA9A7548      W         89                 5   3108136936   K226              K226     M100     2  G46C       [N184]      [D6833]          []            []\n",
       "2  3108141419  69231F9C61534D42      M         69                10   3108141419   C183              C183     M100     2  G60B        [E43]           []          []            []\n",
       "3  3150158985  29F13DDB90E1976D      W         70                 2   3150158985   K922              K922     M100     3  G48C  [D62, D684]       [D500]          []            []\n",
       "4  3150164388  11721C6EB40D5BB5      M         78                 5   3150164388   K250              K250     M100     2  G46C        [D62]           []          []            []"
      ]
     },
     "execution_count": 4,
     "metadata": {},
     "output_type": "execute_result"
    }
   ],
   "source": [
    "df_revised_case_d2d.head()"
   ]
  },
  {
   "cell_type": "markdown",
   "id": "a6796573",
   "metadata": {
    "tags": []
   },
   "source": [
    "# Match revised DtoD data with the BfS data from the database"
   ]
  },
  {
   "cell_type": "code",
   "execution_count": 5,
   "id": "65408537-cd4a-4b7c-a785-0db424378909",
   "metadata": {},
   "outputs": [
    {
     "name": "stderr",
     "output_type": "stream",
     "text": [
      "2022-10-28 10:02:59.591 | INFO     | src.service.bfs_cases_db_service:get_sociodemographics_for_hospital_year:124 - Read 5110 rows from the DB, for the hospital 'KSSG Linth' in 2019\n"
     ]
    },
    {
     "name": "stdout",
     "output_type": "stream",
     "text": [
      "   aimedic_id     case_id        patient_id  age_years  age_days  admission_weight  gestation_age gender admission_date grouper_admission_type discharge_date grouper_discharge_type  duration_of_stay  ventilation_hours case_id_norm\n",
      "0      255491  3108130426  FA4FEB649DF59BF5         64         0                 0              0      W     2019-02-02                     01     2019-02-08                     00                 6                  0   3108130426\n",
      "1      255492  3150153245  6DEC4D4214A30CBC         18         0                 0              0      W     2019-02-04                     01     2019-02-06                     00                 2                  0   3150153245\n",
      "2      255493  3108130687  7E86E2BF62F384CD         20         0                 0              0      M     2019-02-08                     01     2019-02-09                     00                 1                  0   3108130687\n",
      "3      255494  3108131372  6BD39AF8128666A9         62         0                 0              0      W     2019-03-03                     01     2019-03-12                     00                 9                  0   3108131372\n",
      "4      255495  3150154687  33E8D523439BF4E5          0         1              3385             39      W     2019-03-02                     01     2019-03-05                     00                 3                  0   3150154687\n"
     ]
    }
   ],
   "source": [
    "cases_in_db = get_sociodemographics_for_hospital_year(file_info.hospital_name_db, int(file_info.year))\n",
    "cases_in_db[NORM_CASE_ID_COL] = cases_in_db[CASE_ID_COL].apply(remove_leading_zeros)\n",
    "print(cases_in_db.head())"
   ]
  },
  {
   "cell_type": "code",
   "execution_count": 6,
   "id": "8362bdd0",
   "metadata": {
    "collapsed": false,
    "jupyter": {
     "outputs_hidden": false
    }
   },
   "outputs": [],
   "source": [
    "cols_to_join = list(VALIDATION_COLS)\n",
    "cols_to_join.remove(CASE_ID_COL)\n",
    "cols_to_join.append(NORM_CASE_ID_COL)\n",
    "\n",
    "cols_to_join.remove(PATIENT_ID_COL)\n",
    "\n",
    "# Merge cases in db with the revised cases\n",
    "\n",
    "joined = pd.merge(df_revised_case_d2d, cases_in_db,\n",
    "                  how='left',\n",
    "                  on=cols_to_join,\n",
    "                  suffixes=('', '_db'))\n",
    "\n",
    "joined"
   ]
  },
  {
   "cell_type": "code",
   "execution_count": null,
   "id": "39a5f84a-022a-4f06-92c4-2eb9207271a4",
   "metadata": {},
   "outputs": [],
   "source": [
    "sys."
   ]
  },
  {
   "cell_type": "code",
   "execution_count": 7,
   "id": "a114f1c6-2ae9-40b2-8eea-b503686a6457",
   "metadata": {},
   "outputs": [
    {
     "name": "stderr",
     "output_type": "stream",
     "text": [
      "2022-10-28 10:02:59.621 | INFO     | __main__:<module>:4 - 0 rows could not be matched, given ['age_years', 'case_id_norm', 'duration_of_stay', 'gender']\n"
     ]
    }
   ],
   "source": [
    "# Print out how many rows could not be matched\n",
    "unmatched = joined[joined[AIMEDIC_ID_COL].isna()]\n",
    "num_unmatched = unmatched.shape[0]\n",
    "logger.info(f'{num_unmatched} rows could not be matched, given {sorted(cols_to_join)}')"
   ]
  },
  {
   "cell_type": "code",
   "execution_count": 8,
   "id": "a85b9247-c1dc-4072-a1dd-7b61c8251eeb",
   "metadata": {},
   "outputs": [
    {
     "name": "stderr",
     "output_type": "stream",
     "text": [
      "2022-10-28 10:03:00.200 | INFO     | src.revised_case_normalization.py.format_for_grouper:format_for_grouper:81 - Formatted 15 cases\n"
     ]
    },
    {
     "data": {
      "text/plain": [
       "0                 257678;49;0;;M;20190531;01;20190607;00;7;0;A46|I5014|I1100|I480|Z921|F102|E039|K746;::;\n",
       "1     257737;89;0;;W;20190718;01;20190723;00;5;0;K226|K254|I480|I1190|I2519|Z954|Z950|E780|F329|M8098|...\n",
       "2     260484;69;0;;M;20191023;01;20191102;00;10;0;C183|Z850|C772|C786|I1190|I2512|Z955|E789|E538|E43;4...\n",
       "3     259560;70;0;;W;20190618;01;20190620;06;2;0;K922|E1190|I1090|E039|E788|R571|D62|D684;990410::|451...\n",
       "4     257321;78;0;;M;20191214;01;20191219;00;5;0;K250|D6835|T810|Y849|N1781|N182|I2519|I480|Z955|Z950|...\n",
       "5     257673;83;0;;M;20190626;01;20190702;00;6;0;K565|S3640|Y69|T855|Y828|R060|I2511|Z951|Z953|Z9588|E...\n",
       "6     259149;77;0;;W;20191121;01;20191231;00;40;0;T818|Y849|T810|L308|I2519|Z955|E788|I5019|Z854|D62|R...\n",
       "7     257691;84;0;;M;20190401;01;20190410;00;9;0;T846|Y828|B957|B968|J984|I480|Z921|N183|N40|M8098|E44...\n",
       "8     258973;97;0;;W;20190719;01;20190724;00;5;0;M6285|Y349|D62|E440|E559|E538|F03|I1090|D6835|F058;83...\n",
       "9     255998;70;0;;W;20190919;01;20190924;00;5;0;T7960|W499|T7960|D6835|I482|E1074|I1090|E871|N938;831...\n",
       "10    258138;66;0;;W;20190321;01;20190411;00;9;0;M161|T8404|Y828|Y849|I1090|E890|K219|D62|E6692;815111...\n",
       "11    255995;87;0;;M;20191112;01;20191127;06;15;0;T814|T814|Y849|B957|I1190|Z950|I2519|E789|Z9588|N40|...\n",
       "12    259450;72;0;;M;20190322;01;20190403;00;12;0;N1783|N183|E86|A099|I2513|I1101|I5014|Z951|E780|D618...\n",
       "13                                256256;58;0;;M;20190102;01;20190111;00;9;0;I81|K550|I982|K766;451310::;\n",
       "14                    258745;72;0;;W;20190218;01;20190223;00;5;0;J4402|J459|I8028|I801|K521|Y579|I822;::;\n",
       "dtype: object"
      ]
     },
     "execution_count": 8,
     "metadata": {},
     "output_type": "execute_result"
    }
   ],
   "source": [
    "# Format joined dataset to the SwissDRG Batchgrouper 2017 Format \n",
    "\n",
    "grouper_input_data_string = format_for_grouper(joined)\n",
    "\n",
    "grouper_input_data_string"
   ]
  },
  {
   "cell_type": "code",
   "execution_count": 9,
   "id": "bade6ed7-d9d3-41fb-a082-d559c1467340",
   "metadata": {},
   "outputs": [
    {
     "name": "stdout",
     "output_type": "stream",
     "text": [
      "[{\"DRG\" : \"G48C\", \"MDC\" : \"06\", \"PCCL\" : 3, \"GST\" : \"NORMAL_GROUP\"}, {\"DRG\" : \"X62A\", \"MDC\" : \"21B\", \"PCCL\" : 4, \"GST\" : \"NORMAL_GROUP\"}, {\"DRG\" : \"H63B\", \"MDC\" : \"07\", \"PCCL\" : 4, \"GST\" : \"NORMAL_GROUP\"}]\n"
     ]
    }
   ],
   "source": [
    "import subprocess\n",
    "\n",
    "\n",
    "example_batch_line = \"\"\"257678;49;0;;M;20190531;01;20190607;00;7;0;A46|I5014|I1100|I480|Z921|F102|E039|K746;::;\"\"\"\n",
    "\n",
    "# add date to procedures\n",
    "# change ; with | at one spot\n",
    "test_df_line = \"\"\"17722;93;;;M;20180315;01;20180317;00;2;0;I7024|Z9588|N184|Z922|I743;395011::|397511::|395021::|397510::|0042::|004B18::|004B1A::|884911::|005599::|0046::|393012::;\"\"\"\n",
    "\n",
    "grouper_result = subprocess.check_output([\"java\",\n",
    "                                \"-cp\",\n",
    "                                \"/home/jovyan/work/resources/aimedic-grouper-assembly-0.0.0-SNAPSHOT.jar\",\n",
    "                                \"ch.aimedic.grouper.BatchGroupeOne\",\n",
    "                                grouper_input_data_string[6]\n",
    "                                #test_df_line,\n",
    "                                ]).decode(\"utf-8\")\n",
    "\n",
    "\n",
    "grouperResults = subprocess.check_output([\"java\",\n",
    "                                \"-cp\",\n",
    "                                \"/home/jovyan/work/resources/aimedic-grouper-assembly-0.0.0-SNAPSHOT.jar\",\n",
    "                                \"ch.aimedic.grouper.BatchGroupMany\",\n",
    "                                f'{grouper_input_data_string[1]}#{grouper_input_data_string[6]}#{grouper_input_data_string[13]}',\n",
    "                                \"#\"\n",
    "                                #test_df_line,\n",
    "                                ]).decode(\"utf-8\")\n",
    "\n",
    "print(grouperResults)"
   ]
  },
  {
   "cell_type": "code",
   "execution_count": 10,
   "id": "cd21268f-7f2c-400d-8420-e0601b23772d",
   "metadata": {},
   "outputs": [],
   "source": [
    "# TODO:\n",
    "# - Add medication \n",
    "# - Add and compare CHOP Codes for sideness and procedure date"
   ]
  }
 ],
 "metadata": {
  "kernelspec": {
   "display_name": "Python 3 (ipykernel)",
   "language": "python",
   "name": "python3"
  },
  "language_info": {
   "codemirror_mode": {
    "name": "ipython",
    "version": 3
   },
   "file_extension": ".py",
   "mimetype": "text/x-python",
   "name": "python",
   "nbconvert_exporter": "python",
   "pygments_lexer": "ipython3",
   "version": "3.10.6"
  }
 },
 "nbformat": 4,
 "nbformat_minor": 5
}
