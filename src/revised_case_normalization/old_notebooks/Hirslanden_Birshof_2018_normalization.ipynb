{
 "cells": [
  {
   "cell_type": "markdown",
   "id": "a4e2885d",
   "metadata": {
    "pycharm": {
     "name": "#%% md\n"
    },
    "tags": []
   },
   "source": [
    "# Revised case normalization for Hirslanden Birshof 2018\n",
    "Note:\n",
    "- No matched cases in this hospital\n",
    "\n"
   ]
  },
  {
   "cell_type": "code",
   "execution_count": 1,
   "id": "d097a048",
   "metadata": {
    "collapsed": false,
    "jupyter": {
     "outputs_hidden": false
    },
    "pycharm": {
     "name": "#%%\n"
    }
   },
   "outputs": [
    {
     "name": "stderr",
     "output_type": "stream",
     "text": [
      "/home/jovyan/work/src/models/BfsCase.py:5: SAWarning: On class 'BfsCase', Column object 'drg_cost_weight' named directly multiple times, only one will be used: drg_cost_weight, effective_cost_weight. Consider using orm.synonym instead\n",
      "  class BfsCase(Base):\n"
     ]
    }
   ],
   "source": [
    "import pandas as pd\n",
    "import sys\n",
    "sys.path.insert(0, '/home/jovyan/work')\n",
    "\n",
    "import os\n",
    "\n",
    "from py.global_configs import *\n",
    "from py.normalize import normalize\n",
    "\n",
    "from src.service import bfs_cases_db_service as bfs_db\n",
    "\n",
    "from src.utils.dataframe_utils import remove_duplicated_chops"
   ]
  },
  {
   "cell_type": "code",
   "execution_count": 2,
   "id": "4710c532",
   "metadata": {
    "collapsed": false,
    "jupyter": {
     "outputs_hidden": false
    },
    "pycharm": {
     "name": "#%%\n"
    }
   },
   "outputs": [
    {
     "name": "stdout",
     "output_type": "stream",
     "text": [
      "FileInfo(path='/home/jovyan/work/src/revised_case_normalization/raw_data/HI_Aarau_Birshof_ST. Anna.xlsx', hospital_name_db='Hirslanden Birshof', year='2018', sheets=['Birshof_2018'])\n"
     ]
    }
   ],
   "source": [
    "\n",
    "file_info = FileInfo(\n",
    "        os.path.join(ROOT_DIR, 'raw_data/HI_Aarau_Birshof_ST. Anna.xlsx'),\n",
    "        'Hirslanden Birshof',\n",
    "        '2018',\n",
    "        ['Birshof_2018'])\n",
    "\n",
    "print(file_info)\n"
   ]
  },
  {
   "cell_type": "code",
   "execution_count": 3,
   "id": "8c8b27df",
   "metadata": {
    "collapsed": false,
    "jupyter": {
     "outputs_hidden": false
    },
    "pycharm": {
     "name": "#%%\n"
    }
   },
   "outputs": [
    {
     "name": "stderr",
     "output_type": "stream",
     "text": [
      "2022-10-18 10:27:41.162 | DEBUG    | src.utils.dataframe_utils:_validate_icd_codes:56 - row 0: discarded ICDs after validation {''}\n",
      "2022-10-18 10:27:41.162 | DEBUG    | src.utils.dataframe_utils:_validate_icd_codes:56 - row 2: discarded ICDs after validation {''}\n",
      "2022-10-18 10:27:41.162 | DEBUG    | src.utils.dataframe_utils:_validate_icd_codes:56 - row 3: discarded ICDs after validation {''}\n",
      "2022-10-18 10:27:41.163 | DEBUG    | src.utils.dataframe_utils:_validate_chop_codes:94 - row 0: discarded duplicated and invalid CHOP entries after validation {''}\n",
      "2022-10-18 10:27:41.164 | DEBUG    | src.utils.dataframe_utils:_validate_chop_codes:94 - row 1: discarded duplicated and invalid CHOP entries after validation {''}\n",
      "2022-10-18 10:27:41.165 | DEBUG    | src.utils.dataframe_utils:_validate_chop_codes:94 - row 2: discarded duplicated and invalid CHOP entries after validation {''}\n",
      "2022-10-18 10:27:41.166 | DEBUG    | src.utils.dataframe_utils:_validate_chop_codes:94 - row 0: discarded duplicated and invalid CHOP entries after validation {''}\n",
      "2022-10-18 10:27:41.167 | DEBUG    | src.utils.dataframe_utils:_validate_chop_codes:94 - row 1: discarded duplicated and invalid CHOP entries after validation {''}\n",
      "2022-10-18 10:27:41.168 | DEBUG    | src.utils.dataframe_utils:_validate_chop_codes:94 - row 2: discarded duplicated and invalid CHOP entries after validation {''}\n",
      "2022-10-18 10:27:41.168 | DEBUG    | src.utils.dataframe_utils:_validate_chop_codes:94 - row 3: discarded duplicated and invalid CHOP entries after validation {''}\n"
     ]
    },
    {
     "name": "stdout",
     "output_type": "stream",
     "text": [
      "Read 4 cases for Hirslanden Birshof 2018\n",
      "TYPES:\n",
      "case_id             string\n",
      "patient_id          string\n",
      "gender              string\n",
      "age_years            int64\n",
      "duration_of_stay     int64\n",
      "pccl                 int64\n",
      "drg                 string\n",
      "old_pd              string\n",
      "new_pd              string\n",
      "bfs_code            string\n",
      "added_icds          string\n",
      "removed_icds        string\n",
      "added_chops         string\n",
      "removed_chops       string\n",
      "dtype: object\n"
     ]
    }
   ],
   "source": [
    "cols_to_rename = dict(COLUMNS_TO_RENAME)\n",
    "# Replace 'admno' with 'fall nummer'\n",
    "cols_to_rename.pop('admno')\n",
    "cols_to_rename['fall nummer'] = CASE_ID_COL\n",
    "\n",
    "df_revised_case_d2d = normalize(file_info, 0)"
   ]
  },
  {
   "cell_type": "code",
   "execution_count": 4,
   "id": "6c589452",
   "metadata": {
    "collapsed": false,
    "jupyter": {
     "outputs_hidden": false
    },
    "pycharm": {
     "name": "#%%\n"
    }
   },
   "outputs": [
    {
     "data": {
      "text/html": [
       "<div>\n",
       "<style scoped>\n",
       "    .dataframe tbody tr th:only-of-type {\n",
       "        vertical-align: middle;\n",
       "    }\n",
       "\n",
       "    .dataframe tbody tr th {\n",
       "        vertical-align: top;\n",
       "    }\n",
       "\n",
       "    .dataframe thead th {\n",
       "        text-align: right;\n",
       "    }\n",
       "</style>\n",
       "<table border=\"1\" class=\"dataframe\">\n",
       "  <thead>\n",
       "    <tr style=\"text-align: right;\">\n",
       "      <th></th>\n",
       "      <th>case_id</th>\n",
       "      <th>patient_id</th>\n",
       "      <th>gender</th>\n",
       "      <th>age_years</th>\n",
       "      <th>duration_of_stay</th>\n",
       "      <th>pccl</th>\n",
       "      <th>drg</th>\n",
       "      <th>old_pd</th>\n",
       "      <th>new_pd</th>\n",
       "      <th>bfs_code</th>\n",
       "      <th>added_icds</th>\n",
       "      <th>removed_icds</th>\n",
       "      <th>added_chops</th>\n",
       "      <th>removed_chops</th>\n",
       "    </tr>\n",
       "  </thead>\n",
       "  <tbody>\n",
       "    <tr>\n",
       "      <th>0</th>\n",
       "      <td>0041676790</td>\n",
       "      <td>6B6D03EC2A3F5E3C</td>\n",
       "      <td>M</td>\n",
       "      <td>76</td>\n",
       "      <td>2</td>\n",
       "      <td>2</td>\n",
       "      <td>I27D</td>\n",
       "      <td>M702</td>\n",
       "      <td>M702</td>\n",
       "      <td>M200</td>\n",
       "      <td>[R470, I693]</td>\n",
       "      <td>[]</td>\n",
       "      <td>[]</td>\n",
       "      <td>[]</td>\n",
       "    </tr>\n",
       "    <tr>\n",
       "      <th>1</th>\n",
       "      <td>0041733296</td>\n",
       "      <td>D506D11F343B8049</td>\n",
       "      <td>M</td>\n",
       "      <td>73</td>\n",
       "      <td>3</td>\n",
       "      <td>2</td>\n",
       "      <td>I27D</td>\n",
       "      <td>M702</td>\n",
       "      <td>M702</td>\n",
       "      <td>M200</td>\n",
       "      <td>[E1191]</td>\n",
       "      <td>[E1190]</td>\n",
       "      <td>[]</td>\n",
       "      <td>[]</td>\n",
       "    </tr>\n",
       "    <tr>\n",
       "      <th>2</th>\n",
       "      <td>0041764039</td>\n",
       "      <td>F7D48CC6FF8EE1B9</td>\n",
       "      <td>M</td>\n",
       "      <td>84</td>\n",
       "      <td>2</td>\n",
       "      <td>3</td>\n",
       "      <td>I27C</td>\n",
       "      <td>M754</td>\n",
       "      <td>M754</td>\n",
       "      <td>M200</td>\n",
       "      <td>[B022, G530]</td>\n",
       "      <td>[]</td>\n",
       "      <td>[]</td>\n",
       "      <td>[]</td>\n",
       "    </tr>\n",
       "    <tr>\n",
       "      <th>3</th>\n",
       "      <td>0041860429</td>\n",
       "      <td>5816B1A17E85581F</td>\n",
       "      <td>M</td>\n",
       "      <td>73</td>\n",
       "      <td>17</td>\n",
       "      <td>3</td>\n",
       "      <td>I43B</td>\n",
       "      <td>M171</td>\n",
       "      <td>M171</td>\n",
       "      <td>M200</td>\n",
       "      <td>[D62]</td>\n",
       "      <td>[]</td>\n",
       "      <td>[990410]</td>\n",
       "      <td>[]</td>\n",
       "    </tr>\n",
       "  </tbody>\n",
       "</table>\n",
       "</div>"
      ],
      "text/plain": [
       "      case_id        patient_id gender  age_years  duration_of_stay  pccl  \\\n",
       "0  0041676790  6B6D03EC2A3F5E3C      M         76                 2     2   \n",
       "1  0041733296  D506D11F343B8049      M         73                 3     2   \n",
       "2  0041764039  F7D48CC6FF8EE1B9      M         84                 2     3   \n",
       "3  0041860429  5816B1A17E85581F      M         73                17     3   \n",
       "\n",
       "    drg old_pd new_pd bfs_code    added_icds removed_icds added_chops  \\\n",
       "0  I27D   M702   M702     M200  [R470, I693]           []          []   \n",
       "1  I27D   M702   M702     M200       [E1191]      [E1190]          []   \n",
       "2  I27C   M754   M754     M200  [B022, G530]           []          []   \n",
       "3  I43B   M171   M171     M200         [D62]           []    [990410]   \n",
       "\n",
       "  removed_chops  \n",
       "0            []  \n",
       "1            []  \n",
       "2            []  \n",
       "3            []  "
      ]
     },
     "execution_count": 4,
     "metadata": {},
     "output_type": "execute_result"
    }
   ],
   "source": [
    "df_revised_case_d2d"
   ]
  },
  {
   "cell_type": "markdown",
   "id": "a6796573",
   "metadata": {
    "pycharm": {
     "name": "#%% md\n"
    },
    "tags": []
   },
   "source": [
    "# Match revised DtoD data with the bfs data from the database\n"
   ]
  },
  {
   "cell_type": "code",
   "execution_count": 5,
   "id": "42113e93",
   "metadata": {
    "collapsed": false,
    "jupyter": {
     "outputs_hidden": false
    },
    "pycharm": {
     "name": "#%%\n"
    }
   },
   "outputs": [
    {
     "data": {
      "text/plain": [
       "array(['0041676790', '0041733296', '0041764039', '0041860429'],\n",
       "      dtype=object)"
      ]
     },
     "execution_count": 5,
     "metadata": {},
     "output_type": "execute_result"
    }
   ],
   "source": [
    "# get the case_id from revised_case\n",
    "\n",
    "revised_case_id = df_revised_case_d2d['case_id'].values\n",
    "revised_case_id"
   ]
  },
  {
   "cell_type": "code",
   "execution_count": 6,
   "id": "db3c4ed2-14ca-40ca-8cc3-c0e3e0ffa0af",
   "metadata": {},
   "outputs": [],
   "source": [
    "revised_case_id_stripped = [case_id.lstrip('0') for case_id in revised_case_id]"
   ]
  },
  {
   "cell_type": "markdown",
   "id": "43f22f0e-0ab1-45b1-9a8c-dfc1ff70359b",
   "metadata": {
    "jupyter": {
     "outputs_hidden": false
    },
    "pycharm": {
     "name": "#%%\n"
    }
   },
   "source": [
    "### Check if there are duplicated case_ids in the revised cases after stripping the 0 in front, if yes, delete duplicated cases"
   ]
  },
  {
   "cell_type": "code",
   "execution_count": 7,
   "id": "275f1f3f-f653-496c-99a3-176dec9b150c",
   "metadata": {},
   "outputs": [
    {
     "name": "stdout",
     "output_type": "stream",
     "text": [
      "There are no duplicated case_ids in the revised cases.\n"
     ]
    }
   ],
   "source": [
    "\n",
    "revised_case_id_stripped_set = set(revised_case_id_stripped)\n",
    "if len(revised_case_id_stripped) > len(revised_case_id_stripped_set):\n",
    "    print('There are duplicated case_ids in the revised cases.' )\n",
    "else:\n",
    "    print('There are no duplicated case_ids in the revised cases.' )"
   ]
  },
  {
   "cell_type": "code",
   "execution_count": 8,
   "id": "9ddb9c40",
   "metadata": {
    "collapsed": false,
    "jupyter": {
     "outputs_hidden": false
    },
    "pycharm": {
     "name": "#%%\n"
    }
   },
   "outputs": [
    {
     "data": {
      "text/html": [
       "<div>\n",
       "<style scoped>\n",
       "    .dataframe tbody tr th:only-of-type {\n",
       "        vertical-align: middle;\n",
       "    }\n",
       "\n",
       "    .dataframe tbody tr th {\n",
       "        vertical-align: top;\n",
       "    }\n",
       "\n",
       "    .dataframe thead th {\n",
       "        text-align: right;\n",
       "    }\n",
       "</style>\n",
       "<table border=\"1\" class=\"dataframe\">\n",
       "  <thead>\n",
       "    <tr style=\"text-align: right;\">\n",
       "      <th></th>\n",
       "      <th>drg_cost_weight</th>\n",
       "      <th>aimedic_id</th>\n",
       "      <th>hospital_id</th>\n",
       "      <th>case_id</th>\n",
       "      <th>patient_id</th>\n",
       "      <th>age_years</th>\n",
       "      <th>age_days</th>\n",
       "      <th>gender</th>\n",
       "      <th>duration_of_stay</th>\n",
       "      <th>clinic_id</th>\n",
       "      <th>ventilation_hours</th>\n",
       "      <th>admission_weight</th>\n",
       "      <th>gestation_age</th>\n",
       "      <th>admission_date</th>\n",
       "      <th>admission_type</th>\n",
       "      <th>discharge_date</th>\n",
       "      <th>discharge_type</th>\n",
       "      <th>drg</th>\n",
       "      <th>adrg</th>\n",
       "      <th>pccl</th>\n",
       "    </tr>\n",
       "  </thead>\n",
       "  <tbody>\n",
       "  </tbody>\n",
       "</table>\n",
       "</div>"
      ],
      "text/plain": [
       "Empty DataFrame\n",
       "Columns: [drg_cost_weight, aimedic_id, hospital_id, case_id, patient_id, age_years, age_days, gender, duration_of_stay, clinic_id, ventilation_hours, admission_weight, gestation_age, admission_date, admission_type, discharge_date, discharge_type, drg, adrg, pccl]\n",
       "Index: []"
      ]
     },
     "execution_count": 8,
     "metadata": {},
     "output_type": "execute_result"
    }
   ],
   "source": [
    "# match to the database and retrieve data from database using revised\n",
    "revised_case_db = bfs_db.get_bfs_cases_by_ids_no_pad0(list(revised_case_id_stripped_set))\n",
    "revised_case_db.head()"
   ]
  },
  {
   "cell_type": "code",
   "execution_count": 9,
   "id": "72a903f0-1223-45d7-9990-3ea0f87b0572",
   "metadata": {},
   "outputs": [
    {
     "data": {
      "text/html": [
       "<div>\n",
       "<style scoped>\n",
       "    .dataframe tbody tr th:only-of-type {\n",
       "        vertical-align: middle;\n",
       "    }\n",
       "\n",
       "    .dataframe tbody tr th {\n",
       "        vertical-align: top;\n",
       "    }\n",
       "\n",
       "    .dataframe thead th {\n",
       "        text-align: right;\n",
       "    }\n",
       "</style>\n",
       "<table border=\"1\" class=\"dataframe\">\n",
       "  <thead>\n",
       "    <tr style=\"text-align: right;\">\n",
       "      <th></th>\n",
       "      <th>drg_cost_weight</th>\n",
       "      <th>aimedic_id</th>\n",
       "      <th>hospital_id</th>\n",
       "      <th>case_id</th>\n",
       "      <th>patient_id</th>\n",
       "      <th>age_years</th>\n",
       "      <th>age_days</th>\n",
       "      <th>gender</th>\n",
       "      <th>duration_of_stay</th>\n",
       "      <th>clinic_id</th>\n",
       "      <th>...</th>\n",
       "      <th>admission_weight</th>\n",
       "      <th>gestation_age</th>\n",
       "      <th>admission_date</th>\n",
       "      <th>admission_type</th>\n",
       "      <th>discharge_date</th>\n",
       "      <th>discharge_type</th>\n",
       "      <th>drg</th>\n",
       "      <th>adrg</th>\n",
       "      <th>pccl</th>\n",
       "      <th>case_id_stripped</th>\n",
       "    </tr>\n",
       "  </thead>\n",
       "  <tbody>\n",
       "  </tbody>\n",
       "</table>\n",
       "<p>0 rows × 21 columns</p>\n",
       "</div>"
      ],
      "text/plain": [
       "Empty DataFrame\n",
       "Columns: [drg_cost_weight, aimedic_id, hospital_id, case_id, patient_id, age_years, age_days, gender, duration_of_stay, clinic_id, ventilation_hours, admission_weight, gestation_age, admission_date, admission_type, discharge_date, discharge_type, drg, adrg, pccl, case_id_stripped]\n",
       "Index: []\n",
       "\n",
       "[0 rows x 21 columns]"
      ]
     },
     "execution_count": 9,
     "metadata": {},
     "output_type": "execute_result"
    }
   ],
   "source": [
    "# create a new column for case_id_stripped with '0' for joining to the revised cases\n",
    "revised_case_db['case_id_stripped']=  revised_case_db['case_id'].apply(lambda x: x.lstrip('0')) \n",
    "revised_case_db.head()"
   ]
  },
  {
   "cell_type": "code",
   "execution_count": 10,
   "id": "ce804ffb-50ab-42b8-a797-ce11e0e565a2",
   "metadata": {},
   "outputs": [
    {
     "name": "stdout",
     "output_type": "stream",
     "text": [
      "(0, 21)\n"
     ]
    }
   ],
   "source": [
    "# create a new column for case_id_stripped with '0' for joining to the revised cases\n",
    "revised_case_db['case_id_stripped']=  revised_case_db['case_id'].apply(lambda x: x.lstrip('0')) \n",
    "revised_case_db.head()\n",
    "print(revised_case_db.shape)"
   ]
  },
  {
   "cell_type": "code",
   "execution_count": 11,
   "id": "061e2554-4773-4b4b-bfb1-742aa3838ac4",
   "metadata": {},
   "outputs": [
    {
     "name": "stdout",
     "output_type": "stream",
     "text": [
      "(4, 15)\n"
     ]
    }
   ],
   "source": [
    "# create a new column for case_id_stripped with '0' for joining to cases from database\n",
    "\n",
    "df_revised_case_d2d['case_id_stripped']=  df_revised_case_d2d['case_id'].apply(lambda x: x.lstrip('0')) \n",
    "df_revised_case_d2d.head()\n",
    "print(df_revised_case_d2d.shape)"
   ]
  },
  {
   "cell_type": "code",
   "execution_count": 12,
   "id": "9099ca23-dd60-46a7-b08e-2e5491b03f25",
   "metadata": {},
   "outputs": [],
   "source": [
    "# delete duplicated cases in the revised cases\n",
    "\n",
    "df_revised_case_d2d['case_id_stripped'].apply(tuple) # make sure the drop_duplicates works\n",
    "\n",
    "df_revised_case_d2d.drop_duplicates(subset=['case_id_stripped'], keep='last', inplace=True)\n",
    "assert len(revised_case_id_stripped) == df_revised_case_d2d.shape[0] # make sure all cases are deleted\n"
   ]
  },
  {
   "cell_type": "markdown",
   "id": "9c1b3b1b-f89e-47d3-8c42-f3af8abffb0a",
   "metadata": {},
   "source": [
    "# Forming the normalized dataframe: Merge the selected revised case data with the matched from bfs data\n",
    "  If there are multiple cases were found based on case_id, patient_id will be used to match once more  "
   ]
  },
  {
   "cell_type": "code",
   "execution_count": 13,
   "id": "2bc9512c-8615-4f3d-b833-f8e7367be33a",
   "metadata": {},
   "outputs": [
    {
     "name": "stdout",
     "output_type": "stream",
     "text": [
      "(0, 28)\n"
     ]
    },
    {
     "data": {
      "text/html": [
       "<div>\n",
       "<style scoped>\n",
       "    .dataframe tbody tr th:only-of-type {\n",
       "        vertical-align: middle;\n",
       "    }\n",
       "\n",
       "    .dataframe tbody tr th {\n",
       "        vertical-align: top;\n",
       "    }\n",
       "\n",
       "    .dataframe thead th {\n",
       "        text-align: right;\n",
       "    }\n",
       "</style>\n",
       "<table border=\"1\" class=\"dataframe\">\n",
       "  <thead>\n",
       "    <tr style=\"text-align: right;\">\n",
       "      <th></th>\n",
       "      <th>drg_cost_weight</th>\n",
       "      <th>aimedic_id</th>\n",
       "      <th>hospital_id</th>\n",
       "      <th>case_id</th>\n",
       "      <th>patient_id</th>\n",
       "      <th>age_days</th>\n",
       "      <th>clinic_id</th>\n",
       "      <th>ventilation_hours</th>\n",
       "      <th>admission_weight</th>\n",
       "      <th>gestation_age</th>\n",
       "      <th>...</th>\n",
       "      <th>added_icds</th>\n",
       "      <th>removed_icds</th>\n",
       "      <th>added_chops</th>\n",
       "      <th>removed_chops</th>\n",
       "      <th>case_id_stripped</th>\n",
       "      <th>gender</th>\n",
       "      <th>age_years</th>\n",
       "      <th>duration_of_stay</th>\n",
       "      <th>pccl</th>\n",
       "      <th>drg</th>\n",
       "    </tr>\n",
       "  </thead>\n",
       "  <tbody>\n",
       "  </tbody>\n",
       "</table>\n",
       "<p>0 rows × 28 columns</p>\n",
       "</div>"
      ],
      "text/plain": [
       "Empty DataFrame\n",
       "Columns: [drg_cost_weight, aimedic_id, hospital_id, case_id, patient_id, age_days, clinic_id, ventilation_hours, admission_weight, gestation_age, admission_date, admission_type, discharge_date, discharge_type, adrg, old_pd, new_pd, bfs_code, added_icds, removed_icds, added_chops, removed_chops, case_id_stripped, gender, age_years, duration_of_stay, pccl, drg]\n",
       "Index: []\n",
       "\n",
       "[0 rows x 28 columns]"
      ]
     },
     "execution_count": 13,
     "metadata": {},
     "output_type": "execute_result"
    }
   ],
   "source": [
    "# Check if there are multiple cases were found based on case_id, patient_id will be used to match once more\n",
    "if revised_case_db.shape[0] <= len(revised_case_id):\n",
    "    revised_case_d2d_subset = df_revised_case_d2d[COL_SUBSET_FROM_REVISED_CASES + ['case_id_stripped', 'gender', 'age_years', 'duration_of_stay', 'pccl', 'drg']]\n",
    "    revised_case_normalized = revised_case_db.merge(revised_case_d2d_subset, how ='left', on=['case_id_stripped', 'gender', 'age_years', 'duration_of_stay', 'pccl', 'drg'])\n",
    "    num_match_case_id = revised_case_normalized.shape[0]\n",
    "else:\n",
    "    revised_case_d2d_subset = df_revised_case_d2d[COL_SUBSET_FROM_REVISED_CASES + ['case_id_stripped', 'patient_id', 'gender', 'age_years', 'duration_of_stay', 'pccl', 'drg']]\n",
    "    revised_case_normalized = revised_case_db.merge(revised_case_d2d_subset, how ='left', on=['case_id_stripped', 'gender', 'age_years', 'duration_of_stay', 'pccl', 'drg'])\n",
    "    num_match_case_patient_id = revised_case_normalized.shape[0]\n",
    "print(revised_case_normalized.shape)\n",
    "revised_case_normalized.head()"
   ]
  },
  {
   "cell_type": "code",
   "execution_count": 14,
   "id": "cdcd0e25",
   "metadata": {
    "collapsed": false,
    "jupyter": {
     "outputs_hidden": false
    },
    "pycharm": {
     "name": "#%%\n"
    }
   },
   "outputs": [
    {
     "data": {
      "text/html": [
       "<div>\n",
       "<style scoped>\n",
       "    .dataframe tbody tr th:only-of-type {\n",
       "        vertical-align: middle;\n",
       "    }\n",
       "\n",
       "    .dataframe tbody tr th {\n",
       "        vertical-align: top;\n",
       "    }\n",
       "\n",
       "    .dataframe thead th {\n",
       "        text-align: right;\n",
       "    }\n",
       "</style>\n",
       "<table border=\"1\" class=\"dataframe\">\n",
       "  <thead>\n",
       "    <tr style=\"text-align: right;\">\n",
       "      <th></th>\n",
       "      <th>aimedic_id</th>\n",
       "      <th>case_id</th>\n",
       "      <th>patient_id</th>\n",
       "      <th>gender</th>\n",
       "      <th>age_years</th>\n",
       "      <th>duration_of_stay</th>\n",
       "      <th>pccl</th>\n",
       "      <th>drg</th>\n",
       "      <th>old_pd</th>\n",
       "      <th>new_pd</th>\n",
       "      <th>bfs_code</th>\n",
       "      <th>added_icds</th>\n",
       "      <th>removed_icds</th>\n",
       "      <th>added_chops</th>\n",
       "      <th>removed_chops</th>\n",
       "    </tr>\n",
       "  </thead>\n",
       "  <tbody>\n",
       "  </tbody>\n",
       "</table>\n",
       "</div>"
      ],
      "text/plain": [
       "Empty DataFrame\n",
       "Columns: [aimedic_id, case_id, patient_id, gender, age_years, duration_of_stay, pccl, drg, old_pd, new_pd, bfs_code, added_icds, removed_icds, added_chops, removed_chops]\n",
       "Index: []"
      ]
     },
     "execution_count": 14,
     "metadata": {},
     "output_type": "execute_result"
    }
   ],
   "source": [
    "# Choose column to export to a csv file\n",
    "df_revised_case_normalized = revised_case_normalized[COLS_TO_OUTPUT]\n",
    "assert len(df_revised_case_normalized.columns) == len(COLS_TO_OUTPUT)\n",
    "df_revised_case_normalized.head()"
   ]
  },
  {
   "cell_type": "markdown",
   "id": "3fe44878",
   "metadata": {
    "pycharm": {
     "name": "#%% md\n"
    },
    "tags": []
   },
   "source": [
    "# Export the normalized revised cases with the neccessary columns to a csv file\n"
   ]
  },
  {
   "cell_type": "code",
   "execution_count": 15,
   "id": "9b283dda",
   "metadata": {
    "collapsed": false,
    "jupyter": {
     "outputs_hidden": false
    },
    "pycharm": {
     "name": "#%%\n"
    }
   },
   "outputs": [],
   "source": [
    "\n",
    "hospital = file_info.hospital_name_db.replace(' ', '_') # replace spaces with '_' for the file name\n",
    "hospital_year = f'{hospital}_{file_info.year}'\n",
    "\n",
    "output_folder = os.path.join(ROOT_DIR, 'normalized_revision_data/')\n",
    "\n",
    "if not os.path.exists(output_folder):\n",
    "    os.mkdir(output_folder)\n",
    "\n",
    "output_path = os.path.join(ROOT_DIR, 'normalized_revision_data/') + hospital_year + '.csv'\n",
    "\n",
    "df_revised_case_normalized.to_csv(output_path)\n"
   ]
  },
  {
   "cell_type": "markdown",
   "id": "7a0e6287",
   "metadata": {
    "pycharm": {
     "name": "#%% md\n"
    },
    "tags": []
   },
   "source": [
    "# Report\n",
    "\n",
    "A small summary of:\n",
    "- how many cases could be matched in the DB, and based on which columns\n",
    "- how many cases were “correctly” revised, in terms of upcoding (still need to do after the `grouper` is available for python)"
   ]
  },
  {
   "cell_type": "code",
   "execution_count": 16,
   "id": "39806225",
   "metadata": {
    "collapsed": false,
    "jupyter": {
     "outputs_hidden": false
    },
    "pycharm": {
     "name": "#%%\n"
    }
   },
   "outputs": [
    {
     "name": "stdout",
     "output_type": "stream",
     "text": [
      "Based on the columns \"case_id\", \"gender, \"age_years\", \"duration_of_stay\", \"pccl\", \"drg\", there are 0 out of 4 revised cases from DtoD that can be matched with the bfs database data for Hirslanden Birshof 2018\n"
     ]
    }
   ],
   "source": [
    "if revised_case_db.shape[0] <= len(revised_case_id):\n",
    "    print(f'Based on the columns \"case_id\", \"gender, \"age_years\", \"duration_of_stay\", \"pccl\", \"drg\", there are {num_match_case_id} out of {len(revised_case_id)} revised cases from DtoD that can be matched with the bfs database data for {file_info.hospital_name_db} {file_info.year}' )\n",
    "else:\n",
    "    print(f'Based on the columns \"case_id\" and \"Patient_id\", \"gender, \"age_years\", \"duration_of_stay\", \"pccl\", \"drg\", there are {num_match_case_patient_id} out of {len(revised_case_id)} revised cases from DtoD that can be matched with the bfs database data for {file_info.hospital_name_db} {file_info.year}' )"
   ]
  },
  {
   "cell_type": "code",
   "execution_count": 17,
   "id": "87a14b03",
   "metadata": {
    "collapsed": false,
    "jupyter": {
     "outputs_hidden": false
    },
    "pycharm": {
     "name": "#%%\n"
    }
   },
   "outputs": [
    {
     "name": "stdout",
     "output_type": "stream",
     "text": [
      "All the normalized revised cases are exported to here: /home/jovyan/work/src/revised_case_normalization/normalized_revision_data/Hirslanden_Birshof_2018.csv\n"
     ]
    }
   ],
   "source": [
    "print('All the normalized revised cases are exported to here: {}'.format(output_path))"
   ]
  },
  {
   "cell_type": "code",
   "execution_count": null,
   "id": "20e4b5fb-7d66-4ecf-90d7-f93e28579e13",
   "metadata": {},
   "outputs": [],
   "source": []
  },
  {
   "cell_type": "code",
   "execution_count": null,
   "id": "ebe832a6-ad1e-4e9f-8612-af3c07e76269",
   "metadata": {},
   "outputs": [],
   "source": []
  }
 ],
 "metadata": {
  "kernelspec": {
   "display_name": "Python 3 (ipykernel)",
   "language": "python",
   "name": "python3"
  },
  "language_info": {
   "codemirror_mode": {
    "name": "ipython",
    "version": 3
   },
   "file_extension": ".py",
   "mimetype": "text/x-python",
   "name": "python",
   "nbconvert_exporter": "python",
   "pygments_lexer": "ipython3",
   "version": "3.10.6"
  }
 },
 "nbformat": 4,
 "nbformat_minor": 5
}
