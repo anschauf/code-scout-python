{
 "cells": [
  {
   "cell_type": "markdown",
   "id": "a4e2885d",
   "metadata": {
    "tags": []
   },
   "source": [
    "# Analysis of normalize function to retrieve entire chop codes St. Anna\n",
    "\n",
    "Notes:\n",
    "\n",
    "- 17 of 17 revised DtoD cases were joined with the BFS cases from the DB.\n",
    "\n"
   ]
  },
  {
   "cell_type": "code",
   "execution_count": 1,
   "id": "d097a048",
   "metadata": {
    "collapsed": false,
    "jupyter": {
     "outputs_hidden": false
    }
   },
   "outputs": [],
   "source": [
    "import sys\n",
    "\n",
    "import pandas as pd\n",
    "import numpy as np\n",
    "\n",
    "from loguru import logger\n",
    "\n",
    "sys.path.insert(0, '/home/jovyan/work')\n",
    "\n",
    "from src.revised_case_normalization.py.global_configs import *\n",
    "from src.revised_case_normalization.py.normalize import normalize, remove_leading_zeros\n",
    "from src.service import bfs_cases_db_service as bfs_db\n",
    "from src.service.bfs_cases_db_service import session, get_sociodemographics_for_hospital_year, get_earliest_revisions_for_aimedic_ids, get_codes, apply_revisions\n",
    "from src.revised_case_normalization.py.format_for_grouper import format_for_grouper\n",
    "\n",
    "from src.utils.dataframe_utils import validate_icd_codes, validate_chop_codes, remove_duplicated_chops, validate_pd_revised_sd\n",
    " \n"
   ]
  },
  {
   "cell_type": "code",
   "execution_count": 2,
   "id": "4710c532",
   "metadata": {
    "collapsed": false,
    "jupyter": {
     "outputs_hidden": false
    }
   },
   "outputs": [
    {
     "name": "stdout",
     "output_type": "stream",
     "text": [
      "FileInfo(path='/home/jovyan/work/src/revised_case_normalization/raw_data/HI_Aarau_Birshof_ST. Anna.xlsx', hospital_name_db='Hirslanden St. Anna', year='2018', sheets=['KOPIE_Änderungen_ST. Anna_2018'])\n"
     ]
    }
   ],
   "source": [
    "file_info = FileInfo(\n",
    "        os.path.join(ROOT_DIR, 'raw_data/HI_Aarau_Birshof_ST. Anna.xlsx'),\n",
    "        'Hirslanden St. Anna',\n",
    "        '2018',\n",
    "        ['KOPIE_Änderungen_ST. Anna_2018'])\n",
    "\n",
    "print(file_info)"
   ]
  },
  {
   "cell_type": "code",
   "execution_count": 3,
   "id": "c58400e6-f376-40ce-97af-4bcc2b7098d3",
   "metadata": {},
   "outputs": [],
   "source": [
    "\n",
    "excel_sheet_idx = 0\n",
    "df = pd.read_excel(file_info.path, sheet_name=file_info.sheets[excel_sheet_idx], dtype='string[pyarrow]')"
   ]
  },
  {
   "cell_type": "code",
   "execution_count": 4,
   "id": "1500c329-9960-4786-acee-947e9ddecdb7",
   "metadata": {},
   "outputs": [],
   "source": [
    "df.columns = [c.lower() for c in df.columns]"
   ]
  },
  {
   "cell_type": "code",
   "execution_count": 5,
   "id": "345af734-3aa1-41f5-a220-43d0bb9e6cf3",
   "metadata": {},
   "outputs": [],
   "source": [
    "columns_mapper: dict = COLUMNS_TO_RENAME\n",
    "\n",
    "n_all_rows = df.shape[0]\n",
    "\n",
    "assert(len(set(columns_mapper.keys()).difference(df.columns)) == 0)"
   ]
  },
  {
   "cell_type": "code",
   "execution_count": 6,
   "id": "6ccb8463-0d9a-447a-a9ad-243073534b6f",
   "metadata": {},
   "outputs": [],
   "source": [
    "df.rename(columns=columns_mapper, inplace=True)"
   ]
  },
  {
   "cell_type": "code",
   "execution_count": 7,
   "id": "713fbcae-5fc4-4a78-b3ad-7b688329de6d",
   "metadata": {},
   "outputs": [
    {
     "name": "stderr",
     "output_type": "stream",
     "text": [
      "2022-10-28 15:22:38.207 | INFO     | __main__:<module>:18 - TYPES:\n",
      "tranche                   string\n",
      "datum                     string\n",
      "case_id                   object\n",
      "patient_id                object\n",
      "gender                    string\n",
      "age_years                  int64\n",
      "bfs_code                  string\n",
      "duration_of_stay           int64\n",
      "pflegetage neu            string\n",
      "pccl                       int64\n",
      "pccl neu                  string\n",
      "old_pd                    string\n",
      "primary_diagnosis         string\n",
      "added_icds                string\n",
      "removed_icds              string\n",
      "added_chops               string\n",
      "removed_chops             string\n",
      "drg                       string\n",
      "drg neu                   string\n",
      "cw alt                    string\n",
      "cw neu                    string\n",
      "cw-änderung möglich       string\n",
      "cw änderung akzeptiert    string\n",
      "kommentar                 string\n",
      "kodierer                  string\n",
      "bemerkung                 string\n",
      "kassenbeanstandung        string\n",
      "case_id_norm              object\n",
      "dtype: object\n"
     ]
    }
   ],
   "source": [
    "# Fix unavailable duration of stay\n",
    "df[DURATION_OF_STAY_COL] = df[DURATION_OF_STAY_COL].replace('n.ü.', np.nan)\n",
    "\n",
    "columns_to_lstrip: set = COLUMNS_TO_LSTRIP\n",
    "columns_to_cast: dict = COLUMNS_TO_CAST\n",
    "\n",
    "\n",
    "# Fix format of some columns\n",
    "lstrip_fun = lambda x: x.lstrip(\"'\")\n",
    "for col_name in columns_to_lstrip:\n",
    "    df[col_name] = df[col_name].apply(lstrip_fun)\n",
    "\n",
    "# Duplicate the case ID column which does not have leading zeros\n",
    "df[NORM_CASE_ID_COL] = df[CASE_ID_COL].apply(remove_leading_zeros)\n",
    "\n",
    "for col_name, col_type in columns_to_cast.items():\n",
    "    df[col_name] = df[col_name].astype(col_type)\n",
    "logger.info(f'TYPES:\\n{df.dtypes}')\n",
    "\n",
    "# Discard rows where any value on any validation col is empty\n",
    "assert(len(set(VALIDATION_COLS).difference(df.columns)) == 0)\n",
    "df.dropna(subset=VALIDATION_COLS, inplace=True)\n",
    "n_valid_rows = df.shape[0]\n",
    "\n",
    "#if n_valid_rows < n_all_rows:\n",
    "#    logger.info(f'{n_all_rows - n_valid_rows}/{n_all_rows} rows were deleted because contained NaNs')\n",
    "\n",
    "# Split ICD and CHOP columns into list[str]\n",
    "for code_col_to_fix in (ADDED_ICD_CODES, REMOVED_ICD_CODES, ADDED_CHOP_CODES, REMOVED_CHOP_CODES):\n",
    "    df[code_col_to_fix] = df[code_col_to_fix].fillna('').str.split(',')"
   ]
  },
  {
   "cell_type": "code",
   "execution_count": 8,
   "id": "305608c2-66ad-4009-955c-a40bcb801488",
   "metadata": {},
   "outputs": [
    {
     "name": "stderr",
     "output_type": "stream",
     "text": [
      "2022-10-28 15:22:38.220 | INFO     | src.utils.dataframe_utils:validate_icd_codes:68 - Validated ICD codes in 'added_icds' and stored them into 'added_icds': All rows contain valid codes\n",
      "2022-10-28 15:22:38.225 | INFO     | src.utils.dataframe_utils:validate_icd_codes:68 - Validated ICD codes in 'removed_icds' and stored them into 'removed_icds': All rows contain valid codes\n",
      "2022-10-28 15:22:38.229 | INFO     | src.utils.dataframe_utils:validate_chop_codes:106 - Validated CHOP codes in 'added_chops' and stored them into 'added_chops': All rows contain valid codes\n",
      "2022-10-28 15:22:38.234 | INFO     | src.utils.dataframe_utils:validate_chop_codes:106 - Validated CHOP codes in 'removed_chops' and stored them into 'removed_chops': All rows contain valid codes\n"
     ]
    }
   ],
   "source": [
    "# Validate ICD and CHOP codes\n",
    "df = validate_icd_codes(df, icd_codes_col=ADDED_ICD_CODES, output_icd_codes_col=ADDED_ICD_CODES)\n",
    "df = validate_icd_codes(df, icd_codes_col=REMOVED_ICD_CODES, output_icd_codes_col=REMOVED_ICD_CODES)\n",
    "df = validate_chop_codes(df, chop_codes_col=ADDED_CHOP_CODES, output_chop_codes_col=ADDED_CHOP_CODES)\n",
    "df = validate_chop_codes(df, chop_codes_col=REMOVED_CHOP_CODES, output_chop_codes_col=REMOVED_CHOP_CODES)"
   ]
  },
  {
   "cell_type": "code",
   "execution_count": 9,
   "id": "931b6592-396d-4c1e-928f-d52bcbd63a83",
   "metadata": {},
   "outputs": [
    {
     "name": "stderr",
     "output_type": "stream",
     "text": [
      "2022-10-28 15:22:38.238 | INFO     | src.utils.dataframe_utils:remove_duplicated_chops:32 - Removing duplicated CHOP codes due to different casing ...\n"
     ]
    },
    {
     "data": {
      "text/html": [
       "<div>\n",
       "<style scoped>\n",
       "    .dataframe tbody tr th:only-of-type {\n",
       "        vertical-align: middle;\n",
       "    }\n",
       "\n",
       "    .dataframe tbody tr th {\n",
       "        vertical-align: top;\n",
       "    }\n",
       "\n",
       "    .dataframe thead th {\n",
       "        text-align: right;\n",
       "    }\n",
       "</style>\n",
       "<table border=\"1\" class=\"dataframe\">\n",
       "  <thead>\n",
       "    <tr style=\"text-align: right;\">\n",
       "      <th></th>\n",
       "      <th>tranche</th>\n",
       "      <th>datum</th>\n",
       "      <th>case_id</th>\n",
       "      <th>patient_id</th>\n",
       "      <th>gender</th>\n",
       "      <th>age_years</th>\n",
       "      <th>bfs_code</th>\n",
       "      <th>duration_of_stay</th>\n",
       "      <th>pflegetage neu</th>\n",
       "      <th>pccl</th>\n",
       "      <th>pccl neu</th>\n",
       "      <th>old_pd</th>\n",
       "      <th>primary_diagnosis</th>\n",
       "      <th>added_icds</th>\n",
       "      <th>removed_icds</th>\n",
       "      <th>added_chops</th>\n",
       "      <th>removed_chops</th>\n",
       "      <th>drg</th>\n",
       "      <th>drg neu</th>\n",
       "      <th>cw alt</th>\n",
       "      <th>cw neu</th>\n",
       "      <th>cw-änderung möglich</th>\n",
       "      <th>cw änderung akzeptiert</th>\n",
       "      <th>kommentar</th>\n",
       "      <th>kodierer</th>\n",
       "      <th>bemerkung</th>\n",
       "      <th>kassenbeanstandung</th>\n",
       "      <th>case_id_norm</th>\n",
       "    </tr>\n",
       "  </thead>\n",
       "  <tbody>\n",
       "    <tr>\n",
       "      <th>17</th>\n",
       "      <td>&lt;NA&gt;</td>\n",
       "      <td>&lt;NA&gt;</td>\n",
       "      <td>0009409623</td>\n",
       "      <td>D12521E1C91607CA</td>\n",
       "      <td>M</td>\n",
       "      <td>85</td>\n",
       "      <td>M200</td>\n",
       "      <td>8</td>\n",
       "      <td>8</td>\n",
       "      <td>3</td>\n",
       "      <td>4</td>\n",
       "      <td>S722</td>\n",
       "      <td>S722</td>\n",
       "      <td>[D62]</td>\n",
       "      <td>[D649]</td>\n",
       "      <td>[990410:B:20180429]</td>\n",
       "      <td>[]</td>\n",
       "      <td>I08D</td>\n",
       "      <td>I08C</td>\n",
       "      <td>1.55</td>\n",
       "      <td>2.32</td>\n",
       "      <td>0.77</td>\n",
       "      <td>0.7699999999999998</td>\n",
       "      <td>Arztanfrage neue ND/Vorschlag: D62 statt D64.9|+ CHOP 99.04.10|Siehe P040537689 Bericht Austritt...</td>\n",
       "      <td>Atti</td>\n",
       "      <td>Storno</td>\n",
       "      <td>&lt;NA&gt;</td>\n",
       "      <td>9409623</td>\n",
       "    </tr>\n",
       "  </tbody>\n",
       "</table>\n",
       "</div>"
      ],
      "text/plain": [
       "   tranche datum     case_id        patient_id gender  age_years bfs_code  duration_of_stay pflegetage neu  pccl pccl neu old_pd primary_diagnosis added_icds removed_icds          added_chops removed_chops   drg drg neu cw alt cw neu cw-änderung möglich cw änderung akzeptiert                                                                                            kommentar kodierer bemerkung kassenbeanstandung case_id_norm\n",
       "17    <NA>  <NA>  0009409623  D12521E1C91607CA      M         85     M200                 8              8     3        4   S722              S722      [D62]       [D649]  [990410:B:20180429]            []  I08D    I08C   1.55   2.32                0.77     0.7699999999999998  Arztanfrage neue ND/Vorschlag: D62 statt D64.9|+ CHOP 99.04.10|Siehe P040537689 Bericht Austritt...     Atti    Storno               <NA>      9409623"
      ]
     },
     "execution_count": 9,
     "metadata": {},
     "output_type": "execute_result"
    }
   ],
   "source": [
    "# Remove CHOP codes which appear in both added and removed lists\n",
    "df = remove_duplicated_chops(df, added_chops_col=ADDED_CHOP_CODES, cleaned_added_chops_col=ADDED_CHOP_CODES, removed_chops_col=REMOVED_CHOP_CODES, cleaned_removed_chops_col=REMOVED_CHOP_CODES)\n",
    "df.iloc[[17]]"
   ]
  },
  {
   "cell_type": "code",
   "execution_count": 10,
   "id": "2f0e6bc3-e612-4b7b-9f0f-3c5497926831",
   "metadata": {},
   "outputs": [
    {
     "ename": "SystemExit",
     "evalue": "",
     "output_type": "error",
     "traceback": [
      "An exception has occurred, use %tb to see the full traceback.\n",
      "\u001b[0;31mSystemExit\u001b[0m\n"
     ]
    },
    {
     "name": "stderr",
     "output_type": "stream",
     "text": [
      "/opt/conda/lib/python3.10/site-packages/IPython/core/interactiveshell.py:3386: UserWarning: To exit: use 'exit', 'quit', or Ctrl-D.\n",
      "  warn(\"To exit: use 'exit', 'quit', or Ctrl-D.\", stacklevel=1)\n"
     ]
    }
   ],
   "source": [
    "sys.exit()"
   ]
  },
  {
   "cell_type": "code",
   "execution_count": null,
   "id": "8c8b27df",
   "metadata": {
    "collapsed": false,
    "jupyter": {
     "outputs_hidden": false
    }
   },
   "outputs": [],
   "source": [
    "df_revised_case_d2d = normalize(file_info, 0)\n"
   ]
  },
  {
   "cell_type": "code",
   "execution_count": null,
   "id": "6c589452",
   "metadata": {
    "collapsed": false,
    "jupyter": {
     "outputs_hidden": false
    }
   },
   "outputs": [],
   "source": [
    "df_revised_case_d2d"
   ]
  },
  {
   "cell_type": "markdown",
   "id": "a6796573",
   "metadata": {
    "tags": []
   },
   "source": [
    "# Match revised DtoD data with the BfS data from the database"
   ]
  },
  {
   "cell_type": "code",
   "execution_count": null,
   "id": "65408537-cd4a-4b7c-a785-0db424378909",
   "metadata": {},
   "outputs": [],
   "source": [
    "cases_in_db = get_sociodemographics_for_hospital_year(file_info.hospital_name_db, int(file_info.year))\n",
    "cases_in_db[NORM_CASE_ID_COL] = cases_in_db[CASE_ID_COL].apply(remove_leading_zeros)\n",
    "print(cases_in_db.head())"
   ]
  },
  {
   "cell_type": "code",
   "execution_count": null,
   "id": "8362bdd0",
   "metadata": {
    "collapsed": false,
    "jupyter": {
     "outputs_hidden": false
    }
   },
   "outputs": [],
   "source": [
    "cols_to_join = list(VALIDATION_COLS)\n",
    "cols_to_join.remove(CASE_ID_COL)\n",
    "cols_to_join.append(NORM_CASE_ID_COL)\n",
    "\n",
    "cols_to_join.remove(PATIENT_ID_COL)\n",
    "\n",
    "# Merge cases in db with the revised cases\n",
    "\n",
    "joined = pd.merge(df_revised_case_d2d, cases_in_db,\n",
    "                  how='left',\n",
    "                  on=cols_to_join,\n",
    "                  suffixes=('', '_db'))\n",
    "\n",
    "joined"
   ]
  },
  {
   "cell_type": "code",
   "execution_count": null,
   "id": "a114f1c6-2ae9-40b2-8eea-b503686a6457",
   "metadata": {},
   "outputs": [],
   "source": [
    "# Print out how many rows could not be matched\n",
    "unmatched = joined[joined[AIMEDIC_ID_COL].isna()]\n",
    "num_unmatched = unmatched.shape[0]\n",
    "logger.info(f'{num_unmatched} rows could not be matched, given {sorted(cols_to_join)}')"
   ]
  },
  {
   "cell_type": "code",
   "execution_count": null,
   "id": "a85b9247-c1dc-4072-a1dd-7b61c8251eeb",
   "metadata": {},
   "outputs": [],
   "source": [
    "# Format joined dataset to the SwissDRG Batchgrouper 2017 Format \n",
    "\n",
    "grouper_input_data_string = format_for_grouper(joined)\n",
    "\n",
    "grouper_input_data_string[17]"
   ]
  },
  {
   "cell_type": "code",
   "execution_count": null,
   "id": "bade6ed7-d9d3-41fb-a082-d559c1467340",
   "metadata": {},
   "outputs": [],
   "source": [
    "import subprocess\n",
    "\n",
    "\n",
    "example_batch_line = \"\"\"0044007489;57;0;0|0;W;20190101;01;20190101;00;1;0;C20|Z432|N40|I440|I493;465110::20190101|4823::20190101|009A13::20190101;\"\"\"\n",
    "\n",
    "# add date to procedures\n",
    "# change ; with | at one spot\n",
    "test_df_line = \"\"\"17722;93;;;M;20180315;01;20180317;00;2;0;I7024|Z9588|N184|Z922|I743;395011::|397511::|395021::|397510::|0042::|004B18::|004B1A::|884911::|005599::|0046::|393012::;\"\"\"\n",
    "\n",
    "grouper_result = subprocess.check_output([\"java\",\n",
    "                                \"-cp\",\n",
    "                                \"/home/jovyan/work/resources/aimedic-grouper-assembly-0.0.0-SNAPSHOT.jar\",\n",
    "                                \"ch.aimedic.grouper.BatchGroupeOne\",\n",
    "                                grouper_input_data_string[6]\n",
    "                                #test_df_line,\n",
    "                                ]).decode(\"utf-8\")\n",
    "\n",
    "\n",
    "grouperResults = subprocess.check_output([\"java\",\n",
    "                                \"-cp\",\n",
    "                                \"/home/jovyan/work/resources/aimedic-grouper-assembly-0.0.0-SNAPSHOT.jar\",\n",
    "                                \"ch.aimedic.grouper.BatchGroupMany\",\n",
    "                                f'{grouper_input_data_string[1]}#{grouper_input_data_string[6]}#{grouper_input_data_string[16]}',\n",
    "                                \"#\"\n",
    "                                #test_df_line,\n",
    "                                ]).decode(\"utf-8\")\n",
    "\n",
    "print(grouper_result)"
   ]
  },
  {
   "cell_type": "code",
   "execution_count": null,
   "id": "cd21268f-7f2c-400d-8420-e0601b23772d",
   "metadata": {},
   "outputs": [],
   "source": [
    "# TODO:\n",
    "# - Add medication \n",
    "# - Add and compare CHOP Codes for sideness and procedure date"
   ]
  }
 ],
 "metadata": {
  "kernelspec": {
   "display_name": "Python 3 (ipykernel)",
   "language": "python",
   "name": "python3"
  },
  "language_info": {
   "codemirror_mode": {
    "name": "ipython",
    "version": 3
   },
   "file_extension": ".py",
   "mimetype": "text/x-python",
   "name": "python",
   "nbconvert_exporter": "python",
   "pygments_lexer": "ipython3",
   "version": "3.10.6"
  }
 },
 "nbformat": 4,
 "nbformat_minor": 5
}
