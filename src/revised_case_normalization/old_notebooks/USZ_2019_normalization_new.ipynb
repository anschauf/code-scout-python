{
 "cells": [
  {
   "cell_type": "markdown",
   "id": "a4e2885d",
   "metadata": {
    "tags": []
   },
   "source": [
    "# Revised case normalization for KSSG SRRWS 2019\n",
    "\n",
    "Notes:\n",
    "\n",
    "- 17 of 17 revised DtoD cases were joined with the BFS cases from the DB.\n",
    "\n"
   ]
  },
  {
   "cell_type": "code",
   "execution_count": 1,
   "id": "d097a048",
   "metadata": {
    "collapsed": false,
    "jupyter": {
     "outputs_hidden": false
    }
   },
   "outputs": [],
   "source": [
    "import sys\n",
    "\n",
    "import pandas as pd\n",
    "import numpy as np\n",
    "\n",
    "from loguru import logger\n",
    "\n",
    "sys.path.insert(0, '/home/jovyan/work')\n",
    "\n",
    "from src.revised_case_normalization.py.global_configs import *\n",
    "from src.revised_case_normalization.py.normalize import normalize, remove_leading_zeros\n",
    "from src.service import bfs_cases_db_service as bfs_db\n",
    "from src.service.bfs_cases_db_service import session, get_sociodemographics_for_hospital_year, get_earliest_revisions_for_aimedic_ids, get_codes, apply_revisions\n",
    "from src.revised_case_normalization.py.format_for_grouper import format_for_grouper"
   ]
  },
  {
   "cell_type": "code",
   "execution_count": 2,
   "id": "4710c532",
   "metadata": {
    "collapsed": false,
    "jupyter": {
     "outputs_hidden": false
    }
   },
   "outputs": [
    {
     "name": "stdout",
     "output_type": "stream",
     "text": [
      "FileInfo(path='/home/jovyan/work/src/revised_case_normalization/raw_data/USZ_2018-2019_20200730.xlsx', hospital_name_db='USZ', year='2019', sheets=['Gesamtauffällige_USZ_2019'])\n"
     ]
    }
   ],
   "source": [
    "file_info = FileInfo(\n",
    "         os.path.join(ROOT_DIR, 'raw_data/USZ_2018-2019_20200730.xlsx'),\n",
    "         'USZ',\n",
    "         '2019',\n",
    "         ['Gesamtauffällige_USZ_2019'])\n",
    "\n",
    "print(file_info)"
   ]
  },
  {
   "cell_type": "code",
   "execution_count": 3,
   "id": "8c8b27df",
   "metadata": {
    "collapsed": false,
    "jupyter": {
     "outputs_hidden": false
    }
   },
   "outputs": [
    {
     "name": "stderr",
     "output_type": "stream",
     "text": [
      "2022-10-28 10:05:18.636 | INFO     | src.revised_case_normalization.py.normalize:normalize:35 - Read 150 cases for USZ 2019\n",
      "2022-10-28 10:05:18.639 | INFO     | src.revised_case_normalization.py.normalize:normalize:57 - TYPES:\n",
      "datum/ lieferung     string\n",
      "case_id              object\n",
      "patient_id           object\n",
      "kkik                 string\n",
      "gender               string\n",
      "age_years             int64\n",
      "bfs_code             string\n",
      "duration_of_stay      int64\n",
      "pflegetage neu       string\n",
      "pccl                  int64\n",
      "pccl neu             string\n",
      "old_pd               string\n",
      "primary_diagnosis    string\n",
      "added_icds           string\n",
      "removed_icds         string\n",
      "added_chops          string\n",
      "removed_chops        string\n",
      "drg                  string\n",
      "drg neu              string\n",
      "cw alt               string\n",
      "cw neu               string\n",
      "cw-änderung          string\n",
      "kommentar            string\n",
      "case_id_norm         object\n",
      "dtype: object\n",
      "2022-10-28 10:05:18.651 | INFO     | src.utils.dataframe_utils:validate_icd_codes:68 - Validated ICD codes in 'added_icds' and stored them into 'added_icds': All rows contain valid codes\n",
      "2022-10-28 10:05:18.657 | INFO     | src.utils.dataframe_utils:validate_icd_codes:68 - Validated ICD codes in 'removed_icds' and stored them into 'removed_icds': All rows contain valid codes\n",
      "2022-10-28 10:05:18.665 | INFO     | src.utils.dataframe_utils:validate_chop_codes:106 - Validated CHOP codes in 'added_chops' and stored them into 'added_chops': All rows contain valid codes\n",
      "2022-10-28 10:05:18.672 | INFO     | src.utils.dataframe_utils:validate_chop_codes:106 - Validated CHOP codes in 'removed_chops' and stored them into 'removed_chops': All rows contain valid codes\n",
      "2022-10-28 10:05:18.673 | INFO     | src.utils.dataframe_utils:remove_duplicated_chops:32 - Removing duplicated CHOP codes due to different casing ...\n",
      "2022-10-28 10:05:18.687 | INFO     | src.utils.dataframe_utils:validate_pd_revised_sd:161 - Validated redundant PD info in 'added_icds'/'removed_icds': The following 18 rows were affected:\n",
      "row 2: primary diagnosis R11 => M8088\n",
      "row 22: primary diagnosis M340 => I730\n",
      "row 60: primary diagnosis A418 => A419\n",
      "row 89: primary diagnosis I5013 => I5001\n",
      "row 92: primary diagnosis I64 => I633\n",
      "row 93: primary diagnosis C180 => I7024\n",
      "row 97: primary diagnosis N390 => A4151\n",
      "row 99: primary diagnosis S199 => S120\n",
      "row 100: primary diagnosis C098 => C108\n",
      "row 105: primary diagnosis N10 => A498\n",
      "row 108: primary diagnosis R55 => E871\n",
      "row 122: primary diagnosis N185 => T814\n",
      "row 135: primary diagnosis C793 => G418\n",
      "row 137: primary diagnosis J101 => J09\n",
      "row 138: primary diagnosis S3311 => S3201\n",
      "row 143: primary diagnosis F4540 => C341\n",
      "row 145: primary diagnosis I1001 => R522\n",
      "row 146: primary diagnosis C61 => A410\n",
      "2022-10-28 10:05:18.689 | INFO     | src.revised_case_normalization.py.normalize:normalize:98 - Removed 2 rows containing duplicates\n",
      "2022-10-28 10:05:18.690 | SUCCESS  | src.revised_case_normalization.py.normalize:normalize:100 - Completed validation\n"
     ]
    }
   ],
   "source": [
    "df_revised_case_d2d = normalize(file_info, 0)"
   ]
  },
  {
   "cell_type": "code",
   "execution_count": 4,
   "id": "6c589452",
   "metadata": {
    "collapsed": false,
    "jupyter": {
     "outputs_hidden": false
    }
   },
   "outputs": [
    {
     "data": {
      "text/html": [
       "<div>\n",
       "<style scoped>\n",
       "    .dataframe tbody tr th:only-of-type {\n",
       "        vertical-align: middle;\n",
       "    }\n",
       "\n",
       "    .dataframe tbody tr th {\n",
       "        vertical-align: top;\n",
       "    }\n",
       "\n",
       "    .dataframe thead th {\n",
       "        text-align: right;\n",
       "    }\n",
       "</style>\n",
       "<table border=\"1\" class=\"dataframe\">\n",
       "  <thead>\n",
       "    <tr style=\"text-align: right;\">\n",
       "      <th></th>\n",
       "      <th>case_id</th>\n",
       "      <th>patient_id</th>\n",
       "      <th>gender</th>\n",
       "      <th>age_years</th>\n",
       "      <th>duration_of_stay</th>\n",
       "      <th>case_id_norm</th>\n",
       "      <th>old_pd</th>\n",
       "      <th>primary_diagnosis</th>\n",
       "      <th>bfs_code</th>\n",
       "      <th>pccl</th>\n",
       "      <th>drg</th>\n",
       "      <th>added_icds</th>\n",
       "      <th>removed_icds</th>\n",
       "      <th>added_chops</th>\n",
       "      <th>removed_chops</th>\n",
       "    </tr>\n",
       "  </thead>\n",
       "  <tbody>\n",
       "    <tr>\n",
       "      <th>0</th>\n",
       "      <td>6400282213</td>\n",
       "      <td>3ED8F10117FCF5F5</td>\n",
       "      <td>M</td>\n",
       "      <td>54</td>\n",
       "      <td>13</td>\n",
       "      <td>6400282213</td>\n",
       "      <td>J4400</td>\n",
       "      <td>J4400</td>\n",
       "      <td>M200</td>\n",
       "      <td>3</td>\n",
       "      <td>E06A</td>\n",
       "      <td>[F058]</td>\n",
       "      <td>[]</td>\n",
       "      <td>[]</td>\n",
       "      <td>[]</td>\n",
       "    </tr>\n",
       "    <tr>\n",
       "      <th>1</th>\n",
       "      <td>6400287076</td>\n",
       "      <td>55C5A17F71DADEA0</td>\n",
       "      <td>M</td>\n",
       "      <td>62</td>\n",
       "      <td>5</td>\n",
       "      <td>6400287076</td>\n",
       "      <td>J068</td>\n",
       "      <td>J068</td>\n",
       "      <td>M800</td>\n",
       "      <td>3</td>\n",
       "      <td>D62C</td>\n",
       "      <td>[I8028, C770, C787]</td>\n",
       "      <td>[]</td>\n",
       "      <td>[]</td>\n",
       "      <td>[]</td>\n",
       "    </tr>\n",
       "    <tr>\n",
       "      <th>2</th>\n",
       "      <td>6400306817</td>\n",
       "      <td>0150AC67E3196B63</td>\n",
       "      <td>W</td>\n",
       "      <td>74</td>\n",
       "      <td>36</td>\n",
       "      <td>6400306817</td>\n",
       "      <td>R11</td>\n",
       "      <td>M8088</td>\n",
       "      <td>M100</td>\n",
       "      <td>3</td>\n",
       "      <td>G72C</td>\n",
       "      <td>[R64]</td>\n",
       "      <td>[]</td>\n",
       "      <td>[]</td>\n",
       "      <td>[]</td>\n",
       "    </tr>\n",
       "    <tr>\n",
       "      <th>3</th>\n",
       "      <td>6400316927</td>\n",
       "      <td>153929A139272585</td>\n",
       "      <td>W</td>\n",
       "      <td>79</td>\n",
       "      <td>6</td>\n",
       "      <td>6400316927</td>\n",
       "      <td>G3531</td>\n",
       "      <td>G3531</td>\n",
       "      <td>M100</td>\n",
       "      <td>3</td>\n",
       "      <td>B68C</td>\n",
       "      <td>[R471]</td>\n",
       "      <td>[]</td>\n",
       "      <td>[]</td>\n",
       "      <td>[]</td>\n",
       "    </tr>\n",
       "    <tr>\n",
       "      <th>4</th>\n",
       "      <td>6400278895</td>\n",
       "      <td>014A89BB816D9215</td>\n",
       "      <td>W</td>\n",
       "      <td>71</td>\n",
       "      <td>44</td>\n",
       "      <td>6400278895</td>\n",
       "      <td>T827</td>\n",
       "      <td>T827</td>\n",
       "      <td>M200</td>\n",
       "      <td>3</td>\n",
       "      <td>F75D</td>\n",
       "      <td>[D508]</td>\n",
       "      <td>[D648]</td>\n",
       "      <td>[]</td>\n",
       "      <td>[]</td>\n",
       "    </tr>\n",
       "  </tbody>\n",
       "</table>\n",
       "</div>"
      ],
      "text/plain": [
       "      case_id        patient_id gender  age_years  duration_of_stay case_id_norm old_pd primary_diagnosis bfs_code  pccl   drg           added_icds removed_icds added_chops removed_chops\n",
       "0  6400282213  3ED8F10117FCF5F5      M         54                13   6400282213  J4400             J4400     M200     3  E06A               [F058]           []          []            []\n",
       "1  6400287076  55C5A17F71DADEA0      M         62                 5   6400287076   J068              J068     M800     3  D62C  [I8028, C770, C787]           []          []            []\n",
       "2  6400306817  0150AC67E3196B63      W         74                36   6400306817    R11             M8088     M100     3  G72C                [R64]           []          []            []\n",
       "3  6400316927  153929A139272585      W         79                 6   6400316927  G3531             G3531     M100     3  B68C               [R471]           []          []            []\n",
       "4  6400278895  014A89BB816D9215      W         71                44   6400278895   T827              T827     M200     3  F75D               [D508]       [D648]          []            []"
      ]
     },
     "execution_count": 4,
     "metadata": {},
     "output_type": "execute_result"
    }
   ],
   "source": [
    "df_revised_case_d2d.head()"
   ]
  },
  {
   "cell_type": "markdown",
   "id": "a6796573",
   "metadata": {
    "tags": []
   },
   "source": [
    "# Match revised DtoD data with the BfS data from the database"
   ]
  },
  {
   "cell_type": "code",
   "execution_count": 5,
   "id": "65408537-cd4a-4b7c-a785-0db424378909",
   "metadata": {},
   "outputs": [
    {
     "name": "stderr",
     "output_type": "stream",
     "text": [
      "2022-10-28 10:05:20.259 | INFO     | src.service.bfs_cases_db_service:get_sociodemographics_for_hospital_year:124 - Read 14430 rows from the DB, for the hospital 'USZ' in 2019\n"
     ]
    },
    {
     "name": "stdout",
     "output_type": "stream",
     "text": [
      "   aimedic_id     case_id        patient_id  age_years  age_days  admission_weight  gestation_age gender admission_date grouper_admission_type discharge_date grouper_discharge_type  duration_of_stay  ventilation_hours case_id_norm\n",
      "0      564429  6400338029  E4F4ECE39AB53C9C         56         0                 0              0      M     2019-12-03                     01     2019-12-07                     00                 4                  0   6400338029\n",
      "1      564430  6400331968  3CF54273AF86873D         67         0                 0              0      W     2019-12-30                     01     2019-12-31                     00                 1                  0   6400331968\n",
      "2      564431  6400340252  26A4B9A2ED096E0B         33         0                 0              0      W     2019-09-09                     01     2019-09-12                     00                 3                  0   6400340252\n",
      "3      564432  6400338455  062551800ED625B7         66         0                 0              0      W     2019-10-29                     01     2019-11-04                     00                 6                  0   6400338455\n",
      "4      564433  6400342545  C7CDC16A7BE75BA8         43         0                 0              0      M     2019-10-30                     06     2019-12-19                     07                50                  0   6400342545\n"
     ]
    }
   ],
   "source": [
    "cases_in_db = get_sociodemographics_for_hospital_year(file_info.hospital_name_db, int(file_info.year))\n",
    "cases_in_db[NORM_CASE_ID_COL] = cases_in_db[CASE_ID_COL].apply(remove_leading_zeros)\n",
    "print(cases_in_db.head())"
   ]
  },
  {
   "cell_type": "code",
   "execution_count": 6,
   "id": "8362bdd0",
   "metadata": {
    "collapsed": false,
    "jupyter": {
     "outputs_hidden": false
    }
   },
   "outputs": [],
   "source": [
    "cols_to_join = list(VALIDATION_COLS)\n",
    "cols_to_join.remove(CASE_ID_COL)\n",
    "cols_to_join.append(NORM_CASE_ID_COL)\n",
    "\n",
    "cols_to_join.remove(PATIENT_ID_COL)\n",
    "\n",
    "# Merge cases in db with the revised cases\n",
    "\n",
    "joined = pd.merge(df_revised_case_d2d, cases_in_db,\n",
    "                  how='left',\n",
    "                  on=cols_to_join,\n",
    "                  suffixes=('', '_db'))"
   ]
  },
  {
   "cell_type": "code",
   "execution_count": 7,
   "id": "a114f1c6-2ae9-40b2-8eea-b503686a6457",
   "metadata": {},
   "outputs": [
    {
     "name": "stderr",
     "output_type": "stream",
     "text": [
      "2022-10-28 10:05:20.286 | INFO     | __main__:<module>:4 - 76 rows could not be matched, given ['age_years', 'case_id_norm', 'duration_of_stay', 'gender']\n"
     ]
    }
   ],
   "source": [
    "# Print out how many rows could not be matched\n",
    "unmatched = joined[joined[AIMEDIC_ID_COL].isna()]\n",
    "num_unmatched = unmatched.shape[0]\n",
    "logger.info(f'{num_unmatched} rows could not be matched, given {sorted(cols_to_join)}')"
   ]
  },
  {
   "cell_type": "code",
   "execution_count": 8,
   "id": "a85b9247-c1dc-4072-a1dd-7b61c8251eeb",
   "metadata": {},
   "outputs": [
    {
     "name": "stderr",
     "output_type": "stream",
     "text": [
      "2022-10-28 10:05:21.087 | INFO     | src.revised_case_normalization.py.format_for_grouper:format_for_grouper:80 - Formatted 72 cases\n"
     ]
    },
    {
     "data": {
      "text/plain": [
       "0     567005;52;0.0;0.0|0.0;M;20191111;01;20191118;00;7;0.0;K432|T8611|Z940|D90|I2513|I1000|E784|Z855|...\n",
       "1     567244;61;0.0;0.0|0.0;W;20191023;06;20191028;00;5;0.0;C712|G941|G936|G935|G819;015910::|012421::...\n",
       "2     571629;81;0.0;0.0|0.0;W;20191102;06;20191113;00;11;0.0;G4533|U5010|I724|D62|I725|R31|I2511|Z955|...\n",
       "3     569583;67;0.0;0.0|0.0;M;20191113;01;20191127;00;14;0.0;C679|C778|N132|E1191|S366|Y69|E871;577110...\n",
       "4     568184;48;0.0;0.0|0.0;M;20191110;01;20191120;00;10;0.0;I7022|Z9588|Z921|T823|I652|I2511|I2522|Z9...\n",
       "                                                     ...                                                 \n",
       "67    574732;44;0.0;0.0|0.0;M;20190918;01;20190926;00;8;0.0;M511|G551|M9953|G573|B182|Z21|F4541|F321|U...\n",
       "68    575252;56;0.0;0.0|0.0;M;20190923;01;20191025;00;32;0.0;C9000|G832|R202|M8955|M5413|Z857|I420|L30...\n",
       "69    572959;90;0.0;0.0|0.0;M;20190903;01;20191003;00;30;0.0;K550|K631|K5730|Z9588|I2512|I2522|Z955|I1...\n",
       "70    564903;84;0.0;0.0|0.0;M;20190810;01;20190823;00;13;0.0;M5416|R33|G6288|Z4500|E1191|I1190|I489|Z9...\n",
       "71    570142;43;0.0;0.0|0.0;M;20191018;01;20191021;00;3;0.0;K260|D62|I958|Z9588|L8924|G8230|G8262;99B8...\n",
       "Length: 72, dtype: object"
      ]
     },
     "execution_count": 8,
     "metadata": {},
     "output_type": "execute_result"
    }
   ],
   "source": [
    "# Format joined dataset to the SwissDRG Batchgrouper 2017 Format \n",
    "\n",
    "grouper_input_data_string = format_for_grouper(joined)\n",
    "\n",
    "grouper_input_data_string"
   ]
  },
  {
   "cell_type": "code",
   "execution_count": 9,
   "id": "bade6ed7-d9d3-41fb-a082-d559c1467340",
   "metadata": {},
   "outputs": [
    {
     "name": "stdout",
     "output_type": "stream",
     "text": [
      "[{\"DRG\" : \"960Z\", \"MDC\" : \"01\", \"PCCL\" : 0, \"GST\" : \"INVALID_AGE\"}, {\"DRG\" : \"960Z\", \"MDC\" : \"04\", \"PCCL\" : 0, \"GST\" : \"INVALID_AGE\"}, {\"DRG\" : \"960Z\", \"MDC\" : \"11\", \"PCCL\" : 0, \"GST\" : \"INVALID_AGE\"}]\n"
     ]
    }
   ],
   "source": [
    "import subprocess\n",
    "\n",
    "\n",
    "example_batch_line = \"\"\"257678;49;0;;M;20190531;01;20190607;00;7;0;A46|I5014|I1100|I480|Z921|F102|E039|K746;::;\"\"\"\n",
    "\n",
    "# add date to procedures\n",
    "# change ; with | at one spot\n",
    "test_df_line = \"\"\"17722;93;;;M;20180315;01;20180317;00;2;0;I7024|Z9588|N184|Z922|I743;395011::|397511::|395021::|397510::|0042::|004B18::|004B1A::|884911::|005599::|0046::|393012::;\"\"\"\n",
    "\n",
    "grouper_result = subprocess.check_output([\"java\",\n",
    "                                \"-cp\",\n",
    "                                \"/home/jovyan/work/resources/aimedic-grouper-assembly-0.0.0-SNAPSHOT.jar\",\n",
    "                                \"ch.aimedic.grouper.BatchGroupeOne\",\n",
    "                                grouper_input_data_string[6]\n",
    "                                #test_df_line,\n",
    "                                ]).decode(\"utf-8\")\n",
    "\n",
    "\n",
    "grouperResults = subprocess.check_output([\"java\",\n",
    "                                \"-cp\",\n",
    "                                \"/home/jovyan/work/resources/aimedic-grouper-assembly-0.0.0-SNAPSHOT.jar\",\n",
    "                                \"ch.aimedic.grouper.BatchGroupMany\",\n",
    "                                f'{grouper_input_data_string[1]}#{grouper_input_data_string[6]}#{grouper_input_data_string[13]}',\n",
    "                                \"#\"\n",
    "                                #test_df_line,\n",
    "                                ]).decode(\"utf-8\")\n",
    "\n",
    "print(grouperResults)"
   ]
  },
  {
   "cell_type": "code",
   "execution_count": 10,
   "id": "cd21268f-7f2c-400d-8420-e0601b23772d",
   "metadata": {},
   "outputs": [],
   "source": [
    "# TODO:\n",
    "# - Add medication \n",
    "# - Add and compare CHOP Codes for sideness and procedure date"
   ]
  }
 ],
 "metadata": {
  "kernelspec": {
   "display_name": "Python 3 (ipykernel)",
   "language": "python",
   "name": "python3"
  },
  "language_info": {
   "codemirror_mode": {
    "name": "ipython",
    "version": 3
   },
   "file_extension": ".py",
   "mimetype": "text/x-python",
   "name": "python",
   "nbconvert_exporter": "python",
   "pygments_lexer": "ipython3",
   "version": "3.10.6"
  }
 },
 "nbformat": 4,
 "nbformat_minor": 5
}
