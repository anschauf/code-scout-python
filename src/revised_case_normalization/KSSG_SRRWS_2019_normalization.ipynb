{
 "cells": [
  {
   "cell_type": "raw",
   "id": "79034e7c-e3bb-4c7c-990a-2965e28678e2",
   "metadata": {
    "pycharm": {
     "name": "#%% md\n"
    }
   },
   "source": [
    "# Revised case normalization for KSSG SRRWS 2019\n",
    "\n",
    "This jupyter notebook is used to normalize the revised case from DtoD.\n",
    "\n",
    "Before runing the notebook, raw_data folder need to added to the root directory\n",
    "\n",
    "The raw data folder can be find here: https://aimedic.sharepoint.com/:f:/s/dev/Ejx_A1dg8gtPumFknOWOh0oBi6ofx9hctYiq3c-0gH9vYA?e=UmcgrS\n",
    "\n",
    "Normalization:\n",
    "\n",
    "-  Convert the column names to the name used in the Database\n",
    "-  Delete cases which is empty in the follow columns VALIDATION_COLS: 'case_id', 'patient_id', 'gender', 'age_years', duration_of_stay',  'pccl',  'drg'\n",
    "- choose neccessary columns COLS_TO_SELECT: case_id, patient_id, gender, age_years, duration_of_stay, pccl, drg, pd, bfs_code, added_icds, removed_icds, added_chops, removed_chops\n",
    "- still need to do (TODO):    \n",
    "    -  Check CHOP upper/lowercase\n",
    "    -  Check whether the PD changed. If it did, new and old PD are stored together with added and removed ICDs, respectively\n",
    "    -  Pad case IDs with 0s\n",
    "    -  Write function to validate cases\n"
   ]
  },
  {
   "cell_type": "code",
   "execution_count": 1,
   "id": "2acf8333-0c08-4555-b245-1f378f5b9f1f",
   "metadata": {
    "pycharm": {
     "is_executing": true,
     "name": "#%%\n"
    }
   },
   "outputs": [
    {
     "name": "stderr",
     "output_type": "stream",
     "text": [
      "/home/jovyan/work/src/models/BfsCase.py:5: SAWarning: On class 'BfsCase', Column object 'drg_cost_weight' named directly multiple times, only one will be used: drg_cost_weight, effective_cost_weight. Consider using orm.synonym instead\n",
      "  class BfsCase(Base):\n"
     ]
    }
   ],
   "source": [
    "import pandas as pd\n",
    "import os\n",
    "from dataclasses import dataclass, field\n",
    "import sys\n",
    "sys.path.insert(0, '/home/jovyan/work')\n",
    "sys.path.insert(1, '/home/jovyan/work/src')\n",
    "sys.path.insert(2, '/home/jovyan/work/src/service')\n",
    "\n",
    "from service import bfs_cases_db_service as bfs_db\n",
    "\n",
    "from py.global_configs import *\n",
    "from py.normalize import normalize"
   ]
  },
  {
   "cell_type": "code",
   "execution_count": 2,
   "id": "7afa747d-1bf5-4644-9e9e-847a96e08dc2",
   "metadata": {},
   "outputs": [
    {
     "data": {
      "text/plain": [
       "dict_keys(['Hirslanden Salem 2017', 'Hirslanden Beau Site 2017', 'Hirslanden Linde 2017', 'Hirslanden Linde 2018', 'Hirslanden Salem 2018', 'Hirslanden Beau Site 2018', 'Winterthur 2017', 'Winterthur 2018', 'Winterthur 2019', 'Winterthur 2020', 'USZ 2018', 'USZ 2019', 'USZ 2019_30_04_2020', 'KSSG 2021', 'KSSG Linth 2019', 'KSSG Toggenburg 2019', 'KSSG SRRWS 2019'])"
      ]
     },
     "execution_count": 2,
     "metadata": {},
     "output_type": "execute_result"
    }
   ],
   "source": [
    "# check all the file name\n",
    "\n",
    "FILES_TO_ANALYZE.keys()\n"
   ]
  },
  {
   "cell_type": "code",
   "execution_count": 3,
   "id": "3745ce47-813d-4cbe-b275-25417714a5a6",
   "metadata": {},
   "outputs": [
    {
     "data": {
      "text/plain": [
       "FileInfo(path='/home/jovyan/work/src/revised_case_normalization/raw_data/Linth_Toggenburg_SRRWS_2019.xlsx', hospital_name_db='KSSG SRRWS', year='2019', sheets=['Änderungen SRRWS_2019'])"
      ]
     },
     "execution_count": 3,
     "metadata": {},
     "output_type": "execute_result"
    }
   ],
   "source": [
    "file = FILES_TO_ANALYZE['KSSG SRRWS 2019']\n",
    "file"
   ]
  },
  {
   "cell_type": "code",
   "execution_count": 4,
   "id": "9b6a51f2-b09d-4f13-8233-39e382bd56df",
   "metadata": {},
   "outputs": [
    {
     "name": "stdout",
     "output_type": "stream",
     "text": [
      "Read 48 cases for KSSG SRRWS 2019\n",
      "TYPES:\n",
      "case_id             string\n",
      "patient_id          string\n",
      "gender              string\n",
      "age_years            int64\n",
      "duration_of_stay     int64\n",
      "pccl                 int64\n",
      "drg                 string\n",
      "pd                  string\n",
      "bfs_code            string\n",
      "added_icds          string\n",
      "removed_icds        string\n",
      "added_chops         string\n",
      "removed_chops       string\n",
      "dtype: object\n"
     ]
    }
   ],
   "source": [
    "\n",
    "df_revised_case_d2d = normalize(file, 0)"
   ]
  },
  {
   "cell_type": "code",
   "execution_count": 6,
   "id": "c5bdeaa9-6854-4f37-9560-4525d6b30682",
   "metadata": {},
   "outputs": [
    {
     "data": {
      "text/html": [
       "<div>\n",
       "<style scoped>\n",
       "    .dataframe tbody tr th:only-of-type {\n",
       "        vertical-align: middle;\n",
       "    }\n",
       "\n",
       "    .dataframe tbody tr th {\n",
       "        vertical-align: top;\n",
       "    }\n",
       "\n",
       "    .dataframe thead th {\n",
       "        text-align: right;\n",
       "    }\n",
       "</style>\n",
       "<table border=\"1\" class=\"dataframe\">\n",
       "  <thead>\n",
       "    <tr style=\"text-align: right;\">\n",
       "      <th></th>\n",
       "      <th>case_id</th>\n",
       "      <th>patient_id</th>\n",
       "      <th>gender</th>\n",
       "      <th>age_years</th>\n",
       "      <th>duration_of_stay</th>\n",
       "      <th>pccl</th>\n",
       "      <th>drg</th>\n",
       "      <th>pd</th>\n",
       "      <th>bfs_code</th>\n",
       "      <th>added_icds</th>\n",
       "      <th>removed_icds</th>\n",
       "      <th>added_chops</th>\n",
       "      <th>removed_chops</th>\n",
       "    </tr>\n",
       "  </thead>\n",
       "  <tbody>\n",
       "    <tr>\n",
       "      <th>0</th>\n",
       "      <td>2010216467</td>\n",
       "      <td>971401A627916522</td>\n",
       "      <td>W</td>\n",
       "      <td>67</td>\n",
       "      <td>16</td>\n",
       "      <td>2</td>\n",
       "      <td>I27D</td>\n",
       "      <td>M7285</td>\n",
       "      <td>M200</td>\n",
       "      <td>D62,L0311</td>\n",
       "      <td>D648</td>\n",
       "      <td>&lt;NA&gt;</td>\n",
       "      <td>&lt;NA&gt;</td>\n",
       "    </tr>\n",
       "    <tr>\n",
       "      <th>1</th>\n",
       "      <td>2010230894</td>\n",
       "      <td>0FD7D457C22B4ECD</td>\n",
       "      <td>M</td>\n",
       "      <td>75</td>\n",
       "      <td>10</td>\n",
       "      <td>3</td>\n",
       "      <td>X06B</td>\n",
       "      <td>S510</td>\n",
       "      <td>M100</td>\n",
       "      <td>R18</td>\n",
       "      <td>&lt;NA&gt;</td>\n",
       "      <td>&lt;NA&gt;</td>\n",
       "      <td>&lt;NA&gt;</td>\n",
       "    </tr>\n",
       "    <tr>\n",
       "      <th>2</th>\n",
       "      <td>2010233003</td>\n",
       "      <td>D6D96CE0A68739FB</td>\n",
       "      <td>W</td>\n",
       "      <td>70</td>\n",
       "      <td>14</td>\n",
       "      <td>3</td>\n",
       "      <td>G21B</td>\n",
       "      <td>K432</td>\n",
       "      <td>M200</td>\n",
       "      <td>D62</td>\n",
       "      <td>D649</td>\n",
       "      <td>&lt;NA&gt;</td>\n",
       "      <td>&lt;NA&gt;</td>\n",
       "    </tr>\n",
       "    <tr>\n",
       "      <th>3</th>\n",
       "      <td>2010234179</td>\n",
       "      <td>FB8869E03D85B3F5</td>\n",
       "      <td>M</td>\n",
       "      <td>59</td>\n",
       "      <td>7</td>\n",
       "      <td>3</td>\n",
       "      <td>H62B</td>\n",
       "      <td>K868</td>\n",
       "      <td>M100</td>\n",
       "      <td>I5014</td>\n",
       "      <td>I509</td>\n",
       "      <td>&lt;NA&gt;</td>\n",
       "      <td>&lt;NA&gt;</td>\n",
       "    </tr>\n",
       "    <tr>\n",
       "      <th>4</th>\n",
       "      <td>2070263179</td>\n",
       "      <td>A8239CB0553D4656</td>\n",
       "      <td>W</td>\n",
       "      <td>79</td>\n",
       "      <td>8</td>\n",
       "      <td>3</td>\n",
       "      <td>F12D</td>\n",
       "      <td>I441</td>\n",
       "      <td>M100</td>\n",
       "      <td>J9580</td>\n",
       "      <td>&lt;NA&gt;</td>\n",
       "      <td>&lt;NA&gt;</td>\n",
       "      <td>&lt;NA&gt;</td>\n",
       "    </tr>\n",
       "  </tbody>\n",
       "</table>\n",
       "</div>"
      ],
      "text/plain": [
       "      case_id        patient_id gender  age_years  duration_of_stay  pccl  \\\n",
       "0  2010216467  971401A627916522      W         67                16     2   \n",
       "1  2010230894  0FD7D457C22B4ECD      M         75                10     3   \n",
       "2  2010233003  D6D96CE0A68739FB      W         70                14     3   \n",
       "3  2010234179  FB8869E03D85B3F5      M         59                 7     3   \n",
       "4  2070263179  A8239CB0553D4656      W         79                 8     3   \n",
       "\n",
       "    drg     pd bfs_code added_icds removed_icds added_chops removed_chops  \n",
       "0  I27D  M7285     M200  D62,L0311         D648        <NA>          <NA>  \n",
       "1  X06B   S510     M100        R18         <NA>        <NA>          <NA>  \n",
       "2  G21B   K432     M200        D62         D649        <NA>          <NA>  \n",
       "3  H62B   K868     M100      I5014         I509        <NA>          <NA>  \n",
       "4  F12D   I441     M100      J9580         <NA>        <NA>          <NA>  "
      ]
     },
     "execution_count": 6,
     "metadata": {},
     "output_type": "execute_result"
    }
   ],
   "source": [
    "df_revised_case_d2d.head()"
   ]
  },
  {
   "cell_type": "markdown",
   "id": "4558e4f8",
   "metadata": {
    "pycharm": {
     "name": "#%% md\n"
    }
   },
   "source": [
    "# match to the database\n"
   ]
  },
  {
   "cell_type": "code",
   "execution_count": 7,
   "id": "ac5bc674-a6b4-447a-a630-33d25180f9c4",
   "metadata": {},
   "outputs": [
    {
     "data": {
      "text/plain": [
       "array(['2010216467', '2010230894', '2010233003', '2010234179',\n",
       "       '2070263179', '2010220228', '2010228707', '2010229560',\n",
       "       '2010230678', '2070282416', '2070287841', '2070284708',\n",
       "       '2010234918', '2010234948', '2070285115', '2010227097',\n",
       "       '2010230191', '2010231388', '2070264552', '2010222584',\n",
       "       '2010224862', '2010231874', '2010236987', '2010238492',\n",
       "       '2010242300', '2070268669', '2010220656', '2010227288',\n",
       "       '2070265027', '2010222118', '2010225191', '2010229750',\n",
       "       '2010231195', '2010231435', '2070273678', '2010234290',\n",
       "       '2010237009', '2070264374', '2070267501', '2070290212',\n",
       "       '2070280035', '2010217844', '2010221707', '2010222228',\n",
       "       '2010231467', '2010236020', '2070280704', '2070288570'],\n",
       "      dtype=object)"
      ]
     },
     "execution_count": 7,
     "metadata": {},
     "output_type": "execute_result"
    }
   ],
   "source": [
    "# get the case_id from revised_case\n",
    "\n",
    "revised_case_id = df_revised_case_d2d['case_id'].values\n",
    "revised_case_id"
   ]
  },
  {
   "cell_type": "code",
   "execution_count": 8,
   "id": "01dcb99c-b01f-4808-b9c0-a450a2f3150e",
   "metadata": {},
   "outputs": [
    {
     "data": {
      "text/html": [
       "<div>\n",
       "<style scoped>\n",
       "    .dataframe tbody tr th:only-of-type {\n",
       "        vertical-align: middle;\n",
       "    }\n",
       "\n",
       "    .dataframe tbody tr th {\n",
       "        vertical-align: top;\n",
       "    }\n",
       "\n",
       "    .dataframe thead th {\n",
       "        text-align: right;\n",
       "    }\n",
       "</style>\n",
       "<table border=\"1\" class=\"dataframe\">\n",
       "  <thead>\n",
       "    <tr style=\"text-align: right;\">\n",
       "      <th></th>\n",
       "      <th>drg_cost_weight</th>\n",
       "      <th>aimedic_id</th>\n",
       "      <th>hospital_id</th>\n",
       "      <th>case_id</th>\n",
       "      <th>patient_id</th>\n",
       "      <th>age_years</th>\n",
       "      <th>age_days</th>\n",
       "      <th>gender</th>\n",
       "      <th>duration_of_stay</th>\n",
       "      <th>clinic_id</th>\n",
       "      <th>ventilation_hours</th>\n",
       "      <th>admission_weight</th>\n",
       "      <th>gestation_age</th>\n",
       "      <th>admission_date</th>\n",
       "      <th>admission_type</th>\n",
       "      <th>discharge_date</th>\n",
       "      <th>discharge_type</th>\n",
       "      <th>drg</th>\n",
       "      <th>adrg</th>\n",
       "      <th>pccl</th>\n",
       "    </tr>\n",
       "  </thead>\n",
       "  <tbody>\n",
       "    <tr>\n",
       "      <th>0</th>\n",
       "      <td>0.706</td>\n",
       "      <td>294901</td>\n",
       "      <td>10</td>\n",
       "      <td>2010216467</td>\n",
       "      <td>971401A627916522</td>\n",
       "      <td>67</td>\n",
       "      <td>0</td>\n",
       "      <td>W</td>\n",
       "      <td>16</td>\n",
       "      <td>4</td>\n",
       "      <td>0</td>\n",
       "      <td>0</td>\n",
       "      <td>0</td>\n",
       "      <td>2019-01-18</td>\n",
       "      <td>01</td>\n",
       "      <td>2019-02-03</td>\n",
       "      <td>00</td>\n",
       "      <td>I27D</td>\n",
       "      <td>I27</td>\n",
       "      <td>2</td>\n",
       "    </tr>\n",
       "    <tr>\n",
       "      <th>1</th>\n",
       "      <td>1.302</td>\n",
       "      <td>293076</td>\n",
       "      <td>10</td>\n",
       "      <td>2010217844</td>\n",
       "      <td>4E884A43EE05202E</td>\n",
       "      <td>50</td>\n",
       "      <td>0</td>\n",
       "      <td>W</td>\n",
       "      <td>7</td>\n",
       "      <td>5</td>\n",
       "      <td>0</td>\n",
       "      <td>0</td>\n",
       "      <td>0</td>\n",
       "      <td>2019-02-28</td>\n",
       "      <td>01</td>\n",
       "      <td>2019-03-07</td>\n",
       "      <td>00</td>\n",
       "      <td>N04A</td>\n",
       "      <td>N04</td>\n",
       "      <td>0</td>\n",
       "    </tr>\n",
       "    <tr>\n",
       "      <th>2</th>\n",
       "      <td>1.793</td>\n",
       "      <td>293971</td>\n",
       "      <td>10</td>\n",
       "      <td>2010220228</td>\n",
       "      <td>0684D4B0A48A69C8</td>\n",
       "      <td>60</td>\n",
       "      <td>0</td>\n",
       "      <td>M</td>\n",
       "      <td>14</td>\n",
       "      <td>4</td>\n",
       "      <td>0</td>\n",
       "      <td>0</td>\n",
       "      <td>0</td>\n",
       "      <td>2019-04-16</td>\n",
       "      <td>01</td>\n",
       "      <td>2019-04-30</td>\n",
       "      <td>00</td>\n",
       "      <td>G18B</td>\n",
       "      <td>G18</td>\n",
       "      <td>3</td>\n",
       "    </tr>\n",
       "    <tr>\n",
       "      <th>3</th>\n",
       "      <td>0.502</td>\n",
       "      <td>300112</td>\n",
       "      <td>10</td>\n",
       "      <td>2010220656</td>\n",
       "      <td>3EB7CE71A578B8BE</td>\n",
       "      <td>83</td>\n",
       "      <td>0</td>\n",
       "      <td>W</td>\n",
       "      <td>4</td>\n",
       "      <td>3</td>\n",
       "      <td>0</td>\n",
       "      <td>0</td>\n",
       "      <td>0</td>\n",
       "      <td>2019-03-07</td>\n",
       "      <td>01</td>\n",
       "      <td>2019-03-11</td>\n",
       "      <td>00</td>\n",
       "      <td>F72B</td>\n",
       "      <td>F72</td>\n",
       "      <td>2</td>\n",
       "    </tr>\n",
       "    <tr>\n",
       "      <th>4</th>\n",
       "      <td>0.888</td>\n",
       "      <td>296788</td>\n",
       "      <td>10</td>\n",
       "      <td>2010221707</td>\n",
       "      <td>29E59C19E0C812A5</td>\n",
       "      <td>85</td>\n",
       "      <td>0</td>\n",
       "      <td>M</td>\n",
       "      <td>3</td>\n",
       "      <td>3</td>\n",
       "      <td>0</td>\n",
       "      <td>0</td>\n",
       "      <td>0</td>\n",
       "      <td>2019-03-22</td>\n",
       "      <td>01</td>\n",
       "      <td>2019-03-25</td>\n",
       "      <td>00</td>\n",
       "      <td>F62C</td>\n",
       "      <td>F62</td>\n",
       "      <td>3</td>\n",
       "    </tr>\n",
       "  </tbody>\n",
       "</table>\n",
       "</div>"
      ],
      "text/plain": [
       "   drg_cost_weight  aimedic_id  hospital_id     case_id        patient_id  \\\n",
       "0            0.706      294901           10  2010216467  971401A627916522   \n",
       "1            1.302      293076           10  2010217844  4E884A43EE05202E   \n",
       "2            1.793      293971           10  2010220228  0684D4B0A48A69C8   \n",
       "3            0.502      300112           10  2010220656  3EB7CE71A578B8BE   \n",
       "4            0.888      296788           10  2010221707  29E59C19E0C812A5   \n",
       "\n",
       "   age_years  age_days gender  duration_of_stay  clinic_id  ventilation_hours  \\\n",
       "0         67         0      W                16          4                  0   \n",
       "1         50         0      W                 7          5                  0   \n",
       "2         60         0      M                14          4                  0   \n",
       "3         83         0      W                 4          3                  0   \n",
       "4         85         0      M                 3          3                  0   \n",
       "\n",
       "   admission_weight  gestation_age admission_date admission_type  \\\n",
       "0                 0              0     2019-01-18             01   \n",
       "1                 0              0     2019-02-28             01   \n",
       "2                 0              0     2019-04-16             01   \n",
       "3                 0              0     2019-03-07             01   \n",
       "4                 0              0     2019-03-22             01   \n",
       "\n",
       "  discharge_date discharge_type   drg adrg  pccl  \n",
       "0     2019-02-03             00  I27D  I27     2  \n",
       "1     2019-03-07             00  N04A  N04     0  \n",
       "2     2019-04-30             00  G18B  G18     3  \n",
       "3     2019-03-11             00  F72B  F72     2  \n",
       "4     2019-03-25             00  F62C  F62     3  "
      ]
     },
     "execution_count": 8,
     "metadata": {},
     "output_type": "execute_result"
    }
   ],
   "source": [
    "# match to the database\n",
    "revised_case_db = bfs_db.get_bfs_cases_by_ids(revised_case_id)\n",
    "revised_case_db.head()"
   ]
  },
  {
   "cell_type": "code",
   "execution_count": 9,
   "id": "9cbccb57-930a-4882-a585-37f70e7d3e94",
   "metadata": {},
   "outputs": [
    {
     "name": "stdout",
     "output_type": "stream",
     "text": [
      "There are 48 out of 48 revised cases from DtoD that are matched with the database for KSSG SRRWS 2019\n"
     ]
    }
   ],
   "source": [
    "# \n",
    "print('There are {} out of {} revised cases from DtoD that are matched with the database for {} {}'.format(len(revised_case_db), len(revised_case_id), file.hospital_name_db, file.year))"
   ]
  },
  {
   "cell_type": "code",
   "execution_count": 10,
   "id": "265fbf94-6820-4b3b-8022-d699e44b35af",
   "metadata": {},
   "outputs": [],
   "source": [
    "# if we find the match cases, then we need to check if the case_id, gender, year....are match"
   ]
  }
 ],
 "metadata": {
  "kernelspec": {
   "display_name": "Python 3 (ipykernel)",
   "language": "python",
   "name": "python3"
  },
  "language_info": {
   "codemirror_mode": {
    "name": "ipython",
    "version": 3
   },
   "file_extension": ".py",
   "mimetype": "text/x-python",
   "name": "python",
   "nbconvert_exporter": "python",
   "pygments_lexer": "ipython3",
   "version": "3.10.6"
  }
 },
 "nbformat": 4,
 "nbformat_minor": 5
}
