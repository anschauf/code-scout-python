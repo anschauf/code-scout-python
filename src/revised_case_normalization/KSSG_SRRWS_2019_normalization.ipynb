{
 "cells": [
  {
   "cell_type": "markdown",
   "id": "a4e2885d",
   "metadata": {
    "pycharm": {
     "name": "#%% md\n"
    },
    "tags": []
   },
   "source": [
    "# Revised case normalization for KSSG Linth 2019\n",
    "Notes:\n",
    "\n",
    "- 25 of 25 revised DtoD cases were joined with the BFS cases from the DB.\n"
   ]
  },
  {
   "cell_type": "code",
   "execution_count": 1,
   "id": "d097a048",
   "metadata": {
    "collapsed": false,
    "jupyter": {
     "outputs_hidden": false
    },
    "pycharm": {
     "name": "#%%\n"
    }
   },
   "outputs": [],
   "source": [
    "import sys\n",
    "\n",
    "import pandas as pd\n",
    "import numpy as np\n",
    "\n",
    "from loguru import logger\n",
    "\n",
    "sys.path.insert(0, '/home/jovyan/work')\n",
    "\n",
    "from src.revised_case_normalization.py.global_configs import *\n",
    "from src.revised_case_normalization.py.normalize import normalize\n",
    "from src.service import bfs_cases_db_service as bfs_db\n",
    "from src.service.bfs_cases_db_service import session, get_hospital_year_cases"
   ]
  },
  {
   "cell_type": "code",
   "execution_count": 2,
   "id": "4710c532",
   "metadata": {
    "collapsed": false,
    "jupyter": {
     "outputs_hidden": false
    },
    "pycharm": {
     "name": "#%%\n"
    }
   },
   "outputs": [
    {
     "name": "stdout",
     "output_type": "stream",
     "text": [
      "FileInfo(path='/home/jovyan/work/src/revised_case_normalization/raw_data/Linth_Toggenburg_SRRWS_2019.xlsx', hospital_name_db='KSSG SRRWS', year='2019', sheets=['Änderungen SRRWS_2019'])\n"
     ]
    }
   ],
   "source": [
    "file_info = FileInfo(\n",
    "         os.path.join(ROOT_DIR, 'raw_data/Linth_Toggenburg_SRRWS_2019.xlsx'),\n",
    "         'KSSG SRRWS',\n",
    "         '2019',\n",
    "         ['Änderungen SRRWS_2019'])\n",
    "\n",
    "print(file_info)"
   ]
  },
  {
   "cell_type": "code",
   "execution_count": 3,
   "id": "8c8b27df",
   "metadata": {
    "collapsed": false,
    "jupyter": {
     "outputs_hidden": false
    },
    "pycharm": {
     "name": "#%%\n"
    }
   },
   "outputs": [
    {
     "name": "stderr",
     "output_type": "stream",
     "text": [
      "2022-10-19 16:14:33.833 | INFO     | src.revised_case_normalization.py.normalize:normalize:46 - Read 48 cases for KSSG SRRWS 2019\n",
      "2022-10-19 16:14:33.837 | INFO     | src.revised_case_normalization.py.normalize:normalize:69 - TYPES:\n",
      "case_id              int64\n",
      "patient_id          object\n",
      "gender              string\n",
      "age_years            int64\n",
      "duration_of_stay     int64\n",
      "pccl                 int64\n",
      "drg                 string\n",
      "old_pd              string\n",
      "new_pd              string\n",
      "bfs_code            string\n",
      "added_icds          string\n",
      "removed_icds        string\n",
      "added_chops         string\n",
      "removed_chops       string\n",
      "dtype: object\n",
      "2022-10-19 16:14:33.842 | INFO     | src.utils.dataframe_utils:validate_icd_codes:68 - Validated ICD codes in 'added_icds' and stored them into 'added_icds': All rows contain valid codes\n",
      "2022-10-19 16:14:33.846 | INFO     | src.utils.dataframe_utils:validate_icd_codes:68 - Validated ICD codes in 'removed_icds' and stored them into 'removed_icds': All rows contain valid codes\n",
      "2022-10-19 16:14:33.852 | INFO     | src.utils.dataframe_utils:validate_chop_codes:106 - Validated CHOP codes in 'added_chops' and stored them into 'added_chops': All rows contain valid codes\n",
      "2022-10-19 16:14:33.856 | INFO     | src.utils.dataframe_utils:validate_chop_codes:106 - Validated CHOP codes in 'removed_chops' and stored them into 'removed_chops': All rows contain valid codes\n",
      "2022-10-19 16:14:33.857 | INFO     | src.utils.dataframe_utils:remove_duplicated_chops:32 - Removing duplicated CHOP codes due to different casing ...\n",
      "2022-10-19 16:14:33.864 | INFO     | src.utils.dataframe_utils:validate_pd_revised_sd:161 - Validated redundant PD info in 'added_icds'/'removed_icds': The following 1 rows were affected:\n",
      "row 22: primary diagnosis D7014 => K521\n",
      "2022-10-19 16:14:33.866 | SUCCESS  | src.revised_case_normalization.py.normalize:normalize:101 - Completed validation\n"
     ]
    }
   ],
   "source": [
    "cols_to_rename = dict(COLUMNS_TO_RENAME)\n",
    "# Replace 'admno' with 'fall nummer'\n",
    "cols_to_rename.pop('admno')\n",
    "cols_to_rename['fall nummer'] = CASE_ID_COL\n",
    "\n",
    "df_revised_case_d2d = normalize(file_info, 0)"
   ]
  },
  {
   "cell_type": "code",
   "execution_count": 4,
   "id": "6c589452",
   "metadata": {
    "collapsed": false,
    "jupyter": {
     "outputs_hidden": false
    },
    "pycharm": {
     "name": "#%%\n"
    }
   },
   "outputs": [
    {
     "data": {
      "text/html": [
       "<div>\n",
       "<style scoped>\n",
       "    .dataframe tbody tr th:only-of-type {\n",
       "        vertical-align: middle;\n",
       "    }\n",
       "\n",
       "    .dataframe tbody tr th {\n",
       "        vertical-align: top;\n",
       "    }\n",
       "\n",
       "    .dataframe thead th {\n",
       "        text-align: right;\n",
       "    }\n",
       "</style>\n",
       "<table border=\"1\" class=\"dataframe\">\n",
       "  <thead>\n",
       "    <tr style=\"text-align: right;\">\n",
       "      <th></th>\n",
       "      <th>case_id</th>\n",
       "      <th>patient_id</th>\n",
       "      <th>gender</th>\n",
       "      <th>age_years</th>\n",
       "      <th>duration_of_stay</th>\n",
       "      <th>pccl</th>\n",
       "      <th>drg</th>\n",
       "      <th>old_pd</th>\n",
       "      <th>new_pd</th>\n",
       "      <th>bfs_code</th>\n",
       "      <th>added_icds</th>\n",
       "      <th>removed_icds</th>\n",
       "      <th>added_chops</th>\n",
       "      <th>removed_chops</th>\n",
       "    </tr>\n",
       "  </thead>\n",
       "  <tbody>\n",
       "    <tr>\n",
       "      <th>0</th>\n",
       "      <td>2010216467</td>\n",
       "      <td>971401A627916522</td>\n",
       "      <td>W</td>\n",
       "      <td>67</td>\n",
       "      <td>16</td>\n",
       "      <td>2</td>\n",
       "      <td>I27D</td>\n",
       "      <td>M7285</td>\n",
       "      <td>M7285</td>\n",
       "      <td>M200</td>\n",
       "      <td>[D62, L0311]</td>\n",
       "      <td>[D648]</td>\n",
       "      <td>[]</td>\n",
       "      <td>[]</td>\n",
       "    </tr>\n",
       "    <tr>\n",
       "      <th>1</th>\n",
       "      <td>2010230894</td>\n",
       "      <td>0FD7D457C22B4ECD</td>\n",
       "      <td>M</td>\n",
       "      <td>75</td>\n",
       "      <td>10</td>\n",
       "      <td>3</td>\n",
       "      <td>X06B</td>\n",
       "      <td>S510</td>\n",
       "      <td>S510</td>\n",
       "      <td>M100</td>\n",
       "      <td>[R18]</td>\n",
       "      <td>[]</td>\n",
       "      <td>[]</td>\n",
       "      <td>[]</td>\n",
       "    </tr>\n",
       "    <tr>\n",
       "      <th>2</th>\n",
       "      <td>2010233003</td>\n",
       "      <td>D6D96CE0A68739FB</td>\n",
       "      <td>W</td>\n",
       "      <td>70</td>\n",
       "      <td>14</td>\n",
       "      <td>3</td>\n",
       "      <td>G21B</td>\n",
       "      <td>K432</td>\n",
       "      <td>K432</td>\n",
       "      <td>M200</td>\n",
       "      <td>[D62]</td>\n",
       "      <td>[D649]</td>\n",
       "      <td>[]</td>\n",
       "      <td>[]</td>\n",
       "    </tr>\n",
       "    <tr>\n",
       "      <th>3</th>\n",
       "      <td>2010234179</td>\n",
       "      <td>FB8869E03D85B3F5</td>\n",
       "      <td>M</td>\n",
       "      <td>59</td>\n",
       "      <td>7</td>\n",
       "      <td>3</td>\n",
       "      <td>H62B</td>\n",
       "      <td>K868</td>\n",
       "      <td>K868</td>\n",
       "      <td>M100</td>\n",
       "      <td>[I5014]</td>\n",
       "      <td>[I509]</td>\n",
       "      <td>[]</td>\n",
       "      <td>[]</td>\n",
       "    </tr>\n",
       "    <tr>\n",
       "      <th>4</th>\n",
       "      <td>2070263179</td>\n",
       "      <td>A8239CB0553D4656</td>\n",
       "      <td>W</td>\n",
       "      <td>79</td>\n",
       "      <td>8</td>\n",
       "      <td>3</td>\n",
       "      <td>F12D</td>\n",
       "      <td>I441</td>\n",
       "      <td>I441</td>\n",
       "      <td>M100</td>\n",
       "      <td>[J9580]</td>\n",
       "      <td>[]</td>\n",
       "      <td>[]</td>\n",
       "      <td>[]</td>\n",
       "    </tr>\n",
       "  </tbody>\n",
       "</table>\n",
       "</div>"
      ],
      "text/plain": [
       "      case_id        patient_id gender  age_years  duration_of_stay  pccl  \\\n",
       "0  2010216467  971401A627916522      W         67                16     2   \n",
       "1  2010230894  0FD7D457C22B4ECD      M         75                10     3   \n",
       "2  2010233003  D6D96CE0A68739FB      W         70                14     3   \n",
       "3  2010234179  FB8869E03D85B3F5      M         59                 7     3   \n",
       "4  2070263179  A8239CB0553D4656      W         79                 8     3   \n",
       "\n",
       "    drg old_pd new_pd bfs_code    added_icds removed_icds added_chops  \\\n",
       "0  I27D  M7285  M7285     M200  [D62, L0311]       [D648]          []   \n",
       "1  X06B   S510   S510     M100         [R18]           []          []   \n",
       "2  G21B   K432   K432     M200         [D62]       [D649]          []   \n",
       "3  H62B   K868   K868     M100       [I5014]       [I509]          []   \n",
       "4  F12D   I441   I441     M100       [J9580]           []          []   \n",
       "\n",
       "  removed_chops  \n",
       "0            []  \n",
       "1            []  \n",
       "2            []  \n",
       "3            []  \n",
       "4            []  "
      ]
     },
     "execution_count": 4,
     "metadata": {},
     "output_type": "execute_result"
    }
   ],
   "source": [
    "df_revised_case_d2d.head()"
   ]
  },
  {
   "cell_type": "markdown",
   "id": "a6796573",
   "metadata": {
    "pycharm": {
     "name": "#%% md\n"
    },
    "tags": []
   },
   "source": [
    "# Match revised DtoD data with the BfS data from the database"
   ]
  },
  {
   "cell_type": "code",
   "execution_count": 5,
   "id": "65408537-cd4a-4b7c-a785-0db424378909",
   "metadata": {},
   "outputs": [
    {
     "data": {
      "text/html": [
       "<div>\n",
       "<style scoped>\n",
       "    .dataframe tbody tr th:only-of-type {\n",
       "        vertical-align: middle;\n",
       "    }\n",
       "\n",
       "    .dataframe tbody tr th {\n",
       "        vertical-align: top;\n",
       "    }\n",
       "\n",
       "    .dataframe thead th {\n",
       "        text-align: right;\n",
       "    }\n",
       "</style>\n",
       "<table border=\"1\" class=\"dataframe\">\n",
       "  <thead>\n",
       "    <tr style=\"text-align: right;\">\n",
       "      <th></th>\n",
       "      <th>aimedic_id</th>\n",
       "      <th>case_id</th>\n",
       "      <th>patient_id</th>\n",
       "      <th>gender</th>\n",
       "      <th>age_years</th>\n",
       "      <th>duration_of_stay</th>\n",
       "      <th>pccl</th>\n",
       "      <th>drg</th>\n",
       "    </tr>\n",
       "  </thead>\n",
       "  <tbody>\n",
       "    <tr>\n",
       "      <th>0</th>\n",
       "      <td>290809</td>\n",
       "      <td>2070262755</td>\n",
       "      <td>8B44BDC832C5451F</td>\n",
       "      <td>M</td>\n",
       "      <td>65</td>\n",
       "      <td>3</td>\n",
       "      <td>0</td>\n",
       "      <td>D62B</td>\n",
       "    </tr>\n",
       "    <tr>\n",
       "      <th>1</th>\n",
       "      <td>290810</td>\n",
       "      <td>2010215646</td>\n",
       "      <td>81890D5F20771E3C</td>\n",
       "      <td>W</td>\n",
       "      <td>80</td>\n",
       "      <td>26</td>\n",
       "      <td>4</td>\n",
       "      <td>A95C</td>\n",
       "    </tr>\n",
       "    <tr>\n",
       "      <th>2</th>\n",
       "      <td>290811</td>\n",
       "      <td>2070264919</td>\n",
       "      <td>E6441AAE25BA49E6</td>\n",
       "      <td>W</td>\n",
       "      <td>82</td>\n",
       "      <td>4</td>\n",
       "      <td>2</td>\n",
       "      <td>Q61B</td>\n",
       "    </tr>\n",
       "    <tr>\n",
       "      <th>3</th>\n",
       "      <td>290812</td>\n",
       "      <td>2070266822</td>\n",
       "      <td>2EAC70CD7BFA4C05</td>\n",
       "      <td>M</td>\n",
       "      <td>62</td>\n",
       "      <td>7</td>\n",
       "      <td>4</td>\n",
       "      <td>L64A</td>\n",
       "    </tr>\n",
       "    <tr>\n",
       "      <th>4</th>\n",
       "      <td>290813</td>\n",
       "      <td>2010218207</td>\n",
       "      <td>5F89C9E9F4C322F7</td>\n",
       "      <td>M</td>\n",
       "      <td>74</td>\n",
       "      <td>2</td>\n",
       "      <td>0</td>\n",
       "      <td>F17A</td>\n",
       "    </tr>\n",
       "  </tbody>\n",
       "</table>\n",
       "</div>"
      ],
      "text/plain": [
       "   aimedic_id     case_id        patient_id gender  age_years  \\\n",
       "0      290809  2070262755  8B44BDC832C5451F      M         65   \n",
       "1      290810  2010215646  81890D5F20771E3C      W         80   \n",
       "2      290811  2070264919  E6441AAE25BA49E6      W         82   \n",
       "3      290812  2070266822  2EAC70CD7BFA4C05      M         62   \n",
       "4      290813  2010218207  5F89C9E9F4C322F7      M         74   \n",
       "\n",
       "   duration_of_stay  pccl   drg  \n",
       "0                 3     0  D62B  \n",
       "1                26     4  A95C  \n",
       "2                 4     2  Q61B  \n",
       "3                 7     4  L64A  \n",
       "4                 2     0  F17A  "
      ]
     },
     "execution_count": 5,
     "metadata": {},
     "output_type": "execute_result"
    }
   ],
   "source": [
    "cases_in_db = get_hospital_year_cases(file_info.hospital_name_db, file_info.year)[[AIMEDIC_ID] + VALIDATION_COLS]\n",
    "cases_in_db.head()\n"
   ]
  },
  {
   "cell_type": "code",
   "execution_count": 6,
   "id": "38c67f27",
   "metadata": {
    "collapsed": false,
    "jupyter": {
     "outputs_hidden": false
    },
    "pycharm": {
     "name": "#%%\n"
    }
   },
   "outputs": [
    {
     "name": "stderr",
     "output_type": "stream",
     "text": [
      "2022-10-19 16:14:52.398 | INFO     | __main__:<module>:5 - Read 15005 rows from the DB, for the hospital 'KSSG SRRWS' in 2019\n"
     ]
    }
   ],
   "source": [
    "num_cases_in_db = cases_in_db.shape[0]\n",
    "if num_cases_in_db == 0:\n",
    "    raise ValueError(f\"There is no data for the hospital '{file_info.hospital_name_db}' in {file_info.year}\")\n",
    "else:\n",
    "    logger.info(f\"Read {num_cases_in_db} rows from the DB, for the hospital '{file_info.hospital_name_db}' in {file_info.year}\")    "
   ]
  },
  {
   "cell_type": "code",
   "execution_count": 7,
   "id": "14125a25-09d8-4818-a08f-19cf8c2aa37c",
   "metadata": {},
   "outputs": [
    {
     "name": "stderr",
     "output_type": "stream",
     "text": [
      "2022-10-19 16:14:52.414 | INFO     | __main__:<module>:6 - 0 rows with empty 'case_id's were discovered and removed from the DB, for the hospital 'KSSG SRRWS' in 2019\n"
     ]
    }
   ],
   "source": [
    "# Remove columns with empty 'case_id' in DB data\n",
    "\n",
    "cases_in_db['case_id'].replace('', np.nan, inplace=True)\n",
    "num_na_cases_in_db = cases_in_db['case_id'].isna().sum()\n",
    "cases_in_db.dropna(subset=['case_id'], inplace=True)\n",
    "logger.info(f\"{num_na_cases_in_db} rows with empty 'case_id's were discovered and removed from the DB, for the hospital '{file_info.hospital_name_db}' in {file_info.year}\")   "
   ]
  },
  {
   "cell_type": "code",
   "execution_count": 8,
   "id": "42113e93",
   "metadata": {
    "collapsed": false,
    "jupyter": {
     "outputs_hidden": false
    },
    "pycharm": {
     "name": "#%%\n"
    }
   },
   "outputs": [],
   "source": [
    "# get the case_id from revised_case \n",
    "df_revised_case_d2d['case_id_num'] = df_revised_case_d2d[CASE_ID_COL].astype(int)\n",
    "cases_in_db['case_id_num'] = cases_in_db[CASE_ID_COL].astype(int)"
   ]
  },
  {
   "cell_type": "code",
   "execution_count": 9,
   "id": "e56d7549-ebbb-4672-87f8-a00d905ee02a",
   "metadata": {},
   "outputs": [],
   "source": [
    "# get case ids in revised case data from DtoD\n",
    "case_id_d2d = df_revised_case_d2d['case_id_num'].values"
   ]
  },
  {
   "cell_type": "code",
   "execution_count": 10,
   "id": "ac7fb65a-f68e-49c3-99d3-1a165ae66d99",
   "metadata": {},
   "outputs": [
    {
     "name": "stderr",
     "output_type": "stream",
     "text": [
      "2022-10-19 16:14:52.432 | INFO     | __main__:<module>:7 - There are no duplicated case_ids in the revised cases.\n"
     ]
    },
    {
     "data": {
      "text/plain": [
       "48"
      ]
     },
     "execution_count": 10,
     "metadata": {},
     "output_type": "execute_result"
    }
   ],
   "source": [
    "# Check for duplicates in the case ids of DtoD\n",
    "\n",
    "case_id_d2d_set = set(case_id_d2d)\n",
    "if len(case_id_d2d) > len(case_id_d2d_set):\n",
    "    logger.info('There are duplicated case_ids in the revised cases.' )\n",
    "else:\n",
    "    logger.info('There are no duplicated case_ids in the revised cases.' )\n",
    "\n",
    "len(case_id_d2d_set)"
   ]
  },
  {
   "cell_type": "code",
   "execution_count": 11,
   "id": "e6ab7c12-a01a-478a-9b1c-78bef52b1a30",
   "metadata": {},
   "outputs": [
    {
     "data": {
      "text/plain": [
       "48"
      ]
     },
     "execution_count": 11,
     "metadata": {},
     "output_type": "execute_result"
    }
   ],
   "source": [
    "# Search for case_ids in the BFS DB data with the same case_ids as in revised case dataset of DtoD \n",
    "# Reason: check whether case ids of the revised data appear more than once in BFS DB data\n",
    "\n",
    "revised_case_bfs_db = cases_in_db[cases_in_db['case_id_num'].isin(case_id_d2d)]\n",
    "revised_case_bfs_db.shape[0]"
   ]
  },
  {
   "cell_type": "code",
   "execution_count": 13,
   "id": "7db02c90-8c5f-4d96-95db-0576921cce55",
   "metadata": {},
   "outputs": [],
   "source": [
    "# Join revised cases from DtoD with BFS Cases from Database\n",
    "\n",
    "if revised_case_bfs_db.shape[0] <= len(case_id_d2d):\n",
    "    revised_case_d2d_subset = df_revised_case_d2d[COL_SUBSET_FROM_REVISED_CASES + ['case_id_num', 'gender', 'age_years', 'duration_of_stay', 'pccl', 'drg']]\n",
    "    revised_case_normalized = revised_case_d2d_subset.merge(revised_case_bfs_db, how ='inner', on=['case_id_num', 'gender', 'age_years', 'duration_of_stay', 'pccl', 'drg'], suffixes=None)\n",
    "    num_match_case_id = revised_case_normalized.shape[0]\n",
    "else:\n",
    "    revised_case_d2d_subset = df_revised_case_d2d[COL_SUBSET_FROM_REVISED_CASES + ['case_id_num', 'patient_id', 'gender', 'age_years', 'duration_of_stay', 'pccl', 'drg']]\n",
    "    revised_case_normalized = revised_case_d2d_subset.merge(revised_case_bfs_db, how ='inner', on=['case_id_num', 'patient_id', 'gender', 'age_years', 'duration_of_stay', 'pccl', 'drg'])\n",
    "    num_match_case_patient_id = revised_case_normalized.shape[0]\n",
    "print(revised_case_normalized.shape)\n",
    "#revised_case_normalized.head()"
   ]
  },
  {
   "cell_type": "code",
   "execution_count": 12,
   "id": "d3cefd4e-1b0c-4776-874f-d1ec6a8ab5b5",
   "metadata": {},
   "outputs": [
    {
     "name": "stdout",
     "output_type": "stream",
     "text": [
      "(47, 16)\n"
     ]
    },
    {
     "data": {
      "text/html": [
       "<div>\n",
       "<style scoped>\n",
       "    .dataframe tbody tr th:only-of-type {\n",
       "        vertical-align: middle;\n",
       "    }\n",
       "\n",
       "    .dataframe tbody tr th {\n",
       "        vertical-align: top;\n",
       "    }\n",
       "\n",
       "    .dataframe thead th {\n",
       "        text-align: right;\n",
       "    }\n",
       "</style>\n",
       "<table border=\"1\" class=\"dataframe\">\n",
       "  <thead>\n",
       "    <tr style=\"text-align: right;\">\n",
       "      <th></th>\n",
       "      <th>gender</th>\n",
       "      <th>age_years</th>\n",
       "      <th>duration_of_stay</th>\n",
       "      <th>pccl</th>\n",
       "      <th>drg</th>\n",
       "      <th>old_pd</th>\n",
       "      <th>new_pd</th>\n",
       "      <th>bfs_code</th>\n",
       "      <th>added_icds</th>\n",
       "      <th>removed_icds</th>\n",
       "      <th>added_chops</th>\n",
       "      <th>removed_chops</th>\n",
       "      <th>case_id_num</th>\n",
       "      <th>aimedic_id</th>\n",
       "      <th>case_id</th>\n",
       "      <th>patient_id</th>\n",
       "    </tr>\n",
       "  </thead>\n",
       "  <tbody>\n",
       "    <tr>\n",
       "      <th>0</th>\n",
       "      <td>W</td>\n",
       "      <td>67</td>\n",
       "      <td>16</td>\n",
       "      <td>2</td>\n",
       "      <td>I27D</td>\n",
       "      <td>M7285</td>\n",
       "      <td>M7285</td>\n",
       "      <td>M200</td>\n",
       "      <td>[D62, L0311]</td>\n",
       "      <td>[D648]</td>\n",
       "      <td>[]</td>\n",
       "      <td>[]</td>\n",
       "      <td>2010216467</td>\n",
       "      <td>294901</td>\n",
       "      <td>2010216467</td>\n",
       "      <td>971401A627916522</td>\n",
       "    </tr>\n",
       "    <tr>\n",
       "      <th>1</th>\n",
       "      <td>M</td>\n",
       "      <td>75</td>\n",
       "      <td>10</td>\n",
       "      <td>3</td>\n",
       "      <td>X06B</td>\n",
       "      <td>S510</td>\n",
       "      <td>S510</td>\n",
       "      <td>M100</td>\n",
       "      <td>[R18]</td>\n",
       "      <td>[]</td>\n",
       "      <td>[]</td>\n",
       "      <td>[]</td>\n",
       "      <td>2010230894</td>\n",
       "      <td>297364</td>\n",
       "      <td>2010230894</td>\n",
       "      <td>0FD7D457C22B4ECD</td>\n",
       "    </tr>\n",
       "    <tr>\n",
       "      <th>2</th>\n",
       "      <td>W</td>\n",
       "      <td>70</td>\n",
       "      <td>14</td>\n",
       "      <td>3</td>\n",
       "      <td>G21B</td>\n",
       "      <td>K432</td>\n",
       "      <td>K432</td>\n",
       "      <td>M200</td>\n",
       "      <td>[D62]</td>\n",
       "      <td>[D649]</td>\n",
       "      <td>[]</td>\n",
       "      <td>[]</td>\n",
       "      <td>2010233003</td>\n",
       "      <td>305468</td>\n",
       "      <td>2010233003</td>\n",
       "      <td>D6D96CE0A68739FB</td>\n",
       "    </tr>\n",
       "    <tr>\n",
       "      <th>3</th>\n",
       "      <td>M</td>\n",
       "      <td>59</td>\n",
       "      <td>7</td>\n",
       "      <td>3</td>\n",
       "      <td>H62B</td>\n",
       "      <td>K868</td>\n",
       "      <td>K868</td>\n",
       "      <td>M100</td>\n",
       "      <td>[I5014]</td>\n",
       "      <td>[I509]</td>\n",
       "      <td>[]</td>\n",
       "      <td>[]</td>\n",
       "      <td>2010234179</td>\n",
       "      <td>297669</td>\n",
       "      <td>2010234179</td>\n",
       "      <td>FB8869E03D85B3F5</td>\n",
       "    </tr>\n",
       "    <tr>\n",
       "      <th>4</th>\n",
       "      <td>W</td>\n",
       "      <td>79</td>\n",
       "      <td>8</td>\n",
       "      <td>3</td>\n",
       "      <td>F12D</td>\n",
       "      <td>I441</td>\n",
       "      <td>I441</td>\n",
       "      <td>M100</td>\n",
       "      <td>[J9580]</td>\n",
       "      <td>[]</td>\n",
       "      <td>[]</td>\n",
       "      <td>[]</td>\n",
       "      <td>2070263179</td>\n",
       "      <td>294867</td>\n",
       "      <td>2070263179</td>\n",
       "      <td>A8239CB0553D4656</td>\n",
       "    </tr>\n",
       "  </tbody>\n",
       "</table>\n",
       "</div>"
      ],
      "text/plain": [
       "  gender  age_years  duration_of_stay  pccl   drg old_pd new_pd bfs_code  \\\n",
       "0      W         67                16     2  I27D  M7285  M7285     M200   \n",
       "1      M         75                10     3  X06B   S510   S510     M100   \n",
       "2      W         70                14     3  G21B   K432   K432     M200   \n",
       "3      M         59                 7     3  H62B   K868   K868     M100   \n",
       "4      W         79                 8     3  F12D   I441   I441     M100   \n",
       "\n",
       "     added_icds removed_icds added_chops removed_chops  case_id_num  \\\n",
       "0  [D62, L0311]       [D648]          []            []   2010216467   \n",
       "1         [R18]           []          []            []   2010230894   \n",
       "2         [D62]       [D649]          []            []   2010233003   \n",
       "3       [I5014]       [I509]          []            []   2010234179   \n",
       "4       [J9580]           []          []            []   2070263179   \n",
       "\n",
       "   aimedic_id     case_id        patient_id  \n",
       "0      294901  2010216467  971401A627916522  \n",
       "1      297364  2010230894  0FD7D457C22B4ECD  \n",
       "2      305468  2010233003  D6D96CE0A68739FB  \n",
       "3      297669  2010234179  FB8869E03D85B3F5  \n",
       "4      294867  2070263179  A8239CB0553D4656  "
      ]
     },
     "execution_count": 12,
     "metadata": {},
     "output_type": "execute_result"
    }
   ],
   "source": [
    "# Join the revised cases of DtoD with the BFS data (alternative solution to cross check join above)\n",
    "\n",
    "#if revised_case_bfs_db.shape[0] <= len(case_id_d2d):\n",
    "#    revised_case_normalized = pd.merge(df_revised_case_d2d, cases_in_db, suffixes=('_drop', ''), on=['case_id_num', 'gender', 'age_years', 'duration_of_stay', 'pccl', 'drg'])\n",
    "#    revised_case_normalized.drop([i for i in revised_case_normalized.columns if '_drop' in i], axis=1, inplace=True)\n",
    "#    revised_case_normalized.head()\n",
    "#else:\n",
    "#    revised_case_normalized = pd.merge(df_revised_case_d2d, cases_in_db, suffixes=('_drop', ''), on=['case_id_num','patient_id', 'gender', 'age_years', 'duration_of_stay', 'pccl', 'drg'])\n",
    "#    revised_case_normalized.drop([i for i in revised_case_normalized.columns if '_drop' in i], axis=1, inplace=True)\n",
    "#    revised_case_normalized.head()\n",
    "#print(revised_case_normalized.shape)\n",
    "# revised_case_normalized.head()"
   ]
  },
  {
   "cell_type": "code",
   "execution_count": 16,
   "id": "f42da5f9-883e-4148-abb3-23f5d6e7df92",
   "metadata": {},
   "outputs": [
    {
     "name": "stderr",
     "output_type": "stream",
     "text": [
      "2022-10-19 16:14:52.490 | INFO     | __main__:<module>:7 - 47 of 48 rows were joined with the cases from the DB, for the hospital 'KSSG SRRWS' in 2019\n"
     ]
    }
   ],
   "source": [
    "num_revised_case_normalized = revised_case_normalized.shape[0]\n",
    "num_df_revised_case_d2d = df_revised_case_d2d.shape[0] \n",
    "\n",
    "if num_revised_case_normalized == 0:\n",
    "    raise ValueError(f\"No cases between the revised cases for the hospital '{file_info.hospital_name_db}' in {file_info.year} were joined.\")\n",
    "else:\n",
    "    logger.info(f\"{num_revised_case_normalized} of {num_df_revised_case_d2d} rows were joined with the cases from the DB, for the hospital '{file_info.hospital_name_db}' in {file_info.year}\") "
   ]
  },
  {
   "cell_type": "code",
   "execution_count": 15,
   "id": "aa66a468-bde4-484f-8e88-2d904907b2b3",
   "metadata": {},
   "outputs": [],
   "source": [
    "df_revised_case_normalized = revised_case_normalized[COLS_TO_OUTPUT]"
   ]
  },
  {
   "cell_type": "code",
   "execution_count": 17,
   "id": "1376216d-4593-4cca-91cd-7b14089fbba1",
   "metadata": {},
   "outputs": [],
   "source": [
    "# Export normalized revision data as a csv: \n",
    "\n",
    "hospital = file_info.hospital_name_db.replace(' ', '_') # replace spaces with '_' for the file name\n",
    "hospital_year = f'{hospital}_{file_info.year}'\n",
    "\n",
    "output_folder = os.path.join(ROOT_DIR, 'normalized_revision_data/')\n",
    "\n",
    "if not os.path.exists(output_folder):\n",
    "    os.mkdir(output_folder)\n",
    "\n",
    "NEW = '_NEW'\n",
    "    \n",
    "output_path = os.path.join(ROOT_DIR, 'normalized_revision_data/') + hospital_year + NEW + '.csv'\n",
    "\n",
    "df_revised_case_normalized.sort_values('aimedic_id').to_csv(output_path)\n",
    "\n",
    "\n"
   ]
  }
 ],
 "metadata": {
  "kernelspec": {
   "display_name": "Python 3 (ipykernel)",
   "language": "python",
   "name": "python3"
  },
  "language_info": {
   "codemirror_mode": {
    "name": "ipython",
    "version": 3
   },
   "file_extension": ".py",
   "mimetype": "text/x-python",
   "name": "python",
   "nbconvert_exporter": "python",
   "pygments_lexer": "ipython3",
   "version": "3.10.6"
  }
 },
 "nbformat": 4,
 "nbformat_minor": 5
}
