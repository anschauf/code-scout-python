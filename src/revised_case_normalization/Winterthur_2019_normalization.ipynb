{
 "cells": [
  {
   "cell_type": "markdown",
   "id": "a4e2885d",
   "metadata": {
    "tags": []
   },
   "source": [
    "# Revised case normalization for Winterthur 2019\n",
    "\n",
    "Notes:\n",
    "\n",
    "- 90 cases can be matched with the DB (if ignoring patientID), otherwise 57."
   ]
  },
  {
   "cell_type": "code",
   "execution_count": 1,
   "id": "d097a048",
   "metadata": {
    "collapsed": false,
    "jupyter": {
     "outputs_hidden": false
    },
    "pycharm": {
     "is_executing": true
    }
   },
   "outputs": [],
   "source": [
    "import sys\n",
    "sys.path.insert(0, '/home/jovyan/work')\n",
    "\n",
    "from src.revised_case_normalization.notebook_functions.global_configs import *\n",
    "from src.revised_case_normalization.notebook_functions.normalize import normalize\n",
    "from src.revised_case_normalization.notebook_functions.revise import revise\n",
    "from src.revised_case_normalization.notebook_functions.group import group\n",
    "from src.revised_case_normalization.notebook_functions.update_db import update_db"
   ]
  },
  {
   "cell_type": "code",
   "execution_count": 2,
   "id": "4710c532",
   "metadata": {
    "collapsed": false,
    "jupyter": {
     "outputs_hidden": false
    }
   },
   "outputs": [
    {
     "name": "stdout",
     "output_type": "stream",
     "text": [
      "FileInfo(path='/home/jovyan/work/src/revised_case_normalization/raw_data/Winterthur.xlsx', hospital_name_db='KSW', year='2019', sheet='Änderungen Winterthur 2019')\n"
     ]
    }
   ],
   "source": [
    "file_info = FileInfo(\n",
    "         os.path.join(ROOT_DIR, 'raw_data/Winterthur.xlsx'),\n",
    "         'KSW',\n",
    "         '2019',\n",
    "         'Änderungen Winterthur 2019')\n",
    "\n",
    "print(file_info)\n",
    "\n"
   ]
  },
  {
   "cell_type": "code",
   "execution_count": 4,
   "id": "8c8b27df",
   "metadata": {
    "collapsed": false,
    "jupyter": {
     "outputs_hidden": false
    }
   },
   "outputs": [
    {
     "name": "stderr",
     "output_type": "stream",
     "text": [
      "2022-11-16 11:04:27.811 | INFO     | src.revised_case_normalization.notebook_functions.normalize:normalize:35 - Read 90 cases for KSW 2019\n",
      "2022-11-16 11:04:27.815 | INFO     | src.revised_case_normalization.notebook_functions.normalize:normalize:70 - TYPES:\n",
      "tranche                                                 string\n",
      "datum                                                   string\n",
      "case_id                                                 object\n",
      "patient_id                                              object\n",
      "kkik                                                    string\n",
      "gender                                                  string\n",
      "age_years                                                int64\n",
      "bfs_code                                                string\n",
      "duration_of_stay                                         int64\n",
      "pflegetage neu                                          string\n",
      "pccl                                                     int64\n",
      "pccl neu                                                string\n",
      "old_pd                                                  string\n",
      "primary_diagnosis                                       string\n",
      "added_icds                                              string\n",
      "removed_icds                                            string\n",
      "added_chops                                             string\n",
      "removed_chops                                           string\n",
      "drg                                                     string\n",
      "drg neu                                                 string\n",
      "cw alt                                                  string\n",
      "cw neu                                                  string\n",
      "cw-änderung vorschlag                                   string\n",
      "cw änderung akzeptiert                                  string\n",
      "kommentar dtod                                          string\n",
      "kommentar ksw                                           string\n",
      "angaben in welchem bericht (drg relevante diagnosen)    string\n",
      "arztanfragen                                            string\n",
      "unnamed: 28                                             string\n",
      "case_id_norm                                            object\n",
      "dtype: object\n",
      "2022-11-16 11:04:27.823 | INFO     | src.utils.dataframe_utils:validate_icd_codes:68 - Validated ICD codes in 'added_icds' and stored them into 'added_icds': All rows contain valid codes\n",
      "2022-11-16 11:04:27.828 | INFO     | src.utils.dataframe_utils:validate_icd_codes:68 - Validated ICD codes in 'removed_icds' and stored them into 'removed_icds': All rows contain valid codes\n",
      "2022-11-16 11:04:27.833 | INFO     | src.utils.dataframe_utils:validate_chop_codes:109 - Validated CHOP codes in 'added_chops' and stored them into 'added_chops': The following 1 rows were affected:\n",
      "row 33: discarded CHOPs after validation {'40.3X.23'}\n",
      "2022-11-16 11:04:27.838 | INFO     | src.utils.dataframe_utils:validate_chop_codes:109 - Validated CHOP codes in 'removed_chops' and stored them into 'removed_chops': The following 1 rows were affected:\n",
      "row 33: discarded CHOPs after validation {'40.29.30'}\n",
      "2022-11-16 11:04:27.839 | INFO     | src.utils.dataframe_utils:remove_duplicated_chops:32 - Removing duplicated CHOP codes due to different casing ...\n",
      "2022-11-16 11:04:27.847 | INFO     | src.utils.dataframe_utils:validate_pd_revised_sd:161 - Validated redundant PD info in 'added_icds'/'removed_icds': The following 10 rows were affected:\n",
      "row 3: primary diagnosis T814 => L022\n",
      "row 7: primary diagnosis J948 => J869\n",
      "row 13: primary diagnosis J4401 => J4400\n",
      "row 17: primary diagnosis I482 => I5013\n",
      "row 18: primary diagnosis A411 => A419\n",
      "row 24: primary diagnosis I1001 => I1101\n",
      "row 35: primary diagnosis J4499 => J4410\n",
      "row 50: primary diagnosis I2510 => I635\n",
      "row 64: primary diagnosis T810 => T814\n",
      "row 77: primary diagnosis J90 => J869\n",
      "2022-11-16 11:04:27.851 | SUCCESS  | src.revised_case_normalization.notebook_functions.normalize:normalize:108 - Completed validation\n"
     ]
    },
    {
     "data": {
      "text/plain": [
       "case_id              object\n",
       "patient_id           object\n",
       "gender               object\n",
       "age_years             int64\n",
       "duration_of_stay      int64\n",
       "case_id_norm         object\n",
       "old_pd               object\n",
       "primary_diagnosis    object\n",
       "bfs_code             object\n",
       "pccl                  int64\n",
       "drg                  object\n",
       "added_icds           object\n",
       "removed_icds         object\n",
       "added_chops          object\n",
       "removed_chops        object\n",
       "dtype: object"
      ]
     },
     "execution_count": 4,
     "metadata": {},
     "output_type": "execute_result"
    }
   ],
   "source": [
    "\n",
    "columns_to_rename = dict(COLUMNS_TO_RENAME)\n",
    "columns_to_rename.pop(\"admno\")\n",
    "columns_to_rename['fid'] = CASE_ID_COL\n",
    "\n",
    "revised_cases_df = normalize(file_info, columns_mapper = columns_to_rename)\n",
    "revised_cases_df\n",
    "revised_cases_df.dtypes"
   ]
  },
  {
   "cell_type": "markdown",
   "id": "a6796573",
   "metadata": {
    "tags": []
   },
   "source": [
    "# Match revised DtoD data with the BfS data from the database"
   ]
  },
  {
   "cell_type": "code",
   "execution_count": 6,
   "id": "65408537-cd4a-4b7c-a785-0db424378909",
   "metadata": {},
   "outputs": [
    {
     "name": "stderr",
     "output_type": "stream",
     "text": [
      "2022-11-16 11:05:26.017 | INFO     | src.service.bfs_cases_db_service:get_sociodemographics_for_hospital_year:90 - Read 27903 rows from the DB, for the hospital 'KSW' in 2019\n"
     ]
    },
    {
     "data": {
      "text/html": [
       "<div>\n",
       "<style scoped>\n",
       "    .dataframe tbody tr th:only-of-type {\n",
       "        vertical-align: middle;\n",
       "    }\n",
       "\n",
       "    .dataframe tbody tr th {\n",
       "        vertical-align: top;\n",
       "    }\n",
       "\n",
       "    .dataframe thead th {\n",
       "        text-align: right;\n",
       "    }\n",
       "</style>\n",
       "<table border=\"1\" class=\"dataframe\">\n",
       "  <thead>\n",
       "    <tr style=\"text-align: right;\">\n",
       "      <th></th>\n",
       "      <th>aimedic_id</th>\n",
       "      <th>case_id</th>\n",
       "      <th>primary_diagnosis</th>\n",
       "      <th>secondary_diagnoses</th>\n",
       "      <th>primary_procedure</th>\n",
       "      <th>secondary_procedures</th>\n",
       "      <th>gender</th>\n",
       "      <th>age_years</th>\n",
       "      <th>age_days</th>\n",
       "      <th>gestation_age</th>\n",
       "      <th>duration_of_stay</th>\n",
       "      <th>ventilation_hours</th>\n",
       "      <th>grouper_admission_type</th>\n",
       "      <th>admission_date</th>\n",
       "      <th>admission_weight</th>\n",
       "      <th>grouper_discharge_type</th>\n",
       "      <th>discharge_date</th>\n",
       "    </tr>\n",
       "  </thead>\n",
       "  <tbody>\n",
       "    <tr>\n",
       "      <th>0</th>\n",
       "      <td>312427</td>\n",
       "      <td>900584428</td>\n",
       "      <td>K5733</td>\n",
       "      <td>[D62, D648, E559, R391, F708, ...]</td>\n",
       "      <td>4523::20190417</td>\n",
       "      <td>[451310::20190417, 990410::20190417, 4523::20190422, 451310::20190422]</td>\n",
       "      <td>M</td>\n",
       "      <td>75</td>\n",
       "      <td>0</td>\n",
       "      <td>0</td>\n",
       "      <td>7</td>\n",
       "      <td>0</td>\n",
       "      <td>01</td>\n",
       "      <td>2019-04-16</td>\n",
       "      <td>0</td>\n",
       "      <td>00</td>\n",
       "      <td>2019-04-23</td>\n",
       "    </tr>\n",
       "    <tr>\n",
       "      <th>1</th>\n",
       "      <td>312817</td>\n",
       "      <td>900538395</td>\n",
       "      <td>K8050</td>\n",
       "      <td>[K8510, K8020, K298, E876, K290]</td>\n",
       "      <td>4516::20190219</td>\n",
       "      <td>[887415::20190219, 887430::20190219, 5185::20190219, 5188::20190219]</td>\n",
       "      <td>M</td>\n",
       "      <td>55</td>\n",
       "      <td>0</td>\n",
       "      <td>0</td>\n",
       "      <td>5</td>\n",
       "      <td>0</td>\n",
       "      <td>01</td>\n",
       "      <td>2019-02-16</td>\n",
       "      <td>0</td>\n",
       "      <td>00</td>\n",
       "      <td>2019-02-21</td>\n",
       "    </tr>\n",
       "    <tr>\n",
       "      <th>2</th>\n",
       "      <td>313807</td>\n",
       "      <td>900530732</td>\n",
       "      <td>J4400</td>\n",
       "      <td>[M1007, I480, E871, Y579, I1090]</td>\n",
       "      <td>8937::20190206</td>\n",
       "      <td>[]</td>\n",
       "      <td>M</td>\n",
       "      <td>68</td>\n",
       "      <td>0</td>\n",
       "      <td>0</td>\n",
       "      <td>6</td>\n",
       "      <td>0</td>\n",
       "      <td>01</td>\n",
       "      <td>2019-02-06</td>\n",
       "      <td>0</td>\n",
       "      <td>00</td>\n",
       "      <td>2019-02-12</td>\n",
       "    </tr>\n",
       "    <tr>\n",
       "      <th>3</th>\n",
       "      <td>313898</td>\n",
       "      <td>900656399</td>\n",
       "      <td>C61</td>\n",
       "      <td>[C772, C795, D62, N390, B965]</td>\n",
       "      <td>6022::20190807</td>\n",
       "      <td>[399A11:R:20190807, 990410::20190807]</td>\n",
       "      <td>M</td>\n",
       "      <td>78</td>\n",
       "      <td>0</td>\n",
       "      <td>0</td>\n",
       "      <td>3</td>\n",
       "      <td>0</td>\n",
       "      <td>01</td>\n",
       "      <td>2019-08-07</td>\n",
       "      <td>0</td>\n",
       "      <td>00</td>\n",
       "      <td>2019-08-10</td>\n",
       "    </tr>\n",
       "    <tr>\n",
       "      <th>4</th>\n",
       "      <td>314039</td>\n",
       "      <td>900531410</td>\n",
       "      <td>J4409</td>\n",
       "      <td>[J101, J9600, K590, Y579, E039, ...]</td>\n",
       "      <td>998425::20190207</td>\n",
       "      <td>[]</td>\n",
       "      <td>M</td>\n",
       "      <td>47</td>\n",
       "      <td>0</td>\n",
       "      <td>0</td>\n",
       "      <td>12</td>\n",
       "      <td>0</td>\n",
       "      <td>01</td>\n",
       "      <td>2019-02-07</td>\n",
       "      <td>0</td>\n",
       "      <td>00</td>\n",
       "      <td>2019-02-19</td>\n",
       "    </tr>\n",
       "  </tbody>\n",
       "</table>\n",
       "</div>"
      ],
      "text/plain": [
       "   aimedic_id    case_id primary_diagnosis                   secondary_diagnoses primary_procedure                                                    secondary_procedures gender  age_years  age_days  gestation_age  duration_of_stay  ventilation_hours grouper_admission_type admission_date  admission_weight grouper_discharge_type discharge_date\n",
       "0      312427  900584428             K5733    [D62, D648, E559, R391, F708, ...]    4523::20190417  [451310::20190417, 990410::20190417, 4523::20190422, 451310::20190422]      M         75         0              0                 7                  0                     01     2019-04-16                 0                     00     2019-04-23\n",
       "1      312817  900538395             K8050      [K8510, K8020, K298, E876, K290]    4516::20190219    [887415::20190219, 887430::20190219, 5185::20190219, 5188::20190219]      M         55         0              0                 5                  0                     01     2019-02-16                 0                     00     2019-02-21\n",
       "2      313807  900530732             J4400      [M1007, I480, E871, Y579, I1090]    8937::20190206                                                                      []      M         68         0              0                 6                  0                     01     2019-02-06                 0                     00     2019-02-12\n",
       "3      313898  900656399               C61         [C772, C795, D62, N390, B965]    6022::20190807                                   [399A11:R:20190807, 990410::20190807]      M         78         0              0                 3                  0                     01     2019-08-07                 0                     00     2019-08-10\n",
       "4      314039  900531410             J4409  [J101, J9600, K590, Y579, E039, ...]  998425::20190207                                                                      []      M         47         0              0                12                  0                     01     2019-02-07                 0                     00     2019-02-19"
      ]
     },
     "execution_count": 6,
     "metadata": {},
     "output_type": "execute_result"
    }
   ],
   "source": [
    "cols_to_join = list(VALIDATION_COLS)\n",
    "cols_to_join.remove(CASE_ID_COL)\n",
    "cols_to_join.append(NORM_CASE_ID_COL)\n",
    "# Ignore the patient ID in this dataset, because it is encrypted\n",
    "cols_to_join.remove(PATIENT_ID_COL)\n",
    "\n",
    "revised_cases_df.dtypes\n"
   ]
  },
  {
   "cell_type": "code",
   "execution_count": null,
   "id": "a81de960-bb3e-446c-9c9f-b0d4175d70e3",
   "metadata": {},
   "outputs": [],
   "source": []
  },
  {
   "cell_type": "code",
   "execution_count": null,
   "id": "3ac0315b",
   "metadata": {
    "collapsed": false,
    "jupyter": {
     "outputs_hidden": false
    }
   },
   "outputs": [],
   "source": [
    "if unmatched.shape[0] > 0:\n",
    "    display(unmatched)"
   ]
  },
  {
   "cell_type": "code",
   "execution_count": null,
   "id": "a85b9247-c1dc-4072-a1dd-7b61c8251eeb",
   "metadata": {},
   "outputs": [],
   "source": [
    "revisions_update, diagnoses_update, procedures_update = group(revised_cases)\n",
    "revisions_update[REVISION_DATE_COL] = '2022-12-31'"
   ]
  },
  {
   "cell_type": "code",
   "execution_count": null,
   "id": "492c0392",
   "metadata": {
    "collapsed": false,
    "jupyter": {
     "outputs_hidden": false
    }
   },
   "outputs": [],
   "source": [
    "revisions_update"
   ]
  },
  {
   "cell_type": "code",
   "execution_count": null,
   "id": "04e44c03",
   "metadata": {
    "collapsed": false,
    "jupyter": {
     "outputs_hidden": false
    }
   },
   "outputs": [],
   "source": [
    "update_db(revisions_update, diagnoses_update, procedures_update)"
   ]
  }
 ],
 "metadata": {
  "kernelspec": {
   "display_name": "Python 3 (ipykernel)",
   "language": "python",
   "name": "python3"
  },
  "language_info": {
   "codemirror_mode": {
    "name": "ipython",
    "version": 3
   },
   "file_extension": ".py",
   "mimetype": "text/x-python",
   "name": "python",
   "nbconvert_exporter": "python",
   "pygments_lexer": "ipython3",
   "version": "3.10.6"
  }
 },
 "nbformat": 4,
 "nbformat_minor": 5
}
