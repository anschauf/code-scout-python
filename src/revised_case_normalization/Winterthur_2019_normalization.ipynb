{
 "cells": [
  {
   "cell_type": "markdown",
   "id": "a4e2885d",
   "metadata": {
    "pycharm": {
     "name": "#%% md\n"
    },
    "tags": []
   },
   "source": [
    "# Revised case normalization for Winterthur 2019\n",
    "\n",
    "Notes:\n",
    "\n",
    "- There are no "
   ]
  },
  {
   "cell_type": "code",
   "execution_count": 1,
   "id": "d097a048",
   "metadata": {
    "collapsed": false,
    "jupyter": {
     "outputs_hidden": false
    },
    "pycharm": {
     "name": "#%%\n"
    }
   },
   "outputs": [
    {
     "name": "stderr",
     "output_type": "stream",
     "text": [
      "/home/jovyan/work/src/models/BfsCase.py:5: SAWarning: On class 'BfsCase', Column object 'drg_cost_weight' named directly multiple times, only one will be used: drg_cost_weight, effective_cost_weight. Consider using orm.synonym instead\n",
      "  class BfsCase(Base):\n"
     ]
    }
   ],
   "source": [
    "import pandas as pd\n",
    "import sys\n",
    "sys.path.insert(0, '/home/jovyan/work')\n",
    "\n",
    "import os\n",
    "\n",
    "from py.global_configs import *\n",
    "from py.normalize import normalize\n",
    "\n",
    "from src.service import bfs_cases_db_service as bfs_db\n",
    "\n",
    "from src.utils.dataframe_utils import remove_duplicated_chops"
   ]
  },
  {
   "cell_type": "code",
   "execution_count": 2,
   "id": "4710c532",
   "metadata": {
    "collapsed": false,
    "jupyter": {
     "outputs_hidden": false
    },
    "pycharm": {
     "name": "#%%\n"
    }
   },
   "outputs": [
    {
     "name": "stdout",
     "output_type": "stream",
     "text": [
      "FileInfo(path='/home/jovyan/work/src/revised_case_normalization/raw_data/Winterthur.xlsx', hospital_name_db='KSW', year='2018', sheets=['Änderungen Winterthur 2018'])\n"
     ]
    }
   ],
   "source": [
    "\n",
    "file_info = FileInfo(\n",
    "         os.path.join(ROOT_DIR, 'raw_data/Winterthur.xlsx'),\n",
    "         'KSW',\n",
    "         '2019',\n",
    "         ['Änderungen Winterthur 2019'])\n",
    "\n",
    "print(file_info)\n"
   ]
  },
  {
   "cell_type": "code",
   "execution_count": 3,
   "id": "8c8b27df",
   "metadata": {
    "collapsed": false,
    "jupyter": {
     "outputs_hidden": false
    },
    "pycharm": {
     "name": "#%%\n"
    }
   },
   "outputs": [
    {
     "ename": "AssertionError",
     "evalue": "",
     "output_type": "error",
     "traceback": [
      "\u001b[0;31m---------------------------------------------------------------------------\u001b[0m",
      "\u001b[0;31mAssertionError\u001b[0m                            Traceback (most recent call last)",
      "Cell \u001b[0;32mIn [3], line 6\u001b[0m\n\u001b[1;32m      3\u001b[0m cols_to_rename\u001b[38;5;241m.\u001b[39mpop(\u001b[38;5;124m'\u001b[39m\u001b[38;5;124madmno\u001b[39m\u001b[38;5;124m'\u001b[39m)\n\u001b[1;32m      4\u001b[0m cols_to_rename[\u001b[38;5;124m'\u001b[39m\u001b[38;5;124mfall nummer\u001b[39m\u001b[38;5;124m'\u001b[39m] \u001b[38;5;241m=\u001b[39m CASE_ID_COL\n\u001b[0;32m----> 6\u001b[0m df_revised_case_d2d \u001b[38;5;241m=\u001b[39m normalize(file_info, \u001b[38;5;241m0\u001b[39m, columns_mapper \u001b[38;5;241m=\u001b[39m cols_to_rename)\n",
      "File \u001b[0;32m~/work/src/revised_case_normalization/py/normalize.py:24\u001b[0m, in \u001b[0;36mnormalize\u001b[0;34m(fi, excel_sheet_idx, columns_mapper, columns_to_cast, columns_to_lstrip)\u001b[0m\n\u001b[1;32m     21\u001b[0m df\u001b[38;5;241m.\u001b[39mcolumns \u001b[38;5;241m=\u001b[39m [c\u001b[38;5;241m.\u001b[39mlower() \u001b[38;5;28;01mfor\u001b[39;00m c \u001b[38;5;129;01min\u001b[39;00m df\u001b[38;5;241m.\u001b[39mcolumns]\n\u001b[1;32m     23\u001b[0m \u001b[38;5;66;03m# Renaming columns that don't exist is a no-op. Make sure that all names actually exist\u001b[39;00m\n\u001b[0;32m---> 24\u001b[0m \u001b[38;5;28;01massert\u001b[39;00m(\u001b[38;5;28mlen\u001b[39m(\u001b[38;5;28mset\u001b[39m(columns_mapper\u001b[38;5;241m.\u001b[39mkeys())\u001b[38;5;241m.\u001b[39mdifference(df\u001b[38;5;241m.\u001b[39mcolumns)) \u001b[38;5;241m==\u001b[39m \u001b[38;5;241m0\u001b[39m)\n\u001b[1;32m     25\u001b[0m df\u001b[38;5;241m.\u001b[39mrename(columns\u001b[38;5;241m=\u001b[39mcolumns_mapper, inplace\u001b[38;5;241m=\u001b[39m\u001b[38;5;28;01mTrue\u001b[39;00m)\n\u001b[1;32m     27\u001b[0m \u001b[38;5;28;01massert\u001b[39;00m(\u001b[38;5;28mlen\u001b[39m(\u001b[38;5;28mset\u001b[39m(COLS_TO_SELECT)\u001b[38;5;241m.\u001b[39mdifference(df\u001b[38;5;241m.\u001b[39mcolumns)) \u001b[38;5;241m==\u001b[39m \u001b[38;5;241m0\u001b[39m)\n",
      "\u001b[0;31mAssertionError\u001b[0m: "
     ]
    }
   ],
   "source": [
    "cols_to_rename = dict(COLUMNS_TO_RENAME)\n",
    "# Replace 'admno' with 'fall nummer'\n",
    "cols_to_rename.pop('admno')\n",
    "cols_to_rename['fall nummer'] = CASE_ID_COL\n",
    "\n",
    "df_revised_case_d2d = normalize(file_info, 0, columns_mapper = cols_to_rename)"
   ]
  },
  {
   "cell_type": "code",
   "execution_count": null,
   "id": "6c589452",
   "metadata": {
    "collapsed": false,
    "jupyter": {
     "outputs_hidden": false
    },
    "pycharm": {
     "name": "#%%\n"
    }
   },
   "outputs": [],
   "source": [
    "df_revised_case_d2d"
   ]
  },
  {
   "cell_type": "markdown",
   "id": "a6796573",
   "metadata": {
    "pycharm": {
     "name": "#%% md\n"
    },
    "tags": []
   },
   "source": [
    "# Match revised DtoD data with the bfs data from the database\n"
   ]
  },
  {
   "cell_type": "code",
   "execution_count": null,
   "id": "42113e93",
   "metadata": {
    "collapsed": false,
    "jupyter": {
     "outputs_hidden": false
    },
    "pycharm": {
     "name": "#%%\n"
    }
   },
   "outputs": [],
   "source": [
    "# get the case_id from revised_case\n",
    "\n",
    "revised_case_id = df_revised_case_d2d['case_id'].values\n",
    "revised_case_id"
   ]
  },
  {
   "cell_type": "code",
   "execution_count": null,
   "id": "db3c4ed2-14ca-40ca-8cc3-c0e3e0ffa0af",
   "metadata": {},
   "outputs": [],
   "source": [
    "revised_case_id_stripped = [case_id.lstrip('0') for case_id in revised_case_id]"
   ]
  },
  {
   "cell_type": "code",
   "execution_count": null,
   "id": "70ebc4ed",
   "metadata": {
    "collapsed": false,
    "jupyter": {
     "outputs_hidden": false
    },
    "pycharm": {
     "name": "#%%\n"
    }
   },
   "outputs": [],
   "source": [
    "# change the case_id the same format as bfs data e.g. '0041194601' \n",
    "# revised_case_id_pad0 = [case_id.zfill(10) for case_id in revised_case_id]\n",
    "# revised_case_id_pad0[0]\n",
    "# df_revised_case_d2d['case_id'] = revised_case_id_pad0"
   ]
  },
  {
   "cell_type": "code",
   "execution_count": null,
   "id": "9ddb9c40",
   "metadata": {
    "collapsed": false,
    "jupyter": {
     "outputs_hidden": false
    },
    "pycharm": {
     "name": "#%%\n"
    }
   },
   "outputs": [],
   "source": [
    "# match to the database\n",
    "revised_case_db = bfs_db.get_bfs_cases_by_ids_no_pad0(revised_case_id_stripped)\n",
    "revised_case_db.head()"
   ]
  },
  {
   "cell_type": "code",
   "execution_count": null,
   "id": "72a903f0-1223-45d7-9990-3ea0f87b0572",
   "metadata": {},
   "outputs": [],
   "source": [
    "# create a new column for case_id_stripped with '0' for joining to the revised cases\n",
    "revised_case_db['case_id_stripped']=  revised_case_db['case_id'].apply(lambda x: x.lstrip('0')) \n",
    "revised_case_db.head()"
   ]
  },
  {
   "cell_type": "code",
   "execution_count": null,
   "id": "701a00d6-6def-4684-8b86-cee45770a340",
   "metadata": {},
   "outputs": [],
   "source": [
    "df_revised_case_d2d['case_id_stripped']=  df_revised_case_d2d['case_id'].apply(lambda x: x.lstrip('0')) \n",
    "df_revised_case_d2d.head()\n"
   ]
  },
  {
   "cell_type": "code",
   "execution_count": null,
   "id": "9099ca23-dd60-46a7-b08e-2e5491b03f25",
   "metadata": {},
   "outputs": [],
   "source": []
  },
  {
   "cell_type": "markdown",
   "id": "9c1b3b1b-f89e-47d3-8c42-f3af8abffb0a",
   "metadata": {},
   "source": [
    "# Forming the normalized dataframe: Merge the selected revised case data with the matched from bfs data\n",
    "  If there are multiple cases were found based on case_id, patient_id will be used to match once more  "
   ]
  },
  {
   "cell_type": "code",
   "execution_count": null,
   "id": "2bc9512c-8615-4f3d-b833-f8e7367be33a",
   "metadata": {},
   "outputs": [],
   "source": [
    "# Check if there are multiple cases were found based on case_id, patient_id will be used to match once more\n",
    "if revised_case_db.shape[0] <= len(revised_case_id):\n",
    "    revised_case_d2d_subset = df_revised_case_d2d[COL_SUBSET_FROM_REVISED_CASES + ['case_id_stripped', 'gender', 'age_years', 'duration_of_stay', 'pccl', 'drg']]\n",
    "    revised_case_normalized = revised_case_d2d_subset.merge(revised_case_db, how ='inner', on=['case_id_stripped', 'gender', 'age_years', 'duration_of_stay', 'pccl', 'drg'])\n",
    "    num_match_case_id = revised_case_normalized.shape[0]\n",
    "else:\n",
    "    revised_case_d2d_subset = df_revised_case_d2d[COL_SUBSET_FROM_REVISED_CASES + ['case_id_stripped', 'patient_id', 'gender', 'age_years', 'duration_of_stay', 'pccl', 'drg']]\n",
    "    revised_case_normalized = revised_case_d2d_subset.merge(revised_case_db, how ='inner', on=['case_id_stripped', 'patient_id', 'gender', 'age_years', 'duration_of_stay', 'pccl', 'drg'])\n",
    "    num_match_case_patient_id = revised_case_normalized.shape[0]\n",
    "print(revised_case_normalized.shape)\n",
    "revised_case_normalized.head()"
   ]
  },
  {
   "cell_type": "code",
   "execution_count": null,
   "id": "cdcd0e25",
   "metadata": {
    "collapsed": false,
    "jupyter": {
     "outputs_hidden": false
    },
    "pycharm": {
     "name": "#%%\n"
    }
   },
   "outputs": [],
   "source": [
    "df_revised_case_normalized = revised_case_normalized[COLS_TO_SELECT]\n",
    "df_revised_case_normalized.head()"
   ]
  },
  {
   "cell_type": "markdown",
   "id": "3fe44878",
   "metadata": {
    "jp-MarkdownHeadingCollapsed": true,
    "pycharm": {
     "name": "#%% md\n"
    },
    "tags": []
   },
   "source": [
    "# Export the normalized revised cases with the neccessary columns to a csv file\n"
   ]
  },
  {
   "cell_type": "code",
   "execution_count": null,
   "id": "9b283dda",
   "metadata": {
    "collapsed": false,
    "jupyter": {
     "outputs_hidden": false
    },
    "pycharm": {
     "name": "#%%\n"
    }
   },
   "outputs": [],
   "source": [
    "\n",
    "hospital = file_info.hospital_name_db.replace(' ', '_') # replace spaces with '_' for the file name\n",
    "hospital_year = f'{hospital}_{file_info.year}'\n",
    "\n",
    "output_folder = os.path.join(ROOT_DIR, 'normalized_revision_data/')\n",
    "\n",
    "if not os.path.exists(output_folder):\n",
    "    os.mkdir(output_folder)\n",
    "\n",
    "output_path = os.path.join(ROOT_DIR, 'normalized_revision_data/') + hospital_year + '.csv'\n",
    "\n",
    "df_revised_case_normalized.to_csv(output_path)\n"
   ]
  },
  {
   "cell_type": "markdown",
   "id": "7a0e6287",
   "metadata": {
    "pycharm": {
     "name": "#%% md\n"
    },
    "tags": []
   },
   "source": [
    "# Report\n",
    "\n",
    "A small summary of:\n",
    "- how many cases could be matched in the DB, and based on which columns\n",
    "- how many cases were “correctly” revised, in terms of upcoding (still need to do after the `grouper` is available for python)"
   ]
  },
  {
   "cell_type": "code",
   "execution_count": null,
   "id": "39806225",
   "metadata": {
    "collapsed": false,
    "jupyter": {
     "outputs_hidden": false
    },
    "pycharm": {
     "name": "#%%\n"
    }
   },
   "outputs": [],
   "source": [
    "if revised_case_db.shape[0] <= len(revised_case_id):\n",
    "    print(f'Based on the columns \"case_id\", \"gender, \"age_years\", \"duration_of_stay\", \"pccl\", \"drg\", there are {num_match_case_id} out of {len(revised_case_id)} revised cases from DtoD that can be matched with the bfs database data for {file_info.hospital_name_db} {file_info.year}' )\n",
    "else:\n",
    "    print(f'Based on the columns \"case_id\" and \"Patient_id\", \"gender, \"age_years\", \"duration_of_stay\", \"pccl\", \"drg\", there are {num_match_case_patient_id} out of {len(revised_case_id)} revised cases from DtoD that can be matched with the bfs database data for {file_info.hospital_name_db} {file_info.year}' )"
   ]
  },
  {
   "cell_type": "code",
   "execution_count": null,
   "id": "87a14b03",
   "metadata": {
    "collapsed": false,
    "jupyter": {
     "outputs_hidden": false
    },
    "pycharm": {
     "name": "#%%\n"
    }
   },
   "outputs": [],
   "source": [
    "print('All the normalized revised cases are exported to here: {}'.format(output_path))"
   ]
  },
  {
   "cell_type": "code",
   "execution_count": null,
   "id": "20e4b5fb-7d66-4ecf-90d7-f93e28579e13",
   "metadata": {},
   "outputs": [],
   "source": []
  }
 ],
 "metadata": {
  "kernelspec": {
   "display_name": "Python 3 (ipykernel)",
   "language": "python",
   "name": "python3"
  },
  "language_info": {
   "codemirror_mode": {
    "name": "ipython",
    "version": 3
   },
   "file_extension": ".py",
   "mimetype": "text/x-python",
   "name": "python",
   "nbconvert_exporter": "python",
   "pygments_lexer": "ipython3",
   "version": "3.10.6"
  }
 },
 "nbformat": 4,
 "nbformat_minor": 5
}
