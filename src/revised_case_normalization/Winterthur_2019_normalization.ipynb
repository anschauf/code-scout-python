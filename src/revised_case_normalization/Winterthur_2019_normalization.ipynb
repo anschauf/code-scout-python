{
 "cells": [
  {
   "cell_type": "markdown",
   "id": "a4e2885d",
   "metadata": {
    "tags": []
   },
   "source": [
    "# Revised case normalization for Winterthur 2019\n",
    "\n",
    "Notes:\n",
    "\n",
    "- 90 cases can be matched with the DB (if ignoring patientID), otherwise 57."
   ]
  },
  {
   "cell_type": "code",
   "execution_count": 1,
   "id": "d097a048",
   "metadata": {
    "collapsed": false,
    "jupyter": {
     "outputs_hidden": false
    },
    "pycharm": {
     "is_executing": true
    }
   },
   "outputs": [],
   "source": [
    "import sys\n",
    "sys.path.insert(0, '/home/jovyan/work')\n",
    "\n",
    "from src.revised_case_normalization.notebook_functions.global_configs import *\n",
    "from src.revised_case_normalization.notebook_functions.normalize import normalize\n",
    "from src.revised_case_normalization.notebook_functions.revise import revise\n",
    "from src.revised_case_normalization.notebook_functions.group import group\n",
    "from src.revised_case_normalization.notebook_functions.update_db import update_db"
   ]
  },
  {
   "cell_type": "code",
   "execution_count": 2,
   "id": "4710c532",
   "metadata": {
    "collapsed": false,
    "jupyter": {
     "outputs_hidden": false
    }
   },
   "outputs": [
    {
     "name": "stdout",
     "output_type": "stream",
     "text": [
      "FileInfo(path='/home/jovyan/work/src/revised_case_normalization/raw_data/Winterthur.xlsx', hospital_name_db='KSW', year='2019', sheet='Änderungen Winterthur 2019')\n"
     ]
    }
   ],
   "source": [
    "file_info = FileInfo(\n",
    "         os.path.join(ROOT_DIR, 'raw_data/Winterthur.xlsx'),\n",
    "         'KSW',\n",
    "         '2019',\n",
    "         'Änderungen Winterthur 2019')\n",
    "\n",
    "print(file_info)\n",
    "\n"
   ]
  },
  {
   "cell_type": "code",
   "execution_count": 3,
   "id": "8c8b27df",
   "metadata": {
    "collapsed": false,
    "jupyter": {
     "outputs_hidden": false
    }
   },
   "outputs": [
    {
     "name": "stderr",
     "output_type": "stream",
     "text": [
      "2022-11-15 14:15:23.132 | INFO     | src.revised_case_normalization.notebook_functions.normalize:normalize:35 - Read 90 cases for KSW 2019\n"
     ]
    },
    {
     "ename": "ValueError",
     "evalue": "The following columns to rename did not exist: ['FID']. Available columns are ['tranche', 'datum', 'fid', 'patid', 'kkik', 'geschlecht', 'alter (jahre)', 'fab', 'pflegetage alt', 'pflegetage neu', 'pccl alt', 'pccl neu', 'hd alt', 'hd neu', 'hinzugefügte icd', 'gelöschte icd', 'hinzugefügte ops', 'gelöschte ops', 'drg alt', 'drg neu', 'cw alt', 'cw neu', 'cw-änderung vorschlag', 'cw änderung akzeptiert', 'kommentar dtod', 'kommentar ksw', 'angaben in welchem bericht (drg relevante diagnosen)', 'arztanfragen', 'unnamed: 28']",
     "output_type": "error",
     "traceback": [
      "\u001b[0;31m---------------------------------------------------------------------------\u001b[0m",
      "\u001b[0;31mValueError\u001b[0m                                Traceback (most recent call last)",
      "Cell \u001b[0;32mIn [3], line 5\u001b[0m\n\u001b[1;32m      2\u001b[0m columns_to_rename\u001b[38;5;241m.\u001b[39mpop(\u001b[38;5;124m\"\u001b[39m\u001b[38;5;124madmno\u001b[39m\u001b[38;5;124m\"\u001b[39m)\n\u001b[1;32m      3\u001b[0m columns_to_rename[\u001b[38;5;124m'\u001b[39m\u001b[38;5;124mFID\u001b[39m\u001b[38;5;124m'\u001b[39m] \u001b[38;5;241m=\u001b[39m CASE_ID_COL\n\u001b[0;32m----> 5\u001b[0m revised_cases_df \u001b[38;5;241m=\u001b[39m normalize(file_info, columns_mapper \u001b[38;5;241m=\u001b[39m columns_to_rename)\n\u001b[1;32m      6\u001b[0m revised_cases_df\n",
      "File \u001b[0;32m<@beartype(src.revised_case_normalization.notebook_functions.normalize.normalize) at 0xffffac0d16c0>:76\u001b[0m, in \u001b[0;36mnormalize\u001b[0;34m(__beartype_func, __beartype_get_violation, __beartype_object_187651311744400, __beartype_object_187651320300624, *args, **kwargs)\u001b[0m\n",
      "File \u001b[0;32m~/work/src/revised_case_normalization/notebook_functions/normalize.py:50\u001b[0m, in \u001b[0;36mnormalize\u001b[0;34m(fi, columns_mapper, columns_to_lstrip, columns_to_cast)\u001b[0m\n\u001b[1;32m     48\u001b[0m non_existing_columns_to_rename \u001b[38;5;241m=\u001b[39m \u001b[38;5;28mset\u001b[39m(columns_mapper\u001b[38;5;241m.\u001b[39mkeys())\u001b[38;5;241m.\u001b[39mdifference(df\u001b[38;5;241m.\u001b[39mcolumns)\n\u001b[1;32m     49\u001b[0m \u001b[38;5;28;01mif\u001b[39;00m \u001b[38;5;28mlen\u001b[39m(non_existing_columns_to_rename) \u001b[38;5;241m>\u001b[39m \u001b[38;5;241m0\u001b[39m:\n\u001b[0;32m---> 50\u001b[0m     \u001b[38;5;28;01mraise\u001b[39;00m \u001b[38;5;167;01mValueError\u001b[39;00m(\u001b[38;5;124mf\u001b[39m\u001b[38;5;124m'\u001b[39m\u001b[38;5;124mThe following columns to rename did not exist: \u001b[39m\u001b[38;5;132;01m{\u001b[39;00m\u001b[38;5;28msorted\u001b[39m(\u001b[38;5;28mlist\u001b[39m(non_existing_columns_to_rename))\u001b[38;5;132;01m}\u001b[39;00m\u001b[38;5;124m. Available columns are \u001b[39m\u001b[38;5;132;01m{\u001b[39;00m\u001b[38;5;28mlist\u001b[39m(df\u001b[38;5;241m.\u001b[39mcolumns)\u001b[38;5;132;01m}\u001b[39;00m\u001b[38;5;124m'\u001b[39m)\n\u001b[1;32m     51\u001b[0m df\u001b[38;5;241m.\u001b[39mrename(columns\u001b[38;5;241m=\u001b[39mcolumns_mapper, inplace\u001b[38;5;241m=\u001b[39m\u001b[38;5;28;01mTrue\u001b[39;00m)\n\u001b[1;32m     53\u001b[0m \u001b[38;5;66;03m# Fix unavailable duration of stay\u001b[39;00m\n",
      "\u001b[0;31mValueError\u001b[0m: The following columns to rename did not exist: ['FID']. Available columns are ['tranche', 'datum', 'fid', 'patid', 'kkik', 'geschlecht', 'alter (jahre)', 'fab', 'pflegetage alt', 'pflegetage neu', 'pccl alt', 'pccl neu', 'hd alt', 'hd neu', 'hinzugefügte icd', 'gelöschte icd', 'hinzugefügte ops', 'gelöschte ops', 'drg alt', 'drg neu', 'cw alt', 'cw neu', 'cw-änderung vorschlag', 'cw änderung akzeptiert', 'kommentar dtod', 'kommentar ksw', 'angaben in welchem bericht (drg relevante diagnosen)', 'arztanfragen', 'unnamed: 28']"
     ]
    }
   ],
   "source": [
    "\n",
    "columns_to_rename = dict(COLUMNS_TO_RENAME)\n",
    "columns_to_rename.pop(\"admno\")\n",
    "columns_to_rename['fid'] = CASE_ID_COL\n",
    "\n",
    "revised_cases_df = normalize(file_info, columns_mapper = columns_to_rename)\n",
    "revised_cases_df"
   ]
  },
  {
   "cell_type": "markdown",
   "id": "a6796573",
   "metadata": {
    "tags": []
   },
   "source": [
    "# Match revised DtoD data with the BfS data from the database"
   ]
  },
  {
   "cell_type": "code",
   "execution_count": null,
   "id": "65408537-cd4a-4b7c-a785-0db424378909",
   "metadata": {},
   "outputs": [],
   "source": [
    "cols_to_join = list(VALIDATION_COLS)\n",
    "cols_to_join.remove(CASE_ID_COL)\n",
    "cols_to_join.append(NORM_CASE_ID_COL)\n",
    "# Ignore the patient ID in this dataset, because it is encrypted\n",
    "cols_to_join.remove(PATIENT_ID_COL)\n",
    "\n",
    "revised_cases, unmatched = revise(file_info, revised_cases_df, validation_cols=cols_to_join)\n",
    "revised_cases.head()"
   ]
  },
  {
   "cell_type": "code",
   "execution_count": null,
   "id": "3ac0315b",
   "metadata": {
    "collapsed": false,
    "jupyter": {
     "outputs_hidden": false
    }
   },
   "outputs": [],
   "source": [
    "if unmatched.shape[0] > 0:\n",
    "    display(unmatched)"
   ]
  },
  {
   "cell_type": "code",
   "execution_count": null,
   "id": "a85b9247-c1dc-4072-a1dd-7b61c8251eeb",
   "metadata": {},
   "outputs": [],
   "source": [
    "revisions_update, diagnoses_update, procedures_update = group(revised_cases)\n",
    "revisions_update[REVISION_DATE_COL] = '2022-12-31'"
   ]
  },
  {
   "cell_type": "code",
   "execution_count": null,
   "id": "492c0392",
   "metadata": {
    "collapsed": false,
    "jupyter": {
     "outputs_hidden": false
    }
   },
   "outputs": [],
   "source": [
    "revisions_update"
   ]
  },
  {
   "cell_type": "code",
   "execution_count": null,
   "id": "04e44c03",
   "metadata": {
    "collapsed": false,
    "jupyter": {
     "outputs_hidden": false
    }
   },
   "outputs": [],
   "source": [
    "update_db(revisions_update, diagnoses_update, procedures_update)"
   ]
  }
 ],
 "metadata": {
  "kernelspec": {
   "display_name": "Python 3 (ipykernel)",
   "language": "python",
   "name": "python3"
  },
  "language_info": {
   "codemirror_mode": {
    "name": "ipython",
    "version": 3
   },
   "file_extension": ".py",
   "mimetype": "text/x-python",
   "name": "python",
   "nbconvert_exporter": "python",
   "pygments_lexer": "ipython3",
   "version": "3.10.6"
  }
 },
 "nbformat": 4,
 "nbformat_minor": 5
}
