{
 "cells": [
  {
   "cell_type": "markdown",
   "id": "a4e2885d",
   "metadata": {
    "tags": []
   },
   "source": [
    "# Revised case normalization for Winterthur 2019\n",
    "\n",
    "Notes:\n",
    "\n",
    "- 90 cases can be matched with the DB (if ignoring patientID), otherwise 57."
   ]
  },
  {
   "cell_type": "code",
   "execution_count": 1,
   "id": "d097a048",
   "metadata": {
    "collapsed": false,
    "jupyter": {
     "outputs_hidden": false
    },
    "pycharm": {
     "is_executing": true
    }
   },
   "outputs": [],
   "source": [
    "import sys\n",
    "sys.path.insert(0, '/home/jovyan/work')\n",
    "\n",
    "from src.revised_case_normalization.notebook_functions.global_configs import *\n",
    "from src.revised_case_normalization.notebook_functions.normalize import normalize\n",
    "from src.revised_case_normalization.notebook_functions.revise import revise\n",
    "from src.revised_case_normalization.notebook_functions.group import group\n",
    "from src.revised_case_normalization.notebook_functions.update_db import update_db"
   ]
  },
  {
   "cell_type": "code",
   "execution_count": 2,
   "id": "4710c532",
   "metadata": {
    "collapsed": false,
    "jupyter": {
     "outputs_hidden": false
    }
   },
   "outputs": [
    {
     "name": "stdout",
     "output_type": "stream",
     "text": [
      "FileInfo(path='/home/jovyan/work/src/revised_case_normalization/raw_data/Winterthur.xlsx', hospital_name_db='Kantonsspital Winterthur', year='2019', sheet='Änderungen Winterthur 2019')\n"
     ]
    }
   ],
   "source": [
    "file_info = FileInfo(\n",
    "         os.path.join(ROOT_DIR, 'raw_data/Winterthur.xlsx'),\n",
    "         'Kantonsspital Winterthur',\n",
    "         '2019',\n",
    "         'Änderungen Winterthur 2019')\n",
    "\n",
    "print(file_info)\n",
    "\n"
   ]
  },
  {
   "cell_type": "code",
   "execution_count": 3,
   "id": "8c8b27df",
   "metadata": {
    "collapsed": false,
    "jupyter": {
     "outputs_hidden": false
    }
   },
   "outputs": [
    {
     "name": "stderr",
     "output_type": "stream",
     "text": [
      "2022-11-21 10:01:40.145 | INFO     | src.revised_case_normalization.notebook_functions.normalize:normalize:38 - Read 90 cases for Kantonsspital Winterthur 2019\n",
      "2022-11-21 10:01:40.150 | INFO     | src.revised_case_normalization.notebook_functions.normalize:normalize:73 - TYPES:\n",
      "tranche                                                 string\n",
      "datum                                                   string\n",
      "case_id                                                 object\n",
      "patient_id                                              object\n",
      "kkik                                                    string\n",
      "gender                                                  string\n",
      "age_years                                                int64\n",
      "bfs_code                                                string\n",
      "duration_of_stay                                         int64\n",
      "pflegetage neu                                          string\n",
      "pccl                                                     int64\n",
      "pccl neu                                                string\n",
      "old_pd                                                  string\n",
      "primary_diagnosis                                       string\n",
      "added_icds                                              string\n",
      "removed_icds                                            string\n",
      "added_chops                                             string\n",
      "removed_chops                                           string\n",
      "drg                                                     string\n",
      "drg neu                                                 string\n",
      "cw alt                                                  string\n",
      "cw neu                                                  string\n",
      "cw-änderung vorschlag                                   string\n",
      "cw änderung akzeptiert                                  string\n",
      "kommentar dtod                                          string\n",
      "kommentar ksw                                           string\n",
      "angaben in welchem bericht (drg relevante diagnosen)    string\n",
      "arztanfragen                                            string\n",
      "unnamed: 28                                             string\n",
      "case_id_norm                                            object\n",
      "dtype: object\n",
      "2022-11-21 10:01:40.158 | INFO     | src.utils.dataframe_utils:validate_icd_codes:68 - Validated ICD codes in 'added_icds' and stored them into 'added_icds': All rows contain valid codes\n",
      "2022-11-21 10:01:40.163 | INFO     | src.utils.dataframe_utils:validate_icd_codes:68 - Validated ICD codes in 'removed_icds' and stored them into 'removed_icds': All rows contain valid codes\n",
      "2022-11-21 10:01:40.168 | INFO     | src.utils.dataframe_utils:validate_chop_codes:109 - Validated CHOP codes in 'added_chops' and stored them into 'added_chops': The following 1 rows were affected:\n",
      "row 33: discarded CHOPs after validation {'40.3X.23'}\n",
      "2022-11-21 10:01:40.206 | INFO     | src.utils.dataframe_utils:validate_chop_codes:109 - Validated CHOP codes in 'removed_chops' and stored them into 'removed_chops': The following 1 rows were affected:\n",
      "row 33: discarded CHOPs after validation {'40.29.30'}\n",
      "2022-11-21 10:01:40.207 | INFO     | src.utils.dataframe_utils:remove_duplicated_chops:32 - Removing duplicated CHOP codes due to different casing ...\n",
      "2022-11-21 10:01:40.216 | INFO     | src.utils.dataframe_utils:validate_pd_revised_sd:161 - Validated redundant PD info in 'added_icds'/'removed_icds': The following 10 rows were affected:\n",
      "row 3: primary diagnosis T814 => L022\n",
      "row 7: primary diagnosis J948 => J869\n",
      "row 13: primary diagnosis J4401 => J4400\n",
      "row 17: primary diagnosis I482 => I5013\n",
      "row 18: primary diagnosis A411 => A419\n",
      "row 24: primary diagnosis I1001 => I1101\n",
      "row 35: primary diagnosis J4499 => J4410\n",
      "row 50: primary diagnosis I2510 => I635\n",
      "row 64: primary diagnosis T810 => T814\n",
      "row 77: primary diagnosis J90 => J869\n",
      "2022-11-21 10:01:40.218 | SUCCESS  | src.revised_case_normalization.notebook_functions.normalize:normalize:111 - Completed validation\n"
     ]
    },
    {
     "data": {
      "text/plain": [
       "case_id              object\n",
       "patient_id           object\n",
       "gender               object\n",
       "age_years             int64\n",
       "duration_of_stay      int64\n",
       "case_id_norm         object\n",
       "old_pd               object\n",
       "primary_diagnosis    object\n",
       "bfs_code             object\n",
       "pccl                  int64\n",
       "drg                  object\n",
       "added_icds           object\n",
       "removed_icds         object\n",
       "added_chops          object\n",
       "removed_chops        object\n",
       "dtype: object"
      ]
     },
     "execution_count": 3,
     "metadata": {},
     "output_type": "execute_result"
    }
   ],
   "source": [
    "\n",
    "columns_to_rename = dict(COLUMNS_TO_RENAME)\n",
    "columns_to_rename.pop(\"admno\")\n",
    "columns_to_rename['fid'] = CASE_ID_COL\n",
    "\n",
    "revised_cases_df = normalize(file_info, columns_mapper = columns_to_rename)\n",
    "revised_cases_df\n",
    "revised_cases_df.dtypes"
   ]
  },
  {
   "cell_type": "markdown",
   "id": "a6796573",
   "metadata": {
    "tags": []
   },
   "source": [
    "# Match revised DtoD data with the BfS data from the database"
   ]
  },
  {
   "cell_type": "code",
   "execution_count": 4,
   "id": "65408537-cd4a-4b7c-a785-0db424378909",
   "metadata": {},
   "outputs": [],
   "source": [
    "cols_to_join = list(VALIDATION_COLS)\n",
    "cols_to_join.remove(CASE_ID_COL)\n",
    "cols_to_join.append(NORM_CASE_ID_COL)\n",
    "# Ignore the patient ID in this dataset, because it is encrypted\n",
    "cols_to_join.remove(PATIENT_ID_COL)"
   ]
  },
  {
   "cell_type": "code",
   "execution_count": 5,
   "id": "a81de960-bb3e-446c-9c9f-b0d4175d70e3",
   "metadata": {},
   "outputs": [
    {
     "name": "stderr",
     "output_type": "stream",
     "text": [
      "2022-11-21 10:01:52.190 | INFO     | src.service.bfs_cases_db_service:get_sociodemographics_for_hospital_year:95 - Read 27873 rows from the DB, for the hospital 'Kantonsspital Winterthur' in 2019\n"
     ]
    }
   ],
   "source": [
    "cols_to_join = list(VALIDATION_COLS)\n",
    "cols_to_join.remove(CASE_ID_COL)\n",
    "cols_to_join.append(NORM_CASE_ID_COL)\n",
    "\n",
    "# Ignore the patient ID in this dataset, because it is encrypted\n",
    "cols_to_join.remove(PATIENT_ID_COL)\n",
    "\n",
    "revised_cases, unmatched = revise(file_info, revised_cases_df, validation_cols=cols_to_join)"
   ]
  },
  {
   "cell_type": "code",
   "execution_count": 6,
   "id": "3ac0315b",
   "metadata": {
    "collapsed": false,
    "jupyter": {
     "outputs_hidden": false
    }
   },
   "outputs": [],
   "source": [
    "if unmatched.shape[0] > 0:\n",
    "    display(unmatched)"
   ]
  },
  {
   "cell_type": "code",
   "execution_count": 7,
   "id": "a85b9247-c1dc-4072-a1dd-7b61c8251eeb",
   "metadata": {},
   "outputs": [
    {
     "name": "stderr",
     "output_type": "stream",
     "text": [
      "2022-11-21 10:01:53.776 | INFO     | src.revised_case_normalization.notebook_functions.group:group:86 - Grouping 90 cases ...\n",
      "2022-11-21 10:01:54.966 | SUCCESS  | src.revised_case_normalization.notebook_functions.group:group:91 - Grouped 90 cases into: 90 revisions, 824 diagnoses rows, 414 procedure rows\n"
     ]
    }
   ],
   "source": [
    "revisions_update, diagnoses_update, procedures_update = group(revised_cases)\n",
    "revisions_update[REVISION_DATE_COL] = '2022-12-31'"
   ]
  },
  {
   "cell_type": "code",
   "execution_count": 8,
   "id": "492c0392",
   "metadata": {
    "collapsed": false,
    "jupyter": {
     "outputs_hidden": false
    }
   },
   "outputs": [
    {
     "data": {
      "text/html": [
       "<div>\n",
       "<style scoped>\n",
       "    .dataframe tbody tr th:only-of-type {\n",
       "        vertical-align: middle;\n",
       "    }\n",
       "\n",
       "    .dataframe tbody tr th {\n",
       "        vertical-align: top;\n",
       "    }\n",
       "\n",
       "    .dataframe thead th {\n",
       "        text-align: right;\n",
       "    }\n",
       "</style>\n",
       "<table border=\"1\" class=\"dataframe\">\n",
       "  <thead>\n",
       "    <tr style=\"text-align: right;\">\n",
       "      <th></th>\n",
       "      <th>aimedic_id</th>\n",
       "      <th>drg</th>\n",
       "      <th>drg_cost_weight</th>\n",
       "      <th>effective_cost_weight</th>\n",
       "      <th>pccl</th>\n",
       "      <th>revision_date</th>\n",
       "    </tr>\n",
       "  </thead>\n",
       "  <tbody>\n",
       "    <tr>\n",
       "      <th>0</th>\n",
       "      <td>825534</td>\n",
       "      <td>G48C</td>\n",
       "      <td>0.97</td>\n",
       "      <td>0.97</td>\n",
       "      <td>3</td>\n",
       "      <td>2022-12-31</td>\n",
       "    </tr>\n",
       "    <tr>\n",
       "      <th>1</th>\n",
       "      <td>825923</td>\n",
       "      <td>H41C</td>\n",
       "      <td>1.27</td>\n",
       "      <td>1.27</td>\n",
       "      <td>3</td>\n",
       "      <td>2022-12-31</td>\n",
       "    </tr>\n",
       "    <tr>\n",
       "      <th>2</th>\n",
       "      <td>826912</td>\n",
       "      <td>E65B</td>\n",
       "      <td>0.80</td>\n",
       "      <td>0.80</td>\n",
       "      <td>2</td>\n",
       "      <td>2022-12-31</td>\n",
       "    </tr>\n",
       "    <tr>\n",
       "      <th>3</th>\n",
       "      <td>827003</td>\n",
       "      <td>M09A</td>\n",
       "      <td>1.50</td>\n",
       "      <td>1.50</td>\n",
       "      <td>4</td>\n",
       "      <td>2022-12-31</td>\n",
       "    </tr>\n",
       "    <tr>\n",
       "      <th>4</th>\n",
       "      <td>827144</td>\n",
       "      <td>E65A</td>\n",
       "      <td>1.18</td>\n",
       "      <td>1.18</td>\n",
       "      <td>4</td>\n",
       "      <td>2022-12-31</td>\n",
       "    </tr>\n",
       "    <tr>\n",
       "      <th>...</th>\n",
       "      <td>...</td>\n",
       "      <td>...</td>\n",
       "      <td>...</td>\n",
       "      <td>...</td>\n",
       "      <td>...</td>\n",
       "      <td>...</td>\n",
       "    </tr>\n",
       "    <tr>\n",
       "      <th>85</th>\n",
       "      <td>852542</td>\n",
       "      <td>F75B</td>\n",
       "      <td>1.66</td>\n",
       "      <td>1.66</td>\n",
       "      <td>4</td>\n",
       "      <td>2022-12-31</td>\n",
       "    </tr>\n",
       "    <tr>\n",
       "      <th>86</th>\n",
       "      <td>852693</td>\n",
       "      <td>I09A</td>\n",
       "      <td>3.71</td>\n",
       "      <td>3.71</td>\n",
       "      <td>4</td>\n",
       "      <td>2022-12-31</td>\n",
       "    </tr>\n",
       "    <tr>\n",
       "      <th>87</th>\n",
       "      <td>852800</td>\n",
       "      <td>T60D</td>\n",
       "      <td>1.42</td>\n",
       "      <td>1.42</td>\n",
       "      <td>4</td>\n",
       "      <td>2022-12-31</td>\n",
       "    </tr>\n",
       "    <tr>\n",
       "      <th>88</th>\n",
       "      <td>853089</td>\n",
       "      <td>N01C</td>\n",
       "      <td>2.32</td>\n",
       "      <td>2.32</td>\n",
       "      <td>2</td>\n",
       "      <td>2022-12-31</td>\n",
       "    </tr>\n",
       "    <tr>\n",
       "      <th>89</th>\n",
       "      <td>853105</td>\n",
       "      <td>I66A</td>\n",
       "      <td>1.75</td>\n",
       "      <td>1.75</td>\n",
       "      <td>4</td>\n",
       "      <td>2022-12-31</td>\n",
       "    </tr>\n",
       "  </tbody>\n",
       "</table>\n",
       "<p>90 rows × 6 columns</p>\n",
       "</div>"
      ],
      "text/plain": [
       "    aimedic_id   drg  drg_cost_weight  effective_cost_weight  pccl revision_date\n",
       "0       825534  G48C             0.97                   0.97     3    2022-12-31\n",
       "1       825923  H41C             1.27                   1.27     3    2022-12-31\n",
       "2       826912  E65B             0.80                   0.80     2    2022-12-31\n",
       "3       827003  M09A             1.50                   1.50     4    2022-12-31\n",
       "4       827144  E65A             1.18                   1.18     4    2022-12-31\n",
       "..         ...   ...              ...                    ...   ...           ...\n",
       "85      852542  F75B             1.66                   1.66     4    2022-12-31\n",
       "86      852693  I09A             3.71                   3.71     4    2022-12-31\n",
       "87      852800  T60D             1.42                   1.42     4    2022-12-31\n",
       "88      853089  N01C             2.32                   2.32     2    2022-12-31\n",
       "89      853105  I66A             1.75                   1.75     4    2022-12-31\n",
       "\n",
       "[90 rows x 6 columns]"
      ]
     },
     "execution_count": 8,
     "metadata": {},
     "output_type": "execute_result"
    }
   ],
   "source": [
    "revisions_update"
   ]
  },
  {
   "cell_type": "code",
   "execution_count": 9,
   "id": "04e44c03",
   "metadata": {
    "collapsed": false,
    "jupyter": {
     "outputs_hidden": false
    }
   },
   "outputs": [
    {
     "name": "stderr",
     "output_type": "stream",
     "text": [
      "2022-11-21 10:01:54.989 | INFO     | src.service.bfs_cases_db_service:insert_revised_cases_into_revisions:259 - Trying to insert 90 cases into the 'Revisions' table ...\n",
      "2022-11-21 10:02:01.775 | SUCCESS  | src.service.bfs_cases_db_service:insert_revised_cases_into_revisions:296 - Inserted 90 cases into the 'Revisions' table\n",
      "2022-11-21 10:02:01.782 | INFO     | src.service.bfs_cases_db_service:insert_revised_cases_into_diagnoses:309 - Trying to insert 824 rows into the 'Diagnoses' table ...\n",
      "2022-11-21 10:02:09.807 | SUCCESS  | src.service.bfs_cases_db_service:insert_revised_cases_into_diagnoses:347 - Inserted 824 rows into the 'Diagnoses' table\n",
      "2022-11-21 10:02:09.811 | INFO     | src.service.bfs_cases_db_service:insert_revised_cases_into_procedures:358 - Trying to insert 414 rows into the 'Procedures' table ...\n",
      "2022-11-21 10:02:14.267 | SUCCESS  | src.service.bfs_cases_db_service:insert_revised_cases_into_procedures:404 - Inserted 414 rows into the 'Procedures' table\n"
     ]
    }
   ],
   "source": [
    "update_db(revisions_update, diagnoses_update, procedures_update)"
   ]
  }
 ],
 "metadata": {
  "kernelspec": {
   "display_name": "Python 3 (ipykernel)",
   "language": "python",
   "name": "python3"
  },
  "language_info": {
   "codemirror_mode": {
    "name": "ipython",
    "version": 3
   },
   "file_extension": ".py",
   "mimetype": "text/x-python",
   "name": "python",
   "nbconvert_exporter": "python",
   "pygments_lexer": "ipython3",
   "version": "3.10.6"
  }
 },
 "nbformat": 4,
 "nbformat_minor": 5
}
