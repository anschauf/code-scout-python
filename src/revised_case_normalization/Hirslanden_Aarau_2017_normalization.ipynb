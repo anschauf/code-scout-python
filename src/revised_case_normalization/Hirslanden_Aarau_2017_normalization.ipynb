{
 "cells": [
  {
   "cell_type": "markdown",
   "id": "a4e2885d",
   "metadata": {
    "tags": []
   },
   "source": [
    "# Revised case normalization for Hirslanden Aarau 2017\n",
    "\n",
    "- No matches were found in this hospital\n",
    "\n"
   ]
  },
  {
   "cell_type": "code",
   "execution_count": 1,
   "id": "d097a048",
   "metadata": {
    "collapsed": false,
    "jupyter": {
     "outputs_hidden": false
    }
   },
   "outputs": [],
   "source": [
    "import sys\n",
    "\n",
    "from loguru import logger\n",
    "\n",
    "sys.path.insert(0, '/home/jovyan/work')\n",
    "\n",
    "from src.revised_case_normalization.py.global_configs import *\n",
    "from src.revised_case_normalization.py.normalize import normalize\n",
    "from src.service import bfs_cases_db_service as bfs_db\n",
    "from src.service.bfs_cases_db_service import session, get_hospital_year_cases"
   ]
  },
  {
   "cell_type": "code",
   "execution_count": 2,
   "id": "4710c532",
   "metadata": {
    "collapsed": false,
    "jupyter": {
     "outputs_hidden": false
    }
   },
   "outputs": [
    {
     "name": "stdout",
     "output_type": "stream",
     "text": [
      "FileInfo(path='/home/jovyan/work/src/revised_case_normalization/raw_data/HI_Aarau_Birshof_ST. Anna.xlsx', hospital_name_db='Hirslanden Aarau', year='2017', sheets=['Aarau_2017'])\n"
     ]
    }
   ],
   "source": [
    "file_info = FileInfo(\n",
    "        os.path.join(ROOT_DIR, 'raw_data/HI_Aarau_Birshof_ST. Anna.xlsx'),\n",
    "         'Hirslanden Aarau',\n",
    "        '2017',\n",
    "        ['Aarau_2017'])\n",
    "\n",
    "print(file_info)"
   ]
  },
  {
   "cell_type": "code",
   "execution_count": 3,
   "id": "8c8b27df",
   "metadata": {
    "collapsed": false,
    "jupyter": {
     "outputs_hidden": false
    }
   },
   "outputs": [
    {
     "name": "stderr",
     "output_type": "stream",
     "text": [
      "2022-10-19 06:57:53.331 | INFO     | src.revised_case_normalization.py.normalize:normalize:46 - Read 14 cases for Hirslanden Aarau 2017\n",
      "2022-10-19 06:57:53.335 | INFO     | src.revised_case_normalization.py.normalize:normalize:69 - TYPES:\n",
      "case_id              int64\n",
      "patient_id          object\n",
      "gender              string\n",
      "age_years            int64\n",
      "duration_of_stay     int64\n",
      "pccl                 int64\n",
      "drg                 string\n",
      "old_pd              string\n",
      "new_pd              string\n",
      "bfs_code            string\n",
      "added_icds          string\n",
      "removed_icds        string\n",
      "added_chops         string\n",
      "removed_chops       string\n",
      "dtype: object\n",
      "2022-10-19 06:57:53.339 | INFO     | src.utils.dataframe_utils:validate_icd_codes:68 - Validated ICD codes in 'added_icds' and stored them into 'added_icds': All rows contain valid codes\n",
      "2022-10-19 06:57:53.341 | INFO     | src.utils.dataframe_utils:validate_icd_codes:68 - Validated ICD codes in 'removed_icds' and stored them into 'removed_icds': All rows contain valid codes\n",
      "2022-10-19 06:57:53.343 | INFO     | src.utils.dataframe_utils:validate_chop_codes:106 - Validated CHOP codes in 'added_chops' and stored them into 'added_chops': All rows contain valid codes\n",
      "2022-10-19 06:57:53.346 | INFO     | src.utils.dataframe_utils:validate_chop_codes:106 - Validated CHOP codes in 'removed_chops' and stored them into 'removed_chops': All rows contain valid codes\n",
      "2022-10-19 06:57:53.347 | INFO     | src.utils.dataframe_utils:remove_duplicated_chops:32 - Removing duplicated CHOP codes due to different casing ...\n",
      "2022-10-19 06:57:53.350 | INFO     | src.utils.dataframe_utils:validate_pd_revised_sd:158 - Validated redundant PD info in 'added_icds'/'removed_icds': All rows contain valid codes\n",
      "2022-10-19 06:57:53.353 | SUCCESS  | src.revised_case_normalization.py.normalize:normalize:101 - Completed validation\n"
     ]
    }
   ],
   "source": [
    "cols_to_rename = dict(COLUMNS_TO_RENAME)\n",
    "# Replace 'admno' with 'fall nummer'\n",
    "cols_to_rename.pop('admno')\n",
    "cols_to_rename['fall nummer'] = CASE_ID_COL\n",
    "\n",
    "df_revised_case_d2d = normalize(file_info, 0)"
   ]
  },
  {
   "cell_type": "code",
   "execution_count": 4,
   "id": "6c589452",
   "metadata": {
    "collapsed": false,
    "jupyter": {
     "outputs_hidden": false
    }
   },
   "outputs": [
    {
     "data": {
      "text/plain": "     case_id  patient_id gender  age_years  duration_of_stay  pccl   drg  \\\n0   41206174     1176423      W         72                 5     3  I21C   \n1   41230776     1659346      W         67                19     3  B72C   \n2   41281042     1823347      M         67                 6     3  F14B   \n3   41386032     1051316      M         74                10     3  I08C   \n4   41418378    22136564      M         86                 8     3  G18B   \n5   41247420     1251372      W         63                 8     3  I09D   \n6   41477047     1536048      W         74                 6     3  I66B   \n7   41280551  0022114393      W         84                 7     3  F62C   \n8   41457913  0001193700      W         92                 5     3  E71B   \n9   41523346  0002096726      W         77                 9     3  L60D   \n10  41282182  0011052170      W         67                 7     3  F35C   \n11  41360177  0022005957      M         67                 7     3  F35C   \n12  41588330  0022148117      W         70                14     3  L10B   \n13  41440505   001910023      M         72                 9     3  F52B   \n\n   old_pd new_pd bfs_code          added_icds removed_icds       added_chops  \\\n0    T840   T840     M200             [E1140]           []  [80051D, 815255]   \n1    G001   G001     M100              [B370]           []                []   \n2   E1150  E1150     M100              [F101]           []                []   \n3   S7211  S7211     M200             [L8914]           []                []   \n4    C182   C182     M200             [E1191]      [E1190]                []   \n5   M4216  M4216     M200             [M4196]           []                []   \n6    M315   M315     M100             [K3182]      [K5581]                []   \n7   I5012  I5012     M100  [F023, F338, F051]  [F03, F328]                []   \n8    C341   C341     M100               [R15]           []                []   \n9   N1783  N1783     M100              [A099]           []                []   \n10   I313   I313     M200             [J9580]           []                []   \n11   I313   I313     M200               [J91]           []                []   \n12   C670   C670     M200              [A099]           []                []   \n13   I210   I210     M100              [I513]           []                []   \n\n         removed_chops  \n0   [009031::20170106]  \n1                   []  \n2                   []  \n3                   []  \n4                   []  \n5                   []  \n6                   []  \n7                   []  \n8                   []  \n9                   []  \n10                  []  \n11                  []  \n12                  []  \n13                  []  ",
      "text/html": "<div>\n<style scoped>\n    .dataframe tbody tr th:only-of-type {\n        vertical-align: middle;\n    }\n\n    .dataframe tbody tr th {\n        vertical-align: top;\n    }\n\n    .dataframe thead th {\n        text-align: right;\n    }\n</style>\n<table border=\"1\" class=\"dataframe\">\n  <thead>\n    <tr style=\"text-align: right;\">\n      <th></th>\n      <th>case_id</th>\n      <th>patient_id</th>\n      <th>gender</th>\n      <th>age_years</th>\n      <th>duration_of_stay</th>\n      <th>pccl</th>\n      <th>drg</th>\n      <th>old_pd</th>\n      <th>new_pd</th>\n      <th>bfs_code</th>\n      <th>added_icds</th>\n      <th>removed_icds</th>\n      <th>added_chops</th>\n      <th>removed_chops</th>\n    </tr>\n  </thead>\n  <tbody>\n    <tr>\n      <th>0</th>\n      <td>41206174</td>\n      <td>1176423</td>\n      <td>W</td>\n      <td>72</td>\n      <td>5</td>\n      <td>3</td>\n      <td>I21C</td>\n      <td>T840</td>\n      <td>T840</td>\n      <td>M200</td>\n      <td>[E1140]</td>\n      <td>[]</td>\n      <td>[80051D, 815255]</td>\n      <td>[009031::20170106]</td>\n    </tr>\n    <tr>\n      <th>1</th>\n      <td>41230776</td>\n      <td>1659346</td>\n      <td>W</td>\n      <td>67</td>\n      <td>19</td>\n      <td>3</td>\n      <td>B72C</td>\n      <td>G001</td>\n      <td>G001</td>\n      <td>M100</td>\n      <td>[B370]</td>\n      <td>[]</td>\n      <td>[]</td>\n      <td>[]</td>\n    </tr>\n    <tr>\n      <th>2</th>\n      <td>41281042</td>\n      <td>1823347</td>\n      <td>M</td>\n      <td>67</td>\n      <td>6</td>\n      <td>3</td>\n      <td>F14B</td>\n      <td>E1150</td>\n      <td>E1150</td>\n      <td>M100</td>\n      <td>[F101]</td>\n      <td>[]</td>\n      <td>[]</td>\n      <td>[]</td>\n    </tr>\n    <tr>\n      <th>3</th>\n      <td>41386032</td>\n      <td>1051316</td>\n      <td>M</td>\n      <td>74</td>\n      <td>10</td>\n      <td>3</td>\n      <td>I08C</td>\n      <td>S7211</td>\n      <td>S7211</td>\n      <td>M200</td>\n      <td>[L8914]</td>\n      <td>[]</td>\n      <td>[]</td>\n      <td>[]</td>\n    </tr>\n    <tr>\n      <th>4</th>\n      <td>41418378</td>\n      <td>22136564</td>\n      <td>M</td>\n      <td>86</td>\n      <td>8</td>\n      <td>3</td>\n      <td>G18B</td>\n      <td>C182</td>\n      <td>C182</td>\n      <td>M200</td>\n      <td>[E1191]</td>\n      <td>[E1190]</td>\n      <td>[]</td>\n      <td>[]</td>\n    </tr>\n    <tr>\n      <th>5</th>\n      <td>41247420</td>\n      <td>1251372</td>\n      <td>W</td>\n      <td>63</td>\n      <td>8</td>\n      <td>3</td>\n      <td>I09D</td>\n      <td>M4216</td>\n      <td>M4216</td>\n      <td>M200</td>\n      <td>[M4196]</td>\n      <td>[]</td>\n      <td>[]</td>\n      <td>[]</td>\n    </tr>\n    <tr>\n      <th>6</th>\n      <td>41477047</td>\n      <td>1536048</td>\n      <td>W</td>\n      <td>74</td>\n      <td>6</td>\n      <td>3</td>\n      <td>I66B</td>\n      <td>M315</td>\n      <td>M315</td>\n      <td>M100</td>\n      <td>[K3182]</td>\n      <td>[K5581]</td>\n      <td>[]</td>\n      <td>[]</td>\n    </tr>\n    <tr>\n      <th>7</th>\n      <td>41280551</td>\n      <td>0022114393</td>\n      <td>W</td>\n      <td>84</td>\n      <td>7</td>\n      <td>3</td>\n      <td>F62C</td>\n      <td>I5012</td>\n      <td>I5012</td>\n      <td>M100</td>\n      <td>[F023, F338, F051]</td>\n      <td>[F03, F328]</td>\n      <td>[]</td>\n      <td>[]</td>\n    </tr>\n    <tr>\n      <th>8</th>\n      <td>41457913</td>\n      <td>0001193700</td>\n      <td>W</td>\n      <td>92</td>\n      <td>5</td>\n      <td>3</td>\n      <td>E71B</td>\n      <td>C341</td>\n      <td>C341</td>\n      <td>M100</td>\n      <td>[R15]</td>\n      <td>[]</td>\n      <td>[]</td>\n      <td>[]</td>\n    </tr>\n    <tr>\n      <th>9</th>\n      <td>41523346</td>\n      <td>0002096726</td>\n      <td>W</td>\n      <td>77</td>\n      <td>9</td>\n      <td>3</td>\n      <td>L60D</td>\n      <td>N1783</td>\n      <td>N1783</td>\n      <td>M100</td>\n      <td>[A099]</td>\n      <td>[]</td>\n      <td>[]</td>\n      <td>[]</td>\n    </tr>\n    <tr>\n      <th>10</th>\n      <td>41282182</td>\n      <td>0011052170</td>\n      <td>W</td>\n      <td>67</td>\n      <td>7</td>\n      <td>3</td>\n      <td>F35C</td>\n      <td>I313</td>\n      <td>I313</td>\n      <td>M200</td>\n      <td>[J9580]</td>\n      <td>[]</td>\n      <td>[]</td>\n      <td>[]</td>\n    </tr>\n    <tr>\n      <th>11</th>\n      <td>41360177</td>\n      <td>0022005957</td>\n      <td>M</td>\n      <td>67</td>\n      <td>7</td>\n      <td>3</td>\n      <td>F35C</td>\n      <td>I313</td>\n      <td>I313</td>\n      <td>M200</td>\n      <td>[J91]</td>\n      <td>[]</td>\n      <td>[]</td>\n      <td>[]</td>\n    </tr>\n    <tr>\n      <th>12</th>\n      <td>41588330</td>\n      <td>0022148117</td>\n      <td>W</td>\n      <td>70</td>\n      <td>14</td>\n      <td>3</td>\n      <td>L10B</td>\n      <td>C670</td>\n      <td>C670</td>\n      <td>M200</td>\n      <td>[A099]</td>\n      <td>[]</td>\n      <td>[]</td>\n      <td>[]</td>\n    </tr>\n    <tr>\n      <th>13</th>\n      <td>41440505</td>\n      <td>001910023</td>\n      <td>M</td>\n      <td>72</td>\n      <td>9</td>\n      <td>3</td>\n      <td>F52B</td>\n      <td>I210</td>\n      <td>I210</td>\n      <td>M100</td>\n      <td>[I513]</td>\n      <td>[]</td>\n      <td>[]</td>\n      <td>[]</td>\n    </tr>\n  </tbody>\n</table>\n</div>"
     },
     "execution_count": 4,
     "metadata": {},
     "output_type": "execute_result"
    }
   ],
   "source": [
    "df_revised_case_d2d"
   ]
  },
  {
   "cell_type": "markdown",
   "id": "a6796573",
   "metadata": {
    "tags": []
   },
   "source": [
    "# Match revised DtoD data with the BfS data from the database"
   ]
  },
  {
   "cell_type": "code",
   "execution_count": 5,
   "outputs": [
    {
     "name": "stderr",
     "output_type": "stream",
     "text": [
      "2022-10-19 06:57:54.667 | INFO     | __main__:<module>:2 - Read 0 rows from the DB, for the hospital 'Hirslanden Aarau' in the year 2017\n"
     ]
    }
   ],
   "source": [
    "cases_in_db = get_hospital_year_cases(file_info.hospital_name_db, file_info.year)[VALIDATION_COLS]\n",
    "\n",
    "num_cases_in_db = cases_in_db.shape[0]\n",
    "if num_cases_in_db == 0:\n",
    "    raise ValueError(f\"There is no data for the hospital '{file_info.hospital_name_db}' in {file_info.year}\")\n",
    "else:\n",
    "    logger.info(f\"Read {num_cases_in_db} rows from the DB, for the hospital '{file_info.hospital_name_db}' in {file_info.year}\")"
   ],
   "metadata": {
    "collapsed": false
   }
  },
  {
   "cell_type": "code",
   "execution_count": 7,
   "id": "42113e93",
   "metadata": {
    "collapsed": false,
    "jupyter": {
     "outputs_hidden": false
    }
   },
   "outputs": [
    {
     "data": {
      "text/plain": "     case_id  patient_id gender  age_years  duration_of_stay  pccl   drg  \\\n0   41206174     1176423      W         72                 5     3  I21C   \n1   41230776     1659346      W         67                19     3  B72C   \n2   41281042     1823347      M         67                 6     3  F14B   \n3   41386032     1051316      M         74                10     3  I08C   \n4   41418378    22136564      M         86                 8     3  G18B   \n5   41247420     1251372      W         63                 8     3  I09D   \n6   41477047     1536048      W         74                 6     3  I66B   \n7   41280551  0022114393      W         84                 7     3  F62C   \n8   41457913  0001193700      W         92                 5     3  E71B   \n9   41523346  0002096726      W         77                 9     3  L60D   \n10  41282182  0011052170      W         67                 7     3  F35C   \n11  41360177  0022005957      M         67                 7     3  F35C   \n12  41588330  0022148117      W         70                14     3  L10B   \n13  41440505   001910023      M         72                 9     3  F52B   \n\n   old_pd new_pd bfs_code          added_icds removed_icds       added_chops  \\\n0    T840   T840     M200             [E1140]           []  [80051D, 815255]   \n1    G001   G001     M100              [B370]           []                []   \n2   E1150  E1150     M100              [F101]           []                []   \n3   S7211  S7211     M200             [L8914]           []                []   \n4    C182   C182     M200             [E1191]      [E1190]                []   \n5   M4216  M4216     M200             [M4196]           []                []   \n6    M315   M315     M100             [K3182]      [K5581]                []   \n7   I5012  I5012     M100  [F023, F338, F051]  [F03, F328]                []   \n8    C341   C341     M100               [R15]           []                []   \n9   N1783  N1783     M100              [A099]           []                []   \n10   I313   I313     M200             [J9580]           []                []   \n11   I313   I313     M200               [J91]           []                []   \n12   C670   C670     M200              [A099]           []                []   \n13   I210   I210     M100              [I513]           []                []   \n\n         removed_chops  case_id_num  \n0   [009031::20170106]     41206174  \n1                   []     41230776  \n2                   []     41281042  \n3                   []     41386032  \n4                   []     41418378  \n5                   []     41247420  \n6                   []     41477047  \n7                   []     41280551  \n8                   []     41457913  \n9                   []     41523346  \n10                  []     41282182  \n11                  []     41360177  \n12                  []     41588330  \n13                  []     41440505  ",
      "text/html": "<div>\n<style scoped>\n    .dataframe tbody tr th:only-of-type {\n        vertical-align: middle;\n    }\n\n    .dataframe tbody tr th {\n        vertical-align: top;\n    }\n\n    .dataframe thead th {\n        text-align: right;\n    }\n</style>\n<table border=\"1\" class=\"dataframe\">\n  <thead>\n    <tr style=\"text-align: right;\">\n      <th></th>\n      <th>case_id</th>\n      <th>patient_id</th>\n      <th>gender</th>\n      <th>age_years</th>\n      <th>duration_of_stay</th>\n      <th>pccl</th>\n      <th>drg</th>\n      <th>old_pd</th>\n      <th>new_pd</th>\n      <th>bfs_code</th>\n      <th>added_icds</th>\n      <th>removed_icds</th>\n      <th>added_chops</th>\n      <th>removed_chops</th>\n      <th>case_id_num</th>\n    </tr>\n  </thead>\n  <tbody>\n    <tr>\n      <th>0</th>\n      <td>41206174</td>\n      <td>1176423</td>\n      <td>W</td>\n      <td>72</td>\n      <td>5</td>\n      <td>3</td>\n      <td>I21C</td>\n      <td>T840</td>\n      <td>T840</td>\n      <td>M200</td>\n      <td>[E1140]</td>\n      <td>[]</td>\n      <td>[80051D, 815255]</td>\n      <td>[009031::20170106]</td>\n      <td>41206174</td>\n    </tr>\n    <tr>\n      <th>1</th>\n      <td>41230776</td>\n      <td>1659346</td>\n      <td>W</td>\n      <td>67</td>\n      <td>19</td>\n      <td>3</td>\n      <td>B72C</td>\n      <td>G001</td>\n      <td>G001</td>\n      <td>M100</td>\n      <td>[B370]</td>\n      <td>[]</td>\n      <td>[]</td>\n      <td>[]</td>\n      <td>41230776</td>\n    </tr>\n    <tr>\n      <th>2</th>\n      <td>41281042</td>\n      <td>1823347</td>\n      <td>M</td>\n      <td>67</td>\n      <td>6</td>\n      <td>3</td>\n      <td>F14B</td>\n      <td>E1150</td>\n      <td>E1150</td>\n      <td>M100</td>\n      <td>[F101]</td>\n      <td>[]</td>\n      <td>[]</td>\n      <td>[]</td>\n      <td>41281042</td>\n    </tr>\n    <tr>\n      <th>3</th>\n      <td>41386032</td>\n      <td>1051316</td>\n      <td>M</td>\n      <td>74</td>\n      <td>10</td>\n      <td>3</td>\n      <td>I08C</td>\n      <td>S7211</td>\n      <td>S7211</td>\n      <td>M200</td>\n      <td>[L8914]</td>\n      <td>[]</td>\n      <td>[]</td>\n      <td>[]</td>\n      <td>41386032</td>\n    </tr>\n    <tr>\n      <th>4</th>\n      <td>41418378</td>\n      <td>22136564</td>\n      <td>M</td>\n      <td>86</td>\n      <td>8</td>\n      <td>3</td>\n      <td>G18B</td>\n      <td>C182</td>\n      <td>C182</td>\n      <td>M200</td>\n      <td>[E1191]</td>\n      <td>[E1190]</td>\n      <td>[]</td>\n      <td>[]</td>\n      <td>41418378</td>\n    </tr>\n    <tr>\n      <th>5</th>\n      <td>41247420</td>\n      <td>1251372</td>\n      <td>W</td>\n      <td>63</td>\n      <td>8</td>\n      <td>3</td>\n      <td>I09D</td>\n      <td>M4216</td>\n      <td>M4216</td>\n      <td>M200</td>\n      <td>[M4196]</td>\n      <td>[]</td>\n      <td>[]</td>\n      <td>[]</td>\n      <td>41247420</td>\n    </tr>\n    <tr>\n      <th>6</th>\n      <td>41477047</td>\n      <td>1536048</td>\n      <td>W</td>\n      <td>74</td>\n      <td>6</td>\n      <td>3</td>\n      <td>I66B</td>\n      <td>M315</td>\n      <td>M315</td>\n      <td>M100</td>\n      <td>[K3182]</td>\n      <td>[K5581]</td>\n      <td>[]</td>\n      <td>[]</td>\n      <td>41477047</td>\n    </tr>\n    <tr>\n      <th>7</th>\n      <td>41280551</td>\n      <td>0022114393</td>\n      <td>W</td>\n      <td>84</td>\n      <td>7</td>\n      <td>3</td>\n      <td>F62C</td>\n      <td>I5012</td>\n      <td>I5012</td>\n      <td>M100</td>\n      <td>[F023, F338, F051]</td>\n      <td>[F03, F328]</td>\n      <td>[]</td>\n      <td>[]</td>\n      <td>41280551</td>\n    </tr>\n    <tr>\n      <th>8</th>\n      <td>41457913</td>\n      <td>0001193700</td>\n      <td>W</td>\n      <td>92</td>\n      <td>5</td>\n      <td>3</td>\n      <td>E71B</td>\n      <td>C341</td>\n      <td>C341</td>\n      <td>M100</td>\n      <td>[R15]</td>\n      <td>[]</td>\n      <td>[]</td>\n      <td>[]</td>\n      <td>41457913</td>\n    </tr>\n    <tr>\n      <th>9</th>\n      <td>41523346</td>\n      <td>0002096726</td>\n      <td>W</td>\n      <td>77</td>\n      <td>9</td>\n      <td>3</td>\n      <td>L60D</td>\n      <td>N1783</td>\n      <td>N1783</td>\n      <td>M100</td>\n      <td>[A099]</td>\n      <td>[]</td>\n      <td>[]</td>\n      <td>[]</td>\n      <td>41523346</td>\n    </tr>\n    <tr>\n      <th>10</th>\n      <td>41282182</td>\n      <td>0011052170</td>\n      <td>W</td>\n      <td>67</td>\n      <td>7</td>\n      <td>3</td>\n      <td>F35C</td>\n      <td>I313</td>\n      <td>I313</td>\n      <td>M200</td>\n      <td>[J9580]</td>\n      <td>[]</td>\n      <td>[]</td>\n      <td>[]</td>\n      <td>41282182</td>\n    </tr>\n    <tr>\n      <th>11</th>\n      <td>41360177</td>\n      <td>0022005957</td>\n      <td>M</td>\n      <td>67</td>\n      <td>7</td>\n      <td>3</td>\n      <td>F35C</td>\n      <td>I313</td>\n      <td>I313</td>\n      <td>M200</td>\n      <td>[J91]</td>\n      <td>[]</td>\n      <td>[]</td>\n      <td>[]</td>\n      <td>41360177</td>\n    </tr>\n    <tr>\n      <th>12</th>\n      <td>41588330</td>\n      <td>0022148117</td>\n      <td>W</td>\n      <td>70</td>\n      <td>14</td>\n      <td>3</td>\n      <td>L10B</td>\n      <td>C670</td>\n      <td>C670</td>\n      <td>M200</td>\n      <td>[A099]</td>\n      <td>[]</td>\n      <td>[]</td>\n      <td>[]</td>\n      <td>41588330</td>\n    </tr>\n    <tr>\n      <th>13</th>\n      <td>41440505</td>\n      <td>001910023</td>\n      <td>M</td>\n      <td>72</td>\n      <td>9</td>\n      <td>3</td>\n      <td>F52B</td>\n      <td>I210</td>\n      <td>I210</td>\n      <td>M100</td>\n      <td>[I513]</td>\n      <td>[]</td>\n      <td>[]</td>\n      <td>[]</td>\n      <td>41440505</td>\n    </tr>\n  </tbody>\n</table>\n</div>"
     },
     "execution_count": 7,
     "metadata": {},
     "output_type": "execute_result"
    }
   ],
   "source": [
    "# get the case_id from revised_case\n",
    "df_revised_case_d2d['case_id_num'] = df_revised_case_d2d[CASE_ID_COL].astype(int)\n",
    "cases_in_db['case_id_num'] = cases_in_db[CASE_ID_COL].astype(int)\n",
    "\n",
    "# TODO Join tables\n",
    "\n",
    "sys.exit(0)"
   ]
  },
  {
   "cell_type": "code",
   "execution_count": 7,
   "id": "9ddb9c40",
   "metadata": {
    "collapsed": false,
    "jupyter": {
     "outputs_hidden": false
    }
   },
   "outputs": [
    {
     "ename": "TypeError",
     "evalue": "can only concatenate str (not \"int\") to str",
     "output_type": "error",
     "traceback": [
      "\u001B[0;31m---------------------------------------------------------------------------\u001B[0m",
      "\u001B[0;31mTypeError\u001B[0m                                 Traceback (most recent call last)",
      "Cell \u001B[0;32mIn [7], line 2\u001B[0m\n\u001B[1;32m      1\u001B[0m \u001B[38;5;66;03m# match to the database and retrieve data from database using revised\u001B[39;00m\n\u001B[0;32m----> 2\u001B[0m revised_case_db \u001B[38;5;241m=\u001B[39m bfs_db\u001B[38;5;241m.\u001B[39mget_bfs_cases_by_ids_no_pad0(revised_case_id_stripped)\n\u001B[1;32m      3\u001B[0m revised_case_db\u001B[38;5;241m.\u001B[39mhead()\n",
      "File \u001B[0;32m~/work/src/service/bfs_cases_db_service.py:74\u001B[0m, in \u001B[0;36mget_bfs_cases_by_ids_no_pad0\u001B[0;34m(case_ids)\u001B[0m\n\u001B[1;32m     72\u001B[0m cases \u001B[38;5;241m=\u001B[39m \u001B[38;5;28mlist\u001B[39m()\n\u001B[1;32m     73\u001B[0m \u001B[38;5;28;01mfor\u001B[39;00m case_id \u001B[38;5;129;01min\u001B[39;00m case_ids:\n\u001B[0;32m---> 74\u001B[0m     case_id_pad \u001B[38;5;241m=\u001B[39m \u001B[38;5;124;43m'\u001B[39;49m\u001B[38;5;124;43m%\u001B[39;49m\u001B[38;5;124;43m'\u001B[39;49m\u001B[43m \u001B[49m\u001B[38;5;241;43m+\u001B[39;49m\u001B[43m \u001B[49m\u001B[43mcase_id\u001B[49m\n\u001B[1;32m     75\u001B[0m     query \u001B[38;5;241m=\u001B[39m session\u001B[38;5;241m.\u001B[39mquery(BfsCase)\u001B[38;5;241m.\u001B[39mfilter(BfsCase\u001B[38;5;241m.\u001B[39mcase_id\u001B[38;5;241m.\u001B[39mlike(case_id_pad))\n\u001B[1;32m     76\u001B[0m     cases\u001B[38;5;241m.\u001B[39mappend(pd\u001B[38;5;241m.\u001B[39mread_sql(query\u001B[38;5;241m.\u001B[39mstatement, session\u001B[38;5;241m.\u001B[39mbind))\n",
      "\u001B[0;31mTypeError\u001B[0m: can only concatenate str (not \"int\") to str"
     ]
    }
   ],
   "source": [
    "# match to the database and retrieve data from database using revised\n",
    "revised_case_db = bfs_db.get_bfs_cases_by_ids_no_pad0(revised_case_id_stripped)\n",
    "revised_case_db.head()"
   ]
  },
  {
   "cell_type": "code",
   "execution_count": null,
   "outputs": [],
   "source": [
    "sys.exit(0)"
   ],
   "metadata": {
    "collapsed": false
   }
  },
  {
   "cell_type": "code",
   "execution_count": null,
   "id": "72a903f0-1223-45d7-9990-3ea0f87b0572",
   "metadata": {},
   "outputs": [],
   "source": [
    "# create a new column for case_id_stripped with '0' for joining to the revised cases\n",
    "revised_case_db['case_id_stripped']=  revised_case_db['case_id'].apply(lambda x: x.lstrip('0')) \n",
    "revised_case_db.head()"
   ]
  },
  {
   "cell_type": "code",
   "execution_count": null,
   "id": "ce804ffb-50ab-42b8-a797-ce11e0e565a2",
   "metadata": {},
   "outputs": [],
   "source": [
    "# create a new column for case_id_stripped with '0' for joining to the revised cases\n",
    "revised_case_db['case_id_stripped']=  revised_case_db['case_id'].apply(lambda x: x.lstrip('0')) \n",
    "revised_case_db.head()\n",
    "print(revised_case_db.shape)"
   ]
  },
  {
   "cell_type": "code",
   "execution_count": null,
   "id": "061e2554-4773-4b4b-bfb1-742aa3838ac4",
   "metadata": {},
   "outputs": [],
   "source": [
    "# create a new column for case_id_stripped with '0' for joining to cases from database\n",
    "\n",
    "df_revised_case_d2d['case_id_stripped']=  df_revised_case_d2d['case_id'].apply(lambda x: x.lstrip('0')) \n",
    "df_revised_case_d2d.head()\n",
    "print(df_revised_case_d2d.shape)"
   ]
  },
  {
   "cell_type": "code",
   "execution_count": null,
   "id": "9099ca23-dd60-46a7-b08e-2e5491b03f25",
   "metadata": {},
   "outputs": [],
   "source": [
    "# delete duplicated cases in the revised cases\n",
    "\n",
    "df_revised_case_d2d['case_id_stripped'].apply(tuple) # make sure the drop_duplicates works\n",
    "\n",
    "df_revised_case_d2d.drop_duplicates(subset=['case_id_stripped'], keep='last', inplace=True)\n",
    "assert len(revised_case_id_stripped) == df_revised_case_d2d.shape[0] # make sure all cases are deleted\n"
   ]
  },
  {
   "cell_type": "markdown",
   "id": "9c1b3b1b-f89e-47d3-8c42-f3af8abffb0a",
   "metadata": {},
   "source": [
    "# Forming the normalized dataframe: Merge the selected revised case data with the matched from bfs data\n",
    "  If there are multiple cases were found based on case_id, patient_id will be used to match once more  "
   ]
  },
  {
   "cell_type": "code",
   "execution_count": null,
   "id": "2bc9512c-8615-4f3d-b833-f8e7367be33a",
   "metadata": {},
   "outputs": [],
   "source": [
    "# Check if there are multiple cases were found based on case_id, patient_id will be used to match once more\n",
    "if revised_case_db.shape[0] <= len(revised_case_id):\n",
    "    revised_case_d2d_subset = df_revised_case_d2d[COL_SUBSET_FROM_REVISED_CASES + ['case_id_stripped', 'gender', 'age_years', 'duration_of_stay', 'pccl', 'drg']]\n",
    "    revised_case_normalized = revised_case_db.merge(revised_case_d2d_subset, how ='left', on=['case_id_stripped', 'gender', 'age_years', 'duration_of_stay', 'pccl', 'drg'])\n",
    "    num_match_case_id = revised_case_normalized.shape[0]\n",
    "else:\n",
    "    revised_case_d2d_subset = df_revised_case_d2d[COL_SUBSET_FROM_REVISED_CASES + ['case_id_stripped', 'patient_id', 'gender', 'age_years', 'duration_of_stay', 'pccl', 'drg']]\n",
    "    revised_case_normalized = revised_case_db.merge(revised_case_d2d_subset, how ='left', on=['case_id_stripped', 'gender', 'age_years', 'duration_of_stay', 'pccl', 'drg'])\n",
    "    num_match_case_patient_id = revised_case_normalized.shape[0]\n",
    "print(revised_case_normalized.shape)\n",
    "revised_case_normalized.head()"
   ]
  },
  {
   "cell_type": "code",
   "execution_count": null,
   "id": "cdcd0e25",
   "metadata": {
    "collapsed": false,
    "jupyter": {
     "outputs_hidden": false
    }
   },
   "outputs": [],
   "source": [
    "# Choose column to export to a csv file\n",
    "df_revised_case_normalized = revised_case_normalized[COLS_TO_OUTPUT]\n",
    "assert len(df_revised_case_normalized.columns) == len(COLS_TO_OUTPUT)\n",
    "df_revised_case_normalized.head()"
   ]
  },
  {
   "cell_type": "markdown",
   "id": "3fe44878",
   "metadata": {
    "tags": []
   },
   "source": [
    "# Export the normalized revised cases with the neccessary columns to a csv file\n"
   ]
  },
  {
   "cell_type": "code",
   "execution_count": null,
   "id": "9b283dda",
   "metadata": {
    "collapsed": false,
    "jupyter": {
     "outputs_hidden": false
    }
   },
   "outputs": [],
   "source": [
    "\n",
    "hospital = file_info.hospital_name_db.replace(' ', '_') # replace spaces with '_' for the file name\n",
    "hospital_year = f'{hospital}_{file_info.year}'\n",
    "\n",
    "output_folder = os.path.join(ROOT_DIR, 'normalized_revision_data/')\n",
    "\n",
    "if not os.path.exists(output_folder):\n",
    "    os.mkdir(output_folder)\n",
    "\n",
    "output_path = os.path.join(ROOT_DIR, 'normalized_revision_data/') + hospital_year + '.csv'\n",
    "\n",
    "df_revised_case_normalized.to_csv(output_path)\n"
   ]
  },
  {
   "cell_type": "markdown",
   "id": "7a0e6287",
   "metadata": {
    "tags": []
   },
   "source": [
    "# Report\n",
    "\n",
    "A small summary of:\n",
    "- how many cases could be matched in the DB, and based on which columns\n",
    "- how many cases were “correctly” revised, in terms of upcoding (still need to do after the `grouper` is available for python)"
   ]
  },
  {
   "cell_type": "code",
   "execution_count": null,
   "id": "39806225",
   "metadata": {
    "collapsed": false,
    "jupyter": {
     "outputs_hidden": false
    }
   },
   "outputs": [],
   "source": [
    "if revised_case_db.shape[0] <= len(revised_case_id):\n",
    "    print(f'Based on the columns \"case_id\", \"gender, \"age_years\", \"duration_of_stay\", \"pccl\", \"drg\", there are {num_match_case_id} out of {len(revised_case_id)} revised cases from DtoD that can be matched with the bfs database data for {file_info.hospital_name_db} {file_info.year}' )\n",
    "else:\n",
    "    print(f'Based on the columns \"case_id\" and \"Patient_id\", \"gender, \"age_years\", \"duration_of_stay\", \"pccl\", \"drg\", there are {num_match_case_patient_id} out of {len(revised_case_id)} revised cases from DtoD that can be matched with the bfs database data for {file_info.hospital_name_db} {file_info.year}' )"
   ]
  },
  {
   "cell_type": "code",
   "execution_count": null,
   "id": "87a14b03",
   "metadata": {
    "collapsed": false,
    "jupyter": {
     "outputs_hidden": false
    }
   },
   "outputs": [],
   "source": [
    "print('All the normalized revised cases are exported to here: {}'.format(output_path))"
   ]
  },
  {
   "cell_type": "code",
   "execution_count": null,
   "id": "20e4b5fb-7d66-4ecf-90d7-f93e28579e13",
   "metadata": {},
   "outputs": [],
   "source": []
  },
  {
   "cell_type": "code",
   "execution_count": null,
   "id": "ebe832a6-ad1e-4e9f-8612-af3c07e76269",
   "metadata": {},
   "outputs": [],
   "source": []
  }
 ],
 "metadata": {
  "kernelspec": {
   "display_name": "Python 3 (ipykernel)",
   "language": "python",
   "name": "python3"
  },
  "language_info": {
   "codemirror_mode": {
    "name": "ipython",
    "version": 3
   },
   "file_extension": ".py",
   "mimetype": "text/x-python",
   "name": "python",
   "nbconvert_exporter": "python",
   "pygments_lexer": "ipython3",
   "version": "3.10.6"
  }
 },
 "nbformat": 4,
 "nbformat_minor": 5
}
