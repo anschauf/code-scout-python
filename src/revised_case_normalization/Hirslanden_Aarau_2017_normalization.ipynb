{
 "cells": [
  {
   "cell_type": "markdown",
   "id": "a4e2885d",
   "metadata": {
    "tags": [],
    "pycharm": {
     "name": "#%% md\n"
    }
   },
   "source": [
    "# Revised case normalization for Hirslanden Aarau 2017\n",
    "\n",
    "- No matches were found in this hospital\n",
    "\n"
   ]
  },
  {
   "cell_type": "code",
   "execution_count": 1,
   "id": "d097a048",
   "metadata": {
    "collapsed": false,
    "jupyter": {
     "outputs_hidden": false
    },
    "pycharm": {
     "name": "#%%\n"
    }
   },
   "outputs": [],
   "source": [
    "import sys\n",
    "\n",
    "from loguru import logger\n",
    "\n",
    "sys.path.insert(0, '/home/jovyan/work')\n",
    "\n",
    "from src.revised_case_normalization.py.global_configs import *\n",
    "from src.revised_case_normalization.py.normalize import normalize\n",
    "from src.service import bfs_cases_db_service as bfs_db\n",
    "from src.service.bfs_cases_db_service import session, get_hospital_year_cases"
   ]
  },
  {
   "cell_type": "code",
   "execution_count": 2,
   "id": "4710c532",
   "metadata": {
    "collapsed": false,
    "jupyter": {
     "outputs_hidden": false
    },
    "pycharm": {
     "name": "#%%\n"
    }
   },
   "outputs": [
    {
     "name": "stdout",
     "output_type": "stream",
     "text": [
      "FileInfo(path='/home/jovyan/work/src/revised_case_normalization/raw_data/HI_Aarau_Birshof_ST. Anna.xlsx', hospital_name_db='Hirslanden Aarau', year='2017', sheets=['Aarau_2017'])\n"
     ]
    }
   ],
   "source": [
    "file_info = FileInfo(\n",
    "        os.path.join(ROOT_DIR, 'raw_data/HI_Aarau_Birshof_ST. Anna.xlsx'),\n",
    "         'Hirslanden Aarau',\n",
    "        '2017',\n",
    "        ['Aarau_2017'])\n",
    "\n",
    "print(file_info)"
   ]
  },
  {
   "cell_type": "code",
   "execution_count": 3,
   "id": "8c8b27df",
   "metadata": {
    "collapsed": false,
    "jupyter": {
     "outputs_hidden": false
    },
    "pycharm": {
     "name": "#%%\n"
    }
   },
   "outputs": [
    {
     "name": "stderr",
     "output_type": "stream",
     "text": [
      "2022-10-19 07:52:51.109 | INFO     | src.revised_case_normalization.py.normalize:normalize:46 - Read 14 cases for Hirslanden Aarau 2017\n",
      "2022-10-19 07:52:51.112 | INFO     | src.revised_case_normalization.py.normalize:normalize:69 - TYPES:\n",
      "case_id              int64\n",
      "patient_id          object\n",
      "gender              string\n",
      "age_years            int64\n",
      "duration_of_stay     int64\n",
      "pccl                 int64\n",
      "drg                 string\n",
      "old_pd              string\n",
      "new_pd              string\n",
      "bfs_code            string\n",
      "added_icds          string\n",
      "removed_icds        string\n",
      "added_chops         string\n",
      "removed_chops       string\n",
      "dtype: object\n",
      "2022-10-19 07:52:51.116 | INFO     | src.utils.dataframe_utils:validate_icd_codes:68 - Validated ICD codes in 'added_icds' and stored them into 'added_icds': All rows contain valid codes\n",
      "2022-10-19 07:52:51.117 | INFO     | src.utils.dataframe_utils:validate_icd_codes:68 - Validated ICD codes in 'removed_icds' and stored them into 'removed_icds': All rows contain valid codes\n",
      "2022-10-19 07:52:51.119 | INFO     | src.utils.dataframe_utils:validate_chop_codes:106 - Validated CHOP codes in 'added_chops' and stored them into 'added_chops': All rows contain valid codes\n",
      "2022-10-19 07:52:51.121 | INFO     | src.utils.dataframe_utils:validate_chop_codes:106 - Validated CHOP codes in 'removed_chops' and stored them into 'removed_chops': All rows contain valid codes\n",
      "2022-10-19 07:52:51.121 | INFO     | src.utils.dataframe_utils:remove_duplicated_chops:32 - Removing duplicated CHOP codes due to different casing ...\n",
      "2022-10-19 07:52:51.125 | INFO     | src.utils.dataframe_utils:validate_pd_revised_sd:158 - Validated redundant PD info in 'added_icds'/'removed_icds': All rows contain valid codes\n",
      "2022-10-19 07:52:51.126 | SUCCESS  | src.revised_case_normalization.py.normalize:normalize:101 - Completed validation\n"
     ]
    }
   ],
   "source": [
    "cols_to_rename = dict(COLUMNS_TO_RENAME)\n",
    "# Replace 'admno' with 'fall nummer'\n",
    "cols_to_rename.pop('admno')\n",
    "cols_to_rename['fall nummer'] = CASE_ID_COL\n",
    "\n",
    "df_revised_case_d2d = normalize(file_info, 0)"
   ]
  },
  {
   "cell_type": "code",
   "execution_count": 4,
   "id": "6c589452",
   "metadata": {
    "collapsed": false,
    "jupyter": {
     "outputs_hidden": false
    },
    "pycharm": {
     "name": "#%%\n"
    }
   },
   "outputs": [
    {
     "data": {
      "text/html": [
       "<div>\n",
       "<style scoped>\n",
       "    .dataframe tbody tr th:only-of-type {\n",
       "        vertical-align: middle;\n",
       "    }\n",
       "\n",
       "    .dataframe tbody tr th {\n",
       "        vertical-align: top;\n",
       "    }\n",
       "\n",
       "    .dataframe thead th {\n",
       "        text-align: right;\n",
       "    }\n",
       "</style>\n",
       "<table border=\"1\" class=\"dataframe\">\n",
       "  <thead>\n",
       "    <tr style=\"text-align: right;\">\n",
       "      <th></th>\n",
       "      <th>case_id</th>\n",
       "      <th>patient_id</th>\n",
       "      <th>gender</th>\n",
       "      <th>age_years</th>\n",
       "      <th>duration_of_stay</th>\n",
       "      <th>pccl</th>\n",
       "      <th>drg</th>\n",
       "      <th>old_pd</th>\n",
       "      <th>new_pd</th>\n",
       "      <th>bfs_code</th>\n",
       "      <th>added_icds</th>\n",
       "      <th>removed_icds</th>\n",
       "      <th>added_chops</th>\n",
       "      <th>removed_chops</th>\n",
       "    </tr>\n",
       "  </thead>\n",
       "  <tbody>\n",
       "    <tr>\n",
       "      <th>0</th>\n",
       "      <td>41206174</td>\n",
       "      <td>1176423</td>\n",
       "      <td>W</td>\n",
       "      <td>72</td>\n",
       "      <td>5</td>\n",
       "      <td>3</td>\n",
       "      <td>I21C</td>\n",
       "      <td>T840</td>\n",
       "      <td>T840</td>\n",
       "      <td>M200</td>\n",
       "      <td>[E1140]</td>\n",
       "      <td>[]</td>\n",
       "      <td>[80051D, 815255]</td>\n",
       "      <td>[009031::20170106]</td>\n",
       "    </tr>\n",
       "    <tr>\n",
       "      <th>1</th>\n",
       "      <td>41230776</td>\n",
       "      <td>1659346</td>\n",
       "      <td>W</td>\n",
       "      <td>67</td>\n",
       "      <td>19</td>\n",
       "      <td>3</td>\n",
       "      <td>B72C</td>\n",
       "      <td>G001</td>\n",
       "      <td>G001</td>\n",
       "      <td>M100</td>\n",
       "      <td>[B370]</td>\n",
       "      <td>[]</td>\n",
       "      <td>[]</td>\n",
       "      <td>[]</td>\n",
       "    </tr>\n",
       "    <tr>\n",
       "      <th>2</th>\n",
       "      <td>41281042</td>\n",
       "      <td>1823347</td>\n",
       "      <td>M</td>\n",
       "      <td>67</td>\n",
       "      <td>6</td>\n",
       "      <td>3</td>\n",
       "      <td>F14B</td>\n",
       "      <td>E1150</td>\n",
       "      <td>E1150</td>\n",
       "      <td>M100</td>\n",
       "      <td>[F101]</td>\n",
       "      <td>[]</td>\n",
       "      <td>[]</td>\n",
       "      <td>[]</td>\n",
       "    </tr>\n",
       "    <tr>\n",
       "      <th>3</th>\n",
       "      <td>41386032</td>\n",
       "      <td>1051316</td>\n",
       "      <td>M</td>\n",
       "      <td>74</td>\n",
       "      <td>10</td>\n",
       "      <td>3</td>\n",
       "      <td>I08C</td>\n",
       "      <td>S7211</td>\n",
       "      <td>S7211</td>\n",
       "      <td>M200</td>\n",
       "      <td>[L8914]</td>\n",
       "      <td>[]</td>\n",
       "      <td>[]</td>\n",
       "      <td>[]</td>\n",
       "    </tr>\n",
       "    <tr>\n",
       "      <th>4</th>\n",
       "      <td>41418378</td>\n",
       "      <td>22136564</td>\n",
       "      <td>M</td>\n",
       "      <td>86</td>\n",
       "      <td>8</td>\n",
       "      <td>3</td>\n",
       "      <td>G18B</td>\n",
       "      <td>C182</td>\n",
       "      <td>C182</td>\n",
       "      <td>M200</td>\n",
       "      <td>[E1191]</td>\n",
       "      <td>[E1190]</td>\n",
       "      <td>[]</td>\n",
       "      <td>[]</td>\n",
       "    </tr>\n",
       "    <tr>\n",
       "      <th>5</th>\n",
       "      <td>41247420</td>\n",
       "      <td>1251372</td>\n",
       "      <td>W</td>\n",
       "      <td>63</td>\n",
       "      <td>8</td>\n",
       "      <td>3</td>\n",
       "      <td>I09D</td>\n",
       "      <td>M4216</td>\n",
       "      <td>M4216</td>\n",
       "      <td>M200</td>\n",
       "      <td>[M4196]</td>\n",
       "      <td>[]</td>\n",
       "      <td>[]</td>\n",
       "      <td>[]</td>\n",
       "    </tr>\n",
       "    <tr>\n",
       "      <th>6</th>\n",
       "      <td>41477047</td>\n",
       "      <td>1536048</td>\n",
       "      <td>W</td>\n",
       "      <td>74</td>\n",
       "      <td>6</td>\n",
       "      <td>3</td>\n",
       "      <td>I66B</td>\n",
       "      <td>M315</td>\n",
       "      <td>M315</td>\n",
       "      <td>M100</td>\n",
       "      <td>[K3182]</td>\n",
       "      <td>[K5581]</td>\n",
       "      <td>[]</td>\n",
       "      <td>[]</td>\n",
       "    </tr>\n",
       "    <tr>\n",
       "      <th>7</th>\n",
       "      <td>41280551</td>\n",
       "      <td>0022114393</td>\n",
       "      <td>W</td>\n",
       "      <td>84</td>\n",
       "      <td>7</td>\n",
       "      <td>3</td>\n",
       "      <td>F62C</td>\n",
       "      <td>I5012</td>\n",
       "      <td>I5012</td>\n",
       "      <td>M100</td>\n",
       "      <td>[F023, F338, F051]</td>\n",
       "      <td>[F03, F328]</td>\n",
       "      <td>[]</td>\n",
       "      <td>[]</td>\n",
       "    </tr>\n",
       "    <tr>\n",
       "      <th>8</th>\n",
       "      <td>41457913</td>\n",
       "      <td>0001193700</td>\n",
       "      <td>W</td>\n",
       "      <td>92</td>\n",
       "      <td>5</td>\n",
       "      <td>3</td>\n",
       "      <td>E71B</td>\n",
       "      <td>C341</td>\n",
       "      <td>C341</td>\n",
       "      <td>M100</td>\n",
       "      <td>[R15]</td>\n",
       "      <td>[]</td>\n",
       "      <td>[]</td>\n",
       "      <td>[]</td>\n",
       "    </tr>\n",
       "    <tr>\n",
       "      <th>9</th>\n",
       "      <td>41523346</td>\n",
       "      <td>0002096726</td>\n",
       "      <td>W</td>\n",
       "      <td>77</td>\n",
       "      <td>9</td>\n",
       "      <td>3</td>\n",
       "      <td>L60D</td>\n",
       "      <td>N1783</td>\n",
       "      <td>N1783</td>\n",
       "      <td>M100</td>\n",
       "      <td>[A099]</td>\n",
       "      <td>[]</td>\n",
       "      <td>[]</td>\n",
       "      <td>[]</td>\n",
       "    </tr>\n",
       "    <tr>\n",
       "      <th>10</th>\n",
       "      <td>41282182</td>\n",
       "      <td>0011052170</td>\n",
       "      <td>W</td>\n",
       "      <td>67</td>\n",
       "      <td>7</td>\n",
       "      <td>3</td>\n",
       "      <td>F35C</td>\n",
       "      <td>I313</td>\n",
       "      <td>I313</td>\n",
       "      <td>M200</td>\n",
       "      <td>[J9580]</td>\n",
       "      <td>[]</td>\n",
       "      <td>[]</td>\n",
       "      <td>[]</td>\n",
       "    </tr>\n",
       "    <tr>\n",
       "      <th>11</th>\n",
       "      <td>41360177</td>\n",
       "      <td>0022005957</td>\n",
       "      <td>M</td>\n",
       "      <td>67</td>\n",
       "      <td>7</td>\n",
       "      <td>3</td>\n",
       "      <td>F35C</td>\n",
       "      <td>I313</td>\n",
       "      <td>I313</td>\n",
       "      <td>M200</td>\n",
       "      <td>[J91]</td>\n",
       "      <td>[]</td>\n",
       "      <td>[]</td>\n",
       "      <td>[]</td>\n",
       "    </tr>\n",
       "    <tr>\n",
       "      <th>12</th>\n",
       "      <td>41588330</td>\n",
       "      <td>0022148117</td>\n",
       "      <td>W</td>\n",
       "      <td>70</td>\n",
       "      <td>14</td>\n",
       "      <td>3</td>\n",
       "      <td>L10B</td>\n",
       "      <td>C670</td>\n",
       "      <td>C670</td>\n",
       "      <td>M200</td>\n",
       "      <td>[A099]</td>\n",
       "      <td>[]</td>\n",
       "      <td>[]</td>\n",
       "      <td>[]</td>\n",
       "    </tr>\n",
       "    <tr>\n",
       "      <th>13</th>\n",
       "      <td>41440505</td>\n",
       "      <td>001910023</td>\n",
       "      <td>M</td>\n",
       "      <td>72</td>\n",
       "      <td>9</td>\n",
       "      <td>3</td>\n",
       "      <td>F52B</td>\n",
       "      <td>I210</td>\n",
       "      <td>I210</td>\n",
       "      <td>M100</td>\n",
       "      <td>[I513]</td>\n",
       "      <td>[]</td>\n",
       "      <td>[]</td>\n",
       "      <td>[]</td>\n",
       "    </tr>\n",
       "  </tbody>\n",
       "</table>\n",
       "</div>"
      ],
      "text/plain": [
       "     case_id  patient_id gender  age_years  duration_of_stay  pccl   drg  \\\n",
       "0   41206174     1176423      W         72                 5     3  I21C   \n",
       "1   41230776     1659346      W         67                19     3  B72C   \n",
       "2   41281042     1823347      M         67                 6     3  F14B   \n",
       "3   41386032     1051316      M         74                10     3  I08C   \n",
       "4   41418378    22136564      M         86                 8     3  G18B   \n",
       "5   41247420     1251372      W         63                 8     3  I09D   \n",
       "6   41477047     1536048      W         74                 6     3  I66B   \n",
       "7   41280551  0022114393      W         84                 7     3  F62C   \n",
       "8   41457913  0001193700      W         92                 5     3  E71B   \n",
       "9   41523346  0002096726      W         77                 9     3  L60D   \n",
       "10  41282182  0011052170      W         67                 7     3  F35C   \n",
       "11  41360177  0022005957      M         67                 7     3  F35C   \n",
       "12  41588330  0022148117      W         70                14     3  L10B   \n",
       "13  41440505   001910023      M         72                 9     3  F52B   \n",
       "\n",
       "   old_pd new_pd bfs_code          added_icds removed_icds       added_chops  \\\n",
       "0    T840   T840     M200             [E1140]           []  [80051D, 815255]   \n",
       "1    G001   G001     M100              [B370]           []                []   \n",
       "2   E1150  E1150     M100              [F101]           []                []   \n",
       "3   S7211  S7211     M200             [L8914]           []                []   \n",
       "4    C182   C182     M200             [E1191]      [E1190]                []   \n",
       "5   M4216  M4216     M200             [M4196]           []                []   \n",
       "6    M315   M315     M100             [K3182]      [K5581]                []   \n",
       "7   I5012  I5012     M100  [F023, F338, F051]  [F03, F328]                []   \n",
       "8    C341   C341     M100               [R15]           []                []   \n",
       "9   N1783  N1783     M100              [A099]           []                []   \n",
       "10   I313   I313     M200             [J9580]           []                []   \n",
       "11   I313   I313     M200               [J91]           []                []   \n",
       "12   C670   C670     M200              [A099]           []                []   \n",
       "13   I210   I210     M100              [I513]           []                []   \n",
       "\n",
       "         removed_chops  \n",
       "0   [009031::20170106]  \n",
       "1                   []  \n",
       "2                   []  \n",
       "3                   []  \n",
       "4                   []  \n",
       "5                   []  \n",
       "6                   []  \n",
       "7                   []  \n",
       "8                   []  \n",
       "9                   []  \n",
       "10                  []  \n",
       "11                  []  \n",
       "12                  []  \n",
       "13                  []  "
      ]
     },
     "execution_count": 4,
     "metadata": {},
     "output_type": "execute_result"
    }
   ],
   "source": [
    "df_revised_case_d2d"
   ]
  },
  {
   "cell_type": "markdown",
   "id": "a6796573",
   "metadata": {
    "tags": [],
    "pycharm": {
     "name": "#%% md\n"
    }
   },
   "source": [
    "# Match revised DtoD data with the BfS data from the database"
   ]
  },
  {
   "cell_type": "code",
   "execution_count": 5,
   "id": "38c67f27",
   "metadata": {
    "collapsed": false,
    "jupyter": {
     "outputs_hidden": false
    },
    "pycharm": {
     "name": "#%%\n"
    }
   },
   "outputs": [
    {
     "ename": "OperationalError",
     "evalue": "(psycopg2.OperationalError) could not connect to server: Connection refused\n\tIs the server running on host \"aimedic-bfs-db.ckwggxrzoh8y.eu-central-1.rds.amazonaws.com\" (172.32.2.239) and accepting\n\tTCP/IP connections on port 5432?\n\n(Background on this error at: https://sqlalche.me/e/14/e3q8)",
     "output_type": "error",
     "traceback": [
      "\u001B[0;31m---------------------------------------------------------------------------\u001B[0m",
      "\u001B[0;31mOperationalError\u001B[0m                          Traceback (most recent call last)",
      "File \u001B[0;32m/opt/conda/lib/python3.10/site-packages/sqlalchemy/engine/base.py:3361\u001B[0m, in \u001B[0;36mEngine._wrap_pool_connect\u001B[0;34m(self, fn, connection)\u001B[0m\n\u001B[1;32m   3360\u001B[0m \u001B[38;5;28;01mtry\u001B[39;00m:\n\u001B[0;32m-> 3361\u001B[0m     \u001B[38;5;28;01mreturn\u001B[39;00m \u001B[43mfn\u001B[49m\u001B[43m(\u001B[49m\u001B[43m)\u001B[49m\n\u001B[1;32m   3362\u001B[0m \u001B[38;5;28;01mexcept\u001B[39;00m dialect\u001B[38;5;241m.\u001B[39mdbapi\u001B[38;5;241m.\u001B[39mError \u001B[38;5;28;01mas\u001B[39;00m e:\n",
      "File \u001B[0;32m/opt/conda/lib/python3.10/site-packages/sqlalchemy/pool/base.py:320\u001B[0m, in \u001B[0;36mPool.connect\u001B[0;34m(self)\u001B[0m\n\u001B[1;32m    313\u001B[0m \u001B[38;5;124;03m\"\"\"Return a DBAPI connection from the pool.\u001B[39;00m\n\u001B[1;32m    314\u001B[0m \n\u001B[1;32m    315\u001B[0m \u001B[38;5;124;03mThe connection is instrumented such that when its\u001B[39;00m\n\u001B[0;32m   (...)\u001B[0m\n\u001B[1;32m    318\u001B[0m \n\u001B[1;32m    319\u001B[0m \u001B[38;5;124;03m\"\"\"\u001B[39;00m\n\u001B[0;32m--> 320\u001B[0m \u001B[38;5;28;01mreturn\u001B[39;00m \u001B[43m_ConnectionFairy\u001B[49m\u001B[38;5;241;43m.\u001B[39;49m\u001B[43m_checkout\u001B[49m\u001B[43m(\u001B[49m\u001B[38;5;28;43mself\u001B[39;49m\u001B[43m)\u001B[49m\n",
      "File \u001B[0;32m/opt/conda/lib/python3.10/site-packages/sqlalchemy/pool/base.py:884\u001B[0m, in \u001B[0;36m_ConnectionFairy._checkout\u001B[0;34m(cls, pool, threadconns, fairy)\u001B[0m\n\u001B[1;32m    883\u001B[0m \u001B[38;5;28;01mif\u001B[39;00m \u001B[38;5;129;01mnot\u001B[39;00m fairy:\n\u001B[0;32m--> 884\u001B[0m     fairy \u001B[38;5;241m=\u001B[39m \u001B[43m_ConnectionRecord\u001B[49m\u001B[38;5;241;43m.\u001B[39;49m\u001B[43mcheckout\u001B[49m\u001B[43m(\u001B[49m\u001B[43mpool\u001B[49m\u001B[43m)\u001B[49m\n\u001B[1;32m    886\u001B[0m     fairy\u001B[38;5;241m.\u001B[39m_pool \u001B[38;5;241m=\u001B[39m pool\n",
      "File \u001B[0;32m/opt/conda/lib/python3.10/site-packages/sqlalchemy/pool/base.py:486\u001B[0m, in \u001B[0;36m_ConnectionRecord.checkout\u001B[0;34m(cls, pool)\u001B[0m\n\u001B[1;32m    484\u001B[0m \u001B[38;5;129m@classmethod\u001B[39m\n\u001B[1;32m    485\u001B[0m \u001B[38;5;28;01mdef\u001B[39;00m \u001B[38;5;21mcheckout\u001B[39m(\u001B[38;5;28mcls\u001B[39m, pool):\n\u001B[0;32m--> 486\u001B[0m     rec \u001B[38;5;241m=\u001B[39m \u001B[43mpool\u001B[49m\u001B[38;5;241;43m.\u001B[39;49m\u001B[43m_do_get\u001B[49m\u001B[43m(\u001B[49m\u001B[43m)\u001B[49m\n\u001B[1;32m    487\u001B[0m     \u001B[38;5;28;01mtry\u001B[39;00m:\n",
      "File \u001B[0;32m/opt/conda/lib/python3.10/site-packages/sqlalchemy/pool/impl.py:145\u001B[0m, in \u001B[0;36mQueuePool._do_get\u001B[0;34m(self)\u001B[0m\n\u001B[1;32m    144\u001B[0m \u001B[38;5;28;01mexcept\u001B[39;00m:\n\u001B[0;32m--> 145\u001B[0m     \u001B[38;5;28;01mwith\u001B[39;00m util\u001B[38;5;241m.\u001B[39msafe_reraise():\n\u001B[1;32m    146\u001B[0m         \u001B[38;5;28mself\u001B[39m\u001B[38;5;241m.\u001B[39m_dec_overflow()\n",
      "File \u001B[0;32m/opt/conda/lib/python3.10/site-packages/sqlalchemy/util/langhelpers.py:70\u001B[0m, in \u001B[0;36msafe_reraise.__exit__\u001B[0;34m(self, type_, value, traceback)\u001B[0m\n\u001B[1;32m     69\u001B[0m     \u001B[38;5;28;01mif\u001B[39;00m \u001B[38;5;129;01mnot\u001B[39;00m \u001B[38;5;28mself\u001B[39m\u001B[38;5;241m.\u001B[39mwarn_only:\n\u001B[0;32m---> 70\u001B[0m         \u001B[43mcompat\u001B[49m\u001B[38;5;241;43m.\u001B[39;49m\u001B[43mraise_\u001B[49m\u001B[43m(\u001B[49m\n\u001B[1;32m     71\u001B[0m \u001B[43m            \u001B[49m\u001B[43mexc_value\u001B[49m\u001B[43m,\u001B[49m\n\u001B[1;32m     72\u001B[0m \u001B[43m            \u001B[49m\u001B[43mwith_traceback\u001B[49m\u001B[38;5;241;43m=\u001B[39;49m\u001B[43mexc_tb\u001B[49m\u001B[43m,\u001B[49m\n\u001B[1;32m     73\u001B[0m \u001B[43m        \u001B[49m\u001B[43m)\u001B[49m\n\u001B[1;32m     74\u001B[0m \u001B[38;5;28;01melse\u001B[39;00m:\n",
      "File \u001B[0;32m/opt/conda/lib/python3.10/site-packages/sqlalchemy/util/compat.py:208\u001B[0m, in \u001B[0;36mraise_\u001B[0;34m(***failed resolving arguments***)\u001B[0m\n\u001B[1;32m    207\u001B[0m \u001B[38;5;28;01mtry\u001B[39;00m:\n\u001B[0;32m--> 208\u001B[0m     \u001B[38;5;28;01mraise\u001B[39;00m exception\n\u001B[1;32m    209\u001B[0m \u001B[38;5;28;01mfinally\u001B[39;00m:\n\u001B[1;32m    210\u001B[0m     \u001B[38;5;66;03m# credit to\u001B[39;00m\n\u001B[1;32m    211\u001B[0m     \u001B[38;5;66;03m# https://cosmicpercolator.com/2016/01/13/exception-leaks-in-python-2-and-3/\u001B[39;00m\n\u001B[1;32m    212\u001B[0m     \u001B[38;5;66;03m# as the __traceback__ object creates a cycle\u001B[39;00m\n",
      "File \u001B[0;32m/opt/conda/lib/python3.10/site-packages/sqlalchemy/pool/impl.py:143\u001B[0m, in \u001B[0;36mQueuePool._do_get\u001B[0;34m(self)\u001B[0m\n\u001B[1;32m    142\u001B[0m \u001B[38;5;28;01mtry\u001B[39;00m:\n\u001B[0;32m--> 143\u001B[0m     \u001B[38;5;28;01mreturn\u001B[39;00m \u001B[38;5;28;43mself\u001B[39;49m\u001B[38;5;241;43m.\u001B[39;49m\u001B[43m_create_connection\u001B[49m\u001B[43m(\u001B[49m\u001B[43m)\u001B[49m\n\u001B[1;32m    144\u001B[0m \u001B[38;5;28;01mexcept\u001B[39;00m:\n",
      "File \u001B[0;32m/opt/conda/lib/python3.10/site-packages/sqlalchemy/pool/base.py:266\u001B[0m, in \u001B[0;36mPool._create_connection\u001B[0;34m(self)\u001B[0m\n\u001B[1;32m    264\u001B[0m \u001B[38;5;124;03m\"\"\"Called by subclasses to create a new ConnectionRecord.\"\"\"\u001B[39;00m\n\u001B[0;32m--> 266\u001B[0m \u001B[38;5;28;01mreturn\u001B[39;00m \u001B[43m_ConnectionRecord\u001B[49m\u001B[43m(\u001B[49m\u001B[38;5;28;43mself\u001B[39;49m\u001B[43m)\u001B[49m\n",
      "File \u001B[0;32m/opt/conda/lib/python3.10/site-packages/sqlalchemy/pool/base.py:381\u001B[0m, in \u001B[0;36m_ConnectionRecord.__init__\u001B[0;34m(self, pool, connect)\u001B[0m\n\u001B[1;32m    380\u001B[0m \u001B[38;5;28;01mif\u001B[39;00m connect:\n\u001B[0;32m--> 381\u001B[0m     \u001B[38;5;28;43mself\u001B[39;49m\u001B[38;5;241;43m.\u001B[39;49m\u001B[43m__connect\u001B[49m\u001B[43m(\u001B[49m\u001B[43m)\u001B[49m\n\u001B[1;32m    382\u001B[0m \u001B[38;5;28mself\u001B[39m\u001B[38;5;241m.\u001B[39mfinalize_callback \u001B[38;5;241m=\u001B[39m deque()\n",
      "File \u001B[0;32m/opt/conda/lib/python3.10/site-packages/sqlalchemy/pool/base.py:677\u001B[0m, in \u001B[0;36m_ConnectionRecord.__connect\u001B[0;34m(self)\u001B[0m\n\u001B[1;32m    676\u001B[0m \u001B[38;5;28;01mexcept\u001B[39;00m \u001B[38;5;167;01mException\u001B[39;00m \u001B[38;5;28;01mas\u001B[39;00m e:\n\u001B[0;32m--> 677\u001B[0m     \u001B[38;5;28;01mwith\u001B[39;00m util\u001B[38;5;241m.\u001B[39msafe_reraise():\n\u001B[1;32m    678\u001B[0m         pool\u001B[38;5;241m.\u001B[39mlogger\u001B[38;5;241m.\u001B[39mdebug(\u001B[38;5;124m\"\u001B[39m\u001B[38;5;124mError on connect(): \u001B[39m\u001B[38;5;132;01m%s\u001B[39;00m\u001B[38;5;124m\"\u001B[39m, e)\n",
      "File \u001B[0;32m/opt/conda/lib/python3.10/site-packages/sqlalchemy/util/langhelpers.py:70\u001B[0m, in \u001B[0;36msafe_reraise.__exit__\u001B[0;34m(self, type_, value, traceback)\u001B[0m\n\u001B[1;32m     69\u001B[0m     \u001B[38;5;28;01mif\u001B[39;00m \u001B[38;5;129;01mnot\u001B[39;00m \u001B[38;5;28mself\u001B[39m\u001B[38;5;241m.\u001B[39mwarn_only:\n\u001B[0;32m---> 70\u001B[0m         \u001B[43mcompat\u001B[49m\u001B[38;5;241;43m.\u001B[39;49m\u001B[43mraise_\u001B[49m\u001B[43m(\u001B[49m\n\u001B[1;32m     71\u001B[0m \u001B[43m            \u001B[49m\u001B[43mexc_value\u001B[49m\u001B[43m,\u001B[49m\n\u001B[1;32m     72\u001B[0m \u001B[43m            \u001B[49m\u001B[43mwith_traceback\u001B[49m\u001B[38;5;241;43m=\u001B[39;49m\u001B[43mexc_tb\u001B[49m\u001B[43m,\u001B[49m\n\u001B[1;32m     73\u001B[0m \u001B[43m        \u001B[49m\u001B[43m)\u001B[49m\n\u001B[1;32m     74\u001B[0m \u001B[38;5;28;01melse\u001B[39;00m:\n",
      "File \u001B[0;32m/opt/conda/lib/python3.10/site-packages/sqlalchemy/util/compat.py:208\u001B[0m, in \u001B[0;36mraise_\u001B[0;34m(***failed resolving arguments***)\u001B[0m\n\u001B[1;32m    207\u001B[0m \u001B[38;5;28;01mtry\u001B[39;00m:\n\u001B[0;32m--> 208\u001B[0m     \u001B[38;5;28;01mraise\u001B[39;00m exception\n\u001B[1;32m    209\u001B[0m \u001B[38;5;28;01mfinally\u001B[39;00m:\n\u001B[1;32m    210\u001B[0m     \u001B[38;5;66;03m# credit to\u001B[39;00m\n\u001B[1;32m    211\u001B[0m     \u001B[38;5;66;03m# https://cosmicpercolator.com/2016/01/13/exception-leaks-in-python-2-and-3/\u001B[39;00m\n\u001B[1;32m    212\u001B[0m     \u001B[38;5;66;03m# as the __traceback__ object creates a cycle\u001B[39;00m\n",
      "File \u001B[0;32m/opt/conda/lib/python3.10/site-packages/sqlalchemy/pool/base.py:673\u001B[0m, in \u001B[0;36m_ConnectionRecord.__connect\u001B[0;34m(self)\u001B[0m\n\u001B[1;32m    672\u001B[0m \u001B[38;5;28mself\u001B[39m\u001B[38;5;241m.\u001B[39mstarttime \u001B[38;5;241m=\u001B[39m time\u001B[38;5;241m.\u001B[39mtime()\n\u001B[0;32m--> 673\u001B[0m \u001B[38;5;28mself\u001B[39m\u001B[38;5;241m.\u001B[39mdbapi_connection \u001B[38;5;241m=\u001B[39m connection \u001B[38;5;241m=\u001B[39m \u001B[43mpool\u001B[49m\u001B[38;5;241;43m.\u001B[39;49m\u001B[43m_invoke_creator\u001B[49m\u001B[43m(\u001B[49m\u001B[38;5;28;43mself\u001B[39;49m\u001B[43m)\u001B[49m\n\u001B[1;32m    674\u001B[0m pool\u001B[38;5;241m.\u001B[39mlogger\u001B[38;5;241m.\u001B[39mdebug(\u001B[38;5;124m\"\u001B[39m\u001B[38;5;124mCreated new connection \u001B[39m\u001B[38;5;132;01m%r\u001B[39;00m\u001B[38;5;124m\"\u001B[39m, connection)\n",
      "File \u001B[0;32m/opt/conda/lib/python3.10/site-packages/sqlalchemy/engine/create.py:578\u001B[0m, in \u001B[0;36mcreate_engine.<locals>.connect\u001B[0;34m(connection_record)\u001B[0m\n\u001B[1;32m    577\u001B[0m             \u001B[38;5;28;01mreturn\u001B[39;00m connection\n\u001B[0;32m--> 578\u001B[0m \u001B[38;5;28;01mreturn\u001B[39;00m \u001B[43mdialect\u001B[49m\u001B[38;5;241;43m.\u001B[39;49m\u001B[43mconnect\u001B[49m\u001B[43m(\u001B[49m\u001B[38;5;241;43m*\u001B[39;49m\u001B[43mcargs\u001B[49m\u001B[43m,\u001B[49m\u001B[43m \u001B[49m\u001B[38;5;241;43m*\u001B[39;49m\u001B[38;5;241;43m*\u001B[39;49m\u001B[43mcparams\u001B[49m\u001B[43m)\u001B[49m\n",
      "File \u001B[0;32m/opt/conda/lib/python3.10/site-packages/sqlalchemy/engine/default.py:598\u001B[0m, in \u001B[0;36mDefaultDialect.connect\u001B[0;34m(self, *cargs, **cparams)\u001B[0m\n\u001B[1;32m    596\u001B[0m \u001B[38;5;28;01mdef\u001B[39;00m \u001B[38;5;21mconnect\u001B[39m(\u001B[38;5;28mself\u001B[39m, \u001B[38;5;241m*\u001B[39mcargs, \u001B[38;5;241m*\u001B[39m\u001B[38;5;241m*\u001B[39mcparams):\n\u001B[1;32m    597\u001B[0m     \u001B[38;5;66;03m# inherits the docstring from interfaces.Dialect.connect\u001B[39;00m\n\u001B[0;32m--> 598\u001B[0m     \u001B[38;5;28;01mreturn\u001B[39;00m \u001B[38;5;28;43mself\u001B[39;49m\u001B[38;5;241;43m.\u001B[39;49m\u001B[43mdbapi\u001B[49m\u001B[38;5;241;43m.\u001B[39;49m\u001B[43mconnect\u001B[49m\u001B[43m(\u001B[49m\u001B[38;5;241;43m*\u001B[39;49m\u001B[43mcargs\u001B[49m\u001B[43m,\u001B[49m\u001B[43m \u001B[49m\u001B[38;5;241;43m*\u001B[39;49m\u001B[38;5;241;43m*\u001B[39;49m\u001B[43mcparams\u001B[49m\u001B[43m)\u001B[49m\n",
      "File \u001B[0;32m/opt/conda/lib/python3.10/site-packages/psycopg2/__init__.py:122\u001B[0m, in \u001B[0;36mconnect\u001B[0;34m(dsn, connection_factory, cursor_factory, **kwargs)\u001B[0m\n\u001B[1;32m    121\u001B[0m dsn \u001B[38;5;241m=\u001B[39m _ext\u001B[38;5;241m.\u001B[39mmake_dsn(dsn, \u001B[38;5;241m*\u001B[39m\u001B[38;5;241m*\u001B[39mkwargs)\n\u001B[0;32m--> 122\u001B[0m conn \u001B[38;5;241m=\u001B[39m \u001B[43m_connect\u001B[49m\u001B[43m(\u001B[49m\u001B[43mdsn\u001B[49m\u001B[43m,\u001B[49m\u001B[43m \u001B[49m\u001B[43mconnection_factory\u001B[49m\u001B[38;5;241;43m=\u001B[39;49m\u001B[43mconnection_factory\u001B[49m\u001B[43m,\u001B[49m\u001B[43m \u001B[49m\u001B[38;5;241;43m*\u001B[39;49m\u001B[38;5;241;43m*\u001B[39;49m\u001B[43mkwasync\u001B[49m\u001B[43m)\u001B[49m\n\u001B[1;32m    123\u001B[0m \u001B[38;5;28;01mif\u001B[39;00m cursor_factory \u001B[38;5;129;01mis\u001B[39;00m \u001B[38;5;129;01mnot\u001B[39;00m \u001B[38;5;28;01mNone\u001B[39;00m:\n",
      "\u001B[0;31mOperationalError\u001B[0m: could not connect to server: Connection refused\n\tIs the server running on host \"aimedic-bfs-db.ckwggxrzoh8y.eu-central-1.rds.amazonaws.com\" (172.32.2.239) and accepting\n\tTCP/IP connections on port 5432?\n",
      "\nThe above exception was the direct cause of the following exception:\n",
      "\u001B[0;31mOperationalError\u001B[0m                          Traceback (most recent call last)",
      "Cell \u001B[0;32mIn [5], line 1\u001B[0m\n\u001B[0;32m----> 1\u001B[0m cases_in_db \u001B[38;5;241m=\u001B[39m get_hospital_year_cases(file_info\u001B[38;5;241m.\u001B[39mhospital_name_db, file_info\u001B[38;5;241m.\u001B[39myear)[VALIDATION_COLS]\n\u001B[1;32m      3\u001B[0m num_cases_in_db \u001B[38;5;241m=\u001B[39m cases_in_db\u001B[38;5;241m.\u001B[39mshape[\u001B[38;5;241m0\u001B[39m]\n\u001B[1;32m      4\u001B[0m \u001B[38;5;28;01mif\u001B[39;00m num_cases_in_db \u001B[38;5;241m==\u001B[39m \u001B[38;5;241m0\u001B[39m:\n",
      "File \u001B[0;32m~/work/src/service/bfs_cases_db_service.py:142\u001B[0m, in \u001B[0;36mget_hospital_year_cases\u001B[0;34m(hospital_name, year)\u001B[0m\n\u001B[1;32m    123\u001B[0m subquery_bfs_icds \u001B[38;5;241m=\u001B[39m session\u001B[38;5;241m.\u001B[39mquery(subquery_cases_from_hospital_year,\n\u001B[1;32m    124\u001B[0m                                   subquery_icds\u001B[38;5;241m.\u001B[39mc\u001B[38;5;241m.\u001B[39micds,\n\u001B[1;32m    125\u001B[0m                                   subquery_icds\u001B[38;5;241m.\u001B[39mc\u001B[38;5;241m.\u001B[39micds_ccl,\n\u001B[0;32m   (...)\u001B[0m\n\u001B[1;32m    130\u001B[0m                                          isouter\u001B[38;5;241m=\u001B[39m\u001B[38;5;28;01mTrue\u001B[39;00m\n\u001B[1;32m    131\u001B[0m                                          )\u001B[38;5;241m.\u001B[39msubquery()\n\u001B[1;32m    133\u001B[0m query \u001B[38;5;241m=\u001B[39m session\u001B[38;5;241m.\u001B[39mquery(subquery_bfs_icds,\n\u001B[1;32m    134\u001B[0m                       subquery_chops\u001B[38;5;241m.\u001B[39mc\u001B[38;5;241m.\u001B[39mchops,\n\u001B[1;32m    135\u001B[0m                       subquery_chops\u001B[38;5;241m.\u001B[39mc\u001B[38;5;241m.\u001B[39mchops_side,\n\u001B[0;32m   (...)\u001B[0m\n\u001B[1;32m    139\u001B[0m                       )\u001B[38;5;241m.\u001B[39mjoin(subquery_chops,\n\u001B[1;32m    140\u001B[0m                              subquery_bfs_icds\u001B[38;5;241m.\u001B[39mc\u001B[38;5;241m.\u001B[39maimedic_id \u001B[38;5;241m==\u001B[39m subquery_chops\u001B[38;5;241m.\u001B[39mc\u001B[38;5;241m.\u001B[39maimedic_id, isouter\u001B[38;5;241m=\u001B[39m\u001B[38;5;28;01mTrue\u001B[39;00m)\n\u001B[0;32m--> 142\u001B[0m \u001B[38;5;28;01mreturn\u001B[39;00m \u001B[43mpd\u001B[49m\u001B[38;5;241;43m.\u001B[39;49m\u001B[43mread_sql\u001B[49m\u001B[43m(\u001B[49m\u001B[43mquery\u001B[49m\u001B[38;5;241;43m.\u001B[39;49m\u001B[43mstatement\u001B[49m\u001B[43m,\u001B[49m\u001B[43m \u001B[49m\u001B[43msession\u001B[49m\u001B[38;5;241;43m.\u001B[39;49m\u001B[43mbind\u001B[49m\u001B[43m)\u001B[49m\n",
      "File \u001B[0;32m/opt/conda/lib/python3.10/site-packages/pandas/io/sql.py:591\u001B[0m, in \u001B[0;36mread_sql\u001B[0;34m(sql, con, index_col, coerce_float, params, parse_dates, columns, chunksize)\u001B[0m\n\u001B[1;32m    582\u001B[0m     \u001B[38;5;28;01mreturn\u001B[39;00m pandas_sql\u001B[38;5;241m.\u001B[39mread_table(\n\u001B[1;32m    583\u001B[0m         sql,\n\u001B[1;32m    584\u001B[0m         index_col\u001B[38;5;241m=\u001B[39mindex_col,\n\u001B[0;32m   (...)\u001B[0m\n\u001B[1;32m    588\u001B[0m         chunksize\u001B[38;5;241m=\u001B[39mchunksize,\n\u001B[1;32m    589\u001B[0m     )\n\u001B[1;32m    590\u001B[0m \u001B[38;5;28;01melse\u001B[39;00m:\n\u001B[0;32m--> 591\u001B[0m     \u001B[38;5;28;01mreturn\u001B[39;00m \u001B[43mpandas_sql\u001B[49m\u001B[38;5;241;43m.\u001B[39;49m\u001B[43mread_query\u001B[49m\u001B[43m(\u001B[49m\n\u001B[1;32m    592\u001B[0m \u001B[43m        \u001B[49m\u001B[43msql\u001B[49m\u001B[43m,\u001B[49m\n\u001B[1;32m    593\u001B[0m \u001B[43m        \u001B[49m\u001B[43mindex_col\u001B[49m\u001B[38;5;241;43m=\u001B[39;49m\u001B[43mindex_col\u001B[49m\u001B[43m,\u001B[49m\n\u001B[1;32m    594\u001B[0m \u001B[43m        \u001B[49m\u001B[43mparams\u001B[49m\u001B[38;5;241;43m=\u001B[39;49m\u001B[43mparams\u001B[49m\u001B[43m,\u001B[49m\n\u001B[1;32m    595\u001B[0m \u001B[43m        \u001B[49m\u001B[43mcoerce_float\u001B[49m\u001B[38;5;241;43m=\u001B[39;49m\u001B[43mcoerce_float\u001B[49m\u001B[43m,\u001B[49m\n\u001B[1;32m    596\u001B[0m \u001B[43m        \u001B[49m\u001B[43mparse_dates\u001B[49m\u001B[38;5;241;43m=\u001B[39;49m\u001B[43mparse_dates\u001B[49m\u001B[43m,\u001B[49m\n\u001B[1;32m    597\u001B[0m \u001B[43m        \u001B[49m\u001B[43mchunksize\u001B[49m\u001B[38;5;241;43m=\u001B[39;49m\u001B[43mchunksize\u001B[49m\u001B[43m,\u001B[49m\n\u001B[1;32m    598\u001B[0m \u001B[43m    \u001B[49m\u001B[43m)\u001B[49m\n",
      "File \u001B[0;32m/opt/conda/lib/python3.10/site-packages/pandas/io/sql.py:1561\u001B[0m, in \u001B[0;36mSQLDatabase.read_query\u001B[0;34m(self, sql, index_col, coerce_float, parse_dates, params, chunksize, dtype)\u001B[0m\n\u001B[1;32m   1513\u001B[0m \u001B[38;5;124;03m\"\"\"\u001B[39;00m\n\u001B[1;32m   1514\u001B[0m \u001B[38;5;124;03mRead SQL query into a DataFrame.\u001B[39;00m\n\u001B[1;32m   1515\u001B[0m \n\u001B[0;32m   (...)\u001B[0m\n\u001B[1;32m   1557\u001B[0m \n\u001B[1;32m   1558\u001B[0m \u001B[38;5;124;03m\"\"\"\u001B[39;00m\n\u001B[1;32m   1559\u001B[0m args \u001B[38;5;241m=\u001B[39m _convert_params(sql, params)\n\u001B[0;32m-> 1561\u001B[0m result \u001B[38;5;241m=\u001B[39m \u001B[38;5;28;43mself\u001B[39;49m\u001B[38;5;241;43m.\u001B[39;49m\u001B[43mexecute\u001B[49m\u001B[43m(\u001B[49m\u001B[38;5;241;43m*\u001B[39;49m\u001B[43margs\u001B[49m\u001B[43m)\u001B[49m\n\u001B[1;32m   1562\u001B[0m columns \u001B[38;5;241m=\u001B[39m result\u001B[38;5;241m.\u001B[39mkeys()\n\u001B[1;32m   1564\u001B[0m \u001B[38;5;28;01mif\u001B[39;00m chunksize \u001B[38;5;129;01mis\u001B[39;00m \u001B[38;5;129;01mnot\u001B[39;00m \u001B[38;5;28;01mNone\u001B[39;00m:\n",
      "File \u001B[0;32m/opt/conda/lib/python3.10/site-packages/pandas/io/sql.py:1406\u001B[0m, in \u001B[0;36mSQLDatabase.execute\u001B[0;34m(self, *args, **kwargs)\u001B[0m\n\u001B[1;32m   1404\u001B[0m \u001B[38;5;28;01mdef\u001B[39;00m \u001B[38;5;21mexecute\u001B[39m(\u001B[38;5;28mself\u001B[39m, \u001B[38;5;241m*\u001B[39margs, \u001B[38;5;241m*\u001B[39m\u001B[38;5;241m*\u001B[39mkwargs):\n\u001B[1;32m   1405\u001B[0m     \u001B[38;5;124;03m\"\"\"Simple passthrough to SQLAlchemy connectable\"\"\"\u001B[39;00m\n\u001B[0;32m-> 1406\u001B[0m     \u001B[38;5;28;01mreturn\u001B[39;00m \u001B[38;5;28;43mself\u001B[39;49m\u001B[38;5;241;43m.\u001B[39;49m\u001B[43mconnectable\u001B[49m\u001B[38;5;241;43m.\u001B[39;49m\u001B[43mexecution_options\u001B[49m\u001B[43m(\u001B[49m\u001B[43m)\u001B[49m\u001B[38;5;241;43m.\u001B[39;49m\u001B[43mexecute\u001B[49m\u001B[43m(\u001B[49m\u001B[38;5;241;43m*\u001B[39;49m\u001B[43margs\u001B[49m\u001B[43m,\u001B[49m\u001B[43m \u001B[49m\u001B[38;5;241;43m*\u001B[39;49m\u001B[38;5;241;43m*\u001B[39;49m\u001B[43mkwargs\u001B[49m\u001B[43m)\u001B[49m\n",
      "File \u001B[0;32m<string>:2\u001B[0m, in \u001B[0;36mexecute\u001B[0;34m(self, statement, *multiparams, **params)\u001B[0m\n",
      "File \u001B[0;32m/opt/conda/lib/python3.10/site-packages/sqlalchemy/util/deprecations.py:402\u001B[0m, in \u001B[0;36m_decorate_with_warning.<locals>.warned\u001B[0;34m(fn, *args, **kwargs)\u001B[0m\n\u001B[1;32m    400\u001B[0m \u001B[38;5;28;01mif\u001B[39;00m \u001B[38;5;129;01mnot\u001B[39;00m skip_warning:\n\u001B[1;32m    401\u001B[0m     _warn_with_version(message, version, wtype, stacklevel\u001B[38;5;241m=\u001B[39m\u001B[38;5;241m3\u001B[39m)\n\u001B[0;32m--> 402\u001B[0m \u001B[38;5;28;01mreturn\u001B[39;00m \u001B[43mfn\u001B[49m\u001B[43m(\u001B[49m\u001B[38;5;241;43m*\u001B[39;49m\u001B[43margs\u001B[49m\u001B[43m,\u001B[49m\u001B[43m \u001B[49m\u001B[38;5;241;43m*\u001B[39;49m\u001B[38;5;241;43m*\u001B[39;49m\u001B[43mkwargs\u001B[49m\u001B[43m)\u001B[49m\n",
      "File \u001B[0;32m/opt/conda/lib/python3.10/site-packages/sqlalchemy/engine/base.py:3256\u001B[0m, in \u001B[0;36mEngine.execute\u001B[0;34m(self, statement, *multiparams, **params)\u001B[0m\n\u001B[1;32m   3230\u001B[0m \u001B[38;5;129m@util\u001B[39m\u001B[38;5;241m.\u001B[39mdeprecated_20(\n\u001B[1;32m   3231\u001B[0m     \u001B[38;5;124m\"\u001B[39m\u001B[38;5;124m:meth:`_engine.Engine.execute`\u001B[39m\u001B[38;5;124m\"\u001B[39m,\n\u001B[1;32m   3232\u001B[0m     alternative\u001B[38;5;241m=\u001B[39m\u001B[38;5;124m\"\u001B[39m\u001B[38;5;124mAll statement execution in SQLAlchemy 2.0 is performed \u001B[39m\u001B[38;5;124m\"\u001B[39m\n\u001B[0;32m   (...)\u001B[0m\n\u001B[1;32m   3237\u001B[0m )\n\u001B[1;32m   3238\u001B[0m \u001B[38;5;28;01mdef\u001B[39;00m \u001B[38;5;21mexecute\u001B[39m(\u001B[38;5;28mself\u001B[39m, statement, \u001B[38;5;241m*\u001B[39mmultiparams, \u001B[38;5;241m*\u001B[39m\u001B[38;5;241m*\u001B[39mparams):\n\u001B[1;32m   3239\u001B[0m     \u001B[38;5;124;03m\"\"\"Executes the given construct and returns a\u001B[39;00m\n\u001B[1;32m   3240\u001B[0m \u001B[38;5;124;03m    :class:`_engine.CursorResult`.\u001B[39;00m\n\u001B[1;32m   3241\u001B[0m \n\u001B[0;32m   (...)\u001B[0m\n\u001B[1;32m   3254\u001B[0m \n\u001B[1;32m   3255\u001B[0m \u001B[38;5;124;03m    \"\"\"\u001B[39;00m\n\u001B[0;32m-> 3256\u001B[0m     connection \u001B[38;5;241m=\u001B[39m \u001B[38;5;28;43mself\u001B[39;49m\u001B[38;5;241;43m.\u001B[39;49m\u001B[43mconnect\u001B[49m\u001B[43m(\u001B[49m\u001B[43mclose_with_result\u001B[49m\u001B[38;5;241;43m=\u001B[39;49m\u001B[38;5;28;43;01mTrue\u001B[39;49;00m\u001B[43m)\u001B[49m\n\u001B[1;32m   3257\u001B[0m     \u001B[38;5;28;01mreturn\u001B[39;00m connection\u001B[38;5;241m.\u001B[39mexecute(statement, \u001B[38;5;241m*\u001B[39mmultiparams, \u001B[38;5;241m*\u001B[39m\u001B[38;5;241m*\u001B[39mparams)\n",
      "File \u001B[0;32m/opt/conda/lib/python3.10/site-packages/sqlalchemy/engine/base.py:3315\u001B[0m, in \u001B[0;36mEngine.connect\u001B[0;34m(self, close_with_result)\u001B[0m\n\u001B[1;32m   3300\u001B[0m \u001B[38;5;28;01mdef\u001B[39;00m \u001B[38;5;21mconnect\u001B[39m(\u001B[38;5;28mself\u001B[39m, close_with_result\u001B[38;5;241m=\u001B[39m\u001B[38;5;28;01mFalse\u001B[39;00m):\n\u001B[1;32m   3301\u001B[0m     \u001B[38;5;124;03m\"\"\"Return a new :class:`_engine.Connection` object.\u001B[39;00m\n\u001B[1;32m   3302\u001B[0m \n\u001B[1;32m   3303\u001B[0m \u001B[38;5;124;03m    The :class:`_engine.Connection` object is a facade that uses a DBAPI\u001B[39;00m\n\u001B[0;32m   (...)\u001B[0m\n\u001B[1;32m   3312\u001B[0m \n\u001B[1;32m   3313\u001B[0m \u001B[38;5;124;03m    \"\"\"\u001B[39;00m\n\u001B[0;32m-> 3315\u001B[0m     \u001B[38;5;28;01mreturn\u001B[39;00m \u001B[38;5;28;43mself\u001B[39;49m\u001B[38;5;241;43m.\u001B[39;49m\u001B[43m_connection_cls\u001B[49m\u001B[43m(\u001B[49m\u001B[38;5;28;43mself\u001B[39;49m\u001B[43m,\u001B[49m\u001B[43m \u001B[49m\u001B[43mclose_with_result\u001B[49m\u001B[38;5;241;43m=\u001B[39;49m\u001B[43mclose_with_result\u001B[49m\u001B[43m)\u001B[49m\n",
      "File \u001B[0;32m/opt/conda/lib/python3.10/site-packages/sqlalchemy/engine/base.py:96\u001B[0m, in \u001B[0;36mConnection.__init__\u001B[0;34m(self, engine, connection, close_with_result, _branch_from, _execution_options, _dispatch, _has_events, _allow_revalidate)\u001B[0m\n\u001B[1;32m     91\u001B[0m     \u001B[38;5;28mself\u001B[39m\u001B[38;5;241m.\u001B[39m_has_events \u001B[38;5;241m=\u001B[39m _branch_from\u001B[38;5;241m.\u001B[39m_has_events\n\u001B[1;32m     92\u001B[0m \u001B[38;5;28;01melse\u001B[39;00m:\n\u001B[1;32m     93\u001B[0m     \u001B[38;5;28mself\u001B[39m\u001B[38;5;241m.\u001B[39m_dbapi_connection \u001B[38;5;241m=\u001B[39m (\n\u001B[1;32m     94\u001B[0m         connection\n\u001B[1;32m     95\u001B[0m         \u001B[38;5;28;01mif\u001B[39;00m connection \u001B[38;5;129;01mis\u001B[39;00m \u001B[38;5;129;01mnot\u001B[39;00m \u001B[38;5;28;01mNone\u001B[39;00m\n\u001B[0;32m---> 96\u001B[0m         \u001B[38;5;28;01melse\u001B[39;00m \u001B[43mengine\u001B[49m\u001B[38;5;241;43m.\u001B[39;49m\u001B[43mraw_connection\u001B[49m\u001B[43m(\u001B[49m\u001B[43m)\u001B[49m\n\u001B[1;32m     97\u001B[0m     )\n\u001B[1;32m     99\u001B[0m     \u001B[38;5;28mself\u001B[39m\u001B[38;5;241m.\u001B[39m_transaction \u001B[38;5;241m=\u001B[39m \u001B[38;5;28mself\u001B[39m\u001B[38;5;241m.\u001B[39m_nested_transaction \u001B[38;5;241m=\u001B[39m \u001B[38;5;28;01mNone\u001B[39;00m\n\u001B[1;32m    100\u001B[0m     \u001B[38;5;28mself\u001B[39m\u001B[38;5;241m.\u001B[39m__savepoint_seq \u001B[38;5;241m=\u001B[39m \u001B[38;5;241m0\u001B[39m\n",
      "File \u001B[0;32m/opt/conda/lib/python3.10/site-packages/sqlalchemy/engine/base.py:3394\u001B[0m, in \u001B[0;36mEngine.raw_connection\u001B[0;34m(self, _connection)\u001B[0m\n\u001B[1;32m   3372\u001B[0m \u001B[38;5;28;01mdef\u001B[39;00m \u001B[38;5;21mraw_connection\u001B[39m(\u001B[38;5;28mself\u001B[39m, _connection\u001B[38;5;241m=\u001B[39m\u001B[38;5;28;01mNone\u001B[39;00m):\n\u001B[1;32m   3373\u001B[0m     \u001B[38;5;124;03m\"\"\"Return a \"raw\" DBAPI connection from the connection pool.\u001B[39;00m\n\u001B[1;32m   3374\u001B[0m \n\u001B[1;32m   3375\u001B[0m \u001B[38;5;124;03m    The returned object is a proxied version of the DBAPI\u001B[39;00m\n\u001B[0;32m   (...)\u001B[0m\n\u001B[1;32m   3392\u001B[0m \n\u001B[1;32m   3393\u001B[0m \u001B[38;5;124;03m    \"\"\"\u001B[39;00m\n\u001B[0;32m-> 3394\u001B[0m     \u001B[38;5;28;01mreturn\u001B[39;00m \u001B[38;5;28;43mself\u001B[39;49m\u001B[38;5;241;43m.\u001B[39;49m\u001B[43m_wrap_pool_connect\u001B[49m\u001B[43m(\u001B[49m\u001B[38;5;28;43mself\u001B[39;49m\u001B[38;5;241;43m.\u001B[39;49m\u001B[43mpool\u001B[49m\u001B[38;5;241;43m.\u001B[39;49m\u001B[43mconnect\u001B[49m\u001B[43m,\u001B[49m\u001B[43m \u001B[49m\u001B[43m_connection\u001B[49m\u001B[43m)\u001B[49m\n",
      "File \u001B[0;32m/opt/conda/lib/python3.10/site-packages/sqlalchemy/engine/base.py:3364\u001B[0m, in \u001B[0;36mEngine._wrap_pool_connect\u001B[0;34m(self, fn, connection)\u001B[0m\n\u001B[1;32m   3362\u001B[0m \u001B[38;5;28;01mexcept\u001B[39;00m dialect\u001B[38;5;241m.\u001B[39mdbapi\u001B[38;5;241m.\u001B[39mError \u001B[38;5;28;01mas\u001B[39;00m e:\n\u001B[1;32m   3363\u001B[0m     \u001B[38;5;28;01mif\u001B[39;00m connection \u001B[38;5;129;01mis\u001B[39;00m \u001B[38;5;28;01mNone\u001B[39;00m:\n\u001B[0;32m-> 3364\u001B[0m         \u001B[43mConnection\u001B[49m\u001B[38;5;241;43m.\u001B[39;49m\u001B[43m_handle_dbapi_exception_noconnection\u001B[49m\u001B[43m(\u001B[49m\n\u001B[1;32m   3365\u001B[0m \u001B[43m            \u001B[49m\u001B[43me\u001B[49m\u001B[43m,\u001B[49m\u001B[43m \u001B[49m\u001B[43mdialect\u001B[49m\u001B[43m,\u001B[49m\u001B[43m \u001B[49m\u001B[38;5;28;43mself\u001B[39;49m\n\u001B[1;32m   3366\u001B[0m \u001B[43m        \u001B[49m\u001B[43m)\u001B[49m\n\u001B[1;32m   3367\u001B[0m     \u001B[38;5;28;01melse\u001B[39;00m:\n\u001B[1;32m   3368\u001B[0m         util\u001B[38;5;241m.\u001B[39mraise_(\n\u001B[1;32m   3369\u001B[0m             sys\u001B[38;5;241m.\u001B[39mexc_info()[\u001B[38;5;241m1\u001B[39m], with_traceback\u001B[38;5;241m=\u001B[39msys\u001B[38;5;241m.\u001B[39mexc_info()[\u001B[38;5;241m2\u001B[39m]\n\u001B[1;32m   3370\u001B[0m         )\n",
      "File \u001B[0;32m/opt/conda/lib/python3.10/site-packages/sqlalchemy/engine/base.py:2198\u001B[0m, in \u001B[0;36mConnection._handle_dbapi_exception_noconnection\u001B[0;34m(cls, e, dialect, engine)\u001B[0m\n\u001B[1;32m   2196\u001B[0m     util\u001B[38;5;241m.\u001B[39mraise_(newraise, with_traceback\u001B[38;5;241m=\u001B[39mexc_info[\u001B[38;5;241m2\u001B[39m], from_\u001B[38;5;241m=\u001B[39me)\n\u001B[1;32m   2197\u001B[0m \u001B[38;5;28;01melif\u001B[39;00m should_wrap:\n\u001B[0;32m-> 2198\u001B[0m     \u001B[43mutil\u001B[49m\u001B[38;5;241;43m.\u001B[39;49m\u001B[43mraise_\u001B[49m\u001B[43m(\u001B[49m\n\u001B[1;32m   2199\u001B[0m \u001B[43m        \u001B[49m\u001B[43msqlalchemy_exception\u001B[49m\u001B[43m,\u001B[49m\u001B[43m \u001B[49m\u001B[43mwith_traceback\u001B[49m\u001B[38;5;241;43m=\u001B[39;49m\u001B[43mexc_info\u001B[49m\u001B[43m[\u001B[49m\u001B[38;5;241;43m2\u001B[39;49m\u001B[43m]\u001B[49m\u001B[43m,\u001B[49m\u001B[43m \u001B[49m\u001B[43mfrom_\u001B[49m\u001B[38;5;241;43m=\u001B[39;49m\u001B[43me\u001B[49m\n\u001B[1;32m   2200\u001B[0m \u001B[43m    \u001B[49m\u001B[43m)\u001B[49m\n\u001B[1;32m   2201\u001B[0m \u001B[38;5;28;01melse\u001B[39;00m:\n\u001B[1;32m   2202\u001B[0m     util\u001B[38;5;241m.\u001B[39mraise_(exc_info[\u001B[38;5;241m1\u001B[39m], with_traceback\u001B[38;5;241m=\u001B[39mexc_info[\u001B[38;5;241m2\u001B[39m])\n",
      "File \u001B[0;32m/opt/conda/lib/python3.10/site-packages/sqlalchemy/util/compat.py:208\u001B[0m, in \u001B[0;36mraise_\u001B[0;34m(***failed resolving arguments***)\u001B[0m\n\u001B[1;32m    205\u001B[0m     exception\u001B[38;5;241m.\u001B[39m__cause__ \u001B[38;5;241m=\u001B[39m replace_context\n\u001B[1;32m    207\u001B[0m \u001B[38;5;28;01mtry\u001B[39;00m:\n\u001B[0;32m--> 208\u001B[0m     \u001B[38;5;28;01mraise\u001B[39;00m exception\n\u001B[1;32m    209\u001B[0m \u001B[38;5;28;01mfinally\u001B[39;00m:\n\u001B[1;32m    210\u001B[0m     \u001B[38;5;66;03m# credit to\u001B[39;00m\n\u001B[1;32m    211\u001B[0m     \u001B[38;5;66;03m# https://cosmicpercolator.com/2016/01/13/exception-leaks-in-python-2-and-3/\u001B[39;00m\n\u001B[1;32m    212\u001B[0m     \u001B[38;5;66;03m# as the __traceback__ object creates a cycle\u001B[39;00m\n\u001B[1;32m    213\u001B[0m     \u001B[38;5;28;01mdel\u001B[39;00m exception, replace_context, from_, with_traceback\n",
      "File \u001B[0;32m/opt/conda/lib/python3.10/site-packages/sqlalchemy/engine/base.py:3361\u001B[0m, in \u001B[0;36mEngine._wrap_pool_connect\u001B[0;34m(self, fn, connection)\u001B[0m\n\u001B[1;32m   3359\u001B[0m dialect \u001B[38;5;241m=\u001B[39m \u001B[38;5;28mself\u001B[39m\u001B[38;5;241m.\u001B[39mdialect\n\u001B[1;32m   3360\u001B[0m \u001B[38;5;28;01mtry\u001B[39;00m:\n\u001B[0;32m-> 3361\u001B[0m     \u001B[38;5;28;01mreturn\u001B[39;00m \u001B[43mfn\u001B[49m\u001B[43m(\u001B[49m\u001B[43m)\u001B[49m\n\u001B[1;32m   3362\u001B[0m \u001B[38;5;28;01mexcept\u001B[39;00m dialect\u001B[38;5;241m.\u001B[39mdbapi\u001B[38;5;241m.\u001B[39mError \u001B[38;5;28;01mas\u001B[39;00m e:\n\u001B[1;32m   3363\u001B[0m     \u001B[38;5;28;01mif\u001B[39;00m connection \u001B[38;5;129;01mis\u001B[39;00m \u001B[38;5;28;01mNone\u001B[39;00m:\n",
      "File \u001B[0;32m/opt/conda/lib/python3.10/site-packages/sqlalchemy/pool/base.py:320\u001B[0m, in \u001B[0;36mPool.connect\u001B[0;34m(self)\u001B[0m\n\u001B[1;32m    312\u001B[0m \u001B[38;5;28;01mdef\u001B[39;00m \u001B[38;5;21mconnect\u001B[39m(\u001B[38;5;28mself\u001B[39m):\n\u001B[1;32m    313\u001B[0m     \u001B[38;5;124;03m\"\"\"Return a DBAPI connection from the pool.\u001B[39;00m\n\u001B[1;32m    314\u001B[0m \n\u001B[1;32m    315\u001B[0m \u001B[38;5;124;03m    The connection is instrumented such that when its\u001B[39;00m\n\u001B[0;32m   (...)\u001B[0m\n\u001B[1;32m    318\u001B[0m \n\u001B[1;32m    319\u001B[0m \u001B[38;5;124;03m    \"\"\"\u001B[39;00m\n\u001B[0;32m--> 320\u001B[0m     \u001B[38;5;28;01mreturn\u001B[39;00m \u001B[43m_ConnectionFairy\u001B[49m\u001B[38;5;241;43m.\u001B[39;49m\u001B[43m_checkout\u001B[49m\u001B[43m(\u001B[49m\u001B[38;5;28;43mself\u001B[39;49m\u001B[43m)\u001B[49m\n",
      "File \u001B[0;32m/opt/conda/lib/python3.10/site-packages/sqlalchemy/pool/base.py:884\u001B[0m, in \u001B[0;36m_ConnectionFairy._checkout\u001B[0;34m(cls, pool, threadconns, fairy)\u001B[0m\n\u001B[1;32m    881\u001B[0m \u001B[38;5;129m@classmethod\u001B[39m\n\u001B[1;32m    882\u001B[0m \u001B[38;5;28;01mdef\u001B[39;00m \u001B[38;5;21m_checkout\u001B[39m(\u001B[38;5;28mcls\u001B[39m, pool, threadconns\u001B[38;5;241m=\u001B[39m\u001B[38;5;28;01mNone\u001B[39;00m, fairy\u001B[38;5;241m=\u001B[39m\u001B[38;5;28;01mNone\u001B[39;00m):\n\u001B[1;32m    883\u001B[0m     \u001B[38;5;28;01mif\u001B[39;00m \u001B[38;5;129;01mnot\u001B[39;00m fairy:\n\u001B[0;32m--> 884\u001B[0m         fairy \u001B[38;5;241m=\u001B[39m \u001B[43m_ConnectionRecord\u001B[49m\u001B[38;5;241;43m.\u001B[39;49m\u001B[43mcheckout\u001B[49m\u001B[43m(\u001B[49m\u001B[43mpool\u001B[49m\u001B[43m)\u001B[49m\n\u001B[1;32m    886\u001B[0m         fairy\u001B[38;5;241m.\u001B[39m_pool \u001B[38;5;241m=\u001B[39m pool\n\u001B[1;32m    887\u001B[0m         fairy\u001B[38;5;241m.\u001B[39m_counter \u001B[38;5;241m=\u001B[39m \u001B[38;5;241m0\u001B[39m\n",
      "File \u001B[0;32m/opt/conda/lib/python3.10/site-packages/sqlalchemy/pool/base.py:486\u001B[0m, in \u001B[0;36m_ConnectionRecord.checkout\u001B[0;34m(cls, pool)\u001B[0m\n\u001B[1;32m    484\u001B[0m \u001B[38;5;129m@classmethod\u001B[39m\n\u001B[1;32m    485\u001B[0m \u001B[38;5;28;01mdef\u001B[39;00m \u001B[38;5;21mcheckout\u001B[39m(\u001B[38;5;28mcls\u001B[39m, pool):\n\u001B[0;32m--> 486\u001B[0m     rec \u001B[38;5;241m=\u001B[39m \u001B[43mpool\u001B[49m\u001B[38;5;241;43m.\u001B[39;49m\u001B[43m_do_get\u001B[49m\u001B[43m(\u001B[49m\u001B[43m)\u001B[49m\n\u001B[1;32m    487\u001B[0m     \u001B[38;5;28;01mtry\u001B[39;00m:\n\u001B[1;32m    488\u001B[0m         dbapi_connection \u001B[38;5;241m=\u001B[39m rec\u001B[38;5;241m.\u001B[39mget_connection()\n",
      "File \u001B[0;32m/opt/conda/lib/python3.10/site-packages/sqlalchemy/pool/impl.py:145\u001B[0m, in \u001B[0;36mQueuePool._do_get\u001B[0;34m(self)\u001B[0m\n\u001B[1;32m    143\u001B[0m         \u001B[38;5;28;01mreturn\u001B[39;00m \u001B[38;5;28mself\u001B[39m\u001B[38;5;241m.\u001B[39m_create_connection()\n\u001B[1;32m    144\u001B[0m     \u001B[38;5;28;01mexcept\u001B[39;00m:\n\u001B[0;32m--> 145\u001B[0m         \u001B[38;5;28;01mwith\u001B[39;00m util\u001B[38;5;241m.\u001B[39msafe_reraise():\n\u001B[1;32m    146\u001B[0m             \u001B[38;5;28mself\u001B[39m\u001B[38;5;241m.\u001B[39m_dec_overflow()\n\u001B[1;32m    147\u001B[0m \u001B[38;5;28;01melse\u001B[39;00m:\n",
      "File \u001B[0;32m/opt/conda/lib/python3.10/site-packages/sqlalchemy/util/langhelpers.py:70\u001B[0m, in \u001B[0;36msafe_reraise.__exit__\u001B[0;34m(self, type_, value, traceback)\u001B[0m\n\u001B[1;32m     68\u001B[0m     \u001B[38;5;28mself\u001B[39m\u001B[38;5;241m.\u001B[39m_exc_info \u001B[38;5;241m=\u001B[39m \u001B[38;5;28;01mNone\u001B[39;00m  \u001B[38;5;66;03m# remove potential circular references\u001B[39;00m\n\u001B[1;32m     69\u001B[0m     \u001B[38;5;28;01mif\u001B[39;00m \u001B[38;5;129;01mnot\u001B[39;00m \u001B[38;5;28mself\u001B[39m\u001B[38;5;241m.\u001B[39mwarn_only:\n\u001B[0;32m---> 70\u001B[0m         \u001B[43mcompat\u001B[49m\u001B[38;5;241;43m.\u001B[39;49m\u001B[43mraise_\u001B[49m\u001B[43m(\u001B[49m\n\u001B[1;32m     71\u001B[0m \u001B[43m            \u001B[49m\u001B[43mexc_value\u001B[49m\u001B[43m,\u001B[49m\n\u001B[1;32m     72\u001B[0m \u001B[43m            \u001B[49m\u001B[43mwith_traceback\u001B[49m\u001B[38;5;241;43m=\u001B[39;49m\u001B[43mexc_tb\u001B[49m\u001B[43m,\u001B[49m\n\u001B[1;32m     73\u001B[0m \u001B[43m        \u001B[49m\u001B[43m)\u001B[49m\n\u001B[1;32m     74\u001B[0m \u001B[38;5;28;01melse\u001B[39;00m:\n\u001B[1;32m     75\u001B[0m     \u001B[38;5;28;01mif\u001B[39;00m \u001B[38;5;129;01mnot\u001B[39;00m compat\u001B[38;5;241m.\u001B[39mpy3k \u001B[38;5;129;01mand\u001B[39;00m \u001B[38;5;28mself\u001B[39m\u001B[38;5;241m.\u001B[39m_exc_info \u001B[38;5;129;01mand\u001B[39;00m \u001B[38;5;28mself\u001B[39m\u001B[38;5;241m.\u001B[39m_exc_info[\u001B[38;5;241m1\u001B[39m]:\n\u001B[1;32m     76\u001B[0m         \u001B[38;5;66;03m# emulate Py3K's behavior of telling us when an exception\u001B[39;00m\n\u001B[1;32m     77\u001B[0m         \u001B[38;5;66;03m# occurs in an exception handler.\u001B[39;00m\n",
      "File \u001B[0;32m/opt/conda/lib/python3.10/site-packages/sqlalchemy/util/compat.py:208\u001B[0m, in \u001B[0;36mraise_\u001B[0;34m(***failed resolving arguments***)\u001B[0m\n\u001B[1;32m    205\u001B[0m     exception\u001B[38;5;241m.\u001B[39m__cause__ \u001B[38;5;241m=\u001B[39m replace_context\n\u001B[1;32m    207\u001B[0m \u001B[38;5;28;01mtry\u001B[39;00m:\n\u001B[0;32m--> 208\u001B[0m     \u001B[38;5;28;01mraise\u001B[39;00m exception\n\u001B[1;32m    209\u001B[0m \u001B[38;5;28;01mfinally\u001B[39;00m:\n\u001B[1;32m    210\u001B[0m     \u001B[38;5;66;03m# credit to\u001B[39;00m\n\u001B[1;32m    211\u001B[0m     \u001B[38;5;66;03m# https://cosmicpercolator.com/2016/01/13/exception-leaks-in-python-2-and-3/\u001B[39;00m\n\u001B[1;32m    212\u001B[0m     \u001B[38;5;66;03m# as the __traceback__ object creates a cycle\u001B[39;00m\n\u001B[1;32m    213\u001B[0m     \u001B[38;5;28;01mdel\u001B[39;00m exception, replace_context, from_, with_traceback\n",
      "File \u001B[0;32m/opt/conda/lib/python3.10/site-packages/sqlalchemy/pool/impl.py:143\u001B[0m, in \u001B[0;36mQueuePool._do_get\u001B[0;34m(self)\u001B[0m\n\u001B[1;32m    141\u001B[0m \u001B[38;5;28;01mif\u001B[39;00m \u001B[38;5;28mself\u001B[39m\u001B[38;5;241m.\u001B[39m_inc_overflow():\n\u001B[1;32m    142\u001B[0m     \u001B[38;5;28;01mtry\u001B[39;00m:\n\u001B[0;32m--> 143\u001B[0m         \u001B[38;5;28;01mreturn\u001B[39;00m \u001B[38;5;28;43mself\u001B[39;49m\u001B[38;5;241;43m.\u001B[39;49m\u001B[43m_create_connection\u001B[49m\u001B[43m(\u001B[49m\u001B[43m)\u001B[49m\n\u001B[1;32m    144\u001B[0m     \u001B[38;5;28;01mexcept\u001B[39;00m:\n\u001B[1;32m    145\u001B[0m         \u001B[38;5;28;01mwith\u001B[39;00m util\u001B[38;5;241m.\u001B[39msafe_reraise():\n",
      "File \u001B[0;32m/opt/conda/lib/python3.10/site-packages/sqlalchemy/pool/base.py:266\u001B[0m, in \u001B[0;36mPool._create_connection\u001B[0;34m(self)\u001B[0m\n\u001B[1;32m    263\u001B[0m \u001B[38;5;28;01mdef\u001B[39;00m \u001B[38;5;21m_create_connection\u001B[39m(\u001B[38;5;28mself\u001B[39m):\n\u001B[1;32m    264\u001B[0m     \u001B[38;5;124;03m\"\"\"Called by subclasses to create a new ConnectionRecord.\"\"\"\u001B[39;00m\n\u001B[0;32m--> 266\u001B[0m     \u001B[38;5;28;01mreturn\u001B[39;00m \u001B[43m_ConnectionRecord\u001B[49m\u001B[43m(\u001B[49m\u001B[38;5;28;43mself\u001B[39;49m\u001B[43m)\u001B[49m\n",
      "File \u001B[0;32m/opt/conda/lib/python3.10/site-packages/sqlalchemy/pool/base.py:381\u001B[0m, in \u001B[0;36m_ConnectionRecord.__init__\u001B[0;34m(self, pool, connect)\u001B[0m\n\u001B[1;32m    379\u001B[0m \u001B[38;5;28mself\u001B[39m\u001B[38;5;241m.\u001B[39m__pool \u001B[38;5;241m=\u001B[39m pool\n\u001B[1;32m    380\u001B[0m \u001B[38;5;28;01mif\u001B[39;00m connect:\n\u001B[0;32m--> 381\u001B[0m     \u001B[38;5;28;43mself\u001B[39;49m\u001B[38;5;241;43m.\u001B[39;49m\u001B[43m__connect\u001B[49m\u001B[43m(\u001B[49m\u001B[43m)\u001B[49m\n\u001B[1;32m    382\u001B[0m \u001B[38;5;28mself\u001B[39m\u001B[38;5;241m.\u001B[39mfinalize_callback \u001B[38;5;241m=\u001B[39m deque()\n",
      "File \u001B[0;32m/opt/conda/lib/python3.10/site-packages/sqlalchemy/pool/base.py:677\u001B[0m, in \u001B[0;36m_ConnectionRecord.__connect\u001B[0;34m(self)\u001B[0m\n\u001B[1;32m    675\u001B[0m     \u001B[38;5;28mself\u001B[39m\u001B[38;5;241m.\u001B[39mfresh \u001B[38;5;241m=\u001B[39m \u001B[38;5;28;01mTrue\u001B[39;00m\n\u001B[1;32m    676\u001B[0m \u001B[38;5;28;01mexcept\u001B[39;00m \u001B[38;5;167;01mException\u001B[39;00m \u001B[38;5;28;01mas\u001B[39;00m e:\n\u001B[0;32m--> 677\u001B[0m     \u001B[38;5;28;01mwith\u001B[39;00m util\u001B[38;5;241m.\u001B[39msafe_reraise():\n\u001B[1;32m    678\u001B[0m         pool\u001B[38;5;241m.\u001B[39mlogger\u001B[38;5;241m.\u001B[39mdebug(\u001B[38;5;124m\"\u001B[39m\u001B[38;5;124mError on connect(): \u001B[39m\u001B[38;5;132;01m%s\u001B[39;00m\u001B[38;5;124m\"\u001B[39m, e)\n\u001B[1;32m    679\u001B[0m \u001B[38;5;28;01melse\u001B[39;00m:\n\u001B[1;32m    680\u001B[0m     \u001B[38;5;66;03m# in SQLAlchemy 1.4 the first_connect event is not used by\u001B[39;00m\n\u001B[1;32m    681\u001B[0m     \u001B[38;5;66;03m# the engine, so this will usually not be set\u001B[39;00m\n",
      "File \u001B[0;32m/opt/conda/lib/python3.10/site-packages/sqlalchemy/util/langhelpers.py:70\u001B[0m, in \u001B[0;36msafe_reraise.__exit__\u001B[0;34m(self, type_, value, traceback)\u001B[0m\n\u001B[1;32m     68\u001B[0m     \u001B[38;5;28mself\u001B[39m\u001B[38;5;241m.\u001B[39m_exc_info \u001B[38;5;241m=\u001B[39m \u001B[38;5;28;01mNone\u001B[39;00m  \u001B[38;5;66;03m# remove potential circular references\u001B[39;00m\n\u001B[1;32m     69\u001B[0m     \u001B[38;5;28;01mif\u001B[39;00m \u001B[38;5;129;01mnot\u001B[39;00m \u001B[38;5;28mself\u001B[39m\u001B[38;5;241m.\u001B[39mwarn_only:\n\u001B[0;32m---> 70\u001B[0m         \u001B[43mcompat\u001B[49m\u001B[38;5;241;43m.\u001B[39;49m\u001B[43mraise_\u001B[49m\u001B[43m(\u001B[49m\n\u001B[1;32m     71\u001B[0m \u001B[43m            \u001B[49m\u001B[43mexc_value\u001B[49m\u001B[43m,\u001B[49m\n\u001B[1;32m     72\u001B[0m \u001B[43m            \u001B[49m\u001B[43mwith_traceback\u001B[49m\u001B[38;5;241;43m=\u001B[39;49m\u001B[43mexc_tb\u001B[49m\u001B[43m,\u001B[49m\n\u001B[1;32m     73\u001B[0m \u001B[43m        \u001B[49m\u001B[43m)\u001B[49m\n\u001B[1;32m     74\u001B[0m \u001B[38;5;28;01melse\u001B[39;00m:\n\u001B[1;32m     75\u001B[0m     \u001B[38;5;28;01mif\u001B[39;00m \u001B[38;5;129;01mnot\u001B[39;00m compat\u001B[38;5;241m.\u001B[39mpy3k \u001B[38;5;129;01mand\u001B[39;00m \u001B[38;5;28mself\u001B[39m\u001B[38;5;241m.\u001B[39m_exc_info \u001B[38;5;129;01mand\u001B[39;00m \u001B[38;5;28mself\u001B[39m\u001B[38;5;241m.\u001B[39m_exc_info[\u001B[38;5;241m1\u001B[39m]:\n\u001B[1;32m     76\u001B[0m         \u001B[38;5;66;03m# emulate Py3K's behavior of telling us when an exception\u001B[39;00m\n\u001B[1;32m     77\u001B[0m         \u001B[38;5;66;03m# occurs in an exception handler.\u001B[39;00m\n",
      "File \u001B[0;32m/opt/conda/lib/python3.10/site-packages/sqlalchemy/util/compat.py:208\u001B[0m, in \u001B[0;36mraise_\u001B[0;34m(***failed resolving arguments***)\u001B[0m\n\u001B[1;32m    205\u001B[0m     exception\u001B[38;5;241m.\u001B[39m__cause__ \u001B[38;5;241m=\u001B[39m replace_context\n\u001B[1;32m    207\u001B[0m \u001B[38;5;28;01mtry\u001B[39;00m:\n\u001B[0;32m--> 208\u001B[0m     \u001B[38;5;28;01mraise\u001B[39;00m exception\n\u001B[1;32m    209\u001B[0m \u001B[38;5;28;01mfinally\u001B[39;00m:\n\u001B[1;32m    210\u001B[0m     \u001B[38;5;66;03m# credit to\u001B[39;00m\n\u001B[1;32m    211\u001B[0m     \u001B[38;5;66;03m# https://cosmicpercolator.com/2016/01/13/exception-leaks-in-python-2-and-3/\u001B[39;00m\n\u001B[1;32m    212\u001B[0m     \u001B[38;5;66;03m# as the __traceback__ object creates a cycle\u001B[39;00m\n\u001B[1;32m    213\u001B[0m     \u001B[38;5;28;01mdel\u001B[39;00m exception, replace_context, from_, with_traceback\n",
      "File \u001B[0;32m/opt/conda/lib/python3.10/site-packages/sqlalchemy/pool/base.py:673\u001B[0m, in \u001B[0;36m_ConnectionRecord.__connect\u001B[0;34m(self)\u001B[0m\n\u001B[1;32m    671\u001B[0m \u001B[38;5;28;01mtry\u001B[39;00m:\n\u001B[1;32m    672\u001B[0m     \u001B[38;5;28mself\u001B[39m\u001B[38;5;241m.\u001B[39mstarttime \u001B[38;5;241m=\u001B[39m time\u001B[38;5;241m.\u001B[39mtime()\n\u001B[0;32m--> 673\u001B[0m     \u001B[38;5;28mself\u001B[39m\u001B[38;5;241m.\u001B[39mdbapi_connection \u001B[38;5;241m=\u001B[39m connection \u001B[38;5;241m=\u001B[39m \u001B[43mpool\u001B[49m\u001B[38;5;241;43m.\u001B[39;49m\u001B[43m_invoke_creator\u001B[49m\u001B[43m(\u001B[49m\u001B[38;5;28;43mself\u001B[39;49m\u001B[43m)\u001B[49m\n\u001B[1;32m    674\u001B[0m     pool\u001B[38;5;241m.\u001B[39mlogger\u001B[38;5;241m.\u001B[39mdebug(\u001B[38;5;124m\"\u001B[39m\u001B[38;5;124mCreated new connection \u001B[39m\u001B[38;5;132;01m%r\u001B[39;00m\u001B[38;5;124m\"\u001B[39m, connection)\n\u001B[1;32m    675\u001B[0m     \u001B[38;5;28mself\u001B[39m\u001B[38;5;241m.\u001B[39mfresh \u001B[38;5;241m=\u001B[39m \u001B[38;5;28;01mTrue\u001B[39;00m\n",
      "File \u001B[0;32m/opt/conda/lib/python3.10/site-packages/sqlalchemy/engine/create.py:578\u001B[0m, in \u001B[0;36mcreate_engine.<locals>.connect\u001B[0;34m(connection_record)\u001B[0m\n\u001B[1;32m    576\u001B[0m         \u001B[38;5;28;01mif\u001B[39;00m connection \u001B[38;5;129;01mis\u001B[39;00m \u001B[38;5;129;01mnot\u001B[39;00m \u001B[38;5;28;01mNone\u001B[39;00m:\n\u001B[1;32m    577\u001B[0m             \u001B[38;5;28;01mreturn\u001B[39;00m connection\n\u001B[0;32m--> 578\u001B[0m \u001B[38;5;28;01mreturn\u001B[39;00m \u001B[43mdialect\u001B[49m\u001B[38;5;241;43m.\u001B[39;49m\u001B[43mconnect\u001B[49m\u001B[43m(\u001B[49m\u001B[38;5;241;43m*\u001B[39;49m\u001B[43mcargs\u001B[49m\u001B[43m,\u001B[49m\u001B[43m \u001B[49m\u001B[38;5;241;43m*\u001B[39;49m\u001B[38;5;241;43m*\u001B[39;49m\u001B[43mcparams\u001B[49m\u001B[43m)\u001B[49m\n",
      "File \u001B[0;32m/opt/conda/lib/python3.10/site-packages/sqlalchemy/engine/default.py:598\u001B[0m, in \u001B[0;36mDefaultDialect.connect\u001B[0;34m(self, *cargs, **cparams)\u001B[0m\n\u001B[1;32m    596\u001B[0m \u001B[38;5;28;01mdef\u001B[39;00m \u001B[38;5;21mconnect\u001B[39m(\u001B[38;5;28mself\u001B[39m, \u001B[38;5;241m*\u001B[39mcargs, \u001B[38;5;241m*\u001B[39m\u001B[38;5;241m*\u001B[39mcparams):\n\u001B[1;32m    597\u001B[0m     \u001B[38;5;66;03m# inherits the docstring from interfaces.Dialect.connect\u001B[39;00m\n\u001B[0;32m--> 598\u001B[0m     \u001B[38;5;28;01mreturn\u001B[39;00m \u001B[38;5;28;43mself\u001B[39;49m\u001B[38;5;241;43m.\u001B[39;49m\u001B[43mdbapi\u001B[49m\u001B[38;5;241;43m.\u001B[39;49m\u001B[43mconnect\u001B[49m\u001B[43m(\u001B[49m\u001B[38;5;241;43m*\u001B[39;49m\u001B[43mcargs\u001B[49m\u001B[43m,\u001B[49m\u001B[43m \u001B[49m\u001B[38;5;241;43m*\u001B[39;49m\u001B[38;5;241;43m*\u001B[39;49m\u001B[43mcparams\u001B[49m\u001B[43m)\u001B[49m\n",
      "File \u001B[0;32m/opt/conda/lib/python3.10/site-packages/psycopg2/__init__.py:122\u001B[0m, in \u001B[0;36mconnect\u001B[0;34m(dsn, connection_factory, cursor_factory, **kwargs)\u001B[0m\n\u001B[1;32m    119\u001B[0m     kwasync[\u001B[38;5;124m'\u001B[39m\u001B[38;5;124masync_\u001B[39m\u001B[38;5;124m'\u001B[39m] \u001B[38;5;241m=\u001B[39m kwargs\u001B[38;5;241m.\u001B[39mpop(\u001B[38;5;124m'\u001B[39m\u001B[38;5;124masync_\u001B[39m\u001B[38;5;124m'\u001B[39m)\n\u001B[1;32m    121\u001B[0m dsn \u001B[38;5;241m=\u001B[39m _ext\u001B[38;5;241m.\u001B[39mmake_dsn(dsn, \u001B[38;5;241m*\u001B[39m\u001B[38;5;241m*\u001B[39mkwargs)\n\u001B[0;32m--> 122\u001B[0m conn \u001B[38;5;241m=\u001B[39m \u001B[43m_connect\u001B[49m\u001B[43m(\u001B[49m\u001B[43mdsn\u001B[49m\u001B[43m,\u001B[49m\u001B[43m \u001B[49m\u001B[43mconnection_factory\u001B[49m\u001B[38;5;241;43m=\u001B[39;49m\u001B[43mconnection_factory\u001B[49m\u001B[43m,\u001B[49m\u001B[43m \u001B[49m\u001B[38;5;241;43m*\u001B[39;49m\u001B[38;5;241;43m*\u001B[39;49m\u001B[43mkwasync\u001B[49m\u001B[43m)\u001B[49m\n\u001B[1;32m    123\u001B[0m \u001B[38;5;28;01mif\u001B[39;00m cursor_factory \u001B[38;5;129;01mis\u001B[39;00m \u001B[38;5;129;01mnot\u001B[39;00m \u001B[38;5;28;01mNone\u001B[39;00m:\n\u001B[1;32m    124\u001B[0m     conn\u001B[38;5;241m.\u001B[39mcursor_factory \u001B[38;5;241m=\u001B[39m cursor_factory\n",
      "\u001B[0;31mOperationalError\u001B[0m: (psycopg2.OperationalError) could not connect to server: Connection refused\n\tIs the server running on host \"aimedic-bfs-db.ckwggxrzoh8y.eu-central-1.rds.amazonaws.com\" (172.32.2.239) and accepting\n\tTCP/IP connections on port 5432?\n\n(Background on this error at: https://sqlalche.me/e/14/e3q8)"
     ]
    }
   ],
   "source": [
    "cases_in_db = get_hospital_year_cases(file_info.hospital_name_db, file_info.year)[VALIDATION_COLS]\n",
    "\n",
    "num_cases_in_db = cases_in_db.shape[0]\n",
    "if num_cases_in_db == 0:\n",
    "    raise ValueError(f\"There is no data for the hospital '{file_info.hospital_name_db}' in {file_info.year}\")\n",
    "else:\n",
    "    logger.info(f\"Read {num_cases_in_db} rows from the DB, for the hospital '{file_info.hospital_name_db}' in {file_info.year}\")"
   ]
  },
  {
   "cell_type": "code",
   "execution_count": null,
   "id": "42113e93",
   "metadata": {
    "collapsed": false,
    "jupyter": {
     "outputs_hidden": false
    },
    "pycharm": {
     "name": "#%%\n"
    }
   },
   "outputs": [],
   "source": [
    "# get the case_id from revised_case\n",
    "df_revised_case_d2d['case_id_num'] = df_revised_case_d2d[CASE_ID_COL].astype(int)\n",
    "cases_in_db['case_id_num'] = cases_in_db[CASE_ID_COL].astype(int)\n",
    "\n",
    "# TODO Join tables\n",
    "\n",
    "sys.exit(0)"
   ]
  },
  {
   "cell_type": "code",
   "execution_count": null,
   "id": "9ddb9c40",
   "metadata": {
    "collapsed": false,
    "jupyter": {
     "outputs_hidden": false
    },
    "pycharm": {
     "name": "#%%\n"
    }
   },
   "outputs": [],
   "source": [
    "# match to the database and retrieve data from database using revised\n",
    "revised_case_db = bfs_db.get_bfs_cases_by_ids_no_pad0(revised_case_id_stripped)\n",
    "revised_case_db.head()"
   ]
  },
  {
   "cell_type": "code",
   "execution_count": null,
   "id": "46bcf8bf",
   "metadata": {
    "collapsed": false,
    "jupyter": {
     "outputs_hidden": false
    },
    "pycharm": {
     "name": "#%%\n"
    }
   },
   "outputs": [],
   "source": [
    "sys.exit(0)"
   ]
  },
  {
   "cell_type": "code",
   "execution_count": null,
   "id": "72a903f0-1223-45d7-9990-3ea0f87b0572",
   "metadata": {
    "pycharm": {
     "name": "#%%\n"
    }
   },
   "outputs": [],
   "source": [
    "# create a new column for case_id_stripped with '0' for joining to the revised cases\n",
    "revised_case_db['case_id_stripped']=  revised_case_db['case_id'].apply(lambda x: x.lstrip('0')) \n",
    "revised_case_db.head()"
   ]
  },
  {
   "cell_type": "code",
   "execution_count": null,
   "id": "ce804ffb-50ab-42b8-a797-ce11e0e565a2",
   "metadata": {
    "pycharm": {
     "name": "#%%\n"
    }
   },
   "outputs": [],
   "source": [
    "# create a new column for case_id_stripped with '0' for joining to the revised cases\n",
    "revised_case_db['case_id_stripped']=  revised_case_db['case_id'].apply(lambda x: x.lstrip('0')) \n",
    "revised_case_db.head()\n",
    "print(revised_case_db.shape)"
   ]
  },
  {
   "cell_type": "code",
   "execution_count": null,
   "id": "061e2554-4773-4b4b-bfb1-742aa3838ac4",
   "metadata": {
    "pycharm": {
     "name": "#%%\n"
    }
   },
   "outputs": [],
   "source": [
    "# create a new column for case_id_stripped with '0' for joining to cases from database\n",
    "\n",
    "df_revised_case_d2d['case_id_stripped']=  df_revised_case_d2d['case_id'].apply(lambda x: x.lstrip('0')) \n",
    "df_revised_case_d2d.head()\n",
    "print(df_revised_case_d2d.shape)"
   ]
  },
  {
   "cell_type": "code",
   "execution_count": null,
   "id": "9099ca23-dd60-46a7-b08e-2e5491b03f25",
   "metadata": {
    "pycharm": {
     "name": "#%%\n"
    }
   },
   "outputs": [],
   "source": [
    "# delete duplicated cases in the revised cases\n",
    "\n",
    "df_revised_case_d2d['case_id_stripped'].apply(tuple) # make sure the drop_duplicates works\n",
    "\n",
    "df_revised_case_d2d.drop_duplicates(subset=['case_id_stripped'], keep='last', inplace=True)\n",
    "assert len(revised_case_id_stripped) == df_revised_case_d2d.shape[0] # make sure all cases are deleted\n"
   ]
  },
  {
   "cell_type": "markdown",
   "id": "9c1b3b1b-f89e-47d3-8c42-f3af8abffb0a",
   "metadata": {
    "pycharm": {
     "name": "#%% md\n"
    }
   },
   "source": [
    "# Forming the normalized dataframe: Merge the selected revised case data with the matched from bfs data\n",
    "  If there are multiple cases were found based on case_id, patient_id will be used to match once more  "
   ]
  },
  {
   "cell_type": "code",
   "execution_count": null,
   "id": "2bc9512c-8615-4f3d-b833-f8e7367be33a",
   "metadata": {
    "pycharm": {
     "name": "#%%\n"
    }
   },
   "outputs": [],
   "source": [
    "# Check if there are multiple cases were found based on case_id, patient_id will be used to match once more\n",
    "if revised_case_db.shape[0] <= len(revised_case_id):\n",
    "    revised_case_d2d_subset = df_revised_case_d2d[COL_SUBSET_FROM_REVISED_CASES + ['case_id_stripped', 'gender', 'age_years', 'duration_of_stay', 'pccl', 'drg']]\n",
    "    revised_case_normalized = revised_case_db.merge(revised_case_d2d_subset, how ='left', on=['case_id_stripped', 'gender', 'age_years', 'duration_of_stay', 'pccl', 'drg'])\n",
    "    num_match_case_id = revised_case_normalized.shape[0]\n",
    "else:\n",
    "    revised_case_d2d_subset = df_revised_case_d2d[COL_SUBSET_FROM_REVISED_CASES + ['case_id_stripped', 'patient_id', 'gender', 'age_years', 'duration_of_stay', 'pccl', 'drg']]\n",
    "    revised_case_normalized = revised_case_db.merge(revised_case_d2d_subset, how ='left', on=['case_id_stripped', 'gender', 'age_years', 'duration_of_stay', 'pccl', 'drg'])\n",
    "    num_match_case_patient_id = revised_case_normalized.shape[0]\n",
    "print(revised_case_normalized.shape)\n",
    "revised_case_normalized.head()"
   ]
  },
  {
   "cell_type": "code",
   "execution_count": null,
   "id": "cdcd0e25",
   "metadata": {
    "collapsed": false,
    "jupyter": {
     "outputs_hidden": false
    },
    "pycharm": {
     "name": "#%%\n"
    }
   },
   "outputs": [],
   "source": [
    "# Choose column to export to a csv file\n",
    "df_revised_case_normalized = revised_case_normalized[COLS_TO_OUTPUT]\n",
    "assert len(df_revised_case_normalized.columns) == len(COLS_TO_OUTPUT)\n",
    "df_revised_case_normalized.head()"
   ]
  },
  {
   "cell_type": "markdown",
   "id": "3fe44878",
   "metadata": {
    "tags": [],
    "pycharm": {
     "name": "#%% md\n"
    }
   },
   "source": [
    "# Export the normalized revised cases with the neccessary columns to a csv file\n"
   ]
  },
  {
   "cell_type": "code",
   "execution_count": null,
   "id": "9b283dda",
   "metadata": {
    "collapsed": false,
    "jupyter": {
     "outputs_hidden": false
    },
    "pycharm": {
     "name": "#%%\n"
    }
   },
   "outputs": [],
   "source": [
    "\n",
    "hospital = file_info.hospital_name_db.replace(' ', '_') # replace spaces with '_' for the file name\n",
    "hospital_year = f'{hospital}_{file_info.year}'\n",
    "\n",
    "output_folder = os.path.join(ROOT_DIR, 'normalized_revision_data/')\n",
    "\n",
    "if not os.path.exists(output_folder):\n",
    "    os.mkdir(output_folder)\n",
    "\n",
    "output_path = os.path.join(ROOT_DIR, 'normalized_revision_data/') + hospital_year + '.csv'\n",
    "\n",
    "df_revised_case_normalized.to_csv(output_path)\n"
   ]
  },
  {
   "cell_type": "markdown",
   "id": "7a0e6287",
   "metadata": {
    "tags": [],
    "pycharm": {
     "name": "#%% md\n"
    }
   },
   "source": [
    "# Report\n",
    "\n",
    "A small summary of:\n",
    "- how many cases could be matched in the DB, and based on which columns\n",
    "- how many cases were “correctly” revised, in terms of upcoding (still need to do after the `grouper` is available for python)"
   ]
  },
  {
   "cell_type": "code",
   "execution_count": null,
   "id": "39806225",
   "metadata": {
    "collapsed": false,
    "jupyter": {
     "outputs_hidden": false
    },
    "pycharm": {
     "name": "#%%\n"
    }
   },
   "outputs": [],
   "source": [
    "if revised_case_db.shape[0] <= len(revised_case_id):\n",
    "    print(f'Based on the columns \"case_id\", \"gender, \"age_years\", \"duration_of_stay\", \"pccl\", \"drg\", there are {num_match_case_id} out of {len(revised_case_id)} revised cases from DtoD that can be matched with the bfs database data for {file_info.hospital_name_db} {file_info.year}' )\n",
    "else:\n",
    "    print(f'Based on the columns \"case_id\" and \"Patient_id\", \"gender, \"age_years\", \"duration_of_stay\", \"pccl\", \"drg\", there are {num_match_case_patient_id} out of {len(revised_case_id)} revised cases from DtoD that can be matched with the bfs database data for {file_info.hospital_name_db} {file_info.year}' )"
   ]
  },
  {
   "cell_type": "code",
   "execution_count": null,
   "id": "87a14b03",
   "metadata": {
    "collapsed": false,
    "jupyter": {
     "outputs_hidden": false
    },
    "pycharm": {
     "name": "#%%\n"
    }
   },
   "outputs": [],
   "source": [
    "print('All the normalized revised cases are exported to here: {}'.format(output_path))"
   ]
  },
  {
   "cell_type": "code",
   "execution_count": null,
   "id": "20e4b5fb-7d66-4ecf-90d7-f93e28579e13",
   "metadata": {
    "pycharm": {
     "name": "#%%\n"
    }
   },
   "outputs": [],
   "source": []
  },
  {
   "cell_type": "code",
   "execution_count": null,
   "id": "ebe832a6-ad1e-4e9f-8612-af3c07e76269",
   "metadata": {
    "pycharm": {
     "name": "#%%\n"
    }
   },
   "outputs": [],
   "source": []
  }
 ],
 "metadata": {
  "kernelspec": {
   "display_name": "Python 3 (ipykernel)",
   "language": "python",
   "name": "python3"
  },
  "language_info": {
   "codemirror_mode": {
    "name": "ipython",
    "version": 3
   },
   "file_extension": ".py",
   "mimetype": "text/x-python",
   "name": "python",
   "nbconvert_exporter": "python",
   "pygments_lexer": "ipython3",
   "version": "3.10.6"
  }
 },
 "nbformat": 4,
 "nbformat_minor": 5
}