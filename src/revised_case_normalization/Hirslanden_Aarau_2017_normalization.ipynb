{
 "cells": [
  {
   "cell_type": "markdown",
   "id": "a4e2885d",
   "metadata": {
    "tags": []
   },
   "source": [
    "# Revised case normalization for Hirslanden Aarau 2017\n",
    "\n",
    "## Notes:\n",
    "- There is no data for the hospital 'Hirslanden Aarau' in 2017 in the BFS DB data."
   ]
  },
  {
   "cell_type": "code",
   "execution_count": 1,
   "id": "d097a048",
   "metadata": {
    "collapsed": false,
    "jupyter": {
     "outputs_hidden": false
    }
   },
   "outputs": [],
   "source": [
    "import sys\n",
    "\n",
    "import numpy as np\n",
    "import pandas as pd\n",
    "from loguru import logger\n",
    "\n",
    "sys.path.insert(0, '/home/jovyan/work')\n",
    "\n",
    "from src.revised_case_normalization.py.global_configs import *\n",
    "from src.revised_case_normalization.py.normalize import normalize\n",
    "from src.service import bfs_cases_db_service as bfs_db\n",
    "from src.service.bfs_cases_db_service import session, get_sociodemographics_for_hospital_year"
   ]
  },
  {
   "cell_type": "code",
   "execution_count": 2,
   "id": "4710c532",
   "metadata": {
    "collapsed": false,
    "jupyter": {
     "outputs_hidden": false
    }
   },
   "outputs": [
    {
     "name": "stdout",
     "output_type": "stream",
     "text": [
      "FileInfo(path='/home/jovyan/work/src/revised_case_normalization/raw_data/HI_Aarau_Birshof_ST. Anna.xlsx', hospital_name_db='Hirslanden Aarau', year='2017', sheets=['Aarau_2017'])\n"
     ]
    }
   ],
   "source": [
    "file_info = FileInfo(\n",
    "        os.path.join(ROOT_DIR, 'raw_data/HI_Aarau_Birshof_ST. Anna.xlsx'),\n",
    "        'Hirslanden Aarau',\n",
    "        '2017',\n",
    "        ['Aarau_2017'])\n",
    "\n",
    "print(file_info)"
   ]
  },
  {
   "cell_type": "code",
   "execution_count": 3,
   "id": "8c8b27df",
   "metadata": {
    "collapsed": false,
    "jupyter": {
     "outputs_hidden": false
    }
   },
   "outputs": [
    {
     "name": "stderr",
     "output_type": "stream",
     "text": [
      "2022-10-20 08:36:47.201 | INFO     | src.revised_case_normalization.py.normalize:normalize:46 - Read 14 cases for Hirslanden Aarau 2017\n",
      "2022-10-20 08:36:47.207 | INFO     | src.revised_case_normalization.py.normalize:normalize:69 - TYPES:\n",
      "case_id              int64\n",
      "patient_id          object\n",
      "gender              string\n",
      "age_years            int64\n",
      "duration_of_stay     int64\n",
      "old_pd              string\n",
      "new_pd              string\n",
      "bfs_code            string\n",
      "pccl                 int64\n",
      "drg                 string\n",
      "added_icds          string\n",
      "removed_icds        string\n",
      "added_chops         string\n",
      "removed_chops       string\n",
      "dtype: object\n",
      "2022-10-20 08:36:47.213 | INFO     | src.utils.dataframe_utils:validate_icd_codes:68 - Validated ICD codes in 'added_icds' and stored them into 'added_icds': All rows contain valid codes\n",
      "2022-10-20 08:36:47.217 | INFO     | src.utils.dataframe_utils:validate_icd_codes:68 - Validated ICD codes in 'removed_icds' and stored them into 'removed_icds': All rows contain valid codes\n",
      "2022-10-20 08:36:47.220 | INFO     | src.utils.dataframe_utils:validate_chop_codes:106 - Validated CHOP codes in 'added_chops' and stored them into 'added_chops': All rows contain valid codes\n",
      "2022-10-20 08:36:47.223 | INFO     | src.utils.dataframe_utils:validate_chop_codes:106 - Validated CHOP codes in 'removed_chops' and stored them into 'removed_chops': All rows contain valid codes\n",
      "2022-10-20 08:36:47.224 | INFO     | src.utils.dataframe_utils:remove_duplicated_chops:32 - Removing duplicated CHOP codes due to different casing ...\n",
      "2022-10-20 08:36:47.230 | INFO     | src.utils.dataframe_utils:validate_pd_revised_sd:158 - Validated redundant PD info in 'added_icds'/'removed_icds': All rows contain valid codes\n",
      "2022-10-20 08:36:47.233 | SUCCESS  | src.revised_case_normalization.py.normalize:normalize:101 - Completed validation\n"
     ]
    }
   ],
   "source": [
    "df_revised_case_d2d = normalize(file_info, 0)"
   ]
  },
  {
   "cell_type": "code",
   "execution_count": 4,
   "id": "6c589452",
   "metadata": {
    "collapsed": false,
    "jupyter": {
     "outputs_hidden": false
    }
   },
   "outputs": [
    {
     "data": {
      "text/plain": "     case_id  patient_id gender  age_years  duration_of_stay old_pd new_pd  \\\n0   41206174     1176423      W         72                 5   T840   T840   \n1   41230776     1659346      W         67                19   G001   G001   \n2   41281042     1823347      M         67                 6  E1150  E1150   \n3   41386032     1051316      M         74                10  S7211  S7211   \n4   41418378    22136564      M         86                 8   C182   C182   \n5   41247420     1251372      W         63                 8  M4216  M4216   \n6   41477047     1536048      W         74                 6   M315   M315   \n7   41280551  0022114393      W         84                 7  I5012  I5012   \n8   41457913  0001193700      W         92                 5   C341   C341   \n9   41523346  0002096726      W         77                 9  N1783  N1783   \n10  41282182  0011052170      W         67                 7   I313   I313   \n11  41360177  0022005957      M         67                 7   I313   I313   \n12  41588330  0022148117      W         70                14   C670   C670   \n13  41440505   001910023      M         72                 9   I210   I210   \n\n   bfs_code  pccl   drg          added_icds removed_icds       added_chops  \\\n0      M200     3  I21C             [E1140]           []  [80051D, 815255]   \n1      M100     3  B72C              [B370]           []                []   \n2      M100     3  F14B              [F101]           []                []   \n3      M200     3  I08C             [L8914]           []                []   \n4      M200     3  G18B             [E1191]      [E1190]                []   \n5      M200     3  I09D             [M4196]           []                []   \n6      M100     3  I66B             [K3182]      [K5581]                []   \n7      M100     3  F62C  [F023, F338, F051]  [F03, F328]                []   \n8      M100     3  E71B               [R15]           []                []   \n9      M100     3  L60D              [A099]           []                []   \n10     M200     3  F35C             [J9580]           []                []   \n11     M200     3  F35C               [J91]           []                []   \n12     M200     3  L10B              [A099]           []                []   \n13     M100     3  F52B              [I513]           []                []   \n\n         removed_chops  \n0   [009031::20170106]  \n1                   []  \n2                   []  \n3                   []  \n4                   []  \n5                   []  \n6                   []  \n7                   []  \n8                   []  \n9                   []  \n10                  []  \n11                  []  \n12                  []  \n13                  []  ",
      "text/html": "<div>\n<style scoped>\n    .dataframe tbody tr th:only-of-type {\n        vertical-align: middle;\n    }\n\n    .dataframe tbody tr th {\n        vertical-align: top;\n    }\n\n    .dataframe thead th {\n        text-align: right;\n    }\n</style>\n<table border=\"1\" class=\"dataframe\">\n  <thead>\n    <tr style=\"text-align: right;\">\n      <th></th>\n      <th>case_id</th>\n      <th>patient_id</th>\n      <th>gender</th>\n      <th>age_years</th>\n      <th>duration_of_stay</th>\n      <th>old_pd</th>\n      <th>new_pd</th>\n      <th>bfs_code</th>\n      <th>pccl</th>\n      <th>drg</th>\n      <th>added_icds</th>\n      <th>removed_icds</th>\n      <th>added_chops</th>\n      <th>removed_chops</th>\n    </tr>\n  </thead>\n  <tbody>\n    <tr>\n      <th>0</th>\n      <td>41206174</td>\n      <td>1176423</td>\n      <td>W</td>\n      <td>72</td>\n      <td>5</td>\n      <td>T840</td>\n      <td>T840</td>\n      <td>M200</td>\n      <td>3</td>\n      <td>I21C</td>\n      <td>[E1140]</td>\n      <td>[]</td>\n      <td>[80051D, 815255]</td>\n      <td>[009031::20170106]</td>\n    </tr>\n    <tr>\n      <th>1</th>\n      <td>41230776</td>\n      <td>1659346</td>\n      <td>W</td>\n      <td>67</td>\n      <td>19</td>\n      <td>G001</td>\n      <td>G001</td>\n      <td>M100</td>\n      <td>3</td>\n      <td>B72C</td>\n      <td>[B370]</td>\n      <td>[]</td>\n      <td>[]</td>\n      <td>[]</td>\n    </tr>\n    <tr>\n      <th>2</th>\n      <td>41281042</td>\n      <td>1823347</td>\n      <td>M</td>\n      <td>67</td>\n      <td>6</td>\n      <td>E1150</td>\n      <td>E1150</td>\n      <td>M100</td>\n      <td>3</td>\n      <td>F14B</td>\n      <td>[F101]</td>\n      <td>[]</td>\n      <td>[]</td>\n      <td>[]</td>\n    </tr>\n    <tr>\n      <th>3</th>\n      <td>41386032</td>\n      <td>1051316</td>\n      <td>M</td>\n      <td>74</td>\n      <td>10</td>\n      <td>S7211</td>\n      <td>S7211</td>\n      <td>M200</td>\n      <td>3</td>\n      <td>I08C</td>\n      <td>[L8914]</td>\n      <td>[]</td>\n      <td>[]</td>\n      <td>[]</td>\n    </tr>\n    <tr>\n      <th>4</th>\n      <td>41418378</td>\n      <td>22136564</td>\n      <td>M</td>\n      <td>86</td>\n      <td>8</td>\n      <td>C182</td>\n      <td>C182</td>\n      <td>M200</td>\n      <td>3</td>\n      <td>G18B</td>\n      <td>[E1191]</td>\n      <td>[E1190]</td>\n      <td>[]</td>\n      <td>[]</td>\n    </tr>\n    <tr>\n      <th>5</th>\n      <td>41247420</td>\n      <td>1251372</td>\n      <td>W</td>\n      <td>63</td>\n      <td>8</td>\n      <td>M4216</td>\n      <td>M4216</td>\n      <td>M200</td>\n      <td>3</td>\n      <td>I09D</td>\n      <td>[M4196]</td>\n      <td>[]</td>\n      <td>[]</td>\n      <td>[]</td>\n    </tr>\n    <tr>\n      <th>6</th>\n      <td>41477047</td>\n      <td>1536048</td>\n      <td>W</td>\n      <td>74</td>\n      <td>6</td>\n      <td>M315</td>\n      <td>M315</td>\n      <td>M100</td>\n      <td>3</td>\n      <td>I66B</td>\n      <td>[K3182]</td>\n      <td>[K5581]</td>\n      <td>[]</td>\n      <td>[]</td>\n    </tr>\n    <tr>\n      <th>7</th>\n      <td>41280551</td>\n      <td>0022114393</td>\n      <td>W</td>\n      <td>84</td>\n      <td>7</td>\n      <td>I5012</td>\n      <td>I5012</td>\n      <td>M100</td>\n      <td>3</td>\n      <td>F62C</td>\n      <td>[F023, F338, F051]</td>\n      <td>[F03, F328]</td>\n      <td>[]</td>\n      <td>[]</td>\n    </tr>\n    <tr>\n      <th>8</th>\n      <td>41457913</td>\n      <td>0001193700</td>\n      <td>W</td>\n      <td>92</td>\n      <td>5</td>\n      <td>C341</td>\n      <td>C341</td>\n      <td>M100</td>\n      <td>3</td>\n      <td>E71B</td>\n      <td>[R15]</td>\n      <td>[]</td>\n      <td>[]</td>\n      <td>[]</td>\n    </tr>\n    <tr>\n      <th>9</th>\n      <td>41523346</td>\n      <td>0002096726</td>\n      <td>W</td>\n      <td>77</td>\n      <td>9</td>\n      <td>N1783</td>\n      <td>N1783</td>\n      <td>M100</td>\n      <td>3</td>\n      <td>L60D</td>\n      <td>[A099]</td>\n      <td>[]</td>\n      <td>[]</td>\n      <td>[]</td>\n    </tr>\n    <tr>\n      <th>10</th>\n      <td>41282182</td>\n      <td>0011052170</td>\n      <td>W</td>\n      <td>67</td>\n      <td>7</td>\n      <td>I313</td>\n      <td>I313</td>\n      <td>M200</td>\n      <td>3</td>\n      <td>F35C</td>\n      <td>[J9580]</td>\n      <td>[]</td>\n      <td>[]</td>\n      <td>[]</td>\n    </tr>\n    <tr>\n      <th>11</th>\n      <td>41360177</td>\n      <td>0022005957</td>\n      <td>M</td>\n      <td>67</td>\n      <td>7</td>\n      <td>I313</td>\n      <td>I313</td>\n      <td>M200</td>\n      <td>3</td>\n      <td>F35C</td>\n      <td>[J91]</td>\n      <td>[]</td>\n      <td>[]</td>\n      <td>[]</td>\n    </tr>\n    <tr>\n      <th>12</th>\n      <td>41588330</td>\n      <td>0022148117</td>\n      <td>W</td>\n      <td>70</td>\n      <td>14</td>\n      <td>C670</td>\n      <td>C670</td>\n      <td>M200</td>\n      <td>3</td>\n      <td>L10B</td>\n      <td>[A099]</td>\n      <td>[]</td>\n      <td>[]</td>\n      <td>[]</td>\n    </tr>\n    <tr>\n      <th>13</th>\n      <td>41440505</td>\n      <td>001910023</td>\n      <td>M</td>\n      <td>72</td>\n      <td>9</td>\n      <td>I210</td>\n      <td>I210</td>\n      <td>M100</td>\n      <td>3</td>\n      <td>F52B</td>\n      <td>[I513]</td>\n      <td>[]</td>\n      <td>[]</td>\n      <td>[]</td>\n    </tr>\n  </tbody>\n</table>\n</div>"
     },
     "execution_count": 4,
     "metadata": {},
     "output_type": "execute_result"
    }
   ],
   "source": [
    "df_revised_case_d2d"
   ]
  },
  {
   "cell_type": "markdown",
   "id": "a6796573",
   "metadata": {
    "tags": []
   },
   "source": [
    "# Match revised DtoD data with the BfS data from the database"
   ]
  },
  {
   "cell_type": "code",
   "execution_count": 6,
   "id": "65408537-cd4a-4b7c-a785-0db424378909",
   "metadata": {},
   "outputs": [
    {
     "ename": "ValueError",
     "evalue": "There is no data for the hospital 'Hirslanden Aarau' in 2017",
     "output_type": "error",
     "traceback": [
      "\u001B[0;31m---------------------------------------------------------------------------\u001B[0m",
      "\u001B[0;31mValueError\u001B[0m                                Traceback (most recent call last)",
      "Cell \u001B[0;32mIn [6], line 6\u001B[0m\n\u001B[1;32m      4\u001B[0m num_cases_in_db \u001B[38;5;241m=\u001B[39m cases_in_db\u001B[38;5;241m.\u001B[39mshape[\u001B[38;5;241m0\u001B[39m]\n\u001B[1;32m      5\u001B[0m \u001B[38;5;28;01mif\u001B[39;00m num_cases_in_db \u001B[38;5;241m==\u001B[39m \u001B[38;5;241m0\u001B[39m:\n\u001B[0;32m----> 6\u001B[0m     \u001B[38;5;28;01mraise\u001B[39;00m \u001B[38;5;167;01mValueError\u001B[39;00m(\u001B[38;5;124mf\u001B[39m\u001B[38;5;124m\"\u001B[39m\u001B[38;5;124mThere is no data for the hospital \u001B[39m\u001B[38;5;124m'\u001B[39m\u001B[38;5;132;01m{\u001B[39;00mfile_info\u001B[38;5;241m.\u001B[39mhospital_name_db\u001B[38;5;132;01m}\u001B[39;00m\u001B[38;5;124m'\u001B[39m\u001B[38;5;124m in \u001B[39m\u001B[38;5;132;01m{\u001B[39;00mfile_info\u001B[38;5;241m.\u001B[39myear\u001B[38;5;132;01m}\u001B[39;00m\u001B[38;5;124m\"\u001B[39m)\n\u001B[1;32m      7\u001B[0m \u001B[38;5;28;01melse\u001B[39;00m:\n\u001B[1;32m      8\u001B[0m     logger\u001B[38;5;241m.\u001B[39minfo(\u001B[38;5;124mf\u001B[39m\u001B[38;5;124m\"\u001B[39m\u001B[38;5;124mRead \u001B[39m\u001B[38;5;132;01m{\u001B[39;00mnum_cases_in_db\u001B[38;5;132;01m}\u001B[39;00m\u001B[38;5;124m rows from the DB, for the hospital \u001B[39m\u001B[38;5;124m'\u001B[39m\u001B[38;5;132;01m{\u001B[39;00mfile_info\u001B[38;5;241m.\u001B[39mhospital_name_db\u001B[38;5;132;01m}\u001B[39;00m\u001B[38;5;124m'\u001B[39m\u001B[38;5;124m in \u001B[39m\u001B[38;5;132;01m{\u001B[39;00mfile_info\u001B[38;5;241m.\u001B[39myear\u001B[38;5;132;01m}\u001B[39;00m\u001B[38;5;124m\"\u001B[39m)\n",
      "\u001B[0;31mValueError\u001B[0m: There is no data for the hospital 'Hirslanden Aarau' in 2017"
     ]
    }
   ],
   "source": [
    "cases_in_db = get_sociodemographics_for_hospital_year(file_info.hospital_name_db, int(file_info.year))[[AIMEDIC_ID] + VALIDATION_COLS]\n",
    "cases_in_db.head()\n",
    "\n",
    "num_cases_in_db = cases_in_db.shape[0]\n",
    "if num_cases_in_db == 0:\n",
    "    raise ValueError(f\"There is no data for the hospital '{file_info.hospital_name_db}' in {file_info.year}\")\n",
    "else:\n",
    "    logger.info(f\"Read {num_cases_in_db} rows from the DB, for the hospital '{file_info.hospital_name_db}' in {file_info.year}\")"
   ]
  }
 ],
 "metadata": {
  "kernelspec": {
   "display_name": "Python 3 (ipykernel)",
   "language": "python",
   "name": "python3"
  },
  "language_info": {
   "codemirror_mode": {
    "name": "ipython",
    "version": 3
   },
   "file_extension": ".py",
   "mimetype": "text/x-python",
   "name": "python",
   "nbconvert_exporter": "python",
   "pygments_lexer": "ipython3",
   "version": "3.10.6"
  }
 },
 "nbformat": 4,
 "nbformat_minor": 5
}
