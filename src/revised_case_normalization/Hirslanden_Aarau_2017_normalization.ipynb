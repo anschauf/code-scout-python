{
 "cells": [
  {
   "cell_type": "markdown",
   "id": "a4e2885d",
   "metadata": {
    "pycharm": {
     "name": "#%% md\n"
    },
    "tags": []
   },
   "source": [
    "# Revised case normalization for Hirslanden Aarau 2017\n",
    "\n",
    "- No matches were found in this hospital\n",
    "\n"
   ]
  },
  {
   "cell_type": "code",
   "execution_count": 1,
   "id": "d097a048",
   "metadata": {
    "collapsed": false,
    "jupyter": {
     "outputs_hidden": false
    },
    "pycharm": {
     "name": "#%%\n"
    }
   },
   "outputs": [
    {
     "name": "stderr",
     "output_type": "stream",
     "text": [
      "/home/jovyan/work/src/models/BfsCase.py:5: SAWarning: On class 'BfsCase', Column object 'drg_cost_weight' named directly multiple times, only one will be used: drg_cost_weight, effective_cost_weight. Consider using orm.synonym instead\n",
      "  class BfsCase(Base):\n"
     ]
    }
   ],
   "source": [
    "import pandas as pd\n",
    "import sys\n",
    "sys.path.insert(0, '/home/jovyan/work')\n",
    "\n",
    "import os\n",
    "\n",
    "from py.global_configs import *\n",
    "from py.normalize import normalize\n",
    "\n",
    "from src.service import bfs_cases_db_service as bfs_db\n",
    "\n",
    "from src.utils.dataframe_utils import remove_duplicated_chops"
   ]
  },
  {
   "cell_type": "code",
   "execution_count": 2,
   "id": "4710c532",
   "metadata": {
    "collapsed": false,
    "jupyter": {
     "outputs_hidden": false
    },
    "pycharm": {
     "name": "#%%\n"
    }
   },
   "outputs": [
    {
     "name": "stdout",
     "output_type": "stream",
     "text": [
      "FileInfo(path='/home/jovyan/work/src/revised_case_normalization/raw_data/HI_Aarau_Birshof_ST. Anna.xlsx', hospital_name_db='Hirslanden Aarau', year='2017', sheets=['Aarau_2017'])\n"
     ]
    }
   ],
   "source": [
    "\n",
    "file_info = FileInfo(\n",
    "        os.path.join(ROOT_DIR, 'raw_data/HI_Aarau_Birshof_ST. Anna.xlsx'),\n",
    "         'Hirslanden Aarau',\n",
    "        '2017',\n",
    "        ['Aarau_2017'])\n",
    "\n",
    "print(file_info)\n"
   ]
  },
  {
   "cell_type": "code",
   "execution_count": 3,
   "id": "8c8b27df",
   "metadata": {
    "collapsed": false,
    "jupyter": {
     "outputs_hidden": false
    },
    "pycharm": {
     "name": "#%%\n"
    }
   },
   "outputs": [
    {
     "name": "stderr",
     "output_type": "stream",
     "text": [
      "2022-10-18 10:21:40.225 | DEBUG    | src.utils.dataframe_utils:_validate_icd_codes:56 - row 0: discarded ICDs after validation {''}\n",
      "2022-10-18 10:21:40.225 | DEBUG    | src.utils.dataframe_utils:_validate_icd_codes:56 - row 1: discarded ICDs after validation {''}\n",
      "2022-10-18 10:21:40.226 | DEBUG    | src.utils.dataframe_utils:_validate_icd_codes:56 - row 2: discarded ICDs after validation {''}\n",
      "2022-10-18 10:21:40.226 | DEBUG    | src.utils.dataframe_utils:_validate_icd_codes:56 - row 3: discarded ICDs after validation {''}\n",
      "2022-10-18 10:21:40.227 | DEBUG    | src.utils.dataframe_utils:_validate_icd_codes:56 - row 5: discarded ICDs after validation {''}\n",
      "2022-10-18 10:21:40.228 | DEBUG    | src.utils.dataframe_utils:_validate_icd_codes:56 - row 8: discarded ICDs after validation {''}\n",
      "2022-10-18 10:21:40.228 | DEBUG    | src.utils.dataframe_utils:_validate_icd_codes:56 - row 9: discarded ICDs after validation {''}\n",
      "2022-10-18 10:21:40.229 | DEBUG    | src.utils.dataframe_utils:_validate_icd_codes:56 - row 10: discarded ICDs after validation {''}\n",
      "2022-10-18 10:21:40.229 | DEBUG    | src.utils.dataframe_utils:_validate_icd_codes:56 - row 11: discarded ICDs after validation {''}\n",
      "2022-10-18 10:21:40.231 | DEBUG    | src.utils.dataframe_utils:_validate_icd_codes:56 - row 12: discarded ICDs after validation {''}\n",
      "2022-10-18 10:21:40.231 | DEBUG    | src.utils.dataframe_utils:_validate_icd_codes:56 - row 13: discarded ICDs after validation {''}\n",
      "2022-10-18 10:21:40.233 | DEBUG    | src.utils.dataframe_utils:_validate_chop_codes:94 - row 1: discarded duplicated and invalid CHOP entries after validation {'948x40::20170103', '99b713::20161225'}\n",
      "2022-10-18 10:21:40.234 | DEBUG    | src.utils.dataframe_utils:_validate_chop_codes:94 - row 2: discarded duplicated and invalid CHOP entries after validation {'004b1a:L:20170210'}\n",
      "2022-10-18 10:21:40.235 | DEBUG    | src.utils.dataframe_utils:_validate_chop_codes:94 - row 3: discarded duplicated and invalid CHOP entries after validation {'948x40::20170519', '81525b:R:20170518'}\n",
      "2022-10-18 10:21:40.235 | DEBUG    | src.utils.dataframe_utils:_validate_chop_codes:94 - row 4: discarded duplicated and invalid CHOP entries after validation {'403x29:R:20170621'}\n",
      "2022-10-18 10:21:40.236 | DEBUG    | src.utils.dataframe_utils:_validate_chop_codes:94 - row 5: discarded duplicated and invalid CHOP entries after validation {''}\n",
      "2022-10-18 10:21:40.236 | DEBUG    | src.utils.dataframe_utils:_validate_chop_codes:94 - row 6: discarded duplicated and invalid CHOP entries after validation {''}\n",
      "2022-10-18 10:21:40.237 | DEBUG    | src.utils.dataframe_utils:_validate_chop_codes:94 - row 7: discarded duplicated and invalid CHOP entries after validation {''}\n",
      "2022-10-18 10:21:40.237 | DEBUG    | src.utils.dataframe_utils:_validate_chop_codes:94 - row 8: discarded duplicated and invalid CHOP entries after validation {''}\n",
      "2022-10-18 10:21:40.238 | DEBUG    | src.utils.dataframe_utils:_validate_chop_codes:94 - row 9: discarded duplicated and invalid CHOP entries after validation {''}\n",
      "2022-10-18 10:21:40.239 | DEBUG    | src.utils.dataframe_utils:_validate_chop_codes:94 - row 10: discarded duplicated and invalid CHOP entries after validation {''}\n",
      "2022-10-18 10:21:40.239 | DEBUG    | src.utils.dataframe_utils:_validate_chop_codes:94 - row 11: discarded duplicated and invalid CHOP entries after validation {''}\n",
      "2022-10-18 10:21:40.240 | DEBUG    | src.utils.dataframe_utils:_validate_chop_codes:94 - row 12: discarded duplicated and invalid CHOP entries after validation {''}\n",
      "2022-10-18 10:21:40.241 | DEBUG    | src.utils.dataframe_utils:_validate_chop_codes:94 - row 13: discarded duplicated and invalid CHOP entries after validation {'99b712::20170705', '948x40::20170710'}\n",
      "2022-10-18 10:21:40.242 | DEBUG    | src.utils.dataframe_utils:_validate_chop_codes:94 - row 0: discarded duplicated and invalid CHOP entries after validation {'009031::20170106'}\n",
      "2022-10-18 10:21:40.243 | DEBUG    | src.utils.dataframe_utils:_validate_chop_codes:94 - row 1: discarded duplicated and invalid CHOP entries after validation {'948X40::20170103', '99B713::20161225'}\n",
      "2022-10-18 10:21:40.244 | DEBUG    | src.utils.dataframe_utils:_validate_chop_codes:94 - row 2: discarded duplicated and invalid CHOP entries after validation {'004B1A:L:20170210'}\n",
      "2022-10-18 10:21:40.244 | DEBUG    | src.utils.dataframe_utils:_validate_chop_codes:94 - row 3: discarded duplicated and invalid CHOP entries after validation {'81525B:R:20170518', '948X40::20170519'}\n",
      "2022-10-18 10:21:40.245 | DEBUG    | src.utils.dataframe_utils:_validate_chop_codes:94 - row 4: discarded duplicated and invalid CHOP entries after validation {'403X29:R:20170621'}\n",
      "2022-10-18 10:21:40.246 | DEBUG    | src.utils.dataframe_utils:_validate_chop_codes:94 - row 5: discarded duplicated and invalid CHOP entries after validation {''}\n",
      "2022-10-18 10:21:40.247 | DEBUG    | src.utils.dataframe_utils:_validate_chop_codes:94 - row 6: discarded duplicated and invalid CHOP entries after validation {''}\n",
      "2022-10-18 10:21:40.247 | DEBUG    | src.utils.dataframe_utils:_validate_chop_codes:94 - row 7: discarded duplicated and invalid CHOP entries after validation {''}\n",
      "2022-10-18 10:21:40.248 | DEBUG    | src.utils.dataframe_utils:_validate_chop_codes:94 - row 8: discarded duplicated and invalid CHOP entries after validation {''}\n",
      "2022-10-18 10:21:40.249 | DEBUG    | src.utils.dataframe_utils:_validate_chop_codes:94 - row 9: discarded duplicated and invalid CHOP entries after validation {''}\n",
      "2022-10-18 10:21:40.249 | DEBUG    | src.utils.dataframe_utils:_validate_chop_codes:94 - row 10: discarded duplicated and invalid CHOP entries after validation {''}\n",
      "2022-10-18 10:21:40.250 | DEBUG    | src.utils.dataframe_utils:_validate_chop_codes:94 - row 11: discarded duplicated and invalid CHOP entries after validation {''}\n",
      "2022-10-18 10:21:40.250 | DEBUG    | src.utils.dataframe_utils:_validate_chop_codes:94 - row 12: discarded duplicated and invalid CHOP entries after validation {''}\n",
      "2022-10-18 10:21:40.251 | DEBUG    | src.utils.dataframe_utils:_validate_chop_codes:94 - row 13: discarded duplicated and invalid CHOP entries after validation {'99B712::20170705', '948X40::20170710'}\n"
     ]
    },
    {
     "name": "stdout",
     "output_type": "stream",
     "text": [
      "Read 14 cases for Hirslanden Aarau 2017\n",
      "TYPES:\n",
      "case_id             string\n",
      "patient_id          string\n",
      "gender              string\n",
      "age_years            int64\n",
      "duration_of_stay     int64\n",
      "pccl                 int64\n",
      "drg                 string\n",
      "old_pd              string\n",
      "new_pd              string\n",
      "bfs_code            string\n",
      "added_icds          string\n",
      "removed_icds        string\n",
      "added_chops         string\n",
      "removed_chops       string\n",
      "dtype: object\n"
     ]
    }
   ],
   "source": [
    "cols_to_rename = dict(COLUMNS_TO_RENAME)\n",
    "# Replace 'admno' with 'fall nummer'\n",
    "cols_to_rename.pop('admno')\n",
    "cols_to_rename['fall nummer'] = CASE_ID_COL\n",
    "\n",
    "df_revised_case_d2d = normalize(file_info, 0)"
   ]
  },
  {
   "cell_type": "code",
   "execution_count": 4,
   "id": "6c589452",
   "metadata": {
    "collapsed": false,
    "jupyter": {
     "outputs_hidden": false
    },
    "pycharm": {
     "name": "#%%\n"
    }
   },
   "outputs": [
    {
     "data": {
      "text/html": [
       "<div>\n",
       "<style scoped>\n",
       "    .dataframe tbody tr th:only-of-type {\n",
       "        vertical-align: middle;\n",
       "    }\n",
       "\n",
       "    .dataframe tbody tr th {\n",
       "        vertical-align: top;\n",
       "    }\n",
       "\n",
       "    .dataframe thead th {\n",
       "        text-align: right;\n",
       "    }\n",
       "</style>\n",
       "<table border=\"1\" class=\"dataframe\">\n",
       "  <thead>\n",
       "    <tr style=\"text-align: right;\">\n",
       "      <th></th>\n",
       "      <th>case_id</th>\n",
       "      <th>patient_id</th>\n",
       "      <th>gender</th>\n",
       "      <th>age_years</th>\n",
       "      <th>duration_of_stay</th>\n",
       "      <th>pccl</th>\n",
       "      <th>drg</th>\n",
       "      <th>old_pd</th>\n",
       "      <th>new_pd</th>\n",
       "      <th>bfs_code</th>\n",
       "      <th>added_icds</th>\n",
       "      <th>removed_icds</th>\n",
       "      <th>added_chops</th>\n",
       "      <th>removed_chops</th>\n",
       "    </tr>\n",
       "  </thead>\n",
       "  <tbody>\n",
       "    <tr>\n",
       "      <th>0</th>\n",
       "      <td>41206174</td>\n",
       "      <td>1176423</td>\n",
       "      <td>W</td>\n",
       "      <td>72</td>\n",
       "      <td>5</td>\n",
       "      <td>3</td>\n",
       "      <td>I21C</td>\n",
       "      <td>T840</td>\n",
       "      <td>T840</td>\n",
       "      <td>M200</td>\n",
       "      <td>[E1140]</td>\n",
       "      <td>[]</td>\n",
       "      <td>[80051D, 815255]</td>\n",
       "      <td>[]</td>\n",
       "    </tr>\n",
       "    <tr>\n",
       "      <th>1</th>\n",
       "      <td>41230776</td>\n",
       "      <td>1659346</td>\n",
       "      <td>W</td>\n",
       "      <td>67</td>\n",
       "      <td>19</td>\n",
       "      <td>3</td>\n",
       "      <td>B72C</td>\n",
       "      <td>G001</td>\n",
       "      <td>G001</td>\n",
       "      <td>M100</td>\n",
       "      <td>[B370]</td>\n",
       "      <td>[]</td>\n",
       "      <td>[]</td>\n",
       "      <td>[]</td>\n",
       "    </tr>\n",
       "    <tr>\n",
       "      <th>2</th>\n",
       "      <td>41281042</td>\n",
       "      <td>1823347</td>\n",
       "      <td>M</td>\n",
       "      <td>67</td>\n",
       "      <td>6</td>\n",
       "      <td>3</td>\n",
       "      <td>F14B</td>\n",
       "      <td>E1150</td>\n",
       "      <td>E1150</td>\n",
       "      <td>M100</td>\n",
       "      <td>[F101]</td>\n",
       "      <td>[]</td>\n",
       "      <td>[]</td>\n",
       "      <td>[]</td>\n",
       "    </tr>\n",
       "    <tr>\n",
       "      <th>3</th>\n",
       "      <td>41386032</td>\n",
       "      <td>1051316</td>\n",
       "      <td>M</td>\n",
       "      <td>74</td>\n",
       "      <td>10</td>\n",
       "      <td>3</td>\n",
       "      <td>I08C</td>\n",
       "      <td>S7211</td>\n",
       "      <td>S7211</td>\n",
       "      <td>M200</td>\n",
       "      <td>[L8914]</td>\n",
       "      <td>[]</td>\n",
       "      <td>[]</td>\n",
       "      <td>[]</td>\n",
       "    </tr>\n",
       "    <tr>\n",
       "      <th>4</th>\n",
       "      <td>41418378</td>\n",
       "      <td>22136564</td>\n",
       "      <td>M</td>\n",
       "      <td>86</td>\n",
       "      <td>8</td>\n",
       "      <td>3</td>\n",
       "      <td>G18B</td>\n",
       "      <td>C182</td>\n",
       "      <td>C182</td>\n",
       "      <td>M200</td>\n",
       "      <td>[E1191]</td>\n",
       "      <td>[E1190]</td>\n",
       "      <td>[]</td>\n",
       "      <td>[]</td>\n",
       "    </tr>\n",
       "    <tr>\n",
       "      <th>5</th>\n",
       "      <td>41247420</td>\n",
       "      <td>1251372</td>\n",
       "      <td>W</td>\n",
       "      <td>63</td>\n",
       "      <td>8</td>\n",
       "      <td>3</td>\n",
       "      <td>I09D</td>\n",
       "      <td>M4216</td>\n",
       "      <td>M4216</td>\n",
       "      <td>M200</td>\n",
       "      <td>[M4196]</td>\n",
       "      <td>[]</td>\n",
       "      <td>[]</td>\n",
       "      <td>[]</td>\n",
       "    </tr>\n",
       "    <tr>\n",
       "      <th>6</th>\n",
       "      <td>41477047</td>\n",
       "      <td>1536048</td>\n",
       "      <td>W</td>\n",
       "      <td>74</td>\n",
       "      <td>6</td>\n",
       "      <td>3</td>\n",
       "      <td>I66B</td>\n",
       "      <td>M315</td>\n",
       "      <td>M315</td>\n",
       "      <td>M100</td>\n",
       "      <td>[K3182]</td>\n",
       "      <td>[K5581]</td>\n",
       "      <td>[]</td>\n",
       "      <td>[]</td>\n",
       "    </tr>\n",
       "    <tr>\n",
       "      <th>7</th>\n",
       "      <td>0041280551</td>\n",
       "      <td>0022114393</td>\n",
       "      <td>W</td>\n",
       "      <td>84</td>\n",
       "      <td>7</td>\n",
       "      <td>3</td>\n",
       "      <td>F62C</td>\n",
       "      <td>I5012</td>\n",
       "      <td>I5012</td>\n",
       "      <td>M100</td>\n",
       "      <td>[F023, F338, F051]</td>\n",
       "      <td>[F03, F328]</td>\n",
       "      <td>[]</td>\n",
       "      <td>[]</td>\n",
       "    </tr>\n",
       "    <tr>\n",
       "      <th>8</th>\n",
       "      <td>0041457913</td>\n",
       "      <td>0001193700</td>\n",
       "      <td>W</td>\n",
       "      <td>92</td>\n",
       "      <td>5</td>\n",
       "      <td>3</td>\n",
       "      <td>E71B</td>\n",
       "      <td>C341</td>\n",
       "      <td>C341</td>\n",
       "      <td>M100</td>\n",
       "      <td>[R15]</td>\n",
       "      <td>[]</td>\n",
       "      <td>[]</td>\n",
       "      <td>[]</td>\n",
       "    </tr>\n",
       "    <tr>\n",
       "      <th>9</th>\n",
       "      <td>0041523346</td>\n",
       "      <td>0002096726</td>\n",
       "      <td>W</td>\n",
       "      <td>77</td>\n",
       "      <td>9</td>\n",
       "      <td>3</td>\n",
       "      <td>L60D</td>\n",
       "      <td>N1783</td>\n",
       "      <td>N1783</td>\n",
       "      <td>M100</td>\n",
       "      <td>[A099]</td>\n",
       "      <td>[]</td>\n",
       "      <td>[]</td>\n",
       "      <td>[]</td>\n",
       "    </tr>\n",
       "    <tr>\n",
       "      <th>10</th>\n",
       "      <td>0041282182</td>\n",
       "      <td>0011052170</td>\n",
       "      <td>W</td>\n",
       "      <td>67</td>\n",
       "      <td>7</td>\n",
       "      <td>3</td>\n",
       "      <td>F35C</td>\n",
       "      <td>I313</td>\n",
       "      <td>I313</td>\n",
       "      <td>M200</td>\n",
       "      <td>[J9580]</td>\n",
       "      <td>[]</td>\n",
       "      <td>[]</td>\n",
       "      <td>[]</td>\n",
       "    </tr>\n",
       "    <tr>\n",
       "      <th>11</th>\n",
       "      <td>0041360177</td>\n",
       "      <td>0022005957</td>\n",
       "      <td>M</td>\n",
       "      <td>67</td>\n",
       "      <td>7</td>\n",
       "      <td>3</td>\n",
       "      <td>F35C</td>\n",
       "      <td>I313</td>\n",
       "      <td>I313</td>\n",
       "      <td>M200</td>\n",
       "      <td>[J91]</td>\n",
       "      <td>[]</td>\n",
       "      <td>[]</td>\n",
       "      <td>[]</td>\n",
       "    </tr>\n",
       "    <tr>\n",
       "      <th>12</th>\n",
       "      <td>0041588330</td>\n",
       "      <td>0022148117</td>\n",
       "      <td>W</td>\n",
       "      <td>70</td>\n",
       "      <td>14</td>\n",
       "      <td>3</td>\n",
       "      <td>L10B</td>\n",
       "      <td>C670</td>\n",
       "      <td>C670</td>\n",
       "      <td>M200</td>\n",
       "      <td>[A099]</td>\n",
       "      <td>[]</td>\n",
       "      <td>[]</td>\n",
       "      <td>[]</td>\n",
       "    </tr>\n",
       "    <tr>\n",
       "      <th>13</th>\n",
       "      <td>0041440505</td>\n",
       "      <td>001910023</td>\n",
       "      <td>M</td>\n",
       "      <td>72</td>\n",
       "      <td>9</td>\n",
       "      <td>3</td>\n",
       "      <td>F52B</td>\n",
       "      <td>I210</td>\n",
       "      <td>I210</td>\n",
       "      <td>M100</td>\n",
       "      <td>[I513]</td>\n",
       "      <td>[]</td>\n",
       "      <td>[]</td>\n",
       "      <td>[]</td>\n",
       "    </tr>\n",
       "  </tbody>\n",
       "</table>\n",
       "</div>"
      ],
      "text/plain": [
       "       case_id  patient_id gender  age_years  duration_of_stay  pccl   drg  \\\n",
       "0     41206174     1176423      W         72                 5     3  I21C   \n",
       "1     41230776     1659346      W         67                19     3  B72C   \n",
       "2     41281042     1823347      M         67                 6     3  F14B   \n",
       "3     41386032     1051316      M         74                10     3  I08C   \n",
       "4     41418378    22136564      M         86                 8     3  G18B   \n",
       "5     41247420     1251372      W         63                 8     3  I09D   \n",
       "6     41477047     1536048      W         74                 6     3  I66B   \n",
       "7   0041280551  0022114393      W         84                 7     3  F62C   \n",
       "8   0041457913  0001193700      W         92                 5     3  E71B   \n",
       "9   0041523346  0002096726      W         77                 9     3  L60D   \n",
       "10  0041282182  0011052170      W         67                 7     3  F35C   \n",
       "11  0041360177  0022005957      M         67                 7     3  F35C   \n",
       "12  0041588330  0022148117      W         70                14     3  L10B   \n",
       "13  0041440505   001910023      M         72                 9     3  F52B   \n",
       "\n",
       "   old_pd new_pd bfs_code          added_icds removed_icds       added_chops  \\\n",
       "0    T840   T840     M200             [E1140]           []  [80051D, 815255]   \n",
       "1    G001   G001     M100              [B370]           []                []   \n",
       "2   E1150  E1150     M100              [F101]           []                []   \n",
       "3   S7211  S7211     M200             [L8914]           []                []   \n",
       "4    C182   C182     M200             [E1191]      [E1190]                []   \n",
       "5   M4216  M4216     M200             [M4196]           []                []   \n",
       "6    M315   M315     M100             [K3182]      [K5581]                []   \n",
       "7   I5012  I5012     M100  [F023, F338, F051]  [F03, F328]                []   \n",
       "8    C341   C341     M100               [R15]           []                []   \n",
       "9   N1783  N1783     M100              [A099]           []                []   \n",
       "10   I313   I313     M200             [J9580]           []                []   \n",
       "11   I313   I313     M200               [J91]           []                []   \n",
       "12   C670   C670     M200              [A099]           []                []   \n",
       "13   I210   I210     M100              [I513]           []                []   \n",
       "\n",
       "   removed_chops  \n",
       "0             []  \n",
       "1             []  \n",
       "2             []  \n",
       "3             []  \n",
       "4             []  \n",
       "5             []  \n",
       "6             []  \n",
       "7             []  \n",
       "8             []  \n",
       "9             []  \n",
       "10            []  \n",
       "11            []  \n",
       "12            []  \n",
       "13            []  "
      ]
     },
     "execution_count": 4,
     "metadata": {},
     "output_type": "execute_result"
    }
   ],
   "source": [
    "df_revised_case_d2d"
   ]
  },
  {
   "cell_type": "markdown",
   "id": "a6796573",
   "metadata": {
    "pycharm": {
     "name": "#%% md\n"
    },
    "tags": []
   },
   "source": [
    "# Match revised DtoD data with the bfs data from the database\n"
   ]
  },
  {
   "cell_type": "code",
   "execution_count": 5,
   "id": "42113e93",
   "metadata": {
    "collapsed": false,
    "jupyter": {
     "outputs_hidden": false
    },
    "pycharm": {
     "name": "#%%\n"
    }
   },
   "outputs": [
    {
     "data": {
      "text/plain": [
       "array(['41206174', '41230776', '41281042', '41386032', '41418378',\n",
       "       '41247420', '41477047', '0041280551', '0041457913', '0041523346',\n",
       "       '0041282182', '0041360177', '0041588330', '0041440505'],\n",
       "      dtype=object)"
      ]
     },
     "execution_count": 5,
     "metadata": {},
     "output_type": "execute_result"
    }
   ],
   "source": [
    "# get the case_id from revised_case\n",
    "\n",
    "revised_case_id = df_revised_case_d2d['case_id'].values\n",
    "revised_case_id"
   ]
  },
  {
   "cell_type": "code",
   "execution_count": 6,
   "id": "db3c4ed2-14ca-40ca-8cc3-c0e3e0ffa0af",
   "metadata": {},
   "outputs": [],
   "source": [
    "revised_case_id_stripped = [case_id.lstrip('0') for case_id in revised_case_id]"
   ]
  },
  {
   "cell_type": "markdown",
   "id": "43f22f0e-0ab1-45b1-9a8c-dfc1ff70359b",
   "metadata": {
    "jupyter": {
     "outputs_hidden": false
    },
    "pycharm": {
     "name": "#%%\n"
    }
   },
   "source": [
    "### Check if there are duplicated case_ids in the revised cases after stripping the 0 in front, if yes, delete duplicated cases"
   ]
  },
  {
   "cell_type": "code",
   "execution_count": 7,
   "id": "275f1f3f-f653-496c-99a3-176dec9b150c",
   "metadata": {},
   "outputs": [
    {
     "name": "stdout",
     "output_type": "stream",
     "text": [
      "There are no duplicated case_ids in the revised cases.\n"
     ]
    }
   ],
   "source": [
    "\n",
    "revised_case_id_stripped_set = set(revised_case_id_stripped)\n",
    "if len(revised_case_id_stripped) > len(revised_case_id_stripped_set):\n",
    "    print('There are duplicated case_ids in the revised cases.' )\n",
    "else:\n",
    "    print('There are no duplicated case_ids in the revised cases.' )"
   ]
  },
  {
   "cell_type": "code",
   "execution_count": 8,
   "id": "9ddb9c40",
   "metadata": {
    "collapsed": false,
    "jupyter": {
     "outputs_hidden": false
    },
    "pycharm": {
     "name": "#%%\n"
    }
   },
   "outputs": [
    {
     "data": {
      "text/html": [
       "<div>\n",
       "<style scoped>\n",
       "    .dataframe tbody tr th:only-of-type {\n",
       "        vertical-align: middle;\n",
       "    }\n",
       "\n",
       "    .dataframe tbody tr th {\n",
       "        vertical-align: top;\n",
       "    }\n",
       "\n",
       "    .dataframe thead th {\n",
       "        text-align: right;\n",
       "    }\n",
       "</style>\n",
       "<table border=\"1\" class=\"dataframe\">\n",
       "  <thead>\n",
       "    <tr style=\"text-align: right;\">\n",
       "      <th></th>\n",
       "      <th>drg_cost_weight</th>\n",
       "      <th>aimedic_id</th>\n",
       "      <th>hospital_id</th>\n",
       "      <th>case_id</th>\n",
       "      <th>patient_id</th>\n",
       "      <th>age_years</th>\n",
       "      <th>age_days</th>\n",
       "      <th>gender</th>\n",
       "      <th>duration_of_stay</th>\n",
       "      <th>clinic_id</th>\n",
       "      <th>ventilation_hours</th>\n",
       "      <th>admission_weight</th>\n",
       "      <th>gestation_age</th>\n",
       "      <th>admission_date</th>\n",
       "      <th>admission_type</th>\n",
       "      <th>discharge_date</th>\n",
       "      <th>discharge_type</th>\n",
       "      <th>drg</th>\n",
       "      <th>adrg</th>\n",
       "      <th>pccl</th>\n",
       "    </tr>\n",
       "  </thead>\n",
       "  <tbody>\n",
       "  </tbody>\n",
       "</table>\n",
       "</div>"
      ],
      "text/plain": [
       "Empty DataFrame\n",
       "Columns: [drg_cost_weight, aimedic_id, hospital_id, case_id, patient_id, age_years, age_days, gender, duration_of_stay, clinic_id, ventilation_hours, admission_weight, gestation_age, admission_date, admission_type, discharge_date, discharge_type, drg, adrg, pccl]\n",
       "Index: []"
      ]
     },
     "execution_count": 8,
     "metadata": {},
     "output_type": "execute_result"
    }
   ],
   "source": [
    "# match to the database and retrieve data from database using revised\n",
    "revised_case_db = bfs_db.get_bfs_cases_by_ids_no_pad0(list(revised_case_id_stripped_set))\n",
    "revised_case_db.head()"
   ]
  },
  {
   "cell_type": "code",
   "execution_count": 9,
   "id": "72a903f0-1223-45d7-9990-3ea0f87b0572",
   "metadata": {},
   "outputs": [
    {
     "data": {
      "text/html": [
       "<div>\n",
       "<style scoped>\n",
       "    .dataframe tbody tr th:only-of-type {\n",
       "        vertical-align: middle;\n",
       "    }\n",
       "\n",
       "    .dataframe tbody tr th {\n",
       "        vertical-align: top;\n",
       "    }\n",
       "\n",
       "    .dataframe thead th {\n",
       "        text-align: right;\n",
       "    }\n",
       "</style>\n",
       "<table border=\"1\" class=\"dataframe\">\n",
       "  <thead>\n",
       "    <tr style=\"text-align: right;\">\n",
       "      <th></th>\n",
       "      <th>drg_cost_weight</th>\n",
       "      <th>aimedic_id</th>\n",
       "      <th>hospital_id</th>\n",
       "      <th>case_id</th>\n",
       "      <th>patient_id</th>\n",
       "      <th>age_years</th>\n",
       "      <th>age_days</th>\n",
       "      <th>gender</th>\n",
       "      <th>duration_of_stay</th>\n",
       "      <th>clinic_id</th>\n",
       "      <th>...</th>\n",
       "      <th>admission_weight</th>\n",
       "      <th>gestation_age</th>\n",
       "      <th>admission_date</th>\n",
       "      <th>admission_type</th>\n",
       "      <th>discharge_date</th>\n",
       "      <th>discharge_type</th>\n",
       "      <th>drg</th>\n",
       "      <th>adrg</th>\n",
       "      <th>pccl</th>\n",
       "      <th>case_id_stripped</th>\n",
       "    </tr>\n",
       "  </thead>\n",
       "  <tbody>\n",
       "  </tbody>\n",
       "</table>\n",
       "<p>0 rows × 21 columns</p>\n",
       "</div>"
      ],
      "text/plain": [
       "Empty DataFrame\n",
       "Columns: [drg_cost_weight, aimedic_id, hospital_id, case_id, patient_id, age_years, age_days, gender, duration_of_stay, clinic_id, ventilation_hours, admission_weight, gestation_age, admission_date, admission_type, discharge_date, discharge_type, drg, adrg, pccl, case_id_stripped]\n",
       "Index: []\n",
       "\n",
       "[0 rows x 21 columns]"
      ]
     },
     "execution_count": 9,
     "metadata": {},
     "output_type": "execute_result"
    }
   ],
   "source": [
    "# create a new column for case_id_stripped with '0' for joining to the revised cases\n",
    "revised_case_db['case_id_stripped']=  revised_case_db['case_id'].apply(lambda x: x.lstrip('0')) \n",
    "revised_case_db.head()"
   ]
  },
  {
   "cell_type": "code",
   "execution_count": 10,
   "id": "ce804ffb-50ab-42b8-a797-ce11e0e565a2",
   "metadata": {},
   "outputs": [
    {
     "name": "stdout",
     "output_type": "stream",
     "text": [
      "(0, 21)\n"
     ]
    }
   ],
   "source": [
    "# create a new column for case_id_stripped with '0' for joining to the revised cases\n",
    "revised_case_db['case_id_stripped']=  revised_case_db['case_id'].apply(lambda x: x.lstrip('0')) \n",
    "revised_case_db.head()\n",
    "print(revised_case_db.shape)"
   ]
  },
  {
   "cell_type": "code",
   "execution_count": 11,
   "id": "061e2554-4773-4b4b-bfb1-742aa3838ac4",
   "metadata": {},
   "outputs": [
    {
     "name": "stdout",
     "output_type": "stream",
     "text": [
      "(14, 15)\n"
     ]
    }
   ],
   "source": [
    "# create a new column for case_id_stripped with '0' for joining to cases from database\n",
    "\n",
    "df_revised_case_d2d['case_id_stripped']=  df_revised_case_d2d['case_id'].apply(lambda x: x.lstrip('0')) \n",
    "df_revised_case_d2d.head()\n",
    "print(df_revised_case_d2d.shape)"
   ]
  },
  {
   "cell_type": "code",
   "execution_count": 12,
   "id": "9099ca23-dd60-46a7-b08e-2e5491b03f25",
   "metadata": {},
   "outputs": [],
   "source": [
    "# delete duplicated cases in the revised cases\n",
    "\n",
    "df_revised_case_d2d['case_id_stripped'].apply(tuple) # make sure the drop_duplicates works\n",
    "\n",
    "df_revised_case_d2d.drop_duplicates(subset=['case_id_stripped'], keep='last', inplace=True)\n",
    "assert len(revised_case_id_stripped) == df_revised_case_d2d.shape[0] # make sure all cases are deleted\n"
   ]
  },
  {
   "cell_type": "markdown",
   "id": "9c1b3b1b-f89e-47d3-8c42-f3af8abffb0a",
   "metadata": {},
   "source": [
    "# Forming the normalized dataframe: Merge the selected revised case data with the matched from bfs data\n",
    "  If there are multiple cases were found based on case_id, patient_id will be used to match once more  "
   ]
  },
  {
   "cell_type": "code",
   "execution_count": 13,
   "id": "2bc9512c-8615-4f3d-b833-f8e7367be33a",
   "metadata": {},
   "outputs": [
    {
     "name": "stdout",
     "output_type": "stream",
     "text": [
      "(0, 28)\n"
     ]
    },
    {
     "data": {
      "text/html": [
       "<div>\n",
       "<style scoped>\n",
       "    .dataframe tbody tr th:only-of-type {\n",
       "        vertical-align: middle;\n",
       "    }\n",
       "\n",
       "    .dataframe tbody tr th {\n",
       "        vertical-align: top;\n",
       "    }\n",
       "\n",
       "    .dataframe thead th {\n",
       "        text-align: right;\n",
       "    }\n",
       "</style>\n",
       "<table border=\"1\" class=\"dataframe\">\n",
       "  <thead>\n",
       "    <tr style=\"text-align: right;\">\n",
       "      <th></th>\n",
       "      <th>drg_cost_weight</th>\n",
       "      <th>aimedic_id</th>\n",
       "      <th>hospital_id</th>\n",
       "      <th>case_id</th>\n",
       "      <th>patient_id</th>\n",
       "      <th>age_days</th>\n",
       "      <th>clinic_id</th>\n",
       "      <th>ventilation_hours</th>\n",
       "      <th>admission_weight</th>\n",
       "      <th>gestation_age</th>\n",
       "      <th>...</th>\n",
       "      <th>added_icds</th>\n",
       "      <th>removed_icds</th>\n",
       "      <th>added_chops</th>\n",
       "      <th>removed_chops</th>\n",
       "      <th>case_id_stripped</th>\n",
       "      <th>gender</th>\n",
       "      <th>age_years</th>\n",
       "      <th>duration_of_stay</th>\n",
       "      <th>pccl</th>\n",
       "      <th>drg</th>\n",
       "    </tr>\n",
       "  </thead>\n",
       "  <tbody>\n",
       "  </tbody>\n",
       "</table>\n",
       "<p>0 rows × 28 columns</p>\n",
       "</div>"
      ],
      "text/plain": [
       "Empty DataFrame\n",
       "Columns: [drg_cost_weight, aimedic_id, hospital_id, case_id, patient_id, age_days, clinic_id, ventilation_hours, admission_weight, gestation_age, admission_date, admission_type, discharge_date, discharge_type, adrg, old_pd, new_pd, bfs_code, added_icds, removed_icds, added_chops, removed_chops, case_id_stripped, gender, age_years, duration_of_stay, pccl, drg]\n",
       "Index: []\n",
       "\n",
       "[0 rows x 28 columns]"
      ]
     },
     "execution_count": 13,
     "metadata": {},
     "output_type": "execute_result"
    }
   ],
   "source": [
    "# Check if there are multiple cases were found based on case_id, patient_id will be used to match once more\n",
    "if revised_case_db.shape[0] <= len(revised_case_id):\n",
    "    revised_case_d2d_subset = df_revised_case_d2d[COL_SUBSET_FROM_REVISED_CASES + ['case_id_stripped', 'gender', 'age_years', 'duration_of_stay', 'pccl', 'drg']]\n",
    "    revised_case_normalized = revised_case_db.merge(revised_case_d2d_subset, how ='left', on=['case_id_stripped', 'gender', 'age_years', 'duration_of_stay', 'pccl', 'drg'])\n",
    "    num_match_case_id = revised_case_normalized.shape[0]\n",
    "else:\n",
    "    revised_case_d2d_subset = df_revised_case_d2d[COL_SUBSET_FROM_REVISED_CASES + ['case_id_stripped', 'patient_id', 'gender', 'age_years', 'duration_of_stay', 'pccl', 'drg']]\n",
    "    revised_case_normalized = revised_case_db.merge(revised_case_d2d_subset, how ='left', on=['case_id_stripped', 'gender', 'age_years', 'duration_of_stay', 'pccl', 'drg'])\n",
    "    num_match_case_patient_id = revised_case_normalized.shape[0]\n",
    "print(revised_case_normalized.shape)\n",
    "revised_case_normalized.head()"
   ]
  },
  {
   "cell_type": "code",
   "execution_count": 14,
   "id": "cdcd0e25",
   "metadata": {
    "collapsed": false,
    "jupyter": {
     "outputs_hidden": false
    },
    "pycharm": {
     "name": "#%%\n"
    }
   },
   "outputs": [
    {
     "data": {
      "text/html": [
       "<div>\n",
       "<style scoped>\n",
       "    .dataframe tbody tr th:only-of-type {\n",
       "        vertical-align: middle;\n",
       "    }\n",
       "\n",
       "    .dataframe tbody tr th {\n",
       "        vertical-align: top;\n",
       "    }\n",
       "\n",
       "    .dataframe thead th {\n",
       "        text-align: right;\n",
       "    }\n",
       "</style>\n",
       "<table border=\"1\" class=\"dataframe\">\n",
       "  <thead>\n",
       "    <tr style=\"text-align: right;\">\n",
       "      <th></th>\n",
       "      <th>aimedic_id</th>\n",
       "      <th>case_id</th>\n",
       "      <th>patient_id</th>\n",
       "      <th>gender</th>\n",
       "      <th>age_years</th>\n",
       "      <th>duration_of_stay</th>\n",
       "      <th>pccl</th>\n",
       "      <th>drg</th>\n",
       "      <th>old_pd</th>\n",
       "      <th>new_pd</th>\n",
       "      <th>bfs_code</th>\n",
       "      <th>added_icds</th>\n",
       "      <th>removed_icds</th>\n",
       "      <th>added_chops</th>\n",
       "      <th>removed_chops</th>\n",
       "    </tr>\n",
       "  </thead>\n",
       "  <tbody>\n",
       "  </tbody>\n",
       "</table>\n",
       "</div>"
      ],
      "text/plain": [
       "Empty DataFrame\n",
       "Columns: [aimedic_id, case_id, patient_id, gender, age_years, duration_of_stay, pccl, drg, old_pd, new_pd, bfs_code, added_icds, removed_icds, added_chops, removed_chops]\n",
       "Index: []"
      ]
     },
     "execution_count": 14,
     "metadata": {},
     "output_type": "execute_result"
    }
   ],
   "source": [
    "# Choose column to export to a csv file\n",
    "df_revised_case_normalized = revised_case_normalized[COLS_TO_OUTPUT]\n",
    "assert len(df_revised_case_normalized.columns) == len(COLS_TO_OUTPUT)\n",
    "df_revised_case_normalized.head()"
   ]
  },
  {
   "cell_type": "markdown",
   "id": "3fe44878",
   "metadata": {
    "pycharm": {
     "name": "#%% md\n"
    },
    "tags": []
   },
   "source": [
    "# Export the normalized revised cases with the neccessary columns to a csv file\n"
   ]
  },
  {
   "cell_type": "code",
   "execution_count": 15,
   "id": "9b283dda",
   "metadata": {
    "collapsed": false,
    "jupyter": {
     "outputs_hidden": false
    },
    "pycharm": {
     "name": "#%%\n"
    }
   },
   "outputs": [],
   "source": [
    "\n",
    "hospital = file_info.hospital_name_db.replace(' ', '_') # replace spaces with '_' for the file name\n",
    "hospital_year = f'{hospital}_{file_info.year}'\n",
    "\n",
    "output_folder = os.path.join(ROOT_DIR, 'normalized_revision_data/')\n",
    "\n",
    "if not os.path.exists(output_folder):\n",
    "    os.mkdir(output_folder)\n",
    "\n",
    "output_path = os.path.join(ROOT_DIR, 'normalized_revision_data/') + hospital_year + '.csv'\n",
    "\n",
    "df_revised_case_normalized.to_csv(output_path)\n"
   ]
  },
  {
   "cell_type": "markdown",
   "id": "7a0e6287",
   "metadata": {
    "pycharm": {
     "name": "#%% md\n"
    },
    "tags": []
   },
   "source": [
    "# Report\n",
    "\n",
    "A small summary of:\n",
    "- how many cases could be matched in the DB, and based on which columns\n",
    "- how many cases were “correctly” revised, in terms of upcoding (still need to do after the `grouper` is available for python)"
   ]
  },
  {
   "cell_type": "code",
   "execution_count": 16,
   "id": "39806225",
   "metadata": {
    "collapsed": false,
    "jupyter": {
     "outputs_hidden": false
    },
    "pycharm": {
     "name": "#%%\n"
    }
   },
   "outputs": [
    {
     "name": "stdout",
     "output_type": "stream",
     "text": [
      "Based on the columns \"case_id\", \"gender, \"age_years\", \"duration_of_stay\", \"pccl\", \"drg\", there are 0 out of 14 revised cases from DtoD that can be matched with the bfs database data for Hirslanden Aarau 2017\n"
     ]
    }
   ],
   "source": [
    "if revised_case_db.shape[0] <= len(revised_case_id):\n",
    "    print(f'Based on the columns \"case_id\", \"gender, \"age_years\", \"duration_of_stay\", \"pccl\", \"drg\", there are {num_match_case_id} out of {len(revised_case_id)} revised cases from DtoD that can be matched with the bfs database data for {file_info.hospital_name_db} {file_info.year}' )\n",
    "else:\n",
    "    print(f'Based on the columns \"case_id\" and \"Patient_id\", \"gender, \"age_years\", \"duration_of_stay\", \"pccl\", \"drg\", there are {num_match_case_patient_id} out of {len(revised_case_id)} revised cases from DtoD that can be matched with the bfs database data for {file_info.hospital_name_db} {file_info.year}' )"
   ]
  },
  {
   "cell_type": "code",
   "execution_count": 17,
   "id": "87a14b03",
   "metadata": {
    "collapsed": false,
    "jupyter": {
     "outputs_hidden": false
    },
    "pycharm": {
     "name": "#%%\n"
    }
   },
   "outputs": [
    {
     "name": "stdout",
     "output_type": "stream",
     "text": [
      "All the normalized revised cases are exported to here: /home/jovyan/work/src/revised_case_normalization/normalized_revision_data/Hirslanden_Aarau_2017.csv\n"
     ]
    }
   ],
   "source": [
    "print('All the normalized revised cases are exported to here: {}'.format(output_path))"
   ]
  },
  {
   "cell_type": "code",
   "execution_count": null,
   "id": "20e4b5fb-7d66-4ecf-90d7-f93e28579e13",
   "metadata": {},
   "outputs": [],
   "source": []
  },
  {
   "cell_type": "code",
   "execution_count": null,
   "id": "ebe832a6-ad1e-4e9f-8612-af3c07e76269",
   "metadata": {},
   "outputs": [],
   "source": []
  }
 ],
 "metadata": {
  "kernelspec": {
   "display_name": "Python 3 (ipykernel)",
   "language": "python",
   "name": "python3"
  },
  "language_info": {
   "codemirror_mode": {
    "name": "ipython",
    "version": 3
   },
   "file_extension": ".py",
   "mimetype": "text/x-python",
   "name": "python",
   "nbconvert_exporter": "python",
   "pygments_lexer": "ipython3",
   "version": "3.10.6"
  }
 },
 "nbformat": 4,
 "nbformat_minor": 5
}
