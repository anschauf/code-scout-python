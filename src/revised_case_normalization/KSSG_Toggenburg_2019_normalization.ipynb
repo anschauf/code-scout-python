{
 "cells": [
  {
   "cell_type": "raw",
   "id": "79034e7c-e3bb-4c7c-990a-2965e28678e2",
   "metadata": {
    "pycharm": {
     "name": "#%% md\n"
    }
   },
   "source": [
    "# Revised case normalization for KSSG Toggenburg 2019\n",
    "\n",
    "This jupyter notebook is used to normalize the revised case from DtoD.\n",
    "\n",
    "Before runing the notebook, raw_data folder need to added to the root directory\n",
    "\n",
    "The raw data folder can be find here: https://aimedic.sharepoint.com/:f:/s/dev/Ejx_A1dg8gtPumFknOWOh0oBi6ofx9hctYiq3c-0gH9vYA?e=UmcgrS\n",
    "\n",
    "Normalization:\n",
    "\n",
    "-  Convert the column names to the name used in the Database\n",
    "-  Delete cases which is empty in the follow columns VALIDATION_COLS: 'case_id', 'patient_id', 'gender', 'age_years', duration_of_stay',  'pccl',  'drg'\n",
    "- choose neccessary columns COLS_TO_SELECT: case_id, patient_id, gender, age_years, duration_of_stay, pccl, drg, pd, bfs_code, added_icds, removed_icds, added_chops, removed_chops\n",
    "- still need to do (TODO):    \n",
    "    -  Check CHOP upper/lowercase\n",
    "    -  Check whether the PD changed. If it did, new and old PD are stored together with added and removed ICDs, respectively\n",
    "    -  Pad case IDs with 0s\n",
    "    -  Write function to validate cases\n"
   ]
  },
  {
   "cell_type": "code",
   "execution_count": 1,
   "id": "2acf8333-0c08-4555-b245-1f378f5b9f1f",
   "metadata": {
    "pycharm": {
     "is_executing": true,
     "name": "#%%\n"
    }
   },
   "outputs": [
    {
     "name": "stderr",
     "output_type": "stream",
     "text": [
      "/home/jovyan/work/src/models/BfsCase.py:5: SAWarning: On class 'BfsCase', Column object 'drg_cost_weight' named directly multiple times, only one will be used: drg_cost_weight, effective_cost_weight. Consider using orm.synonym instead\n",
      "  class BfsCase(Base):\n"
     ]
    }
   ],
   "source": [
    "import pandas as pd\n",
    "import os\n",
    "from dataclasses import dataclass, field\n",
    "import sys\n",
    "sys.path.insert(0, '/home/jovyan/work')\n",
    "sys.path.insert(1, '/home/jovyan/work/src')\n",
    "sys.path.insert(2, '/home/jovyan/work/src/service')\n",
    "\n",
    "from service import bfs_cases_db_service as bfs_db\n",
    "\n",
    "from py.global_configs import *\n",
    "from py.normalize import normalize"
   ]
  },
  {
   "cell_type": "code",
   "execution_count": 2,
   "id": "7afa747d-1bf5-4644-9e9e-847a96e08dc2",
   "metadata": {},
   "outputs": [
    {
     "data": {
      "text/plain": [
       "dict_keys(['Hirslanden Salem 2017', 'Hirslanden Beau Site 2017', 'Hirslanden Linde 2017', 'Hirslanden Linde 2018', 'Hirslanden Salem 2018', 'Hirslanden Beau Site 2018', 'Winterthur 2017', 'Winterthur 2018', 'Winterthur 2019', 'Winterthur 2020', 'USZ 2018', 'USZ 2019', 'USZ 2019_30_04_2020', 'KSSG 2021', 'KSSG Linth 2019', 'KSSG Toggenburg 2019', 'KSSG SRRWS 2019'])"
      ]
     },
     "execution_count": 2,
     "metadata": {},
     "output_type": "execute_result"
    }
   ],
   "source": [
    "# check all the file name\n",
    "\n",
    "FILES_TO_ANALYZE.keys()\n"
   ]
  },
  {
   "cell_type": "code",
   "execution_count": 3,
   "id": "3745ce47-813d-4cbe-b275-25417714a5a6",
   "metadata": {},
   "outputs": [
    {
     "data": {
      "text/plain": [
       "FileInfo(path='/home/jovyan/work/src/revised_case_normalization/raw_data/Linth_Toggenburg_SRRWS_2019.xlsx', hospital_name_db='KSSG Toggenburg', year='2019', sheets=['Änderungen_Toggenburg_2019'])"
      ]
     },
     "execution_count": 3,
     "metadata": {},
     "output_type": "execute_result"
    }
   ],
   "source": [
    "file = FILES_TO_ANALYZE['KSSG Toggenburg 2019']\n",
    "file"
   ]
  },
  {
   "cell_type": "code",
   "execution_count": 4,
   "id": "9b6a51f2-b09d-4f13-8233-39e382bd56df",
   "metadata": {},
   "outputs": [
    {
     "name": "stdout",
     "output_type": "stream",
     "text": [
      "Read 28 cases for KSSG Toggenburg 2019\n",
      "TYPES:\n",
      "case_id             string\n",
      "patient_id          string\n",
      "gender              string\n",
      "age_years            int64\n",
      "duration_of_stay     int64\n",
      "pccl                 int64\n",
      "drg                 string\n",
      "pd                  string\n",
      "bfs_code            string\n",
      "added_icds          string\n",
      "removed_icds        string\n",
      "added_chops         string\n",
      "removed_chops       string\n",
      "dtype: object\n"
     ]
    }
   ],
   "source": [
    "\n",
    "df_revised_case_d2d = normalize(file, 0)"
   ]
  },
  {
   "cell_type": "code",
   "execution_count": 6,
   "id": "c5bdeaa9-6854-4f37-9560-4525d6b30682",
   "metadata": {},
   "outputs": [
    {
     "data": {
      "text/html": [
       "<div>\n",
       "<style scoped>\n",
       "    .dataframe tbody tr th:only-of-type {\n",
       "        vertical-align: middle;\n",
       "    }\n",
       "\n",
       "    .dataframe tbody tr th {\n",
       "        vertical-align: top;\n",
       "    }\n",
       "\n",
       "    .dataframe thead th {\n",
       "        text-align: right;\n",
       "    }\n",
       "</style>\n",
       "<table border=\"1\" class=\"dataframe\">\n",
       "  <thead>\n",
       "    <tr style=\"text-align: right;\">\n",
       "      <th></th>\n",
       "      <th>case_id</th>\n",
       "      <th>patient_id</th>\n",
       "      <th>gender</th>\n",
       "      <th>age_years</th>\n",
       "      <th>duration_of_stay</th>\n",
       "      <th>pccl</th>\n",
       "      <th>drg</th>\n",
       "      <th>pd</th>\n",
       "      <th>bfs_code</th>\n",
       "      <th>added_icds</th>\n",
       "      <th>removed_icds</th>\n",
       "      <th>added_chops</th>\n",
       "      <th>removed_chops</th>\n",
       "    </tr>\n",
       "  </thead>\n",
       "  <tbody>\n",
       "    <tr>\n",
       "      <th>0</th>\n",
       "      <td>4408298963</td>\n",
       "      <td>3FEA1A97AEC65660</td>\n",
       "      <td>W</td>\n",
       "      <td>78</td>\n",
       "      <td>6</td>\n",
       "      <td>2</td>\n",
       "      <td>I68E</td>\n",
       "      <td>S2206</td>\n",
       "      <td>M100</td>\n",
       "      <td>I652</td>\n",
       "      <td>&lt;NA&gt;</td>\n",
       "      <td>&lt;NA&gt;</td>\n",
       "      <td>&lt;NA&gt;</td>\n",
       "    </tr>\n",
       "    <tr>\n",
       "      <th>1</th>\n",
       "      <td>4450072153</td>\n",
       "      <td>81D216BDF5F6A401</td>\n",
       "      <td>M</td>\n",
       "      <td>78</td>\n",
       "      <td>9</td>\n",
       "      <td>3</td>\n",
       "      <td>G07Z</td>\n",
       "      <td>C20</td>\n",
       "      <td>M200</td>\n",
       "      <td>K921</td>\n",
       "      <td>&lt;NA&gt;</td>\n",
       "      <td>&lt;NA&gt;</td>\n",
       "      <td>&lt;NA&gt;</td>\n",
       "    </tr>\n",
       "    <tr>\n",
       "      <th>2</th>\n",
       "      <td>4408295683</td>\n",
       "      <td>63DA4A8CA1E4B8E4</td>\n",
       "      <td>M</td>\n",
       "      <td>69</td>\n",
       "      <td>15</td>\n",
       "      <td>3</td>\n",
       "      <td>F13C</td>\n",
       "      <td>E1175</td>\n",
       "      <td>M200</td>\n",
       "      <td>M8607</td>\n",
       "      <td>M8687</td>\n",
       "      <td>&lt;NA&gt;</td>\n",
       "      <td>&lt;NA&gt;</td>\n",
       "    </tr>\n",
       "    <tr>\n",
       "      <th>3</th>\n",
       "      <td>4408299930</td>\n",
       "      <td>F5DECA545F5CCA09</td>\n",
       "      <td>W</td>\n",
       "      <td>83</td>\n",
       "      <td>13</td>\n",
       "      <td>3</td>\n",
       "      <td>G17Z</td>\n",
       "      <td>K5732</td>\n",
       "      <td>M200</td>\n",
       "      <td>K5722,E870</td>\n",
       "      <td>K5732</td>\n",
       "      <td>&lt;NA&gt;</td>\n",
       "      <td>&lt;NA&gt;</td>\n",
       "    </tr>\n",
       "    <tr>\n",
       "      <th>4</th>\n",
       "      <td>4408313061</td>\n",
       "      <td>0B77F24272929EBB</td>\n",
       "      <td>M</td>\n",
       "      <td>59</td>\n",
       "      <td>9</td>\n",
       "      <td>3</td>\n",
       "      <td>H09C</td>\n",
       "      <td>K8510</td>\n",
       "      <td>M200</td>\n",
       "      <td>K8040</td>\n",
       "      <td>K819</td>\n",
       "      <td>&lt;NA&gt;</td>\n",
       "      <td>&lt;NA&gt;</td>\n",
       "    </tr>\n",
       "  </tbody>\n",
       "</table>\n",
       "</div>"
      ],
      "text/plain": [
       "      case_id        patient_id gender  age_years  duration_of_stay  pccl  \\\n",
       "0  4408298963  3FEA1A97AEC65660      W         78                 6     2   \n",
       "1  4450072153  81D216BDF5F6A401      M         78                 9     3   \n",
       "2  4408295683  63DA4A8CA1E4B8E4      M         69                15     3   \n",
       "3  4408299930  F5DECA545F5CCA09      W         83                13     3   \n",
       "4  4408313061  0B77F24272929EBB      M         59                 9     3   \n",
       "\n",
       "    drg     pd bfs_code  added_icds removed_icds added_chops removed_chops  \n",
       "0  I68E  S2206     M100        I652         <NA>        <NA>          <NA>  \n",
       "1  G07Z    C20     M200        K921         <NA>        <NA>          <NA>  \n",
       "2  F13C  E1175     M200       M8607        M8687        <NA>          <NA>  \n",
       "3  G17Z  K5732     M200  K5722,E870        K5732        <NA>          <NA>  \n",
       "4  H09C  K8510     M200       K8040         K819        <NA>          <NA>  "
      ]
     },
     "execution_count": 6,
     "metadata": {},
     "output_type": "execute_result"
    }
   ],
   "source": [
    "df_revised_case_d2d.head()"
   ]
  },
  {
   "cell_type": "markdown",
   "id": "4558e4f8",
   "metadata": {
    "pycharm": {
     "name": "#%% md\n"
    }
   },
   "source": [
    "# match to the database\n"
   ]
  },
  {
   "cell_type": "code",
   "execution_count": 7,
   "id": "ac5bc674-a6b4-447a-a630-33d25180f9c4",
   "metadata": {},
   "outputs": [
    {
     "data": {
      "text/plain": [
       "array(['4408298963', '4450072153', '4408295683', '4408299930',\n",
       "       '4408313061', '4408290225', '4408299655', '4408294065',\n",
       "       '4408296873', '4408300426', '4408309452', '4408313863',\n",
       "       '4450069712', '4408288172', '4408288632', '4408309949',\n",
       "       '4408308749', '4408291185', '4408300943', '4408305935',\n",
       "       '4450066769', '4408315954', '4408291872', '4408296278',\n",
       "       '4408301545', '4408308593', '4408295558', '4408312516'],\n",
       "      dtype=object)"
      ]
     },
     "execution_count": 7,
     "metadata": {},
     "output_type": "execute_result"
    }
   ],
   "source": [
    "# get the case_id from revised_case\n",
    "\n",
    "revised_case_id = df_revised_case_d2d['case_id'].values\n",
    "revised_case_id"
   ]
  },
  {
   "cell_type": "code",
   "execution_count": 8,
   "id": "01dcb99c-b01f-4808-b9c0-a450a2f3150e",
   "metadata": {},
   "outputs": [
    {
     "data": {
      "text/html": [
       "<div>\n",
       "<style scoped>\n",
       "    .dataframe tbody tr th:only-of-type {\n",
       "        vertical-align: middle;\n",
       "    }\n",
       "\n",
       "    .dataframe tbody tr th {\n",
       "        vertical-align: top;\n",
       "    }\n",
       "\n",
       "    .dataframe thead th {\n",
       "        text-align: right;\n",
       "    }\n",
       "</style>\n",
       "<table border=\"1\" class=\"dataframe\">\n",
       "  <thead>\n",
       "    <tr style=\"text-align: right;\">\n",
       "      <th></th>\n",
       "      <th>drg_cost_weight</th>\n",
       "      <th>aimedic_id</th>\n",
       "      <th>hospital_id</th>\n",
       "      <th>case_id</th>\n",
       "      <th>patient_id</th>\n",
       "      <th>age_years</th>\n",
       "      <th>age_days</th>\n",
       "      <th>gender</th>\n",
       "      <th>duration_of_stay</th>\n",
       "      <th>clinic_id</th>\n",
       "      <th>ventilation_hours</th>\n",
       "      <th>admission_weight</th>\n",
       "      <th>gestation_age</th>\n",
       "      <th>admission_date</th>\n",
       "      <th>admission_type</th>\n",
       "      <th>discharge_date</th>\n",
       "      <th>discharge_type</th>\n",
       "      <th>drg</th>\n",
       "      <th>adrg</th>\n",
       "      <th>pccl</th>\n",
       "    </tr>\n",
       "  </thead>\n",
       "  <tbody>\n",
       "    <tr>\n",
       "      <th>0</th>\n",
       "      <td>0.502</td>\n",
       "      <td>247092</td>\n",
       "      <td>9</td>\n",
       "      <td>4408288172</td>\n",
       "      <td>C783459AA87181DB</td>\n",
       "      <td>84</td>\n",
       "      <td>0</td>\n",
       "      <td>M</td>\n",
       "      <td>6</td>\n",
       "      <td>3</td>\n",
       "      <td>0</td>\n",
       "      <td>0</td>\n",
       "      <td>0</td>\n",
       "      <td>2019-01-09</td>\n",
       "      <td>01</td>\n",
       "      <td>2019-01-15</td>\n",
       "      <td>00</td>\n",
       "      <td>F72B</td>\n",
       "      <td>F72</td>\n",
       "      <td>2</td>\n",
       "    </tr>\n",
       "    <tr>\n",
       "      <th>1</th>\n",
       "      <td>0.448</td>\n",
       "      <td>246129</td>\n",
       "      <td>9</td>\n",
       "      <td>4408288632</td>\n",
       "      <td>FE6285F488AB1D73</td>\n",
       "      <td>78</td>\n",
       "      <td>0</td>\n",
       "      <td>M</td>\n",
       "      <td>6</td>\n",
       "      <td>3</td>\n",
       "      <td>0</td>\n",
       "      <td>0</td>\n",
       "      <td>0</td>\n",
       "      <td>2019-01-13</td>\n",
       "      <td>01</td>\n",
       "      <td>2019-01-19</td>\n",
       "      <td>00</td>\n",
       "      <td>G72C</td>\n",
       "      <td>G72</td>\n",
       "      <td>3</td>\n",
       "    </tr>\n",
       "    <tr>\n",
       "      <th>2</th>\n",
       "      <td>0.888</td>\n",
       "      <td>242149</td>\n",
       "      <td>9</td>\n",
       "      <td>4408290225</td>\n",
       "      <td>0FCD4AF3123CA5C9</td>\n",
       "      <td>61</td>\n",
       "      <td>0</td>\n",
       "      <td>M</td>\n",
       "      <td>5</td>\n",
       "      <td>3</td>\n",
       "      <td>0</td>\n",
       "      <td>0</td>\n",
       "      <td>0</td>\n",
       "      <td>2019-02-01</td>\n",
       "      <td>01</td>\n",
       "      <td>2019-02-06</td>\n",
       "      <td>00</td>\n",
       "      <td>F62C</td>\n",
       "      <td>F62</td>\n",
       "      <td>3</td>\n",
       "    </tr>\n",
       "    <tr>\n",
       "      <th>3</th>\n",
       "      <td>0.629</td>\n",
       "      <td>248082</td>\n",
       "      <td>9</td>\n",
       "      <td>4408291185</td>\n",
       "      <td>7273BEEA751CDBD5</td>\n",
       "      <td>88</td>\n",
       "      <td>0</td>\n",
       "      <td>W</td>\n",
       "      <td>8</td>\n",
       "      <td>3</td>\n",
       "      <td>0</td>\n",
       "      <td>0</td>\n",
       "      <td>0</td>\n",
       "      <td>2019-02-12</td>\n",
       "      <td>01</td>\n",
       "      <td>2019-02-20</td>\n",
       "      <td>00</td>\n",
       "      <td>E77F</td>\n",
       "      <td>E77</td>\n",
       "      <td>2</td>\n",
       "    </tr>\n",
       "    <tr>\n",
       "      <th>4</th>\n",
       "      <td>0.482</td>\n",
       "      <td>243033</td>\n",
       "      <td>9</td>\n",
       "      <td>4408291872</td>\n",
       "      <td>E3855FA45E63A196</td>\n",
       "      <td>59</td>\n",
       "      <td>0</td>\n",
       "      <td>M</td>\n",
       "      <td>2</td>\n",
       "      <td>3</td>\n",
       "      <td>0</td>\n",
       "      <td>0</td>\n",
       "      <td>0</td>\n",
       "      <td>2019-02-19</td>\n",
       "      <td>01</td>\n",
       "      <td>2019-02-21</td>\n",
       "      <td>00</td>\n",
       "      <td>E69C</td>\n",
       "      <td>E69</td>\n",
       "      <td>3</td>\n",
       "    </tr>\n",
       "  </tbody>\n",
       "</table>\n",
       "</div>"
      ],
      "text/plain": [
       "   drg_cost_weight  aimedic_id  hospital_id     case_id        patient_id  \\\n",
       "0            0.502      247092            9  4408288172  C783459AA87181DB   \n",
       "1            0.448      246129            9  4408288632  FE6285F488AB1D73   \n",
       "2            0.888      242149            9  4408290225  0FCD4AF3123CA5C9   \n",
       "3            0.629      248082            9  4408291185  7273BEEA751CDBD5   \n",
       "4            0.482      243033            9  4408291872  E3855FA45E63A196   \n",
       "\n",
       "   age_years  age_days gender  duration_of_stay  clinic_id  ventilation_hours  \\\n",
       "0         84         0      M                 6          3                  0   \n",
       "1         78         0      M                 6          3                  0   \n",
       "2         61         0      M                 5          3                  0   \n",
       "3         88         0      W                 8          3                  0   \n",
       "4         59         0      M                 2          3                  0   \n",
       "\n",
       "   admission_weight  gestation_age admission_date admission_type  \\\n",
       "0                 0              0     2019-01-09             01   \n",
       "1                 0              0     2019-01-13             01   \n",
       "2                 0              0     2019-02-01             01   \n",
       "3                 0              0     2019-02-12             01   \n",
       "4                 0              0     2019-02-19             01   \n",
       "\n",
       "  discharge_date discharge_type   drg adrg  pccl  \n",
       "0     2019-01-15             00  F72B  F72     2  \n",
       "1     2019-01-19             00  G72C  G72     3  \n",
       "2     2019-02-06             00  F62C  F62     3  \n",
       "3     2019-02-20             00  E77F  E77     2  \n",
       "4     2019-02-21             00  E69C  E69     3  "
      ]
     },
     "execution_count": 8,
     "metadata": {},
     "output_type": "execute_result"
    }
   ],
   "source": [
    "# match to the database\n",
    "revised_case_db = bfs_db.get_bfs_cases_by_ids(revised_case_id)\n",
    "revised_case_db.head()"
   ]
  },
  {
   "cell_type": "code",
   "execution_count": 9,
   "id": "9cbccb57-930a-4882-a585-37f70e7d3e94",
   "metadata": {},
   "outputs": [
    {
     "name": "stdout",
     "output_type": "stream",
     "text": [
      "There are 28 out of 28 revised cases from DtoD that are matched with the database for KSSG Toggenburg 2019\n"
     ]
    }
   ],
   "source": [
    "# \n",
    "print('There are {} out of {} revised cases from DtoD that are matched with the database for {} {}'.format(len(revised_case_db), len(revised_case_id), file.hospital_name_db, file.year))"
   ]
  },
  {
   "cell_type": "code",
   "execution_count": 10,
   "id": "265fbf94-6820-4b3b-8022-d699e44b35af",
   "metadata": {},
   "outputs": [],
   "source": [
    "# if we find the match cases, then we need to check if the case_id, gender, year....are match"
   ]
  }
 ],
 "metadata": {
  "kernelspec": {
   "display_name": "Python 3 (ipykernel)",
   "language": "python",
   "name": "python3"
  },
  "language_info": {
   "codemirror_mode": {
    "name": "ipython",
    "version": 3
   },
   "file_extension": ".py",
   "mimetype": "text/x-python",
   "name": "python",
   "nbconvert_exporter": "python",
   "pygments_lexer": "ipython3",
   "version": "3.10.6"
  }
 },
 "nbformat": 4,
 "nbformat_minor": 5
}
