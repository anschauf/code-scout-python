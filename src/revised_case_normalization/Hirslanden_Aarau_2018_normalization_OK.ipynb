{
 "cells": [
  {
   "cell_type": "markdown",
   "id": "a4e2885d",
   "metadata": {
    "tags": []
   },
   "source": [
    "# Revised case normalization for Hirslanden Aarau 2018\n",
    "\n",
    "Notes:\n",
    "\n",
    "- 17 of 17 revised DtoD cases were joined with the BFS cases from the DB.\n",
    "\n"
   ]
  },
  {
   "cell_type": "code",
   "execution_count": 1,
   "id": "d097a048",
   "metadata": {
    "collapsed": false,
    "jupyter": {
     "outputs_hidden": false
    }
   },
   "outputs": [
    {
     "ename": "ImportError",
     "evalue": "cannot import name 'get_primary_procedures_codes' from 'src.service.bfs_cases_db_service' (/home/jovyan/work/src/service/bfs_cases_db_service.py)",
     "output_type": "error",
     "traceback": [
      "\u001B[0;31m---------------------------------------------------------------------------\u001B[0m",
      "\u001B[0;31mImportError\u001B[0m                               Traceback (most recent call last)",
      "Cell \u001B[0;32mIn [1], line 14\u001B[0m\n\u001B[1;32m     12\u001B[0m \u001B[38;5;28;01mfrom\u001B[39;00m \u001B[38;5;21;01msrc\u001B[39;00m\u001B[38;5;21;01m.\u001B[39;00m\u001B[38;5;21;01mservice\u001B[39;00m \u001B[38;5;28;01mimport\u001B[39;00m bfs_cases_db_service \u001B[38;5;28;01mas\u001B[39;00m bfs_db\n\u001B[1;32m     13\u001B[0m \u001B[38;5;28;01mfrom\u001B[39;00m \u001B[38;5;21;01msrc\u001B[39;00m\u001B[38;5;21;01m.\u001B[39;00m\u001B[38;5;21;01mservice\u001B[39;00m\u001B[38;5;21;01m.\u001B[39;00m\u001B[38;5;21;01mbfs_cases_db_service\u001B[39;00m \u001B[38;5;28;01mimport\u001B[39;00m session, get_sociodemographics_for_hospital_year, get_earliest_revisions_for_aimedic_ids, get_codes, apply_revisions\n\u001B[0;32m---> 14\u001B[0m \u001B[38;5;28;01mfrom\u001B[39;00m \u001B[38;5;21;01msrc\u001B[39;00m\u001B[38;5;21;01m.\u001B[39;00m\u001B[38;5;21;01mrevised_case_normalization\u001B[39;00m\u001B[38;5;21;01m.\u001B[39;00m\u001B[38;5;21;01mpy\u001B[39;00m\u001B[38;5;21;01m.\u001B[39;00m\u001B[38;5;21;01mformat_for_grouper\u001B[39;00m \u001B[38;5;28;01mimport\u001B[39;00m format_for_grouper\n",
      "File \u001B[0;32m~/work/src/revised_case_normalization/py/format_for_grouper.py:4\u001B[0m\n\u001B[1;32m      2\u001B[0m \u001B[38;5;28;01mimport\u001B[39;00m \u001B[38;5;21;01mnumpy\u001B[39;00m \u001B[38;5;28;01mas\u001B[39;00m \u001B[38;5;21;01mnp\u001B[39;00m\n\u001B[1;32m      3\u001B[0m \u001B[38;5;28;01mfrom\u001B[39;00m \u001B[38;5;21;01msrc\u001B[39;00m\u001B[38;5;21;01m.\u001B[39;00m\u001B[38;5;21;01mrevised_case_normalization\u001B[39;00m\u001B[38;5;21;01m.\u001B[39;00m\u001B[38;5;21;01mpy\u001B[39;00m\u001B[38;5;21;01m.\u001B[39;00m\u001B[38;5;21;01mglobal_configs\u001B[39;00m \u001B[38;5;28;01mimport\u001B[39;00m \u001B[38;5;241m*\u001B[39m\n\u001B[0;32m----> 4\u001B[0m \u001B[38;5;28;01mfrom\u001B[39;00m \u001B[38;5;21;01msrc\u001B[39;00m\u001B[38;5;21;01m.\u001B[39;00m\u001B[38;5;21;01mservice\u001B[39;00m\u001B[38;5;21;01m.\u001B[39;00m\u001B[38;5;21;01mbfs_cases_db_service\u001B[39;00m \u001B[38;5;28;01mimport\u001B[39;00m get_earliest_revisions_for_aimedic_ids, get_codes, apply_revisions, get_primary_procedures_codes, get_primary_procedures_codes_side_date,  get_secondary_procedures_codes, get_secondary_procedures_codes_side_date\n\u001B[1;32m      6\u001B[0m \u001B[38;5;28;01mfrom\u001B[39;00m \u001B[38;5;21;01mloguru\u001B[39;00m \u001B[38;5;28;01mimport\u001B[39;00m logger\n\u001B[1;32m      9\u001B[0m \u001B[38;5;28;01mdef\u001B[39;00m \u001B[38;5;21mformat_for_grouper\u001B[39m(joined: pd\u001B[38;5;241m.\u001B[39mDataFrame) \u001B[38;5;241m-\u001B[39m\u001B[38;5;241m>\u001B[39m pd\u001B[38;5;241m.\u001B[39mDataFrame:\n",
      "\u001B[0;31mImportError\u001B[0m: cannot import name 'get_primary_procedures_codes' from 'src.service.bfs_cases_db_service' (/home/jovyan/work/src/service/bfs_cases_db_service.py)"
     ]
    }
   ],
   "source": [
    "import sys\n",
    "\n",
    "import pandas as pd\n",
    "import numpy as np\n",
    "\n",
    "from loguru import logger\n",
    "\n",
    "sys.path.insert(0, '/home/jovyan/work')\n",
    "\n",
    "from src.revised_case_normalization.py.global_configs import *\n",
    "from src.revised_case_normalization.py.normalize import normalize, remove_leading_zeros\n",
    "from src.service import bfs_cases_db_service as bfs_db\n",
    "from src.service.bfs_cases_db_service import session, get_sociodemographics_for_hospital_year, get_earliest_revisions_for_aimedic_ids, get_codes, apply_revisions\n",
    "from src.revised_case_normalization.py.format_for_grouper import format_for_grouper"
   ]
  },
  {
   "cell_type": "code",
   "execution_count": null,
   "id": "4710c532",
   "metadata": {
    "collapsed": false,
    "jupyter": {
     "outputs_hidden": false
    }
   },
   "outputs": [],
   "source": [
    "file_info = FileInfo(\n",
    "        os.path.join(ROOT_DIR, 'raw_data/HI_Aarau_Birshof_ST. Anna.xlsx'),\n",
    "        'Hirslanden Aarau',\n",
    "        '2018',\n",
    "        ['Aarau 2018'])\n",
    "\n",
    "print(file_info)"
   ]
  },
  {
   "cell_type": "code",
   "execution_count": null,
   "id": "8c8b27df",
   "metadata": {
    "collapsed": false,
    "jupyter": {
     "outputs_hidden": false
    }
   },
   "outputs": [],
   "source": [
    "df_revised_case_d2d = normalize(file_info, 0)\n"
   ]
  },
  {
   "cell_type": "code",
   "execution_count": null,
   "id": "6c589452",
   "metadata": {
    "collapsed": false,
    "jupyter": {
     "outputs_hidden": false
    }
   },
   "outputs": [],
   "source": [
    "df_revised_case_d2d.head()"
   ]
  },
  {
   "cell_type": "markdown",
   "id": "a6796573",
   "metadata": {
    "tags": []
   },
   "source": [
    "# Match revised DtoD data with the BfS data from the database"
   ]
  },
  {
   "cell_type": "code",
   "execution_count": null,
   "id": "65408537-cd4a-4b7c-a785-0db424378909",
   "metadata": {},
   "outputs": [],
   "source": [
    "cases_in_db = get_sociodemographics_for_hospital_year(file_info.hospital_name_db, int(file_info.year))\n",
    "cases_in_db[NORM_CASE_ID_COL] = cases_in_db[CASE_ID_COL].apply(remove_leading_zeros)\n",
    "print(cases_in_db.head())"
   ]
  },
  {
   "cell_type": "code",
   "execution_count": null,
   "id": "8362bdd0",
   "metadata": {
    "collapsed": false,
    "jupyter": {
     "outputs_hidden": false
    }
   },
   "outputs": [],
   "source": [
    "cols_to_join = list(VALIDATION_COLS)\n",
    "cols_to_join.remove(CASE_ID_COL)\n",
    "cols_to_join.append(NORM_CASE_ID_COL)\n",
    "\n",
    "cols_to_join.remove(PATIENT_ID_COL)\n",
    "\n",
    "# Merge cases in db with the revised cases\n",
    "\n",
    "joined = pd.merge(df_revised_case_d2d, cases_in_db,\n",
    "                  how='left',\n",
    "                  on=cols_to_join,\n",
    "                  suffixes=('', '_db'))\n",
    "\n",
    "joined"
   ]
  },
  {
   "cell_type": "code",
   "execution_count": null,
   "id": "a114f1c6-2ae9-40b2-8eea-b503686a6457",
   "metadata": {},
   "outputs": [],
   "source": [
    "# Print out how many rows could not be matched\n",
    "unmatched = joined[joined[AIMEDIC_ID_COL].isna()]\n",
    "num_unmatched = unmatched.shape[0]\n",
    "logger.info(f'{num_unmatched} rows could not be matched, given {sorted(cols_to_join)}')"
   ]
  },
  {
   "cell_type": "code",
   "execution_count": null,
   "id": "a85b9247-c1dc-4072-a1dd-7b61c8251eeb",
   "metadata": {},
   "outputs": [],
   "source": [
    "# Format joined dataset to the SwissDRG Batchgrouper 2017 Format \n",
    "\n",
    "grouper_input_data_string = format_for_grouper(joined)\n"
   ]
  },
  {
   "cell_type": "code",
   "execution_count": null,
   "id": "bade6ed7-d9d3-41fb-a082-d559c1467340",
   "metadata": {},
   "outputs": [],
   "source": [
    "import subprocess\n",
    "\n",
    "\n",
    "example_batch_line = \"\"\"0044007489;57;0;0|0;W;20190101;01;20190101;00;1;0;C20|Z432|N40|I440|I493;465110::20190101|4823::20190101|009A13::20190101;\"\"\"\n",
    "\n",
    "# add date to procedures\n",
    "# change ; with | at one spot\n",
    "test_df_line = \"\"\"17722;93;;;M;20180315;01;20180317;00;2;0;I7024|Z9588|N184|Z922|I743;395011::|397511::|395021::|397510::|0042::|004B18::|004B1A::|884911::|005599::|0046::|393012::;\"\"\"\n",
    "\n",
    "grouper_result = subprocess.check_output([\"java\",\n",
    "                                \"-cp\",\n",
    "                                \"/home/jovyan/work/resources/aimedic-grouper-assembly-0.0.0-SNAPSHOT.jar\",\n",
    "                                \"ch.aimedic.grouper.BatchGroupeOne\",\n",
    "                                grouper_input_data_string[6]\n",
    "                                #test_df_line,\n",
    "                                ]).decode(\"utf-8\")\n",
    "\n",
    "\n",
    "grouperResults = subprocess.check_output([\"java\",\n",
    "                                \"-cp\",\n",
    "                                \"/home/jovyan/work/resources/aimedic-grouper-assembly-0.0.0-SNAPSHOT.jar\",\n",
    "                                \"ch.aimedic.grouper.BatchGroupMany\",\n",
    "                                f'{grouper_input_data_string[1]}#{grouper_input_data_string[6]}#{grouper_input_data_string[16]}',\n",
    "                                \"#\"\n",
    "                                #test_df_line,\n",
    "                                ]).decode(\"utf-8\")\n",
    "\n",
    "print(grouper_result)"
   ]
  },
  {
   "cell_type": "code",
   "execution_count": null,
   "id": "cd21268f-7f2c-400d-8420-e0601b23772d",
   "metadata": {},
   "outputs": [],
   "source": [
    "# TODO:\n",
    "# - Add medication \n",
    "# - Add and compare CHOP Codes for sideness and procedure date"
   ]
  }
 ],
 "metadata": {
  "kernelspec": {
   "display_name": "Python 3 (ipykernel)",
   "language": "python",
   "name": "python3"
  },
  "language_info": {
   "codemirror_mode": {
    "name": "ipython",
    "version": 3
   },
   "file_extension": ".py",
   "mimetype": "text/x-python",
   "name": "python",
   "nbconvert_exporter": "python",
   "pygments_lexer": "ipython3",
   "version": "3.10.6"
  }
 },
 "nbformat": 4,
 "nbformat_minor": 5
}
