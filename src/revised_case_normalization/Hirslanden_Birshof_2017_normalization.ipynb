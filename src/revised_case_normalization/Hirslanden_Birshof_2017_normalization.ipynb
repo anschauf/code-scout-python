{
 "cells": [
  {
   "cell_type": "markdown",
   "id": "a4e2885d",
   "metadata": {
    "tags": []
   },
   "source": [
    "# Revised case normalization for Hirslanden Birshof 2017\n",
    "\n",
    "Notes:\n",
    "\n",
    "- 4 revised DtoD cases were joined with the BFS cases from the DB.\n",
    "\n"
   ]
  },
  {
   "cell_type": "code",
   "execution_count": 1,
   "id": "d097a048",
   "metadata": {
    "collapsed": false,
    "jupyter": {
     "outputs_hidden": false
    },
    "pycharm": {
     "is_executing": true
    }
   },
   "outputs": [],
   "source": [
    "import sys\n",
    "sys.path.insert(0, '/home/jovyan/work')\n",
    "\n",
    "from src.revised_case_normalization.notebook_functions.global_configs import *\n",
    "from src.revised_case_normalization.notebook_functions.normalize import normalize\n",
    "from src.revised_case_normalization.notebook_functions.revise import revise\n",
    "from src.revised_case_normalization.notebook_functions.group import group\n",
    "from src.revised_case_normalization.notebook_functions.update_db import update_db"
   ]
  },
  {
   "cell_type": "code",
   "execution_count": 2,
   "id": "4710c532",
   "metadata": {
    "collapsed": false,
    "jupyter": {
     "outputs_hidden": false
    }
   },
   "outputs": [
    {
     "name": "stdout",
     "output_type": "stream",
     "text": [
      "FileInfo(path='/home/jovyan/work/src/revised_case_normalization/raw_data/HI_Aarau_Birshof_ST. Anna.xlsx', hospital_name_db='Hirslanden Birshof', year='2017', sheet='Birshof_2017')\n"
     ]
    }
   ],
   "source": [
    "file_info = FileInfo(os.path.join(ROOT_DIR, 'raw_data/HI_Aarau_Birshof_ST. Anna.xlsx'),\n",
    "                     'Hirslanden Birshof', '2017', 'Birshof_2017')\n",
    "\n",
    "print(file_info)"
   ]
  },
  {
   "cell_type": "code",
   "execution_count": 3,
   "id": "8c8b27df",
   "metadata": {
    "collapsed": false,
    "jupyter": {
     "outputs_hidden": false
    }
   },
   "outputs": [
    {
     "name": "stderr",
     "output_type": "stream",
     "text": [
      "2022-11-10 12:02:04.760 | INFO     | src.revised_case_normalization.notebook_functions.normalize:normalize:35 - Read 4 cases for Hirslanden Birshof 2017\n",
      "2022-11-10 12:02:04.763 | INFO     | src.revised_case_normalization.notebook_functions.normalize:normalize:59 - TYPES:\n",
      "datum                                                string\n",
      "tranche                                              string\n",
      "case_id                                              object\n",
      "patient_id                                           object\n",
      "gender                                               string\n",
      "age_years                                             int64\n",
      "bfs_code                                             string\n",
      "duration_of_stay                                      int64\n",
      "pflegetage neu                                       string\n",
      "pccl                                                  int64\n",
      "pccl neu                                             string\n",
      "old_pd                                               string\n",
      "primary_diagnosis                                    string\n",
      "added_icds                                           string\n",
      "removed_icds                                         string\n",
      "added_chops                                          string\n",
      "removed_chops                                        string\n",
      "drg                                                  string\n",
      "drg neu                                              string\n",
      "cw alt                                               string\n",
      "cw neu                                               string\n",
      "cw-änderung                                          string\n",
      "cw änderung akzeptiert                               string\n",
      "kommentar dtod                                       string\n",
      "kodierer                                             string\n",
      "kommentar kodierung hirslanden                       string\n",
      "dtod gegenargumentation zu rückmeldung hirslanden    string\n",
      "ablehnung kasse                                      string\n",
      "case_id_norm                                         object\n",
      "dtype: object\n",
      "2022-11-10 12:02:04.768 | INFO     | src.utils.dataframe_utils:validate_icd_codes:68 - Validated ICD codes in 'added_icds' and stored them into 'added_icds': All rows contain valid codes\n",
      "2022-11-10 12:02:04.770 | INFO     | src.utils.dataframe_utils:validate_icd_codes:68 - Validated ICD codes in 'removed_icds' and stored them into 'removed_icds': All rows contain valid codes\n",
      "2022-11-10 12:02:04.772 | INFO     | src.utils.dataframe_utils:validate_chop_codes:106 - Validated CHOP codes in 'added_chops' and stored them into 'added_chops': All rows contain valid codes\n",
      "2022-11-10 12:02:04.773 | INFO     | src.utils.dataframe_utils:validate_chop_codes:106 - Validated CHOP codes in 'removed_chops' and stored them into 'removed_chops': All rows contain valid codes\n",
      "2022-11-10 12:02:04.774 | INFO     | src.utils.dataframe_utils:remove_duplicated_chops:32 - Removing duplicated CHOP codes due to different casing ...\n",
      "2022-11-10 12:02:04.777 | INFO     | src.utils.dataframe_utils:validate_pd_revised_sd:158 - Validated redundant PD info in 'added_icds'/'removed_icds': All rows contain valid codes\n",
      "2022-11-10 12:02:04.779 | SUCCESS  | src.revised_case_normalization.notebook_functions.normalize:normalize:106 - Completed validation\n"
     ]
    },
    {
     "data": {
      "text/html": [
       "<div>\n",
       "<style scoped>\n",
       "    .dataframe tbody tr th:only-of-type {\n",
       "        vertical-align: middle;\n",
       "    }\n",
       "\n",
       "    .dataframe tbody tr th {\n",
       "        vertical-align: top;\n",
       "    }\n",
       "\n",
       "    .dataframe thead th {\n",
       "        text-align: right;\n",
       "    }\n",
       "</style>\n",
       "<table border=\"1\" class=\"dataframe\">\n",
       "  <thead>\n",
       "    <tr style=\"text-align: right;\">\n",
       "      <th></th>\n",
       "      <th>case_id</th>\n",
       "      <th>patient_id</th>\n",
       "      <th>gender</th>\n",
       "      <th>age_years</th>\n",
       "      <th>duration_of_stay</th>\n",
       "      <th>case_id_norm</th>\n",
       "      <th>old_pd</th>\n",
       "      <th>primary_diagnosis</th>\n",
       "      <th>bfs_code</th>\n",
       "      <th>pccl</th>\n",
       "      <th>drg</th>\n",
       "      <th>added_icds</th>\n",
       "      <th>removed_icds</th>\n",
       "      <th>added_chops</th>\n",
       "      <th>removed_chops</th>\n",
       "    </tr>\n",
       "  </thead>\n",
       "  <tbody>\n",
       "    <tr>\n",
       "      <th>0</th>\n",
       "      <td>0041497128</td>\n",
       "      <td>610ECC6F4184EF0C</td>\n",
       "      <td>M</td>\n",
       "      <td>67</td>\n",
       "      <td>7</td>\n",
       "      <td>41497128</td>\n",
       "      <td>M4807</td>\n",
       "      <td>M4807</td>\n",
       "      <td>M200</td>\n",
       "      <td>3</td>\n",
       "      <td>I09D</td>\n",
       "      <td>[M4036, D62]</td>\n",
       "      <td>[]</td>\n",
       "      <td>[]</td>\n",
       "      <td>[009430::20171027, 009420::20171027]</td>\n",
       "    </tr>\n",
       "    <tr>\n",
       "      <th>1</th>\n",
       "      <td>0041319879</td>\n",
       "      <td>F76D75CD0067F6E4</td>\n",
       "      <td>W</td>\n",
       "      <td>72</td>\n",
       "      <td>5</td>\n",
       "      <td>41319879</td>\n",
       "      <td>M4726</td>\n",
       "      <td>M4726</td>\n",
       "      <td>M200</td>\n",
       "      <td>2</td>\n",
       "      <td>I09E</td>\n",
       "      <td>[L8915]</td>\n",
       "      <td>[]</td>\n",
       "      <td>[]</td>\n",
       "      <td>[]</td>\n",
       "    </tr>\n",
       "    <tr>\n",
       "      <th>2</th>\n",
       "      <td>0041332448</td>\n",
       "      <td>9BAAC9A58B5FB056</td>\n",
       "      <td>W</td>\n",
       "      <td>57</td>\n",
       "      <td>12</td>\n",
       "      <td>41332448</td>\n",
       "      <td>T845</td>\n",
       "      <td>T845</td>\n",
       "      <td>M200</td>\n",
       "      <td>3</td>\n",
       "      <td>I46C</td>\n",
       "      <td>[I8080]</td>\n",
       "      <td>[]</td>\n",
       "      <td>[]</td>\n",
       "      <td>[]</td>\n",
       "    </tr>\n",
       "    <tr>\n",
       "      <th>3</th>\n",
       "      <td>0041371186</td>\n",
       "      <td>AED552F02ADC590F</td>\n",
       "      <td>M</td>\n",
       "      <td>59</td>\n",
       "      <td>22</td>\n",
       "      <td>41371186</td>\n",
       "      <td>T845</td>\n",
       "      <td>T845</td>\n",
       "      <td>M200</td>\n",
       "      <td>3</td>\n",
       "      <td>I03B</td>\n",
       "      <td>[N182]</td>\n",
       "      <td>[]</td>\n",
       "      <td>[]</td>\n",
       "      <td>[5794::20170531]</td>\n",
       "    </tr>\n",
       "  </tbody>\n",
       "</table>\n",
       "</div>"
      ],
      "text/plain": [
       "      case_id        patient_id gender  age_years  duration_of_stay case_id_norm old_pd primary_diagnosis bfs_code  pccl   drg    added_icds removed_icds added_chops                         removed_chops\n",
       "0  0041497128  610ECC6F4184EF0C      M         67                 7     41497128  M4807             M4807     M200     3  I09D  [M4036, D62]           []          []  [009430::20171027, 009420::20171027]\n",
       "1  0041319879  F76D75CD0067F6E4      W         72                 5     41319879  M4726             M4726     M200     2  I09E       [L8915]           []          []                                    []\n",
       "2  0041332448  9BAAC9A58B5FB056      W         57                12     41332448   T845              T845     M200     3  I46C       [I8080]           []          []                                    []\n",
       "3  0041371186  AED552F02ADC590F      M         59                22     41371186   T845              T845     M200     3  I03B        [N182]           []          []                      [5794::20170531]"
      ]
     },
     "execution_count": 3,
     "metadata": {},
     "output_type": "execute_result"
    }
   ],
   "source": [
    "revised_cases_df = normalize(file_info)\n",
    "revised_cases_df"
   ]
  },
  {
   "cell_type": "markdown",
   "id": "a6796573",
   "metadata": {
    "tags": []
   },
   "source": [
    "# Match revised DtoD data with the BfS data from the database"
   ]
  },
  {
   "cell_type": "code",
   "execution_count": 4,
   "id": "65408537-cd4a-4b7c-a785-0db424378909",
   "metadata": {},
   "outputs": [
    {
     "name": "stderr",
     "output_type": "stream",
     "text": [
      "2022-11-10 12:02:05.933 | INFO     | src.service.bfs_cases_db_service:get_sociodemographics_for_hospital_year:90 - Read 3653 rows from the DB, for the hospital 'Hirslanden Birshof' in 2017\n"
     ]
    },
    {
     "data": {
      "text/html": [
       "<div>\n",
       "<style scoped>\n",
       "    .dataframe tbody tr th:only-of-type {\n",
       "        vertical-align: middle;\n",
       "    }\n",
       "\n",
       "    .dataframe tbody tr th {\n",
       "        vertical-align: top;\n",
       "    }\n",
       "\n",
       "    .dataframe thead th {\n",
       "        text-align: right;\n",
       "    }\n",
       "</style>\n",
       "<table border=\"1\" class=\"dataframe\">\n",
       "  <thead>\n",
       "    <tr style=\"text-align: right;\">\n",
       "      <th></th>\n",
       "      <th>aimedic_id</th>\n",
       "      <th>case_id</th>\n",
       "      <th>primary_diagnosis</th>\n",
       "      <th>secondary_diagnoses</th>\n",
       "      <th>primary_procedure</th>\n",
       "      <th>secondary_procedures</th>\n",
       "      <th>gender</th>\n",
       "      <th>age_years</th>\n",
       "      <th>age_days</th>\n",
       "      <th>gestation_age</th>\n",
       "      <th>duration_of_stay</th>\n",
       "      <th>ventilation_hours</th>\n",
       "      <th>grouper_admission_type</th>\n",
       "      <th>admission_date</th>\n",
       "      <th>admission_weight</th>\n",
       "      <th>grouper_discharge_type</th>\n",
       "      <th>discharge_date</th>\n",
       "    </tr>\n",
       "  </thead>\n",
       "  <tbody>\n",
       "    <tr>\n",
       "      <th>0</th>\n",
       "      <td>20243</td>\n",
       "      <td>0041497128</td>\n",
       "      <td>M4807</td>\n",
       "      <td>[G553, M4217, M4787, M513, D6980, ...]</td>\n",
       "      <td>8107::20171026</td>\n",
       "      <td>[889714::20171026, 030939::20171026, 784986::20171026, 845111::20171026, 805111::20171026, ...]</td>\n",
       "      <td>M</td>\n",
       "      <td>67</td>\n",
       "      <td>0</td>\n",
       "      <td>0</td>\n",
       "      <td>7</td>\n",
       "      <td>0</td>\n",
       "      <td>01</td>\n",
       "      <td>2017-10-26</td>\n",
       "      <td>0</td>\n",
       "      <td>00</td>\n",
       "      <td>2017-11-02</td>\n",
       "    </tr>\n",
       "    <tr>\n",
       "      <th>1</th>\n",
       "      <td>20498</td>\n",
       "      <td>0041332448</td>\n",
       "      <td>T845</td>\n",
       "      <td>[Y849, B956, I1090, I8080]</td>\n",
       "      <td>8153:L:20170328</td>\n",
       "      <td>[803510:L:20170327, 887951::20170327, 819231:L:20170328]</td>\n",
       "      <td>W</td>\n",
       "      <td>57</td>\n",
       "      <td>0</td>\n",
       "      <td>0</td>\n",
       "      <td>12</td>\n",
       "      <td>0</td>\n",
       "      <td>01</td>\n",
       "      <td>2017-03-26</td>\n",
       "      <td>0</td>\n",
       "      <td>00</td>\n",
       "      <td>2017-04-07</td>\n",
       "    </tr>\n",
       "    <tr>\n",
       "      <th>2</th>\n",
       "      <td>21005</td>\n",
       "      <td>0041319879</td>\n",
       "      <td>M4726</td>\n",
       "      <td>[G552, G9581, M4316, I1090, K219, ...]</td>\n",
       "      <td>8108::20170322</td>\n",
       "      <td>[816210::20170322, 030934::20170322, 805110::20170322, 845110::20170322, 785035::20170322, ...]</td>\n",
       "      <td>W</td>\n",
       "      <td>72</td>\n",
       "      <td>0</td>\n",
       "      <td>0</td>\n",
       "      <td>5</td>\n",
       "      <td>0</td>\n",
       "      <td>01</td>\n",
       "      <td>2017-03-22</td>\n",
       "      <td>0</td>\n",
       "      <td>00</td>\n",
       "      <td>2017-03-27</td>\n",
       "    </tr>\n",
       "    <tr>\n",
       "      <th>3</th>\n",
       "      <td>22492</td>\n",
       "      <td>0041371186</td>\n",
       "      <td>T845</td>\n",
       "      <td>[Y828, B957, T840, I1190, E1190, ...]</td>\n",
       "      <td>815121:R:20170518</td>\n",
       "      <td>[800515:R:20170518, 776520:R:20170518, 780512:R:20170518, 890A12::20170518, 992214::20170519, ...]</td>\n",
       "      <td>M</td>\n",
       "      <td>59</td>\n",
       "      <td>0</td>\n",
       "      <td>0</td>\n",
       "      <td>22</td>\n",
       "      <td>0</td>\n",
       "      <td>01</td>\n",
       "      <td>2017-05-18</td>\n",
       "      <td>0</td>\n",
       "      <td>00</td>\n",
       "      <td>2017-06-09</td>\n",
       "    </tr>\n",
       "  </tbody>\n",
       "</table>\n",
       "</div>"
      ],
      "text/plain": [
       "   aimedic_id     case_id primary_diagnosis                     secondary_diagnoses  primary_procedure                                                                                secondary_procedures gender  age_years  age_days  gestation_age  duration_of_stay  ventilation_hours grouper_admission_type admission_date  admission_weight grouper_discharge_type discharge_date\n",
       "0       20243  0041497128             M4807  [G553, M4217, M4787, M513, D6980, ...]     8107::20171026     [889714::20171026, 030939::20171026, 784986::20171026, 845111::20171026, 805111::20171026, ...]      M         67         0              0                 7                  0                     01     2017-10-26                 0                     00     2017-11-02\n",
       "1       20498  0041332448              T845              [Y849, B956, I1090, I8080]    8153:L:20170328                                            [803510:L:20170327, 887951::20170327, 819231:L:20170328]      W         57         0              0                12                  0                     01     2017-03-26                 0                     00     2017-04-07\n",
       "2       21005  0041319879             M4726  [G552, G9581, M4316, I1090, K219, ...]     8108::20170322     [816210::20170322, 030934::20170322, 805110::20170322, 845110::20170322, 785035::20170322, ...]      W         72         0              0                 5                  0                     01     2017-03-22                 0                     00     2017-03-27\n",
       "3       22492  0041371186              T845   [Y828, B957, T840, I1190, E1190, ...]  815121:R:20170518  [800515:R:20170518, 776520:R:20170518, 780512:R:20170518, 890A12::20170518, 992214::20170519, ...]      M         59         0              0                22                  0                     01     2017-05-18                 0                     00     2017-06-09"
      ]
     },
     "execution_count": 4,
     "metadata": {},
     "output_type": "execute_result"
    }
   ],
   "source": [
    "cols_to_join = list(VALIDATION_COLS)\n",
    "cols_to_join.remove(CASE_ID_COL)\n",
    "cols_to_join.append(NORM_CASE_ID_COL)\n",
    "# Ignore the patient ID in this dataset, because it is encrypted\n",
    "cols_to_join.remove(PATIENT_ID_COL)\n",
    "\n",
    "revised_cases, unmatched = revise(file_info, revised_cases_df, validation_cols=cols_to_join)\n",
    "revised_cases"
   ]
  },
  {
   "cell_type": "code",
   "execution_count": 5,
   "id": "3ac0315b",
   "metadata": {
    "collapsed": false,
    "jupyter": {
     "outputs_hidden": false
    }
   },
   "outputs": [],
   "source": [
    "if unmatched.shape[0] > 0:\n",
    "    display(unmatched)"
   ]
  },
  {
   "cell_type": "code",
   "execution_count": 6,
   "id": "a85b9247-c1dc-4072-a1dd-7b61c8251eeb",
   "metadata": {},
   "outputs": [
    {
     "name": "stderr",
     "output_type": "stream",
     "text": [
      "2022-11-10 12:02:06.474 | INFO     | src.revised_case_normalization.notebook_functions.group:group:83 - Grouping 4 cases ...\n",
      "2022-11-10 12:02:07.905 | SUCCESS  | src.revised_case_normalization.notebook_functions.group:group:88 - Grouped 4 cases into: 4 revisions, 39 diagnoses rows, 42 procedure rows\n"
     ]
    }
   ],
   "source": [
    "revisions_update, diagnoses_update, procedures_update = group(revised_cases)\n",
    "revisions_update[REVISION_DATE_COL] = '2022-12-31'"
   ]
  },
  {
   "cell_type": "code",
   "execution_count": 7,
   "id": "492c0392",
   "metadata": {
    "collapsed": false,
    "jupyter": {
     "outputs_hidden": false
    }
   },
   "outputs": [
    {
     "data": {
      "text/html": [
       "<div>\n",
       "<style scoped>\n",
       "    .dataframe tbody tr th:only-of-type {\n",
       "        vertical-align: middle;\n",
       "    }\n",
       "\n",
       "    .dataframe tbody tr th {\n",
       "        vertical-align: top;\n",
       "    }\n",
       "\n",
       "    .dataframe thead th {\n",
       "        text-align: right;\n",
       "    }\n",
       "</style>\n",
       "<table border=\"1\" class=\"dataframe\">\n",
       "  <thead>\n",
       "    <tr style=\"text-align: right;\">\n",
       "      <th></th>\n",
       "      <th>aimedic_id</th>\n",
       "      <th>drg</th>\n",
       "      <th>drg_cost_weight</th>\n",
       "      <th>effective_cost_weight</th>\n",
       "      <th>pccl</th>\n",
       "      <th>revision_date</th>\n",
       "    </tr>\n",
       "  </thead>\n",
       "  <tbody>\n",
       "    <tr>\n",
       "      <th>0</th>\n",
       "      <td>20243</td>\n",
       "      <td>I06B</td>\n",
       "      <td>5.16</td>\n",
       "      <td>5.16</td>\n",
       "      <td>4</td>\n",
       "      <td>2022-12-31</td>\n",
       "    </tr>\n",
       "    <tr>\n",
       "      <th>1</th>\n",
       "      <td>20498</td>\n",
       "      <td>I46A</td>\n",
       "      <td>2.66</td>\n",
       "      <td>2.66</td>\n",
       "      <td>4</td>\n",
       "      <td>2022-12-31</td>\n",
       "    </tr>\n",
       "    <tr>\n",
       "      <th>2</th>\n",
       "      <td>21005</td>\n",
       "      <td>I09A</td>\n",
       "      <td>3.87</td>\n",
       "      <td>3.87</td>\n",
       "      <td>4</td>\n",
       "      <td>2022-12-31</td>\n",
       "    </tr>\n",
       "    <tr>\n",
       "      <th>3</th>\n",
       "      <td>22492</td>\n",
       "      <td>I03A</td>\n",
       "      <td>4.28</td>\n",
       "      <td>4.28</td>\n",
       "      <td>4</td>\n",
       "      <td>2022-12-31</td>\n",
       "    </tr>\n",
       "  </tbody>\n",
       "</table>\n",
       "</div>"
      ],
      "text/plain": [
       "   aimedic_id   drg  drg_cost_weight  effective_cost_weight  pccl revision_date\n",
       "0       20243  I06B             5.16                   5.16     4    2022-12-31\n",
       "1       20498  I46A             2.66                   2.66     4    2022-12-31\n",
       "2       21005  I09A             3.87                   3.87     4    2022-12-31\n",
       "3       22492  I03A             4.28                   4.28     4    2022-12-31"
      ]
     },
     "execution_count": 7,
     "metadata": {},
     "output_type": "execute_result"
    }
   ],
   "source": [
    "revisions_update"
   ]
  },
  {
   "cell_type": "code",
   "execution_count": 8,
   "id": "04e44c03",
   "metadata": {
    "collapsed": false,
    "jupyter": {
     "outputs_hidden": false
    }
   },
   "outputs": [
    {
     "name": "stderr",
     "output_type": "stream",
     "text": [
      "2022-11-10 12:02:07.930 | INFO     | src.service.bfs_cases_db_service:insert_revised_cases_into_revisions:249 - Trying to insert 4 cases into the 'Revisions' table ...\n",
      "2022-11-10 12:02:08.736 | INFO     | src.service.bfs_cases_db_service:insert_revised_cases_into_revisions:275 - Deleted 4 rows from the \"Revisions\" table, which is about to be updated\n",
      "2022-11-10 12:02:08.834 | SUCCESS  | src.service.bfs_cases_db_service:insert_revised_cases_into_revisions:286 - Inserted 4 cases into the 'Revisions' table\n",
      "2022-11-10 12:02:08.836 | INFO     | src.service.bfs_cases_db_service:insert_revised_cases_into_diagnoses:298 - Trying to insert 39 rows into the 'Diagnoses' table ...\n",
      "2022-11-10 12:02:10.332 | SUCCESS  | src.service.bfs_cases_db_service:insert_revised_cases_into_diagnoses:336 - Inserted 39 rows into the 'Diagnoses' table\n",
      "2022-11-10 12:02:10.334 | INFO     | src.service.bfs_cases_db_service:insert_revised_cases_into_procedures:347 - Trying to insert 42 rows into the 'Procedures' table ...\n",
      "2022-11-10 12:02:11.273 | SUCCESS  | src.service.bfs_cases_db_service:insert_revised_cases_into_procedures:393 - Inserted 42 rows into the 'Procedures' table\n"
     ]
    }
   ],
   "source": [
    "update_db(revisions_update, diagnoses_update, procedures_update)"
   ]
  }
 ],
 "metadata": {
  "kernelspec": {
   "display_name": "Python 3 (ipykernel)",
   "language": "python",
   "name": "python3"
  },
  "language_info": {
   "codemirror_mode": {
    "name": "ipython",
    "version": 3
   },
   "file_extension": ".py",
   "mimetype": "text/x-python",
   "name": "python",
   "nbconvert_exporter": "python",
   "pygments_lexer": "ipython3",
   "version": "3.10.6"
  }
 },
 "nbformat": 4,
 "nbformat_minor": 5
}
