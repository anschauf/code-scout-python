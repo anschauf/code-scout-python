{
 "cells": [
  {
   "cell_type": "markdown",
   "id": "a4e2885d",
   "metadata": {
    "pycharm": {
     "name": "#%% md\n"
    },
    "tags": []
   },
   "source": [
    "# Revised case normalization for USZ 2019\n",
    "\n",
    "Notes:\n",
    "\n",
    "- 25 of 25 revised DtoD cases were joined with the BFS cases from the DB.\n"
   ]
  },
  {
   "cell_type": "code",
   "execution_count": 1,
   "id": "d097a048",
   "metadata": {
    "collapsed": false,
    "jupyter": {
     "outputs_hidden": false
    },
    "pycharm": {
     "name": "#%%\n"
    }
   },
   "outputs": [],
   "source": [
    "import sys\n",
    "\n",
    "import pandas as pd\n",
    "import numpy as np\n",
    "\n",
    "from loguru import logger\n",
    "\n",
    "sys.path.insert(0, '/home/jovyan/work')\n",
    "\n",
    "from src.revised_case_normalization.py.global_configs import *\n",
    "from src.revised_case_normalization.py.normalize import normalize\n",
    "from src.service import bfs_cases_db_service as bfs_db\n",
    "from src.service.bfs_cases_db_service import session, get_hospital_year_cases"
   ]
  },
  {
   "cell_type": "code",
   "execution_count": 2,
   "id": "4710c532",
   "metadata": {
    "collapsed": false,
    "jupyter": {
     "outputs_hidden": false
    },
    "pycharm": {
     "name": "#%%\n"
    }
   },
   "outputs": [
    {
     "name": "stdout",
     "output_type": "stream",
     "text": [
      "FileInfo(path='/home/jovyan/work/src/revised_case_normalization/raw_data/KSSG_2021.xlsx', hospital_name_db='KSSG HQ', year='2021', sheets=['Änderungen_KSSG_2021'])\n"
     ]
    }
   ],
   "source": [
    "file_info = FileInfo(\n",
    "        os.path.join(ROOT_DIR, 'raw_data/KSSG_2021.xlsx'),\n",
    "        'KSSG HQ',\n",
    "        '2021',\n",
    "        ['Änderungen_KSSG_2021'])\n",
    "\n",
    "print(file_info)"
   ]
  },
  {
   "cell_type": "code",
   "execution_count": 3,
   "id": "8c8b27df",
   "metadata": {
    "collapsed": false,
    "jupyter": {
     "outputs_hidden": false
    },
    "pycharm": {
     "name": "#%%\n"
    }
   },
   "outputs": [
    {
     "name": "stderr",
     "output_type": "stream",
     "text": [
      "2022-10-19 16:22:54.350 | INFO     | src.revised_case_normalization.py.normalize:normalize:46 - Read 25 cases for KSSG HQ 2021\n",
      "2022-10-19 16:22:54.354 | INFO     | src.revised_case_normalization.py.normalize:normalize:69 - TYPES:\n",
      "case_id              int64\n",
      "patient_id          object\n",
      "gender              string\n",
      "age_years            int64\n",
      "duration_of_stay     int64\n",
      "pccl                 int64\n",
      "drg                 string\n",
      "old_pd              string\n",
      "new_pd              string\n",
      "bfs_code            string\n",
      "added_icds          string\n",
      "removed_icds        string\n",
      "added_chops         string\n",
      "removed_chops       string\n",
      "dtype: object\n",
      "2022-10-19 16:22:54.359 | INFO     | src.utils.dataframe_utils:validate_icd_codes:68 - Validated ICD codes in 'added_icds' and stored them into 'added_icds': All rows contain valid codes\n",
      "2022-10-19 16:22:54.361 | INFO     | src.utils.dataframe_utils:validate_icd_codes:68 - Validated ICD codes in 'removed_icds' and stored them into 'removed_icds': All rows contain valid codes\n",
      "2022-10-19 16:22:54.364 | INFO     | src.utils.dataframe_utils:validate_chop_codes:106 - Validated CHOP codes in 'added_chops' and stored them into 'added_chops': All rows contain valid codes\n",
      "2022-10-19 16:22:54.366 | INFO     | src.utils.dataframe_utils:validate_chop_codes:106 - Validated CHOP codes in 'removed_chops' and stored them into 'removed_chops': All rows contain valid codes\n",
      "2022-10-19 16:22:54.366 | INFO     | src.utils.dataframe_utils:remove_duplicated_chops:32 - Removing duplicated CHOP codes due to different casing ...\n",
      "2022-10-19 16:22:54.371 | INFO     | src.utils.dataframe_utils:validate_pd_revised_sd:161 - Validated redundant PD info in 'added_icds'/'removed_icds': The following 2 rows were affected:\n",
      "row 0: primary diagnosis K831 => K8031\n",
      "row 22: primary diagnosis K420 => K429\n",
      "2022-10-19 16:22:54.373 | SUCCESS  | src.revised_case_normalization.py.normalize:normalize:101 - Completed validation\n"
     ]
    }
   ],
   "source": [
    "cols_to_rename = dict(COLUMNS_TO_RENAME)\n",
    "# Replace 'admno' with 'fall nummer'\n",
    "cols_to_rename.pop('admno')\n",
    "cols_to_rename['fall nummer'] = CASE_ID_COL\n",
    "\n",
    "df_revised_case_d2d = normalize(file_info, 0)"
   ]
  },
  {
   "cell_type": "code",
   "execution_count": 4,
   "id": "6c589452",
   "metadata": {
    "collapsed": false,
    "jupyter": {
     "outputs_hidden": false
    },
    "pycharm": {
     "name": "#%%\n"
    }
   },
   "outputs": [
    {
     "data": {
      "text/html": [
       "<div>\n",
       "<style scoped>\n",
       "    .dataframe tbody tr th:only-of-type {\n",
       "        vertical-align: middle;\n",
       "    }\n",
       "\n",
       "    .dataframe tbody tr th {\n",
       "        vertical-align: top;\n",
       "    }\n",
       "\n",
       "    .dataframe thead th {\n",
       "        text-align: right;\n",
       "    }\n",
       "</style>\n",
       "<table border=\"1\" class=\"dataframe\">\n",
       "  <thead>\n",
       "    <tr style=\"text-align: right;\">\n",
       "      <th></th>\n",
       "      <th>case_id</th>\n",
       "      <th>patient_id</th>\n",
       "      <th>gender</th>\n",
       "      <th>age_years</th>\n",
       "      <th>duration_of_stay</th>\n",
       "      <th>pccl</th>\n",
       "      <th>drg</th>\n",
       "      <th>old_pd</th>\n",
       "      <th>new_pd</th>\n",
       "      <th>bfs_code</th>\n",
       "      <th>added_icds</th>\n",
       "      <th>removed_icds</th>\n",
       "      <th>added_chops</th>\n",
       "      <th>removed_chops</th>\n",
       "    </tr>\n",
       "  </thead>\n",
       "  <tbody>\n",
       "    <tr>\n",
       "      <th>0</th>\n",
       "      <td>1112425128</td>\n",
       "      <td>F1B1A46BC1FEF112</td>\n",
       "      <td>M</td>\n",
       "      <td>56</td>\n",
       "      <td>5</td>\n",
       "      <td>3</td>\n",
       "      <td>H41C</td>\n",
       "      <td>K831</td>\n",
       "      <td>K8031</td>\n",
       "      <td>M100</td>\n",
       "      <td>[K8510, D6959]</td>\n",
       "      <td>[]</td>\n",
       "      <td>[]</td>\n",
       "      <td>[]</td>\n",
       "    </tr>\n",
       "    <tr>\n",
       "      <th>1</th>\n",
       "      <td>1112427844</td>\n",
       "      <td>59106C27B3536BE5</td>\n",
       "      <td>M</td>\n",
       "      <td>64</td>\n",
       "      <td>9</td>\n",
       "      <td>3</td>\n",
       "      <td>T62C</td>\n",
       "      <td>R5088</td>\n",
       "      <td>R5088</td>\n",
       "      <td>M100</td>\n",
       "      <td>[I691, G819]</td>\n",
       "      <td>[]</td>\n",
       "      <td>[]</td>\n",
       "      <td>[]</td>\n",
       "    </tr>\n",
       "    <tr>\n",
       "      <th>2</th>\n",
       "      <td>1112441515</td>\n",
       "      <td>BB0033F7EF9CCB1F</td>\n",
       "      <td>W</td>\n",
       "      <td>70</td>\n",
       "      <td>3</td>\n",
       "      <td>3</td>\n",
       "      <td>R61D</td>\n",
       "      <td>C833</td>\n",
       "      <td>C833</td>\n",
       "      <td>M100</td>\n",
       "      <td>[D6110]</td>\n",
       "      <td>[]</td>\n",
       "      <td>[]</td>\n",
       "      <td>[]</td>\n",
       "    </tr>\n",
       "    <tr>\n",
       "      <th>3</th>\n",
       "      <td>1112445586</td>\n",
       "      <td>73EFDADADF92D6A4</td>\n",
       "      <td>W</td>\n",
       "      <td>93</td>\n",
       "      <td>7</td>\n",
       "      <td>2</td>\n",
       "      <td>F62D</td>\n",
       "      <td>I5001</td>\n",
       "      <td>I5001</td>\n",
       "      <td>M100</td>\n",
       "      <td>[F050]</td>\n",
       "      <td>[]</td>\n",
       "      <td>[]</td>\n",
       "      <td>[]</td>\n",
       "    </tr>\n",
       "    <tr>\n",
       "      <th>4</th>\n",
       "      <td>1112426216</td>\n",
       "      <td>FD14EA356F1A32E4</td>\n",
       "      <td>M</td>\n",
       "      <td>78</td>\n",
       "      <td>4</td>\n",
       "      <td>2</td>\n",
       "      <td>E77E</td>\n",
       "      <td>J128</td>\n",
       "      <td>J128</td>\n",
       "      <td>M100</td>\n",
       "      <td>[J4412]</td>\n",
       "      <td>[J4482]</td>\n",
       "      <td>[]</td>\n",
       "      <td>[]</td>\n",
       "    </tr>\n",
       "  </tbody>\n",
       "</table>\n",
       "</div>"
      ],
      "text/plain": [
       "      case_id        patient_id gender  age_years  duration_of_stay  pccl  \\\n",
       "0  1112425128  F1B1A46BC1FEF112      M         56                 5     3   \n",
       "1  1112427844  59106C27B3536BE5      M         64                 9     3   \n",
       "2  1112441515  BB0033F7EF9CCB1F      W         70                 3     3   \n",
       "3  1112445586  73EFDADADF92D6A4      W         93                 7     2   \n",
       "4  1112426216  FD14EA356F1A32E4      M         78                 4     2   \n",
       "\n",
       "    drg old_pd new_pd bfs_code      added_icds removed_icds added_chops  \\\n",
       "0  H41C   K831  K8031     M100  [K8510, D6959]           []          []   \n",
       "1  T62C  R5088  R5088     M100    [I691, G819]           []          []   \n",
       "2  R61D   C833   C833     M100         [D6110]           []          []   \n",
       "3  F62D  I5001  I5001     M100          [F050]           []          []   \n",
       "4  E77E   J128   J128     M100         [J4412]      [J4482]          []   \n",
       "\n",
       "  removed_chops  \n",
       "0            []  \n",
       "1            []  \n",
       "2            []  \n",
       "3            []  \n",
       "4            []  "
      ]
     },
     "execution_count": 4,
     "metadata": {},
     "output_type": "execute_result"
    }
   ],
   "source": [
    "df_revised_case_d2d.head()"
   ]
  },
  {
   "cell_type": "markdown",
   "id": "a6796573",
   "metadata": {
    "pycharm": {
     "name": "#%% md\n"
    },
    "tags": []
   },
   "source": [
    "# Match revised DtoD data with the BfS data from the database"
   ]
  },
  {
   "cell_type": "code",
   "execution_count": 5,
   "id": "65408537-cd4a-4b7c-a785-0db424378909",
   "metadata": {},
   "outputs": [
    {
     "data": {
      "text/html": [
       "<div>\n",
       "<style scoped>\n",
       "    .dataframe tbody tr th:only-of-type {\n",
       "        vertical-align: middle;\n",
       "    }\n",
       "\n",
       "    .dataframe tbody tr th {\n",
       "        vertical-align: top;\n",
       "    }\n",
       "\n",
       "    .dataframe thead th {\n",
       "        text-align: right;\n",
       "    }\n",
       "</style>\n",
       "<table border=\"1\" class=\"dataframe\">\n",
       "  <thead>\n",
       "    <tr style=\"text-align: right;\">\n",
       "      <th></th>\n",
       "      <th>aimedic_id</th>\n",
       "      <th>case_id</th>\n",
       "      <th>patient_id</th>\n",
       "      <th>gender</th>\n",
       "      <th>age_years</th>\n",
       "      <th>duration_of_stay</th>\n",
       "      <th>pccl</th>\n",
       "      <th>drg</th>\n",
       "    </tr>\n",
       "  </thead>\n",
       "  <tbody>\n",
       "    <tr>\n",
       "      <th>0</th>\n",
       "      <td>455133</td>\n",
       "      <td>1111866085</td>\n",
       "      <td>39F9EA99CEA02FF8</td>\n",
       "      <td>M</td>\n",
       "      <td>69</td>\n",
       "      <td>14</td>\n",
       "      <td>4</td>\n",
       "      <td>F01E</td>\n",
       "    </tr>\n",
       "    <tr>\n",
       "      <th>1</th>\n",
       "      <td>455134</td>\n",
       "      <td>1111866101</td>\n",
       "      <td>330A58EDEB982EF2</td>\n",
       "      <td>M</td>\n",
       "      <td>53</td>\n",
       "      <td>2</td>\n",
       "      <td>0</td>\n",
       "      <td>X64Z</td>\n",
       "    </tr>\n",
       "    <tr>\n",
       "      <th>2</th>\n",
       "      <td>455135</td>\n",
       "      <td>1111866105</td>\n",
       "      <td>BBFDA514D2A94FF7</td>\n",
       "      <td>M</td>\n",
       "      <td>75</td>\n",
       "      <td>7</td>\n",
       "      <td>3</td>\n",
       "      <td>B66C</td>\n",
       "    </tr>\n",
       "    <tr>\n",
       "      <th>3</th>\n",
       "      <td>455136</td>\n",
       "      <td>1111866107</td>\n",
       "      <td>30B91142C7B95FDF</td>\n",
       "      <td>M</td>\n",
       "      <td>80</td>\n",
       "      <td>17</td>\n",
       "      <td>4</td>\n",
       "      <td>W61A</td>\n",
       "    </tr>\n",
       "    <tr>\n",
       "      <th>4</th>\n",
       "      <td>455137</td>\n",
       "      <td>1111866108</td>\n",
       "      <td>4165057BE3392CE0</td>\n",
       "      <td>M</td>\n",
       "      <td>28</td>\n",
       "      <td>3</td>\n",
       "      <td>0</td>\n",
       "      <td>E06C</td>\n",
       "    </tr>\n",
       "  </tbody>\n",
       "</table>\n",
       "</div>"
      ],
      "text/plain": [
       "   aimedic_id     case_id        patient_id gender  age_years  \\\n",
       "0      455133  1111866085  39F9EA99CEA02FF8      M         69   \n",
       "1      455134  1111866101  330A58EDEB982EF2      M         53   \n",
       "2      455135  1111866105  BBFDA514D2A94FF7      M         75   \n",
       "3      455136  1111866107  30B91142C7B95FDF      M         80   \n",
       "4      455137  1111866108  4165057BE3392CE0      M         28   \n",
       "\n",
       "   duration_of_stay  pccl   drg  \n",
       "0                14     4  F01E  \n",
       "1                 2     0  X64Z  \n",
       "2                 7     3  B66C  \n",
       "3                17     4  W61A  \n",
       "4                 3     0  E06C  "
      ]
     },
     "execution_count": 5,
     "metadata": {},
     "output_type": "execute_result"
    }
   ],
   "source": [
    "cases_in_db = get_hospital_year_cases(file_info.hospital_name_db, file_info.year)[[AIMEDIC_ID] + VALIDATION_COLS]\n",
    "cases_in_db.head()\n"
   ]
  },
  {
   "cell_type": "code",
   "execution_count": 6,
   "id": "38c67f27",
   "metadata": {
    "collapsed": false,
    "jupyter": {
     "outputs_hidden": false
    },
    "pycharm": {
     "name": "#%%\n"
    }
   },
   "outputs": [
    {
     "name": "stderr",
     "output_type": "stream",
     "text": [
      "2022-10-19 16:23:21.944 | INFO     | __main__:<module>:5 - Read 28977 rows from the DB, for the hospital 'KSSG HQ' in 2021\n"
     ]
    }
   ],
   "source": [
    "num_cases_in_db = cases_in_db.shape[0]\n",
    "if num_cases_in_db == 0:\n",
    "    raise ValueError(f\"There is no data for the hospital '{file_info.hospital_name_db}' in {file_info.year}\")\n",
    "else:\n",
    "    logger.info(f\"Read {num_cases_in_db} rows from the DB, for the hospital '{file_info.hospital_name_db}' in {file_info.year}\")    "
   ]
  },
  {
   "cell_type": "code",
   "execution_count": 7,
   "id": "14125a25-09d8-4818-a08f-19cf8c2aa37c",
   "metadata": {},
   "outputs": [
    {
     "name": "stderr",
     "output_type": "stream",
     "text": [
      "2022-10-19 16:23:21.965 | INFO     | __main__:<module>:6 - 0 rows with empty 'case_id's were discovered and removed from the DB, for the hospital 'KSSG HQ' in 2021\n"
     ]
    }
   ],
   "source": [
    "# Remove columns with empty 'case_id' in DB data\n",
    "\n",
    "cases_in_db['case_id'].replace('', np.nan, inplace=True)\n",
    "num_na_cases_in_db = cases_in_db['case_id'].isna().sum()\n",
    "cases_in_db.dropna(subset=['case_id'], inplace=True)\n",
    "logger.info(f\"{num_na_cases_in_db} rows with empty 'case_id's were discovered and removed from the DB, for the hospital '{file_info.hospital_name_db}' in {file_info.year}\")   "
   ]
  },
  {
   "cell_type": "code",
   "execution_count": 8,
   "id": "42113e93",
   "metadata": {
    "collapsed": false,
    "jupyter": {
     "outputs_hidden": false
    },
    "pycharm": {
     "name": "#%%\n"
    }
   },
   "outputs": [],
   "source": [
    "# get the case_id from revised_case \n",
    "df_revised_case_d2d['case_id_num'] = df_revised_case_d2d[CASE_ID_COL].astype(int)\n",
    "cases_in_db['case_id_num'] = cases_in_db[CASE_ID_COL].astype(int)"
   ]
  },
  {
   "cell_type": "code",
   "execution_count": 9,
   "id": "e56d7549-ebbb-4672-87f8-a00d905ee02a",
   "metadata": {},
   "outputs": [],
   "source": [
    "# get case ids in revised case data from DtoD\n",
    "case_id_d2d = df_revised_case_d2d['case_id_num'].values"
   ]
  },
  {
   "cell_type": "code",
   "execution_count": 10,
   "id": "ac7fb65a-f68e-49c3-99d3-1a165ae66d99",
   "metadata": {},
   "outputs": [
    {
     "name": "stderr",
     "output_type": "stream",
     "text": [
      "2022-10-19 16:23:21.991 | INFO     | __main__:<module>:7 - There are no duplicated case_ids in the revised cases.\n"
     ]
    },
    {
     "data": {
      "text/plain": [
       "25"
      ]
     },
     "execution_count": 10,
     "metadata": {},
     "output_type": "execute_result"
    }
   ],
   "source": [
    "# Check for duplicates in the case ids of DtoD\n",
    "\n",
    "case_id_d2d_set = set(case_id_d2d)\n",
    "if len(case_id_d2d) > len(case_id_d2d_set):\n",
    "    logger.info('There are duplicated case_ids in the revised cases.' )\n",
    "else:\n",
    "    logger.info('There are no duplicated case_ids in the revised cases.' )\n",
    "\n",
    "len(case_id_d2d_set)"
   ]
  },
  {
   "cell_type": "code",
   "execution_count": 11,
   "id": "e6ab7c12-a01a-478a-9b1c-78bef52b1a30",
   "metadata": {},
   "outputs": [
    {
     "data": {
      "text/plain": [
       "25"
      ]
     },
     "execution_count": 11,
     "metadata": {},
     "output_type": "execute_result"
    }
   ],
   "source": [
    "# Search for case_ids in the BFS DB data with the same case_ids as in revised case dataset of DtoD \n",
    "# Reason: check whether case ids of the revised data appear more than once in BFS DB data\n",
    "\n",
    "revised_case_bfs_db = cases_in_db[cases_in_db['case_id_num'].isin(case_id_d2d)]\n",
    "revised_case_bfs_db.shape[0]"
   ]
  },
  {
   "cell_type": "code",
   "execution_count": 12,
   "id": "7db02c90-8c5f-4d96-95db-0576921cce55",
   "metadata": {},
   "outputs": [
    {
     "name": "stdout",
     "output_type": "stream",
     "text": [
      "(25, 16)\n"
     ]
    },
    {
     "name": "stderr",
     "output_type": "stream",
     "text": [
      "/tmp/ipykernel_20456/3898438272.py:5: FutureWarning: Passing 'suffixes' as a <class 'NoneType'>, is not supported and may give unexpected results. Provide 'suffixes' as a tuple instead. In the future a 'TypeError' will be raised.\n",
      "  revised_case_normalized = revised_case_d2d_subset.merge(revised_case_bfs_db, how ='inner', on=['case_id_num', 'gender', 'age_years', 'duration_of_stay', 'pccl', 'drg'], suffixes=None)\n"
     ]
    }
   ],
   "source": [
    "# Join revised cases from DtoD with BFS Cases from Database\n",
    "\n",
    "if revised_case_bfs_db.shape[0] <= len(case_id_d2d):\n",
    "    revised_case_d2d_subset = df_revised_case_d2d[COL_SUBSET_FROM_REVISED_CASES + ['case_id_num', 'gender', 'age_years', 'duration_of_stay', 'pccl', 'drg']]\n",
    "    revised_case_normalized = revised_case_d2d_subset.merge(revised_case_bfs_db, how ='inner', on=['case_id_num', 'gender', 'age_years', 'duration_of_stay', 'pccl', 'drg'], suffixes=None)\n",
    "    num_match_case_id = revised_case_normalized.shape[0]\n",
    "else:\n",
    "    revised_case_d2d_subset = df_revised_case_d2d[COL_SUBSET_FROM_REVISED_CASES + ['case_id_num', 'patient_id', 'gender', 'age_years', 'duration_of_stay', 'pccl', 'drg']]\n",
    "    revised_case_normalized = revised_case_d2d_subset.merge(revised_case_bfs_db, how ='inner', on=['case_id_num', 'patient_id', 'gender', 'age_years', 'duration_of_stay', 'pccl', 'drg'])\n",
    "    num_match_case_patient_id = revised_case_normalized.shape[0]\n",
    "print(revised_case_normalized.shape)\n",
    "# revised_case_normalized.head()"
   ]
  },
  {
   "cell_type": "code",
   "execution_count": 13,
   "id": "d3cefd4e-1b0c-4776-874f-d1ec6a8ab5b5",
   "metadata": {},
   "outputs": [],
   "source": [
    "# Join the revised cases of DtoD with the BFS data (alternative solution to cross check results)\n",
    "\n",
    "#if revised_case_bfs_db.shape[0] <= len(case_id_d2d):\n",
    "#    revised_case_normalized = pd.merge(df_revised_case_d2d, cases_in_db, suffixes=('_drop', ''), on=['case_id_num', 'gender', 'age_years', 'duration_of_stay', 'pccl', 'drg'])\n",
    "#    revised_case_normalized.drop([i for i in revised_case_normalized.columns if '_drop' in i], axis=1, inplace=True)\n",
    "#    revised_case_normalized.head()\n",
    "#else:\n",
    "#    revised_case_normalized = pd.merge(df_revised_case_d2d, cases_in_db, suffixes=('_drop', ''), on=['case_id_num','patient_id', 'gender', 'age_years', 'duration_of_stay', 'pccl', 'drg'])\n",
    "#    revised_case_normalized.drop([i for i in revised_case_normalized.columns if '_drop' in i], axis=1, inplace=True)\n",
    "#    revised_case_normalized.head()\n",
    "#print(revised_case_normalized.shape)\n",
    "#revised_case_normalized.head()"
   ]
  },
  {
   "cell_type": "code",
   "execution_count": 14,
   "id": "f42da5f9-883e-4148-abb3-23f5d6e7df92",
   "metadata": {},
   "outputs": [
    {
     "name": "stderr",
     "output_type": "stream",
     "text": [
      "2022-10-19 16:23:22.027 | INFO     | __main__:<module>:7 - 25 of 25 rows were joined with the cases from the DB, for the hospital 'KSSG HQ' in 2021\n"
     ]
    }
   ],
   "source": [
    "num_revised_case_normalized = revised_case_normalized.shape[0]\n",
    "num_df_revised_case_d2d = df_revised_case_d2d.shape[0] \n",
    "\n",
    "if num_revised_case_normalized == 0:\n",
    "    raise ValueError(f\"No cases between the revised cases for the hospital '{file_info.hospital_name_db}' in {file_info.year} were joined.\")\n",
    "else:\n",
    "    logger.info(f\"{num_revised_case_normalized} of {num_df_revised_case_d2d} rows were joined with the cases from the DB, for the hospital '{file_info.hospital_name_db}' in {file_info.year}\") "
   ]
  },
  {
   "cell_type": "code",
   "execution_count": 15,
   "id": "1bf7f79d-17fc-4e28-8629-1bd6bb169f82",
   "metadata": {},
   "outputs": [],
   "source": [
    "df_revised_case_normalized = revised_case_normalized[COLS_TO_OUTPUT]"
   ]
  },
  {
   "cell_type": "code",
   "execution_count": 16,
   "id": "1376216d-4593-4cca-91cd-7b14089fbba1",
   "metadata": {},
   "outputs": [],
   "source": [
    "# Export normalized revision data as a csv: \n",
    "\n",
    "hospital = file_info.hospital_name_db.replace(' ', '_') # replace spaces with '_' for the file name\n",
    "hospital_year = f'{hospital}_{file_info.year}'\n",
    "\n",
    "output_folder = os.path.join(ROOT_DIR, 'normalized_revision_data/')\n",
    "\n",
    "if not os.path.exists(output_folder):\n",
    "    os.mkdir(output_folder)\n",
    "\n",
    "NEW = '_NEW'\n",
    "    \n",
    "output_path = os.path.join(ROOT_DIR, 'normalized_revision_data/') + hospital_year + NEW + '.csv'\n",
    "\n",
    "df_revised_case_normalized.sort_values('aimedic_id').to_csv(output_path)\n",
    "\n",
    "\n"
   ]
  }
 ],
 "metadata": {
  "kernelspec": {
   "display_name": "Python 3 (ipykernel)",
   "language": "python",
   "name": "python3"
  },
  "language_info": {
   "codemirror_mode": {
    "name": "ipython",
    "version": 3
   },
   "file_extension": ".py",
   "mimetype": "text/x-python",
   "name": "python",
   "nbconvert_exporter": "python",
   "pygments_lexer": "ipython3",
   "version": "3.10.6"
  }
 },
 "nbformat": 4,
 "nbformat_minor": 5
}
