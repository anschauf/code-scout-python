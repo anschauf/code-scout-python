{
 "cells": [
  {
   "cell_type": "markdown",
   "id": "4a803118-2413-461f-9e51-b0f8e88439b3",
   "metadata": {
    "pycharm": {
     "name": "#%% md\n"
    }
   },
   "source": [
    "# Revised case normalization for Hirslanden Salem 2017\n",
    "\n",
    "Notes: \n",
    "- There is no match cases to bfs database. Because the case_id `'41194601'` in the revised cases from DtoD, but the case_id in bfs database is '0041194601'\n",
    "- What we did is to add 00 to the case_id in the revised case for this hospital\n",
    "\n"
   ]
  },
  {
   "cell_type": "code",
   "execution_count": 1,
   "id": "2acf8333-0c08-4555-b245-1f378f5b9f1f",
   "metadata": {
    "pycharm": {
     "is_executing": true,
     "name": "#%%\n"
    }
   },
   "outputs": [
    {
     "name": "stderr",
     "output_type": "stream",
     "text": [
      "/home/jovyan/work/src/models/BfsCase.py:5: SAWarning: On class 'BfsCase', Column object 'drg_cost_weight' named directly multiple times, only one will be used: drg_cost_weight, effective_cost_weight. Consider using orm.synonym instead\n",
      "  class BfsCase(Base):\n"
     ]
    }
   ],
   "source": [
    "import pandas as pd\n",
    "import sys\n",
    "sys.path.insert(0, '/home/jovyan/work')\n",
    "\n",
    "import os\n",
    "\n",
    "from py.global_configs import *\n",
    "from py.normalize import normalize\n",
    "\n",
    "from src.service import bfs_cases_db_service as bfs_db\n",
    "from src.utils.dataframe_utils import remove_duplicated_chops"
   ]
  },
  {
   "cell_type": "code",
   "execution_count": 2,
   "id": "7afa747d-1bf5-4644-9e9e-847a96e08dc2",
   "metadata": {},
   "outputs": [
    {
     "name": "stdout",
     "output_type": "stream",
     "text": [
      "FileInfo(path='/home/jovyan/work/src/revised_case_normalization/raw_data/HI-Bern_Salem_Beau Site_Linde.xlsx', hospital_name_db='Hirslanden Salem', year='2017', sheets=['Änderungen_SA_2017'])\n"
     ]
    }
   ],
   "source": [
    "file_info = FileInfo(\n",
    "    os.path.join(ROOT_DIR, 'raw_data/HI-Bern_Salem_Beau Site_Linde.xlsx'),\n",
    "    'Hirslanden Salem',\n",
    "    '2017',\n",
    "    ['Änderungen_SA_2017']\n",
    ")\n",
    "\n",
    "print(file_info)"
   ]
  },
  {
   "cell_type": "code",
   "execution_count": 3,
   "id": "9b6a51f2-b09d-4f13-8233-39e382bd56df",
   "metadata": {},
   "outputs": [
    {
     "name": "stderr",
     "output_type": "stream",
     "text": [
      "2022-10-14 09:45:56.557 | DEBUG    | src.utils.dataframe_utils:_validate_icd_codes:56 - row 26: discarded ICDs after validation {''}\n",
      "2022-10-14 09:45:56.558 | DEBUG    | src.utils.dataframe_utils:_validate_icd_codes:56 - row 34: discarded ICDs after validation {''}\n",
      "2022-10-14 09:45:56.559 | DEBUG    | src.utils.dataframe_utils:_validate_icd_codes:56 - row 43: discarded ICDs after validation {''}\n",
      "2022-10-14 09:45:56.560 | DEBUG    | src.utils.dataframe_utils:_validate_icd_codes:56 - row 53: discarded ICDs after validation {''}\n",
      "2022-10-14 09:45:56.563 | DEBUG    | src.utils.dataframe_utils:_validate_icd_codes:56 - row 0: discarded ICDs after validation {''}\n",
      "2022-10-14 09:45:56.563 | DEBUG    | src.utils.dataframe_utils:_validate_icd_codes:56 - row 1: discarded ICDs after validation {''}\n",
      "2022-10-14 09:45:56.564 | DEBUG    | src.utils.dataframe_utils:_validate_icd_codes:56 - row 2: discarded ICDs after validation {''}\n",
      "2022-10-14 09:45:56.564 | DEBUG    | src.utils.dataframe_utils:_validate_icd_codes:56 - row 3: discarded ICDs after validation {''}\n",
      "2022-10-14 09:45:56.565 | DEBUG    | src.utils.dataframe_utils:_validate_icd_codes:56 - row 4: discarded ICDs after validation {''}\n",
      "2022-10-14 09:45:56.565 | DEBUG    | src.utils.dataframe_utils:_validate_icd_codes:56 - row 5: discarded ICDs after validation {''}\n",
      "2022-10-14 09:45:56.566 | DEBUG    | src.utils.dataframe_utils:_validate_icd_codes:56 - row 8: discarded ICDs after validation {''}\n",
      "2022-10-14 09:45:56.567 | DEBUG    | src.utils.dataframe_utils:_validate_icd_codes:56 - row 10: discarded ICDs after validation {''}\n",
      "2022-10-14 09:45:56.568 | DEBUG    | src.utils.dataframe_utils:_validate_icd_codes:56 - row 11: discarded ICDs after validation {''}\n",
      "2022-10-14 09:45:56.569 | DEBUG    | src.utils.dataframe_utils:_validate_icd_codes:56 - row 12: discarded ICDs after validation {''}\n",
      "2022-10-14 09:45:56.569 | DEBUG    | src.utils.dataframe_utils:_validate_icd_codes:56 - row 13: discarded ICDs after validation {''}\n",
      "2022-10-14 09:45:56.570 | DEBUG    | src.utils.dataframe_utils:_validate_icd_codes:56 - row 14: discarded ICDs after validation {''}\n",
      "2022-10-14 09:45:56.571 | DEBUG    | src.utils.dataframe_utils:_validate_icd_codes:56 - row 17: discarded ICDs after validation {''}\n",
      "2022-10-14 09:45:56.572 | DEBUG    | src.utils.dataframe_utils:_validate_icd_codes:56 - row 18: discarded ICDs after validation {''}\n",
      "2022-10-14 09:45:56.573 | DEBUG    | src.utils.dataframe_utils:_validate_icd_codes:56 - row 19: discarded ICDs after validation {''}\n",
      "2022-10-14 09:45:56.573 | DEBUG    | src.utils.dataframe_utils:_validate_icd_codes:56 - row 20: discarded ICDs after validation {''}\n"
     ]
    },
    {
     "name": "stdout",
     "output_type": "stream",
     "text": [
      "Read 57 cases for Hirslanden Salem 2017\n",
      "TYPES:\n",
      "case_id             string\n",
      "patient_id          string\n",
      "gender              string\n",
      "age_years            int64\n",
      "duration_of_stay     int64\n",
      "pccl                 int64\n",
      "drg                 string\n",
      "old_pd              string\n",
      "new_pd              string\n",
      "bfs_code            string\n",
      "added_icds          string\n",
      "removed_icds        string\n",
      "added_chops         string\n",
      "removed_chops       string\n",
      "dtype: object\n"
     ]
    },
    {
     "name": "stderr",
     "output_type": "stream",
     "text": [
      "2022-10-14 09:45:56.574 | DEBUG    | src.utils.dataframe_utils:_validate_icd_codes:56 - row 21: discarded ICDs after validation {''}\n",
      "2022-10-14 09:45:56.575 | DEBUG    | src.utils.dataframe_utils:_validate_icd_codes:56 - row 22: discarded ICDs after validation {''}\n",
      "2022-10-14 09:45:56.577 | DEBUG    | src.utils.dataframe_utils:_validate_icd_codes:56 - row 23: discarded ICDs after validation {''}\n",
      "2022-10-14 09:45:56.578 | DEBUG    | src.utils.dataframe_utils:_validate_icd_codes:56 - row 26: discarded ICDs after validation {''}\n",
      "2022-10-14 09:45:56.579 | DEBUG    | src.utils.dataframe_utils:_validate_icd_codes:56 - row 28: discarded ICDs after validation {''}\n",
      "2022-10-14 09:45:56.579 | DEBUG    | src.utils.dataframe_utils:_validate_icd_codes:56 - row 30: discarded ICDs after validation {''}\n",
      "2022-10-14 09:45:56.580 | DEBUG    | src.utils.dataframe_utils:_validate_icd_codes:56 - row 32: discarded ICDs after validation {''}\n",
      "2022-10-14 09:45:56.581 | DEBUG    | src.utils.dataframe_utils:_validate_icd_codes:56 - row 33: discarded ICDs after validation {''}\n",
      "2022-10-14 09:45:56.582 | DEBUG    | src.utils.dataframe_utils:_validate_icd_codes:56 - row 34: discarded ICDs after validation {''}\n",
      "2022-10-14 09:45:56.582 | DEBUG    | src.utils.dataframe_utils:_validate_icd_codes:56 - row 35: discarded ICDs after validation {''}\n",
      "2022-10-14 09:45:56.583 | DEBUG    | src.utils.dataframe_utils:_validate_icd_codes:56 - row 37: discarded ICDs after validation {''}\n",
      "2022-10-14 09:45:56.584 | DEBUG    | src.utils.dataframe_utils:_validate_icd_codes:56 - row 38: discarded ICDs after validation {''}\n",
      "2022-10-14 09:45:56.584 | DEBUG    | src.utils.dataframe_utils:_validate_icd_codes:56 - row 40: discarded ICDs after validation {''}\n",
      "2022-10-14 09:45:56.585 | DEBUG    | src.utils.dataframe_utils:_validate_icd_codes:56 - row 41: discarded ICDs after validation {''}\n",
      "2022-10-14 09:45:56.586 | DEBUG    | src.utils.dataframe_utils:_validate_icd_codes:56 - row 43: discarded ICDs after validation {''}\n",
      "2022-10-14 09:45:56.587 | DEBUG    | src.utils.dataframe_utils:_validate_icd_codes:56 - row 46: discarded ICDs after validation {''}\n",
      "2022-10-14 09:45:56.588 | DEBUG    | src.utils.dataframe_utils:_validate_icd_codes:56 - row 47: discarded ICDs after validation {''}\n",
      "2022-10-14 09:45:56.588 | DEBUG    | src.utils.dataframe_utils:_validate_icd_codes:56 - row 48: discarded ICDs after validation {''}\n",
      "2022-10-14 09:45:56.590 | DEBUG    | src.utils.dataframe_utils:_validate_icd_codes:56 - row 49: discarded ICDs after validation {''}\n",
      "2022-10-14 09:45:56.590 | DEBUG    | src.utils.dataframe_utils:_validate_icd_codes:56 - row 51: discarded ICDs after validation {''}\n",
      "2022-10-14 09:45:56.591 | DEBUG    | src.utils.dataframe_utils:_validate_icd_codes:56 - row 52: discarded ICDs after validation {''}\n",
      "2022-10-14 09:45:56.592 | DEBUG    | src.utils.dataframe_utils:_validate_icd_codes:56 - row 53: discarded ICDs after validation {''}\n",
      "2022-10-14 09:45:56.592 | DEBUG    | src.utils.dataframe_utils:_validate_icd_codes:56 - row 55: discarded ICDs after validation {''}\n",
      "2022-10-14 09:45:56.593 | DEBUG    | src.utils.dataframe_utils:_validate_icd_codes:56 - row 56: discarded ICDs after validation {''}\n",
      "2022-10-14 09:45:56.596 | DEBUG    | src.utils.dataframe_utils:_validate_chop_codes:99 - row 0: discarded duplicated and invalid CHOP entries after validation {'948x40::20170128'}\n",
      "2022-10-14 09:45:56.597 | DEBUG    | src.utils.dataframe_utils:_validate_chop_codes:99 - row 1: discarded duplicated and invalid CHOP entries after validation {'99b812::20170212'}\n",
      "2022-10-14 09:45:56.597 | DEBUG    | src.utils.dataframe_utils:_validate_chop_codes:99 - row 2: discarded duplicated and invalid CHOP entries after validation {''}\n",
      "2022-10-14 09:45:56.598 | DEBUG    | src.utils.dataframe_utils:_validate_chop_codes:99 - row 3: discarded duplicated and invalid CHOP entries after validation {''}\n",
      "2022-10-14 09:45:56.599 | DEBUG    | src.utils.dataframe_utils:_validate_chop_codes:99 - row 4: discarded duplicated and invalid CHOP entries after validation {''}\n",
      "2022-10-14 09:45:56.600 | DEBUG    | src.utils.dataframe_utils:_validate_chop_codes:99 - row 5: discarded duplicated and invalid CHOP entries after validation {'99b813::20170117'}\n",
      "2022-10-14 09:45:56.600 | DEBUG    | src.utils.dataframe_utils:_validate_chop_codes:99 - row 6: discarded duplicated and invalid CHOP entries after validation {''}\n",
      "2022-10-14 09:45:56.601 | DEBUG    | src.utils.dataframe_utils:_validate_chop_codes:99 - row 7: discarded duplicated and invalid CHOP entries after validation {''}\n",
      "2022-10-14 09:45:56.605 | DEBUG    | src.utils.dataframe_utils:_validate_chop_codes:99 - row 8: discarded duplicated and invalid CHOP entries after validation {''}\n",
      "2022-10-14 09:45:56.605 | DEBUG    | src.utils.dataframe_utils:_validate_chop_codes:99 - row 9: discarded duplicated and invalid CHOP entries after validation {'835x11:R:20170427'}\n",
      "2022-10-14 09:45:56.606 | DEBUG    | src.utils.dataframe_utils:_validate_chop_codes:99 - row 10: discarded duplicated and invalid CHOP entries after validation {''}\n",
      "2022-10-14 09:45:56.607 | DEBUG    | src.utils.dataframe_utils:_validate_chop_codes:99 - row 11: discarded duplicated and invalid CHOP entries after validation {''}\n",
      "2022-10-14 09:45:56.608 | DEBUG    | src.utils.dataframe_utils:_validate_chop_codes:99 - row 12: discarded duplicated and invalid CHOP entries after validation {'99b811::20170519'}\n",
      "2022-10-14 09:45:56.609 | DEBUG    | src.utils.dataframe_utils:_validate_chop_codes:99 - row 13: discarded duplicated and invalid CHOP entries after validation {''}\n",
      "2022-10-14 09:45:56.609 | DEBUG    | src.utils.dataframe_utils:_validate_chop_codes:99 - row 14: discarded duplicated and invalid CHOP entries after validation {''}\n",
      "2022-10-14 09:45:56.611 | DEBUG    | src.utils.dataframe_utils:_validate_chop_codes:99 - row 15: discarded duplicated and invalid CHOP entries after validation {''}\n",
      "2022-10-14 09:45:56.611 | DEBUG    | src.utils.dataframe_utils:_validate_chop_codes:99 - row 16: discarded duplicated and invalid CHOP entries after validation {''}\n",
      "2022-10-14 09:45:56.611 | DEBUG    | src.utils.dataframe_utils:_validate_chop_codes:99 - row 17: discarded duplicated and invalid CHOP entries after validation {'948x40::20170621', '99b810::20170627'}\n",
      "2022-10-14 09:45:56.612 | DEBUG    | src.utils.dataframe_utils:_validate_chop_codes:99 - row 18: discarded duplicated and invalid CHOP entries after validation {''}\n",
      "2022-10-14 09:45:56.612 | DEBUG    | src.utils.dataframe_utils:_validate_chop_codes:99 - row 19: discarded duplicated and invalid CHOP entries after validation {''}\n",
      "2022-10-14 09:45:56.613 | DEBUG    | src.utils.dataframe_utils:_validate_chop_codes:99 - row 20: discarded duplicated and invalid CHOP entries after validation {'009a26:L:20170711', '605x10::20170711', '403x23:B:20170711'}\n",
      "2022-10-14 09:45:56.614 | DEBUG    | src.utils.dataframe_utils:_validate_chop_codes:99 - row 21: discarded duplicated and invalid CHOP entries after validation {''}\n",
      "2022-10-14 09:45:56.614 | DEBUG    | src.utils.dataframe_utils:_validate_chop_codes:99 - row 22: discarded duplicated and invalid CHOP entries after validation {'862a1d:L:20170608', '862a2d:L:20170530', '86331d:L:20170602', '8688i6:L:20170530'}\n",
      "2022-10-14 09:45:56.615 | DEBUG    | src.utils.dataframe_utils:_validate_chop_codes:99 - row 23: discarded duplicated and invalid CHOP entries after validation {''}\n",
      "2022-10-14 09:45:56.616 | DEBUG    | src.utils.dataframe_utils:_validate_chop_codes:99 - row 24: discarded duplicated and invalid CHOP entries after validation {'99b810::20170710'}\n",
      "2022-10-14 09:45:56.616 | DEBUG    | src.utils.dataframe_utils:_validate_chop_codes:99 - row 25: discarded duplicated and invalid CHOP entries after validation {''}\n",
      "2022-10-14 09:45:56.617 | DEBUG    | src.utils.dataframe_utils:_validate_chop_codes:99 - row 26: discarded duplicated and invalid CHOP entries after validation {'8526:R:20170201'}\n",
      "2022-10-14 09:45:56.617 | DEBUG    | src.utils.dataframe_utils:_validate_chop_codes:99 - row 27: discarded duplicated and invalid CHOP entries after validation {''}\n",
      "2022-10-14 09:45:56.618 | DEBUG    | src.utils.dataframe_utils:_validate_chop_codes:99 - row 28: discarded duplicated and invalid CHOP entries after validation {''}\n",
      "2022-10-14 09:45:56.619 | DEBUG    | src.utils.dataframe_utils:_validate_chop_codes:99 - row 29: discarded duplicated and invalid CHOP entries after validation {''}\n",
      "2022-10-14 09:45:56.620 | DEBUG    | src.utils.dataframe_utils:_validate_chop_codes:99 - row 30: discarded duplicated and invalid CHOP entries after validation {''}\n",
      "2022-10-14 09:45:56.621 | DEBUG    | src.utils.dataframe_utils:_validate_chop_codes:99 - row 31: discarded duplicated and invalid CHOP entries after validation {''}\n",
      "2022-10-14 09:45:56.621 | DEBUG    | src.utils.dataframe_utils:_validate_chop_codes:99 - row 32: discarded duplicated and invalid CHOP entries after validation {'570x99::20170916'}\n",
      "2022-10-14 09:45:56.622 | DEBUG    | src.utils.dataframe_utils:_validate_chop_codes:99 - row 33: discarded duplicated and invalid CHOP entries after validation {''}\n",
      "2022-10-14 09:45:56.622 | DEBUG    | src.utils.dataframe_utils:_validate_chop_codes:99 - row 34: discarded duplicated and invalid CHOP entries after validation {'808511:R:20170215', '009a26::20170217'}\n",
      "2022-10-14 09:45:56.623 | DEBUG    | src.utils.dataframe_utils:_validate_chop_codes:99 - row 35: discarded duplicated and invalid CHOP entries after validation {''}\n",
      "2022-10-14 09:45:56.624 | DEBUG    | src.utils.dataframe_utils:_validate_chop_codes:99 - row 36: discarded duplicated and invalid CHOP entries after validation {''}\n",
      "2022-10-14 09:45:56.625 | DEBUG    | src.utils.dataframe_utils:_validate_chop_codes:99 - row 37: discarded duplicated and invalid CHOP entries after validation {''}\n",
      "2022-10-14 09:45:56.625 | DEBUG    | src.utils.dataframe_utils:_validate_chop_codes:99 - row 38: discarded duplicated and invalid CHOP entries after validation {'004b1a:L:20171127'}\n",
      "2022-10-14 09:45:56.626 | DEBUG    | src.utils.dataframe_utils:_validate_chop_codes:99 - row 39: discarded duplicated and invalid CHOP entries after validation {''}\n",
      "2022-10-14 09:45:56.627 | DEBUG    | src.utils.dataframe_utils:_validate_chop_codes:99 - row 40: discarded duplicated and invalid CHOP entries after validation {''}\n",
      "2022-10-14 09:45:56.627 | DEBUG    | src.utils.dataframe_utils:_validate_chop_codes:99 - row 41: discarded duplicated and invalid CHOP entries after validation {''}\n",
      "2022-10-14 09:45:56.628 | DEBUG    | src.utils.dataframe_utils:_validate_chop_codes:99 - row 42: discarded duplicated and invalid CHOP entries after validation {''}\n",
      "2022-10-14 09:45:56.629 | DEBUG    | src.utils.dataframe_utils:_validate_chop_codes:99 - row 44: discarded duplicated and invalid CHOP entries after validation {''}\n",
      "2022-10-14 09:45:56.630 | DEBUG    | src.utils.dataframe_utils:_validate_chop_codes:99 - row 45: discarded duplicated and invalid CHOP entries after validation {''}\n",
      "2022-10-14 09:45:56.630 | DEBUG    | src.utils.dataframe_utils:_validate_chop_codes:99 - row 46: discarded duplicated and invalid CHOP entries after validation {'86321e:B:20170731', '86531e:B:20170725', '890a32::20170725'}\n",
      "2022-10-14 09:45:56.631 | DEBUG    | src.utils.dataframe_utils:_validate_chop_codes:99 - row 47: discarded duplicated and invalid CHOP entries after validation {'862a1d:L:20170613'}\n",
      "2022-10-14 09:45:56.631 | DEBUG    | src.utils.dataframe_utils:_validate_chop_codes:99 - row 48: discarded duplicated and invalid CHOP entries after validation {''}\n",
      "2022-10-14 09:45:56.632 | DEBUG    | src.utils.dataframe_utils:_validate_chop_codes:99 - row 49: discarded duplicated and invalid CHOP entries after validation {''}\n",
      "2022-10-14 09:45:56.633 | DEBUG    | src.utils.dataframe_utils:_validate_chop_codes:99 - row 50: discarded duplicated and invalid CHOP entries after validation {''}\n",
      "2022-10-14 09:45:56.633 | DEBUG    | src.utils.dataframe_utils:_validate_chop_codes:99 - row 51: discarded duplicated and invalid CHOP entries after validation {''}\n",
      "2022-10-14 09:45:56.634 | DEBUG    | src.utils.dataframe_utils:_validate_chop_codes:99 - row 52: discarded duplicated and invalid CHOP entries after validation {'890a32::20170818'}\n",
      "2022-10-14 09:45:56.635 | DEBUG    | src.utils.dataframe_utils:_validate_chop_codes:99 - row 53: discarded duplicated and invalid CHOP entries after validation {'8311.807799'}\n",
      "2022-10-14 09:45:56.635 | DEBUG    | src.utils.dataframe_utils:_validate_chop_codes:99 - row 54: discarded duplicated and invalid CHOP entries after validation {''}\n",
      "2022-10-14 09:45:56.636 | DEBUG    | src.utils.dataframe_utils:_validate_chop_codes:99 - row 55: discarded duplicated and invalid CHOP entries after validation {''}\n",
      "2022-10-14 09:45:56.637 | DEBUG    | src.utils.dataframe_utils:_validate_chop_codes:99 - row 56: discarded duplicated and invalid CHOP entries after validation {''}\n",
      "2022-10-14 09:45:56.639 | DEBUG    | src.utils.dataframe_utils:_validate_chop_codes:99 - row 0: discarded duplicated and invalid CHOP entries after validation {'948X40::20170128'}\n",
      "2022-10-14 09:45:56.640 | DEBUG    | src.utils.dataframe_utils:_validate_chop_codes:99 - row 1: discarded duplicated and invalid CHOP entries after validation {'99B812::20170212'}\n",
      "2022-10-14 09:45:56.641 | DEBUG    | src.utils.dataframe_utils:_validate_chop_codes:99 - row 2: discarded duplicated and invalid CHOP entries after validation {''}\n",
      "2022-10-14 09:45:56.641 | DEBUG    | src.utils.dataframe_utils:_validate_chop_codes:99 - row 3: discarded duplicated and invalid CHOP entries after validation {'399521::20170304'}\n",
      "2022-10-14 09:45:56.642 | DEBUG    | src.utils.dataframe_utils:_validate_chop_codes:99 - row 4: discarded duplicated and invalid CHOP entries after validation {''}\n",
      "2022-10-14 09:45:56.642 | DEBUG    | src.utils.dataframe_utils:_validate_chop_codes:99 - row 5: discarded duplicated and invalid CHOP entries after validation {'99B813::20170117'}\n",
      "2022-10-14 09:45:56.643 | DEBUG    | src.utils.dataframe_utils:_validate_chop_codes:99 - row 6: discarded duplicated and invalid CHOP entries after validation {''}\n",
      "2022-10-14 09:45:56.644 | DEBUG    | src.utils.dataframe_utils:_validate_chop_codes:99 - row 7: discarded duplicated and invalid CHOP entries after validation {''}\n",
      "2022-10-14 09:45:56.644 | DEBUG    | src.utils.dataframe_utils:_validate_chop_codes:99 - row 8: discarded duplicated and invalid CHOP entries after validation {''}\n",
      "2022-10-14 09:45:56.645 | DEBUG    | src.utils.dataframe_utils:_validate_chop_codes:99 - row 9: discarded duplicated and invalid CHOP entries after validation {'835X11:R:20170427'}\n",
      "2022-10-14 09:45:56.645 | DEBUG    | src.utils.dataframe_utils:_validate_chop_codes:99 - row 10: discarded duplicated and invalid CHOP entries after validation {''}\n",
      "2022-10-14 09:45:56.646 | DEBUG    | src.utils.dataframe_utils:_validate_chop_codes:99 - row 11: discarded duplicated and invalid CHOP entries after validation {''}\n",
      "2022-10-14 09:45:56.647 | DEBUG    | src.utils.dataframe_utils:_validate_chop_codes:99 - row 12: discarded duplicated and invalid CHOP entries after validation {'99B811::20170519'}\n",
      "2022-10-14 09:45:56.648 | DEBUG    | src.utils.dataframe_utils:_validate_chop_codes:99 - row 13: discarded duplicated and invalid CHOP entries after validation {''}\n",
      "2022-10-14 09:45:56.648 | DEBUG    | src.utils.dataframe_utils:_validate_chop_codes:99 - row 14: discarded duplicated and invalid CHOP entries after validation {''}\n",
      "2022-10-14 09:45:56.649 | DEBUG    | src.utils.dataframe_utils:_validate_chop_codes:99 - row 15: discarded duplicated and invalid CHOP entries after validation {''}\n",
      "2022-10-14 09:45:56.650 | DEBUG    | src.utils.dataframe_utils:_validate_chop_codes:99 - row 16: discarded duplicated and invalid CHOP entries after validation {''}\n",
      "2022-10-14 09:45:56.650 | DEBUG    | src.utils.dataframe_utils:_validate_chop_codes:99 - row 17: discarded duplicated and invalid CHOP entries after validation {'948X40::20170621', '99B810::20170627'}\n",
      "2022-10-14 09:45:56.650 | DEBUG    | src.utils.dataframe_utils:_validate_chop_codes:99 - row 18: discarded duplicated and invalid CHOP entries after validation {''}\n",
      "2022-10-14 09:45:56.651 | DEBUG    | src.utils.dataframe_utils:_validate_chop_codes:99 - row 19: discarded duplicated and invalid CHOP entries after validation {'009920::20170719'}\n",
      "2022-10-14 09:45:56.652 | DEBUG    | src.utils.dataframe_utils:_validate_chop_codes:99 - row 20: discarded duplicated and invalid CHOP entries after validation {'009A26:L:20170711', '605X10::20170711', '403X23:B:20170711'}\n",
      "2022-10-14 09:45:56.653 | DEBUG    | src.utils.dataframe_utils:_validate_chop_codes:99 - row 21: discarded duplicated and invalid CHOP entries after validation {''}\n",
      "2022-10-14 09:45:56.654 | DEBUG    | src.utils.dataframe_utils:_validate_chop_codes:99 - row 22: discarded duplicated and invalid CHOP entries after validation {'8688I6:L:20170530', '86331D:L:20170602', '862A1D:L:20170608', '862A2D:L:20170530'}\n",
      "2022-10-14 09:45:56.654 | DEBUG    | src.utils.dataframe_utils:_validate_chop_codes:99 - row 23: discarded duplicated and invalid CHOP entries after validation {''}\n",
      "2022-10-14 09:45:56.655 | DEBUG    | src.utils.dataframe_utils:_validate_chop_codes:99 - row 24: discarded duplicated and invalid CHOP entries after validation {'99B810::20170710'}\n",
      "2022-10-14 09:45:56.656 | DEBUG    | src.utils.dataframe_utils:_validate_chop_codes:99 - row 25: discarded duplicated and invalid CHOP entries after validation {''}\n",
      "2022-10-14 09:45:56.656 | DEBUG    | src.utils.dataframe_utils:_validate_chop_codes:99 - row 26: discarded duplicated and invalid CHOP entries after validation {'8521:R:20170201'}\n",
      "2022-10-14 09:45:56.657 | DEBUG    | src.utils.dataframe_utils:_validate_chop_codes:99 - row 27: discarded duplicated and invalid CHOP entries after validation {''}\n",
      "2022-10-14 09:45:56.657 | DEBUG    | src.utils.dataframe_utils:_validate_chop_codes:99 - row 28: discarded duplicated and invalid CHOP entries after validation {''}\n",
      "2022-10-14 09:45:56.658 | DEBUG    | src.utils.dataframe_utils:_validate_chop_codes:99 - row 29: discarded duplicated and invalid CHOP entries after validation {''}\n",
      "2022-10-14 09:45:56.659 | DEBUG    | src.utils.dataframe_utils:_validate_chop_codes:99 - row 30: discarded duplicated and invalid CHOP entries after validation {''}\n",
      "2022-10-14 09:45:56.659 | DEBUG    | src.utils.dataframe_utils:_validate_chop_codes:99 - row 31: discarded duplicated and invalid CHOP entries after validation {''}\n",
      "2022-10-14 09:45:56.660 | DEBUG    | src.utils.dataframe_utils:_validate_chop_codes:99 - row 32: discarded duplicated and invalid CHOP entries after validation {'570X99::20170916'}\n",
      "2022-10-14 09:45:56.661 | DEBUG    | src.utils.dataframe_utils:_validate_chop_codes:99 - row 33: discarded duplicated and invalid CHOP entries after validation {''}\n",
      "2022-10-14 09:45:56.661 | DEBUG    | src.utils.dataframe_utils:_validate_chop_codes:99 - row 34: discarded duplicated and invalid CHOP entries after validation {'009A26::20170217', '808599:R:20170215'}\n",
      "2022-10-14 09:45:56.662 | DEBUG    | src.utils.dataframe_utils:_validate_chop_codes:99 - row 35: discarded duplicated and invalid CHOP entries after validation {''}\n",
      "2022-10-14 09:45:56.663 | DEBUG    | src.utils.dataframe_utils:_validate_chop_codes:99 - row 36: discarded duplicated and invalid CHOP entries after validation {''}\n",
      "2022-10-14 09:45:56.664 | DEBUG    | src.utils.dataframe_utils:_validate_chop_codes:99 - row 37: discarded duplicated and invalid CHOP entries after validation {''}\n",
      "2022-10-14 09:45:56.664 | DEBUG    | src.utils.dataframe_utils:_validate_chop_codes:99 - row 38: discarded duplicated and invalid CHOP entries after validation {'004B1A:L:20171127'}\n",
      "2022-10-14 09:45:56.665 | DEBUG    | src.utils.dataframe_utils:_validate_chop_codes:99 - row 39: discarded duplicated and invalid CHOP entries after validation {''}\n",
      "2022-10-14 09:45:56.665 | DEBUG    | src.utils.dataframe_utils:_validate_chop_codes:99 - row 40: discarded duplicated and invalid CHOP entries after validation {''}\n",
      "2022-10-14 09:45:56.666 | DEBUG    | src.utils.dataframe_utils:_validate_chop_codes:99 - row 41: discarded duplicated and invalid CHOP entries after validation {''}\n",
      "2022-10-14 09:45:56.667 | DEBUG    | src.utils.dataframe_utils:_validate_chop_codes:99 - row 42: discarded duplicated and invalid CHOP entries after validation {''}\n",
      "2022-10-14 09:45:56.667 | DEBUG    | src.utils.dataframe_utils:_validate_chop_codes:99 - row 43: discarded duplicated and invalid CHOP entries after validation {''}\n",
      "2022-10-14 09:45:56.668 | DEBUG    | src.utils.dataframe_utils:_validate_chop_codes:99 - row 44: discarded duplicated and invalid CHOP entries after validation {''}\n",
      "2022-10-14 09:45:56.669 | DEBUG    | src.utils.dataframe_utils:_validate_chop_codes:99 - row 45: discarded duplicated and invalid CHOP entries after validation {''}\n",
      "2022-10-14 09:45:56.670 | DEBUG    | src.utils.dataframe_utils:_validate_chop_codes:99 - row 46: discarded duplicated and invalid CHOP entries after validation {'86531E:B:20170725', '890A32::20170725', '887221::20170731', '86321E:B:20170731'}\n",
      "2022-10-14 09:45:56.671 | DEBUG    | src.utils.dataframe_utils:_validate_chop_codes:99 - row 47: discarded duplicated and invalid CHOP entries after validation {'862A1D:L:20170613'}\n",
      "2022-10-14 09:45:56.672 | DEBUG    | src.utils.dataframe_utils:_validate_chop_codes:99 - row 48: discarded duplicated and invalid CHOP entries after validation {''}\n",
      "2022-10-14 09:45:56.672 | DEBUG    | src.utils.dataframe_utils:_validate_chop_codes:99 - row 49: discarded duplicated and invalid CHOP entries after validation {''}\n",
      "2022-10-14 09:45:56.673 | DEBUG    | src.utils.dataframe_utils:_validate_chop_codes:99 - row 50: discarded duplicated and invalid CHOP entries after validation {''}\n",
      "2022-10-14 09:45:56.673 | DEBUG    | src.utils.dataframe_utils:_validate_chop_codes:99 - row 51: discarded duplicated and invalid CHOP entries after validation {''}\n",
      "2022-10-14 09:45:56.674 | DEBUG    | src.utils.dataframe_utils:_validate_chop_codes:99 - row 52: discarded duplicated and invalid CHOP entries after validation {'890A32::20170818'}\n",
      "2022-10-14 09:45:56.675 | DEBUG    | src.utils.dataframe_utils:_validate_chop_codes:99 - row 53: discarded duplicated and invalid CHOP entries after validation {''}\n",
      "2022-10-14 09:45:56.676 | DEBUG    | src.utils.dataframe_utils:_validate_chop_codes:99 - row 54: discarded duplicated and invalid CHOP entries after validation {''}\n",
      "2022-10-14 09:45:56.676 | DEBUG    | src.utils.dataframe_utils:_validate_chop_codes:99 - row 55: discarded duplicated and invalid CHOP entries after validation {''}\n",
      "2022-10-14 09:45:56.677 | DEBUG    | src.utils.dataframe_utils:_validate_chop_codes:99 - row 56: discarded duplicated and invalid CHOP entries after validation {''}\n"
     ]
    }
   ],
   "source": [
    "cols_to_rename = dict(COLUMNS_TO_RENAME)\n",
    "# Replace 'admno' with 'fall nummer'\n",
    "cols_to_rename.pop('admno')\n",
    "cols_to_rename['fall nummer'] = CASE_ID_COL\n",
    "\n",
    "df_revised_case_d2d = normalize(file_info, 0)"
   ]
  },
  {
   "cell_type": "code",
   "execution_count": null,
   "outputs": [],
   "source": [
    "df_revised_case_d2d"
   ],
   "metadata": {
    "collapsed": false,
    "pycharm": {
     "name": "#%%\n"
    }
   }
  },
  {
   "cell_type": "markdown",
   "source": [
    "# Compare the pd with new_pd, \n",
    "- If there are the same, we take the new_pd\n",
    "- If there are not the same, we keep the new_pd. logging info: primary diagnosis has been changed\n",
    "    - we check if the new_pd appears in the column of added_icds. If yes, remove from the added_icd list, because added_icd is for secondary diagnosis. \n",
    "    - we check if the pd appears in the column of removed_icds. If yes, remove from the removed_icd list, because removed_icd is for secondary diagnosis. \n"
   ],
   "metadata": {
    "collapsed": false,
    "pycharm": {
     "name": "#%% md\n"
    }
   }
  },
  {
   "cell_type": "code",
   "execution_count": null,
   "outputs": [],
   "source": [
    "row_example = df_revised_case_d2d.loc[40]\n",
    "row_example"
   ],
   "metadata": {
    "collapsed": false,
    "pycharm": {
     "name": "#%%\n"
    }
   }
  },
  {
   "cell_type": "code",
   "execution_count": null,
   "outputs": [],
   "source": [
    "pd_col = 'old_pd'\n",
    "pd_new_col = 'new_pd'\n",
    "added_icd_col = 'added_icds'\n",
    "removed_icd_col = 'removed_icds'"
   ],
   "metadata": {
    "collapsed": false,
    "pycharm": {
     "name": "#%%\n"
    }
   }
  },
  {
   "cell_type": "code",
   "execution_count": null,
   "outputs": [],
   "source": [
    "def _validate_pd_revised_sd(row):\n",
    "    pd_col = 'old_pd'\n",
    "    pd_new_col = 'new_pd'\n",
    "    added_icd_col = 'added_icds'\n",
    "    removed_icd_col = 'removed_icds'\n",
    "    old_pd = row[pd_col]\n",
    "    new_pd = row[pd_new_col]\n",
    "    added_icds = row[added_icd_col]\n",
    "    removed_icds = row[removed_icd_col]\n",
    "        # comparing old pd with new pd: discarding the new_pd if it is the same as the old pd.\n",
    "    if old_pd != new_pd:\n",
    "            \n",
    "            # logger.debug(f'in the {row.name}, primary diagnosis where changed from {pd} to {new_pd}')\n",
    "        if new_pd in added_icds:\n",
    "            added_icds.remove(new_pd)\n",
    "        if old_pd in removed_icds:\n",
    "            removed_icds.remove(old_pd)\n",
    "    row[pd_col] = new_pd\n",
    "    row[added_icds] = added_icds\n",
    "    row[removed_icd_col] = removed_icds\n",
    "\n",
    "    return row"
   ],
   "metadata": {
    "collapsed": false,
    "pycharm": {
     "name": "#%%\n"
    }
   }
  },
  {
   "cell_type": "code",
   "execution_count": null,
   "outputs": [],
   "source": [
    "_validate_pd_revised_sd(row_example)"
   ],
   "metadata": {
    "collapsed": false,
    "pycharm": {
     "name": "#%%\n"
    }
   }
  },
  {
   "cell_type": "code",
   "execution_count": null,
   "outputs": [],
   "source": [
    "df_revised_case_d2d.apply(_validate_pd_revised_sd)"
   ],
   "metadata": {
    "collapsed": false,
    "pycharm": {
     "name": "#%%\n"
    }
   }
  },
  {
   "cell_type": "code",
   "execution_count": null,
   "outputs": [],
   "source": [
    "def validate_pd_revised_sd(df: pd.DataFrame,\n",
    "                        *,\n",
    "                        pd_col: str = 'old_pd',\n",
    "                        pd_new_col: str = 'new_pd',\n",
    "                        added_icd_col: str = 'added_icds',\n",
    "                        removed_icd_col: str = 'removed_icds',\n",
    "                           ) -> pd.DataFrame:\n",
    "    \"\"\"Validate whether a list of old and new primary diagnosis are captured, discarding codes which are not correctly captured.\n",
    "    Further: validation of added and removed secondary diagnosis (added_icds and removed icds),\n",
    "    discarding those which do not correspond to an added or removed secondary diagnosis respectively.\n",
    "\n",
    "    @param df: The data where to perform the filter.\n",
    "    @param pd_col: The column containing the unrevised primary diagnosis to validate.\n",
    "    @param pd_new_col: The column containing the revised primary diagnosis to validate.\n",
    "    @param added_icd_col: The column containing the added secondary icds to validate.\n",
    "    @param removed_icd_col: The column containing the removed secondary icds to validate.\n",
    "    @return: The input DataFrame, with a validated 'pd' (consolidated column with 'pd' and 'pd_new'), 'added_icds',\n",
    "    'removed_icds', overwriting existing columns\n",
    "    \"\"\"\n",
    "    def _validate_pd_revised_sd(row):\n",
    "        old_pd = row[pd_col]\n",
    "        new_pd = row[pd_new_col]\n",
    "        added_icds = row[added_icd_col]\n",
    "        removed_icds = row[removed_icd_col]\n",
    "        # comparing old pd with new pd: discarding the new_pd if it is the same as the old pd.\n",
    "        if old_pd != new_pd:\n",
    "            \n",
    "            # logger.debug(f'in the {row.name}, primary diagnosis where changed from {pd} to {new_pd}')\n",
    "            if new_pd in added_icds:\n",
    "                added_icds.remove(new_pd)\n",
    "            if old_pd in removed_icds:\n",
    "                removed_icds.remove(old_pd)\n",
    "        row[pd_col] = new_pd\n",
    "        row[added_icds] = added_icds\n",
    "        row[removed_icd_col] = removed_icds\n",
    "\n",
    "        return row\n",
    "\n",
    "    df = df.apply(_validate_pd_revised_sd, axis=1)\n",
    "    return df"
   ],
   "metadata": {
    "collapsed": false,
    "pycharm": {
     "name": "#%%\n"
    }
   }
  },
  {
   "cell_type": "code",
   "execution_count": null,
   "outputs": [],
   "source": [
    "validate_pd_revised_sd(df_revised_case_d2d, pd_col = 'old_pd',\n",
    "                        pd_new_col = 'new_pd',\n",
    "                        added_icd_col = 'added_icds',\n",
    "                        removed_icd_col = 'removed_icds' )"
   ],
   "metadata": {
    "collapsed": false,
    "pycharm": {
     "name": "#%%\n"
    }
   }
  },
  {
   "cell_type": "code",
   "execution_count": null,
   "outputs": [],
   "source": [
    "pd = row_example['pd']\n",
    "new_pd = row_example['new_pd']\n",
    "added_icds = row_example['added_icds']\n",
    "removed_icds =  row_example['removed_icds']\n",
    "\n",
    "if pd != new_pd:\n",
    "    logger.debug(f\"row {row.name}: discarded duplicated and invalid CHOP entries after validation {discard_chops}\")\n",
    "    logger.debug(f'in the {row.name}, primary diagnosis has been change from {pd} to {new_pd}')\n",
    "    if new_pd in added_icds:\n",
    "        added_icds.remove(new_pd)\n",
    "    if pd in removed_icds:\n",
    "        removed_icds.remove(pd)\n",
    "\n",
    "row_example['pd'] = new_pd\n",
    "row_example['added_icds'] = added_icds\n",
    "row_example['removed_icds'] = removed_icds\n",
    "print(row_example)    \n",
    "    \n",
    "    "
   ],
   "metadata": {
    "collapsed": false,
    "pycharm": {
     "name": "#%%\n"
    }
   }
  },
  {
   "cell_type": "code",
   "execution_count": null,
   "outputs": [],
   "source": [
    "def validate_pd_revised_sd(df_revised_case_d2d):\n",
    "    def _validate_pd_revised_sd(row):\n",
    "        pd = row['pd']\n",
    "        new_pd = row['new_pd']\n",
    "        added_icds = row['added_icds']\n",
    "        removed_icds =  row['removed_icds']\n",
    "        if pd != new_pd:\n",
    "            print(row.name)\n",
    "            # logger.debug(f'in the {row.name}, primary diagnosis has been change from {pd} to {new_pd}')\n",
    "            if new_pd in added_icds:\n",
    "                added_icds.remove(new_pd)\n",
    "            if pd in removed_icds:\n",
    "                removed_icds.remove(pd)\n",
    "        row['pd'] = new_pd\n",
    "        row['added_icds'] = added_icds\n",
    "        row['removed_icds'] = removed_icds\n",
    "\n",
    "        return row\n",
    "    df = df_revised_case_d2d.apply(_validate_pd_revised_sd)\n",
    "    return df\n",
    "    \n",
    "validate_pd_revised_sd(df_revised_case_d2d)"
   ],
   "metadata": {
    "collapsed": false,
    "pycharm": {
     "name": "#%%\n"
    }
   }
  },
  {
   "cell_type": "code",
   "execution_count": 22,
   "id": "a968a218-c35d-457d-a6c0-b27bcfcde7f0",
   "metadata": {},
   "outputs": [
    {
     "name": "stderr",
     "output_type": "stream",
     "text": [
      "/tmp/ipykernel_12214/2267993234.py:18: SettingWithCopyWarning: \n",
      "A value is trying to be set on a copy of a slice from a DataFrame\n",
      "\n",
      "See the caveats in the documentation: https://pandas.pydata.org/pandas-docs/stable/user_guide/indexing.html#returning-a-view-versus-a-copy\n",
      "  row[pd_col] = new_pd\n",
      "/tmp/ipykernel_12214/2267993234.py:19: SettingWithCopyWarning: \n",
      "A value is trying to be set on a copy of a slice from a DataFrame\n",
      "\n",
      "See the caveats in the documentation: https://pandas.pydata.org/pandas-docs/stable/user_guide/indexing.html#returning-a-view-versus-a-copy\n",
      "  row[added_icds] = added_icds\n",
      "/tmp/ipykernel_12214/2267993234.py:19: SettingWithCopyWarning: \n",
      "A value is trying to be set on a copy of a slice from a DataFrame\n",
      "\n",
      "See the caveats in the documentation: https://pandas.pydata.org/pandas-docs/stable/user_guide/indexing.html#returning-a-view-versus-a-copy\n",
      "  row[added_icds] = added_icds\n",
      "/tmp/ipykernel_12214/2267993234.py:20: SettingWithCopyWarning: \n",
      "A value is trying to be set on a copy of a slice from a DataFrame\n",
      "\n",
      "See the caveats in the documentation: https://pandas.pydata.org/pandas-docs/stable/user_guide/indexing.html#returning-a-view-versus-a-copy\n",
      "  row[removed_icd_col] = removed_icds\n"
     ]
    },
    {
     "data": {
      "text/plain": [
       "case_id                     41608546\n",
       "patient_id          10553A6D7A39FBD7\n",
       "gender                             M\n",
       "age_years                         84\n",
       "duration_of_stay                   3\n",
       "pccl                               3\n",
       "drg                             F62C\n",
       "old_pd                         I5019\n",
       "new_pd                         I5019\n",
       "bfs_code                        M100\n",
       "added_icds                        []\n",
       "removed_icds                      []\n",
       "added_chops                       []\n",
       "removed_chops                     []\n",
       "Name: 40, dtype: object"
      ]
     },
     "execution_count": 22,
     "metadata": {},
     "output_type": "execute_result"
    }
   ],
   "source": [
    "_validate_pd_revised_sd(row_example)"
   ]
  },
  {
   "cell_type": "code",
   "execution_count": 23,
   "id": "5169b0ce-8ccd-43f3-b3fa-6388d80e96e0",
   "metadata": {},
   "outputs": [
    {
     "ename": "KeyError",
     "evalue": "'old_pd'",
     "output_type": "error",
     "traceback": [
      "\u001B[0;31m---------------------------------------------------------------------------\u001B[0m",
      "\u001B[0;31mKeyError\u001B[0m                                  Traceback (most recent call last)",
      "Cell \u001B[0;32mIn [23], line 1\u001B[0m\n\u001B[0;32m----> 1\u001B[0m df_revised_case_d2d\u001B[38;5;241m.\u001B[39mapply(_validate_pd_revised_sd)\n",
      "File \u001B[0;32m/opt/conda/lib/python3.10/site-packages/pandas/core/frame.py:9558\u001B[0m, in \u001B[0;36mDataFrame.apply\u001B[0;34m(self, func, axis, raw, result_type, args, **kwargs)\u001B[0m\n\u001B[1;32m   9547\u001B[0m \u001B[38;5;28;01mfrom\u001B[39;00m \u001B[38;5;21;01mpandas\u001B[39;00m\u001B[38;5;21;01m.\u001B[39;00m\u001B[38;5;21;01mcore\u001B[39;00m\u001B[38;5;21;01m.\u001B[39;00m\u001B[38;5;21;01mapply\u001B[39;00m \u001B[38;5;28;01mimport\u001B[39;00m frame_apply\n\u001B[1;32m   9549\u001B[0m op \u001B[38;5;241m=\u001B[39m frame_apply(\n\u001B[1;32m   9550\u001B[0m     \u001B[38;5;28mself\u001B[39m,\n\u001B[1;32m   9551\u001B[0m     func\u001B[38;5;241m=\u001B[39mfunc,\n\u001B[0;32m   (...)\u001B[0m\n\u001B[1;32m   9556\u001B[0m     kwargs\u001B[38;5;241m=\u001B[39mkwargs,\n\u001B[1;32m   9557\u001B[0m )\n\u001B[0;32m-> 9558\u001B[0m \u001B[38;5;28;01mreturn\u001B[39;00m \u001B[43mop\u001B[49m\u001B[38;5;241;43m.\u001B[39;49m\u001B[43mapply\u001B[49m\u001B[43m(\u001B[49m\u001B[43m)\u001B[49m\u001B[38;5;241m.\u001B[39m__finalize__(\u001B[38;5;28mself\u001B[39m, method\u001B[38;5;241m=\u001B[39m\u001B[38;5;124m\"\u001B[39m\u001B[38;5;124mapply\u001B[39m\u001B[38;5;124m\"\u001B[39m)\n",
      "File \u001B[0;32m/opt/conda/lib/python3.10/site-packages/pandas/core/apply.py:741\u001B[0m, in \u001B[0;36mFrameApply.apply\u001B[0;34m(self)\u001B[0m\n\u001B[1;32m    738\u001B[0m \u001B[38;5;28;01melif\u001B[39;00m \u001B[38;5;28mself\u001B[39m\u001B[38;5;241m.\u001B[39mraw:\n\u001B[1;32m    739\u001B[0m     \u001B[38;5;28;01mreturn\u001B[39;00m \u001B[38;5;28mself\u001B[39m\u001B[38;5;241m.\u001B[39mapply_raw()\n\u001B[0;32m--> 741\u001B[0m \u001B[38;5;28;01mreturn\u001B[39;00m \u001B[38;5;28;43mself\u001B[39;49m\u001B[38;5;241;43m.\u001B[39;49m\u001B[43mapply_standard\u001B[49m\u001B[43m(\u001B[49m\u001B[43m)\u001B[49m\n",
      "File \u001B[0;32m/opt/conda/lib/python3.10/site-packages/pandas/core/apply.py:868\u001B[0m, in \u001B[0;36mFrameApply.apply_standard\u001B[0;34m(self)\u001B[0m\n\u001B[1;32m    867\u001B[0m \u001B[38;5;28;01mdef\u001B[39;00m \u001B[38;5;21mapply_standard\u001B[39m(\u001B[38;5;28mself\u001B[39m):\n\u001B[0;32m--> 868\u001B[0m     results, res_index \u001B[38;5;241m=\u001B[39m \u001B[38;5;28;43mself\u001B[39;49m\u001B[38;5;241;43m.\u001B[39;49m\u001B[43mapply_series_generator\u001B[49m\u001B[43m(\u001B[49m\u001B[43m)\u001B[49m\n\u001B[1;32m    870\u001B[0m     \u001B[38;5;66;03m# wrap results\u001B[39;00m\n\u001B[1;32m    871\u001B[0m     \u001B[38;5;28;01mreturn\u001B[39;00m \u001B[38;5;28mself\u001B[39m\u001B[38;5;241m.\u001B[39mwrap_results(results, res_index)\n",
      "File \u001B[0;32m/opt/conda/lib/python3.10/site-packages/pandas/core/apply.py:884\u001B[0m, in \u001B[0;36mFrameApply.apply_series_generator\u001B[0;34m(self)\u001B[0m\n\u001B[1;32m    881\u001B[0m \u001B[38;5;28;01mwith\u001B[39;00m option_context(\u001B[38;5;124m\"\u001B[39m\u001B[38;5;124mmode.chained_assignment\u001B[39m\u001B[38;5;124m\"\u001B[39m, \u001B[38;5;28;01mNone\u001B[39;00m):\n\u001B[1;32m    882\u001B[0m     \u001B[38;5;28;01mfor\u001B[39;00m i, v \u001B[38;5;129;01min\u001B[39;00m \u001B[38;5;28menumerate\u001B[39m(series_gen):\n\u001B[1;32m    883\u001B[0m         \u001B[38;5;66;03m# ignore SettingWithCopy here in case the user mutates\u001B[39;00m\n\u001B[0;32m--> 884\u001B[0m         results[i] \u001B[38;5;241m=\u001B[39m \u001B[38;5;28;43mself\u001B[39;49m\u001B[38;5;241;43m.\u001B[39;49m\u001B[43mf\u001B[49m\u001B[43m(\u001B[49m\u001B[43mv\u001B[49m\u001B[43m)\u001B[49m\n\u001B[1;32m    885\u001B[0m         \u001B[38;5;28;01mif\u001B[39;00m \u001B[38;5;28misinstance\u001B[39m(results[i], ABCSeries):\n\u001B[1;32m    886\u001B[0m             \u001B[38;5;66;03m# If we have a view on v, we need to make a copy because\u001B[39;00m\n\u001B[1;32m    887\u001B[0m             \u001B[38;5;66;03m#  series_generator will swap out the underlying data\u001B[39;00m\n\u001B[1;32m    888\u001B[0m             results[i] \u001B[38;5;241m=\u001B[39m results[i]\u001B[38;5;241m.\u001B[39mcopy(deep\u001B[38;5;241m=\u001B[39m\u001B[38;5;28;01mFalse\u001B[39;00m)\n",
      "Cell \u001B[0;32mIn [21], line 6\u001B[0m, in \u001B[0;36m_validate_pd_revised_sd\u001B[0;34m(row)\u001B[0m\n\u001B[1;32m      4\u001B[0m added_icd_col \u001B[38;5;241m=\u001B[39m \u001B[38;5;124m'\u001B[39m\u001B[38;5;124madded_icds\u001B[39m\u001B[38;5;124m'\u001B[39m\n\u001B[1;32m      5\u001B[0m removed_icd_col \u001B[38;5;241m=\u001B[39m \u001B[38;5;124m'\u001B[39m\u001B[38;5;124mremoved_icds\u001B[39m\u001B[38;5;124m'\u001B[39m\n\u001B[0;32m----> 6\u001B[0m old_pd \u001B[38;5;241m=\u001B[39m \u001B[43mrow\u001B[49m\u001B[43m[\u001B[49m\u001B[43mpd_col\u001B[49m\u001B[43m]\u001B[49m\n\u001B[1;32m      7\u001B[0m new_pd \u001B[38;5;241m=\u001B[39m row[pd_new_col]\n\u001B[1;32m      8\u001B[0m added_icds \u001B[38;5;241m=\u001B[39m row[added_icd_col]\n",
      "File \u001B[0;32m/opt/conda/lib/python3.10/site-packages/pandas/core/series.py:982\u001B[0m, in \u001B[0;36mSeries.__getitem__\u001B[0;34m(self, key)\u001B[0m\n\u001B[1;32m    979\u001B[0m     \u001B[38;5;28;01mreturn\u001B[39;00m \u001B[38;5;28mself\u001B[39m\u001B[38;5;241m.\u001B[39m_values[key]\n\u001B[1;32m    981\u001B[0m \u001B[38;5;28;01melif\u001B[39;00m key_is_scalar:\n\u001B[0;32m--> 982\u001B[0m     \u001B[38;5;28;01mreturn\u001B[39;00m \u001B[38;5;28;43mself\u001B[39;49m\u001B[38;5;241;43m.\u001B[39;49m\u001B[43m_get_value\u001B[49m\u001B[43m(\u001B[49m\u001B[43mkey\u001B[49m\u001B[43m)\u001B[49m\n\u001B[1;32m    984\u001B[0m \u001B[38;5;28;01mif\u001B[39;00m is_hashable(key):\n\u001B[1;32m    985\u001B[0m     \u001B[38;5;66;03m# Otherwise index.get_value will raise InvalidIndexError\u001B[39;00m\n\u001B[1;32m    986\u001B[0m     \u001B[38;5;28;01mtry\u001B[39;00m:\n\u001B[1;32m    987\u001B[0m         \u001B[38;5;66;03m# For labels that don't resolve as scalars like tuples and frozensets\u001B[39;00m\n",
      "File \u001B[0;32m/opt/conda/lib/python3.10/site-packages/pandas/core/series.py:1092\u001B[0m, in \u001B[0;36mSeries._get_value\u001B[0;34m(self, label, takeable)\u001B[0m\n\u001B[1;32m   1089\u001B[0m     \u001B[38;5;28;01mreturn\u001B[39;00m \u001B[38;5;28mself\u001B[39m\u001B[38;5;241m.\u001B[39m_values[label]\n\u001B[1;32m   1091\u001B[0m \u001B[38;5;66;03m# Similar to Index.get_value, but we do not fall back to positional\u001B[39;00m\n\u001B[0;32m-> 1092\u001B[0m loc \u001B[38;5;241m=\u001B[39m \u001B[38;5;28;43mself\u001B[39;49m\u001B[38;5;241;43m.\u001B[39;49m\u001B[43mindex\u001B[49m\u001B[38;5;241;43m.\u001B[39;49m\u001B[43mget_loc\u001B[49m\u001B[43m(\u001B[49m\u001B[43mlabel\u001B[49m\u001B[43m)\u001B[49m\n\u001B[1;32m   1093\u001B[0m \u001B[38;5;28;01mreturn\u001B[39;00m \u001B[38;5;28mself\u001B[39m\u001B[38;5;241m.\u001B[39mindex\u001B[38;5;241m.\u001B[39m_get_values_for_loc(\u001B[38;5;28mself\u001B[39m, loc, label)\n",
      "File \u001B[0;32m/opt/conda/lib/python3.10/site-packages/pandas/core/indexes/range.py:396\u001B[0m, in \u001B[0;36mRangeIndex.get_loc\u001B[0;34m(self, key, method, tolerance)\u001B[0m\n\u001B[1;32m    394\u001B[0m             \u001B[38;5;28;01mraise\u001B[39;00m \u001B[38;5;167;01mKeyError\u001B[39;00m(key) \u001B[38;5;28;01mfrom\u001B[39;00m \u001B[38;5;21;01merr\u001B[39;00m\n\u001B[1;32m    395\u001B[0m     \u001B[38;5;28mself\u001B[39m\u001B[38;5;241m.\u001B[39m_check_indexing_error(key)\n\u001B[0;32m--> 396\u001B[0m     \u001B[38;5;28;01mraise\u001B[39;00m \u001B[38;5;167;01mKeyError\u001B[39;00m(key)\n\u001B[1;32m    397\u001B[0m \u001B[38;5;28;01mreturn\u001B[39;00m \u001B[38;5;28msuper\u001B[39m()\u001B[38;5;241m.\u001B[39mget_loc(key, method\u001B[38;5;241m=\u001B[39mmethod, tolerance\u001B[38;5;241m=\u001B[39mtolerance)\n",
      "\u001B[0;31mKeyError\u001B[0m: 'old_pd'"
     ]
    }
   ],
   "source": [
    "df_revised_case_d2d.apply(_validate_pd_revised_sd)"
   ]
  },
  {
   "cell_type": "code",
   "execution_count": 8,
   "id": "de087006-257e-4901-869b-6a6f756610c6",
   "metadata": {},
   "outputs": [],
   "source": [
    "def validate_pd_revised_sd(df: pd.DataFrame,\n",
    "                        *,\n",
    "                        pd_col: str = 'old_pd',\n",
    "                        pd_new_col: str = 'new_pd',\n",
    "                        added_icd_col: str = 'added_icds',\n",
    "                        removed_icd_col: str = 'removed_icds',\n",
    "                           ) -> pd.DataFrame:\n",
    "    \"\"\"Validate whether a list of old and new primary diagnosis are captured, discarding codes which are not correctly captured.\n",
    "    Further: validation of added and removed secondary diagnosis (added_icds and removed icds),\n",
    "    discarding those which do not correspond to an added or removed secondary diagnosis respectively.\n",
    "\n",
    "    @param df: The data where to perform the filter.\n",
    "    @param pd_col: The column containing the unrevised primary diagnosis to validate.\n",
    "    @param pd_new_col: The column containing the revised primary diagnosis to validate.\n",
    "    @param added_icd_col: The column containing the added secondary icds to validate.\n",
    "    @param removed_icd_col: The column containing the removed secondary icds to validate.\n",
    "    @return: The input DataFrame, with a validated 'pd' (consolidated column with 'pd' and 'pd_new'), 'added_icds',\n",
    "    'removed_icds', overwriting existing columns\n",
    "    \"\"\"\n",
    "    def _validate_pd_revised_sd(row):\n",
    "        old_pd = row[pd_col]\n",
    "        new_pd = row[pd_new_col]\n",
    "        added_icds = row[added_icd_col]\n",
    "        removed_icds = row[removed_icd_col]\n",
    "        # comparing old pd with new pd: discarding the new_pd if it is the same as the old pd.\n",
    "        if old_pd != new_pd:\n",
    "            \n",
    "            # logger.debug(f'in the {row.name}, primary diagnosis where changed from {pd} to {new_pd}')\n",
    "            if new_pd in added_icds:\n",
    "                added_icds.remove(new_pd)\n",
    "            if old_pd in removed_icds:\n",
    "                removed_icds.remove(old_pd)\n",
    "        row[pd_col] = new_pd\n",
    "        row[added_icds] = added_icds\n",
    "        row[removed_icd_col] = removed_icds\n",
    "\n",
    "        return row\n",
    "\n",
    "    df = df.apply(_validate_pd_revised_sd, axis=1)\n",
    "    return df"
   ]
  },
  {
   "cell_type": "code",
   "execution_count": 10,
   "id": "e7e981d2-2883-4bdb-84a6-a563296c9660",
   "metadata": {},
   "outputs": [
    {
     "ename": "KeyError",
     "evalue": "\"['N183'] not in index\"",
     "output_type": "error",
     "traceback": [
      "\u001B[0;31m---------------------------------------------------------------------------\u001B[0m",
      "\u001B[0;31mTypeError\u001B[0m                                 Traceback (most recent call last)",
      "File \u001B[0;32m/opt/conda/lib/python3.10/site-packages/pandas/core/indexes/base.py:3800\u001B[0m, in \u001B[0;36mIndex.get_loc\u001B[0;34m(self, key, method, tolerance)\u001B[0m\n\u001B[1;32m   3799\u001B[0m \u001B[38;5;28;01mtry\u001B[39;00m:\n\u001B[0;32m-> 3800\u001B[0m     \u001B[38;5;28;01mreturn\u001B[39;00m \u001B[38;5;28;43mself\u001B[39;49m\u001B[38;5;241;43m.\u001B[39;49m\u001B[43m_engine\u001B[49m\u001B[38;5;241;43m.\u001B[39;49m\u001B[43mget_loc\u001B[49m\u001B[43m(\u001B[49m\u001B[43mcasted_key\u001B[49m\u001B[43m)\u001B[49m\n\u001B[1;32m   3801\u001B[0m \u001B[38;5;28;01mexcept\u001B[39;00m \u001B[38;5;167;01mKeyError\u001B[39;00m \u001B[38;5;28;01mas\u001B[39;00m err:\n",
      "File \u001B[0;32m/opt/conda/lib/python3.10/site-packages/pandas/_libs/index.pyx:138\u001B[0m, in \u001B[0;36mpandas._libs.index.IndexEngine.get_loc\u001B[0;34m()\u001B[0m\n",
      "File \u001B[0;32m/opt/conda/lib/python3.10/site-packages/pandas/_libs/index.pyx:144\u001B[0m, in \u001B[0;36mpandas._libs.index.IndexEngine.get_loc\u001B[0;34m()\u001B[0m\n",
      "\u001B[0;31mTypeError\u001B[0m: '['N183']' is an invalid key",
      "\nDuring handling of the above exception, another exception occurred:\n",
      "\u001B[0;31mInvalidIndexError\u001B[0m                         Traceback (most recent call last)",
      "File \u001B[0;32m/opt/conda/lib/python3.10/site-packages/pandas/core/series.py:1108\u001B[0m, in \u001B[0;36mSeries.__setitem__\u001B[0;34m(self, key, value)\u001B[0m\n\u001B[1;32m   1107\u001B[0m \u001B[38;5;28;01mtry\u001B[39;00m:\n\u001B[0;32m-> 1108\u001B[0m     \u001B[38;5;28;43mself\u001B[39;49m\u001B[38;5;241;43m.\u001B[39;49m\u001B[43m_set_with_engine\u001B[49m\u001B[43m(\u001B[49m\u001B[43mkey\u001B[49m\u001B[43m,\u001B[49m\u001B[43m \u001B[49m\u001B[43mvalue\u001B[49m\u001B[43m)\u001B[49m\n\u001B[1;32m   1109\u001B[0m \u001B[38;5;28;01mexcept\u001B[39;00m \u001B[38;5;167;01mKeyError\u001B[39;00m:\n\u001B[1;32m   1110\u001B[0m     \u001B[38;5;66;03m# We have a scalar (or for MultiIndex or object-dtype, scalar-like)\u001B[39;00m\n\u001B[1;32m   1111\u001B[0m     \u001B[38;5;66;03m#  key that is not present in self.index.\u001B[39;00m\n",
      "File \u001B[0;32m/opt/conda/lib/python3.10/site-packages/pandas/core/series.py:1178\u001B[0m, in \u001B[0;36mSeries._set_with_engine\u001B[0;34m(self, key, value)\u001B[0m\n\u001B[1;32m   1177\u001B[0m \u001B[38;5;28;01mdef\u001B[39;00m \u001B[38;5;21m_set_with_engine\u001B[39m(\u001B[38;5;28mself\u001B[39m, key, value) \u001B[38;5;241m-\u001B[39m\u001B[38;5;241m>\u001B[39m \u001B[38;5;28;01mNone\u001B[39;00m:\n\u001B[0;32m-> 1178\u001B[0m     loc \u001B[38;5;241m=\u001B[39m \u001B[38;5;28;43mself\u001B[39;49m\u001B[38;5;241;43m.\u001B[39;49m\u001B[43mindex\u001B[49m\u001B[38;5;241;43m.\u001B[39;49m\u001B[43mget_loc\u001B[49m\u001B[43m(\u001B[49m\u001B[43mkey\u001B[49m\u001B[43m)\u001B[49m\n\u001B[1;32m   1180\u001B[0m     \u001B[38;5;66;03m# this is equivalent to self._values[key] = value\u001B[39;00m\n",
      "File \u001B[0;32m/opt/conda/lib/python3.10/site-packages/pandas/core/indexes/base.py:3807\u001B[0m, in \u001B[0;36mIndex.get_loc\u001B[0;34m(self, key, method, tolerance)\u001B[0m\n\u001B[1;32m   3803\u001B[0m \u001B[38;5;28;01mexcept\u001B[39;00m \u001B[38;5;167;01mTypeError\u001B[39;00m:\n\u001B[1;32m   3804\u001B[0m     \u001B[38;5;66;03m# If we have a listlike key, _check_indexing_error will raise\u001B[39;00m\n\u001B[1;32m   3805\u001B[0m     \u001B[38;5;66;03m#  InvalidIndexError. Otherwise we fall through and re-raise\u001B[39;00m\n\u001B[1;32m   3806\u001B[0m     \u001B[38;5;66;03m#  the TypeError.\u001B[39;00m\n\u001B[0;32m-> 3807\u001B[0m     \u001B[38;5;28;43mself\u001B[39;49m\u001B[38;5;241;43m.\u001B[39;49m\u001B[43m_check_indexing_error\u001B[49m\u001B[43m(\u001B[49m\u001B[43mkey\u001B[49m\u001B[43m)\u001B[49m\n\u001B[1;32m   3808\u001B[0m     \u001B[38;5;28;01mraise\u001B[39;00m\n",
      "File \u001B[0;32m/opt/conda/lib/python3.10/site-packages/pandas/core/indexes/base.py:5963\u001B[0m, in \u001B[0;36mIndex._check_indexing_error\u001B[0;34m(self, key)\u001B[0m\n\u001B[1;32m   5960\u001B[0m \u001B[38;5;28;01mif\u001B[39;00m \u001B[38;5;129;01mnot\u001B[39;00m is_scalar(key):\n\u001B[1;32m   5961\u001B[0m     \u001B[38;5;66;03m# if key is not a scalar, directly raise an error (the code below\u001B[39;00m\n\u001B[1;32m   5962\u001B[0m     \u001B[38;5;66;03m# would convert to numpy arrays and raise later any way) - GH29926\u001B[39;00m\n\u001B[0;32m-> 5963\u001B[0m     \u001B[38;5;28;01mraise\u001B[39;00m InvalidIndexError(key)\n",
      "\u001B[0;31mInvalidIndexError\u001B[0m: ['N183']",
      "\nDuring handling of the above exception, another exception occurred:\n",
      "\u001B[0;31mKeyError\u001B[0m                                  Traceback (most recent call last)",
      "Cell \u001B[0;32mIn [10], line 1\u001B[0m\n\u001B[0;32m----> 1\u001B[0m validate_pd_revised_sd(df_revised_case_d2d, pd_col \u001B[38;5;241m=\u001B[39m \u001B[38;5;124m'\u001B[39m\u001B[38;5;124mold_pd\u001B[39m\u001B[38;5;124m'\u001B[39m,\n\u001B[1;32m      2\u001B[0m                         pd_new_col \u001B[38;5;241m=\u001B[39m \u001B[38;5;124m'\u001B[39m\u001B[38;5;124mnew_pd\u001B[39m\u001B[38;5;124m'\u001B[39m,\n\u001B[1;32m      3\u001B[0m                         added_icd_col \u001B[38;5;241m=\u001B[39m \u001B[38;5;124m'\u001B[39m\u001B[38;5;124madded_icds\u001B[39m\u001B[38;5;124m'\u001B[39m,\n\u001B[1;32m      4\u001B[0m                         removed_icd_col \u001B[38;5;241m=\u001B[39m \u001B[38;5;124m'\u001B[39m\u001B[38;5;124mremoved_icds\u001B[39m\u001B[38;5;124m'\u001B[39m )\n",
      "Cell \u001B[0;32mIn [8], line 39\u001B[0m, in \u001B[0;36mvalidate_pd_revised_sd\u001B[0;34m(df, pd_col, pd_new_col, added_icd_col, removed_icd_col)\u001B[0m\n\u001B[1;32m     35\u001B[0m     row[removed_icd_col] \u001B[38;5;241m=\u001B[39m removed_icds\n\u001B[1;32m     37\u001B[0m     \u001B[38;5;28;01mreturn\u001B[39;00m row\n\u001B[0;32m---> 39\u001B[0m df \u001B[38;5;241m=\u001B[39m \u001B[43mdf\u001B[49m\u001B[38;5;241;43m.\u001B[39;49m\u001B[43mapply\u001B[49m\u001B[43m(\u001B[49m\u001B[43m_validate_pd_revised_sd\u001B[49m\u001B[43m,\u001B[49m\u001B[43m \u001B[49m\u001B[43maxis\u001B[49m\u001B[38;5;241;43m=\u001B[39;49m\u001B[38;5;241;43m1\u001B[39;49m\u001B[43m)\u001B[49m\n\u001B[1;32m     40\u001B[0m \u001B[38;5;28;01mreturn\u001B[39;00m df\n",
      "File \u001B[0;32m/opt/conda/lib/python3.10/site-packages/pandas/core/frame.py:9558\u001B[0m, in \u001B[0;36mDataFrame.apply\u001B[0;34m(self, func, axis, raw, result_type, args, **kwargs)\u001B[0m\n\u001B[1;32m   9547\u001B[0m \u001B[38;5;28;01mfrom\u001B[39;00m \u001B[38;5;21;01mpandas\u001B[39;00m\u001B[38;5;21;01m.\u001B[39;00m\u001B[38;5;21;01mcore\u001B[39;00m\u001B[38;5;21;01m.\u001B[39;00m\u001B[38;5;21;01mapply\u001B[39;00m \u001B[38;5;28;01mimport\u001B[39;00m frame_apply\n\u001B[1;32m   9549\u001B[0m op \u001B[38;5;241m=\u001B[39m frame_apply(\n\u001B[1;32m   9550\u001B[0m     \u001B[38;5;28mself\u001B[39m,\n\u001B[1;32m   9551\u001B[0m     func\u001B[38;5;241m=\u001B[39mfunc,\n\u001B[0;32m   (...)\u001B[0m\n\u001B[1;32m   9556\u001B[0m     kwargs\u001B[38;5;241m=\u001B[39mkwargs,\n\u001B[1;32m   9557\u001B[0m )\n\u001B[0;32m-> 9558\u001B[0m \u001B[38;5;28;01mreturn\u001B[39;00m \u001B[43mop\u001B[49m\u001B[38;5;241;43m.\u001B[39;49m\u001B[43mapply\u001B[49m\u001B[43m(\u001B[49m\u001B[43m)\u001B[49m\u001B[38;5;241m.\u001B[39m__finalize__(\u001B[38;5;28mself\u001B[39m, method\u001B[38;5;241m=\u001B[39m\u001B[38;5;124m\"\u001B[39m\u001B[38;5;124mapply\u001B[39m\u001B[38;5;124m\"\u001B[39m)\n",
      "File \u001B[0;32m/opt/conda/lib/python3.10/site-packages/pandas/core/apply.py:741\u001B[0m, in \u001B[0;36mFrameApply.apply\u001B[0;34m(self)\u001B[0m\n\u001B[1;32m    738\u001B[0m \u001B[38;5;28;01melif\u001B[39;00m \u001B[38;5;28mself\u001B[39m\u001B[38;5;241m.\u001B[39mraw:\n\u001B[1;32m    739\u001B[0m     \u001B[38;5;28;01mreturn\u001B[39;00m \u001B[38;5;28mself\u001B[39m\u001B[38;5;241m.\u001B[39mapply_raw()\n\u001B[0;32m--> 741\u001B[0m \u001B[38;5;28;01mreturn\u001B[39;00m \u001B[38;5;28;43mself\u001B[39;49m\u001B[38;5;241;43m.\u001B[39;49m\u001B[43mapply_standard\u001B[49m\u001B[43m(\u001B[49m\u001B[43m)\u001B[49m\n",
      "File \u001B[0;32m/opt/conda/lib/python3.10/site-packages/pandas/core/apply.py:868\u001B[0m, in \u001B[0;36mFrameApply.apply_standard\u001B[0;34m(self)\u001B[0m\n\u001B[1;32m    867\u001B[0m \u001B[38;5;28;01mdef\u001B[39;00m \u001B[38;5;21mapply_standard\u001B[39m(\u001B[38;5;28mself\u001B[39m):\n\u001B[0;32m--> 868\u001B[0m     results, res_index \u001B[38;5;241m=\u001B[39m \u001B[38;5;28;43mself\u001B[39;49m\u001B[38;5;241;43m.\u001B[39;49m\u001B[43mapply_series_generator\u001B[49m\u001B[43m(\u001B[49m\u001B[43m)\u001B[49m\n\u001B[1;32m    870\u001B[0m     \u001B[38;5;66;03m# wrap results\u001B[39;00m\n\u001B[1;32m    871\u001B[0m     \u001B[38;5;28;01mreturn\u001B[39;00m \u001B[38;5;28mself\u001B[39m\u001B[38;5;241m.\u001B[39mwrap_results(results, res_index)\n",
      "File \u001B[0;32m/opt/conda/lib/python3.10/site-packages/pandas/core/apply.py:884\u001B[0m, in \u001B[0;36mFrameApply.apply_series_generator\u001B[0;34m(self)\u001B[0m\n\u001B[1;32m    881\u001B[0m \u001B[38;5;28;01mwith\u001B[39;00m option_context(\u001B[38;5;124m\"\u001B[39m\u001B[38;5;124mmode.chained_assignment\u001B[39m\u001B[38;5;124m\"\u001B[39m, \u001B[38;5;28;01mNone\u001B[39;00m):\n\u001B[1;32m    882\u001B[0m     \u001B[38;5;28;01mfor\u001B[39;00m i, v \u001B[38;5;129;01min\u001B[39;00m \u001B[38;5;28menumerate\u001B[39m(series_gen):\n\u001B[1;32m    883\u001B[0m         \u001B[38;5;66;03m# ignore SettingWithCopy here in case the user mutates\u001B[39;00m\n\u001B[0;32m--> 884\u001B[0m         results[i] \u001B[38;5;241m=\u001B[39m \u001B[38;5;28;43mself\u001B[39;49m\u001B[38;5;241;43m.\u001B[39;49m\u001B[43mf\u001B[49m\u001B[43m(\u001B[49m\u001B[43mv\u001B[49m\u001B[43m)\u001B[49m\n\u001B[1;32m    885\u001B[0m         \u001B[38;5;28;01mif\u001B[39;00m \u001B[38;5;28misinstance\u001B[39m(results[i], ABCSeries):\n\u001B[1;32m    886\u001B[0m             \u001B[38;5;66;03m# If we have a view on v, we need to make a copy because\u001B[39;00m\n\u001B[1;32m    887\u001B[0m             \u001B[38;5;66;03m#  series_generator will swap out the underlying data\u001B[39;00m\n\u001B[1;32m    888\u001B[0m             results[i] \u001B[38;5;241m=\u001B[39m results[i]\u001B[38;5;241m.\u001B[39mcopy(deep\u001B[38;5;241m=\u001B[39m\u001B[38;5;28;01mFalse\u001B[39;00m)\n",
      "Cell \u001B[0;32mIn [8], line 34\u001B[0m, in \u001B[0;36mvalidate_pd_revised_sd.<locals>._validate_pd_revised_sd\u001B[0;34m(row)\u001B[0m\n\u001B[1;32m     32\u001B[0m         removed_icds\u001B[38;5;241m.\u001B[39mremove(old_pd)\n\u001B[1;32m     33\u001B[0m row[pd_col] \u001B[38;5;241m=\u001B[39m new_pd\n\u001B[0;32m---> 34\u001B[0m \u001B[43mrow\u001B[49m\u001B[43m[\u001B[49m\u001B[43madded_icds\u001B[49m\u001B[43m]\u001B[49m \u001B[38;5;241m=\u001B[39m added_icds\n\u001B[1;32m     35\u001B[0m row[removed_icd_col] \u001B[38;5;241m=\u001B[39m removed_icds\n\u001B[1;32m     37\u001B[0m \u001B[38;5;28;01mreturn\u001B[39;00m row\n",
      "File \u001B[0;32m/opt/conda/lib/python3.10/site-packages/pandas/core/series.py:1172\u001B[0m, in \u001B[0;36mSeries.__setitem__\u001B[0;34m(self, key, value)\u001B[0m\n\u001B[1;32m   1169\u001B[0m         \u001B[38;5;28;01mreturn\u001B[39;00m\n\u001B[1;32m   1171\u001B[0m     \u001B[38;5;28;01melse\u001B[39;00m:\n\u001B[0;32m-> 1172\u001B[0m         \u001B[38;5;28;43mself\u001B[39;49m\u001B[38;5;241;43m.\u001B[39;49m\u001B[43m_set_with\u001B[49m\u001B[43m(\u001B[49m\u001B[43mkey\u001B[49m\u001B[43m,\u001B[49m\u001B[43m \u001B[49m\u001B[43mvalue\u001B[49m\u001B[43m)\u001B[49m\n\u001B[1;32m   1174\u001B[0m \u001B[38;5;28;01mif\u001B[39;00m cacher_needs_updating:\n\u001B[1;32m   1175\u001B[0m     \u001B[38;5;28mself\u001B[39m\u001B[38;5;241m.\u001B[39m_maybe_update_cacher(inplace\u001B[38;5;241m=\u001B[39m\u001B[38;5;28;01mTrue\u001B[39;00m)\n",
      "File \u001B[0;32m/opt/conda/lib/python3.10/site-packages/pandas/core/series.py:1204\u001B[0m, in \u001B[0;36mSeries._set_with\u001B[0;34m(self, key, value)\u001B[0m\n\u001B[1;32m   1202\u001B[0m     \u001B[38;5;28mself\u001B[39m\u001B[38;5;241m.\u001B[39m_set_values(key, value)\n\u001B[1;32m   1203\u001B[0m \u001B[38;5;28;01melse\u001B[39;00m:\n\u001B[0;32m-> 1204\u001B[0m     \u001B[38;5;28;43mself\u001B[39;49m\u001B[38;5;241;43m.\u001B[39;49m\u001B[43m_set_labels\u001B[49m\u001B[43m(\u001B[49m\u001B[43mkey\u001B[49m\u001B[43m,\u001B[49m\u001B[43m \u001B[49m\u001B[43mvalue\u001B[49m\u001B[43m)\u001B[49m\n",
      "File \u001B[0;32m/opt/conda/lib/python3.10/site-packages/pandas/core/series.py:1211\u001B[0m, in \u001B[0;36mSeries._set_labels\u001B[0;34m(self, key, value)\u001B[0m\n\u001B[1;32m   1209\u001B[0m mask \u001B[38;5;241m=\u001B[39m indexer \u001B[38;5;241m==\u001B[39m \u001B[38;5;241m-\u001B[39m\u001B[38;5;241m1\u001B[39m\n\u001B[1;32m   1210\u001B[0m \u001B[38;5;28;01mif\u001B[39;00m mask\u001B[38;5;241m.\u001B[39many():\n\u001B[0;32m-> 1211\u001B[0m     \u001B[38;5;28;01mraise\u001B[39;00m \u001B[38;5;167;01mKeyError\u001B[39;00m(\u001B[38;5;124mf\u001B[39m\u001B[38;5;124m\"\u001B[39m\u001B[38;5;132;01m{\u001B[39;00mkey[mask]\u001B[38;5;132;01m}\u001B[39;00m\u001B[38;5;124m not in index\u001B[39m\u001B[38;5;124m\"\u001B[39m)\n\u001B[1;32m   1212\u001B[0m \u001B[38;5;28mself\u001B[39m\u001B[38;5;241m.\u001B[39m_set_values(indexer, value)\n",
      "\u001B[0;31mKeyError\u001B[0m: \"['N183'] not in index\""
     ]
    }
   ],
   "source": [
    "validate_pd_revised_sd(df_revised_case_d2d, pd_col = 'old_pd',\n",
    "                        pd_new_col = 'new_pd',\n",
    "                        added_icd_col = 'added_icds',\n",
    "                        removed_icd_col = 'removed_icds' )"
   ]
  },
  {
   "cell_type": "code",
   "execution_count": null,
   "id": "0219dfdf-93a7-4cfc-89c2-e1cc2d05b537",
   "metadata": {},
   "outputs": [],
   "source": [
    "pd = row_example['pd']\n",
    "new_pd = row_example['new_pd']\n",
    "added_icds = row_example['added_icds']\n",
    "removed_icds =  row_example['removed_icds']\n",
    "\n",
    "if pd != new_pd:\n",
    "    logger.debug(f\"row {row.name}: discarded duplicated and invalid CHOP entries after validation {discard_chops}\")\n",
    "    logger.debug(f'in the {row.name}, primary diagnosis has been change from {pd} to {new_pd}')\n",
    "    if new_pd in added_icds:\n",
    "        added_icds.remove(new_pd)\n",
    "    if pd in removed_icds:\n",
    "        removed_icds.remove(pd)\n",
    "\n",
    "row_example['pd'] = new_pd\n",
    "row_example['added_icds'] = added_icds\n",
    "row_example['removed_icds'] = removed_icds\n",
    "print(row_example)    \n",
    "    \n",
    "    "
   ]
  },
  {
   "cell_type": "code",
   "execution_count": null,
   "id": "77dbf54a-ecbe-4c70-b2c8-7793297547ce",
   "metadata": {},
   "outputs": [],
   "source": [
    "def validate_pd_revised_sd(df_revised_case_d2d):\n",
    "    def _validate_pd_revised_sd(row):\n",
    "        pd = row['pd']\n",
    "        new_pd = row['new_pd']\n",
    "        added_icds = row['added_icds']\n",
    "        removed_icds =  row['removed_icds']\n",
    "        if pd != new_pd:\n",
    "            print(row.name)\n",
    "            # logger.debug(f'in the {row.name}, primary diagnosis has been change from {pd} to {new_pd}')\n",
    "            if new_pd in added_icds:\n",
    "                added_icds.remove(new_pd)\n",
    "            if pd in removed_icds:\n",
    "                removed_icds.remove(pd)\n",
    "        row['pd'] = new_pd\n",
    "        row['added_icds'] = added_icds\n",
    "        row['removed_icds'] = removed_icds\n",
    "\n",
    "        return row\n",
    "    df = df_revised_case_d2d.apply(_validate_pd_revised_sd)\n",
    "    return df\n",
    "    \n",
    "validate_pd_revised_sd(df_revised_case_d2d)"
   ]
  },
  {
   "cell_type": "code",
   "execution_count": null,
   "id": "31328cca-f9f7-416b-a1b7-53a6b3e7effa",
   "metadata": {},
   "outputs": [],
   "source": [
    "df_revised_case_d2d['pd'] == df_revised_case_d2d['new_pd']"
   ]
  },
  {
   "cell_type": "markdown",
   "id": "4558e4f8",
   "metadata": {
    "pycharm": {
     "name": "#%% md\n"
    }
   },
   "source": [
    "# match to the database\n"
   ]
  },
  {
   "cell_type": "code",
   "execution_count": null,
   "id": "421bd411-79b0-479b-bd97-ffc66d47bd9b",
   "metadata": {},
   "outputs": [],
   "source": [
    "revised_case_id"
   ]
  },
  {
   "cell_type": "code",
   "execution_count": null,
   "id": "ac5bc674-a6b4-447a-a630-33d25180f9c4",
   "metadata": {},
   "outputs": [],
   "source": [
    "# get the case_id from revised_case\n",
    "\n",
    "revised_case_id = df_revised_case_d2d['case_id'].values\n",
    "revised_case_id"
   ]
  },
  {
   "cell_type": "code",
   "execution_count": null,
   "id": "44598590-cc37-4753-b3d5-4da870b520b9",
   "metadata": {},
   "outputs": [],
   "source": [
    "# change the case_id the same format as bfs data e.g. '0041194601'\n",
    "revised_case_id_pad0 = [case_id.zfill(10) for case_id in revised_case_id]\n",
    "revised_case_id_pad0[0]"
   ]
  },
  {
   "cell_type": "code",
   "execution_count": null,
   "id": "01dcb99c-b01f-4808-b9c0-a450a2f3150e",
   "metadata": {},
   "outputs": [],
   "source": [
    "# match to the database\n",
    "revised_case_db = bfs_db.get_bfs_cases_by_ids(revised_case_id_pad0)\n",
    "revised_case_db.head()"
   ]
  },
  {
   "cell_type": "code",
   "execution_count": null,
   "id": "9cbccb57-930a-4882-a585-37f70e7d3e94",
   "metadata": {},
   "outputs": [],
   "source": [
    "# \n",
    "print('There are {} out of {} revised cases from DtoD that are matched with the database for {} {}'.format(len(revised_case_db), len(revised_case_id), file_info.hospital_name_db, file_info.year))"
   ]
  },
  {
   "cell_type": "code",
   "execution_count": null,
   "id": "265fbf94-6820-4b3b-8022-d699e44b35af",
   "metadata": {},
   "outputs": [],
   "source": [
    "# if we find the match cases, then we need to check if the case_id, gender, year....are match"
   ]
  },
  {
   "cell_type": "code",
   "execution_count": null,
   "id": "80f74b41-fce4-4115-9089-8290dc76e13a",
   "metadata": {},
   "outputs": [],
   "source": [
    "# substract the columns [case_id, new_pd_bfs_code\tadded_icds\tremoved_icds\tadded_chops\tremoved_chops] from revised_cases \n",
    "\n",
    "\n",
    "revised_case_"
   ]
  }
 ],
 "metadata": {
  "kernelspec": {
   "display_name": "Python 3 (ipykernel)",
   "language": "python",
   "name": "python3"
  },
  "language_info": {
   "codemirror_mode": {
    "name": "ipython",
    "version": 3
   },
   "file_extension": ".py",
   "mimetype": "text/x-python",
   "name": "python",
   "nbconvert_exporter": "python",
   "pygments_lexer": "ipython3",
   "version": "3.10.6"
  }
 },
 "nbformat": 4,
 "nbformat_minor": 5
}