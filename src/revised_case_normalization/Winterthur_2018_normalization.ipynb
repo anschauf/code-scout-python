{
 "cells": [
  {
   "cell_type": "markdown",
   "id": "a4e2885d",
   "metadata": {
    "tags": []
   },
   "source": [
    "# Revised case normalization for Winterthur 2018\n",
    "\n",
    "Notes:\n",
    "\n",
    "- no 'Admno' or 'Fall Nummer' to be matched to DB"
   ]
  },
  {
   "cell_type": "code",
   "execution_count": 1,
   "id": "d097a048",
   "metadata": {
    "collapsed": false,
    "jupyter": {
     "outputs_hidden": false
    },
    "pycharm": {
     "is_executing": true
    }
   },
   "outputs": [],
   "source": [
    "import sys\n",
    "sys.path.insert(0, '/home/jovyan/work')\n",
    "\n",
    "from src.revised_case_normalization.notebook_functions.global_configs import *\n",
    "from src.revised_case_normalization.notebook_functions.normalize import normalize_ksw_2018_2019\n",
    "from src.revised_case_normalization.notebook_functions.revise import revise, get_sociodemographics_for_hospital_year\n",
    "from src.revised_case_normalization.notebook_functions.group import group\n",
    "from src.revised_case_normalization.notebook_functions.update_db import update_db"
   ]
  },
  {
   "cell_type": "code",
   "execution_count": 2,
   "id": "4710c532",
   "metadata": {
    "collapsed": false,
    "jupyter": {
     "outputs_hidden": false
    }
   },
   "outputs": [
    {
     "name": "stdout",
     "output_type": "stream",
     "text": [
      "FileInfo(path='/home/jovyan/work/src/revised_case_normalization/raw_data/Winterthur.xlsx', hospital_name_db='KSW', year='2018', sheet='Änderungen Winterthur 2018')\n"
     ]
    }
   ],
   "source": [
    "file_info = FileInfo(\n",
    "         os.path.join(ROOT_DIR, 'raw_data/Winterthur.xlsx'),\n",
    "         'KSW',\n",
    "         '2018',\n",
    "         'Änderungen Winterthur 2018')\n",
    "\n",
    "print(file_info)\n",
    "\n"
   ]
  },
  {
   "cell_type": "code",
   "execution_count": 3,
   "id": "8c8b27df",
   "metadata": {
    "collapsed": false,
    "jupyter": {
     "outputs_hidden": false
    }
   },
   "outputs": [
    {
     "name": "stderr",
     "output_type": "stream",
     "text": [
      "2022-11-14 09:25:13.261 | INFO     | src.revised_case_normalization.notebook_functions.normalize:normalize_ksw_2018_2019:141 - Read 193 cases for KSW 2018\n",
      "2022-11-14 09:25:13.266 | INFO     | src.revised_case_normalization.notebook_functions.normalize:normalize_ksw_2018_2019:170 - TYPES:\n",
      "tranche                                                 string\n",
      "datum                                                   string\n",
      "case_id                                                 object\n",
      "patient_id                                              object\n",
      "kkik                                                    string\n",
      "gender                                                  string\n",
      "age_years                                                int64\n",
      "bfs_code                                                string\n",
      "duration_of_stay                                         int64\n",
      "pflegetage neu                                          string\n",
      "pccl                                                     int64\n",
      "pccl neu                                                string\n",
      "old_pd                                                  string\n",
      "primary_diagnosis                                       string\n",
      "added_icds                                              string\n",
      "removed_icds                                            string\n",
      "added_chops                                             string\n",
      "removed_chops                                           string\n",
      "drg                                                     string\n",
      "drg neu                                                 string\n",
      "cw alt                                                  string\n",
      "cw neu                                                  string\n",
      "cw-änderung vorschlag                                   string\n",
      "cw änderung akzeptiert                                  string\n",
      "kommentar dtod                                          string\n",
      "kommentar ksw                                           string\n",
      "angaben in welchem bericht (drg relevante diagnosen)    string\n",
      "arztanfragen                                            string\n",
      "vorbereitung fallbesprechung                            string\n",
      "case_id_norm                                            object\n",
      "dtype: object\n",
      "2022-11-14 09:25:13.315 | INFO     | src.utils.dataframe_utils:validate_icd_codes:68 - Validated ICD codes in 'added_icds' and stored them into 'added_icds': All rows contain valid codes\n",
      "2022-11-14 09:25:13.324 | INFO     | src.utils.dataframe_utils:validate_icd_codes:68 - Validated ICD codes in 'removed_icds' and stored them into 'removed_icds': All rows contain valid codes\n",
      "2022-11-14 09:25:13.333 | INFO     | src.utils.dataframe_utils:validate_chop_codes:109 - Validated CHOP codes in 'added_chops' and stored them into 'added_chops': The following 2 rows were affected:\n",
      "row 34: discarded CHOPs after validation {' '}\n",
      "row 35: discarded CHOPs after validation {' '}\n",
      "2022-11-14 09:25:13.342 | INFO     | src.utils.dataframe_utils:validate_chop_codes:106 - Validated CHOP codes in 'removed_chops' and stored them into 'removed_chops': All rows contain valid codes\n",
      "2022-11-14 09:25:13.343 | INFO     | src.utils.dataframe_utils:remove_duplicated_chops:32 - Removing duplicated CHOP codes due to different casing ...\n",
      "2022-11-14 09:25:13.359 | INFO     | src.utils.dataframe_utils:validate_pd_revised_sd:161 - Validated redundant PD info in 'added_icds'/'removed_icds': The following 13 rows were affected:\n",
      "row 35: primary diagnosis M4856 => S3203\n",
      "row 63: primary diagnosis J4419 => J4410\n",
      "row 64: primary diagnosis J4411 => J4410\n",
      "row 78: primary diagnosis M8088 => C795\n",
      "row 94: primary diagnosis M8694 => M8614\n",
      "row 99: primary diagnosis J209 => J219\n",
      "row 106: primary diagnosis R104 => R635\n",
      "row 108: primary diagnosis J209 => J205\n",
      "row 109: primary diagnosis I5014 => I480\n",
      "row 111: primary diagnosis S0085 => A090\n",
      "row 128: primary diagnosis O458 => O069\n",
      "row 151: primary diagnosis O48 => O85\n",
      "row 189: primary diagnosis N390 => A491\n",
      "2022-11-14 09:25:13.362 | SUCCESS  | src.revised_case_normalization.notebook_functions.normalize:normalize_ksw_2018_2019:217 - Completed validation\n"
     ]
    },
    {
     "data": {
      "text/html": [
       "<div>\n",
       "<style scoped>\n",
       "    .dataframe tbody tr th:only-of-type {\n",
       "        vertical-align: middle;\n",
       "    }\n",
       "\n",
       "    .dataframe tbody tr th {\n",
       "        vertical-align: top;\n",
       "    }\n",
       "\n",
       "    .dataframe thead th {\n",
       "        text-align: right;\n",
       "    }\n",
       "</style>\n",
       "<table border=\"1\" class=\"dataframe\">\n",
       "  <thead>\n",
       "    <tr style=\"text-align: right;\">\n",
       "      <th></th>\n",
       "      <th>case_id</th>\n",
       "      <th>patient_id</th>\n",
       "      <th>gender</th>\n",
       "      <th>age_years</th>\n",
       "      <th>duration_of_stay</th>\n",
       "      <th>case_id_norm</th>\n",
       "      <th>old_pd</th>\n",
       "      <th>primary_diagnosis</th>\n",
       "      <th>bfs_code</th>\n",
       "      <th>pccl</th>\n",
       "      <th>drg</th>\n",
       "      <th>added_icds</th>\n",
       "      <th>removed_icds</th>\n",
       "      <th>added_chops</th>\n",
       "      <th>removed_chops</th>\n",
       "    </tr>\n",
       "  </thead>\n",
       "  <tbody>\n",
       "    <tr>\n",
       "      <th>0</th>\n",
       "      <td>900362200</td>\n",
       "      <td>120A84ED0B5D412F</td>\n",
       "      <td>W</td>\n",
       "      <td>54</td>\n",
       "      <td>8</td>\n",
       "      <td>900362200</td>\n",
       "      <td>C795</td>\n",
       "      <td>C795</td>\n",
       "      <td>M200</td>\n",
       "      <td>3</td>\n",
       "      <td>I10B</td>\n",
       "      <td>[M4957]</td>\n",
       "      <td>[]</td>\n",
       "      <td>[]</td>\n",
       "      <td>[]</td>\n",
       "    </tr>\n",
       "    <tr>\n",
       "      <th>1</th>\n",
       "      <td>900449400</td>\n",
       "      <td>2833C0B8F3FAF2B2</td>\n",
       "      <td>W</td>\n",
       "      <td>80</td>\n",
       "      <td>12</td>\n",
       "      <td>900449400</td>\n",
       "      <td>N1793</td>\n",
       "      <td>N1793</td>\n",
       "      <td>M100</td>\n",
       "      <td>3</td>\n",
       "      <td>L60D</td>\n",
       "      <td>[G2090]</td>\n",
       "      <td>[]</td>\n",
       "      <td>[]</td>\n",
       "      <td>[]</td>\n",
       "    </tr>\n",
       "    <tr>\n",
       "      <th>2</th>\n",
       "      <td>900404910</td>\n",
       "      <td>220435AE84965999</td>\n",
       "      <td>M</td>\n",
       "      <td>79</td>\n",
       "      <td>3</td>\n",
       "      <td>900404910</td>\n",
       "      <td>S3702</td>\n",
       "      <td>S3702</td>\n",
       "      <td>M200</td>\n",
       "      <td>3</td>\n",
       "      <td>L09B</td>\n",
       "      <td>[S3683]</td>\n",
       "      <td>[S3681]</td>\n",
       "      <td>[]</td>\n",
       "      <td>[]</td>\n",
       "    </tr>\n",
       "    <tr>\n",
       "      <th>3</th>\n",
       "      <td>900454320</td>\n",
       "      <td>472E599EDB7090A6</td>\n",
       "      <td>W</td>\n",
       "      <td>66</td>\n",
       "      <td>2</td>\n",
       "      <td>900454320</td>\n",
       "      <td>R410</td>\n",
       "      <td>R410</td>\n",
       "      <td>M100</td>\n",
       "      <td>3</td>\n",
       "      <td>B64B</td>\n",
       "      <td>[L8918]</td>\n",
       "      <td>[L8908]</td>\n",
       "      <td>[]</td>\n",
       "      <td>[]</td>\n",
       "    </tr>\n",
       "    <tr>\n",
       "      <th>4</th>\n",
       "      <td>900475230</td>\n",
       "      <td>B127DAEB25A7546F</td>\n",
       "      <td>W</td>\n",
       "      <td>58</td>\n",
       "      <td>9</td>\n",
       "      <td>900475230</td>\n",
       "      <td>C56</td>\n",
       "      <td>C56</td>\n",
       "      <td>M200</td>\n",
       "      <td>3</td>\n",
       "      <td>N60B</td>\n",
       "      <td>[I1091, K658, Y849]</td>\n",
       "      <td>[I1090]</td>\n",
       "      <td>[]</td>\n",
       "      <td>[]</td>\n",
       "    </tr>\n",
       "    <tr>\n",
       "      <th>...</th>\n",
       "      <td>...</td>\n",
       "      <td>...</td>\n",
       "      <td>...</td>\n",
       "      <td>...</td>\n",
       "      <td>...</td>\n",
       "      <td>...</td>\n",
       "      <td>...</td>\n",
       "      <td>...</td>\n",
       "      <td>...</td>\n",
       "      <td>...</td>\n",
       "      <td>...</td>\n",
       "      <td>...</td>\n",
       "      <td>...</td>\n",
       "      <td>...</td>\n",
       "      <td>...</td>\n",
       "    </tr>\n",
       "    <tr>\n",
       "      <th>188</th>\n",
       "      <td>900328975</td>\n",
       "      <td>0297730</td>\n",
       "      <td>W</td>\n",
       "      <td>83</td>\n",
       "      <td>5</td>\n",
       "      <td>900328975</td>\n",
       "      <td>C160</td>\n",
       "      <td>C160</td>\n",
       "      <td>M100</td>\n",
       "      <td>3</td>\n",
       "      <td>G60B</td>\n",
       "      <td>[D630, E1191, C772]</td>\n",
       "      <td>[D500, E1190]</td>\n",
       "      <td>[]</td>\n",
       "      <td>[]</td>\n",
       "    </tr>\n",
       "    <tr>\n",
       "      <th>189</th>\n",
       "      <td>900359871</td>\n",
       "      <td>0389213</td>\n",
       "      <td>M</td>\n",
       "      <td>87</td>\n",
       "      <td>9</td>\n",
       "      <td>900359871</td>\n",
       "      <td>N390</td>\n",
       "      <td>A491</td>\n",
       "      <td>M100</td>\n",
       "      <td>3</td>\n",
       "      <td>L63D</td>\n",
       "      <td>[B952]</td>\n",
       "      <td>[]</td>\n",
       "      <td>[]</td>\n",
       "      <td>[]</td>\n",
       "    </tr>\n",
       "    <tr>\n",
       "      <th>190</th>\n",
       "      <td>900405823</td>\n",
       "      <td>0683082</td>\n",
       "      <td>W</td>\n",
       "      <td>87</td>\n",
       "      <td>8</td>\n",
       "      <td>900405823</td>\n",
       "      <td>I5001</td>\n",
       "      <td>I5001</td>\n",
       "      <td>M100</td>\n",
       "      <td>3</td>\n",
       "      <td>F62C</td>\n",
       "      <td>[R64]</td>\n",
       "      <td>[]</td>\n",
       "      <td>[]</td>\n",
       "      <td>[]</td>\n",
       "    </tr>\n",
       "    <tr>\n",
       "      <th>191</th>\n",
       "      <td>900478805</td>\n",
       "      <td>0449127</td>\n",
       "      <td>W</td>\n",
       "      <td>92</td>\n",
       "      <td>11</td>\n",
       "      <td>900478805</td>\n",
       "      <td>K922</td>\n",
       "      <td>K922</td>\n",
       "      <td>M100</td>\n",
       "      <td>3</td>\n",
       "      <td>G48C</td>\n",
       "      <td>[D62]</td>\n",
       "      <td>[]</td>\n",
       "      <td>[]</td>\n",
       "      <td>[]</td>\n",
       "    </tr>\n",
       "    <tr>\n",
       "      <th>192</th>\n",
       "      <td>900480417</td>\n",
       "      <td>0506105</td>\n",
       "      <td>W</td>\n",
       "      <td>69</td>\n",
       "      <td>8</td>\n",
       "      <td>900480417</td>\n",
       "      <td>I340</td>\n",
       "      <td>I340</td>\n",
       "      <td>M100</td>\n",
       "      <td>3</td>\n",
       "      <td>F69B</td>\n",
       "      <td>[J91]</td>\n",
       "      <td>[]</td>\n",
       "      <td>[]</td>\n",
       "      <td>[]</td>\n",
       "    </tr>\n",
       "  </tbody>\n",
       "</table>\n",
       "<p>193 rows × 15 columns</p>\n",
       "</div>"
      ],
      "text/plain": [
       "       case_id        patient_id gender  age_years  duration_of_stay case_id_norm old_pd primary_diagnosis bfs_code  pccl   drg           added_icds   removed_icds added_chops removed_chops\n",
       "0    900362200  120A84ED0B5D412F      W         54                 8    900362200   C795              C795     M200     3  I10B              [M4957]             []          []            []\n",
       "1    900449400  2833C0B8F3FAF2B2      W         80                12    900449400  N1793             N1793     M100     3  L60D              [G2090]             []          []            []\n",
       "2    900404910  220435AE84965999      M         79                 3    900404910  S3702             S3702     M200     3  L09B              [S3683]        [S3681]          []            []\n",
       "3    900454320  472E599EDB7090A6      W         66                 2    900454320   R410              R410     M100     3  B64B              [L8918]        [L8908]          []            []\n",
       "4    900475230  B127DAEB25A7546F      W         58                 9    900475230    C56               C56     M200     3  N60B  [I1091, K658, Y849]        [I1090]          []            []\n",
       "..         ...               ...    ...        ...               ...          ...    ...               ...      ...   ...   ...                  ...            ...         ...           ...\n",
       "188  900328975           0297730      W         83                 5    900328975   C160              C160     M100     3  G60B  [D630, E1191, C772]  [D500, E1190]          []            []\n",
       "189  900359871           0389213      M         87                 9    900359871   N390              A491     M100     3  L63D               [B952]             []          []            []\n",
       "190  900405823           0683082      W         87                 8    900405823  I5001             I5001     M100     3  F62C                [R64]             []          []            []\n",
       "191  900478805           0449127      W         92                11    900478805   K922              K922     M100     3  G48C                [D62]             []          []            []\n",
       "192  900480417           0506105      W         69                 8    900480417   I340              I340     M100     3  F69B                [J91]             []          []            []\n",
       "\n",
       "[193 rows x 15 columns]"
      ]
     },
     "execution_count": 3,
     "metadata": {},
     "output_type": "execute_result"
    }
   ],
   "source": [
    "revised_cases_df = normalize_ksw_2018_2019(file_info)\n",
    "revised_cases_df"
   ]
  },
  {
   "cell_type": "markdown",
   "id": "a6796573",
   "metadata": {
    "tags": []
   },
   "source": [
    "# Match revised DtoD data with the BfS data from the database"
   ]
  },
  {
   "cell_type": "code",
   "execution_count": 4,
   "id": "65408537-cd4a-4b7c-a785-0db424378909",
   "metadata": {},
   "outputs": [
    {
     "name": "stderr",
     "output_type": "stream",
     "text": [
      "2022-11-14 09:25:15.206 | INFO     | src.service.bfs_cases_db_service:get_sociodemographics_for_hospital_year:90 - Read 27501 rows from the DB, for the hospital 'KSW' in 2018\n",
      "2022-11-14 09:25:15.228 | WARNING  | src.revised_case_normalization.notebook_functions.revise:revise:47 - 193 rows could not be matched, given ['age_years', 'case_id_norm', 'duration_of_stay', 'gender']\n"
     ]
    },
    {
     "ename": "KeyError",
     "evalue": "\"None of [Index(['revision_id', 'code'], dtype='object')] are in the [columns]\"",
     "output_type": "error",
     "traceback": [
      "\u001b[0;31m---------------------------------------------------------------------------\u001b[0m",
      "\u001b[0;31mKeyError\u001b[0m                                  Traceback (most recent call last)",
      "Cell \u001b[0;32mIn [4], line 7\u001b[0m\n\u001b[1;32m      4\u001b[0m \u001b[38;5;66;03m# Ignore the patient ID in this dataset, because it is encrypted\u001b[39;00m\n\u001b[1;32m      5\u001b[0m cols_to_join\u001b[38;5;241m.\u001b[39mremove(PATIENT_ID_COL)\n\u001b[0;32m----> 7\u001b[0m revised_cases, unmatched \u001b[38;5;241m=\u001b[39m revise(file_info, revised_cases_df, validation_cols\u001b[38;5;241m=\u001b[39mcols_to_join)\n\u001b[1;32m      8\u001b[0m revised_cases\u001b[38;5;241m.\u001b[39mhead()\n",
      "File \u001b[0;32m<@beartype(src.revised_case_normalization.notebook_functions.revise.revise) at 0xffff5e730160>:75\u001b[0m, in \u001b[0;36mrevise\u001b[0;34m(__beartype_func, __beartype_get_violation, __beartype_object_187650578400464, __beartype_object_187650587434016, __beartype_getrandbits, *args, **kwargs)\u001b[0m\n",
      "File \u001b[0;32m~/work/src/revised_case_normalization/notebook_functions/revise.py:51\u001b[0m, in \u001b[0;36mrevise\u001b[0;34m(file_info, revised_cases_df, validation_cols)\u001b[0m\n\u001b[1;32m     49\u001b[0m \u001b[38;5;66;03m# Retrieve the codes from the DB\u001b[39;00m\n\u001b[1;32m     50\u001b[0m original_revision_ids \u001b[38;5;241m=\u001b[39m get_earliest_revisions_for_aimedic_ids(matched_cases[AIMEDIC_ID_COL]\u001b[38;5;241m.\u001b[39mastype(\u001b[38;5;28mint\u001b[39m)\u001b[38;5;241m.\u001b[39mvalues\u001b[38;5;241m.\u001b[39mtolist(), db\u001b[38;5;241m.\u001b[39msession)\n\u001b[0;32m---> 51\u001b[0m original_cases \u001b[38;5;241m=\u001b[39m \u001b[43mget_codes\u001b[49m\u001b[43m(\u001b[49m\u001b[43moriginal_revision_ids\u001b[49m\u001b[43m,\u001b[49m\u001b[43m \u001b[49m\u001b[43mdb\u001b[49m\u001b[38;5;241;43m.\u001b[39;49m\u001b[43msession\u001b[49m\u001b[43m)\u001b[49m\n\u001b[1;32m     53\u001b[0m \u001b[38;5;66;03m# Apply the revisions to the cases from the DB\u001b[39;00m\n\u001b[1;32m     54\u001b[0m revised_cases \u001b[38;5;241m=\u001b[39m apply_revisions(original_cases, matched_cases)\n",
      "File \u001b[0;32m<@beartype(src.service.bfs_cases_db_service.get_codes) at 0xffff5de13be0>:49\u001b[0m, in \u001b[0;36mget_codes\u001b[0;34m(__beartype_func, __beartype_get_violation, __beartype_object_187650587434016, __beartype_object_187650592734336, *args, **kwargs)\u001b[0m\n",
      "File \u001b[0;32m~/work/src/service/bfs_cases_db_service.py:231\u001b[0m, in \u001b[0;36mget_codes\u001b[0;34m(df_revision_ids, session)\u001b[0m\n\u001b[1;32m    223\u001b[0m \u001b[38;5;129m@beartype\u001b[39m\n\u001b[1;32m    224\u001b[0m \u001b[38;5;28;01mdef\u001b[39;00m \u001b[38;5;21mget_codes\u001b[39m(df_revision_ids: pd\u001b[38;5;241m.\u001b[39mDataFrame, session: Session) \u001b[38;5;241m-\u001b[39m\u001b[38;5;241m>\u001b[39m pd\u001b[38;5;241m.\u001b[39mDataFrame:\n\u001b[1;32m    225\u001b[0m     \u001b[38;5;124;03m\"\"\"\u001b[39;00m\n\u001b[1;32m    226\u001b[0m \u001b[38;5;124;03m    Merging information on the diagnoses and procedures from the DB for usage in the revise function (revise.notebook_functions)\u001b[39;00m\n\u001b[1;32m    227\u001b[0m \u001b[38;5;124;03m     @param df_revision_ids: a Dataframe with aimedic_id and revision_id\u001b[39;00m\n\u001b[1;32m    228\u001b[0m \u001b[38;5;124;03m     @return: a dataframe containing revision ids, diagnoses and procedures\u001b[39;00m\n\u001b[1;32m    229\u001b[0m \u001b[38;5;124;03m    \"\"\"\u001b[39;00m\n\u001b[0;32m--> 231\u001b[0m     diagnoses_df \u001b[38;5;241m=\u001b[39m \u001b[43mget_diagnoses_codes\u001b[49m\u001b[43m(\u001b[49m\u001b[43mdf_revision_ids\u001b[49m\u001b[43m,\u001b[49m\u001b[43m \u001b[49m\u001b[43msession\u001b[49m\u001b[43m)\u001b[49m\n\u001b[1;32m    232\u001b[0m     procedures_df \u001b[38;5;241m=\u001b[39m get_procedures_codes(df_revision_ids, session)\n\u001b[1;32m    234\u001b[0m     \u001b[38;5;66;03m# Drop the aimedic_id column to avoid adding it with a suffix and having to remove it later\u001b[39;00m\n",
      "File \u001b[0;32m<@beartype(src.service.bfs_cases_db_service.get_diagnoses_codes) at 0xffff5de13880>:49\u001b[0m, in \u001b[0;36mget_diagnoses_codes\u001b[0;34m(__beartype_func, __beartype_get_violation, __beartype_object_187650587434016, __beartype_object_187650592734336, *args, **kwargs)\u001b[0m\n",
      "File \u001b[0;32m~/work/src/service/bfs_cases_db_service.py:150\u001b[0m, in \u001b[0;36mget_diagnoses_codes\u001b[0;34m(df_revision_ids, session)\u001b[0m\n\u001b[1;32m    147\u001b[0m df \u001b[38;5;241m=\u001b[39m pd\u001b[38;5;241m.\u001b[39mread_sql(query_diagnoses\u001b[38;5;241m.\u001b[39mstatement, session\u001b[38;5;241m.\u001b[39mbind)\n\u001b[1;32m    149\u001b[0m \u001b[38;5;66;03m# Select a subset of rows, which contain the primary diagnosis for each case\u001b[39;00m\n\u001b[0;32m--> 150\u001b[0m primary_diagnoses \u001b[38;5;241m=\u001b[39m \u001b[43mdf\u001b[49m\u001b[43m[\u001b[49m\u001b[43mdf\u001b[49m\u001b[43m[\u001b[49m\u001b[38;5;124;43m'\u001b[39;49m\u001b[38;5;124;43mis_primary\u001b[39;49m\u001b[38;5;124;43m'\u001b[39;49m\u001b[43m]\u001b[49m\u001b[43m]\u001b[49m\u001b[43m[\u001b[49m\u001b[43m[\u001b[49m\u001b[38;5;124;43m'\u001b[39;49m\u001b[38;5;124;43mrevision_id\u001b[39;49m\u001b[38;5;124;43m'\u001b[39;49m\u001b[43m,\u001b[49m\u001b[43m \u001b[49m\u001b[38;5;124;43m'\u001b[39;49m\u001b[38;5;124;43mcode\u001b[39;49m\u001b[38;5;124;43m'\u001b[39;49m\u001b[43m]\u001b[49m\u001b[43m]\u001b[49m\n\u001b[1;32m    151\u001b[0m primary_diagnoses\u001b[38;5;241m.\u001b[39mrename(columns\u001b[38;5;241m=\u001b[39m{\u001b[38;5;124m'\u001b[39m\u001b[38;5;124mcode\u001b[39m\u001b[38;5;124m'\u001b[39m: PRIMARY_DIAGNOSIS_COL}, inplace\u001b[38;5;241m=\u001b[39m\u001b[38;5;28;01mTrue\u001b[39;00m)\n\u001b[1;32m    153\u001b[0m \u001b[38;5;66;03m# Aggregate the subset of rows, which contain the secondary diagnoses for each case\u001b[39;00m\n",
      "File \u001b[0;32m/opt/conda/lib/python3.10/site-packages/pandas/core/frame.py:3811\u001b[0m, in \u001b[0;36mDataFrame.__getitem__\u001b[0;34m(self, key)\u001b[0m\n\u001b[1;32m   3809\u001b[0m     \u001b[38;5;28;01mif\u001b[39;00m is_iterator(key):\n\u001b[1;32m   3810\u001b[0m         key \u001b[38;5;241m=\u001b[39m \u001b[38;5;28mlist\u001b[39m(key)\n\u001b[0;32m-> 3811\u001b[0m     indexer \u001b[38;5;241m=\u001b[39m \u001b[38;5;28;43mself\u001b[39;49m\u001b[38;5;241;43m.\u001b[39;49m\u001b[43mcolumns\u001b[49m\u001b[38;5;241;43m.\u001b[39;49m\u001b[43m_get_indexer_strict\u001b[49m\u001b[43m(\u001b[49m\u001b[43mkey\u001b[49m\u001b[43m,\u001b[49m\u001b[43m \u001b[49m\u001b[38;5;124;43m\"\u001b[39;49m\u001b[38;5;124;43mcolumns\u001b[39;49m\u001b[38;5;124;43m\"\u001b[39;49m\u001b[43m)\u001b[49m[\u001b[38;5;241m1\u001b[39m]\n\u001b[1;32m   3813\u001b[0m \u001b[38;5;66;03m# take() does not accept boolean indexers\u001b[39;00m\n\u001b[1;32m   3814\u001b[0m \u001b[38;5;28;01mif\u001b[39;00m \u001b[38;5;28mgetattr\u001b[39m(indexer, \u001b[38;5;124m\"\u001b[39m\u001b[38;5;124mdtype\u001b[39m\u001b[38;5;124m\"\u001b[39m, \u001b[38;5;28;01mNone\u001b[39;00m) \u001b[38;5;241m==\u001b[39m \u001b[38;5;28mbool\u001b[39m:\n",
      "File \u001b[0;32m/opt/conda/lib/python3.10/site-packages/pandas/core/indexes/base.py:6108\u001b[0m, in \u001b[0;36mIndex._get_indexer_strict\u001b[0;34m(self, key, axis_name)\u001b[0m\n\u001b[1;32m   6105\u001b[0m \u001b[38;5;28;01melse\u001b[39;00m:\n\u001b[1;32m   6106\u001b[0m     keyarr, indexer, new_indexer \u001b[38;5;241m=\u001b[39m \u001b[38;5;28mself\u001b[39m\u001b[38;5;241m.\u001b[39m_reindex_non_unique(keyarr)\n\u001b[0;32m-> 6108\u001b[0m \u001b[38;5;28;43mself\u001b[39;49m\u001b[38;5;241;43m.\u001b[39;49m\u001b[43m_raise_if_missing\u001b[49m\u001b[43m(\u001b[49m\u001b[43mkeyarr\u001b[49m\u001b[43m,\u001b[49m\u001b[43m \u001b[49m\u001b[43mindexer\u001b[49m\u001b[43m,\u001b[49m\u001b[43m \u001b[49m\u001b[43maxis_name\u001b[49m\u001b[43m)\u001b[49m\n\u001b[1;32m   6110\u001b[0m keyarr \u001b[38;5;241m=\u001b[39m \u001b[38;5;28mself\u001b[39m\u001b[38;5;241m.\u001b[39mtake(indexer)\n\u001b[1;32m   6111\u001b[0m \u001b[38;5;28;01mif\u001b[39;00m \u001b[38;5;28misinstance\u001b[39m(key, Index):\n\u001b[1;32m   6112\u001b[0m     \u001b[38;5;66;03m# GH 42790 - Preserve name from an Index\u001b[39;00m\n",
      "File \u001b[0;32m/opt/conda/lib/python3.10/site-packages/pandas/core/indexes/base.py:6168\u001b[0m, in \u001b[0;36mIndex._raise_if_missing\u001b[0;34m(self, key, indexer, axis_name)\u001b[0m\n\u001b[1;32m   6166\u001b[0m     \u001b[38;5;28;01mif\u001b[39;00m use_interval_msg:\n\u001b[1;32m   6167\u001b[0m         key \u001b[38;5;241m=\u001b[39m \u001b[38;5;28mlist\u001b[39m(key)\n\u001b[0;32m-> 6168\u001b[0m     \u001b[38;5;28;01mraise\u001b[39;00m \u001b[38;5;167;01mKeyError\u001b[39;00m(\u001b[38;5;124mf\u001b[39m\u001b[38;5;124m\"\u001b[39m\u001b[38;5;124mNone of [\u001b[39m\u001b[38;5;132;01m{\u001b[39;00mkey\u001b[38;5;132;01m}\u001b[39;00m\u001b[38;5;124m] are in the [\u001b[39m\u001b[38;5;132;01m{\u001b[39;00maxis_name\u001b[38;5;132;01m}\u001b[39;00m\u001b[38;5;124m]\u001b[39m\u001b[38;5;124m\"\u001b[39m)\n\u001b[1;32m   6170\u001b[0m not_found \u001b[38;5;241m=\u001b[39m \u001b[38;5;28mlist\u001b[39m(ensure_index(key)[missing_mask\u001b[38;5;241m.\u001b[39mnonzero()[\u001b[38;5;241m0\u001b[39m]]\u001b[38;5;241m.\u001b[39munique())\n\u001b[1;32m   6171\u001b[0m \u001b[38;5;28;01mraise\u001b[39;00m \u001b[38;5;167;01mKeyError\u001b[39;00m(\u001b[38;5;124mf\u001b[39m\u001b[38;5;124m\"\u001b[39m\u001b[38;5;132;01m{\u001b[39;00mnot_found\u001b[38;5;132;01m}\u001b[39;00m\u001b[38;5;124m not in index\u001b[39m\u001b[38;5;124m\"\u001b[39m)\n",
      "\u001b[0;31mKeyError\u001b[0m: \"None of [Index(['revision_id', 'code'], dtype='object')] are in the [columns]\""
     ]
    }
   ],
   "source": [
    "cols_to_join = list(VALIDATION_COLS)\n",
    "cols_to_join.remove(CASE_ID_COL)\n",
    "cols_to_join.append(NORM_CASE_ID_COL)\n",
    "# Ignore the patient ID in this dataset, because it is encrypted\n",
    "cols_to_join.remove(PATIENT_ID_COL)\n",
    "\n",
    "revised_cases, unmatched = revise(file_info, revised_cases_df, validation_cols=cols_to_join)\n",
    "revised_cases.head()"
   ]
  },
  {
   "cell_type": "code",
   "execution_count": null,
   "id": "3ac0315b",
   "metadata": {
    "collapsed": false,
    "jupyter": {
     "outputs_hidden": false
    }
   },
   "outputs": [],
   "source": [
    "if unmatched.shape[0] > 0:\n",
    "    display(unmatched)"
   ]
  },
  {
   "cell_type": "code",
   "execution_count": null,
   "id": "a85b9247-c1dc-4072-a1dd-7b61c8251eeb",
   "metadata": {},
   "outputs": [],
   "source": [
    "revisions_update, diagnoses_update, procedures_update = group(revised_cases)\n",
    "revisions_update[REVISION_DATE_COL] = '2022-12-31'"
   ]
  },
  {
   "cell_type": "code",
   "execution_count": null,
   "id": "492c0392",
   "metadata": {
    "collapsed": false,
    "jupyter": {
     "outputs_hidden": false
    }
   },
   "outputs": [],
   "source": [
    "revisions_update"
   ]
  },
  {
   "cell_type": "code",
   "execution_count": null,
   "id": "04e44c03",
   "metadata": {
    "collapsed": false,
    "jupyter": {
     "outputs_hidden": false
    }
   },
   "outputs": [],
   "source": [
    "update_db(revisions_update, diagnoses_update, procedures_update)"
   ]
  }
 ],
 "metadata": {
  "kernelspec": {
   "display_name": "Python 3 (ipykernel)",
   "language": "python",
   "name": "python3"
  },
  "language_info": {
   "codemirror_mode": {
    "name": "ipython",
    "version": 3
   },
   "file_extension": ".py",
   "mimetype": "text/x-python",
   "name": "python",
   "nbconvert_exporter": "python",
   "pygments_lexer": "ipython3",
   "version": "3.10.6"
  }
 },
 "nbformat": 4,
 "nbformat_minor": 5
}
