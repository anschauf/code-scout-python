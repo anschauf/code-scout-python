{
 "cells": [
  {
   "cell_type": "markdown",
   "id": "a4e2885d",
   "metadata": {
    "tags": []
   },
   "source": [
    "# Revised case normalization for Winterthur 2018\n",
    "\n",
    "Notes:\n",
    "\n",
    "- no 'Admno' or 'Fall Nummer' to be matched to DB"
   ]
  },
  {
   "cell_type": "code",
   "execution_count": 1,
   "id": "d097a048",
   "metadata": {
    "collapsed": false,
    "jupyter": {
     "outputs_hidden": false
    },
    "pycharm": {
     "is_executing": true
    }
   },
   "outputs": [],
   "source": [
    "import sys\n",
    "sys.path.insert(0, '/home/jovyan/work')\n",
    "\n",
    "import pandas as pd\n",
    "from src.revised_case_normalization.notebook_functions.global_configs import *\n",
    "from src.revised_case_normalization.notebook_functions.normalize import normalize\n",
    "from src.revised_case_normalization.notebook_functions.revise import revise, get_sociodemographics_for_hospital_year\n",
    "from src.revised_case_normalization.notebook_functions.group import group\n",
    "from src.revised_case_normalization.notebook_functions.update_db import update_db"
   ]
  },
  {
   "cell_type": "code",
   "execution_count": 2,
   "id": "4710c532",
   "metadata": {
    "collapsed": false,
    "jupyter": {
     "outputs_hidden": false
    }
   },
   "outputs": [
    {
     "name": "stdout",
     "output_type": "stream",
     "text": [
      "FileInfo(path='/home/jovyan/work/src/revised_case_normalization/raw_data/Winterthur.xlsx', hospital_name_db='KSW', year='2018', sheet='Änderungen Winterthur 2018')\n"
     ]
    }
   ],
   "source": [
    "file_info = FileInfo(\n",
    "         os.path.join(ROOT_DIR, 'raw_data/Winterthur.xlsx'),\n",
    "         'KSW',\n",
    "         '2018',\n",
    "         'Änderungen Winterthur 2018')\n",
    "\n",
    "print(file_info)\n",
    "\n"
   ]
  },
  {
   "cell_type": "code",
   "execution_count": 3,
   "id": "8c8b27df",
   "metadata": {
    "collapsed": false,
    "jupyter": {
     "outputs_hidden": false
    }
   },
   "outputs": [
    {
     "name": "stderr",
     "output_type": "stream",
     "text": [
      "2022-11-16 11:18:52.273 | INFO     | src.revised_case_normalization.notebook_functions.normalize:normalize:35 - Read 193 cases for KSW 2018\n",
      "2022-11-16 11:18:52.278 | INFO     | src.revised_case_normalization.notebook_functions.normalize:normalize:70 - TYPES:\n",
      "tranche                                                 string\n",
      "datum                                                   string\n",
      "case_id                                                 object\n",
      "patient_id                                              object\n",
      "kkik                                                    string\n",
      "gender                                                  string\n",
      "age_years                                                int64\n",
      "bfs_code                                                string\n",
      "duration_of_stay                                         int64\n",
      "pflegetage neu                                          string\n",
      "pccl                                                     int64\n",
      "pccl neu                                                string\n",
      "old_pd                                                  string\n",
      "primary_diagnosis                                       string\n",
      "added_icds                                              string\n",
      "removed_icds                                            string\n",
      "added_chops                                             string\n",
      "removed_chops                                           string\n",
      "drg                                                     string\n",
      "drg neu                                                 string\n",
      "cw alt                                                  string\n",
      "cw neu                                                  string\n",
      "cw-änderung vorschlag                                   string\n",
      "cw änderung akzeptiert                                  string\n",
      "kommentar dtod                                          string\n",
      "kommentar ksw                                           string\n",
      "angaben in welchem bericht (drg relevante diagnosen)    string\n",
      "arztanfragen                                            string\n",
      "vorbereitung fallbesprechung                            string\n",
      "case_id_norm                                            object\n",
      "dtype: object\n",
      "2022-11-16 11:18:52.325 | INFO     | src.utils.dataframe_utils:validate_icd_codes:68 - Validated ICD codes in 'added_icds' and stored them into 'added_icds': All rows contain valid codes\n",
      "2022-11-16 11:18:52.333 | INFO     | src.utils.dataframe_utils:validate_icd_codes:68 - Validated ICD codes in 'removed_icds' and stored them into 'removed_icds': All rows contain valid codes\n",
      "2022-11-16 11:18:52.342 | INFO     | src.utils.dataframe_utils:validate_chop_codes:109 - Validated CHOP codes in 'added_chops' and stored them into 'added_chops': The following 2 rows were affected:\n",
      "row 34: discarded CHOPs after validation {' '}\n",
      "row 35: discarded CHOPs after validation {' '}\n",
      "2022-11-16 11:18:52.349 | INFO     | src.utils.dataframe_utils:validate_chop_codes:106 - Validated CHOP codes in 'removed_chops' and stored them into 'removed_chops': All rows contain valid codes\n",
      "2022-11-16 11:18:52.350 | INFO     | src.utils.dataframe_utils:remove_duplicated_chops:32 - Removing duplicated CHOP codes due to different casing ...\n",
      "2022-11-16 11:18:52.366 | INFO     | src.utils.dataframe_utils:validate_pd_revised_sd:161 - Validated redundant PD info in 'added_icds'/'removed_icds': The following 13 rows were affected:\n",
      "row 35: primary diagnosis M4856 => S3203\n",
      "row 63: primary diagnosis J4419 => J4410\n",
      "row 64: primary diagnosis J4411 => J4410\n",
      "row 78: primary diagnosis M8088 => C795\n",
      "row 94: primary diagnosis M8694 => M8614\n",
      "row 99: primary diagnosis J209 => J219\n",
      "row 106: primary diagnosis R104 => R635\n",
      "row 108: primary diagnosis J209 => J205\n",
      "row 109: primary diagnosis I5014 => I480\n",
      "row 111: primary diagnosis S0085 => A090\n",
      "row 128: primary diagnosis O458 => O069\n",
      "row 151: primary diagnosis O48 => O85\n",
      "row 189: primary diagnosis N390 => A491\n",
      "2022-11-16 11:18:52.368 | SUCCESS  | src.revised_case_normalization.notebook_functions.normalize:normalize:108 - Completed validation\n"
     ]
    },
    {
     "data": {
      "text/html": [
       "<div>\n",
       "<style scoped>\n",
       "    .dataframe tbody tr th:only-of-type {\n",
       "        vertical-align: middle;\n",
       "    }\n",
       "\n",
       "    .dataframe tbody tr th {\n",
       "        vertical-align: top;\n",
       "    }\n",
       "\n",
       "    .dataframe thead th {\n",
       "        text-align: right;\n",
       "    }\n",
       "</style>\n",
       "<table border=\"1\" class=\"dataframe\">\n",
       "  <thead>\n",
       "    <tr style=\"text-align: right;\">\n",
       "      <th></th>\n",
       "      <th>case_id</th>\n",
       "      <th>patient_id</th>\n",
       "      <th>gender</th>\n",
       "      <th>age_years</th>\n",
       "      <th>duration_of_stay</th>\n",
       "      <th>case_id_norm</th>\n",
       "      <th>old_pd</th>\n",
       "      <th>primary_diagnosis</th>\n",
       "      <th>bfs_code</th>\n",
       "      <th>pccl</th>\n",
       "      <th>drg</th>\n",
       "      <th>added_icds</th>\n",
       "      <th>removed_icds</th>\n",
       "      <th>added_chops</th>\n",
       "      <th>removed_chops</th>\n",
       "    </tr>\n",
       "  </thead>\n",
       "  <tbody>\n",
       "    <tr>\n",
       "      <th>0</th>\n",
       "      <td>900362200</td>\n",
       "      <td>120A84ED0B5D412F</td>\n",
       "      <td>W</td>\n",
       "      <td>54</td>\n",
       "      <td>8</td>\n",
       "      <td>900362200</td>\n",
       "      <td>C795</td>\n",
       "      <td>C795</td>\n",
       "      <td>M200</td>\n",
       "      <td>3</td>\n",
       "      <td>I10B</td>\n",
       "      <td>[M4957]</td>\n",
       "      <td>[]</td>\n",
       "      <td>[]</td>\n",
       "      <td>[]</td>\n",
       "    </tr>\n",
       "    <tr>\n",
       "      <th>1</th>\n",
       "      <td>900449400</td>\n",
       "      <td>2833C0B8F3FAF2B2</td>\n",
       "      <td>W</td>\n",
       "      <td>80</td>\n",
       "      <td>12</td>\n",
       "      <td>900449400</td>\n",
       "      <td>N1793</td>\n",
       "      <td>N1793</td>\n",
       "      <td>M100</td>\n",
       "      <td>3</td>\n",
       "      <td>L60D</td>\n",
       "      <td>[G2090]</td>\n",
       "      <td>[]</td>\n",
       "      <td>[]</td>\n",
       "      <td>[]</td>\n",
       "    </tr>\n",
       "    <tr>\n",
       "      <th>2</th>\n",
       "      <td>900404910</td>\n",
       "      <td>220435AE84965999</td>\n",
       "      <td>M</td>\n",
       "      <td>79</td>\n",
       "      <td>3</td>\n",
       "      <td>900404910</td>\n",
       "      <td>S3702</td>\n",
       "      <td>S3702</td>\n",
       "      <td>M200</td>\n",
       "      <td>3</td>\n",
       "      <td>L09B</td>\n",
       "      <td>[S3683]</td>\n",
       "      <td>[S3681]</td>\n",
       "      <td>[]</td>\n",
       "      <td>[]</td>\n",
       "    </tr>\n",
       "    <tr>\n",
       "      <th>3</th>\n",
       "      <td>900454320</td>\n",
       "      <td>472E599EDB7090A6</td>\n",
       "      <td>W</td>\n",
       "      <td>66</td>\n",
       "      <td>2</td>\n",
       "      <td>900454320</td>\n",
       "      <td>R410</td>\n",
       "      <td>R410</td>\n",
       "      <td>M100</td>\n",
       "      <td>3</td>\n",
       "      <td>B64B</td>\n",
       "      <td>[L8918]</td>\n",
       "      <td>[L8908]</td>\n",
       "      <td>[]</td>\n",
       "      <td>[]</td>\n",
       "    </tr>\n",
       "    <tr>\n",
       "      <th>4</th>\n",
       "      <td>900475230</td>\n",
       "      <td>B127DAEB25A7546F</td>\n",
       "      <td>W</td>\n",
       "      <td>58</td>\n",
       "      <td>9</td>\n",
       "      <td>900475230</td>\n",
       "      <td>C56</td>\n",
       "      <td>C56</td>\n",
       "      <td>M200</td>\n",
       "      <td>3</td>\n",
       "      <td>N60B</td>\n",
       "      <td>[I1091, K658, Y849]</td>\n",
       "      <td>[I1090]</td>\n",
       "      <td>[]</td>\n",
       "      <td>[]</td>\n",
       "    </tr>\n",
       "  </tbody>\n",
       "</table>\n",
       "</div>"
      ],
      "text/plain": [
       "     case_id        patient_id gender  age_years  duration_of_stay case_id_norm old_pd primary_diagnosis bfs_code  pccl   drg           added_icds removed_icds added_chops removed_chops\n",
       "0  900362200  120A84ED0B5D412F      W         54                 8    900362200   C795              C795     M200     3  I10B              [M4957]           []          []            []\n",
       "1  900449400  2833C0B8F3FAF2B2      W         80                12    900449400  N1793             N1793     M100     3  L60D              [G2090]           []          []            []\n",
       "2  900404910  220435AE84965999      M         79                 3    900404910  S3702             S3702     M200     3  L09B              [S3683]      [S3681]          []            []\n",
       "3  900454320  472E599EDB7090A6      W         66                 2    900454320   R410              R410     M100     3  B64B              [L8918]      [L8908]          []            []\n",
       "4  900475230  B127DAEB25A7546F      W         58                 9    900475230    C56               C56     M200     3  N60B  [I1091, K658, Y849]      [I1090]          []            []"
      ]
     },
     "execution_count": 3,
     "metadata": {},
     "output_type": "execute_result"
    }
   ],
   "source": [
    "columns_to_rename = dict(COLUMNS_TO_RENAME)\n",
    "columns_to_rename.pop(\"admno\")\n",
    "columns_to_rename['fid'] = CASE_ID_COL\n",
    "\n",
    "revised_cases_df = normalize(file_info, columns_mapper = columns_to_rename)\n",
    "revised_cases_df.head()"
   ]
  },
  {
   "cell_type": "code",
   "execution_count": 4,
   "id": "a5996232-14a9-4f5e-a548-29cc862bb69b",
   "metadata": {},
   "outputs": [],
   "source": [
    "# Replace case_id with mapped case_ids from DtoD\n",
    "\n",
    "case_id_mapped = pd.read_excel(os.path.join(ROOT_DIR, 'case_id_mappings/case_id_mapping_KSW_2018.xlsx')).astype(str)"
   ]
  },
  {
   "cell_type": "code",
   "execution_count": 5,
   "id": "635ed8b7-669a-4206-82ad-b093a354a062",
   "metadata": {},
   "outputs": [],
   "source": [
    "# merge case_id mappings with revised cases and replace values in 'case_id_norm' column with mapped case ids\n",
    "\n",
    "revised_cases_df = pd.merge(revised_cases_df, case_id_mapped, on =\"case_id\", how = \"left\")\n",
    "revised_cases_df = revised_cases_df.drop('case_id_norm', axis=1)\n",
    "revised_cases_df.rename(columns = {'case_id_mapped':'case_id_norm'}, inplace=True)"
   ]
  },
  {
   "cell_type": "markdown",
   "id": "a6796573",
   "metadata": {
    "tags": []
   },
   "source": [
    "# Match revised DtoD data with the BfS data from the database"
   ]
  },
  {
   "cell_type": "code",
   "execution_count": 6,
   "id": "65408537-cd4a-4b7c-a785-0db424378909",
   "metadata": {},
   "outputs": [
    {
     "name": "stderr",
     "output_type": "stream",
     "text": [
      "2022-11-16 11:18:53.913 | INFO     | src.service.bfs_cases_db_service:get_sociodemographics_for_hospital_year:90 - Read 27501 rows from the DB, for the hospital 'KSW' in 2018\n"
     ]
    }
   ],
   "source": [
    "cols_to_join = list(VALIDATION_COLS)\n",
    "cols_to_join.remove(CASE_ID_COL)\n",
    "cols_to_join.append(NORM_CASE_ID_COL)\n",
    "\n",
    "# Ignore the patient ID in this dataset, because it is encrypted\n",
    "cols_to_join.remove(PATIENT_ID_COL)\n",
    "\n",
    "revised_cases, unmatched = revise(file_info, revised_cases_df, validation_cols=cols_to_join)"
   ]
  },
  {
   "cell_type": "code",
   "execution_count": 7,
   "id": "3ac0315b",
   "metadata": {
    "collapsed": false,
    "jupyter": {
     "outputs_hidden": false
    }
   },
   "outputs": [],
   "source": [
    "if unmatched.shape[0] > 0:\n",
    "    display(unmatched)"
   ]
  },
  {
   "cell_type": "code",
   "execution_count": 8,
   "id": "a85b9247-c1dc-4072-a1dd-7b61c8251eeb",
   "metadata": {},
   "outputs": [
    {
     "name": "stderr",
     "output_type": "stream",
     "text": [
      "2022-11-16 11:18:54.379 | INFO     | src.revised_case_normalization.notebook_functions.group:group:83 - Grouping 193 cases ...\n",
      "2022-11-16 11:18:55.461 | SUCCESS  | src.revised_case_normalization.notebook_functions.group:group:88 - Grouped 193 cases into: 193 revisions, 1785 diagnoses rows, 631 procedure rows\n"
     ]
    }
   ],
   "source": [
    "revisions_update, diagnoses_update, procedures_update = group(revised_cases)\n",
    "revisions_update[REVISION_DATE_COL] = '2022-12-31'"
   ]
  },
  {
   "cell_type": "code",
   "execution_count": 9,
   "id": "492c0392",
   "metadata": {
    "collapsed": false,
    "jupyter": {
     "outputs_hidden": false
    }
   },
   "outputs": [
    {
     "data": {
      "text/html": [
       "<div>\n",
       "<style scoped>\n",
       "    .dataframe tbody tr th:only-of-type {\n",
       "        vertical-align: middle;\n",
       "    }\n",
       "\n",
       "    .dataframe tbody tr th {\n",
       "        vertical-align: top;\n",
       "    }\n",
       "\n",
       "    .dataframe thead th {\n",
       "        text-align: right;\n",
       "    }\n",
       "</style>\n",
       "<table border=\"1\" class=\"dataframe\">\n",
       "  <thead>\n",
       "    <tr style=\"text-align: right;\">\n",
       "      <th></th>\n",
       "      <th>aimedic_id</th>\n",
       "      <th>drg</th>\n",
       "      <th>drg_cost_weight</th>\n",
       "      <th>effective_cost_weight</th>\n",
       "      <th>pccl</th>\n",
       "      <th>revision_date</th>\n",
       "    </tr>\n",
       "  </thead>\n",
       "  <tbody>\n",
       "    <tr>\n",
       "      <th>0</th>\n",
       "      <td>198354</td>\n",
       "      <td>H61A</td>\n",
       "      <td>1.35</td>\n",
       "      <td>1.35</td>\n",
       "      <td>4</td>\n",
       "      <td>2022-12-31</td>\n",
       "    </tr>\n",
       "    <tr>\n",
       "      <th>1</th>\n",
       "      <td>198498</td>\n",
       "      <td>O01D</td>\n",
       "      <td>1.22</td>\n",
       "      <td>1.22</td>\n",
       "      <td>3</td>\n",
       "      <td>2022-12-31</td>\n",
       "    </tr>\n",
       "    <tr>\n",
       "      <th>2</th>\n",
       "      <td>198565</td>\n",
       "      <td>E77C</td>\n",
       "      <td>1.13</td>\n",
       "      <td>1.13</td>\n",
       "      <td>4</td>\n",
       "      <td>2022-12-31</td>\n",
       "    </tr>\n",
       "    <tr>\n",
       "      <th>3</th>\n",
       "      <td>198592</td>\n",
       "      <td>E69B</td>\n",
       "      <td>0.60</td>\n",
       "      <td>0.60</td>\n",
       "      <td>3</td>\n",
       "      <td>2022-12-31</td>\n",
       "    </tr>\n",
       "    <tr>\n",
       "      <th>4</th>\n",
       "      <td>198897</td>\n",
       "      <td>L18A</td>\n",
       "      <td>1.70</td>\n",
       "      <td>1.70</td>\n",
       "      <td>4</td>\n",
       "      <td>2022-12-31</td>\n",
       "    </tr>\n",
       "    <tr>\n",
       "      <th>...</th>\n",
       "      <td>...</td>\n",
       "      <td>...</td>\n",
       "      <td>...</td>\n",
       "      <td>...</td>\n",
       "      <td>...</td>\n",
       "      <td>...</td>\n",
       "    </tr>\n",
       "    <tr>\n",
       "      <th>188</th>\n",
       "      <td>225152</td>\n",
       "      <td>E71A</td>\n",
       "      <td>1.37</td>\n",
       "      <td>1.37</td>\n",
       "      <td>4</td>\n",
       "      <td>2022-12-31</td>\n",
       "    </tr>\n",
       "    <tr>\n",
       "      <th>189</th>\n",
       "      <td>225169</td>\n",
       "      <td>I02B</td>\n",
       "      <td>5.21</td>\n",
       "      <td>5.21</td>\n",
       "      <td>4</td>\n",
       "      <td>2022-12-31</td>\n",
       "    </tr>\n",
       "    <tr>\n",
       "      <th>190</th>\n",
       "      <td>225311</td>\n",
       "      <td>G72A</td>\n",
       "      <td>0.95</td>\n",
       "      <td>0.95</td>\n",
       "      <td>4</td>\n",
       "      <td>2022-12-31</td>\n",
       "    </tr>\n",
       "    <tr>\n",
       "      <th>191</th>\n",
       "      <td>225633</td>\n",
       "      <td>L63D</td>\n",
       "      <td>0.65</td>\n",
       "      <td>0.65</td>\n",
       "      <td>3</td>\n",
       "      <td>2022-12-31</td>\n",
       "    </tr>\n",
       "    <tr>\n",
       "      <th>192</th>\n",
       "      <td>225783</td>\n",
       "      <td>H41A</td>\n",
       "      <td>2.38</td>\n",
       "      <td>2.38</td>\n",
       "      <td>4</td>\n",
       "      <td>2022-12-31</td>\n",
       "    </tr>\n",
       "  </tbody>\n",
       "</table>\n",
       "<p>193 rows × 6 columns</p>\n",
       "</div>"
      ],
      "text/plain": [
       "     aimedic_id   drg  drg_cost_weight  effective_cost_weight  pccl revision_date\n",
       "0        198354  H61A             1.35                   1.35     4    2022-12-31\n",
       "1        198498  O01D             1.22                   1.22     3    2022-12-31\n",
       "2        198565  E77C             1.13                   1.13     4    2022-12-31\n",
       "3        198592  E69B             0.60                   0.60     3    2022-12-31\n",
       "4        198897  L18A             1.70                   1.70     4    2022-12-31\n",
       "..          ...   ...              ...                    ...   ...           ...\n",
       "188      225152  E71A             1.37                   1.37     4    2022-12-31\n",
       "189      225169  I02B             5.21                   5.21     4    2022-12-31\n",
       "190      225311  G72A             0.95                   0.95     4    2022-12-31\n",
       "191      225633  L63D             0.65                   0.65     3    2022-12-31\n",
       "192      225783  H41A             2.38                   2.38     4    2022-12-31\n",
       "\n",
       "[193 rows x 6 columns]"
      ]
     },
     "execution_count": 9,
     "metadata": {},
     "output_type": "execute_result"
    }
   ],
   "source": [
    "revisions_update"
   ]
  },
  {
   "cell_type": "code",
   "execution_count": 10,
   "id": "04e44c03",
   "metadata": {
    "collapsed": false,
    "jupyter": {
     "outputs_hidden": false
    }
   },
   "outputs": [
    {
     "name": "stderr",
     "output_type": "stream",
     "text": [
      "2022-11-16 11:18:55.481 | INFO     | src.service.bfs_cases_db_service:insert_revised_cases_into_revisions:249 - Trying to insert 193 cases into the 'Revisions' table ...\n",
      "2022-11-16 11:18:56.020 | INFO     | src.service.bfs_cases_db_service:insert_revised_cases_into_revisions:275 - Deleted 193 rows from the \"Revisions\" table, which is about to be updated\n",
      "2022-11-16 11:18:56.106 | SUCCESS  | src.service.bfs_cases_db_service:insert_revised_cases_into_revisions:286 - Inserted 193 cases into the 'Revisions' table\n",
      "2022-11-16 11:18:56.109 | INFO     | src.service.bfs_cases_db_service:insert_revised_cases_into_diagnoses:298 - Trying to insert 1785 rows into the 'Diagnoses' table ...\n",
      "2022-11-16 11:19:00.300 | SUCCESS  | src.service.bfs_cases_db_service:insert_revised_cases_into_diagnoses:336 - Inserted 1785 rows into the 'Diagnoses' table\n",
      "2022-11-16 11:19:00.304 | INFO     | src.service.bfs_cases_db_service:insert_revised_cases_into_procedures:347 - Trying to insert 631 rows into the 'Procedures' table ...\n",
      "2022-11-16 11:19:01.323 | SUCCESS  | src.service.bfs_cases_db_service:insert_revised_cases_into_procedures:393 - Inserted 631 rows into the 'Procedures' table\n"
     ]
    }
   ],
   "source": [
    "update_db(revisions_update, diagnoses_update, procedures_update)"
   ]
  }
 ],
 "metadata": {
  "kernelspec": {
   "display_name": "Python 3 (ipykernel)",
   "language": "python",
   "name": "python3"
  },
  "language_info": {
   "codemirror_mode": {
    "name": "ipython",
    "version": 3
   },
   "file_extension": ".py",
   "mimetype": "text/x-python",
   "name": "python",
   "nbconvert_exporter": "python",
   "pygments_lexer": "ipython3",
   "version": "3.10.6"
  }
 },
 "nbformat": 4,
 "nbformat_minor": 5
}
