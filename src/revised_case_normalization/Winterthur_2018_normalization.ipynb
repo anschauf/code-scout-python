{
 "cells": [
  {
   "cell_type": "markdown",
   "id": "a4e2885d",
   "metadata": {
    "tags": []
   },
   "source": [
    "# Revised case normalization for Winterthur 2018\n",
    "\n",
    "Notes:\n",
    "\n",
    "- no 'Admno' or 'Fall Nummer' to be matched to DB"
   ]
  },
  {
   "cell_type": "code",
   "execution_count": 1,
   "id": "d097a048",
   "metadata": {
    "collapsed": false,
    "jupyter": {
     "outputs_hidden": false
    },
    "pycharm": {
     "is_executing": true
    }
   },
   "outputs": [],
   "source": [
    "import sys\n",
    "sys.path.insert(0, '/home/jovyan/work')\n",
    "\n",
    "from src.revised_case_normalization.notebook_functions.global_configs import *\n",
    "from src.revised_case_normalization.notebook_functions.normalize import normalize\n",
    "from src.revised_case_normalization.notebook_functions.revise import revise\n",
    "from src.revised_case_normalization.notebook_functions.group import group\n",
    "from src.revised_case_normalization.notebook_functions.update_db import update_db"
   ]
  },
  {
   "cell_type": "code",
   "execution_count": 2,
   "id": "4710c532",
   "metadata": {
    "collapsed": false,
    "jupyter": {
     "outputs_hidden": false
    }
   },
   "outputs": [
    {
     "name": "stdout",
     "output_type": "stream",
     "text": [
      "FileInfo(path='/home/jovyan/work/src/revised_case_normalization/raw_data/Winterthur.xlsx', hospital_name_db='KSW', year='2018', sheet='Änderungen Winterthur 2018')\n"
     ]
    }
   ],
   "source": [
    "file_info = FileInfo(\n",
    "         os.path.join(ROOT_DIR, 'raw_data/Winterthur.xlsx'),\n",
    "         'KSW',\n",
    "         '2018',\n",
    "         'Änderungen Winterthur 2018')\n",
    "\n",
    "print(file_info)\n",
    "\n"
   ]
  },
  {
   "cell_type": "code",
   "execution_count": 3,
   "id": "8c8b27df",
   "metadata": {
    "collapsed": false,
    "jupyter": {
     "outputs_hidden": false
    }
   },
   "outputs": [
    {
     "name": "stderr",
     "output_type": "stream",
     "text": [
      "2022-11-11 08:48:56.669 | INFO     | src.revised_case_normalization.notebook_functions.normalize:normalize:35 - Read 193 cases for KSW 2018\n"
     ]
    },
    {
     "ename": "ValueError",
     "evalue": "The following columns to rename did not exist: ['admno']",
     "output_type": "error",
     "traceback": [
      "\u001b[0;31m---------------------------------------------------------------------------\u001b[0m",
      "\u001b[0;31mValueError\u001b[0m                                Traceback (most recent call last)",
      "Cell \u001b[0;32mIn [3], line 1\u001b[0m\n\u001b[0;32m----> 1\u001b[0m revised_cases_df \u001b[38;5;241m=\u001b[39m normalize(file_info)\n\u001b[1;32m      2\u001b[0m revised_cases_df\n",
      "File \u001b[0;32m<@beartype(src.revised_case_normalization.notebook_functions.normalize.normalize) at 0xffff4e0daef0>:76\u001b[0m, in \u001b[0;36mnormalize\u001b[0;34m(__beartype_func, __beartype_get_violation, __beartype_object_187650978268784, __beartype_object_187650987301568, *args, **kwargs)\u001b[0m\n",
      "File \u001b[0;32m~/work/src/revised_case_normalization/notebook_functions/normalize.py:46\u001b[0m, in \u001b[0;36mnormalize\u001b[0;34m(fi, columns_mapper, columns_to_lstrip, columns_to_cast)\u001b[0m\n\u001b[1;32m     44\u001b[0m non_existing_columns_to_rename \u001b[38;5;241m=\u001b[39m \u001b[38;5;28mset\u001b[39m(columns_mapper\u001b[38;5;241m.\u001b[39mkeys())\u001b[38;5;241m.\u001b[39mdifference(df\u001b[38;5;241m.\u001b[39mcolumns)\n\u001b[1;32m     45\u001b[0m \u001b[38;5;28;01mif\u001b[39;00m \u001b[38;5;28mlen\u001b[39m(non_existing_columns_to_rename) \u001b[38;5;241m>\u001b[39m \u001b[38;5;241m0\u001b[39m:\n\u001b[0;32m---> 46\u001b[0m     \u001b[38;5;28;01mraise\u001b[39;00m \u001b[38;5;167;01mValueError\u001b[39;00m(\u001b[38;5;124mf\u001b[39m\u001b[38;5;124m'\u001b[39m\u001b[38;5;124mThe following columns to rename did not exist: \u001b[39m\u001b[38;5;132;01m{\u001b[39;00m\u001b[38;5;28msorted\u001b[39m(\u001b[38;5;28mlist\u001b[39m(non_existing_columns_to_rename))\u001b[38;5;132;01m}\u001b[39;00m\u001b[38;5;124m'\u001b[39m)\n\u001b[1;32m     47\u001b[0m df\u001b[38;5;241m.\u001b[39mrename(columns\u001b[38;5;241m=\u001b[39mcolumns_mapper, inplace\u001b[38;5;241m=\u001b[39m\u001b[38;5;28;01mTrue\u001b[39;00m)\n\u001b[1;32m     49\u001b[0m \u001b[38;5;66;03m# Fix unavailable duration of stay\u001b[39;00m\n",
      "\u001b[0;31mValueError\u001b[0m: The following columns to rename did not exist: ['admno']"
     ]
    }
   ],
   "source": [
    "revised_cases_df = normalize(file_info)\n",
    "revised_cases_df"
   ]
  },
  {
   "cell_type": "markdown",
   "id": "a6796573",
   "metadata": {
    "tags": []
   },
   "source": [
    "# Match revised DtoD data with the BfS data from the database"
   ]
  },
  {
   "cell_type": "code",
   "execution_count": null,
   "id": "65408537-cd4a-4b7c-a785-0db424378909",
   "metadata": {},
   "outputs": [],
   "source": [
    "cols_to_join = list(VALIDATION_COLS)\n",
    "cols_to_join.remove(CASE_ID_COL)\n",
    "cols_to_join.append(NORM_CASE_ID_COL)\n",
    "# Ignore the patient ID in this dataset, because it is encrypted\n",
    "cols_to_join.remove(PATIENT_ID_COL)\n",
    "\n",
    "revised_cases, unmatched = revise(file_info, revised_cases_df, validation_cols=cols_to_join)\n",
    "revised_cases.head()"
   ]
  },
  {
   "cell_type": "code",
   "execution_count": null,
   "id": "3ac0315b",
   "metadata": {
    "collapsed": false,
    "jupyter": {
     "outputs_hidden": false
    }
   },
   "outputs": [],
   "source": [
    "if unmatched.shape[0] > 0:\n",
    "    unmatched"
   ]
  },
  {
   "cell_type": "code",
   "execution_count": null,
   "id": "a85b9247-c1dc-4072-a1dd-7b61c8251eeb",
   "metadata": {},
   "outputs": [],
   "source": [
    "revisions_update, diagnoses_update, procedures_update = group(revised_cases)\n",
    "revisions_update[REVISION_DATE_COL] = '2022-12-31'"
   ]
  },
  {
   "cell_type": "code",
   "execution_count": null,
   "id": "492c0392",
   "metadata": {
    "collapsed": false,
    "jupyter": {
     "outputs_hidden": false
    }
   },
   "outputs": [],
   "source": [
    "revisions_update"
   ]
  },
  {
   "cell_type": "code",
   "execution_count": null,
   "id": "04e44c03",
   "metadata": {
    "collapsed": false,
    "jupyter": {
     "outputs_hidden": false
    }
   },
   "outputs": [],
   "source": [
    "update_db(revisions_update, diagnoses_update, procedures_update)"
   ]
  }
 ],
 "metadata": {
  "kernelspec": {
   "display_name": "Python 3 (ipykernel)",
   "language": "python",
   "name": "python3"
  },
  "language_info": {
   "codemirror_mode": {
    "name": "ipython",
    "version": 3
   },
   "file_extension": ".py",
   "mimetype": "text/x-python",
   "name": "python",
   "nbconvert_exporter": "python",
   "pygments_lexer": "ipython3",
   "version": "3.10.6"
  }
 },
 "nbformat": 4,
 "nbformat_minor": 5
}
